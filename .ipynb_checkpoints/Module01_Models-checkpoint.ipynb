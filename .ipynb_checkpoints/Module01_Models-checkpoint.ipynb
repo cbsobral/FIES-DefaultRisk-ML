{
 "cells": [
  {
   "cell_type": "markdown",
   "metadata": {
    "id": "view-in-github"
   },
   "source": [
    "<a href=\"https://colab.research.google.com/github/cbsobral/ml-fies/blob/main/Module01_Models.ipynb\" target=\"_parent\"><img src=\"https://colab.research.google.com/assets/colab-badge.svg\" alt=\"Open In Colab\"/></a>"
   ]
  },
  {
   "cell_type": "markdown",
   "metadata": {
    "id": "QNfxqJE4km2n"
   },
   "source": [
    "\n",
    "\n",
    "```\n",
    "# This is formatted as code\n",
    "```\n",
    "\n",
    "### 1 - Load Dataset and exploring data\n",
    "\n",
    "Here, we import the train set create in Module00_Data. \n"
   ]
  },
  {
   "cell_type": "code",
   "execution_count": null,
   "metadata": {
    "colab": {
     "base_uri": "https://localhost:8080/"
    },
    "id": "m1T2rReQkmI5",
    "outputId": "c7f806fc-d654-4112-9ab9-80a637a65f48"
   },
   "outputs": [
    {
     "data": {
      "text/plain": [
       "(496735, 31)"
      ]
     },
     "execution_count": 34,
     "metadata": {
      "tags": []
     },
     "output_type": "execute_result"
    }
   ],
   "source": [
    "import pandas as pd\n",
    "\n",
    "url_train = \"https://drive.google.com/file/d/1vnDCyMQxbE7HfsQ3vU7jg0XQmmgsBU5G/view?usp=sharing\"\n",
    "path_train = \"https://drive.google.com/uc?export=download&id=\"+url_train.split(\"/\")[-2]\n",
    "train = pd.read_csv(path_train)\n",
    "train.shape"
   ]
  },
  {
   "cell_type": "code",
   "execution_count": null,
   "metadata": {
    "colab": {
     "base_uri": "https://localhost:8080/"
    },
    "id": "XaJOQTurG_Li",
    "outputId": "aef7e898-602b-4994-b11c-499aeb208a88"
   },
   "outputs": [],
   "source": [
    "url_test = \"https://drive.google.com/file/d/1nXdt-4qTFZ823-xgbBJb7XgYRkSWLxAn/view?usp=sharing\"\n",
    "path_test = \"https://drive.google.com/uc?export=download&id=\"+url_test.split(\"/\")[-2]\n",
    "test = pd.read_csv(path_test)\n",
    "test.shape"
   ]
  },
  {
   "cell_type": "code",
   "execution_count": null,
   "metadata": {
    "id": "psNgDRsr2rMz"
   },
   "outputs": [],
   "source": [
    "train_set = train.drop(\"default\", axis=1) # drop targets for training set\n",
    "train_target = train[\"default\"].copy()"
   ]
  },
  {
   "cell_type": "code",
   "execution_count": null,
   "metadata": {
    "id": "CJhx2yRNHRoy"
   },
   "outputs": [],
   "source": [
    "test_set = test.drop(\"default\", axis=1) # drop targets for test set\n",
    "test_target = test[\"default\"].copy()"
   ]
  },
  {
   "cell_type": "code",
   "execution_count": null,
   "metadata": {
    "id": "6_EMzB7uVmPD"
   },
   "outputs": [],
   "source": [
    "train_set['label'] = 'train'\n",
    "test_set['label'] = 'test'"
   ]
  },
  {
   "cell_type": "code",
   "execution_count": null,
   "metadata": {
    "colab": {
     "base_uri": "https://localhost:8080/"
    },
    "id": "v9r8zUWRVKUf",
    "outputId": "097fd058-bcd0-49df-f126-46c9e155dfc7"
   },
   "outputs": [
    {
     "data": {
      "text/plain": [
       "(620919, 31)"
      ]
     },
     "execution_count": 65,
     "metadata": {
      "tags": []
     },
     "output_type": "execute_result"
    }
   ],
   "source": [
    "complete_set = train_set.append(test_set)\n",
    "complete_set.shape"
   ]
  },
  {
   "cell_type": "code",
   "execution_count": null,
   "metadata": {
    "id": "B-8CpzxfYIRs"
   },
   "outputs": [],
   "source": [
    "train_set"
   ]
  },
  {
   "cell_type": "markdown",
   "metadata": {
    "id": "BUoM9ZG54IRr"
   },
   "source": [
    "Here are some graphs of important variables in the training set:"
   ]
  },
  {
   "cell_type": "code",
   "execution_count": null,
   "metadata": {
    "id": "FzIp0rPO4ORm"
   },
   "outputs": [],
   "source": [
    "import matplotlib.pyplot as plt\n",
    "import seaborn as sns \n",
    "\n",
    "default_0 = \"{:.0%}\".format(sum(train[\"default\"]==0)/len(train))\n",
    "default_1 = \"{:.0%}\".format(sum(train[\"default\"]==1)/len(train))\n",
    "\n",
    "sns.catplot(x=\"default\", kind=\"count\", palette=\"Set2\", data=train)\n",
    "plt.annotate(default_0, xy=(0,214000))\n",
    "plt.annotate(default_1, xy=(1,141000))\n",
    "plt.title(\"Proportion of good (green) and bad borrowers in the training set\")\n",
    "plt.xlabel(\"Default Status\")\n",
    "plt.ylabel(\"Counts\")"
   ]
  },
  {
   "cell_type": "markdown",
   "metadata": {
    "id": "kCXI6uzx4WUE"
   },
   "source": [
    "Above, we can see that we have an unbalanced training set. Around 60% of the instances are labeled as 0 (good borrowers) while around 40% are labeled as 1 (bad borrrowers.)"
   ]
  },
  {
   "cell_type": "code",
   "execution_count": null,
   "metadata": {
    "id": "AB-NHBzs4Yct"
   },
   "outputs": [],
   "source": [
    "plot_age = sns.displot(train, x=\"age\", kind=\"kde\", hue = \"default\",palette=\"Set2\", fill = \"true\" )\n",
    "plt.title(\"Density plot of age by default status\")\n",
    "plot_age.set(xlim=(10, 70))\n",
    "plt.show()"
   ]
  },
  {
   "cell_type": "markdown",
   "metadata": {
    "id": "RrsAvO_T4gAP"
   },
   "source": [
    "We assumed we would have more distinct distributions of age for the two default status because some previous work found that age is a good predictor of default. Here, however, the distributions seem pretty similar."
   ]
  },
  {
   "cell_type": "code",
   "execution_count": null,
   "metadata": {
    "id": "26FhhRzq4hJB"
   },
   "outputs": [],
   "source": [
    "plot_income = sns.displot(train, x=\"income_pc\", kind=\"kde\", hue = \"default\",palette=\"Set2\", fill = \"true\" )\n",
    "plt.title(\"Density plot of income by default status\")\n",
    "plot_income.set(xlim=(0, 5000))"
   ]
  },
  {
   "cell_type": "markdown",
   "metadata": {
    "id": "0PCdIEst4kAR"
   },
   "source": [
    "As we saw previously, income per capita is a good predictor of default status. Above we can see that for values higher than 1000, the probability of being a good borrower (green) is a lot higher than the default probability."
   ]
  },
  {
   "cell_type": "markdown",
   "metadata": {
    "id": "VIJ6MzxrogIO"
   },
   "source": [
    "### 2 - Pipeline\n",
    "\n",
    "The pipeline contains functions that will be used to transform the dataset. For the numeric attributes, we employ XXX."
   ]
  },
  {
   "cell_type": "code",
   "execution_count": null,
   "metadata": {
    "id": "NjKb_CdHogIR"
   },
   "outputs": [],
   "source": [
    "from sklearn.pipeline import Pipeline\n",
    "from sklearn.preprocessing import StandardScaler\n",
    "from sklearn.impute import SimpleImputer\n",
    "\n",
    "\n",
    "num_pipeline = Pipeline([\n",
    "        (\"num_imputer\", SimpleImputer(strategy=\"median\")),\n",
    "        (\"std_scaler\", StandardScaler()),\n",
    "    ])"
   ]
  },
  {
   "cell_type": "code",
   "execution_count": null,
   "metadata": {
    "id": "IGJn2aCfAuXj"
   },
   "outputs": [],
   "source": [
    "from sklearn.pipeline import Pipeline\n",
    "from sklearn.preprocessing import OrdinalEncoder\n",
    "\n",
    "ord_pipeline = Pipeline([\n",
    "        (\"ord_imputer\", SimpleImputer(strategy=\"most_frequent\")),\n",
    "        (\"ord_encoder\", OrdinalEncoder()),\n",
    "    ])"
   ]
  },
  {
   "cell_type": "code",
   "execution_count": null,
   "metadata": {
    "id": "3gaCsGRFogIR"
   },
   "outputs": [],
   "source": [
    "ord_attribs = ['igc','date_contract'] # 2 attributes\n",
    "\n",
    "num_attribs = ['family_income',   #17\n",
    "               'personal_income',\n",
    "               'high_school_endyear',\n",
    "               'n_sem_course',\n",
    "               'n_completed_sem',\n",
    "               'sem_funded',\n",
    "               'fam_size',\n",
    "               'income_pc',\n",
    "               'tuition_current',\n",
    "               'inc_prop',\n",
    "               'perc_requested',\n",
    "               'loan_value_sem',\n",
    "               'student_resource',\n",
    "               'loan_value',\n",
    "               'loan_limit',\n",
    "               'total_debt',\n",
    "               'age']\n",
    "  \n",
    "\n",
    "cat_attribs = ['semester_enroll',  #9\n",
    "               'gender',\n",
    "               'occupation', \n",
    "               'marital_status',\n",
    "               'ethnicity', \n",
    "               'public_hs', \n",
    "               'state_course', \n",
    "               'degree', \n",
    "               'contract_phase']"
   ]
  },
  {
   "cell_type": "code",
   "execution_count": null,
   "metadata": {
    "id": "jgFC9XOHAuXk"
   },
   "outputs": [],
   "source": [
    "from sklearn.compose import ColumnTransformer\n",
    "from sklearn.preprocessing import OneHotEncoder\n",
    "\n",
    "full_pipeline = ColumnTransformer([\n",
    "        (\"num\", num_pipeline, num_attribs),\n",
    "        (\"cat\", OneHotEncoder(), cat_attribs),\n",
    "        (\"ord\", ord_pipeline,ord_attribs)\n",
    "        ])"
   ]
  },
  {
   "cell_type": "code",
   "execution_count": null,
   "metadata": {
    "id": "BGEokMJdAuXl"
   },
   "outputs": [],
   "source": [
    "train_prepared = full_pipeline.fit_transform(train_set)\n",
    "test_prepared = full_pipeline.fit_transform(test_set)"
   ]
  },
  {
   "cell_type": "code",
   "execution_count": null,
   "metadata": {
    "id": "fwArsAoEV0wA"
   },
   "outputs": [],
   "source": [
    "complete_prepared = full_pipeline.fit_transform(complete_set)"
   ]
  },
  {
   "cell_type": "code",
   "execution_count": null,
   "metadata": {
    "colab": {
     "base_uri": "https://localhost:8080/"
    },
    "id": "ssecMB_sJigB",
    "outputId": "ac4c3caa-069a-42ba-d957-3688bda458e1"
   },
   "outputs": [
    {
     "data": {
      "text/plain": [
       "<1x568 sparse matrix of type '<class 'numpy.float64'>'\n",
       "\twith 28 stored elements in Compressed Sparse Row format>"
      ]
     },
     "execution_count": 61,
     "metadata": {
      "tags": []
     },
     "output_type": "execute_result"
    }
   ],
   "source": [
    "train_prepared[:1]"
   ]
  },
  {
   "cell_type": "code",
   "execution_count": null,
   "metadata": {
    "colab": {
     "base_uri": "https://localhost:8080/"
    },
    "id": "JtlBac6BXY4k",
    "outputId": "e66796b0-8904-4bee-f25d-0dbc49da82f8"
   },
   "outputs": [
    {
     "data": {
      "text/plain": [
       "<1x505 sparse matrix of type '<class 'numpy.float64'>'\n",
       "\twith 28 stored elements in Compressed Sparse Row format>"
      ]
     },
     "execution_count": 62,
     "metadata": {
      "tags": []
     },
     "output_type": "execute_result"
    }
   ],
   "source": [
    "test_prepared[:1]"
   ]
  },
  {
   "cell_type": "code",
   "execution_count": null,
   "metadata": {
    "colab": {
     "base_uri": "https://localhost:8080/"
    },
    "id": "YoYvciu6a1k8",
    "outputId": "7b18b6b5-72e3-41a2-858a-74e3825950b1"
   },
   "outputs": [
    {
     "data": {
      "text/plain": [
       "<1x580 sparse matrix of type '<class 'numpy.float64'>'\n",
       "\twith 28 stored elements in Compressed Sparse Row format>"
      ]
     },
     "execution_count": 67,
     "metadata": {
      "tags": []
     },
     "output_type": "execute_result"
    }
   ],
   "source": [
    "complete_prepared[:1]"
   ]
  },
  {
   "cell_type": "markdown",
   "metadata": {
    "id": "3CASdeLRZ_ZZ"
   },
   "source": [
    "### 3 - Classifiers\n",
    "\n",
    "For the initial runs, we employ 5 methods: Logistic regression, decision tree, random forest, SVC and ANN. The best result so far was achieved with the ANN -- AUC of XX. \n"
   ]
  },
  {
   "cell_type": "code",
   "execution_count": null,
   "metadata": {
    "id": "kIeJWYMpHFQ1"
   },
   "outputs": [],
   "source": [
    "from sklearn.linear_model import LogisticRegression\n",
    "from sklearn.model_selection import cross_val_score\n",
    "\n",
    "logr = LogisticRegression(max_iter=1000, random_state=42, solver='lbfgs')\n",
    "logr.fit(train_prepared, train_target)\n",
    "(cross_val_score(logr, train_prepared, train_target, cv=3, scoring=\"roc_auc\")).mean()"
   ]
  },
  {
   "cell_type": "code",
   "execution_count": null,
   "metadata": {
    "colab": {
     "base_uri": "https://localhost:8080/"
    },
    "id": "MOfEBJV5jZS6",
    "outputId": "d9b59eb2-a696-4108-a124-c8ddd532d5cc"
   },
   "outputs": [
    {
     "data": {
      "text/plain": [
       "0.6571229277170021"
      ]
     },
     "execution_count": 67,
     "metadata": {
      "tags": []
     },
     "output_type": "execute_result"
    }
   ],
   "source": [
    "from sklearn.tree import DecisionTreeClassifier \n",
    "\n",
    "dtc = DecisionTreeClassifier()\n",
    "dtc = dtc.fit(train_prepared, train_target)\n",
    "(cross_val_score(dtc, train_prepared, train_target, cv=3, scoring=\"roc_auc\")).mean()"
   ]
  },
  {
   "cell_type": "code",
   "execution_count": null,
   "metadata": {
    "id": "-99RFgmhHsem"
   },
   "outputs": [],
   "source": [
    "from sklearn.ensemble import RandomForestClassifier\n",
    "\n",
    "rf = RandomForestClassifier()\n",
    "rf.fit(train_prepared, train_target)\n",
    "(cross_val_score(rf, train_prepared, train_target, cv=3, scoring=\"roc_auc\")).mean()"
   ]
  },
  {
   "cell_type": "code",
   "execution_count": null,
   "metadata": {
    "id": "coOFv5bZE4yM"
   },
   "outputs": [],
   "source": [
    "from sklearn.svm import LinearSVC\n",
    "\n",
    "svm_clf = LinearSVC(C=1, loss=\"hinge\")\n",
    "svm_clf.fit(train_prepared, train_target)\n",
    "(cross_val_score(svm_clf, train_prepared, train_target, cv=3, scoring=\"roc_auc\")).mean()"
   ]
  },
  {
   "cell_type": "code",
   "execution_count": null,
   "metadata": {
    "id": "SkopARcS41Oe"
   },
   "outputs": [],
   "source": [
    "# Polinomial SVC\n",
    "from sklearn.svm import SVC\n",
    "\n",
    "svm_clf_poli = SVC(kernel = \"poly\", degree = 3, coef0=1, C=5)\n",
    "svm_clf_poli.fit(train_prepared, train_target)\n",
    "(cross_val_score(svm_clf_poli, train_prepared, train_target, cv=3, scoring=\"roc_auc\")).mean()"
   ]
  },
  {
   "cell_type": "code",
   "execution_count": null,
   "metadata": {
    "id": "l3SB0LW4E-2m"
   },
   "outputs": [],
   "source": [
    "from sklearn.neural_network import MLPClassifier\n",
    "\n",
    "mlp = MLPClassifier(hidden_layer_sizes=(10, 10, 10), max_iter=1000)\n",
    "mlp.fit(train_prepared, train_target.values.ravel())\n",
    "(cross_val_score(mlp, train_prepared, train_target, cv=3, scoring=\"roc_auc\")).mean()"
   ]
  },
  {
   "cell_type": "markdown",
   "metadata": {
    "id": "BwMo644RChXV"
   },
   "source": [
    "### 4 - Visualization"
   ]
  },
  {
   "cell_type": "code",
   "execution_count": null,
   "metadata": {
    "colab": {
     "base_uri": "https://localhost:8080/",
     "height": 374
    },
    "id": "1lUr8ie6AQW2",
    "outputId": "a4a1dbd9-e0cf-484d-ea87-caab427404b0"
   },
   "outputs": [
    {
     "ename": "ValueError",
     "evalue": "ignored",
     "output_type": "error",
     "traceback": [
      "\u001b[0;31m---------------------------------------------------------------------------\u001b[0m",
      "\u001b[0;31mValueError\u001b[0m                                Traceback (most recent call last)",
      "\u001b[0;32m<ipython-input-150-8e8c88d72627>\u001b[0m in \u001b[0;36m<module>\u001b[0;34m()\u001b[0m\n\u001b[1;32m      3\u001b[0m \u001b[0;31m# Predict probabilities\u001b[0m\u001b[0;34m\u001b[0m\u001b[0;34m\u001b[0m\u001b[0;34m\u001b[0m\u001b[0m\n\u001b[1;32m      4\u001b[0m \u001b[0;31m#pred_logr = logr.predict_proba(test_prepared)\u001b[0m\u001b[0;34m\u001b[0m\u001b[0;34m\u001b[0m\u001b[0;34m\u001b[0m\u001b[0m\n\u001b[0;32m----> 5\u001b[0;31m \u001b[0mpred_dtc\u001b[0m \u001b[0;34m=\u001b[0m \u001b[0mdtc\u001b[0m\u001b[0;34m.\u001b[0m\u001b[0mpredict_proba\u001b[0m\u001b[0;34m(\u001b[0m\u001b[0mtest_prepared\u001b[0m\u001b[0;34m)\u001b[0m\u001b[0;34m\u001b[0m\u001b[0;34m\u001b[0m\u001b[0m\n\u001b[0m\u001b[1;32m      6\u001b[0m \u001b[0;31m#pred_rf = rf.predict_proba(test_prepared)\u001b[0m\u001b[0;34m\u001b[0m\u001b[0;34m\u001b[0m\u001b[0;34m\u001b[0m\u001b[0m\n\u001b[1;32m      7\u001b[0m \u001b[0;34m\u001b[0m\u001b[0m\n",
      "\u001b[0;32m/usr/local/lib/python3.7/dist-packages/sklearn/tree/_classes.py\u001b[0m in \u001b[0;36mpredict_proba\u001b[0;34m(self, X, check_input)\u001b[0m\n\u001b[1;32m    903\u001b[0m         \"\"\"\n\u001b[1;32m    904\u001b[0m         \u001b[0mcheck_is_fitted\u001b[0m\u001b[0;34m(\u001b[0m\u001b[0mself\u001b[0m\u001b[0;34m)\u001b[0m\u001b[0;34m\u001b[0m\u001b[0;34m\u001b[0m\u001b[0m\n\u001b[0;32m--> 905\u001b[0;31m         \u001b[0mX\u001b[0m \u001b[0;34m=\u001b[0m \u001b[0mself\u001b[0m\u001b[0;34m.\u001b[0m\u001b[0m_validate_X_predict\u001b[0m\u001b[0;34m(\u001b[0m\u001b[0mX\u001b[0m\u001b[0;34m,\u001b[0m \u001b[0mcheck_input\u001b[0m\u001b[0;34m)\u001b[0m\u001b[0;34m\u001b[0m\u001b[0;34m\u001b[0m\u001b[0m\n\u001b[0m\u001b[1;32m    906\u001b[0m         \u001b[0mproba\u001b[0m \u001b[0;34m=\u001b[0m \u001b[0mself\u001b[0m\u001b[0;34m.\u001b[0m\u001b[0mtree_\u001b[0m\u001b[0;34m.\u001b[0m\u001b[0mpredict\u001b[0m\u001b[0;34m(\u001b[0m\u001b[0mX\u001b[0m\u001b[0;34m)\u001b[0m\u001b[0;34m\u001b[0m\u001b[0;34m\u001b[0m\u001b[0m\n\u001b[1;32m    907\u001b[0m \u001b[0;34m\u001b[0m\u001b[0m\n",
      "\u001b[0;32m/usr/local/lib/python3.7/dist-packages/sklearn/tree/_classes.py\u001b[0m in \u001b[0;36m_validate_X_predict\u001b[0;34m(self, X, check_input)\u001b[0m\n\u001b[1;32m    389\u001b[0m                              \u001b[0;34m\"match the input. Model n_features is %s and \"\u001b[0m\u001b[0;34m\u001b[0m\u001b[0;34m\u001b[0m\u001b[0m\n\u001b[1;32m    390\u001b[0m                              \u001b[0;34m\"input n_features is %s \"\u001b[0m\u001b[0;34m\u001b[0m\u001b[0;34m\u001b[0m\u001b[0m\n\u001b[0;32m--> 391\u001b[0;31m                              % (self.n_features_, n_features))\n\u001b[0m\u001b[1;32m    392\u001b[0m \u001b[0;34m\u001b[0m\u001b[0m\n\u001b[1;32m    393\u001b[0m         \u001b[0;32mreturn\u001b[0m \u001b[0mX\u001b[0m\u001b[0;34m\u001b[0m\u001b[0;34m\u001b[0m\u001b[0m\n",
      "\u001b[0;31mValueError\u001b[0m: Number of features of the model must match the input. Model n_features is 568 and input n_features is 374 "
     ]
    }
   ],
   "source": [
    "from sklearn.metrics import roc_auc_score\n",
    "\n",
    "# Predict probabilities\n",
    "#pred_logr = logr.predict_proba(test_prepared)\n",
    "pred_dtc = dtc.predict_proba(test_prepared)\n",
    "#pred_rf = rf.predict_proba(test_prepared)\n",
    "\n",
    "#pred_prob1 = model1.predict_proba(X_test)\n",
    "#pred_prob2 = model2.predict_proba(X_test)\n",
    "\n",
    "# AUC score\n",
    "auc_logr = roc_auc_score(test_target, pred_logr[:,1])\n",
    "auc_dtc = roc_auc_score(test_target, pred_dtc[:,1])\n",
    "#auc_rf = roc_auc_score(test_target, pred_rf[:,1])\n",
    "\n",
    "#print(auc_logr, auc_dtc, auc_rf)"
   ]
  },
  {
   "cell_type": "code",
   "execution_count": null,
   "metadata": {
    "id": "xlPPx7NHBJ4C"
   },
   "outputs": [],
   "source": [
    "from sklearn.metrics import roc_curve\n",
    "\n",
    "# roc curve for models\n",
    "fpr_logr, tpr_logr, thresh_logr = roc_curve(test_target, pred_logr[:,1], pos_label=1)\n",
    "fpr_dtc, tpr_dtc, thresh_dtc = roc_curve(test_target, pred_dtc[:,1], pos_label=1)\n",
    "#fpr_rf, tpr_rf, thresh_rf = roc_curve(test_target, pred_rf[:,1], pos_label=1)\n",
    "\n",
    "# roc curve for tpr = fpr \n",
    "random_probs = [0 for i in range(len(test_target))]\n",
    "p_fpr, p_tpr, _ = roc_curve(train_target, random_probs, pos_label=1)"
   ]
  },
  {
   "cell_type": "code",
   "execution_count": null,
   "metadata": {
    "colab": {
     "base_uri": "https://localhost:8080/",
     "height": 376
    },
    "id": "COwC7FNZBIyr",
    "outputId": "36d1362e-34bb-4df6-8f9b-9da1afa3132e"
   },
   "outputs": [
    {
     "data": {
      "image/png": "[encoded data removed]",
      "text/plain": [
       "<Figure size 576x396 with 1 Axes>"
      ]
     },
     "metadata": {
      "tags": []
     },
     "output_type": "display_data"
    }
   ],
   "source": [
    "import matplotlib.pyplot as plt\n",
    "plt.style.use('seaborn')\n",
    "\n",
    "# plot roc curves\n",
    "plt.plot(fpr_logr, tpr_logr, linestyle='--',color='orange', label='Logistic Regression')\n",
    "plt.plot(fpr_dtc, tpr_dtc, linestyle='--',color='green', label='DT')\n",
    "#plt.plot(fpr_rf, tpr_rf, linestyle='--',color='pink', label='RF')\n",
    "plt.plot(p_fpr, p_tpr, linestyle='--', color='blue')\n",
    "\n",
    "# title\n",
    "plt.title('ROC Curve')\n",
    "# x label\n",
    "plt.xlabel('False Positive Rate')\n",
    "# y label\n",
    "plt.ylabel('True Positive Rate')\n",
    "\n",
    "plt.legend(loc='best')\n",
    "plt.savefig('ROC',dpi=300)\n",
    "plt.show();"
   ]
  },
  {
   "cell_type": "markdown",
   "metadata": {
    "id": "o4xegkWxX77l"
   },
   "source": [
    "### SAMPLE CODE"
   ]
  },
  {
   "cell_type": "code",
   "execution_count": null,
   "metadata": {
    "id": "CZ3ylf85EQ-5"
   },
   "outputs": [],
   "source": [
    "#from joblib import dump, load\n",
    "#dump(dtc, 'logr.joblib') "
   ]
  },
  {
   "cell_type": "code",
   "execution_count": null,
   "metadata": {
    "id": "H11AasjSN9q_"
   },
   "outputs": [],
   "source": [
    "from sklearn.datasets import make_classification\n",
    "from sklearn.model_selection import train_test_split\n",
    "\n",
    "# generate two class dataset\n",
    "X, y = make_classification(n_samples=1000, n_classes=2, n_features=20, random_state=27)\n",
    "\n",
    "# split into train-test sets\n",
    "X_train, X_test, y_train, y_test = train_test_split(X, y, test_size=0.3, random_state=27)"
   ]
  },
  {
   "cell_type": "code",
   "execution_count": null,
   "metadata": {
    "id": "5nXCPB3jOBdF"
   },
   "outputs": [],
   "source": [
    "# train models\n",
    "from sklearn.linear_model import LogisticRegression\n",
    "from sklearn.neighbors import KNeighborsClassifier\n",
    "\n",
    "# logistic regression\n",
    "model1 = LogisticRegression()\n",
    "# knn\n",
    "model2 = KNeighborsClassifier(n_neighbors=4)\n",
    "\n",
    "# fit model\n",
    "model1.fit(X_train, y_train)\n",
    "model2.fit(X_train, y_train)\n",
    "\n",
    "# predict probabilities\n",
    "pred_prob1 = model1.predict_proba(X_test)\n",
    "pred_prob2 = model2.predict_proba(X_test)"
   ]
  },
  {
   "cell_type": "code",
   "execution_count": null,
   "metadata": {
    "id": "Eu8hR2V3ODCb"
   },
   "outputs": [],
   "source": [
    "from sklearn.metrics import roc_curve\n",
    "\n",
    "# roc curve for models\n",
    "fpr1, tpr1, thresh1 = roc_curve(y_test, pred_prob1[:,1], pos_label=1)\n",
    "fpr2, tpr2, thresh2 = roc_curve(y_test, pred_prob2[:,1], pos_label=1)\n",
    "\n",
    "# roc curve for tpr = fpr \n",
    "random_probs = [0 for i in range(len(y_test))]\n",
    "p_fpr, p_tpr, _ = roc_curve(y_test, random_probs, pos_label=1)"
   ]
  },
  {
   "cell_type": "code",
   "execution_count": null,
   "metadata": {
    "colab": {
     "base_uri": "https://localhost:8080/"
    },
    "id": "5Atvw1JaOH-1",
    "outputId": "ecad6c02-4ff8-4863-f2b0-44b6d6b7e857"
   },
   "outputs": [
    {
     "name": "stdout",
     "output_type": "stream",
     "text": [
      "0.9762374461979914 0.9233769727403157\n"
     ]
    }
   ],
   "source": [
    "from sklearn.metrics import roc_auc_score\n",
    "\n",
    "# auc scores\n",
    "auc_score1 = roc_auc_score(y_test, pred_prob1[:,1])\n",
    "auc_score2 = roc_auc_score(y_test, pred_prob2[:,1])\n",
    "\n",
    "print(auc_score1, auc_score2)"
   ]
  },
  {
   "cell_type": "code",
   "execution_count": null,
   "metadata": {
    "colab": {
     "base_uri": "https://localhost:8080/",
     "height": 376
    },
    "id": "snbNTLlIOKh-",
    "outputId": "29aa0edb-b9ef-48b2-895d-b0d035d30357"
   },
   "outputs": [
    {
     "data": {
      "image/png": "[encoded data removed]",
      "text/plain": [
       "<Figure size 576x396 with 1 Axes>"
      ]
     },
     "metadata": {
      "tags": []
     },
     "output_type": "display_data"
    }
   ],
   "source": [
    "# matplotlib\n",
    "import matplotlib.pyplot as plt\n",
    "plt.style.use('seaborn')\n",
    "\n",
    "# plot roc curves\n",
    "plt.plot(fpr1, tpr1, linestyle='--',color='orange', label='Logistic Regression')\n",
    "plt.plot(fpr2, tpr2, linestyle='--',color='green', label='KNN')\n",
    "plt.plot(p_fpr, p_tpr, linestyle='--', color='blue')\n",
    "# title\n",
    "plt.title('ROC curve')\n",
    "# x label\n",
    "plt.xlabel('False Positive Rate')\n",
    "# y label\n",
    "plt.ylabel('True Positive rate')\n",
    "\n",
    "plt.legend(loc='best')\n",
    "plt.savefig('ROC',dpi=300)\n",
    "plt.show();"
   ]
  }
 ],
 "metadata": {
  "colab": {
   "collapsed_sections": [],
   "name": "Module01_Models.ipynb",
   "provenance": []
  },
  "kernelspec": {
   "display_name": "Python 3",
   "language": "python",
   "name": "python3"
  },
  "language_info": {
   "name": "python"
  }
 },
 "nbformat": 4,
 "nbformat_minor": 4
}
