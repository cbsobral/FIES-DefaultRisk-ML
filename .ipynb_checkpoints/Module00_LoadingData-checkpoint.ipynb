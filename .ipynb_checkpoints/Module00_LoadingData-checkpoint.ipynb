{
 "cells": [
  {
   "cell_type": "markdown",
   "metadata": {},
   "source": [
    "## Module 00 - Loading Data and creating Training and Test Sets\n",
    "\n",
    "In this first module, we perform the following steps:\n",
    "\n",
    "1. load the data from Google Drive in two parts (the file is too big to load at once);\n",
    "2. exclude irrelevant variables or variables with too many missing values;\n",
    "3. rename variables in English and possibly with shorter names;\n",
    "4. divide training and test set."
   ]
  },
  {
   "cell_type": "markdown",
   "metadata": {},
   "source": [
    "### 1 - Load the data in two parts:"
   ]
  },
  {
   "cell_type": "code",
   "execution_count": 5,
   "metadata": {},
   "outputs": [
    {
     "data": {
      "text/plain": [
       "(309999, 37)"
      ]
     },
     "execution_count": 5,
     "metadata": {},
     "output_type": "execute_result"
    }
   ],
   "source": [
    "import pandas as pd\n",
    "\n",
    "url_a = 'https://drive.google.com/file/d/1prPbFSiXFTHmTHzXTGxy4HrtRxXUHhce/view?usp=sharing'\n",
    "path_a = 'https://drive.google.com/uc?export=download&id='+url_a.split('/')[-2]\n",
    "base_df_a = pd.read_excel(path_a)\n",
    "base_df_a.shape"
   ]
  },
  {
   "cell_type": "code",
   "execution_count": 6,
   "metadata": {},
   "outputs": [
    {
     "data": {
      "text/plain": [
       "(327823, 37)"
      ]
     },
     "execution_count": 6,
     "metadata": {},
     "output_type": "execute_result"
    }
   ],
   "source": [
    "url_b = 'https://drive.google.com/file/d/1nGckSszPPifPvR3o5FeYaKArUYbfjHGn/view?usp=sharing'\n",
    "path_b = 'https://drive.google.com/uc?export=download&id='+url_b.split('/')[-2]\n",
    "base_df_b = pd.read_excel(path_b)\n",
    "base_df_b.shape"
   ]
  },
  {
   "cell_type": "code",
   "execution_count": 81,
   "metadata": {},
   "outputs": [
    {
     "data": {
      "text/plain": [
       "(637822, 37)"
      ]
     },
     "execution_count": 81,
     "metadata": {},
     "output_type": "execute_result"
    }
   ],
   "source": [
    "complete_set = base_df_a.append(base_df_b)\n",
    "complete_set.shape"
   ]
  },
  {
   "cell_type": "markdown",
   "metadata": {},
   "source": [
    "### 2 - Renaming variables"
   ]
  },
  {
   "cell_type": "code",
   "execution_count": 82,
   "metadata": {},
   "outputs": [],
   "source": [
    "#Let's use 365 days as the initial limit for default categories\n",
    "complete_set=complete_set.assign(default=1*(complete_set[\"nu_dias_atraso\"]>365))"
   ]
  },
  {
   "cell_type": "code",
   "execution_count": 83,
   "metadata": {},
   "outputs": [
    {
     "data": {
      "text/plain": [
       "semester_enroll                            int64\n",
       "gender                                    object\n",
       "occupation                                object\n",
       "marriage_status                           object\n",
       "VL_RENDA_FAMILIAR_BRUTA_MENSAL           float64\n",
       "VL_RENDA_PESSOAL_BRUTA_MENSAL            float64\n",
       "NO_MUNICIPIO                              object\n",
       "SG_UF                                     object\n",
       "DS_RACA_COR                               object\n",
       "ST_ENSINO_MEDIO_ESCOLA_PUBLICA            object\n",
       "NU_ANO_CONCLUSAO_ENSINO_MEDIO            float64\n",
       "NU_SEMESTRE_REFERENCIA                     int64\n",
       "SG_UF_CURSO                               object\n",
       "NO_CURSO                                  object\n",
       "igc                                      float64\n",
       "cpc                                      float64\n",
       "cc                                       float64\n",
       "QT_SEMESTRES_CURSO                         int64\n",
       "QT_SEMESTRE_CONCLUIDO                      int64\n",
       "sem_funded                                 int64\n",
       "QT_MESES_FINANC_SEMESTRE_ATUAL             int64\n",
       "fam_size                                 float64\n",
       "income_pc                                float64\n",
       "VL_SEMESTRE_SEM_DESCONTO                 float64\n",
       "VL_SEMESTRE_COM_DESCONTO                 float64\n",
       "VL_SEMESTRE_ATUAL                        float64\n",
       "inc_prop                                 float64\n",
       "NU_PERCENT_SOLICITADO_FINANC               int64\n",
       "VL_FINANCIADO_SEMESTRE                   float64\n",
       "VL_FINANC_RECURSO_ALUNO                  float64\n",
       "loan_value                               float64\n",
       "loan_limit                               float64\n",
       "contracted                        datetime64[ns]\n",
       "fase_contrato                             object\n",
       "nu_dias_atraso                             int64\n",
       "vl_divida                                float64\n",
       "ANO_NASC                                  object\n",
       "default                                    int64\n",
       "dtype: object"
      ]
     },
     "execution_count": 83,
     "metadata": {},
     "output_type": "execute_result"
    }
   ],
   "source": [
    "new_names ={'NU_ANO_SEMESTRE_INSCRICAO':'semester_enroll',\n",
    "           'SG_SEXO':'gender',\n",
    "           'DS_OCUPACAO':'occupation',\n",
    "            \"DS_ESTADO_CIVIL\":\"marriage_status\", \n",
    "           'VL_AVALIACAO_IGC': \"igc\",\n",
    "           \"VL_FAIXA_CPC\": \"cpc\",\n",
    "           \"VL_FAIXA_CC\": \"cc\",\n",
    "            \"QT_SEMESTRE_FINANCIAMENTO\": \"sem_funded\",\n",
    "            \"QT_MEMBRO\": \"fam_size\",\n",
    "            \"VL_RENDA_PER_CAPITA\":\"income_pc\",\n",
    "            \"NU_PERCENTUAL_COMPROMETIMENTO\":\"inc_prop\",\n",
    "            \"VL_TOTAL_FINANCIAMENTO\":\"loan_value\",\n",
    "            \"VL_LIMITE_GLOBAL\":\"loan_limit\",\n",
    "            \"dt_inicio_cont\":\"contracted\"\n",
    "           }\n",
    "\n",
    "complete_set = complete_set.rename(index=str, columns=new_names)\n",
    "complete_set.dtypes"
   ]
  },
  {
   "cell_type": "code",
   "execution_count": 84,
   "metadata": {},
   "outputs": [
    {
     "data": {
      "text/plain": [
       "count      637822\n",
       "unique        377\n",
       "top       DIREITO\n",
       "freq        98327\n",
       "Name: NO_CURSO, dtype: object"
      ]
     },
     "execution_count": 84,
     "metadata": {},
     "output_type": "execute_result"
    }
   ],
   "source": [
    "#Analysis of this feature necessary\n",
    "complete_set[\"NO_CURSO\"].describe()"
   ]
  },
  {
   "cell_type": "markdown",
   "metadata": {},
   "source": [
    "### 3 - Cleaning Dataset"
   ]
  },
  {
   "cell_type": "code",
   "execution_count": 85,
   "metadata": {},
   "outputs": [
    {
     "data": {
      "text/plain": [
       "(637822, 37)"
      ]
     },
     "execution_count": 85,
     "metadata": {},
     "output_type": "execute_result"
    }
   ],
   "source": [
    "complete_set = complete_set.drop(['NO_MUNICIPIO'], axis = 1)\n",
    "complete_set.shape"
   ]
  },
  {
   "cell_type": "code",
   "execution_count": 86,
   "metadata": {},
   "outputs": [],
   "source": [
    "complete_set = complete_set.astype({'semester_enroll':\"category\"})\n",
    "complete_set = complete_set.astype({'igc':\"category\"})\n",
    "complete_set = complete_set.astype({'cpc':\"category\"})\n",
    "complete_set = complete_set.astype({'cc':\"category\"})"
   ]
  },
  {
   "cell_type": "code",
   "execution_count": 87,
   "metadata": {},
   "outputs": [],
   "source": [
    "#Recode ocupacao\n",
    "complete_set=complete_set.assign(student=1*(complete_set[\"occupation\"]==\"Estudante\"))"
   ]
  },
  {
   "cell_type": "code",
   "execution_count": 89,
   "metadata": {},
   "outputs": [],
   "source": [
    "# One hot encode with get_dummies\n",
    "import pandas as pd\n",
    "complete_set = pd.concat((complete_set,pd.get_dummies(complete_set.semester_enroll),\n",
    "                         pd.get_dummies(complete_set.gender),\n",
    "                         pd.get_dummies(complete_set.marriage_status),\n",
    "                         pd.get_dummies(complete_set.SG_UF),\n",
    "                         pd.get_dummies(complete_set.DS_RACA_COR),\n",
    "                         pd.get_dummies(complete_set.ST_ENSINO_MEDIO_ESCOLA_PUBLICA),\n",
    "                         pd.get_dummies(complete_set.NO_CURSO),\n",
    "                         pd.get_dummies(complete_set.fase_contrato)),1)"
   ]
  },
  {
   "cell_type": "code",
   "execution_count": 90,
   "metadata": {},
   "outputs": [],
   "source": [
    "#Remove objects that are not numeric or categorical\n",
    "\n",
    "complete_set = complete_set.select_dtypes(exclude=['object'])\n"
   ]
  },
  {
   "cell_type": "markdown",
   "metadata": {},
   "source": [
    "### Pipeline\n",
    "\n",
    "Functions that will be used to tranform our dataset"
   ]
  },
  {
   "cell_type": "code",
   "execution_count": null,
   "metadata": {},
   "outputs": [],
   "source": [
    "from sklearn.preprocessing import OneHotEncoder\n",
    "cat_encoder = OneHotEncoder()\n"
   ]
  },
  {
   "cell_type": "markdown",
   "metadata": {},
   "source": [
    "### 4 - Creating a training and a test set\n",
    "\n",
    "In this section we will create the training and test set using the function *train_test_split* from Scikit-Learn. Two important considerations about our choice:\n",
    "\n",
    "* Our dataset is a sample provided by the Brazilian Governent and will not be updated. Therefore, we chose not to be concerned about future splits with updated data;\n",
    "\n",
    "* Our data includes 637,822 instances. We assume it is big enough and do not employ stratified sampling."
   ]
  },
  {
   "cell_type": "code",
   "execution_count": 91,
   "metadata": {},
   "outputs": [],
   "source": [
    "from sklearn.model_selection import train_test_split\n",
    "\n",
    "train_set, test_set = train_test_split(complete_set, test_size=0.2, random_state=42)"
   ]
  },
  {
   "cell_type": "code",
   "execution_count": 92,
   "metadata": {},
   "outputs": [
    {
     "data": {
      "text/plain": [
       "(510257, 459)"
      ]
     },
     "execution_count": 92,
     "metadata": {},
     "output_type": "execute_result"
    }
   ],
   "source": [
    "train_set.shape"
   ]
  },
  {
   "cell_type": "code",
   "execution_count": 93,
   "metadata": {},
   "outputs": [
    {
     "data": {
      "text/plain": [
       "(127565, 459)"
      ]
     },
     "execution_count": 93,
     "metadata": {},
     "output_type": "execute_result"
    }
   ],
   "source": [
    "test_set.shape"
   ]
  },
  {
   "cell_type": "code",
   "execution_count": 94,
   "metadata": {},
   "outputs": [
    {
     "data": {
      "text/plain": [
       "(semester_enroll                   category\n",
       " VL_RENDA_FAMILIAR_BRUTA_MENSAL     float64\n",
       " VL_RENDA_PESSOAL_BRUTA_MENSAL      float64\n",
       " NU_ANO_CONCLUSAO_ENSINO_MEDIO      float64\n",
       " NU_SEMESTRE_REFERENCIA               int64\n",
       "                                     ...   \n",
       " ÓPTICA E OPTOMETRIA                  uint8\n",
       " Amortizacao                          uint8\n",
       " Carencia                             uint8\n",
       " Liquidacao                           uint8\n",
       " Utilizacao                           uint8\n",
       " Length: 459, dtype: object,\n",
       " semester_enroll                   category\n",
       " VL_RENDA_FAMILIAR_BRUTA_MENSAL     float64\n",
       " VL_RENDA_PESSOAL_BRUTA_MENSAL      float64\n",
       " NU_ANO_CONCLUSAO_ENSINO_MEDIO      float64\n",
       " NU_SEMESTRE_REFERENCIA               int64\n",
       "                                     ...   \n",
       " ÓPTICA E OPTOMETRIA                  uint8\n",
       " Amortizacao                          uint8\n",
       " Carencia                             uint8\n",
       " Liquidacao                           uint8\n",
       " Utilizacao                           uint8\n",
       " Length: 459, dtype: object)"
      ]
     },
     "execution_count": 94,
     "metadata": {},
     "output_type": "execute_result"
    }
   ],
   "source": [
    "train_set.dtypes,test_set.dtypes"
   ]
  },
  {
   "cell_type": "code",
   "execution_count": 96,
   "metadata": {},
   "outputs": [],
   "source": [
    "from sklearn.impute import SimpleImputer\n",
    "imputer = SimpleImputer(strategy=\"median\")"
   ]
  },
  {
   "cell_type": "code",
   "execution_count": 100,
   "metadata": {},
   "outputs": [],
   "source": [
    "import datetime as dt\n",
    "complete_set[\"contracted\"]= complete_set[\"contracted\"].map(dt.datetime.toordinal)"
   ]
  },
  {
   "cell_type": "code",
   "execution_count": 101,
   "metadata": {},
   "outputs": [
    {
     "data": {
      "text/plain": [
       "SimpleImputer(strategy='median')"
      ]
     },
     "execution_count": 101,
     "metadata": {},
     "output_type": "execute_result"
    }
   ],
   "source": [
    "imputer.fit(complete_set)"
   ]
  },
  {
   "cell_type": "code",
   "execution_count": null,
   "metadata": {},
   "outputs": [],
   "source": []
  },
  {
   "cell_type": "markdown",
   "metadata": {},
   "source": [
    "### 5 - Cleaning Data "
   ]
  },
  {
   "cell_type": "markdown",
   "metadata": {},
   "source": [
    "### 6 - Visualisation"
   ]
  },
  {
   "cell_type": "code",
   "execution_count": 10,
   "metadata": {},
   "outputs": [
    {
     "data": {
      "text/plain": [
       "<AxesSubplot:>"
      ]
     },
     "execution_count": 10,
     "metadata": {},
     "output_type": "execute_result"
    },
    {
     "data": {
      "image/png": "[encoded data removed]",
      "text/plain": [
       "<Figure size 432x288 with 1 Axes>"
      ]
     },
     "metadata": {
      "needs_background": "light"
     },
     "output_type": "display_data"
    }
   ],
   "source": [
    "complete_set[\"fase_contrato\"].hist()"
   ]
  },
  {
   "cell_type": "code",
   "execution_count": 55,
   "metadata": {},
   "outputs": [
    {
     "data": {
      "image/png": "[encoded data removed]",
      "text/plain": [
       "<Figure size 432x288 with 1 Axes>"
      ]
     },
     "metadata": {
      "needs_background": "light"
     },
     "output_type": "display_data"
    }
   ],
   "source": [
    "%matplotlib inline\n",
    "import matplotlib as mpl\n",
    "import matplotlib.pyplot as plt\n",
    "\n",
    "complete_set.plot(kind=\"scatter\", x=\"default\", y=\"income_pc\",\n",
    "             alpha=0.2)\n",
    "plt.axis([0, 5, 0, 520000])\n",
    "plt.show()"
   ]
  },
  {
   "cell_type": "markdown",
   "metadata": {},
   "source": []
  }
 ],
 "metadata": {
  "kernelspec": {
   "display_name": "Python 3",
   "language": "python",
   "name": "python3"
  },
  "language_info": {
   "codemirror_mode": {
    "name": "ipython",
    "version": 3
   },
   "file_extension": ".py",
   "mimetype": "text/x-python",
   "name": "python",
   "nbconvert_exporter": "python",
   "pygments_lexer": "ipython3",
   "version": "3.8.5"
  }
 },
 "nbformat": 4,
 "nbformat_minor": 4
}
