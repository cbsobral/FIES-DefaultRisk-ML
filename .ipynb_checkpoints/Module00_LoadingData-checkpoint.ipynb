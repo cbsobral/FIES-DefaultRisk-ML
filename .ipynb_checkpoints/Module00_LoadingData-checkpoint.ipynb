{
 "cells": [
  {
   "cell_type": "markdown",
   "metadata": {
    "colab_type": "text",
    "id": "view-in-github"
   },
   "source": [
    "<a href=\"https://colab.research.google.com/github/cbsobral/ml-fies/blob/main/Module00_LoadingData.ipynb\" target=\"_parent\"><img src=\"https://colab.research.google.com/assets/colab-badge.svg\" alt=\"Open In Colab\"/></a>"
   ]
  },
  {
   "cell_type": "markdown",
   "metadata": {
    "id": "qSSIbHD3ogH6"
   },
   "source": [
    "## Module 00 - Loading data and creating training and test sets\n",
    "\n",
    "In this first module, we perform the following steps:\n",
    "\n",
    "1. Load the data from Google Drive in two parts (the file is too big to load at once);\n",
    "2. Exclude irrelevant variables or variables with too many missing values;\n",
    "3. Rename variables in English and possibly with shorter names;\n",
    "4. Divide training and test set."
   ]
  },
  {
   "cell_type": "markdown",
   "metadata": {
    "id": "D15x3tAyogIC"
   },
   "source": [
    "### 1 - Load the data in two parts:"
   ]
  },
  {
   "cell_type": "code",
   "execution_count": 1,
   "metadata": {
    "colab": {
     "base_uri": "https://localhost:8080/"
    },
    "id": "5AkGS1VgogID",
    "outputId": "45bf1d5d-ac58-4c02-aac3-02b1a9580cc9"
   },
   "outputs": [
    {
     "data": {
      "text/plain": [
       "(309999, 37)"
      ]
     },
     "execution_count": 1,
     "metadata": {},
     "output_type": "execute_result"
    }
   ],
   "source": [
    "import pandas as pd\n",
    "\n",
    "url_a = \"https://drive.google.com/file/d/1prPbFSiXFTHmTHzXTGxy4HrtRxXUHhce/view?usp=sharing\"\n",
    "path_a = \"https://drive.google.com/uc?export=download&id=\"+url_a.split(\"/\")[-2]\n",
    "base_df_a = pd.read_excel(path_a)\n",
    "base_df_a.shape"
   ]
  },
  {
   "cell_type": "code",
   "execution_count": 2,
   "metadata": {
    "colab": {
     "base_uri": "https://localhost:8080/"
    },
    "id": "hyJ2yJuqogIG",
    "outputId": "a0f23bee-4211-4fd1-d0fe-516261cb8910"
   },
   "outputs": [
    {
     "data": {
      "text/plain": [
       "(327823, 37)"
      ]
     },
     "execution_count": 2,
     "metadata": {},
     "output_type": "execute_result"
    }
   ],
   "source": [
    "url_b = \"https://drive.google.com/file/d/1nGckSszPPifPvR3o5FeYaKArUYbfjHGn/view?usp=sharing\"\n",
    "path_b = \"https://drive.google.com/uc?export=download&id=\"+url_b.split(\"/\")[-2]\n",
    "base_df_b = pd.read_excel(path_b)\n",
    "base_df_b.shape"
   ]
  },
  {
   "cell_type": "code",
   "execution_count": 3,
   "metadata": {
    "colab": {
     "base_uri": "https://localhost:8080/"
    },
    "id": "1nhq9lgWogII",
    "outputId": "4d29f799-462e-47c4-a6a4-29c937e7c74a"
   },
   "outputs": [
    {
     "data": {
      "text/plain": [
       "(637822, 37)"
      ]
     },
     "execution_count": 3,
     "metadata": {},
     "output_type": "execute_result"
    }
   ],
   "source": [
    "complete_set = base_df_a.append(base_df_b)\n",
    "complete_set.shape"
   ]
  },
  {
   "cell_type": "markdown",
   "metadata": {
    "id": "SjnAzKW4ogIJ"
   },
   "source": [
    "### 2 - Renaming variables"
   ]
  },
  {
   "cell_type": "code",
   "execution_count": 4,
   "metadata": {
    "id": "Ky27V0YJogIK"
   },
   "outputs": [],
   "source": [
    "#Let\"s use 365 days as the initial limit for default categories\n",
    "#To be added in the pipeline\n",
    "complete_set=complete_set.assign(default=1*(complete_set[\"nu_dias_atraso\"]>365))"
   ]
  },
  {
   "cell_type": "code",
   "execution_count": 6,
   "metadata": {
    "colab": {
     "base_uri": "https://localhost:8080/"
    },
    "id": "gz8vy6TVogIK",
    "outputId": "c443de99-5945-4a38-c1f6-7e13115dcd26"
   },
   "outputs": [
    {
     "data": {
      "text/plain": [
       "semester_enroll                            int64\n",
       "gender                                    object\n",
       "occupation                                object\n",
       "marital_status                            object\n",
       "family_income                            float64\n",
       "personal_income                          float64\n",
       "NO_MUNICIPIO                              object\n",
       "SG_UF                                     object\n",
       "ethnicity                                 object\n",
       "public_hs                                 object\n",
       "high_school_endyear                      float64\n",
       "NU_SEMESTRE_REFERENCIA                     int64\n",
       "state_course                              object\n",
       "degree                                    object\n",
       "igc                                      float64\n",
       "cpc                                      float64\n",
       "cc                                       float64\n",
       "n_sem_course                               int64\n",
       "n_completed_sem                            int64\n",
       "sem_funded                                 int64\n",
       "QT_MESES_FINANC_SEMESTRE_ATUAL             int64\n",
       "fam_size                                 float64\n",
       "income_pc                                float64\n",
       "VL_SEMESTRE_SEM_DESCONTO                 float64\n",
       "tuition_discounted                       float64\n",
       "tuition_current                          float64\n",
       "inc_prop                                 float64\n",
       "perc_requested                             int64\n",
       "loan_value_sem                           float64\n",
       "student_resource                         float64\n",
       "loan_value                               float64\n",
       "loan_limit                               float64\n",
       "date_contract                     datetime64[ns]\n",
       "contract_phase                            object\n",
       "days_delay                                 int64\n",
       "total_debt                               float64\n",
       "birth_year                                object\n",
       "default                                    int64\n",
       "dtype: object"
      ]
     },
     "execution_count": 6,
     "metadata": {},
     "output_type": "execute_result"
    }
   ],
   "source": [
    "new_names ={\"NU_ANO_SEMESTRE_INSCRICAO\":\"semester_enroll\",\n",
    "            \"SG_SEXO\":\"gender\",\n",
    "            \"DS_OCUPACAO\":\"occupation\",\n",
    "            \"DS_RACA_COR\" : \"ethnicity\",\n",
    "            \"NU_ANO_CONCLUSAO_ENSINO_MEDIO\":\"high_school_endyear\",\n",
    "            \"SG_UF_CURSO\": \"state_course\",\n",
    "            \"QT_SEMESTRES_CURSO\": \"n_sem_course\",\n",
    "            \"VL_SEMESTRE_COM_DESCONTO\": \"tuition_discounted\",\n",
    "            \"NU_PERCENT_SOLICITADO_FINANC\":\"perc_requested\",\n",
    "            \"VL_FINANC_RECURSO_ALUNO\":\"student_resource\",\n",
    "            \"nu_dias_atraso\":\"days_delay\",\n",
    "            \"ANO_NASC\":\"birth_year\",\n",
    "            \"DS_ESTADO_CIVIL\":\"marital_status\", \n",
    "            \"VL_RENDA_PESSOAL_BRUTA_MENSAL\": \"personal_income\",\n",
    "            \"VL_RENDA_FAMILIAR_BRUTA_MENSAL\": \"family_income\",\n",
    "            \"ST_ENSINO_MEDIO_ESCOLA_PUBLICA\": \"public_hs\",\n",
    "            \"NO_CURSO\": \"degree\",\n",
    "            \"QT_SEMESTRE_CONCLUIDO\": \"n_completed_sem\",\n",
    "            \"VL_SEMESTRE_ATUAL\": \"tuition_current\",\n",
    "            \"VL_FINANCIADO_SEMESTRE\": \"loan_value_sem\",\n",
    "            \"fase_contrato\": \"contract_phase\",\n",
    "            \"vl_divida\": \"total_debt\",            \n",
    "            \"VL_AVALIACAO_IGC\": \"igc\",\n",
    "            \"VL_FAIXA_CPC\": \"cpc\",\n",
    "            \"VL_FAIXA_CC\": \"cc\",\n",
    "            \"QT_SEMESTRE_FINANCIAMENTO\": \"sem_funded\",\n",
    "            \"QT_MEMBRO\": \"fam_size\",\n",
    "            \"VL_RENDA_PER_CAPITA\":\"income_pc\",\n",
    "            \"NU_PERCENTUAL_COMPROMETIMENTO\":\"inc_prop\",\n",
    "            \"VL_TOTAL_FINANCIAMENTO\":\"loan_value\",\n",
    "            \"VL_LIMITE_GLOBAL\":\"loan_limit\",\n",
    "            \"dt_inicio_cont\":\"date_contract\"\n",
    "}\n",
    "\n",
    "complete_set = complete_set.rename(index=str, columns=new_names)\n",
    "complete_set.dtypes"
   ]
  },
  {
   "cell_type": "code",
   "execution_count": null,
   "metadata": {
    "colab": {
     "base_uri": "https://localhost:8080/"
    },
    "id": "esfIhYMqogIK",
    "outputId": "4c878c68-6713-4646-9d53-ed4e869a43b5"
   },
   "outputs": [
    {
     "data": {
      "text/plain": [
       "count      637822\n",
       "unique        377\n",
       "top       DIREITO\n",
       "freq        98327\n",
       "Name: degree, dtype: object"
      ]
     },
     "execution_count": 13,
     "metadata": {
      "tags": []
     },
     "output_type": "execute_result"
    }
   ],
   "source": [
    "#Analysis of this feature necessary\n",
    "complete_set[\"degree\"].describe()"
   ]
  },
  {
   "cell_type": "code",
   "execution_count": 48,
   "metadata": {
    "colab": {
     "base_uri": "https://localhost:8080/"
    },
    "id": "HgSq5ISLvfBt",
    "outputId": "3df3fa79-e712-41f4-e2a8-76ab8ce9cd44"
   },
   "outputs": [
    {
     "data": {
      "text/plain": [
       "count   637822.00\n",
       "mean        99.74\n",
       "std        939.25\n",
       "min          0.00\n",
       "25%          0.00\n",
       "50%          0.00\n",
       "75%          0.00\n",
       "max       9999.94\n",
       "Name: loan_value_sem, dtype: float64"
      ]
     },
     "execution_count": 48,
     "metadata": {
      "tags": []
     },
     "output_type": "execute_result"
    }
   ],
   "source": [
    "pd.options.display.float_format = '{:.2f}'.format\n",
    "complete_set[\"loan_value_sem\"] = complete_set[\"loan_value_sem\"]/1000\n",
    "complete_set[\"loan_value_sem\"].describe()"
   ]
  },
  {
   "cell_type": "markdown",
   "metadata": {},
   "source": [
    "# Bruno's variables which need special treatment"
   ]
  },
  {
   "cell_type": "code",
   "execution_count": 12,
   "metadata": {},
   "outputs": [
    {
     "data": {
      "text/html": [
       "<div>\n",
       "<style scoped>\n",
       "    .dataframe tbody tr th:only-of-type {\n",
       "        vertical-align: middle;\n",
       "    }\n",
       "\n",
       "    .dataframe tbody tr th {\n",
       "        vertical-align: top;\n",
       "    }\n",
       "\n",
       "    .dataframe thead th {\n",
       "        text-align: right;\n",
       "    }\n",
       "</style>\n",
       "<table border=\"1\" class=\"dataframe\">\n",
       "  <thead>\n",
       "    <tr style=\"text-align: right;\">\n",
       "      <th></th>\n",
       "      <th>semester_enroll</th>\n",
       "      <th>gender</th>\n",
       "      <th>occupation</th>\n",
       "      <th>marital_status</th>\n",
       "      <th>family_income</th>\n",
       "      <th>personal_income</th>\n",
       "      <th>NO_MUNICIPIO</th>\n",
       "      <th>SG_UF</th>\n",
       "      <th>ethnicity</th>\n",
       "      <th>public_hs</th>\n",
       "      <th>...</th>\n",
       "      <th>loan_value_sem</th>\n",
       "      <th>student_resource</th>\n",
       "      <th>loan_value</th>\n",
       "      <th>loan_limit</th>\n",
       "      <th>date_contract</th>\n",
       "      <th>contract_phase</th>\n",
       "      <th>days_delay</th>\n",
       "      <th>total_debt</th>\n",
       "      <th>birth_year</th>\n",
       "      <th>default</th>\n",
       "    </tr>\n",
       "  </thead>\n",
       "  <tbody>\n",
       "    <tr>\n",
       "      <th>237529</th>\n",
       "      <td>12009</td>\n",
       "      <td>F</td>\n",
       "      <td>Estudante</td>\n",
       "      <td>Solteiro</td>\n",
       "      <td>1600000.00</td>\n",
       "      <td>200000.0</td>\n",
       "      <td>Manaus</td>\n",
       "      <td>AM</td>\n",
       "      <td>Branco</td>\n",
       "      <td>N</td>\n",
       "      <td>...</td>\n",
       "      <td>1.861674e+04</td>\n",
       "      <td>18616.74</td>\n",
       "      <td>507000.00</td>\n",
       "      <td>192093.62</td>\n",
       "      <td>2009-01-23</td>\n",
       "      <td>Amortizacao</td>\n",
       "      <td>725</td>\n",
       "      <td>231903.22</td>\n",
       "      <td>2021-01-11 00:00:00</td>\n",
       "      <td>1</td>\n",
       "    </tr>\n",
       "    <tr>\n",
       "      <th>312222</th>\n",
       "      <td>12009</td>\n",
       "      <td>M</td>\n",
       "      <td>Estudante</td>\n",
       "      <td>Solteiro</td>\n",
       "      <td>600000.00</td>\n",
       "      <td>0.0</td>\n",
       "      <td>Manaus</td>\n",
       "      <td>AM</td>\n",
       "      <td>Branco</td>\n",
       "      <td>N</td>\n",
       "      <td>...</td>\n",
       "      <td>1.441296e+04</td>\n",
       "      <td>4804.32</td>\n",
       "      <td>230607.36</td>\n",
       "      <td>190641.85</td>\n",
       "      <td>2009-01-16</td>\n",
       "      <td>Amortizacao</td>\n",
       "      <td>858</td>\n",
       "      <td>235986.65</td>\n",
       "      <td>2021-01-04 00:00:00</td>\n",
       "      <td>1</td>\n",
       "    </tr>\n",
       "    <tr>\n",
       "      <th>268618</th>\n",
       "      <td>12009</td>\n",
       "      <td>M</td>\n",
       "      <td>Estudante</td>\n",
       "      <td>Solteiro</td>\n",
       "      <td>399436.00</td>\n",
       "      <td>0.0</td>\n",
       "      <td>Adamantina</td>\n",
       "      <td>SP</td>\n",
       "      <td>Branco</td>\n",
       "      <td>N</td>\n",
       "      <td>...</td>\n",
       "      <td>2.429100e+04</td>\n",
       "      <td>8097.00</td>\n",
       "      <td>388656.00</td>\n",
       "      <td>266085.00</td>\n",
       "      <td>2009-01-12</td>\n",
       "      <td>Amortizacao</td>\n",
       "      <td>205</td>\n",
       "      <td>327364.89</td>\n",
       "      <td>02/0</td>\n",
       "      <td>0</td>\n",
       "    </tr>\n",
       "    <tr>\n",
       "      <th>176034</th>\n",
       "      <td>12009</td>\n",
       "      <td>F</td>\n",
       "      <td>Estudante</td>\n",
       "      <td>Solteiro</td>\n",
       "      <td>118400.00</td>\n",
       "      <td>118400.0</td>\n",
       "      <td>Santa Maria</td>\n",
       "      <td>RS</td>\n",
       "      <td>Pardo</td>\n",
       "      <td>N</td>\n",
       "      <td>...</td>\n",
       "      <td>2.906500e+03</td>\n",
       "      <td>2906.50</td>\n",
       "      <td>71343.80</td>\n",
       "      <td>26345.01</td>\n",
       "      <td>2009-06-24</td>\n",
       "      <td>Amortizacao</td>\n",
       "      <td>0</td>\n",
       "      <td>18294.92</td>\n",
       "      <td>2021-01-30 00:00:00</td>\n",
       "      <td>0</td>\n",
       "    </tr>\n",
       "    <tr>\n",
       "      <th>177330</th>\n",
       "      <td>12009</td>\n",
       "      <td>M</td>\n",
       "      <td>Estudante</td>\n",
       "      <td>Separado</td>\n",
       "      <td>70500.00</td>\n",
       "      <td>42000.0</td>\n",
       "      <td>Contagem</td>\n",
       "      <td>MG</td>\n",
       "      <td>Pardo</td>\n",
       "      <td>N</td>\n",
       "      <td>...</td>\n",
       "      <td>3.594000e+02</td>\n",
       "      <td>359.40</td>\n",
       "      <td>11500.80</td>\n",
       "      <td>27337.20</td>\n",
       "      <td>2009-06-19</td>\n",
       "      <td>Amortizacao</td>\n",
       "      <td>1508</td>\n",
       "      <td>12087.92</td>\n",
       "      <td>15/0</td>\n",
       "      <td>1</td>\n",
       "    </tr>\n",
       "    <tr>\n",
       "      <th>324201</th>\n",
       "      <td>12009</td>\n",
       "      <td>F</td>\n",
       "      <td>Estudante</td>\n",
       "      <td>Solteiro</td>\n",
       "      <td>61000.00</td>\n",
       "      <td>46000.0</td>\n",
       "      <td>Parobé</td>\n",
       "      <td>RS</td>\n",
       "      <td>Branco</td>\n",
       "      <td>N</td>\n",
       "      <td>...</td>\n",
       "      <td>1.741390e+03</td>\n",
       "      <td>1741.39</td>\n",
       "      <td>41793.36</td>\n",
       "      <td>24834.00</td>\n",
       "      <td>2009-01-07</td>\n",
       "      <td>Amortizacao</td>\n",
       "      <td>103</td>\n",
       "      <td>26786.97</td>\n",
       "      <td>21/0</td>\n",
       "      <td>0</td>\n",
       "    </tr>\n",
       "    <tr>\n",
       "      <th>269241</th>\n",
       "      <td>12010</td>\n",
       "      <td>F</td>\n",
       "      <td>Estudante</td>\n",
       "      <td>Solteiro</td>\n",
       "      <td>47024.31</td>\n",
       "      <td>0.0</td>\n",
       "      <td>NaN</td>\n",
       "      <td>NaN</td>\n",
       "      <td>B</td>\n",
       "      <td>N</td>\n",
       "      <td>...</td>\n",
       "      <td>2.267160e+04</td>\n",
       "      <td>9716.40</td>\n",
       "      <td>388656.00</td>\n",
       "      <td>242865.00</td>\n",
       "      <td>2010-06-07</td>\n",
       "      <td>Amortizacao</td>\n",
       "      <td>0</td>\n",
       "      <td>235834.44</td>\n",
       "      <td>1985</td>\n",
       "      <td>0</td>\n",
       "    </tr>\n",
       "    <tr>\n",
       "      <th>277207</th>\n",
       "      <td>12012</td>\n",
       "      <td>M</td>\n",
       "      <td>Estudante</td>\n",
       "      <td>Solteiro</td>\n",
       "      <td>44621.94</td>\n",
       "      <td>0.0</td>\n",
       "      <td>NaN</td>\n",
       "      <td>NaN</td>\n",
       "      <td>P</td>\n",
       "      <td>N</td>\n",
       "      <td>...</td>\n",
       "      <td>1.950000e+04</td>\n",
       "      <td>19500.00</td>\n",
       "      <td>312000.00</td>\n",
       "      <td>150000.00</td>\n",
       "      <td>2012-03-23</td>\n",
       "      <td>Amortizacao</td>\n",
       "      <td>21</td>\n",
       "      <td>112918.95</td>\n",
       "      <td>1986</td>\n",
       "      <td>0</td>\n",
       "    </tr>\n",
       "    <tr>\n",
       "      <th>90651</th>\n",
       "      <td>22011</td>\n",
       "      <td>F</td>\n",
       "      <td>Estudante</td>\n",
       "      <td>Solteiro</td>\n",
       "      <td>43722.41</td>\n",
       "      <td>0.0</td>\n",
       "      <td>NaN</td>\n",
       "      <td>NaN</td>\n",
       "      <td>B</td>\n",
       "      <td>N</td>\n",
       "      <td>...</td>\n",
       "      <td>3.753555e+04</td>\n",
       "      <td>0.00</td>\n",
       "      <td>412891.05</td>\n",
       "      <td>372161.63</td>\n",
       "      <td>2011-08-19</td>\n",
       "      <td>Amortizacao</td>\n",
       "      <td>0</td>\n",
       "      <td>396477.54</td>\n",
       "      <td>1991</td>\n",
       "      <td>0</td>\n",
       "    </tr>\n",
       "    <tr>\n",
       "      <th>233453</th>\n",
       "      <td>12011</td>\n",
       "      <td>M</td>\n",
       "      <td>Estudante</td>\n",
       "      <td>Solteiro</td>\n",
       "      <td>43489.75</td>\n",
       "      <td>0.0</td>\n",
       "      <td>NaN</td>\n",
       "      <td>NaN</td>\n",
       "      <td>B</td>\n",
       "      <td>N</td>\n",
       "      <td>...</td>\n",
       "      <td>1.643082e+04</td>\n",
       "      <td>16430.82</td>\n",
       "      <td>394339.68</td>\n",
       "      <td>184905.00</td>\n",
       "      <td>2011-03-04</td>\n",
       "      <td>Amortizacao</td>\n",
       "      <td>0</td>\n",
       "      <td>196005.41</td>\n",
       "      <td>1991</td>\n",
       "      <td>0</td>\n",
       "    </tr>\n",
       "    <tr>\n",
       "      <th>968</th>\n",
       "      <td>22011</td>\n",
       "      <td>F</td>\n",
       "      <td>Estudante</td>\n",
       "      <td>Solteiro</td>\n",
       "      <td>39783.40</td>\n",
       "      <td>0.0</td>\n",
       "      <td>NaN</td>\n",
       "      <td>NaN</td>\n",
       "      <td>B</td>\n",
       "      <td>S</td>\n",
       "      <td>...</td>\n",
       "      <td>2.250427e+04</td>\n",
       "      <td>7501.42</td>\n",
       "      <td>360068.28</td>\n",
       "      <td>257946.53</td>\n",
       "      <td>2011-08-18</td>\n",
       "      <td>Amortizacao</td>\n",
       "      <td>11</td>\n",
       "      <td>290190.18</td>\n",
       "      <td>1991</td>\n",
       "      <td>0</td>\n",
       "    </tr>\n",
       "    <tr>\n",
       "      <th>323917</th>\n",
       "      <td>12011</td>\n",
       "      <td>F</td>\n",
       "      <td>Professor do ensino superior</td>\n",
       "      <td>Solteiro</td>\n",
       "      <td>38718.61</td>\n",
       "      <td>17439.4</td>\n",
       "      <td>NaN</td>\n",
       "      <td>NaN</td>\n",
       "      <td>A</td>\n",
       "      <td>N</td>\n",
       "      <td>...</td>\n",
       "      <td>1.838100e+04</td>\n",
       "      <td>18381.00</td>\n",
       "      <td>441144.00</td>\n",
       "      <td>169290.00</td>\n",
       "      <td>2011-06-22</td>\n",
       "      <td>Amortizacao</td>\n",
       "      <td>0</td>\n",
       "      <td>190678.97</td>\n",
       "      <td>1953</td>\n",
       "      <td>0</td>\n",
       "    </tr>\n",
       "    <tr>\n",
       "      <th>171884</th>\n",
       "      <td>12011</td>\n",
       "      <td>F</td>\n",
       "      <td>Estudante</td>\n",
       "      <td>Solteiro</td>\n",
       "      <td>38508.84</td>\n",
       "      <td>0.0</td>\n",
       "      <td>NaN</td>\n",
       "      <td>NaN</td>\n",
       "      <td>B</td>\n",
       "      <td>N</td>\n",
       "      <td>...</td>\n",
       "      <td>1.499691e+04</td>\n",
       "      <td>14996.91</td>\n",
       "      <td>359925.84</td>\n",
       "      <td>154777.50</td>\n",
       "      <td>2011-06-28</td>\n",
       "      <td>Amortizacao</td>\n",
       "      <td>0</td>\n",
       "      <td>164313.88</td>\n",
       "      <td>1992</td>\n",
       "      <td>0</td>\n",
       "    </tr>\n",
       "    <tr>\n",
       "      <th>308539</th>\n",
       "      <td>12011</td>\n",
       "      <td>M</td>\n",
       "      <td>Estudante</td>\n",
       "      <td>Solteiro</td>\n",
       "      <td>38437.31</td>\n",
       "      <td>0.0</td>\n",
       "      <td>NaN</td>\n",
       "      <td>NaN</td>\n",
       "      <td>P</td>\n",
       "      <td>N</td>\n",
       "      <td>...</td>\n",
       "      <td>2.307330e+04</td>\n",
       "      <td>7691.10</td>\n",
       "      <td>369172.80</td>\n",
       "      <td>247691.93</td>\n",
       "      <td>2011-04-25</td>\n",
       "      <td>Amortizacao</td>\n",
       "      <td>0</td>\n",
       "      <td>259514.71</td>\n",
       "      <td>1988</td>\n",
       "      <td>0</td>\n",
       "    </tr>\n",
       "    <tr>\n",
       "      <th>153780</th>\n",
       "      <td>22010</td>\n",
       "      <td>F</td>\n",
       "      <td>Estudante</td>\n",
       "      <td>Solteiro</td>\n",
       "      <td>38105.18</td>\n",
       "      <td>0.0</td>\n",
       "      <td>NaN</td>\n",
       "      <td>NaN</td>\n",
       "      <td>B</td>\n",
       "      <td>N</td>\n",
       "      <td>...</td>\n",
       "      <td>1.397266e+04</td>\n",
       "      <td>13972.66</td>\n",
       "      <td>307398.52</td>\n",
       "      <td>126592.54</td>\n",
       "      <td>2010-09-13</td>\n",
       "      <td>Amortizacao</td>\n",
       "      <td>0</td>\n",
       "      <td>127888.05</td>\n",
       "      <td>1991</td>\n",
       "      <td>0</td>\n",
       "    </tr>\n",
       "    <tr>\n",
       "      <th>81957</th>\n",
       "      <td>22011</td>\n",
       "      <td>M</td>\n",
       "      <td>Estudante</td>\n",
       "      <td>Solteiro</td>\n",
       "      <td>37833.40</td>\n",
       "      <td>0.0</td>\n",
       "      <td>NaN</td>\n",
       "      <td>NaN</td>\n",
       "      <td>B</td>\n",
       "      <td>N</td>\n",
       "      <td>...</td>\n",
       "      <td>8.389540e+15</td>\n",
       "      <td>8389.54</td>\n",
       "      <td>390000.00</td>\n",
       "      <td>97249.88</td>\n",
       "      <td>2011-11-23</td>\n",
       "      <td>Amortizacao</td>\n",
       "      <td>0</td>\n",
       "      <td>105095.51</td>\n",
       "      <td>1991</td>\n",
       "      <td>0</td>\n",
       "    </tr>\n",
       "    <tr>\n",
       "      <th>46885</th>\n",
       "      <td>12012</td>\n",
       "      <td>M</td>\n",
       "      <td>Estudante</td>\n",
       "      <td>Solteiro</td>\n",
       "      <td>37600.00</td>\n",
       "      <td>0.0</td>\n",
       "      <td>NaN</td>\n",
       "      <td>NaN</td>\n",
       "      <td>B</td>\n",
       "      <td>N</td>\n",
       "      <td>...</td>\n",
       "      <td>3.753555e+04</td>\n",
       "      <td>0.00</td>\n",
       "      <td>375355.50</td>\n",
       "      <td>360320.25</td>\n",
       "      <td>2012-02-03</td>\n",
       "      <td>Amortizacao</td>\n",
       "      <td>0</td>\n",
       "      <td>360534.35</td>\n",
       "      <td>1992</td>\n",
       "      <td>0</td>\n",
       "    </tr>\n",
       "    <tr>\n",
       "      <th>81261</th>\n",
       "      <td>12012</td>\n",
       "      <td>M</td>\n",
       "      <td>Estudante</td>\n",
       "      <td>Casado</td>\n",
       "      <td>37251.20</td>\n",
       "      <td>0.0</td>\n",
       "      <td>NaN</td>\n",
       "      <td>NaN</td>\n",
       "      <td>B</td>\n",
       "      <td>N</td>\n",
       "      <td>...</td>\n",
       "      <td>2.090250e+04</td>\n",
       "      <td>6967.50</td>\n",
       "      <td>334440.00</td>\n",
       "      <td>280327.50</td>\n",
       "      <td>2012-02-15</td>\n",
       "      <td>Amortizacao</td>\n",
       "      <td>0</td>\n",
       "      <td>277732.90</td>\n",
       "      <td>1991</td>\n",
       "      <td>0</td>\n",
       "    </tr>\n",
       "    <tr>\n",
       "      <th>86385</th>\n",
       "      <td>12010</td>\n",
       "      <td>F</td>\n",
       "      <td>Estudante</td>\n",
       "      <td>Solteiro</td>\n",
       "      <td>37000.00</td>\n",
       "      <td>0.0</td>\n",
       "      <td>NaN</td>\n",
       "      <td>NaN</td>\n",
       "      <td>B</td>\n",
       "      <td>N</td>\n",
       "      <td>...</td>\n",
       "      <td>1.692390e+04</td>\n",
       "      <td>7253.10</td>\n",
       "      <td>290124.00</td>\n",
       "      <td>217665.00</td>\n",
       "      <td>2010-06-04</td>\n",
       "      <td>Amortizacao</td>\n",
       "      <td>0</td>\n",
       "      <td>214213.41</td>\n",
       "      <td>1992</td>\n",
       "      <td>0</td>\n",
       "    </tr>\n",
       "    <tr>\n",
       "      <th>119548</th>\n",
       "      <td>12012</td>\n",
       "      <td>M</td>\n",
       "      <td>Estudante</td>\n",
       "      <td>Solteiro</td>\n",
       "      <td>36271.13</td>\n",
       "      <td>0.0</td>\n",
       "      <td>NaN</td>\n",
       "      <td>NaN</td>\n",
       "      <td>B</td>\n",
       "      <td>N</td>\n",
       "      <td>...</td>\n",
       "      <td>3.301383e+04</td>\n",
       "      <td>0.00</td>\n",
       "      <td>363152.13</td>\n",
       "      <td>411685.42</td>\n",
       "      <td>2012-03-02</td>\n",
       "      <td>Amortizacao</td>\n",
       "      <td>21</td>\n",
       "      <td>177146.74</td>\n",
       "      <td>1993</td>\n",
       "      <td>0</td>\n",
       "    </tr>\n",
       "  </tbody>\n",
       "</table>\n",
       "<p>20 rows × 38 columns</p>\n",
       "</div>"
      ],
      "text/plain": [
       "        semester_enroll gender                    occupation marital_status  \\\n",
       "237529            12009      F                     Estudante       Solteiro   \n",
       "312222            12009      M                     Estudante       Solteiro   \n",
       "268618            12009      M                     Estudante       Solteiro   \n",
       "176034            12009      F                     Estudante       Solteiro   \n",
       "177330            12009      M                     Estudante       Separado   \n",
       "324201            12009      F                     Estudante       Solteiro   \n",
       "269241            12010      F                     Estudante       Solteiro   \n",
       "277207            12012      M                     Estudante       Solteiro   \n",
       "90651             22011      F                     Estudante       Solteiro   \n",
       "233453            12011      M                     Estudante       Solteiro   \n",
       "968               22011      F                     Estudante       Solteiro   \n",
       "323917            12011      F  Professor do ensino superior       Solteiro   \n",
       "171884            12011      F                     Estudante       Solteiro   \n",
       "308539            12011      M                     Estudante       Solteiro   \n",
       "153780            22010      F                     Estudante       Solteiro   \n",
       "81957             22011      M                     Estudante       Solteiro   \n",
       "46885             12012      M                     Estudante       Solteiro   \n",
       "81261             12012      M                     Estudante         Casado   \n",
       "86385             12010      F                     Estudante       Solteiro   \n",
       "119548            12012      M                     Estudante       Solteiro   \n",
       "\n",
       "        family_income  personal_income NO_MUNICIPIO SG_UF ethnicity public_hs  \\\n",
       "237529     1600000.00         200000.0       Manaus    AM    Branco         N   \n",
       "312222      600000.00              0.0       Manaus    AM    Branco         N   \n",
       "268618      399436.00              0.0   Adamantina    SP    Branco         N   \n",
       "176034      118400.00         118400.0  Santa Maria    RS     Pardo         N   \n",
       "177330       70500.00          42000.0     Contagem    MG     Pardo         N   \n",
       "324201       61000.00          46000.0       Parobé    RS    Branco         N   \n",
       "269241       47024.31              0.0          NaN   NaN         B         N   \n",
       "277207       44621.94              0.0          NaN   NaN         P         N   \n",
       "90651        43722.41              0.0          NaN   NaN         B         N   \n",
       "233453       43489.75              0.0          NaN   NaN         B         N   \n",
       "968          39783.40              0.0          NaN   NaN         B         S   \n",
       "323917       38718.61          17439.4          NaN   NaN         A         N   \n",
       "171884       38508.84              0.0          NaN   NaN         B         N   \n",
       "308539       38437.31              0.0          NaN   NaN         P         N   \n",
       "153780       38105.18              0.0          NaN   NaN         B         N   \n",
       "81957        37833.40              0.0          NaN   NaN         B         N   \n",
       "46885        37600.00              0.0          NaN   NaN         B         N   \n",
       "81261        37251.20              0.0          NaN   NaN         B         N   \n",
       "86385        37000.00              0.0          NaN   NaN         B         N   \n",
       "119548       36271.13              0.0          NaN   NaN         B         N   \n",
       "\n",
       "        ...  loan_value_sem  student_resource loan_value loan_limit  \\\n",
       "237529  ...    1.861674e+04          18616.74  507000.00  192093.62   \n",
       "312222  ...    1.441296e+04           4804.32  230607.36  190641.85   \n",
       "268618  ...    2.429100e+04           8097.00  388656.00  266085.00   \n",
       "176034  ...    2.906500e+03           2906.50   71343.80   26345.01   \n",
       "177330  ...    3.594000e+02            359.40   11500.80   27337.20   \n",
       "324201  ...    1.741390e+03           1741.39   41793.36   24834.00   \n",
       "269241  ...    2.267160e+04           9716.40  388656.00  242865.00   \n",
       "277207  ...    1.950000e+04          19500.00  312000.00  150000.00   \n",
       "90651   ...    3.753555e+04              0.00  412891.05  372161.63   \n",
       "233453  ...    1.643082e+04          16430.82  394339.68  184905.00   \n",
       "968     ...    2.250427e+04           7501.42  360068.28  257946.53   \n",
       "323917  ...    1.838100e+04          18381.00  441144.00  169290.00   \n",
       "171884  ...    1.499691e+04          14996.91  359925.84  154777.50   \n",
       "308539  ...    2.307330e+04           7691.10  369172.80  247691.93   \n",
       "153780  ...    1.397266e+04          13972.66  307398.52  126592.54   \n",
       "81957   ...    8.389540e+15           8389.54  390000.00   97249.88   \n",
       "46885   ...    3.753555e+04              0.00  375355.50  360320.25   \n",
       "81261   ...    2.090250e+04           6967.50  334440.00  280327.50   \n",
       "86385   ...    1.692390e+04           7253.10  290124.00  217665.00   \n",
       "119548  ...    3.301383e+04              0.00  363152.13  411685.42   \n",
       "\n",
       "        date_contract  contract_phase  days_delay  total_debt  \\\n",
       "237529     2009-01-23     Amortizacao         725   231903.22   \n",
       "312222     2009-01-16     Amortizacao         858   235986.65   \n",
       "268618     2009-01-12     Amortizacao         205   327364.89   \n",
       "176034     2009-06-24     Amortizacao           0    18294.92   \n",
       "177330     2009-06-19     Amortizacao        1508    12087.92   \n",
       "324201     2009-01-07     Amortizacao         103    26786.97   \n",
       "269241     2010-06-07     Amortizacao           0   235834.44   \n",
       "277207     2012-03-23     Amortizacao          21   112918.95   \n",
       "90651      2011-08-19     Amortizacao           0   396477.54   \n",
       "233453     2011-03-04     Amortizacao           0   196005.41   \n",
       "968        2011-08-18     Amortizacao          11   290190.18   \n",
       "323917     2011-06-22     Amortizacao           0   190678.97   \n",
       "171884     2011-06-28     Amortizacao           0   164313.88   \n",
       "308539     2011-04-25     Amortizacao           0   259514.71   \n",
       "153780     2010-09-13     Amortizacao           0   127888.05   \n",
       "81957      2011-11-23     Amortizacao           0   105095.51   \n",
       "46885      2012-02-03     Amortizacao           0   360534.35   \n",
       "81261      2012-02-15     Amortizacao           0   277732.90   \n",
       "86385      2010-06-04     Amortizacao           0   214213.41   \n",
       "119548     2012-03-02     Amortizacao          21   177146.74   \n",
       "\n",
       "                 birth_year  default  \n",
       "237529  2021-01-11 00:00:00        1  \n",
       "312222  2021-01-04 00:00:00        1  \n",
       "268618                 02/0        0  \n",
       "176034  2021-01-30 00:00:00        0  \n",
       "177330                 15/0        1  \n",
       "324201                 21/0        0  \n",
       "269241                 1985        0  \n",
       "277207                 1986        0  \n",
       "90651                  1991        0  \n",
       "233453                 1991        0  \n",
       "968                    1991        0  \n",
       "323917                 1953        0  \n",
       "171884                 1992        0  \n",
       "308539                 1988        0  \n",
       "153780                 1991        0  \n",
       "81957                  1991        0  \n",
       "46885                  1992        0  \n",
       "81261                  1991        0  \n",
       "86385                  1992        0  \n",
       "119548                 1993        0  \n",
       "\n",
       "[20 rows x 38 columns]"
      ]
     },
     "execution_count": 12,
     "metadata": {},
     "output_type": "execute_result"
    }
   ],
   "source": [
    "complete_set.nlargest(20, ['family_income'])\n",
    "# na tabela abaixo, eu relaciono as 20 maiores rendas familiares do banco de dados\n",
    "# os 6 primeiros valores são outliers e os 3 primeiros parecem ser erros\n",
    "# se isso for renda familiar mensal, eu sugiro excluir valores maiores que 100,000.00, o que acham?\n",
    "\n",
    "# Diego: além desse problema em family income, temos que imputar NAs para high_school_endyear e birth_year"
   ]
  },
  {
   "cell_type": "markdown",
   "metadata": {
    "id": "rfn09CydogIL"
   },
   "source": [
    "### 3 - Cleaning Dataset"
   ]
  },
  {
   "cell_type": "code",
   "execution_count": null,
   "metadata": {
    "id": "itTdp928ogIL"
   },
   "outputs": [],
   "source": [
    "import datetime as dt\n",
    "\n",
    "variables_to_drop = [\"NO_MUNICIPIO\",\n",
    "                     \"SG_UF\",\n",
    "                     \"VL_SEMESTRE_SEM_DESCONTO\",\n",
    "                     \"NU_SEMESTRE_REFERENCIA\"]\n",
    "\n",
    "complete_set_clean = complete_set.drop(variables_to_drop, axis = 1)\n",
    "complete_set_clean[\"date_contract\"]= complete_set_clean[\"date_contract\"].map(dt.datetime.toordinal)"
   ]
  },
  {
   "cell_type": "markdown",
   "metadata": {
    "id": "7Kcob9Y0ogIM"
   },
   "source": [
    "Some variables are better interprerted as categories."
   ]
  },
  {
   "cell_type": "code",
   "execution_count": null,
   "metadata": {
    "id": "_Zf3ApfLogIM"
   },
   "outputs": [],
   "source": [
    "complete_set_clean = complete_set_clean.astype({\"semester_enroll\":str,\"igc\":str,\"cpc\":str,\"cpc\":str,\"cc\":str,\"ANO_NASC\":str})"
   ]
  },
  {
   "cell_type": "markdown",
   "metadata": {
    "id": "l3sKb1nWogIM"
   },
   "source": [
    "### Add atributes"
   ]
  },
  {
   "cell_type": "code",
   "execution_count": null,
   "metadata": {
    "colab": {
     "base_uri": "https://localhost:8080/",
     "height": 203
    },
    "id": "-0wC7L7dogIM",
    "outputId": "ea722a3e-2c2c-4a9f-ab0e-cb0879429257"
   },
   "outputs": [
    {
     "ename": "NameError",
     "evalue": "ignored",
     "output_type": "error",
     "traceback": [
      "\u001b[0;31m---------------------------------------------------------------------------\u001b[0m",
      "\u001b[0;31mNameError\u001b[0m                                 Traceback (most recent call last)",
      "\u001b[0;32m<ipython-input-16-8b1f484ec4db>\u001b[0m in \u001b[0;36m<module>\u001b[0;34m()\u001b[0m\n\u001b[1;32m      2\u001b[0m \u001b[0;31m#Recode ocupacao\u001b[0m\u001b[0;34m\u001b[0m\u001b[0;34m\u001b[0m\u001b[0;34m\u001b[0m\u001b[0m\n\u001b[1;32m      3\u001b[0m \u001b[0mcomplete_set_clean\u001b[0m\u001b[0;34m=\u001b[0m\u001b[0mcomplete_set_clean\u001b[0m\u001b[0;34m.\u001b[0m\u001b[0massign\u001b[0m\u001b[0;34m(\u001b[0m\u001b[0mstudent\u001b[0m\u001b[0;34m=\u001b[0m\u001b[0;36m1\u001b[0m\u001b[0;34m*\u001b[0m\u001b[0;34m(\u001b[0m\u001b[0mcomplete_set\u001b[0m\u001b[0;34m[\u001b[0m\u001b[0;34m\"occupation\"\u001b[0m\u001b[0;34m]\u001b[0m\u001b[0;34m==\u001b[0m\u001b[0;34m\"Estudante\"\u001b[0m\u001b[0;34m)\u001b[0m\u001b[0;34m)\u001b[0m\u001b[0;34m\u001b[0m\u001b[0;34m\u001b[0m\u001b[0m\n\u001b[0;32m----> 4\u001b[0;31m \u001b[0mcomplete_set_clean\u001b[0m\u001b[0;34m=\u001b[0m\u001b[0mcomplete_set_clean\u001b[0m\u001b[0;34m.\u001b[0m\u001b[0massign\u001b[0m\u001b[0;34m(\u001b[0m\u001b[0mdefault\u001b[0m\u001b[0;34m=\u001b[0m\u001b[0mint\u001b[0m\u001b[0;34m(\u001b[0m\u001b[0mdelay\u001b[0m\u001b[0;34m>=\u001b[0m\u001b[0;36m365\u001b[0m\u001b[0;34m)\u001b[0m\u001b[0;34m)\u001b[0m\u001b[0;34m\u001b[0m\u001b[0;34m\u001b[0m\u001b[0m\n\u001b[0m",
      "\u001b[0;31mNameError\u001b[0m: name 'delay' is not defined"
     ]
    }
   ],
   "source": [
    "#Will be included in the pipeline\n",
    "#Recode ocupacao\n",
    "complete_set_clean=complete_set_clean.assign(student=1*(complete_set[\"occupation\"]==\"Estudante\"))\n",
    "complete_set_clean=complete_set_clean.assign(default=int(delay>=365))"
   ]
  },
  {
   "cell_type": "code",
   "execution_count": null,
   "metadata": {
    "colab": {
     "base_uri": "https://localhost:8080/"
    },
    "id": "kHfCVYuwogIN",
    "outputId": "99614996-4d95-4102-db97-7c017f606ec5"
   },
   "outputs": [
    {
     "data": {
      "text/plain": [
       "semester_enroll                    object\n",
       "gender                             object\n",
       "occupation                         object\n",
       "marital_status                     object\n",
       "VL_RENDA_FAMILIAR_BRUTA_MENSAL    float64\n",
       "personal_income                   float64\n",
       "DS_RACA_COR                        object\n",
       "public_hs                          object\n",
       "NU_ANO_CONCLUSAO_ENSINO_MEDIO     float64\n",
       "NU_SEMESTRE_REFERENCIA              int64\n",
       "SG_UF_CURSO                        object\n",
       "degree                             object\n",
       "igc                                object\n",
       "cpc                                object\n",
       "cc                                 object\n",
       "QT_SEMESTRES_CURSO                  int64\n",
       "qt_semester                         int64\n",
       "sem_funded                          int64\n",
       "QT_MESES_FINANC_SEMESTRE_ATUAL      int64\n",
       "fam_size                          float64\n",
       "income_pc                         float64\n",
       "VL_SEMESTRE_COM_DESCONTO          float64\n",
       "tuition_current                   float64\n",
       "inc_prop                          float64\n",
       "NU_PERCENT_SOLICITADO_FINANC        int64\n",
       "loan_value_sem                    float64\n",
       "VL_FINANC_RECURSO_ALUNO           float64\n",
       "loan_value                        float64\n",
       "loan_limit                        float64\n",
       "date_contract                       int64\n",
       "contract_phase                     object\n",
       "nu_dias_atraso                      int64\n",
       "total_debt                        float64\n",
       "ANO_NASC                           object\n",
       "default                             int64\n",
       "student                             int64\n",
       "dtype: object"
      ]
     },
     "execution_count": 17,
     "metadata": {
      "tags": []
     },
     "output_type": "execute_result"
    }
   ],
   "source": [
    "complete_set_clean.dtypes"
   ]
  },
  {
   "cell_type": "code",
   "execution_count": null,
   "metadata": {
    "id": "X3smpA04ogIN"
   },
   "outputs": [],
   "source": [
    "complete_set_clean = complete_set_clean.dropna(subset=[\"semester_enroll\",\"gender\",\n",
    "                                                 \"occupation\",\n",
    "                                                 \"marital_status\",\n",
    "                                                 \"DS_RACA_COR\",\n",
    "                                                 \"public_hs\",\n",
    "                                                 \"SG_UF_CURSO\",\n",
    "                                                 \"degree\",\n",
    "                                                 \"igc\",\"cpc\",\"cc\",\n",
    "                                                 \"contract_phase\",\"ANO_NASC\"])"
   ]
  },
  {
   "cell_type": "code",
   "execution_count": null,
   "metadata": {
    "id": "eYu7rJjDogIN"
   },
   "outputs": [],
   "source": [
    "# One hot encode with get_dummies\n",
    "import pandas as pd\n",
    "#complete_set = pd.concat((complete_set,pd.get_dummies(complete_set.semester_enroll),\n",
    " #                        pd.get_dummies(complete_set.gender),\n",
    "  #                       pd.get_dummies(complete_set.marriage_status),\n",
    "   #                      pd.get_dummies(complete_set.SG_UF),\n",
    "    #                     pd.get_dummies(complete_set.DS_RACA_COR),\n",
    "     #                    pd.get_dummies(complete_set.ST_ENSINO_MEDIO_ESCOLA_PUBLICA),\n",
    "      #                   pd.get_dummies(complete_set.NO_CURSO),\n",
    "       #                  pd.get_dummies(complete_set.fase_contrato)),1)"
   ]
  },
  {
   "cell_type": "code",
   "execution_count": null,
   "metadata": {
    "id": "Eyohg-mRogIO"
   },
   "outputs": [],
   "source": [
    "#Remove objects that are not numeric or categorical\n",
    "\n",
    "\n",
    "complete_set_cat = complete_set_clean.select_dtypes(include=[\"object\"])\n",
    "complete_set_num = complete_set_clean.select_dtypes(exclude=[\"object\"])\n"
   ]
  },
  {
   "cell_type": "markdown",
   "metadata": {
    "id": "VIJ6MzxrogIO"
   },
   "source": [
    "### Pipeline\n",
    "\n",
    "Functions that will be used to tranform our dataset"
   ]
  },
  {
   "cell_type": "code",
   "execution_count": null,
   "metadata": {
    "id": "qFf5jyiRogIO"
   },
   "outputs": [],
   "source": [
    "from sklearn.preprocessing import OrdinalEncoder\n",
    "\n",
    "ordinal_encoder = OrdinalEncoder()\n",
    "complete_set_cat_encoded = ordinal_encoder.fit_transform(complete_set_cat)"
   ]
  },
  {
   "cell_type": "code",
   "execution_count": null,
   "metadata": {
    "id": "ppLdrEUzogIO"
   },
   "outputs": [],
   "source": [
    "#One hot enconder\n",
    "from sklearn.preprocessing import OneHotEncoder\n",
    "cat_encoder = OneHotEncoder()\n",
    "complete_set_cat_transformed = cat_encoder.fit_transform(complete_set_cat)"
   ]
  },
  {
   "cell_type": "code",
   "execution_count": null,
   "metadata": {
    "id": "lhp6LXTYogIP"
   },
   "outputs": [],
   "source": [
    "from sklearn.impute import SimpleImputer\n",
    "imputer = SimpleImputer(strategy=\"median\")"
   ]
  },
  {
   "cell_type": "code",
   "execution_count": null,
   "metadata": {
    "colab": {
     "base_uri": "https://localhost:8080/"
    },
    "id": "jf904yNXogIP",
    "outputId": "1b91e1de-ad32-47e2-96be-9e2a654f587d"
   },
   "outputs": [
    {
     "data": {
      "text/plain": [
       "array([False, False,  True,  True,  True, False, False,  True,  True,\n",
       "        True])"
      ]
     },
     "execution_count": 24,
     "metadata": {
      "tags": []
     },
     "output_type": "execute_result"
    }
   ],
   "source": [
    "#Add atributes. For now, just occupation\n",
    "# column index to add atributes\n",
    "col_names = \"occupation\", \"nu_dias_atraso\"\n",
    "occupation, delay = [ complete_set_clean.columns.get_loc(c) for c in col_names] # get the column indices\n",
    "occupation,delay\n",
    "complete_set.values[:,2][:10]==\"Estudante\""
   ]
  },
  {
   "cell_type": "code",
   "execution_count": null,
   "metadata": {
    "id": "zD5eytjwogIP"
   },
   "outputs": [],
   "source": [
    "#Apagar\n",
    "from sklearn.base import BaseEstimator, TransformerMixin\n",
    "import numpy as np\n",
    "\n",
    "class CombinedAttributesAdder(BaseEstimator, TransformerMixin):\n",
    "    def __init__(self,cutoff =  365,status=False):# no *args or **kargs\n",
    "        self.delay_cutoff =  cutoff\n",
    "        self.status=status \n",
    "    def fit(self, X, y=None):\n",
    "        return self  # nothing else to do\n",
    "    def transform(self, X):\n",
    "        default = pd.cut(X[:, delay],bins=[-np.inf,self.delay_cutoff,np.inf],labels=[0,1])\n",
    "        if self.status:\n",
    "            is_student = 1*(X[:,occupation]==\"Estudante\")\n",
    "            return np.c_[X, default,is_student]\n",
    "        else:\n",
    "            return np.c_[X, default]"
   ]
  },
  {
   "cell_type": "code",
   "execution_count": null,
   "metadata": {
    "id": "lepolCXjogIQ"
   },
   "outputs": [],
   "source": [
    "#Apagar\n",
    "attribs_adder = CombinedAttributesAdder()\n",
    "transformed = attribs_adder.transform(complete_set_clean.values)"
   ]
  },
  {
   "cell_type": "code",
   "execution_count": null,
   "metadata": {
    "colab": {
     "base_uri": "https://localhost:8080/",
     "height": 317
    },
    "id": "32bPkEOBogIR",
    "outputId": "b83c962a-8899-4ae2-9b1b-4404e8fc8fac"
   },
   "outputs": [
    {
     "data": {
      "text/html": [
       "<div>\n",
       "<style scoped>\n",
       "    .dataframe tbody tr th:only-of-type {\n",
       "        vertical-align: middle;\n",
       "    }\n",
       "\n",
       "    .dataframe tbody tr th {\n",
       "        vertical-align: top;\n",
       "    }\n",
       "\n",
       "    .dataframe thead th {\n",
       "        text-align: right;\n",
       "    }\n",
       "</style>\n",
       "<table border=\"1\" class=\"dataframe\">\n",
       "  <thead>\n",
       "    <tr style=\"text-align: right;\">\n",
       "      <th></th>\n",
       "      <th>semester_enroll</th>\n",
       "      <th>gender</th>\n",
       "      <th>occupation</th>\n",
       "      <th>marital_status</th>\n",
       "      <th>VL_RENDA_FAMILIAR_BRUTA_MENSAL</th>\n",
       "      <th>personal_income</th>\n",
       "      <th>DS_RACA_COR</th>\n",
       "      <th>public_hs</th>\n",
       "      <th>NU_ANO_CONCLUSAO_ENSINO_MEDIO</th>\n",
       "      <th>NU_SEMESTRE_REFERENCIA</th>\n",
       "      <th>SG_UF_CURSO</th>\n",
       "      <th>degree</th>\n",
       "      <th>igc</th>\n",
       "      <th>cpc</th>\n",
       "      <th>cc</th>\n",
       "      <th>QT_SEMESTRES_CURSO</th>\n",
       "      <th>qt_semester</th>\n",
       "      <th>sem_funded</th>\n",
       "      <th>QT_MESES_FINANC_SEMESTRE_ATUAL</th>\n",
       "      <th>fam_size</th>\n",
       "      <th>income_pc</th>\n",
       "      <th>VL_SEMESTRE_COM_DESCONTO</th>\n",
       "      <th>tuition_current</th>\n",
       "      <th>inc_prop</th>\n",
       "      <th>NU_PERCENT_SOLICITADO_FINANC</th>\n",
       "      <th>loan_value_sem</th>\n",
       "      <th>VL_FINANC_RECURSO_ALUNO</th>\n",
       "      <th>loan_value</th>\n",
       "      <th>loan_limit</th>\n",
       "      <th>date_contract</th>\n",
       "      <th>contract_phase</th>\n",
       "      <th>nu_dias_atraso</th>\n",
       "      <th>total_debt</th>\n",
       "      <th>ANO_NASC</th>\n",
       "      <th>default</th>\n",
       "      <th>student</th>\n",
       "      <th>default</th>\n",
       "    </tr>\n",
       "  </thead>\n",
       "  <tbody>\n",
       "    <tr>\n",
       "      <th>0</th>\n",
       "      <td>12014</td>\n",
       "      <td>F</td>\n",
       "      <td>Vendedor e prestador de serviÃ§os do comÃ©rcio...</td>\n",
       "      <td>Solteiro</td>\n",
       "      <td>728.74</td>\n",
       "      <td>728.74</td>\n",
       "      <td>P</td>\n",
       "      <td>S</td>\n",
       "      <td>10</td>\n",
       "      <td>12015</td>\n",
       "      <td>AL</td>\n",
       "      <td>PEDAGOGIA</td>\n",
       "      <td>3.0</td>\n",
       "      <td>nan</td>\n",
       "      <td>nan</td>\n",
       "      <td>8</td>\n",
       "      <td>2</td>\n",
       "      <td>8</td>\n",
       "      <td>6</td>\n",
       "      <td>2</td>\n",
       "      <td>364.37</td>\n",
       "      <td>1683.18</td>\n",
       "      <td>1683.18</td>\n",
       "      <td>71.95</td>\n",
       "      <td>100</td>\n",
       "      <td>1683.18</td>\n",
       "      <td>0</td>\n",
       "      <td>13465.4</td>\n",
       "      <td>15730.8</td>\n",
       "      <td>735355</td>\n",
       "      <td>Amortizacao</td>\n",
       "      <td>0</td>\n",
       "      <td>14549.7</td>\n",
       "      <td>1991</td>\n",
       "      <td>0</td>\n",
       "      <td>0</td>\n",
       "      <td>0</td>\n",
       "    </tr>\n",
       "    <tr>\n",
       "      <th>1</th>\n",
       "      <td>12013</td>\n",
       "      <td>F</td>\n",
       "      <td>Outros trabalhadores de serviÃ§os diversos</td>\n",
       "      <td>Solteiro</td>\n",
       "      <td>553.35</td>\n",
       "      <td>553.35</td>\n",
       "      <td>P</td>\n",
       "      <td>S</td>\n",
       "      <td>7</td>\n",
       "      <td>12015</td>\n",
       "      <td>MG</td>\n",
       "      <td>LETRAS - INGLÊS</td>\n",
       "      <td>3.0</td>\n",
       "      <td>2.0</td>\n",
       "      <td>3.0</td>\n",
       "      <td>6</td>\n",
       "      <td>4</td>\n",
       "      <td>6</td>\n",
       "      <td>6</td>\n",
       "      <td>1</td>\n",
       "      <td>553.35</td>\n",
       "      <td>2650.5</td>\n",
       "      <td>2650.5</td>\n",
       "      <td>67.47</td>\n",
       "      <td>100</td>\n",
       "      <td>2650.5</td>\n",
       "      <td>0</td>\n",
       "      <td>15903</td>\n",
       "      <td>16800.8</td>\n",
       "      <td>734912</td>\n",
       "      <td>Amortizacao</td>\n",
       "      <td>0</td>\n",
       "      <td>12139.8</td>\n",
       "      <td>1990</td>\n",
       "      <td>0</td>\n",
       "      <td>0</td>\n",
       "      <td>0</td>\n",
       "    </tr>\n",
       "    <tr>\n",
       "      <th>2</th>\n",
       "      <td>22014</td>\n",
       "      <td>F</td>\n",
       "      <td>Estudante</td>\n",
       "      <td>Solteiro</td>\n",
       "      <td>5962.49</td>\n",
       "      <td>0</td>\n",
       "      <td>P</td>\n",
       "      <td>N</td>\n",
       "      <td>13</td>\n",
       "      <td>12015</td>\n",
       "      <td>MG</td>\n",
       "      <td>MEDICINA</td>\n",
       "      <td>3.0</td>\n",
       "      <td>3.0</td>\n",
       "      <td>4.0</td>\n",
       "      <td>12</td>\n",
       "      <td>1</td>\n",
       "      <td>12</td>\n",
       "      <td>6</td>\n",
       "      <td>5</td>\n",
       "      <td>1192.5</td>\n",
       "      <td>26810.8</td>\n",
       "      <td>26810.8</td>\n",
       "      <td>352.14</td>\n",
       "      <td>100</td>\n",
       "      <td>26810.8</td>\n",
       "      <td>0</td>\n",
       "      <td>321730</td>\n",
       "      <td>377937</td>\n",
       "      <td>735457</td>\n",
       "      <td>Utilizacao</td>\n",
       "      <td>0</td>\n",
       "      <td>397350</td>\n",
       "      <td>1996</td>\n",
       "      <td>0</td>\n",
       "      <td>1</td>\n",
       "      <td>0</td>\n",
       "    </tr>\n",
       "    <tr>\n",
       "      <th>3</th>\n",
       "      <td>12012</td>\n",
       "      <td>F</td>\n",
       "      <td>Estudante</td>\n",
       "      <td>Solteiro</td>\n",
       "      <td>21671.7</td>\n",
       "      <td>0</td>\n",
       "      <td>B</td>\n",
       "      <td>N</td>\n",
       "      <td>8</td>\n",
       "      <td>12015</td>\n",
       "      <td>MG</td>\n",
       "      <td>MEDICINA</td>\n",
       "      <td>3.0</td>\n",
       "      <td>3.0</td>\n",
       "      <td>4.0</td>\n",
       "      <td>12</td>\n",
       "      <td>6</td>\n",
       "      <td>12</td>\n",
       "      <td>6</td>\n",
       "      <td>4</td>\n",
       "      <td>5417.94</td>\n",
       "      <td>32065.3</td>\n",
       "      <td>32065.3</td>\n",
       "      <td>75.51</td>\n",
       "      <td>100</td>\n",
       "      <td>32065.3</td>\n",
       "      <td>0</td>\n",
       "      <td>384784</td>\n",
       "      <td>368181</td>\n",
       "      <td>734582</td>\n",
       "      <td>Utilizacao</td>\n",
       "      <td>0</td>\n",
       "      <td>434902</td>\n",
       "      <td>1991</td>\n",
       "      <td>0</td>\n",
       "      <td>1</td>\n",
       "      <td>0</td>\n",
       "    </tr>\n",
       "    <tr>\n",
       "      <th>4</th>\n",
       "      <td>22011</td>\n",
       "      <td>F</td>\n",
       "      <td>Estudante</td>\n",
       "      <td>Solteiro</td>\n",
       "      <td>1000</td>\n",
       "      <td>0</td>\n",
       "      <td>B</td>\n",
       "      <td>S</td>\n",
       "      <td>9</td>\n",
       "      <td>12015</td>\n",
       "      <td>RN</td>\n",
       "      <td>PSICOLOGIA</td>\n",
       "      <td>3.0</td>\n",
       "      <td>4.0</td>\n",
       "      <td>4.0</td>\n",
       "      <td>10</td>\n",
       "      <td>7</td>\n",
       "      <td>10</td>\n",
       "      <td>6</td>\n",
       "      <td>3</td>\n",
       "      <td>333.33</td>\n",
       "      <td>5190</td>\n",
       "      <td>5190</td>\n",
       "      <td>204.9</td>\n",
       "      <td>100</td>\n",
       "      <td>2595</td>\n",
       "      <td>2595</td>\n",
       "      <td>51900</td>\n",
       "      <td>25612.5</td>\n",
       "      <td>734403</td>\n",
       "      <td>Amortizacao</td>\n",
       "      <td>682</td>\n",
       "      <td>27518.9</td>\n",
       "      <td>1992</td>\n",
       "      <td>1</td>\n",
       "      <td>1</td>\n",
       "      <td>1</td>\n",
       "    </tr>\n",
       "  </tbody>\n",
       "</table>\n",
       "</div>"
      ],
      "text/plain": [
       "  semester_enroll gender  ... student default\n",
       "0           12014      F  ...       0       0\n",
       "1           12013      F  ...       0       0\n",
       "2           22014      F  ...       1       0\n",
       "3           12012      F  ...       1       0\n",
       "4           22011      F  ...       1       1\n",
       "\n",
       "[5 rows x 37 columns]"
      ]
     },
     "execution_count": 27,
     "metadata": {
      "tags": []
     },
     "output_type": "execute_result"
    }
   ],
   "source": [
    "#apagar\n",
    "transformed= pd.DataFrame(\n",
    "    transformed,\n",
    "    columns=list(complete_set_clean.columns)+[\"default\"],\n",
    "    index=complete_set_clean.index)\n",
    "transformed.head()"
   ]
  },
  {
   "cell_type": "code",
   "execution_count": null,
   "metadata": {
    "colab": {
     "base_uri": "https://localhost:8080/",
     "height": 217
    },
    "id": "FxyfFm-XogIR",
    "outputId": "da7f97bf-03ec-4e16-85e2-c9634ed40663"
   },
   "outputs": [
    {
     "data": {
      "text/html": [
       "<div>\n",
       "<style scoped>\n",
       "    .dataframe tbody tr th:only-of-type {\n",
       "        vertical-align: middle;\n",
       "    }\n",
       "\n",
       "    .dataframe tbody tr th {\n",
       "        vertical-align: top;\n",
       "    }\n",
       "\n",
       "    .dataframe thead th {\n",
       "        text-align: right;\n",
       "    }\n",
       "</style>\n",
       "<table border=\"1\" class=\"dataframe\">\n",
       "  <thead>\n",
       "    <tr style=\"text-align: right;\">\n",
       "      <th></th>\n",
       "      <th>VL_RENDA_FAMILIAR_BRUTA_MENSAL</th>\n",
       "      <th>personal_income</th>\n",
       "      <th>NU_ANO_CONCLUSAO_ENSINO_MEDIO</th>\n",
       "      <th>NU_SEMESTRE_REFERENCIA</th>\n",
       "      <th>QT_SEMESTRES_CURSO</th>\n",
       "      <th>qt_semester</th>\n",
       "      <th>sem_funded</th>\n",
       "      <th>QT_MESES_FINANC_SEMESTRE_ATUAL</th>\n",
       "      <th>fam_size</th>\n",
       "      <th>income_pc</th>\n",
       "      <th>VL_SEMESTRE_COM_DESCONTO</th>\n",
       "      <th>tuition_current</th>\n",
       "      <th>inc_prop</th>\n",
       "      <th>NU_PERCENT_SOLICITADO_FINANC</th>\n",
       "      <th>loan_value_sem</th>\n",
       "      <th>VL_FINANC_RECURSO_ALUNO</th>\n",
       "      <th>loan_value</th>\n",
       "      <th>loan_limit</th>\n",
       "      <th>date_contract</th>\n",
       "      <th>nu_dias_atraso</th>\n",
       "      <th>total_debt</th>\n",
       "      <th>default</th>\n",
       "      <th>student</th>\n",
       "    </tr>\n",
       "  </thead>\n",
       "  <tbody>\n",
       "    <tr>\n",
       "      <th>0</th>\n",
       "      <td>728.74</td>\n",
       "      <td>728.74</td>\n",
       "      <td>10.0</td>\n",
       "      <td>12015</td>\n",
       "      <td>8</td>\n",
       "      <td>2</td>\n",
       "      <td>8</td>\n",
       "      <td>6</td>\n",
       "      <td>2.0</td>\n",
       "      <td>364.37</td>\n",
       "      <td>1683.18</td>\n",
       "      <td>1683.18</td>\n",
       "      <td>71.95</td>\n",
       "      <td>100</td>\n",
       "      <td>1683.18</td>\n",
       "      <td>0.0</td>\n",
       "      <td>13465.44</td>\n",
       "      <td>15730.80</td>\n",
       "      <td>735355</td>\n",
       "      <td>0</td>\n",
       "      <td>14549.68</td>\n",
       "      <td>0</td>\n",
       "      <td>0</td>\n",
       "    </tr>\n",
       "    <tr>\n",
       "      <th>1</th>\n",
       "      <td>553.35</td>\n",
       "      <td>553.35</td>\n",
       "      <td>7.0</td>\n",
       "      <td>12015</td>\n",
       "      <td>6</td>\n",
       "      <td>4</td>\n",
       "      <td>6</td>\n",
       "      <td>6</td>\n",
       "      <td>1.0</td>\n",
       "      <td>553.35</td>\n",
       "      <td>2650.50</td>\n",
       "      <td>2650.50</td>\n",
       "      <td>67.47</td>\n",
       "      <td>100</td>\n",
       "      <td>2650.50</td>\n",
       "      <td>0.0</td>\n",
       "      <td>15903.00</td>\n",
       "      <td>16800.75</td>\n",
       "      <td>734912</td>\n",
       "      <td>0</td>\n",
       "      <td>12139.80</td>\n",
       "      <td>0</td>\n",
       "      <td>0</td>\n",
       "    </tr>\n",
       "    <tr>\n",
       "      <th>2</th>\n",
       "      <td>5962.49</td>\n",
       "      <td>0.00</td>\n",
       "      <td>13.0</td>\n",
       "      <td>12015</td>\n",
       "      <td>12</td>\n",
       "      <td>1</td>\n",
       "      <td>12</td>\n",
       "      <td>6</td>\n",
       "      <td>5.0</td>\n",
       "      <td>1192.50</td>\n",
       "      <td>26810.85</td>\n",
       "      <td>26810.85</td>\n",
       "      <td>352.14</td>\n",
       "      <td>100</td>\n",
       "      <td>26810.85</td>\n",
       "      <td>0.0</td>\n",
       "      <td>321730.20</td>\n",
       "      <td>377937.00</td>\n",
       "      <td>735457</td>\n",
       "      <td>0</td>\n",
       "      <td>397349.62</td>\n",
       "      <td>0</td>\n",
       "      <td>1</td>\n",
       "    </tr>\n",
       "    <tr>\n",
       "      <th>3</th>\n",
       "      <td>21671.74</td>\n",
       "      <td>0.00</td>\n",
       "      <td>8.0</td>\n",
       "      <td>12015</td>\n",
       "      <td>12</td>\n",
       "      <td>6</td>\n",
       "      <td>12</td>\n",
       "      <td>6</td>\n",
       "      <td>4.0</td>\n",
       "      <td>5417.94</td>\n",
       "      <td>32065.32</td>\n",
       "      <td>32065.32</td>\n",
       "      <td>75.51</td>\n",
       "      <td>100</td>\n",
       "      <td>32065.32</td>\n",
       "      <td>0.0</td>\n",
       "      <td>384783.84</td>\n",
       "      <td>368181.00</td>\n",
       "      <td>734582</td>\n",
       "      <td>0</td>\n",
       "      <td>434901.80</td>\n",
       "      <td>0</td>\n",
       "      <td>1</td>\n",
       "    </tr>\n",
       "    <tr>\n",
       "      <th>4</th>\n",
       "      <td>1000.00</td>\n",
       "      <td>0.00</td>\n",
       "      <td>9.0</td>\n",
       "      <td>12015</td>\n",
       "      <td>10</td>\n",
       "      <td>7</td>\n",
       "      <td>10</td>\n",
       "      <td>6</td>\n",
       "      <td>3.0</td>\n",
       "      <td>333.33</td>\n",
       "      <td>5190.00</td>\n",
       "      <td>5190.00</td>\n",
       "      <td>204.90</td>\n",
       "      <td>100</td>\n",
       "      <td>2595.00</td>\n",
       "      <td>2595.0</td>\n",
       "      <td>51900.00</td>\n",
       "      <td>25612.50</td>\n",
       "      <td>734403</td>\n",
       "      <td>682</td>\n",
       "      <td>27518.91</td>\n",
       "      <td>1</td>\n",
       "      <td>1</td>\n",
       "    </tr>\n",
       "  </tbody>\n",
       "</table>\n",
       "</div>"
      ],
      "text/plain": [
       "   VL_RENDA_FAMILIAR_BRUTA_MENSAL  personal_income  ...  default  student\n",
       "0                          728.74           728.74  ...        0        0\n",
       "1                          553.35           553.35  ...        0        0\n",
       "2                         5962.49             0.00  ...        0        1\n",
       "3                        21671.74             0.00  ...        0        1\n",
       "4                         1000.00             0.00  ...        1        1\n",
       "\n",
       "[5 rows x 23 columns]"
      ]
     },
     "execution_count": 28,
     "metadata": {
      "tags": []
     },
     "output_type": "execute_result"
    }
   ],
   "source": [
    "complete_set_num.head()"
   ]
  },
  {
   "cell_type": "code",
   "execution_count": null,
   "metadata": {
    "id": "NjKb_CdHogIR"
   },
   "outputs": [],
   "source": [
    "from sklearn.pipeline import Pipeline\n",
    "from sklearn.preprocessing import StandardScaler\n",
    "\n",
    "\n",
    "num_pipeline = Pipeline([\n",
    "        (\"imputer\", SimpleImputer(strategy=\"median\")),\n",
    "        (\"std_scaler\", StandardScaler()),\n",
    "    ])\n",
    "complete_num_tr = num_pipeline.fit_transform(complete_set_num)\n"
   ]
  },
  {
   "cell_type": "code",
   "execution_count": null,
   "metadata": {
    "id": "3gaCsGRFogIR"
   },
   "outputs": [],
   "source": [
    "#Full pipeline\n",
    "from sklearn.compose import ColumnTransformer\n",
    "\n",
    "num_attribs = list(complete_set_num)\n",
    "cat_attribs = list(complete_set_cat)\n",
    "\n",
    "full_pipeline = ColumnTransformer([\n",
    "        (\"num\", num_pipeline, num_attribs),\n",
    "        (\"cat\", OneHotEncoder(), cat_attribs),\n",
    "    ])\n",
    "complete_set_prepared = full_pipeline.fit_transform(complete_set_clean)"
   ]
  },
  {
   "cell_type": "code",
   "execution_count": null,
   "metadata": {
    "colab": {
     "base_uri": "https://localhost:8080/"
    },
    "id": "TyxLL2C_ogIS",
    "outputId": "0c02877d-a47a-4225-b9a4-0bbb787226b3"
   },
   "outputs": [
    {
     "data": {
      "text/plain": [
       "<1x741 sparse matrix of type '<class 'numpy.float64'>'\n",
       "\twith 34 stored elements in Compressed Sparse Row format>"
      ]
     },
     "execution_count": 31,
     "metadata": {
      "tags": []
     },
     "output_type": "execute_result"
    }
   ],
   "source": [
    "complete_set_prepared[:1]"
   ]
  },
  {
   "cell_type": "markdown",
   "metadata": {
    "id": "fVwJfudJogIS"
   },
   "source": [
    "### 4 - Creating a training and a test set\n",
    "\n",
    "In this section we will create the training and test set using the function *train_test_split* from Scikit-Learn. Two important considerations about our choice:\n",
    "\n",
    "* Our dataset is a sample provided by the Brazilian Governent and will not be updated. Therefore, we chose not to be concerned about future splits with updated data;\n",
    "\n",
    "* Our data includes 637,822 instances. We assume it is big enough and do not employ stratified sampling."
   ]
  },
  {
   "cell_type": "code",
   "execution_count": null,
   "metadata": {
    "id": "hJuseFTaogIS"
   },
   "outputs": [],
   "source": [
    "from sklearn.model_selection import train_test_split\n",
    "\n",
    "train_set, test_set = train_test_split(complete_set_prepared, test_size=0.2, random_state=42)"
   ]
  },
  {
   "cell_type": "markdown",
   "metadata": {
    "id": "bJVOljkGogIT"
   },
   "source": [
    "### 5 - Cleaning Data "
   ]
  },
  {
   "cell_type": "markdown",
   "metadata": {
    "id": "fQoSfCgPogIT"
   },
   "source": [
    "### 6 - Visualisation"
   ]
  },
  {
   "cell_type": "code",
   "execution_count": null,
   "metadata": {
    "colab": {
     "base_uri": "https://localhost:8080/",
     "height": 282
    },
    "id": "z0QSUtV0ogIT",
    "outputId": "47dcda8b-17ab-4d96-845f-c1f9acede345"
   },
   "outputs": [
    {
     "data": {
      "text/plain": [
       "<matplotlib.axes._subplots.AxesSubplot at 0x7efc0aa024d0>"
      ]
     },
     "execution_count": 33,
     "metadata": {
      "tags": []
     },
     "output_type": "execute_result"
    },
    {
     "data": {
      "image/png": "[encoded data removed]",
      "text/plain": [
       "<Figure size 432x288 with 1 Axes>"
      ]
     },
     "metadata": {
      "needs_background": "light",
      "tags": []
     },
     "output_type": "display_data"
    }
   ],
   "source": [
    "complete_set[\"contract_phase\"].hist()"
   ]
  },
  {
   "cell_type": "code",
   "execution_count": null,
   "metadata": {
    "colab": {
     "base_uri": "https://localhost:8080/",
     "height": 278
    },
    "id": "xZLMqhkLogIV",
    "outputId": "aa11256e-bff7-43fc-e440-e9ed3f2edcd8"
   },
   "outputs": [
    {
     "data": {
      "image/png": "[encoded data removed]",
      "text/plain": [
       "<Figure size 432x288 with 1 Axes>"
      ]
     },
     "metadata": {
      "needs_background": "light",
      "tags": []
     },
     "output_type": "display_data"
    }
   ],
   "source": [
    "%matplotlib inline\n",
    "import matplotlib as mpl\n",
    "import matplotlib.pyplot as plt\n",
    "\n",
    "complete_set.plot(kind=\"scatter\", x=\"default\", y=\"income_pc\",\n",
    "             alpha=0.2)\n",
    "plt.axis([0, 5, 0, 520000])\n",
    "plt.show()"
   ]
  },
  {
   "cell_type": "markdown",
   "metadata": {
    "id": "clcoU1IyogIW"
   },
   "source": []
  }
 ],
 "metadata": {
  "colab": {
   "collapsed_sections": [],
   "include_colab_link": true,
   "name": "Module00_LoadingData.ipynb",
   "provenance": []
  },
  "kernelspec": {
   "display_name": "Python 3",
   "language": "python",
   "name": "python3"
  },
  "language_info": {
   "codemirror_mode": {
    "name": "ipython",
    "version": 3
   },
   "file_extension": ".py",
   "mimetype": "text/x-python",
   "name": "python",
   "nbconvert_exporter": "python",
   "pygments_lexer": "ipython3",
   "version": "3.8.3"
  }
 },
 "nbformat": 4,
 "nbformat_minor": 4
}
