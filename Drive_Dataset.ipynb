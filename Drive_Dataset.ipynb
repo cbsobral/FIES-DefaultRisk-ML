{
 "cells": [
  {
   "cell_type": "markdown",
   "metadata": {
    "colab_type": "text",
    "id": "view-in-github"
   },
   "source": [
    "<a href=\"https://colab.research.google.com/github/cbsobral/ml-fies/blob/main/Drive_Dataset.ipynb\" target=\"_parent\"><img src=\"https://colab.research.google.com/assets/colab-badge.svg\" alt=\"Open In Colab\"/></a>"
   ]
  },
  {
   "cell_type": "markdown",
   "metadata": {
    "id": "wi70_1LLs8Nf"
   },
   "source": [
    "# Import Dataset"
   ]
  },
  {
   "cell_type": "code",
   "execution_count": 2,
   "metadata": {
    "colab": {
     "base_uri": "https://localhost:8080/"
    },
    "id": "k_w87CmktUQm",
    "outputId": "7c15e188-4741-418e-8af9-fa6d6a38d342"
   },
   "outputs": [
    {
     "data": {
      "text/plain": [
       "(309999, 37)"
      ]
     },
     "execution_count": 2,
     "metadata": {},
     "output_type": "execute_result"
    }
   ],
   "source": [
    "import pandas as pd\r\n",
    "\r\n",
    "url_a = 'https://drive.google.com/file/d/1prPbFSiXFTHmTHzXTGxy4HrtRxXUHhce/view?usp=sharing'\r\n",
    "path_a = 'https://drive.google.com/uc?export=download&id='+url_a.split('/')[-2]\r\n",
    "base_df_a = pd.read_excel(path_a)\r\n",
    "base_df_a.shape"
   ]
  },
  {
   "cell_type": "code",
   "execution_count": 3,
   "metadata": {
    "colab": {
     "base_uri": "https://localhost:8080/"
    },
    "id": "3H4pRSktp2cm",
    "outputId": "03126d6c-54c0-4a2c-c8f5-9452ad52306d"
   },
   "outputs": [
    {
     "data": {
      "text/plain": [
       "(327823, 37)"
      ]
     },
     "execution_count": 3,
     "metadata": {},
     "output_type": "execute_result"
    }
   ],
   "source": [
    "url_b = 'https://drive.google.com/file/d/1nGckSszPPifPvR3o5FeYaKArUYbfjHGn/view?usp=sharing'\r\n",
    "path_b = 'https://drive.google.com/uc?export=download&id='+url_b.split('/')[-2]\r\n",
    "base_df_b = pd.read_excel(path_b)\r\n",
    "base_df_b.shape"
   ]
  },
  {
   "cell_type": "code",
   "execution_count": 4,
   "metadata": {
    "colab": {
     "base_uri": "https://localhost:8080/"
    },
    "id": "LZMd2o2ArGXf",
    "outputId": "1cd06c76-52cb-42ed-9845-70368cd27f8d"
   },
   "outputs": [
    {
     "data": {
      "text/plain": [
       "(637822, 37)"
      ]
     },
     "execution_count": 4,
     "metadata": {},
     "output_type": "execute_result"
    }
   ],
   "source": [
    "base_df = base_df_a.append(base_df_b)\r\n",
    "base_df.shape"
   ]
  },
  {
   "cell_type": "code",
   "execution_count": 5,
   "metadata": {
    "colab": {
     "base_uri": "https://localhost:8080/",
     "height": 317
    },
    "id": "gKKX4MkfwClc",
    "outputId": "be5bc597-11a7-4cc6-e1ec-7219959c2303"
   },
   "outputs": [
    {
     "data": {
      "text/html": [
       "<div>\n",
       "<style scoped>\n",
       "    .dataframe tbody tr th:only-of-type {\n",
       "        vertical-align: middle;\n",
       "    }\n",
       "\n",
       "    .dataframe tbody tr th {\n",
       "        vertical-align: top;\n",
       "    }\n",
       "\n",
       "    .dataframe thead th {\n",
       "        text-align: right;\n",
       "    }\n",
       "</style>\n",
       "<table border=\"1\" class=\"dataframe\">\n",
       "  <thead>\n",
       "    <tr style=\"text-align: right;\">\n",
       "      <th></th>\n",
       "      <th>NU_ANO_SEMESTRE_INSCRICAO</th>\n",
       "      <th>SG_SEXO</th>\n",
       "      <th>DS_OCUPACAO</th>\n",
       "      <th>DS_ESTADO_CIVIL</th>\n",
       "      <th>VL_RENDA_FAMILIAR_BRUTA_MENSAL</th>\n",
       "      <th>VL_RENDA_PESSOAL_BRUTA_MENSAL</th>\n",
       "      <th>NO_MUNICIPIO</th>\n",
       "      <th>SG_UF</th>\n",
       "      <th>DS_RACA_COR</th>\n",
       "      <th>ST_ENSINO_MEDIO_ESCOLA_PUBLICA</th>\n",
       "      <th>...</th>\n",
       "      <th>NU_PERCENT_SOLICITADO_FINANC</th>\n",
       "      <th>VL_FINANCIADO_SEMESTRE</th>\n",
       "      <th>VL_FINANC_RECURSO_ALUNO</th>\n",
       "      <th>VL_TOTAL_FINANCIAMENTO</th>\n",
       "      <th>VL_LIMITE_GLOBAL</th>\n",
       "      <th>dt_inicio_cont</th>\n",
       "      <th>fase_contrato</th>\n",
       "      <th>nu_dias_atraso</th>\n",
       "      <th>vl_divida</th>\n",
       "      <th>ANO_NASC</th>\n",
       "    </tr>\n",
       "  </thead>\n",
       "  <tbody>\n",
       "    <tr>\n",
       "      <th>0</th>\n",
       "      <td>12014</td>\n",
       "      <td>F</td>\n",
       "      <td>Vendedor e prestador de serviÃ§os do comÃ©rcio...</td>\n",
       "      <td>Solteiro</td>\n",
       "      <td>728.74</td>\n",
       "      <td>728.74</td>\n",
       "      <td>NaN</td>\n",
       "      <td>NaN</td>\n",
       "      <td>P</td>\n",
       "      <td>S</td>\n",
       "      <td>...</td>\n",
       "      <td>100</td>\n",
       "      <td>1.683180e+03</td>\n",
       "      <td>0.00</td>\n",
       "      <td>13465.44</td>\n",
       "      <td>15730.80</td>\n",
       "      <td>2014-05-02</td>\n",
       "      <td>Amortizacao</td>\n",
       "      <td>0</td>\n",
       "      <td>14549.68</td>\n",
       "      <td>1991</td>\n",
       "    </tr>\n",
       "    <tr>\n",
       "      <th>1</th>\n",
       "      <td>12013</td>\n",
       "      <td>F</td>\n",
       "      <td>Outros trabalhadores de serviÃ§os diversos</td>\n",
       "      <td>Solteiro</td>\n",
       "      <td>553.35</td>\n",
       "      <td>553.35</td>\n",
       "      <td>NaN</td>\n",
       "      <td>NaN</td>\n",
       "      <td>P</td>\n",
       "      <td>S</td>\n",
       "      <td>...</td>\n",
       "      <td>100</td>\n",
       "      <td>2.650500e+03</td>\n",
       "      <td>0.00</td>\n",
       "      <td>15903.00</td>\n",
       "      <td>16800.75</td>\n",
       "      <td>2013-02-13</td>\n",
       "      <td>Amortizacao</td>\n",
       "      <td>0</td>\n",
       "      <td>12139.80</td>\n",
       "      <td>1990</td>\n",
       "    </tr>\n",
       "    <tr>\n",
       "      <th>2</th>\n",
       "      <td>22014</td>\n",
       "      <td>F</td>\n",
       "      <td>Estudante</td>\n",
       "      <td>Solteiro</td>\n",
       "      <td>5962.49</td>\n",
       "      <td>0.00</td>\n",
       "      <td>NaN</td>\n",
       "      <td>NaN</td>\n",
       "      <td>P</td>\n",
       "      <td>N</td>\n",
       "      <td>...</td>\n",
       "      <td>100</td>\n",
       "      <td>2.681085e+04</td>\n",
       "      <td>0.00</td>\n",
       "      <td>321730.20</td>\n",
       "      <td>377937.00</td>\n",
       "      <td>2014-08-12</td>\n",
       "      <td>Utilizacao</td>\n",
       "      <td>0</td>\n",
       "      <td>397349.62</td>\n",
       "      <td>1996</td>\n",
       "    </tr>\n",
       "    <tr>\n",
       "      <th>3</th>\n",
       "      <td>12012</td>\n",
       "      <td>F</td>\n",
       "      <td>Estudante</td>\n",
       "      <td>Solteiro</td>\n",
       "      <td>21671.74</td>\n",
       "      <td>0.00</td>\n",
       "      <td>NaN</td>\n",
       "      <td>NaN</td>\n",
       "      <td>B</td>\n",
       "      <td>N</td>\n",
       "      <td>...</td>\n",
       "      <td>100</td>\n",
       "      <td>3.206532e+04</td>\n",
       "      <td>0.00</td>\n",
       "      <td>384783.84</td>\n",
       "      <td>368181.00</td>\n",
       "      <td>2012-03-20</td>\n",
       "      <td>Utilizacao</td>\n",
       "      <td>0</td>\n",
       "      <td>434901.80</td>\n",
       "      <td>1991</td>\n",
       "    </tr>\n",
       "    <tr>\n",
       "      <th>4</th>\n",
       "      <td>22011</td>\n",
       "      <td>F</td>\n",
       "      <td>Estudante</td>\n",
       "      <td>Solteiro</td>\n",
       "      <td>1000.00</td>\n",
       "      <td>0.00</td>\n",
       "      <td>NaN</td>\n",
       "      <td>NaN</td>\n",
       "      <td>B</td>\n",
       "      <td>S</td>\n",
       "      <td>...</td>\n",
       "      <td>100</td>\n",
       "      <td>2.595000e+03</td>\n",
       "      <td>2595.00</td>\n",
       "      <td>51900.00</td>\n",
       "      <td>25612.50</td>\n",
       "      <td>2011-09-23</td>\n",
       "      <td>Amortizacao</td>\n",
       "      <td>682</td>\n",
       "      <td>27518.91</td>\n",
       "      <td>1992</td>\n",
       "    </tr>\n",
       "    <tr>\n",
       "      <th>5</th>\n",
       "      <td>22011</td>\n",
       "      <td>M</td>\n",
       "      <td>Outras ocupaÃ§Ãµes nÃ£o especificadas anterior...</td>\n",
       "      <td>Solteiro</td>\n",
       "      <td>879.00</td>\n",
       "      <td>879.00</td>\n",
       "      <td>NaN</td>\n",
       "      <td>NaN</td>\n",
       "      <td>P</td>\n",
       "      <td>S</td>\n",
       "      <td>...</td>\n",
       "      <td>100</td>\n",
       "      <td>9.195300e+15</td>\n",
       "      <td>0.00</td>\n",
       "      <td>91953.00</td>\n",
       "      <td>57915.00</td>\n",
       "      <td>2011-09-19</td>\n",
       "      <td>Amortizacao</td>\n",
       "      <td>47</td>\n",
       "      <td>101362.03</td>\n",
       "      <td>1990</td>\n",
       "    </tr>\n",
       "    <tr>\n",
       "      <th>6</th>\n",
       "      <td>12014</td>\n",
       "      <td>M</td>\n",
       "      <td>TÃ©cnico em metalmecÃ¢nica</td>\n",
       "      <td>Solteiro</td>\n",
       "      <td>2376.74</td>\n",
       "      <td>0.00</td>\n",
       "      <td>NaN</td>\n",
       "      <td>NaN</td>\n",
       "      <td>B</td>\n",
       "      <td>S</td>\n",
       "      <td>...</td>\n",
       "      <td>100</td>\n",
       "      <td>6.629990e+03</td>\n",
       "      <td>0.00</td>\n",
       "      <td>66299.90</td>\n",
       "      <td>82500.00</td>\n",
       "      <td>2014-02-26</td>\n",
       "      <td>Carencia</td>\n",
       "      <td>0</td>\n",
       "      <td>98476.98</td>\n",
       "      <td>1991</td>\n",
       "    </tr>\n",
       "    <tr>\n",
       "      <th>7</th>\n",
       "      <td>12014</td>\n",
       "      <td>F</td>\n",
       "      <td>Estudante</td>\n",
       "      <td>Solteiro</td>\n",
       "      <td>3781.57</td>\n",
       "      <td>0.00</td>\n",
       "      <td>NaN</td>\n",
       "      <td>NaN</td>\n",
       "      <td>B</td>\n",
       "      <td>S</td>\n",
       "      <td>...</td>\n",
       "      <td>50</td>\n",
       "      <td>1.398100e+03</td>\n",
       "      <td>1398.09</td>\n",
       "      <td>22369.52</td>\n",
       "      <td>13140.00</td>\n",
       "      <td>2014-01-30</td>\n",
       "      <td>Amortizacao</td>\n",
       "      <td>21</td>\n",
       "      <td>9175.88</td>\n",
       "      <td>1996</td>\n",
       "    </tr>\n",
       "    <tr>\n",
       "      <th>8</th>\n",
       "      <td>22012</td>\n",
       "      <td>F</td>\n",
       "      <td>Estudante</td>\n",
       "      <td>Solteiro</td>\n",
       "      <td>1050.00</td>\n",
       "      <td>0.00</td>\n",
       "      <td>NaN</td>\n",
       "      <td>NaN</td>\n",
       "      <td>P</td>\n",
       "      <td>S</td>\n",
       "      <td>...</td>\n",
       "      <td>100</td>\n",
       "      <td>5.054820e+03</td>\n",
       "      <td>0.00</td>\n",
       "      <td>40438.56</td>\n",
       "      <td>41279.40</td>\n",
       "      <td>2012-10-15</td>\n",
       "      <td>Amortizacao</td>\n",
       "      <td>600</td>\n",
       "      <td>52153.52</td>\n",
       "      <td>1991</td>\n",
       "    </tr>\n",
       "    <tr>\n",
       "      <th>9</th>\n",
       "      <td>12014</td>\n",
       "      <td>F</td>\n",
       "      <td>Estudante</td>\n",
       "      <td>Solteiro</td>\n",
       "      <td>2285.31</td>\n",
       "      <td>0.00</td>\n",
       "      <td>NaN</td>\n",
       "      <td>NaN</td>\n",
       "      <td>P</td>\n",
       "      <td>S</td>\n",
       "      <td>...</td>\n",
       "      <td>100</td>\n",
       "      <td>1.527017e+04</td>\n",
       "      <td>0.00</td>\n",
       "      <td>167971.87</td>\n",
       "      <td>199294.25</td>\n",
       "      <td>2014-01-24</td>\n",
       "      <td>Carencia</td>\n",
       "      <td>0</td>\n",
       "      <td>195865.61</td>\n",
       "      <td>1993</td>\n",
       "    </tr>\n",
       "    <tr>\n",
       "      <th>10</th>\n",
       "      <td>12013</td>\n",
       "      <td>F</td>\n",
       "      <td>Estudante</td>\n",
       "      <td>Solteiro</td>\n",
       "      <td>433.00</td>\n",
       "      <td>0.00</td>\n",
       "      <td>NaN</td>\n",
       "      <td>NaN</td>\n",
       "      <td>N</td>\n",
       "      <td>N</td>\n",
       "      <td>...</td>\n",
       "      <td>50</td>\n",
       "      <td>2.318610e+03</td>\n",
       "      <td>2318.61</td>\n",
       "      <td>46372.20</td>\n",
       "      <td>23587.50</td>\n",
       "      <td>2013-02-28</td>\n",
       "      <td>Amortizacao</td>\n",
       "      <td>787</td>\n",
       "      <td>24731.85</td>\n",
       "      <td>1996</td>\n",
       "    </tr>\n",
       "    <tr>\n",
       "      <th>11</th>\n",
       "      <td>12011</td>\n",
       "      <td>F</td>\n",
       "      <td>Estudante</td>\n",
       "      <td>Solteiro</td>\n",
       "      <td>20241.33</td>\n",
       "      <td>0.00</td>\n",
       "      <td>NaN</td>\n",
       "      <td>NaN</td>\n",
       "      <td>B</td>\n",
       "      <td>N</td>\n",
       "      <td>...</td>\n",
       "      <td>70</td>\n",
       "      <td>1.665300e+04</td>\n",
       "      <td>7137.00</td>\n",
       "      <td>285480.00</td>\n",
       "      <td>205695.00</td>\n",
       "      <td>2011-03-04</td>\n",
       "      <td>Amortizacao</td>\n",
       "      <td>0</td>\n",
       "      <td>201605.80</td>\n",
       "      <td>1990</td>\n",
       "    </tr>\n",
       "    <tr>\n",
       "      <th>12</th>\n",
       "      <td>12014</td>\n",
       "      <td>F</td>\n",
       "      <td>Estudante</td>\n",
       "      <td>Solteiro</td>\n",
       "      <td>5578.12</td>\n",
       "      <td>0.00</td>\n",
       "      <td>NaN</td>\n",
       "      <td>NaN</td>\n",
       "      <td>B</td>\n",
       "      <td>N</td>\n",
       "      <td>...</td>\n",
       "      <td>100</td>\n",
       "      <td>3.128400e+04</td>\n",
       "      <td>0.00</td>\n",
       "      <td>218988.00</td>\n",
       "      <td>257250.00</td>\n",
       "      <td>2014-02-19</td>\n",
       "      <td>Amortizacao</td>\n",
       "      <td>0</td>\n",
       "      <td>251503.10</td>\n",
       "      <td>1992</td>\n",
       "    </tr>\n",
       "    <tr>\n",
       "      <th>13</th>\n",
       "      <td>22014</td>\n",
       "      <td>F</td>\n",
       "      <td>Estudante</td>\n",
       "      <td>Solteiro</td>\n",
       "      <td>1920.40</td>\n",
       "      <td>0.00</td>\n",
       "      <td>NaN</td>\n",
       "      <td>NaN</td>\n",
       "      <td>P</td>\n",
       "      <td>S</td>\n",
       "      <td>...</td>\n",
       "      <td>100</td>\n",
       "      <td>3.595110e+03</td>\n",
       "      <td>3595.11</td>\n",
       "      <td>64711.98</td>\n",
       "      <td>38012.29</td>\n",
       "      <td>2014-09-17</td>\n",
       "      <td>Utilizacao</td>\n",
       "      <td>0</td>\n",
       "      <td>40645.92</td>\n",
       "      <td>1995</td>\n",
       "    </tr>\n",
       "    <tr>\n",
       "      <th>14</th>\n",
       "      <td>12014</td>\n",
       "      <td>F</td>\n",
       "      <td>Trabalhador dos serviÃ§os de administraÃ§Ã£o, ...</td>\n",
       "      <td>Solteiro</td>\n",
       "      <td>974.94</td>\n",
       "      <td>974.94</td>\n",
       "      <td>NaN</td>\n",
       "      <td>NaN</td>\n",
       "      <td>P</td>\n",
       "      <td>N</td>\n",
       "      <td>...</td>\n",
       "      <td>100</td>\n",
       "      <td>6.995800e+03</td>\n",
       "      <td>0.00</td>\n",
       "      <td>69958.00</td>\n",
       "      <td>82196.25</td>\n",
       "      <td>2014-02-17</td>\n",
       "      <td>Utilizacao</td>\n",
       "      <td>57</td>\n",
       "      <td>119518.29</td>\n",
       "      <td>1995</td>\n",
       "    </tr>\n",
       "    <tr>\n",
       "      <th>15</th>\n",
       "      <td>22013</td>\n",
       "      <td>M</td>\n",
       "      <td>Estudante</td>\n",
       "      <td>Solteiro</td>\n",
       "      <td>678.00</td>\n",
       "      <td>0.00</td>\n",
       "      <td>NaN</td>\n",
       "      <td>NaN</td>\n",
       "      <td>B</td>\n",
       "      <td>S</td>\n",
       "      <td>...</td>\n",
       "      <td>50</td>\n",
       "      <td>3.080820e+03</td>\n",
       "      <td>3080.83</td>\n",
       "      <td>55454.85</td>\n",
       "      <td>31043.25</td>\n",
       "      <td>2013-07-26</td>\n",
       "      <td>Amortizacao</td>\n",
       "      <td>0</td>\n",
       "      <td>21822.17</td>\n",
       "      <td>1993</td>\n",
       "    </tr>\n",
       "    <tr>\n",
       "      <th>16</th>\n",
       "      <td>22014</td>\n",
       "      <td>F</td>\n",
       "      <td>Estudante</td>\n",
       "      <td>Solteiro</td>\n",
       "      <td>755.00</td>\n",
       "      <td>755.00</td>\n",
       "      <td>NaN</td>\n",
       "      <td>NaN</td>\n",
       "      <td>B</td>\n",
       "      <td>N</td>\n",
       "      <td>...</td>\n",
       "      <td>100</td>\n",
       "      <td>3.619160e+03</td>\n",
       "      <td>0.00</td>\n",
       "      <td>25334.12</td>\n",
       "      <td>29763.12</td>\n",
       "      <td>2014-09-01</td>\n",
       "      <td>Amortizacao</td>\n",
       "      <td>82</td>\n",
       "      <td>27961.70</td>\n",
       "      <td>1992</td>\n",
       "    </tr>\n",
       "    <tr>\n",
       "      <th>17</th>\n",
       "      <td>22014</td>\n",
       "      <td>M</td>\n",
       "      <td>Vendedor e prestador de serviÃ§os do comÃ©rcio...</td>\n",
       "      <td>Casado</td>\n",
       "      <td>1177.00</td>\n",
       "      <td>1177.00</td>\n",
       "      <td>NaN</td>\n",
       "      <td>NaN</td>\n",
       "      <td>N</td>\n",
       "      <td>S</td>\n",
       "      <td>...</td>\n",
       "      <td>50</td>\n",
       "      <td>2.039850e+03</td>\n",
       "      <td>2039.85</td>\n",
       "      <td>40797.00</td>\n",
       "      <td>25498.12</td>\n",
       "      <td>2014-12-15</td>\n",
       "      <td>Carencia</td>\n",
       "      <td>0</td>\n",
       "      <td>31910.90</td>\n",
       "      <td>1989</td>\n",
       "    </tr>\n",
       "    <tr>\n",
       "      <th>18</th>\n",
       "      <td>12012</td>\n",
       "      <td>M</td>\n",
       "      <td>Outras ocupaÃ§Ãµes nÃ£o especificadas anterior...</td>\n",
       "      <td>Solteiro</td>\n",
       "      <td>1025.00</td>\n",
       "      <td>1025.00</td>\n",
       "      <td>NaN</td>\n",
       "      <td>NaN</td>\n",
       "      <td>P</td>\n",
       "      <td>S</td>\n",
       "      <td>...</td>\n",
       "      <td>100</td>\n",
       "      <td>6.423900e+03</td>\n",
       "      <td>0.00</td>\n",
       "      <td>51391.20</td>\n",
       "      <td>50616.00</td>\n",
       "      <td>2012-03-22</td>\n",
       "      <td>Amortizacao</td>\n",
       "      <td>0</td>\n",
       "      <td>57629.62</td>\n",
       "      <td>1990</td>\n",
       "    </tr>\n",
       "    <tr>\n",
       "      <th>19</th>\n",
       "      <td>12014</td>\n",
       "      <td>M</td>\n",
       "      <td>Outras ocupaÃ§Ãµes nÃ£o especificadas anterior...</td>\n",
       "      <td>Solteiro</td>\n",
       "      <td>2394.22</td>\n",
       "      <td>1476.14</td>\n",
       "      <td>NaN</td>\n",
       "      <td>NaN</td>\n",
       "      <td>P</td>\n",
       "      <td>N</td>\n",
       "      <td>...</td>\n",
       "      <td>100</td>\n",
       "      <td>3.626110e+03</td>\n",
       "      <td>0.00</td>\n",
       "      <td>29008.88</td>\n",
       "      <td>34080.00</td>\n",
       "      <td>2014-01-31</td>\n",
       "      <td>Amortizacao</td>\n",
       "      <td>970</td>\n",
       "      <td>20067.39</td>\n",
       "      <td>1989</td>\n",
       "    </tr>\n",
       "  </tbody>\n",
       "</table>\n",
       "<p>20 rows × 37 columns</p>\n",
       "</div>"
      ],
      "text/plain": [
       "    NU_ANO_SEMESTRE_INSCRICAO SG_SEXO  \\\n",
       "0                       12014       F   \n",
       "1                       12013       F   \n",
       "2                       22014       F   \n",
       "3                       12012       F   \n",
       "4                       22011       F   \n",
       "5                       22011       M   \n",
       "6                       12014       M   \n",
       "7                       12014       F   \n",
       "8                       22012       F   \n",
       "9                       12014       F   \n",
       "10                      12013       F   \n",
       "11                      12011       F   \n",
       "12                      12014       F   \n",
       "13                      22014       F   \n",
       "14                      12014       F   \n",
       "15                      22013       M   \n",
       "16                      22014       F   \n",
       "17                      22014       M   \n",
       "18                      12012       M   \n",
       "19                      12014       M   \n",
       "\n",
       "                                          DS_OCUPACAO DS_ESTADO_CIVIL  \\\n",
       "0   Vendedor e prestador de serviÃ§os do comÃ©rcio...        Solteiro   \n",
       "1          Outros trabalhadores de serviÃ§os diversos        Solteiro   \n",
       "2                                           Estudante        Solteiro   \n",
       "3                                           Estudante        Solteiro   \n",
       "4                                           Estudante        Solteiro   \n",
       "5   Outras ocupaÃ§Ãµes nÃ£o especificadas anterior...        Solteiro   \n",
       "6                          TÃ©cnico em metalmecÃ¢nica        Solteiro   \n",
       "7                                           Estudante        Solteiro   \n",
       "8                                           Estudante        Solteiro   \n",
       "9                                           Estudante        Solteiro   \n",
       "10                                          Estudante        Solteiro   \n",
       "11                                          Estudante        Solteiro   \n",
       "12                                          Estudante        Solteiro   \n",
       "13                                          Estudante        Solteiro   \n",
       "14  Trabalhador dos serviÃ§os de administraÃ§Ã£o, ...        Solteiro   \n",
       "15                                          Estudante        Solteiro   \n",
       "16                                          Estudante        Solteiro   \n",
       "17  Vendedor e prestador de serviÃ§os do comÃ©rcio...          Casado   \n",
       "18  Outras ocupaÃ§Ãµes nÃ£o especificadas anterior...        Solteiro   \n",
       "19  Outras ocupaÃ§Ãµes nÃ£o especificadas anterior...        Solteiro   \n",
       "\n",
       "    VL_RENDA_FAMILIAR_BRUTA_MENSAL  VL_RENDA_PESSOAL_BRUTA_MENSAL  \\\n",
       "0                           728.74                         728.74   \n",
       "1                           553.35                         553.35   \n",
       "2                          5962.49                           0.00   \n",
       "3                         21671.74                           0.00   \n",
       "4                          1000.00                           0.00   \n",
       "5                           879.00                         879.00   \n",
       "6                          2376.74                           0.00   \n",
       "7                          3781.57                           0.00   \n",
       "8                          1050.00                           0.00   \n",
       "9                          2285.31                           0.00   \n",
       "10                          433.00                           0.00   \n",
       "11                        20241.33                           0.00   \n",
       "12                         5578.12                           0.00   \n",
       "13                         1920.40                           0.00   \n",
       "14                          974.94                         974.94   \n",
       "15                          678.00                           0.00   \n",
       "16                          755.00                         755.00   \n",
       "17                         1177.00                        1177.00   \n",
       "18                         1025.00                        1025.00   \n",
       "19                         2394.22                        1476.14   \n",
       "\n",
       "   NO_MUNICIPIO SG_UF DS_RACA_COR ST_ENSINO_MEDIO_ESCOLA_PUBLICA  ...  \\\n",
       "0           NaN   NaN           P                              S  ...   \n",
       "1           NaN   NaN           P                              S  ...   \n",
       "2           NaN   NaN           P                              N  ...   \n",
       "3           NaN   NaN           B                              N  ...   \n",
       "4           NaN   NaN           B                              S  ...   \n",
       "5           NaN   NaN           P                              S  ...   \n",
       "6           NaN   NaN           B                              S  ...   \n",
       "7           NaN   NaN           B                              S  ...   \n",
       "8           NaN   NaN           P                              S  ...   \n",
       "9           NaN   NaN           P                              S  ...   \n",
       "10          NaN   NaN           N                              N  ...   \n",
       "11          NaN   NaN           B                              N  ...   \n",
       "12          NaN   NaN           B                              N  ...   \n",
       "13          NaN   NaN           P                              S  ...   \n",
       "14          NaN   NaN           P                              N  ...   \n",
       "15          NaN   NaN           B                              S  ...   \n",
       "16          NaN   NaN           B                              N  ...   \n",
       "17          NaN   NaN           N                              S  ...   \n",
       "18          NaN   NaN           P                              S  ...   \n",
       "19          NaN   NaN           P                              N  ...   \n",
       "\n",
       "    NU_PERCENT_SOLICITADO_FINANC  VL_FINANCIADO_SEMESTRE  \\\n",
       "0                            100            1.683180e+03   \n",
       "1                            100            2.650500e+03   \n",
       "2                            100            2.681085e+04   \n",
       "3                            100            3.206532e+04   \n",
       "4                            100            2.595000e+03   \n",
       "5                            100            9.195300e+15   \n",
       "6                            100            6.629990e+03   \n",
       "7                             50            1.398100e+03   \n",
       "8                            100            5.054820e+03   \n",
       "9                            100            1.527017e+04   \n",
       "10                            50            2.318610e+03   \n",
       "11                            70            1.665300e+04   \n",
       "12                           100            3.128400e+04   \n",
       "13                           100            3.595110e+03   \n",
       "14                           100            6.995800e+03   \n",
       "15                            50            3.080820e+03   \n",
       "16                           100            3.619160e+03   \n",
       "17                            50            2.039850e+03   \n",
       "18                           100            6.423900e+03   \n",
       "19                           100            3.626110e+03   \n",
       "\n",
       "   VL_FINANC_RECURSO_ALUNO VL_TOTAL_FINANCIAMENTO  VL_LIMITE_GLOBAL  \\\n",
       "0                     0.00               13465.44          15730.80   \n",
       "1                     0.00               15903.00          16800.75   \n",
       "2                     0.00              321730.20         377937.00   \n",
       "3                     0.00              384783.84         368181.00   \n",
       "4                  2595.00               51900.00          25612.50   \n",
       "5                     0.00               91953.00          57915.00   \n",
       "6                     0.00               66299.90          82500.00   \n",
       "7                  1398.09               22369.52          13140.00   \n",
       "8                     0.00               40438.56          41279.40   \n",
       "9                     0.00              167971.87         199294.25   \n",
       "10                 2318.61               46372.20          23587.50   \n",
       "11                 7137.00              285480.00         205695.00   \n",
       "12                    0.00              218988.00         257250.00   \n",
       "13                 3595.11               64711.98          38012.29   \n",
       "14                    0.00               69958.00          82196.25   \n",
       "15                 3080.83               55454.85          31043.25   \n",
       "16                    0.00               25334.12          29763.12   \n",
       "17                 2039.85               40797.00          25498.12   \n",
       "18                    0.00               51391.20          50616.00   \n",
       "19                    0.00               29008.88          34080.00   \n",
       "\n",
       "    dt_inicio_cont  fase_contrato  nu_dias_atraso  vl_divida  ANO_NASC  \n",
       "0       2014-05-02    Amortizacao               0   14549.68      1991  \n",
       "1       2013-02-13    Amortizacao               0   12139.80      1990  \n",
       "2       2014-08-12     Utilizacao               0  397349.62      1996  \n",
       "3       2012-03-20     Utilizacao               0  434901.80      1991  \n",
       "4       2011-09-23    Amortizacao             682   27518.91      1992  \n",
       "5       2011-09-19    Amortizacao              47  101362.03      1990  \n",
       "6       2014-02-26       Carencia               0   98476.98      1991  \n",
       "7       2014-01-30    Amortizacao              21    9175.88      1996  \n",
       "8       2012-10-15    Amortizacao             600   52153.52      1991  \n",
       "9       2014-01-24       Carencia               0  195865.61      1993  \n",
       "10      2013-02-28    Amortizacao             787   24731.85      1996  \n",
       "11      2011-03-04    Amortizacao               0  201605.80      1990  \n",
       "12      2014-02-19    Amortizacao               0  251503.10      1992  \n",
       "13      2014-09-17     Utilizacao               0   40645.92      1995  \n",
       "14      2014-02-17     Utilizacao              57  119518.29      1995  \n",
       "15      2013-07-26    Amortizacao               0   21822.17      1993  \n",
       "16      2014-09-01    Amortizacao              82   27961.70      1992  \n",
       "17      2014-12-15       Carencia               0   31910.90      1989  \n",
       "18      2012-03-22    Amortizacao               0   57629.62      1990  \n",
       "19      2014-01-31    Amortizacao             970   20067.39      1989  \n",
       "\n",
       "[20 rows x 37 columns]"
      ]
     },
     "execution_count": 5,
     "metadata": {},
     "output_type": "execute_result"
    }
   ],
   "source": [
    "base_df.head(20)"
   ]
  },
  {
   "cell_type": "code",
   "execution_count": 42,
   "metadata": {
    "colab": {
     "base_uri": "https://localhost:8080/"
    },
    "id": "bO2BElG1wXup",
    "outputId": "37887cfe-bee2-427e-dccd-fc99f63fb4fe"
   },
   "outputs": [
    {
     "data": {
      "text/plain": [
       "NU_ANO_SEMESTRE_INSCRICAO                  int64\n",
       "SG_SEXO                                   object\n",
       "DS_OCUPACAO                               object\n",
       "DS_ESTADO_CIVIL                           object\n",
       "VL_RENDA_FAMILIAR_BRUTA_MENSAL           float64\n",
       "VL_RENDA_PESSOAL_BRUTA_MENSAL            float64\n",
       "NO_MUNICIPIO                              object\n",
       "SG_UF                                     object\n",
       "DS_RACA_COR                               object\n",
       "ST_ENSINO_MEDIO_ESCOLA_PUBLICA            object\n",
       "NU_ANO_CONCLUSAO_ENSINO_MEDIO            float64\n",
       "NU_SEMESTRE_REFERENCIA                     int64\n",
       "SG_UF_CURSO                               object\n",
       "NO_CURSO                                  object\n",
       "VL_AVALIACAO_IGC                         float64\n",
       "VL_FAIXA_CPC                             float64\n",
       "VL_FAIXA_CC                              float64\n",
       "QT_SEMESTRES_CURSO                         int64\n",
       "QT_SEMESTRE_CONCLUIDO                      int64\n",
       "QT_SEMESTRE_FINANCIAMENTO                  int64\n",
       "QT_MESES_FINANC_SEMESTRE_ATUAL             int64\n",
       "QT_MEMBRO                                float64\n",
       "VL_RENDA_PER_CAPITA                      float64\n",
       "VL_SEMESTRE_SEM_DESCONTO                 float64\n",
       "VL_SEMESTRE_COM_DESCONTO                 float64\n",
       "VL_SEMESTRE_ATUAL                        float64\n",
       "NU_PERCENTUAL_COMPROMETIMENTO            float64\n",
       "NU_PERCENT_SOLICITADO_FINANC               int64\n",
       "VL_FINANCIADO_SEMESTRE                   float64\n",
       "VL_FINANC_RECURSO_ALUNO                  float64\n",
       "VL_TOTAL_FINANCIAMENTO                   float64\n",
       "VL_LIMITE_GLOBAL                         float64\n",
       "dt_inicio_cont                    datetime64[ns]\n",
       "fase_contrato                             object\n",
       "nu_dias_atraso                             int64\n",
       "vl_divida                                float64\n",
       "ANO_NASC                                  object\n",
       "dtype: object"
      ]
     },
     "execution_count": 42,
     "metadata": {
      "tags": []
     },
     "output_type": "execute_result"
    }
   ],
   "source": [
    "base_df.dtypes"
   ]
  },
  {
   "cell_type": "markdown",
   "metadata": {
    "id": "8ulPt-vQtLbA"
   },
   "source": [
    "# Feature Analysis"
   ]
  },
  {
   "cell_type": "markdown",
   "metadata": {
    "id": "GusSMdq3tgFZ"
   },
   "source": [
    "## Carol \r\n",
    "\r\n",
    "SG_SEXO\r\n",
    "DS_ESTADO_CIVIL\r\n",
    "VL_RENDA_PESSOAL_BRUTA_MENSAL\r\n",
    "SG_UF\r\n",
    "ST_ENSINO_MEDIO_ESCOLA_PUBLICA\r\n",
    "NU_SEMESTRE_REFERENCIA\r\n",
    "NO_CURSO\r\n",
    "QT_SEMESTRE_CONCLUIDO\r\n",
    "VL_SEMESTRE_SEM_DESCONTO\r\n",
    "VL_SEMESTRE_ATUAL\r\n",
    "VL_FINANCIADO_SEMESTRE\r\n",
    "fase_contrato\r\n",
    "vl_divida"
   ]
  },
  {
   "cell_type": "markdown",
   "metadata": {
    "id": "wYbmwg7vwojn"
   },
   "source": [
    "### SG_SEXO\r\n",
    "gender =  male, female\r\n",
    "NAs = 6 --> remove "
   ]
  },
  {
   "cell_type": "code",
   "execution_count": 52,
   "metadata": {
    "colab": {
     "base_uri": "https://localhost:8080/"
    },
    "id": "F7ZnmBWCuxim",
    "outputId": "7239214c-1b56-4809-aa53-839bfe3198b7"
   },
   "outputs": [
    {
     "data": {
      "text/plain": [
       "F    381211\n",
       "M    256605\n",
       "Name: SG_SEXO, dtype: int64"
      ]
     },
     "execution_count": 52,
     "metadata": {
      "tags": []
     },
     "output_type": "execute_result"
    }
   ],
   "source": [
    "base_df['SG_SEXO'].value_counts()"
   ]
  },
  {
   "cell_type": "code",
   "execution_count": 53,
   "metadata": {
    "colab": {
     "base_uri": "https://localhost:8080/"
    },
    "id": "oybuu2nixsjQ",
    "outputId": "58d00b11-6684-44e0-84ff-69ccedbb3a6c"
   },
   "outputs": [
    {
     "data": {
      "text/plain": [
       "6"
      ]
     },
     "execution_count": 53,
     "metadata": {
      "tags": []
     },
     "output_type": "execute_result"
    }
   ],
   "source": [
    "sum(pd.isnull(base_df['SG_SEXO']))"
   ]
  },
  {
   "cell_type": "markdown",
   "metadata": {
    "id": "PXLW7KgeyO4a"
   },
   "source": [
    "### DS_ESTADO_CIVIL\r\n",
    "marital_status =  single, married, divorced, civil union, separated, widowed\r\n",
    "NAs = 75 --> remove "
   ]
  },
  {
   "cell_type": "code",
   "execution_count": 54,
   "metadata": {
    "colab": {
     "base_uri": "https://localhost:8080/"
    },
    "id": "ZE7QbE-FyO43",
    "outputId": "b9574cda-83dd-430f-f142-065e099e87e3"
   },
   "outputs": [
    {
     "data": {
      "text/plain": [
       "Solteiro           490754\n",
       "Casado             103754\n",
       "Divorciado          18549\n",
       "UniÃ£o estÃ¡vel     17163\n",
       "Separado             6133\n",
       "ViÃºvo               1394\n",
       "Name: DS_ESTADO_CIVIL, dtype: int64"
      ]
     },
     "execution_count": 54,
     "metadata": {
      "tags": []
     },
     "output_type": "execute_result"
    }
   ],
   "source": [
    "base_df['DS_ESTADO_CIVIL'].value_counts()"
   ]
  },
  {
   "cell_type": "code",
   "execution_count": 55,
   "metadata": {
    "colab": {
     "base_uri": "https://localhost:8080/"
    },
    "id": "QoneH1TayO45",
    "outputId": "1107ca85-a553-486c-e0fb-ba337739c023"
   },
   "outputs": [
    {
     "data": {
      "text/plain": [
       "75"
      ]
     },
     "execution_count": 55,
     "metadata": {
      "tags": []
     },
     "output_type": "execute_result"
    }
   ],
   "source": [
    "sum(pd.isnull(base_df['DS_ESTADO_CIVIL']))"
   ]
  },
  {
   "cell_type": "markdown",
   "metadata": {
    "id": "TuVaJRgBy1M1"
   },
   "source": [
    "### VL_RENDA_PESSOAL_BRUTA_MENSAL\r\n",
    "personal_income =  numeric values\r\n",
    "NAs = 0"
   ]
  },
  {
   "cell_type": "code",
   "execution_count": null,
   "metadata": {
    "id": "yuBWWJFPy1Ne"
   },
   "outputs": [],
   "source": [
    "base_df['VL_RENDA_PESSOAL_BRUTA_MENSAL'].value_counts()"
   ]
  },
  {
   "cell_type": "code",
   "execution_count": 57,
   "metadata": {
    "colab": {
     "base_uri": "https://localhost:8080/"
    },
    "id": "Pli73EHmy1No",
    "outputId": "a83d4297-518d-4778-bf52-902f05dda844"
   },
   "outputs": [
    {
     "data": {
      "text/plain": [
       "0"
      ]
     },
     "execution_count": 57,
     "metadata": {
      "tags": []
     },
     "output_type": "execute_result"
    }
   ],
   "source": [
    "sum(pd.isnull(base_df['VL_RENDA_PESSOAL_BRUTA_MENSAL']))"
   ]
  },
  {
   "cell_type": "markdown",
   "metadata": {
    "id": "rsepUwj-zMUP"
   },
   "source": [
    "### ST_ENSINO_MEDIO_ESCOLA_PUBLICA\r\n",
    "public_hs = yes, no, partial\r\n",
    "NAs = 0"
   ]
  },
  {
   "cell_type": "code",
   "execution_count": 58,
   "metadata": {
    "colab": {
     "base_uri": "https://localhost:8080/"
    },
    "id": "QJBTpy6MzMUQ",
    "outputId": "5f9f6d27-3ecd-426a-f4fb-8b4f1a2ddc6b"
   },
   "outputs": [
    {
     "data": {
      "text/plain": [
       "S    502686\n",
       "N     97217\n",
       "P     37919\n",
       "Name: ST_ENSINO_MEDIO_ESCOLA_PUBLICA, dtype: int64"
      ]
     },
     "execution_count": 58,
     "metadata": {
      "tags": []
     },
     "output_type": "execute_result"
    }
   ],
   "source": [
    "base_df['ST_ENSINO_MEDIO_ESCOLA_PUBLICA'].value_counts()"
   ]
  },
  {
   "cell_type": "code",
   "execution_count": 59,
   "metadata": {
    "colab": {
     "base_uri": "https://localhost:8080/"
    },
    "id": "fCaaD-UfzMUR",
    "outputId": "62c3af2f-11bf-4791-df3e-c920bd340579"
   },
   "outputs": [
    {
     "data": {
      "text/plain": [
       "0"
      ]
     },
     "execution_count": 59,
     "metadata": {
      "tags": []
     },
     "output_type": "execute_result"
    }
   ],
   "source": [
    "sum(pd.isnull(base_df['ST_ENSINO_MEDIO_ESCOLA_PUBLICA']))"
   ]
  },
  {
   "cell_type": "markdown",
   "metadata": {
    "id": "HBec8LlM0jXZ"
   },
   "source": [
    "### NU_SEMESTRE_REFERENCIA\r\n",
    "n_semester = all equal to 1.2015\r\n",
    "NAs = 0\r\n",
    "DELETE"
   ]
  },
  {
   "cell_type": "code",
   "execution_count": 60,
   "metadata": {
    "colab": {
     "base_uri": "https://localhost:8080/"
    },
    "id": "9Yg8JSPn0jXr",
    "outputId": "79df7a1b-7e8c-4e45-9827-24b41d267c00"
   },
   "outputs": [
    {
     "data": {
      "text/plain": [
       "12015    637822\n",
       "Name: NU_SEMESTRE_REFERENCIA, dtype: int64"
      ]
     },
     "execution_count": 60,
     "metadata": {
      "tags": []
     },
     "output_type": "execute_result"
    }
   ],
   "source": [
    "base_df['NU_SEMESTRE_REFERENCIA'].value_counts()"
   ]
  },
  {
   "cell_type": "code",
   "execution_count": null,
   "metadata": {
    "colab": {
     "base_uri": "https://localhost:8080/"
    },
    "id": "ziJbgcMD0jX0",
    "outputId": "62c3af2f-11bf-4791-df3e-c920bd340579"
   },
   "outputs": [
    {
     "data": {
      "text/plain": [
       "0"
      ]
     },
     "execution_count": 59,
     "metadata": {
      "tags": []
     },
     "output_type": "execute_result"
    }
   ],
   "source": [
    "sum(pd.isnull(base_df['NU_SEMESTRE_REFERENCIA']))"
   ]
  },
  {
   "cell_type": "markdown",
   "metadata": {
    "id": "3hWuEsqp00qM"
   },
   "source": [
    "### NO_CURSO\r\n",
    "degree = 377 different objects\r\n",
    "NAs = 0"
   ]
  },
  {
   "cell_type": "code",
   "execution_count": null,
   "metadata": {
    "id": "IGHweGiz00qy"
   },
   "outputs": [],
   "source": [
    "base_df['NO_CURSO'].value_counts()"
   ]
  },
  {
   "cell_type": "code",
   "execution_count": null,
   "metadata": {
    "colab": {
     "base_uri": "https://localhost:8080/"
    },
    "id": "-NwQNuNE00q2",
    "outputId": "62c3af2f-11bf-4791-df3e-c920bd340579"
   },
   "outputs": [
    {
     "data": {
      "text/plain": [
       "0"
      ]
     },
     "execution_count": 59,
     "metadata": {
      "tags": []
     },
     "output_type": "execute_result"
    }
   ],
   "source": [
    "sum(pd.isnull(base_df['NO_CURSO']))"
   ]
  },
  {
   "cell_type": "markdown",
   "metadata": {
    "id": "nXSa65zw1gt3"
   },
   "source": [
    "### QT_SEMESTRE_CONCLUIDO\r\n",
    "qt_semester = interger, from 2 to 14 semesters\r\n",
    "NAs = 0"
   ]
  },
  {
   "cell_type": "code",
   "execution_count": 62,
   "metadata": {
    "colab": {
     "base_uri": "https://localhost:8080/"
    },
    "id": "qpiYp3sX1gui",
    "outputId": "356e149a-a706-4653-cf13-e6a0d38d0556"
   },
   "outputs": [
    {
     "data": {
      "text/plain": [
       "2     177986\n",
       "4     118559\n",
       "1      82191\n",
       "6      78561\n",
       "3      63226\n",
       "5      43330\n",
       "8      28264\n",
       "7      23459\n",
       "0       8624\n",
       "9       8241\n",
       "10      4283\n",
       "11       946\n",
       "12       117\n",
       "13        34\n",
       "14         1\n",
       "Name: QT_SEMESTRE_CONCLUIDO, dtype: int64"
      ]
     },
     "execution_count": 62,
     "metadata": {
      "tags": []
     },
     "output_type": "execute_result"
    }
   ],
   "source": [
    "base_df['QT_SEMESTRE_CONCLUIDO'].value_counts()"
   ]
  },
  {
   "cell_type": "code",
   "execution_count": 63,
   "metadata": {
    "colab": {
     "base_uri": "https://localhost:8080/"
    },
    "id": "dD-8wZUo1gun",
    "outputId": "653e5efd-6848-45e5-8a8d-4fdfdc3103a1"
   },
   "outputs": [
    {
     "data": {
      "text/plain": [
       "0"
      ]
     },
     "execution_count": 63,
     "metadata": {
      "tags": []
     },
     "output_type": "execute_result"
    }
   ],
   "source": [
    "sum(pd.isnull(base_df['QT_SEMESTRE_CONCLUIDO']))"
   ]
  },
  {
   "cell_type": "code",
   "execution_count": 74,
   "metadata": {
    "colab": {
     "base_uri": "https://localhost:8080/"
    },
    "id": "8aFpPxmD4bBk",
    "outputId": "f7ccbf66-b551-41eb-e361-047942896269"
   },
   "outputs": [
    {
     "data": {
      "text/plain": [
       "count    637822.000000\n",
       "mean          3.621203\n",
       "std           2.168466\n",
       "min           0.000000\n",
       "25%           2.000000\n",
       "50%           3.000000\n",
       "75%           5.000000\n",
       "max          14.000000\n",
       "Name: QT_SEMESTRE_CONCLUIDO, dtype: float64"
      ]
     },
     "execution_count": 74,
     "metadata": {
      "tags": []
     },
     "output_type": "execute_result"
    }
   ],
   "source": [
    "base_df['QT_SEMESTRE_CONCLUIDO'].describe()"
   ]
  },
  {
   "cell_type": "code",
   "execution_count": 76,
   "metadata": {
    "colab": {
     "base_uri": "https://localhost:8080/",
     "height": 282
    },
    "id": "Izavcy104s0s",
    "outputId": "84fcf31e-2614-407e-b50b-c9c26da8fbd7"
   },
   "outputs": [
    {
     "data": {
      "text/plain": [
       "<matplotlib.axes._subplots.AxesSubplot at 0x7f48017554d0>"
      ]
     },
     "execution_count": 76,
     "metadata": {
      "tags": []
     },
     "output_type": "execute_result"
    },
    {
     "data": {
      "image/png": "[encoded data removed]",
      "text/plain": [
       "<Figure size 432x288 with 1 Axes>"
      ]
     },
     "metadata": {
      "needs_background": "light",
      "tags": []
     },
     "output_type": "display_data"
    }
   ],
   "source": [
    "base_df['QT_SEMESTRE_CONCLUIDO'].plot.hist()"
   ]
  },
  {
   "cell_type": "markdown",
   "metadata": {
    "id": "ZjohN2b71l2k"
   },
   "source": [
    "### VL_SEMESTRE_SEM_DESCONTO *\r\n",
    "tuition_full = numeric values\r\n",
    "NAs = 0\r\n",
    "\r\n",
    "Aparentemente alguns outliers (valores próximos de 100.000 por semestre, provavelmente dá para usar o valor com desconto para substituir)"
   ]
  },
  {
   "cell_type": "code",
   "execution_count": 64,
   "metadata": {
    "colab": {
     "base_uri": "https://localhost:8080/"
    },
    "id": "vdRS-mhe1l2l",
    "outputId": "f5e3ff66-49e9-4946-a994-72dada956632"
   },
   "outputs": [
    {
     "data": {
      "text/plain": [
       "10590.06    12739\n",
       "7172.45     11415\n",
       "7521.75     11237\n",
       "6918.00      4479\n",
       "9337.56      4256\n",
       "            ...  \n",
       "4960.32         1\n",
       "5159.22         1\n",
       "4829.00         1\n",
       "5022.18         1\n",
       "8192.00         1\n",
       "Name: VL_SEMESTRE_SEM_DESCONTO, Length: 80878, dtype: int64"
      ]
     },
     "execution_count": 64,
     "metadata": {
      "tags": []
     },
     "output_type": "execute_result"
    }
   ],
   "source": [
    "base_df['VL_SEMESTRE_SEM_DESCONTO'].value_counts()"
   ]
  },
  {
   "cell_type": "code",
   "execution_count": 66,
   "metadata": {
    "colab": {
     "base_uri": "https://localhost:8080/"
    },
    "id": "Ut3U-brH1l2n",
    "outputId": "5c12b55a-3145-46b1-ef3c-65a96dc7b764"
   },
   "outputs": [
    {
     "data": {
      "text/plain": [
       "0"
      ]
     },
     "execution_count": 66,
     "metadata": {
      "tags": []
     },
     "output_type": "execute_result"
    }
   ],
   "source": [
    "sum(pd.isnull(base_df['VL_SEMESTRE_SEM_DESCONTO']))"
   ]
  },
  {
   "cell_type": "code",
   "execution_count": 77,
   "metadata": {
    "colab": {
     "base_uri": "https://localhost:8080/"
    },
    "id": "NcMNSz9j4_Pn",
    "outputId": "228e65f0-f727-435f-e32b-d3174d759e5b"
   },
   "outputs": [
    {
     "data": {
      "text/plain": [
       "count    637822.000000\n",
       "mean       7136.078465\n",
       "std        4627.849925\n",
       "min         600.000000\n",
       "25%        4890.000000\n",
       "50%        6324.360000\n",
       "75%        7800.000000\n",
       "max       99999.240000\n",
       "Name: VL_SEMESTRE_SEM_DESCONTO, dtype: float64"
      ]
     },
     "execution_count": 77,
     "metadata": {
      "tags": []
     },
     "output_type": "execute_result"
    }
   ],
   "source": [
    "base_df['VL_SEMESTRE_SEM_DESCONTO'].describe()"
   ]
  },
  {
   "cell_type": "code",
   "execution_count": null,
   "metadata": {
    "id": "ZiLgMC4756xL"
   },
   "outputs": [],
   "source": [
    "base_df.query('VL_SEMESTRE_SEM_DESCONTO > 90000')"
   ]
  },
  {
   "cell_type": "code",
   "execution_count": 88,
   "metadata": {
    "colab": {
     "base_uri": "https://localhost:8080/",
     "height": 286
    },
    "id": "qqYV965s-uoB",
    "outputId": "e9527c2e-e4d5-46d7-a92c-cb087e1fcc46"
   },
   "outputs": [
    {
     "data": {
      "text/plain": [
       "<matplotlib.axes._subplots.AxesSubplot at 0x7f47e93fc310>"
      ]
     },
     "execution_count": 88,
     "metadata": {
      "tags": []
     },
     "output_type": "execute_result"
    },
    {
     "data": {
      "image/png": "[encoded data removed]",
      "text/plain": [
       "<Figure size 432x288 with 1 Axes>"
      ]
     },
     "metadata": {
      "needs_background": "light",
      "tags": []
     },
     "output_type": "display_data"
    }
   ],
   "source": [
    "base_df['VL_SEMESTRE_SEM_DESCONTO'].plot.hist()"
   ]
  },
  {
   "cell_type": "markdown",
   "metadata": {
    "id": "Mbs4brqy2fW4"
   },
   "source": [
    "### VL_SEMESTRE_ATUAL\r\n",
    "tuition_current = numeric values\r\n",
    "NAs = 0\r\n",
    "\r\n",
    "Valores altos, acima de 25k por semestre. Aparentemente os valores estão corretos (comparando valor semestre, valor do semestre com desconto, valor valor financiado, etc.)"
   ]
  },
  {
   "cell_type": "code",
   "execution_count": null,
   "metadata": {
    "colab": {
     "base_uri": "https://localhost:8080/"
    },
    "id": "HYHt7lFB2fXb",
    "outputId": "f5e3ff66-49e9-4946-a994-72dada956632"
   },
   "outputs": [
    {
     "data": {
      "text/plain": [
       "10590.06    12739\n",
       "7172.45     11415\n",
       "7521.75     11237\n",
       "6918.00      4479\n",
       "9337.56      4256\n",
       "            ...  \n",
       "4960.32         1\n",
       "5159.22         1\n",
       "4829.00         1\n",
       "5022.18         1\n",
       "8192.00         1\n",
       "Name: VL_SEMESTRE_SEM_DESCONTO, Length: 80878, dtype: int64"
      ]
     },
     "execution_count": 64,
     "metadata": {
      "tags": []
     },
     "output_type": "execute_result"
    }
   ],
   "source": [
    "base_df['VL_SEMESTRE_ATUAL'].value_counts()"
   ]
  },
  {
   "cell_type": "code",
   "execution_count": 67,
   "metadata": {
    "colab": {
     "base_uri": "https://localhost:8080/"
    },
    "id": "9XJOOgkN2fXe",
    "outputId": "51ff09af-3031-4d8f-a8d8-9ad43c36b9bb"
   },
   "outputs": [
    {
     "data": {
      "text/plain": [
       "0"
      ]
     },
     "execution_count": 67,
     "metadata": {
      "tags": []
     },
     "output_type": "execute_result"
    }
   ],
   "source": [
    "sum(pd.isnull(base_df['VL_SEMESTRE_ATUAL']))"
   ]
  },
  {
   "cell_type": "code",
   "execution_count": null,
   "metadata": {
    "id": "6dxg29oI6_h0"
   },
   "outputs": [],
   "source": [
    "base_df['VL_SEMESTRE_ATUAL'].describe()"
   ]
  },
  {
   "cell_type": "code",
   "execution_count": null,
   "metadata": {
    "id": "zo4AitYd7VcT"
   },
   "outputs": [],
   "source": [
    "base_df.query('VL_SEMESTRE_ATUAL > 30000')"
   ]
  },
  {
   "cell_type": "code",
   "execution_count": 87,
   "metadata": {
    "colab": {
     "base_uri": "https://localhost:8080/",
     "height": 282
    },
    "id": "fqIWrFE0-oHk",
    "outputId": "3c00de3b-b3da-4f22-ab88-c1d7d5cf410a"
   },
   "outputs": [
    {
     "data": {
      "text/plain": [
       "<matplotlib.axes._subplots.AxesSubplot at 0x7f47e96482d0>"
      ]
     },
     "execution_count": 87,
     "metadata": {
      "tags": []
     },
     "output_type": "execute_result"
    },
    {
     "data": {
      "image/png": "[encoded data removed]",
      "text/plain": [
       "<Figure size 432x288 with 1 Axes>"
      ]
     },
     "metadata": {
      "needs_background": "light",
      "tags": []
     },
     "output_type": "display_data"
    }
   ],
   "source": [
    "base_df['VL_SEMESTRE_ATUAL'].plot.hist()"
   ]
  },
  {
   "cell_type": "markdown",
   "metadata": {
    "id": "_-LOBsMJ22o-"
   },
   "source": [
    "### VL_FINANCIADO_SEMESTRE **\r\n",
    "loan_value_sem = numeric values\r\n",
    "NAs = 0\r\n",
    "\r\n",
    "Revisar valores pelo Excel. "
   ]
  },
  {
   "cell_type": "code",
   "execution_count": null,
   "metadata": {
    "id": "H0AVo64e22pk"
   },
   "outputs": [],
   "source": [
    "base_df['VL_FINANCIADO_SEMESTRE'].value_counts()"
   ]
  },
  {
   "cell_type": "code",
   "execution_count": null,
   "metadata": {
    "id": "LA8fKldc22pq"
   },
   "outputs": [],
   "source": [
    "sum(pd.isnull(base_df['VL_FINANCIADO_SEMESTRE']))"
   ]
  },
  {
   "cell_type": "code",
   "execution_count": null,
   "metadata": {
    "id": "nmV122zQ3JYJ"
   },
   "outputs": [],
   "source": [
    "base_df['VL_FINANCIADO_SEMESTRE'].describe()"
   ]
  },
  {
   "cell_type": "code",
   "execution_count": null,
   "metadata": {
    "id": "-tlZcHNJ_HJa"
   },
   "outputs": [],
   "source": [
    "base_df['VL_FINANCIADO_SEMESTRE'].plot.hist()"
   ]
  },
  {
   "cell_type": "markdown",
   "metadata": {
    "id": "Vl2r9NBr3LqL"
   },
   "source": [
    "### fase_contrato\r\n",
    "phase = amortization, utilization, grace period, liquidation\r\n",
    "NAs = 0\r\n"
   ]
  },
  {
   "cell_type": "code",
   "execution_count": 69,
   "metadata": {
    "colab": {
     "base_uri": "https://localhost:8080/"
    },
    "id": "c2z9wvaP3LqN",
    "outputId": "ce8b02b8-2f67-4460-fa87-674d8ad2455b"
   },
   "outputs": [
    {
     "data": {
      "text/plain": [
       "Amortizacao    452885\n",
       "Utilizacao     103915\n",
       "Carencia        79654\n",
       "Liquidacao       1368\n",
       "Name: fase_contrato, dtype: int64"
      ]
     },
     "execution_count": 69,
     "metadata": {
      "tags": []
     },
     "output_type": "execute_result"
    }
   ],
   "source": [
    "base_df['fase_contrato'].value_counts()"
   ]
  },
  {
   "cell_type": "code",
   "execution_count": 70,
   "metadata": {
    "colab": {
     "base_uri": "https://localhost:8080/"
    },
    "id": "XEUm7ldc3LqR",
    "outputId": "948230b0-a911-4ad0-85d6-374dabb133a9"
   },
   "outputs": [
    {
     "data": {
      "text/plain": [
       "0"
      ]
     },
     "execution_count": 70,
     "metadata": {
      "tags": []
     },
     "output_type": "execute_result"
    }
   ],
   "source": [
    "sum(pd.isnull(base_df['fase_contrato']))"
   ]
  },
  {
   "cell_type": "markdown",
   "metadata": {
    "id": "96nSr7M_3opZ"
   },
   "source": [
    "### vl_divida\r\n",
    "total_debt = numeric values\r\n",
    "NAs = 0\r\n"
   ]
  },
  {
   "cell_type": "code",
   "execution_count": 71,
   "metadata": {
    "colab": {
     "base_uri": "https://localhost:8080/"
    },
    "id": "wOkq8VAy3op8",
    "outputId": "ef83dddf-f15b-40ae-a95e-a954942d9215"
   },
   "outputs": [
    {
     "data": {
      "text/plain": [
       "0.00         1358\n",
       "66557.24       47\n",
       "2963.77        45\n",
       "532079.37      32\n",
       "2853.57        32\n",
       "             ... \n",
       "21533.75        1\n",
       "20759.97        1\n",
       "46528.55        1\n",
       "25459.74        1\n",
       "80963.89        1\n",
       "Name: vl_divida, Length: 605984, dtype: int64"
      ]
     },
     "execution_count": 71,
     "metadata": {
      "tags": []
     },
     "output_type": "execute_result"
    }
   ],
   "source": [
    "base_df['vl_divida'].value_counts()"
   ]
  },
  {
   "cell_type": "code",
   "execution_count": 73,
   "metadata": {
    "colab": {
     "base_uri": "https://localhost:8080/"
    },
    "id": "8JcxHt9H3oqA",
    "outputId": "eb042d2e-1f6d-4d4c-a487-6a752d98b02c"
   },
   "outputs": [
    {
     "data": {
      "text/plain": [
       "0"
      ]
     },
     "execution_count": 73,
     "metadata": {
      "tags": []
     },
     "output_type": "execute_result"
    }
   ],
   "source": [
    "sum(pd.isnull(base_df['vl_divida']))"
   ]
  },
  {
   "cell_type": "code",
   "execution_count": 100,
   "metadata": {
    "colab": {
     "base_uri": "https://localhost:8080/"
    },
    "id": "fR_iQOMmAB_u",
    "outputId": "ce318e85-d67a-4f28-f43b-933191a594b1"
   },
   "outputs": [
    {
     "data": {
      "text/plain": [
       "count    637822.000000\n",
       "mean      50219.897849\n",
       "std       51960.990018\n",
       "min           0.000000\n",
       "25%       22453.375000\n",
       "50%       39904.855000\n",
       "75%       62050.492500\n",
       "max      635552.520000\n",
       "Name: vl_divida, dtype: float64"
      ]
     },
     "execution_count": 100,
     "metadata": {
      "tags": []
     },
     "output_type": "execute_result"
    }
   ],
   "source": [
    "base_df['vl_divida'].describe()"
   ]
  },
  {
   "cell_type": "code",
   "execution_count": 101,
   "metadata": {
    "colab": {
     "base_uri": "https://localhost:8080/",
     "height": 282
    },
    "id": "7UOy4GyWAJHL",
    "outputId": "3aee06d9-352e-4ebb-ebab-635d724359e3"
   },
   "outputs": [
    {
     "data": {
      "text/plain": [
       "<matplotlib.axes._subplots.AxesSubplot at 0x7f47e95b8410>"
      ]
     },
     "execution_count": 101,
     "metadata": {
      "tags": []
     },
     "output_type": "execute_result"
    },
    {
     "data": {
      "image/png": "[encoded data removed]",
      "text/plain": [
       "<Figure size 432x288 with 1 Axes>"
      ]
     },
     "metadata": {
      "needs_background": "light",
      "tags": []
     },
     "output_type": "display_data"
    }
   ],
   "source": [
    "base_df['vl_divida'].plot.hist()"
   ]
  },
  {
   "cell_type": "code",
   "execution_count": null,
   "metadata": {},
   "outputs": [],
   "source": []
  },
  {
   "cell_type": "markdown",
   "metadata": {
    "id": "whqnRni3t8u2"
   },
   "source": [
    "## Bruno\r\n",
    "\r\n",
    "DS_OCUPACAO\r\n",
    "VL_RENDA_FAMILIAR_BRUTA_MENSAL\r\n",
    "NO_MUNICIPIO\r\n",
    "DS_RACA_COR\r\n",
    "NU_ANO_CONCLUSAO_ENSINO_MEDIO\r\n",
    "SG_UF_CURSO\r\n",
    "QT_SEMESTRES_CURSO\r\n",
    "QT_SEMESTRE_FINANCIAMENTO\r\n",
    "VL_SEMESTRE_COM_DESCONTO\r\n",
    "NU_PERCENT_SOLICITADO_FINANC\r\n",
    "VL_FINANC_RECURSO_ALUNO\r\n",
    "nu_dias_atraso\r\n",
    "ANO_NASC"
   ]
  },
  {
   "cell_type": "markdown",
   "metadata": {},
   "source": [
    "### Occupation"
   ]
  },
  {
   "cell_type": "markdown",
   "metadata": {},
   "source": [
    "Type: String"
   ]
  },
  {
   "cell_type": "markdown",
   "metadata": {},
   "source": [
    "Levels and number of observations:"
   ]
  },
  {
   "cell_type": "code",
   "execution_count": 10,
   "metadata": {},
   "outputs": [
    {
     "data": {
      "text/plain": [
       "Estudante                                                                                  302509\n",
       "Outras ocupaÃ§Ãµes nÃ£o especificadas anteriormente                                        103657\n",
       "Outros trabalhadores de serviÃ§os diversos                                                  51387\n",
       "Vendedor e prestador de serviÃ§os do comÃ©rcio, ambulante, caixeiro-viajante e camelÃ´      29998\n",
       "Outros tÃ©cnicos de nÃ­vel mÃ©dio                                                           20823\n",
       "                                                                                            ...  \n",
       "Servidor das carreiras do Banco Central, CVM e Susep                                            5\n",
       "Membro do MinistÃ©rio PÃºblico (Procurador e Promotor)                                          3\n",
       "Outras ocupações não especificadas anteriormente                                                2\n",
       "Servidor das demais carreiras da administração pública direta, autárquica e fundacional         2\n",
       "Profissional de marketing, de publicidade e de comercialização                                  1\n",
       "Name: DS_OCUPACAO, Length: 136, dtype: int64"
      ]
     },
     "execution_count": 10,
     "metadata": {},
     "output_type": "execute_result"
    }
   ],
   "source": [
    "base_df['DS_OCUPACAO'].value_counts()"
   ]
  },
  {
   "cell_type": "markdown",
   "metadata": {},
   "source": [
    "Levels and proportions:"
   ]
  },
  {
   "cell_type": "code",
   "execution_count": 9,
   "metadata": {},
   "outputs": [
    {
     "data": {
      "text/plain": [
       "Estudante                                                                                  0.474284\n",
       "Outras ocupaÃ§Ãµes nÃ£o especificadas anteriormente                                        0.162517\n",
       "Outros trabalhadores de serviÃ§os diversos                                                 0.080566\n",
       "Vendedor e prestador de serviÃ§os do comÃ©rcio, ambulante, caixeiro-viajante e camelÃ´     0.047032\n",
       "Outros tÃ©cnicos de nÃ­vel mÃ©dio                                                          0.032647\n",
       "                                                                                             ...   \n",
       "Servidor das carreiras do Banco Central, CVM e Susep                                       0.000008\n",
       "Membro do MinistÃ©rio PÃºblico (Procurador e Promotor)                                     0.000005\n",
       "Outras ocupações não especificadas anteriormente                                           0.000003\n",
       "Servidor das demais carreiras da administração pública direta, autárquica e fundacional    0.000003\n",
       "Profissional de marketing, de publicidade e de comercialização                             0.000002\n",
       "Name: DS_OCUPACAO, Length: 136, dtype: float64"
      ]
     },
     "execution_count": 9,
     "metadata": {},
     "output_type": "execute_result"
    }
   ],
   "source": [
    "base_df['DS_OCUPACAO'].value_counts(normalize = True)"
   ]
  },
  {
   "cell_type": "markdown",
   "metadata": {},
   "source": [
    "NAs:"
   ]
  },
  {
   "cell_type": "code",
   "execution_count": 11,
   "metadata": {},
   "outputs": [
    {
     "data": {
      "text/plain": [
       "0"
      ]
     },
     "execution_count": 11,
     "metadata": {},
     "output_type": "execute_result"
    }
   ],
   "source": [
    "sum(pd.isnull(base_df['DS_OCUPACAO']))"
   ]
  },
  {
   "cell_type": "code",
   "execution_count": null,
   "metadata": {},
   "outputs": [],
   "source": [
    "### Monthly Family Income (Gross)"
   ]
  },
  {
   "cell_type": "code",
   "execution_count": null,
   "metadata": {},
   "outputs": [],
   "source": [
    "Type: numerical "
   ]
  },
  {
   "cell_type": "code",
   "execution_count": 14,
   "metadata": {},
   "outputs": [
    {
     "data": {
      "text/plain": [
       "count    6.378220e+05\n",
       "mean     2.154542e+03\n",
       "std      2.892324e+03\n",
       "min      4.000000e+00\n",
       "25%      9.414900e+02\n",
       "50%      1.587000e+03\n",
       "75%      2.691233e+03\n",
       "max      1.600000e+06\n",
       "Name: VL_RENDA_FAMILIAR_BRUTA_MENSAL, dtype: float64"
      ]
     },
     "execution_count": 14,
     "metadata": {},
     "output_type": "execute_result"
    }
   ],
   "source": [
    "base_df['VL_RENDA_FAMILIAR_BRUTA_MENSAL'].describe()"
   ]
  },
  {
   "cell_type": "code",
   "execution_count": 17,
   "metadata": {},
   "outputs": [
    {
     "data": {
      "text/plain": [
       "<matplotlib.axes._subplots.AxesSubplot at 0x7fd3acb90bb0>"
      ]
     },
     "execution_count": 17,
     "metadata": {},
     "output_type": "execute_result"
    },
    {
     "data": {
      "image/png": "[encoded data removed]",
      "text/plain": [
       "<Figure size 432x288 with 1 Axes>"
      ]
     },
     "metadata": {
      "needs_background": "light"
     },
     "output_type": "display_data"
    }
   ],
   "source": [
    "base_df['VL_RENDA_FAMILIAR_BRUTA_MENSAL'].plot.hist()"
   ]
  },
  {
   "cell_type": "code",
   "execution_count": 20,
   "metadata": {},
   "outputs": [
    {
     "data": {
      "text/plain": [
       "1000.00    0.025369\n",
       "724.00     0.023090\n",
       "800.00     0.019305\n",
       "1500.00    0.018065\n",
       "1200.00    0.016561\n",
       "             ...   \n",
       "2131.06    0.000002\n",
       "1696.60    0.000002\n",
       "2960.37    0.000002\n",
       "896.87     0.000002\n",
       "4508.02    0.000002\n",
       "Name: VL_RENDA_FAMILIAR_BRUTA_MENSAL, Length: 198713, dtype: float64"
      ]
     },
     "execution_count": 20,
     "metadata": {},
     "output_type": "execute_result"
    }
   ],
   "source": [
    "base_df['VL_RENDA_FAMILIAR_BRUTA_MENSAL'].value_counts(normalize = True)"
   ]
  },
  {
   "cell_type": "markdown",
   "metadata": {},
   "source": [
    "NAs"
   ]
  },
  {
   "cell_type": "code",
   "execution_count": 18,
   "metadata": {},
   "outputs": [
    {
     "data": {
      "text/plain": [
       "0"
      ]
     },
     "execution_count": 18,
     "metadata": {},
     "output_type": "execute_result"
    }
   ],
   "source": [
    "sum(pd.isnull(base_df['VL_RENDA_FAMILIAR_BRUTA_MENSAL']))"
   ]
  },
  {
   "cell_type": "markdown",
   "metadata": {},
   "source": [
    "### Municipality"
   ]
  },
  {
   "cell_type": "markdown",
   "metadata": {},
   "source": [
    "NAs"
   ]
  },
  {
   "cell_type": "code",
   "execution_count": 29,
   "metadata": {},
   "outputs": [
    {
     "data": {
      "text/plain": [
       "99.98416486104274"
      ]
     },
     "execution_count": 29,
     "metadata": {},
     "output_type": "execute_result"
    }
   ],
   "source": [
    "sum(pd.isnull(base_df['NO_MUNICIPIO']))\n",
    "(base_df['NO_MUNICIPIO'].isnull().sum() * 100) / len(base_df)"
   ]
  },
  {
   "cell_type": "code",
   "execution_count": 22,
   "metadata": {},
   "outputs": [
    {
     "data": {
      "text/plain": [
       "Presidente Prudente    0.069307\n",
       "Porto Velho            0.059406\n",
       "São Paulo              0.039604\n",
       "Manaus                 0.039604\n",
       "Vitória                0.029703\n",
       "                         ...   \n",
       "Jaú                    0.009901\n",
       "Recife                 0.009901\n",
       "Adamantina             0.009901\n",
       "Vassouras              0.009901\n",
       "Campos do Jordão       0.009901\n",
       "Name: NO_MUNICIPIO, Length: 71, dtype: float64"
      ]
     },
     "execution_count": 22,
     "metadata": {},
     "output_type": "execute_result"
    }
   ],
   "source": [
    "base_df['NO_MUNICIPIO'].value_counts(normalize = True)"
   ]
  },
  {
   "cell_type": "markdown",
   "metadata": {},
   "source": [
    "### Ethnicity"
   ]
  },
  {
   "cell_type": "markdown",
   "metadata": {},
   "source": [
    "NAs"
   ]
  },
  {
   "cell_type": "code",
   "execution_count": 23,
   "metadata": {},
   "outputs": [
    {
     "data": {
      "text/plain": [
       "0"
      ]
     },
     "execution_count": 23,
     "metadata": {},
     "output_type": "execute_result"
    }
   ],
   "source": [
    "sum(pd.isnull(base_df['DS_RACA_COR']))"
   ]
  },
  {
   "cell_type": "code",
   "execution_count": 24,
   "metadata": {},
   "outputs": [
    {
     "data": {
      "text/plain": [
       "B          0.496728\n",
       "P          0.371521\n",
       "N          0.110689\n",
       "A          0.018579\n",
       "I          0.002325\n",
       "Branco     0.000083\n",
       "Pardo      0.000069\n",
       "Amarelo    0.000003\n",
       "Negro      0.000003\n",
       "Name: DS_RACA_COR, dtype: float64"
      ]
     },
     "execution_count": 24,
     "metadata": {},
     "output_type": "execute_result"
    }
   ],
   "source": [
    "base_df['DS_RACA_COR'].value_counts(normalize = True)"
   ]
  },
  {
   "cell_type": "markdown",
   "metadata": {},
   "source": [
    "### Year of Conclusion High School"
   ]
  },
  {
   "cell_type": "markdown",
   "metadata": {},
   "source": [
    "NAs"
   ]
  },
  {
   "cell_type": "code",
   "execution_count": 27,
   "metadata": {},
   "outputs": [
    {
     "data": {
      "text/plain": [
       "2.2699122952798745"
      ]
     },
     "execution_count": 27,
     "metadata": {},
     "output_type": "execute_result"
    }
   ],
   "source": [
    "sum(pd.isnull(base_df['NU_ANO_CONCLUSAO_ENSINO_MEDIO']))\n",
    "(base_df['NU_ANO_CONCLUSAO_ENSINO_MEDIO'].isnull().sum() * 100) / len(base_df)"
   ]
  },
  {
   "cell_type": "code",
   "execution_count": 28,
   "metadata": {},
   "outputs": [
    {
     "data": {
      "text/plain": [
       "12.0     0.118243\n",
       "11.0     0.106328\n",
       "13.0     0.099520\n",
       "9.0      0.088166\n",
       "10.0     0.079678\n",
       "           ...   \n",
       "964.0    0.000002\n",
       "23.0     0.000002\n",
       "204.0    0.000002\n",
       "813.0    0.000002\n",
       "207.0    0.000002\n",
       "Name: NU_ANO_CONCLUSAO_ENSINO_MEDIO, Length: 111, dtype: float64"
      ]
     },
     "execution_count": 28,
     "metadata": {},
     "output_type": "execute_result"
    }
   ],
   "source": [
    "base_df['NU_ANO_CONCLUSAO_ENSINO_MEDIO'].value_counts(normalize = True)"
   ]
  },
  {
   "cell_type": "markdown",
   "metadata": {},
   "source": [
    "### State of the course (abbr.)"
   ]
  },
  {
   "cell_type": "markdown",
   "metadata": {},
   "source": [
    "NUs"
   ]
  },
  {
   "cell_type": "code",
   "execution_count": 30,
   "metadata": {},
   "outputs": [
    {
     "data": {
      "text/plain": [
       "0.0"
      ]
     },
     "execution_count": 30,
     "metadata": {},
     "output_type": "execute_result"
    }
   ],
   "source": [
    "(base_df['SG_UF_CURSO'].isnull().sum() * 100) / len(base_df)"
   ]
  },
  {
   "cell_type": "code",
   "execution_count": 31,
   "metadata": {},
   "outputs": [
    {
     "data": {
      "text/plain": [
       "SP    0.450905\n",
       "MG    0.126239\n",
       "RJ    0.097535\n",
       "BA    0.038605\n",
       "ES    0.030137\n",
       "CE    0.027216\n",
       "DF    0.021718\n",
       "PE    0.020717\n",
       "MT    0.018141\n",
       "AM    0.017489\n",
       "GO    0.016730\n",
       "RS    0.015895\n",
       "MA    0.015884\n",
       "PA    0.015769\n",
       "PB    0.011536\n",
       "PR    0.011392\n",
       "RN    0.008305\n",
       "MS    0.007985\n",
       "AP    0.007765\n",
       "RO    0.007689\n",
       "AL    0.006993\n",
       "AC    0.006249\n",
       "SC    0.005497\n",
       "PI    0.004277\n",
       "SE    0.004244\n",
       "RR    0.003387\n",
       "TO    0.001701\n",
       "Name: SG_UF_CURSO, dtype: float64"
      ]
     },
     "execution_count": 31,
     "metadata": {},
     "output_type": "execute_result"
    }
   ],
   "source": [
    "base_df['SG_UF_CURSO'].value_counts(normalize = True)"
   ]
  },
  {
   "cell_type": "markdown",
   "metadata": {},
   "source": [
    "### Number of semesters to complete the course"
   ]
  },
  {
   "cell_type": "markdown",
   "metadata": {},
   "source": [
    "NAs"
   ]
  },
  {
   "cell_type": "code",
   "execution_count": 32,
   "metadata": {},
   "outputs": [
    {
     "data": {
      "text/plain": [
       "0.0"
      ]
     },
     "execution_count": 32,
     "metadata": {},
     "output_type": "execute_result"
    }
   ],
   "source": [
    "(base_df['QT_SEMESTRES_CURSO'].isnull().sum() * 100) / len(base_df)"
   ]
  },
  {
   "cell_type": "code",
   "execution_count": 33,
   "metadata": {},
   "outputs": [
    {
     "data": {
      "text/plain": [
       "10    0.531780\n",
       "8     0.304314\n",
       "6     0.051295\n",
       "4     0.035969\n",
       "7     0.025727\n",
       "12    0.024554\n",
       "5     0.011685\n",
       "9     0.011580\n",
       "11    0.002952\n",
       "16    0.000085\n",
       "3     0.000031\n",
       "2     0.000017\n",
       "1     0.000006\n",
       "18    0.000002\n",
       "14    0.000002\n",
       "13    0.000002\n",
       "Name: QT_SEMESTRES_CURSO, dtype: float64"
      ]
     },
     "execution_count": 33,
     "metadata": {},
     "output_type": "execute_result"
    }
   ],
   "source": [
    "base_df['QT_SEMESTRES_CURSO'].value_counts(normalize = True)"
   ]
  },
  {
   "cell_type": "code",
   "execution_count": 41,
   "metadata": {},
   "outputs": [],
   "source": [
    "base_df01 = base_df.loc[:,[\"QT_SEMESTRES_CURSO\",\"QT_SEMESTRE_FINANCIAMENTO\",\"NU_PERCENT_SOLICITADO_FINANC\"]]"
   ]
  },
  {
   "cell_type": "code",
   "execution_count": 42,
   "metadata": {},
   "outputs": [
    {
     "data": {
      "text/html": [
       "<div>\n",
       "<style scoped>\n",
       "    .dataframe tbody tr th:only-of-type {\n",
       "        vertical-align: middle;\n",
       "    }\n",
       "\n",
       "    .dataframe tbody tr th {\n",
       "        vertical-align: top;\n",
       "    }\n",
       "\n",
       "    .dataframe thead th {\n",
       "        text-align: right;\n",
       "    }\n",
       "</style>\n",
       "<table border=\"1\" class=\"dataframe\">\n",
       "  <thead>\n",
       "    <tr style=\"text-align: right;\">\n",
       "      <th></th>\n",
       "      <th>QT_SEMESTRES_CURSO</th>\n",
       "      <th>QT_SEMESTRE_FINANCIAMENTO</th>\n",
       "      <th>NU_PERCENT_SOLICITADO_FINANC</th>\n",
       "    </tr>\n",
       "  </thead>\n",
       "  <tbody>\n",
       "    <tr>\n",
       "      <th>0</th>\n",
       "      <td>8</td>\n",
       "      <td>8</td>\n",
       "      <td>100</td>\n",
       "    </tr>\n",
       "    <tr>\n",
       "      <th>1</th>\n",
       "      <td>6</td>\n",
       "      <td>6</td>\n",
       "      <td>100</td>\n",
       "    </tr>\n",
       "    <tr>\n",
       "      <th>2</th>\n",
       "      <td>12</td>\n",
       "      <td>12</td>\n",
       "      <td>100</td>\n",
       "    </tr>\n",
       "    <tr>\n",
       "      <th>3</th>\n",
       "      <td>12</td>\n",
       "      <td>12</td>\n",
       "      <td>100</td>\n",
       "    </tr>\n",
       "    <tr>\n",
       "      <th>4</th>\n",
       "      <td>10</td>\n",
       "      <td>10</td>\n",
       "      <td>100</td>\n",
       "    </tr>\n",
       "    <tr>\n",
       "      <th>5</th>\n",
       "      <td>10</td>\n",
       "      <td>10</td>\n",
       "      <td>100</td>\n",
       "    </tr>\n",
       "    <tr>\n",
       "      <th>6</th>\n",
       "      <td>10</td>\n",
       "      <td>10</td>\n",
       "      <td>100</td>\n",
       "    </tr>\n",
       "    <tr>\n",
       "      <th>7</th>\n",
       "      <td>8</td>\n",
       "      <td>8</td>\n",
       "      <td>50</td>\n",
       "    </tr>\n",
       "    <tr>\n",
       "      <th>8</th>\n",
       "      <td>8</td>\n",
       "      <td>8</td>\n",
       "      <td>100</td>\n",
       "    </tr>\n",
       "    <tr>\n",
       "      <th>9</th>\n",
       "      <td>11</td>\n",
       "      <td>11</td>\n",
       "      <td>100</td>\n",
       "    </tr>\n",
       "    <tr>\n",
       "      <th>10</th>\n",
       "      <td>10</td>\n",
       "      <td>10</td>\n",
       "      <td>50</td>\n",
       "    </tr>\n",
       "    <tr>\n",
       "      <th>11</th>\n",
       "      <td>12</td>\n",
       "      <td>12</td>\n",
       "      <td>70</td>\n",
       "    </tr>\n",
       "    <tr>\n",
       "      <th>12</th>\n",
       "      <td>12</td>\n",
       "      <td>7</td>\n",
       "      <td>100</td>\n",
       "    </tr>\n",
       "    <tr>\n",
       "      <th>13</th>\n",
       "      <td>10</td>\n",
       "      <td>9</td>\n",
       "      <td>100</td>\n",
       "    </tr>\n",
       "    <tr>\n",
       "      <th>14</th>\n",
       "      <td>10</td>\n",
       "      <td>10</td>\n",
       "      <td>100</td>\n",
       "    </tr>\n",
       "    <tr>\n",
       "      <th>15</th>\n",
       "      <td>10</td>\n",
       "      <td>9</td>\n",
       "      <td>50</td>\n",
       "    </tr>\n",
       "    <tr>\n",
       "      <th>16</th>\n",
       "      <td>8</td>\n",
       "      <td>7</td>\n",
       "      <td>100</td>\n",
       "    </tr>\n",
       "    <tr>\n",
       "      <th>17</th>\n",
       "      <td>10</td>\n",
       "      <td>10</td>\n",
       "      <td>50</td>\n",
       "    </tr>\n",
       "    <tr>\n",
       "      <th>18</th>\n",
       "      <td>10</td>\n",
       "      <td>8</td>\n",
       "      <td>100</td>\n",
       "    </tr>\n",
       "    <tr>\n",
       "      <th>19</th>\n",
       "      <td>8</td>\n",
       "      <td>8</td>\n",
       "      <td>100</td>\n",
       "    </tr>\n",
       "  </tbody>\n",
       "</table>\n",
       "</div>"
      ],
      "text/plain": [
       "    QT_SEMESTRES_CURSO  QT_SEMESTRE_FINANCIAMENTO  \\\n",
       "0                    8                          8   \n",
       "1                    6                          6   \n",
       "2                   12                         12   \n",
       "3                   12                         12   \n",
       "4                   10                         10   \n",
       "5                   10                         10   \n",
       "6                   10                         10   \n",
       "7                    8                          8   \n",
       "8                    8                          8   \n",
       "9                   11                         11   \n",
       "10                  10                         10   \n",
       "11                  12                         12   \n",
       "12                  12                          7   \n",
       "13                  10                          9   \n",
       "14                  10                         10   \n",
       "15                  10                          9   \n",
       "16                   8                          7   \n",
       "17                  10                         10   \n",
       "18                  10                          8   \n",
       "19                   8                          8   \n",
       "\n",
       "    NU_PERCENT_SOLICITADO_FINANC  \n",
       "0                            100  \n",
       "1                            100  \n",
       "2                            100  \n",
       "3                            100  \n",
       "4                            100  \n",
       "5                            100  \n",
       "6                            100  \n",
       "7                             50  \n",
       "8                            100  \n",
       "9                            100  \n",
       "10                            50  \n",
       "11                            70  \n",
       "12                           100  \n",
       "13                           100  \n",
       "14                           100  \n",
       "15                            50  \n",
       "16                           100  \n",
       "17                            50  \n",
       "18                           100  \n",
       "19                           100  "
      ]
     },
     "execution_count": 42,
     "metadata": {},
     "output_type": "execute_result"
    }
   ],
   "source": [
    "base_df01.head(20)"
   ]
  },
  {
   "cell_type": "markdown",
   "metadata": {},
   "source": [
    "### Number of semesters included in the loan"
   ]
  },
  {
   "cell_type": "markdown",
   "metadata": {},
   "source": [
    "NAs"
   ]
  },
  {
   "cell_type": "code",
   "execution_count": 44,
   "metadata": {},
   "outputs": [
    {
     "data": {
      "text/plain": [
       "QT_SEMESTRES_CURSO              0.0\n",
       "QT_SEMESTRE_FINANCIAMENTO       0.0\n",
       "NU_PERCENT_SOLICITADO_FINANC    0.0\n",
       "dtype: float64"
      ]
     },
     "execution_count": 44,
     "metadata": {},
     "output_type": "execute_result"
    }
   ],
   "source": [
    "(base_df01.isnull().sum() * 100) / len(base_df)"
   ]
  },
  {
   "cell_type": "code",
   "execution_count": 45,
   "metadata": {},
   "outputs": [
    {
     "data": {
      "text/plain": [
       "10    0.365431\n",
       "8     0.253223\n",
       "6     0.081876\n",
       "7     0.074830\n",
       "9     0.069502\n",
       "4     0.051111\n",
       "5     0.043438\n",
       "12    0.022117\n",
       "11    0.016139\n",
       "3     0.015335\n",
       "2     0.004465\n",
       "13    0.001693\n",
       "1     0.000437\n",
       "16    0.000216\n",
       "14    0.000135\n",
       "15    0.000047\n",
       "17    0.000002\n",
       "18    0.000002\n",
       "Name: QT_SEMESTRE_FINANCIAMENTO, dtype: float64"
      ]
     },
     "execution_count": 45,
     "metadata": {},
     "output_type": "execute_result"
    }
   ],
   "source": [
    "base_df['QT_SEMESTRE_FINANCIAMENTO'].value_counts(normalize = True)"
   ]
  },
  {
   "cell_type": "markdown",
   "metadata": {},
   "source": [
    "### Tuition Fee with discount"
   ]
  },
  {
   "cell_type": "markdown",
   "metadata": {},
   "source": [
    "NAs"
   ]
  },
  {
   "cell_type": "code",
   "execution_count": 46,
   "metadata": {},
   "outputs": [
    {
     "data": {
      "text/plain": [
       "0.0"
      ]
     },
     "execution_count": 46,
     "metadata": {},
     "output_type": "execute_result"
    }
   ],
   "source": [
    "(base_df['VL_SEMESTRE_COM_DESCONTO'].isnull().sum() * 100) / len(base_df)"
   ]
  },
  {
   "cell_type": "code",
   "execution_count": 48,
   "metadata": {},
   "outputs": [
    {
     "data": {
      "text/plain": [
       "5265.23     0.011003\n",
       "5020.72     0.010423\n",
       "6422.57     0.004058\n",
       "7396.80     0.002192\n",
       "9268.80     0.001720\n",
       "              ...   \n",
       "7763.28     0.000002\n",
       "3704.59     0.000002\n",
       "3824.10     0.000002\n",
       "12209.40    0.000002\n",
       "5459.15     0.000002\n",
       "Name: VL_SEMESTRE_COM_DESCONTO, Length: 136106, dtype: float64"
      ]
     },
     "execution_count": 48,
     "metadata": {},
     "output_type": "execute_result"
    }
   ],
   "source": [
    "base_df['VL_SEMESTRE_COM_DESCONTO'].value_counts(normalize = True)"
   ]
  },
  {
   "cell_type": "markdown",
   "metadata": {},
   "source": [
    "### Days of Delay"
   ]
  },
  {
   "cell_type": "markdown",
   "metadata": {},
   "source": [
    "NAs"
   ]
  },
  {
   "cell_type": "code",
   "execution_count": 49,
   "metadata": {},
   "outputs": [
    {
     "data": {
      "text/plain": [
       "0.0"
      ]
     },
     "execution_count": 49,
     "metadata": {},
     "output_type": "execute_result"
    }
   ],
   "source": [
    "(base_df['nu_dias_atraso'].isnull().sum() * 100) / len(base_df)"
   ]
  },
  {
   "cell_type": "code",
   "execution_count": 50,
   "metadata": {},
   "outputs": [
    {
     "data": {
      "text/plain": [
       "0       0.406054\n",
       "57      0.038343\n",
       "21      0.031103\n",
       "52      0.025527\n",
       "148     0.020354\n",
       "          ...   \n",
       "1161    0.000002\n",
       "1164    0.000002\n",
       "653     0.000002\n",
       "654     0.000002\n",
       "689     0.000002\n",
       "Name: nu_dias_atraso, Length: 778, dtype: float64"
      ]
     },
     "execution_count": 50,
     "metadata": {},
     "output_type": "execute_result"
    }
   ],
   "source": [
    "base_df['nu_dias_atraso'].value_counts(normalize = True)"
   ]
  },
  {
   "cell_type": "code",
   "execution_count": 51,
   "metadata": {},
   "outputs": [
    {
     "data": {
      "text/plain": [
       "<matplotlib.axes._subplots.AxesSubplot at 0x7fd3da9c3f70>"
      ]
     },
     "execution_count": 51,
     "metadata": {},
     "output_type": "execute_result"
    },
    {
     "data": {
      "image/png": "[encoded data removed]",
      "text/plain": [
       "<Figure size 432x288 with 1 Axes>"
      ]
     },
     "metadata": {
      "needs_background": "light"
     },
     "output_type": "display_data"
    }
   ],
   "source": [
    "base_df['nu_dias_atraso'].plot.hist()"
   ]
  },
  {
   "cell_type": "markdown",
   "metadata": {},
   "source": [
    "### Year of Birth"
   ]
  },
  {
   "cell_type": "code",
   "execution_count": null,
   "metadata": {},
   "outputs": [],
   "source": [
    "NAs"
   ]
  },
  {
   "cell_type": "code",
   "execution_count": 52,
   "metadata": {},
   "outputs": [
    {
     "data": {
      "text/plain": [
       "0.0009407013241938974"
      ]
     },
     "execution_count": 52,
     "metadata": {},
     "output_type": "execute_result"
    }
   ],
   "source": [
    "(base_df['ANO_NASC'].isnull().sum() * 100) / len(base_df)"
   ]
  },
  {
   "cell_type": "code",
   "execution_count": 54,
   "metadata": {},
   "outputs": [
    {
     "data": {
      "text/plain": [
       "6"
      ]
     },
     "execution_count": 54,
     "metadata": {},
     "output_type": "execute_result"
    }
   ],
   "source": [
    "base_df['ANO_NASC'].isnull().sum()"
   ]
  },
  {
   "cell_type": "code",
   "execution_count": 56,
   "metadata": {},
   "outputs": [
    {
     "data": {
      "text/plain": [
       "1994                   0.099210\n",
       "1995                   0.091614\n",
       "1993                   0.085796\n",
       "1992                   0.071469\n",
       "1991                   0.060143\n",
       "                         ...   \n",
       "2005                   0.000002\n",
       "2000                   0.000002\n",
       "08/0                   0.000002\n",
       "2021-01-04 00:00:00    0.000002\n",
       "1897                   0.000002\n",
       "Name: ANO_NASC, Length: 121, dtype: float64"
      ]
     },
     "execution_count": 56,
     "metadata": {},
     "output_type": "execute_result"
    }
   ],
   "source": [
    "base_df['ANO_NASC'].value_counts(normalize = True)"
   ]
  },
  {
   "cell_type": "markdown",
   "metadata": {},
   "source": [
    "### Value financed with resources from student"
   ]
  },
  {
   "cell_type": "markdown",
   "metadata": {},
   "source": [
    "NAs"
   ]
  },
  {
   "cell_type": "code",
   "execution_count": 57,
   "metadata": {},
   "outputs": [
    {
     "data": {
      "text/plain": [
       "0.0"
      ]
     },
     "execution_count": 57,
     "metadata": {},
     "output_type": "execute_result"
    }
   ],
   "source": [
    "(base_df['VL_FINANC_RECURSO_ALUNO'].isnull().sum() * 100) / len(base_df)"
   ]
  },
  {
   "cell_type": "code",
   "execution_count": 58,
   "metadata": {},
   "outputs": [
    {
     "data": {
      "text/plain": [
       "0.00       0.807391\n",
       "4634.40    0.000889\n",
       "3745.83    0.000735\n",
       "3707.52    0.000641\n",
       "2996.66    0.000542\n",
       "             ...   \n",
       "1215.33    0.000002\n",
       "792.89     0.000002\n",
       "3496.29    0.000002\n",
       "143.01     0.000002\n",
       "2291.99    0.000002\n",
       "Name: VL_FINANC_RECURSO_ALUNO, Length: 54065, dtype: float64"
      ]
     },
     "execution_count": 58,
     "metadata": {},
     "output_type": "execute_result"
    }
   ],
   "source": [
    "base_df['VL_FINANC_RECURSO_ALUNO'].value_counts(normalize = True)"
   ]
  },
  {
   "cell_type": "code",
   "execution_count": null,
   "metadata": {},
   "outputs": [],
   "source": []
  }
 ],
 "metadata": {
  "colab": {
   "collapsed_sections": [
    "wYbmwg7vwojn",
    "PXLW7KgeyO4a",
    "TuVaJRgBy1M1",
    "rsepUwj-zMUP",
    "HBec8LlM0jXZ",
    "3hWuEsqp00qM",
    "nXSa65zw1gt3",
    "Mbs4brqy2fW4",
    "_-LOBsMJ22o-",
    "96nSr7M_3opZ"
   ],
   "include_colab_link": true,
   "name": "Drive Dataset.ipynb",
   "provenance": []
  },
  "kernelspec": {
   "display_name": "Python 3",
   "language": "python",
   "name": "python3"
  },
  "language_info": {
   "codemirror_mode": {
    "name": "ipython",
    "version": 3
   },
   "file_extension": ".py",
   "mimetype": "text/x-python",
   "name": "python",
   "nbconvert_exporter": "python",
   "pygments_lexer": "ipython3",
   "version": "3.8.3"
  }
 },
 "nbformat": 4,
 "nbformat_minor": 4
}
