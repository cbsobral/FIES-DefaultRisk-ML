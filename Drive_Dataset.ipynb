{
  "nbformat": 4,
  "nbformat_minor": 0,
  "metadata": {
    "kernelspec": {
      "display_name": "Python 3",
      "language": "python",
      "name": "python3"
    },
    "language_info": {
      "codemirror_mode": {
        "name": "ipython",
        "version": 3
      },
      "file_extension": ".py",
      "mimetype": "text/x-python",
      "name": "python",
      "nbconvert_exporter": "python",
      "pygments_lexer": "ipython3",
      "version": "3.8.3"
    },
    "colab": {
      "name": "Drive Dataset.ipynb",
      "provenance": [],
      "collapsed_sections": [],
      "include_colab_link": true
    }
  },
  "cells": [
    {
      "cell_type": "markdown",
      "metadata": {
        "id": "view-in-github",
        "colab_type": "text"
      },
      "source": [
        "<a href=\"https://colab.research.google.com/github/cbsobral/ml-fies/blob/main/Drive_Dataset.ipynb\" target=\"_parent\"><img src=\"https://colab.research.google.com/assets/colab-badge.svg\" alt=\"Open In Colab\"/></a>"
      ]
    },
    {
      "cell_type": "markdown",
      "metadata": {
        "id": "wi70_1LLs8Nf"
      },
      "source": [
        "# Import Dataset"
      ]
    },
    {
      "cell_type": "code",
      "metadata": {
        "colab": {
          "base_uri": "https://localhost:8080/"
        },
        "id": "k_w87CmktUQm",
        "outputId": "7c15e188-4741-418e-8af9-fa6d6a38d342"
      },
      "source": [
        "import pandas as pd\r\n",
        "\r\n",
        "url_a = 'https://drive.google.com/file/d/1prPbFSiXFTHmTHzXTGxy4HrtRxXUHhce/view?usp=sharing'\r\n",
        "path_a = 'https://drive.google.com/uc?export=download&id='+url_a.split('/')[-2]\r\n",
        "base_df_a = pd.read_excel(path_a)\r\n",
        "base_df_a.shape"
      ],
      "execution_count": 38,
      "outputs": [
        {
          "output_type": "execute_result",
          "data": {
            "text/plain": [
              "(309999, 37)"
            ]
          },
          "metadata": {
            "tags": []
          },
          "execution_count": 38
        }
      ]
    },
    {
      "cell_type": "code",
      "metadata": {
        "colab": {
          "base_uri": "https://localhost:8080/"
        },
        "id": "3H4pRSktp2cm",
        "outputId": "03126d6c-54c0-4a2c-c8f5-9452ad52306d"
      },
      "source": [
        "url_b = 'https://drive.google.com/file/d/1nGckSszPPifPvR3o5FeYaKArUYbfjHGn/view?usp=sharing'\r\n",
        "path_b = 'https://drive.google.com/uc?export=download&id='+url_b.split('/')[-2]\r\n",
        "base_df_b = pd.read_excel(path_b)\r\n",
        "base_df_b.shape"
      ],
      "execution_count": 39,
      "outputs": [
        {
          "output_type": "execute_result",
          "data": {
            "text/plain": [
              "(327823, 37)"
            ]
          },
          "metadata": {
            "tags": []
          },
          "execution_count": 39
        }
      ]
    },
    {
      "cell_type": "code",
      "metadata": {
        "colab": {
          "base_uri": "https://localhost:8080/"
        },
        "id": "LZMd2o2ArGXf",
        "outputId": "1cd06c76-52cb-42ed-9845-70368cd27f8d"
      },
      "source": [
        "base_df = base_df_a.append(base_df_b)\r\n",
        "base_df.shape"
      ],
      "execution_count": 40,
      "outputs": [
        {
          "output_type": "execute_result",
          "data": {
            "text/plain": [
              "(637822, 37)"
            ]
          },
          "metadata": {
            "tags": []
          },
          "execution_count": 40
        }
      ]
    },
    {
      "cell_type": "code",
      "metadata": {
        "colab": {
          "base_uri": "https://localhost:8080/",
          "height": 317
        },
        "id": "gKKX4MkfwClc",
        "outputId": "be5bc597-11a7-4cc6-e1ec-7219959c2303"
      },
      "source": [
        "base_df.head()"
      ],
      "execution_count": 41,
      "outputs": [
        {
          "output_type": "execute_result",
          "data": {
            "text/html": [
              "<div>\n",
              "<style scoped>\n",
              "    .dataframe tbody tr th:only-of-type {\n",
              "        vertical-align: middle;\n",
              "    }\n",
              "\n",
              "    .dataframe tbody tr th {\n",
              "        vertical-align: top;\n",
              "    }\n",
              "\n",
              "    .dataframe thead th {\n",
              "        text-align: right;\n",
              "    }\n",
              "</style>\n",
              "<table border=\"1\" class=\"dataframe\">\n",
              "  <thead>\n",
              "    <tr style=\"text-align: right;\">\n",
              "      <th></th>\n",
              "      <th>NU_ANO_SEMESTRE_INSCRICAO</th>\n",
              "      <th>SG_SEXO</th>\n",
              "      <th>DS_OCUPACAO</th>\n",
              "      <th>DS_ESTADO_CIVIL</th>\n",
              "      <th>VL_RENDA_FAMILIAR_BRUTA_MENSAL</th>\n",
              "      <th>VL_RENDA_PESSOAL_BRUTA_MENSAL</th>\n",
              "      <th>NO_MUNICIPIO</th>\n",
              "      <th>SG_UF</th>\n",
              "      <th>DS_RACA_COR</th>\n",
              "      <th>ST_ENSINO_MEDIO_ESCOLA_PUBLICA</th>\n",
              "      <th>NU_ANO_CONCLUSAO_ENSINO_MEDIO</th>\n",
              "      <th>NU_SEMESTRE_REFERENCIA</th>\n",
              "      <th>SG_UF_CURSO</th>\n",
              "      <th>NO_CURSO</th>\n",
              "      <th>VL_AVALIACAO_IGC</th>\n",
              "      <th>VL_FAIXA_CPC</th>\n",
              "      <th>VL_FAIXA_CC</th>\n",
              "      <th>QT_SEMESTRES_CURSO</th>\n",
              "      <th>QT_SEMESTRE_CONCLUIDO</th>\n",
              "      <th>QT_SEMESTRE_FINANCIAMENTO</th>\n",
              "      <th>QT_MESES_FINANC_SEMESTRE_ATUAL</th>\n",
              "      <th>QT_MEMBRO</th>\n",
              "      <th>VL_RENDA_PER_CAPITA</th>\n",
              "      <th>VL_SEMESTRE_SEM_DESCONTO</th>\n",
              "      <th>VL_SEMESTRE_COM_DESCONTO</th>\n",
              "      <th>VL_SEMESTRE_ATUAL</th>\n",
              "      <th>NU_PERCENTUAL_COMPROMETIMENTO</th>\n",
              "      <th>NU_PERCENT_SOLICITADO_FINANC</th>\n",
              "      <th>VL_FINANCIADO_SEMESTRE</th>\n",
              "      <th>VL_FINANC_RECURSO_ALUNO</th>\n",
              "      <th>VL_TOTAL_FINANCIAMENTO</th>\n",
              "      <th>VL_LIMITE_GLOBAL</th>\n",
              "      <th>dt_inicio_cont</th>\n",
              "      <th>fase_contrato</th>\n",
              "      <th>nu_dias_atraso</th>\n",
              "      <th>vl_divida</th>\n",
              "      <th>ANO_NASC</th>\n",
              "    </tr>\n",
              "  </thead>\n",
              "  <tbody>\n",
              "    <tr>\n",
              "      <th>0</th>\n",
              "      <td>12014</td>\n",
              "      <td>F</td>\n",
              "      <td>Vendedor e prestador de serviÃ§os do comÃ©rcio...</td>\n",
              "      <td>Solteiro</td>\n",
              "      <td>728.74</td>\n",
              "      <td>728.74</td>\n",
              "      <td>NaN</td>\n",
              "      <td>NaN</td>\n",
              "      <td>P</td>\n",
              "      <td>S</td>\n",
              "      <td>10.0</td>\n",
              "      <td>12015</td>\n",
              "      <td>AL</td>\n",
              "      <td>PEDAGOGIA</td>\n",
              "      <td>3.0</td>\n",
              "      <td>NaN</td>\n",
              "      <td>NaN</td>\n",
              "      <td>8</td>\n",
              "      <td>2</td>\n",
              "      <td>8</td>\n",
              "      <td>6</td>\n",
              "      <td>2.0</td>\n",
              "      <td>364.37</td>\n",
              "      <td>2276.10</td>\n",
              "      <td>1683.18</td>\n",
              "      <td>1683.18</td>\n",
              "      <td>71.95</td>\n",
              "      <td>100</td>\n",
              "      <td>1683.18</td>\n",
              "      <td>0.0</td>\n",
              "      <td>13465.44</td>\n",
              "      <td>15730.80</td>\n",
              "      <td>2014-05-02</td>\n",
              "      <td>Amortizacao</td>\n",
              "      <td>0</td>\n",
              "      <td>14549.68</td>\n",
              "      <td>1991</td>\n",
              "    </tr>\n",
              "    <tr>\n",
              "      <th>1</th>\n",
              "      <td>12013</td>\n",
              "      <td>F</td>\n",
              "      <td>Outros trabalhadores de serviÃ§os diversos</td>\n",
              "      <td>Solteiro</td>\n",
              "      <td>553.35</td>\n",
              "      <td>553.35</td>\n",
              "      <td>NaN</td>\n",
              "      <td>NaN</td>\n",
              "      <td>P</td>\n",
              "      <td>S</td>\n",
              "      <td>7.0</td>\n",
              "      <td>12015</td>\n",
              "      <td>MG</td>\n",
              "      <td>LETRAS - INGLÊS</td>\n",
              "      <td>3.0</td>\n",
              "      <td>2.0</td>\n",
              "      <td>3.0</td>\n",
              "      <td>6</td>\n",
              "      <td>4</td>\n",
              "      <td>6</td>\n",
              "      <td>6</td>\n",
              "      <td>1.0</td>\n",
              "      <td>553.35</td>\n",
              "      <td>2790.00</td>\n",
              "      <td>2650.50</td>\n",
              "      <td>2650.50</td>\n",
              "      <td>67.47</td>\n",
              "      <td>100</td>\n",
              "      <td>2650.50</td>\n",
              "      <td>0.0</td>\n",
              "      <td>15903.00</td>\n",
              "      <td>16800.75</td>\n",
              "      <td>2013-02-13</td>\n",
              "      <td>Amortizacao</td>\n",
              "      <td>0</td>\n",
              "      <td>12139.80</td>\n",
              "      <td>1990</td>\n",
              "    </tr>\n",
              "    <tr>\n",
              "      <th>2</th>\n",
              "      <td>22014</td>\n",
              "      <td>F</td>\n",
              "      <td>Estudante</td>\n",
              "      <td>Solteiro</td>\n",
              "      <td>5962.49</td>\n",
              "      <td>0.00</td>\n",
              "      <td>NaN</td>\n",
              "      <td>NaN</td>\n",
              "      <td>P</td>\n",
              "      <td>N</td>\n",
              "      <td>13.0</td>\n",
              "      <td>12015</td>\n",
              "      <td>MG</td>\n",
              "      <td>MEDICINA</td>\n",
              "      <td>3.0</td>\n",
              "      <td>3.0</td>\n",
              "      <td>4.0</td>\n",
              "      <td>12</td>\n",
              "      <td>1</td>\n",
              "      <td>12</td>\n",
              "      <td>6</td>\n",
              "      <td>5.0</td>\n",
              "      <td>1192.50</td>\n",
              "      <td>28284.00</td>\n",
              "      <td>26810.85</td>\n",
              "      <td>26810.85</td>\n",
              "      <td>352.14</td>\n",
              "      <td>100</td>\n",
              "      <td>26810.85</td>\n",
              "      <td>0.0</td>\n",
              "      <td>321730.20</td>\n",
              "      <td>377937.00</td>\n",
              "      <td>2014-08-12</td>\n",
              "      <td>Utilizacao</td>\n",
              "      <td>0</td>\n",
              "      <td>397349.62</td>\n",
              "      <td>1996</td>\n",
              "    </tr>\n",
              "    <tr>\n",
              "      <th>3</th>\n",
              "      <td>12012</td>\n",
              "      <td>F</td>\n",
              "      <td>Estudante</td>\n",
              "      <td>Solteiro</td>\n",
              "      <td>21671.74</td>\n",
              "      <td>0.00</td>\n",
              "      <td>NaN</td>\n",
              "      <td>NaN</td>\n",
              "      <td>B</td>\n",
              "      <td>N</td>\n",
              "      <td>8.0</td>\n",
              "      <td>12015</td>\n",
              "      <td>MG</td>\n",
              "      <td>MEDICINA</td>\n",
              "      <td>3.0</td>\n",
              "      <td>3.0</td>\n",
              "      <td>4.0</td>\n",
              "      <td>12</td>\n",
              "      <td>6</td>\n",
              "      <td>12</td>\n",
              "      <td>6</td>\n",
              "      <td>4.0</td>\n",
              "      <td>5417.94</td>\n",
              "      <td>34112.05</td>\n",
              "      <td>32065.32</td>\n",
              "      <td>32065.32</td>\n",
              "      <td>75.51</td>\n",
              "      <td>100</td>\n",
              "      <td>32065.32</td>\n",
              "      <td>0.0</td>\n",
              "      <td>384783.84</td>\n",
              "      <td>368181.00</td>\n",
              "      <td>2012-03-20</td>\n",
              "      <td>Utilizacao</td>\n",
              "      <td>0</td>\n",
              "      <td>434901.80</td>\n",
              "      <td>1991</td>\n",
              "    </tr>\n",
              "    <tr>\n",
              "      <th>4</th>\n",
              "      <td>22011</td>\n",
              "      <td>F</td>\n",
              "      <td>Estudante</td>\n",
              "      <td>Solteiro</td>\n",
              "      <td>1000.00</td>\n",
              "      <td>0.00</td>\n",
              "      <td>NaN</td>\n",
              "      <td>NaN</td>\n",
              "      <td>B</td>\n",
              "      <td>S</td>\n",
              "      <td>9.0</td>\n",
              "      <td>12015</td>\n",
              "      <td>RN</td>\n",
              "      <td>PSICOLOGIA</td>\n",
              "      <td>3.0</td>\n",
              "      <td>4.0</td>\n",
              "      <td>4.0</td>\n",
              "      <td>10</td>\n",
              "      <td>7</td>\n",
              "      <td>10</td>\n",
              "      <td>6</td>\n",
              "      <td>3.0</td>\n",
              "      <td>333.33</td>\n",
              "      <td>5759.76</td>\n",
              "      <td>5190.00</td>\n",
              "      <td>5190.00</td>\n",
              "      <td>204.90</td>\n",
              "      <td>100</td>\n",
              "      <td>2595.00</td>\n",
              "      <td>2595.0</td>\n",
              "      <td>51900.00</td>\n",
              "      <td>25612.50</td>\n",
              "      <td>2011-09-23</td>\n",
              "      <td>Amortizacao</td>\n",
              "      <td>682</td>\n",
              "      <td>27518.91</td>\n",
              "      <td>1992</td>\n",
              "    </tr>\n",
              "  </tbody>\n",
              "</table>\n",
              "</div>"
            ],
            "text/plain": [
              "   NU_ANO_SEMESTRE_INSCRICAO SG_SEXO  ...  vl_divida ANO_NASC\n",
              "0                      12014       F  ...   14549.68     1991\n",
              "1                      12013       F  ...   12139.80     1990\n",
              "2                      22014       F  ...  397349.62     1996\n",
              "3                      12012       F  ...  434901.80     1991\n",
              "4                      22011       F  ...   27518.91     1992\n",
              "\n",
              "[5 rows x 37 columns]"
            ]
          },
          "metadata": {
            "tags": []
          },
          "execution_count": 41
        }
      ]
    },
    {
      "cell_type": "code",
      "metadata": {
        "colab": {
          "base_uri": "https://localhost:8080/"
        },
        "id": "bO2BElG1wXup",
        "outputId": "37887cfe-bee2-427e-dccd-fc99f63fb4fe"
      },
      "source": [
        "base_df.dtypes"
      ],
      "execution_count": 42,
      "outputs": [
        {
          "output_type": "execute_result",
          "data": {
            "text/plain": [
              "NU_ANO_SEMESTRE_INSCRICAO                  int64\n",
              "SG_SEXO                                   object\n",
              "DS_OCUPACAO                               object\n",
              "DS_ESTADO_CIVIL                           object\n",
              "VL_RENDA_FAMILIAR_BRUTA_MENSAL           float64\n",
              "VL_RENDA_PESSOAL_BRUTA_MENSAL            float64\n",
              "NO_MUNICIPIO                              object\n",
              "SG_UF                                     object\n",
              "DS_RACA_COR                               object\n",
              "ST_ENSINO_MEDIO_ESCOLA_PUBLICA            object\n",
              "NU_ANO_CONCLUSAO_ENSINO_MEDIO            float64\n",
              "NU_SEMESTRE_REFERENCIA                     int64\n",
              "SG_UF_CURSO                               object\n",
              "NO_CURSO                                  object\n",
              "VL_AVALIACAO_IGC                         float64\n",
              "VL_FAIXA_CPC                             float64\n",
              "VL_FAIXA_CC                              float64\n",
              "QT_SEMESTRES_CURSO                         int64\n",
              "QT_SEMESTRE_CONCLUIDO                      int64\n",
              "QT_SEMESTRE_FINANCIAMENTO                  int64\n",
              "QT_MESES_FINANC_SEMESTRE_ATUAL             int64\n",
              "QT_MEMBRO                                float64\n",
              "VL_RENDA_PER_CAPITA                      float64\n",
              "VL_SEMESTRE_SEM_DESCONTO                 float64\n",
              "VL_SEMESTRE_COM_DESCONTO                 float64\n",
              "VL_SEMESTRE_ATUAL                        float64\n",
              "NU_PERCENTUAL_COMPROMETIMENTO            float64\n",
              "NU_PERCENT_SOLICITADO_FINANC               int64\n",
              "VL_FINANCIADO_SEMESTRE                   float64\n",
              "VL_FINANC_RECURSO_ALUNO                  float64\n",
              "VL_TOTAL_FINANCIAMENTO                   float64\n",
              "VL_LIMITE_GLOBAL                         float64\n",
              "dt_inicio_cont                    datetime64[ns]\n",
              "fase_contrato                             object\n",
              "nu_dias_atraso                             int64\n",
              "vl_divida                                float64\n",
              "ANO_NASC                                  object\n",
              "dtype: object"
            ]
          },
          "metadata": {
            "tags": []
          },
          "execution_count": 42
        }
      ]
    },
    {
      "cell_type": "markdown",
      "metadata": {
        "id": "8ulPt-vQtLbA"
      },
      "source": [
        "# Feature Analysis"
      ]
    },
    {
      "cell_type": "markdown",
      "metadata": {
        "id": "GusSMdq3tgFZ"
      },
      "source": [
        "## Carol \r\n",
        "\r\n",
        "SG_SEXO\r\n",
        "DS_ESTADO_CIVIL\r\n",
        "VL_RENDA_PESSOAL_BRUTA_MENSAL\r\n",
        "SG_UF\r\n",
        "ST_ENSINO_MEDIO_ESCOLA_PUBLICA\r\n",
        "NU_SEMESTRE_REFERENCIA\r\n",
        "NO_CURSO\r\n",
        "QT_SEMESTRE_CONCLUIDO\r\n",
        "VL_SEMESTRE_SEM_DESCONTO\r\n",
        "VL_SEMESTRE_ATUAL\r\n",
        "VL_FINANCIADO_SEMESTRE\r\n",
        "fase_contrato\r\n",
        "vl_divida"
      ]
    },
    {
      "cell_type": "markdown",
      "metadata": {
        "id": "wYbmwg7vwojn"
      },
      "source": [
        "### SG_SEXO\r\n",
        "gender =  male, female\r\n",
        "NAs = 6 --> remove "
      ]
    },
    {
      "cell_type": "code",
      "metadata": {
        "colab": {
          "base_uri": "https://localhost:8080/"
        },
        "id": "F7ZnmBWCuxim",
        "outputId": "7239214c-1b56-4809-aa53-839bfe3198b7"
      },
      "source": [
        "base_df['SG_SEXO'].value_counts()"
      ],
      "execution_count": 52,
      "outputs": [
        {
          "output_type": "execute_result",
          "data": {
            "text/plain": [
              "F    381211\n",
              "M    256605\n",
              "Name: SG_SEXO, dtype: int64"
            ]
          },
          "metadata": {
            "tags": []
          },
          "execution_count": 52
        }
      ]
    },
    {
      "cell_type": "code",
      "metadata": {
        "colab": {
          "base_uri": "https://localhost:8080/"
        },
        "id": "oybuu2nixsjQ",
        "outputId": "58d00b11-6684-44e0-84ff-69ccedbb3a6c"
      },
      "source": [
        "sum(pd.isnull(base_df['SG_SEXO']))"
      ],
      "execution_count": 53,
      "outputs": [
        {
          "output_type": "execute_result",
          "data": {
            "text/plain": [
              "6"
            ]
          },
          "metadata": {
            "tags": []
          },
          "execution_count": 53
        }
      ]
    },
    {
      "cell_type": "markdown",
      "metadata": {
        "id": "PXLW7KgeyO4a"
      },
      "source": [
        "### DS_ESTADO_CIVIL\r\n",
        "marital_status =  single, married, divorced, civil union, separated, widowed\r\n",
        "NAs = 75 --> remove "
      ]
    },
    {
      "cell_type": "code",
      "metadata": {
        "colab": {
          "base_uri": "https://localhost:8080/"
        },
        "id": "ZE7QbE-FyO43",
        "outputId": "b9574cda-83dd-430f-f142-065e099e87e3"
      },
      "source": [
        "base_df['DS_ESTADO_CIVIL'].value_counts()"
      ],
      "execution_count": 54,
      "outputs": [
        {
          "output_type": "execute_result",
          "data": {
            "text/plain": [
              "Solteiro           490754\n",
              "Casado             103754\n",
              "Divorciado          18549\n",
              "UniÃ£o estÃ¡vel     17163\n",
              "Separado             6133\n",
              "ViÃºvo               1394\n",
              "Name: DS_ESTADO_CIVIL, dtype: int64"
            ]
          },
          "metadata": {
            "tags": []
          },
          "execution_count": 54
        }
      ]
    },
    {
      "cell_type": "code",
      "metadata": {
        "colab": {
          "base_uri": "https://localhost:8080/"
        },
        "id": "QoneH1TayO45",
        "outputId": "1107ca85-a553-486c-e0fb-ba337739c023"
      },
      "source": [
        "sum(pd.isnull(base_df['DS_ESTADO_CIVIL']))"
      ],
      "execution_count": 55,
      "outputs": [
        {
          "output_type": "execute_result",
          "data": {
            "text/plain": [
              "75"
            ]
          },
          "metadata": {
            "tags": []
          },
          "execution_count": 55
        }
      ]
    },
    {
      "cell_type": "markdown",
      "metadata": {
        "id": "TuVaJRgBy1M1"
      },
      "source": [
        "### VL_RENDA_PESSOAL_BRUTA_MENSAL\r\n",
        "personal_income =  numeric values\r\n",
        "NAs = 0"
      ]
    },
    {
      "cell_type": "code",
      "metadata": {
        "id": "yuBWWJFPy1Ne"
      },
      "source": [
        "base_df['VL_RENDA_PESSOAL_BRUTA_MENSAL'].value_counts()"
      ],
      "execution_count": null,
      "outputs": []
    },
    {
      "cell_type": "code",
      "metadata": {
        "colab": {
          "base_uri": "https://localhost:8080/"
        },
        "id": "Pli73EHmy1No",
        "outputId": "a83d4297-518d-4778-bf52-902f05dda844"
      },
      "source": [
        "sum(pd.isnull(base_df['VL_RENDA_PESSOAL_BRUTA_MENSAL']))"
      ],
      "execution_count": 57,
      "outputs": [
        {
          "output_type": "execute_result",
          "data": {
            "text/plain": [
              "0"
            ]
          },
          "metadata": {
            "tags": []
          },
          "execution_count": 57
        }
      ]
    },
    {
      "cell_type": "markdown",
      "metadata": {
        "id": "rsepUwj-zMUP"
      },
      "source": [
        "### ST_ENSINO_MEDIO_ESCOLA_PUBLICA\r\n",
        "public_hs = yes, no, partial\r\n",
        "NAs = 0"
      ]
    },
    {
      "cell_type": "code",
      "metadata": {
        "colab": {
          "base_uri": "https://localhost:8080/"
        },
        "id": "QJBTpy6MzMUQ",
        "outputId": "5f9f6d27-3ecd-426a-f4fb-8b4f1a2ddc6b"
      },
      "source": [
        "base_df['ST_ENSINO_MEDIO_ESCOLA_PUBLICA'].value_counts()"
      ],
      "execution_count": 58,
      "outputs": [
        {
          "output_type": "execute_result",
          "data": {
            "text/plain": [
              "S    502686\n",
              "N     97217\n",
              "P     37919\n",
              "Name: ST_ENSINO_MEDIO_ESCOLA_PUBLICA, dtype: int64"
            ]
          },
          "metadata": {
            "tags": []
          },
          "execution_count": 58
        }
      ]
    },
    {
      "cell_type": "code",
      "metadata": {
        "colab": {
          "base_uri": "https://localhost:8080/"
        },
        "id": "fCaaD-UfzMUR",
        "outputId": "62c3af2f-11bf-4791-df3e-c920bd340579"
      },
      "source": [
        "sum(pd.isnull(base_df['ST_ENSINO_MEDIO_ESCOLA_PUBLICA']))"
      ],
      "execution_count": 59,
      "outputs": [
        {
          "output_type": "execute_result",
          "data": {
            "text/plain": [
              "0"
            ]
          },
          "metadata": {
            "tags": []
          },
          "execution_count": 59
        }
      ]
    },
    {
      "cell_type": "markdown",
      "metadata": {
        "id": "HBec8LlM0jXZ"
      },
      "source": [
        "### NU_SEMESTRE_REFERENCIA\r\n",
        "n_semester = all equal to 1.2015\r\n",
        "NAs = 0\r\n",
        "DELETE"
      ]
    },
    {
      "cell_type": "code",
      "metadata": {
        "colab": {
          "base_uri": "https://localhost:8080/"
        },
        "id": "9Yg8JSPn0jXr",
        "outputId": "79df7a1b-7e8c-4e45-9827-24b41d267c00"
      },
      "source": [
        "base_df['NU_SEMESTRE_REFERENCIA'].value_counts()"
      ],
      "execution_count": 60,
      "outputs": [
        {
          "output_type": "execute_result",
          "data": {
            "text/plain": [
              "12015    637822\n",
              "Name: NU_SEMESTRE_REFERENCIA, dtype: int64"
            ]
          },
          "metadata": {
            "tags": []
          },
          "execution_count": 60
        }
      ]
    },
    {
      "cell_type": "code",
      "metadata": {
        "colab": {
          "base_uri": "https://localhost:8080/"
        },
        "id": "ziJbgcMD0jX0",
        "outputId": "62c3af2f-11bf-4791-df3e-c920bd340579"
      },
      "source": [
        "sum(pd.isnull(base_df['NU_SEMESTRE_REFERENCIA']))"
      ],
      "execution_count": null,
      "outputs": [
        {
          "output_type": "execute_result",
          "data": {
            "text/plain": [
              "0"
            ]
          },
          "metadata": {
            "tags": []
          },
          "execution_count": 59
        }
      ]
    },
    {
      "cell_type": "markdown",
      "metadata": {
        "id": "3hWuEsqp00qM"
      },
      "source": [
        "### NO_CURSO\r\n",
        "degree = 377 different objects\r\n",
        "NAs = 0"
      ]
    },
    {
      "cell_type": "code",
      "metadata": {
        "id": "IGHweGiz00qy"
      },
      "source": [
        "base_df['NO_CURSO'].value_counts()"
      ],
      "execution_count": null,
      "outputs": []
    },
    {
      "cell_type": "code",
      "metadata": {
        "colab": {
          "base_uri": "https://localhost:8080/"
        },
        "id": "-NwQNuNE00q2",
        "outputId": "62c3af2f-11bf-4791-df3e-c920bd340579"
      },
      "source": [
        "sum(pd.isnull(base_df['NO_CURSO']))"
      ],
      "execution_count": null,
      "outputs": [
        {
          "output_type": "execute_result",
          "data": {
            "text/plain": [
              "0"
            ]
          },
          "metadata": {
            "tags": []
          },
          "execution_count": 59
        }
      ]
    },
    {
      "cell_type": "markdown",
      "metadata": {
        "id": "nXSa65zw1gt3"
      },
      "source": [
        "### QT_SEMESTRE_CONCLUIDO\r\n",
        "qt_semester = interger, from 2 to 14 semesters\r\n",
        "NAs = 0"
      ]
    },
    {
      "cell_type": "code",
      "metadata": {
        "colab": {
          "base_uri": "https://localhost:8080/"
        },
        "id": "qpiYp3sX1gui",
        "outputId": "356e149a-a706-4653-cf13-e6a0d38d0556"
      },
      "source": [
        "base_df['QT_SEMESTRE_CONCLUIDO'].value_counts()"
      ],
      "execution_count": 62,
      "outputs": [
        {
          "output_type": "execute_result",
          "data": {
            "text/plain": [
              "2     177986\n",
              "4     118559\n",
              "1      82191\n",
              "6      78561\n",
              "3      63226\n",
              "5      43330\n",
              "8      28264\n",
              "7      23459\n",
              "0       8624\n",
              "9       8241\n",
              "10      4283\n",
              "11       946\n",
              "12       117\n",
              "13        34\n",
              "14         1\n",
              "Name: QT_SEMESTRE_CONCLUIDO, dtype: int64"
            ]
          },
          "metadata": {
            "tags": []
          },
          "execution_count": 62
        }
      ]
    },
    {
      "cell_type": "code",
      "metadata": {
        "colab": {
          "base_uri": "https://localhost:8080/"
        },
        "id": "dD-8wZUo1gun",
        "outputId": "653e5efd-6848-45e5-8a8d-4fdfdc3103a1"
      },
      "source": [
        "sum(pd.isnull(base_df['QT_SEMESTRE_CONCLUIDO']))"
      ],
      "execution_count": 63,
      "outputs": [
        {
          "output_type": "execute_result",
          "data": {
            "text/plain": [
              "0"
            ]
          },
          "metadata": {
            "tags": []
          },
          "execution_count": 63
        }
      ]
    },
    {
      "cell_type": "markdown",
      "metadata": {
        "id": "ZjohN2b71l2k"
      },
      "source": [
        "### VL_SEMESTRE_SEM_DESCONTO\r\n",
        "tuition_full = numeric values\r\n",
        "NAs = 0\r\n"
      ]
    },
    {
      "cell_type": "code",
      "metadata": {
        "colab": {
          "base_uri": "https://localhost:8080/"
        },
        "id": "vdRS-mhe1l2l",
        "outputId": "f5e3ff66-49e9-4946-a994-72dada956632"
      },
      "source": [
        "base_df['VL_SEMESTRE_SEM_DESCONTO'].value_counts()"
      ],
      "execution_count": 64,
      "outputs": [
        {
          "output_type": "execute_result",
          "data": {
            "text/plain": [
              "10590.06    12739\n",
              "7172.45     11415\n",
              "7521.75     11237\n",
              "6918.00      4479\n",
              "9337.56      4256\n",
              "            ...  \n",
              "4960.32         1\n",
              "5159.22         1\n",
              "4829.00         1\n",
              "5022.18         1\n",
              "8192.00         1\n",
              "Name: VL_SEMESTRE_SEM_DESCONTO, Length: 80878, dtype: int64"
            ]
          },
          "metadata": {
            "tags": []
          },
          "execution_count": 64
        }
      ]
    },
    {
      "cell_type": "code",
      "metadata": {
        "colab": {
          "base_uri": "https://localhost:8080/"
        },
        "id": "Ut3U-brH1l2n",
        "outputId": "5c12b55a-3145-46b1-ef3c-65a96dc7b764"
      },
      "source": [
        "sum(pd.isnull(base_df['VL_SEMESTRE_SEM_DESCONTO']))"
      ],
      "execution_count": 66,
      "outputs": [
        {
          "output_type": "execute_result",
          "data": {
            "text/plain": [
              "0"
            ]
          },
          "metadata": {
            "tags": []
          },
          "execution_count": 66
        }
      ]
    },
    {
      "cell_type": "markdown",
      "metadata": {
        "id": "Mbs4brqy2fW4"
      },
      "source": [
        "### VL_SEMESTRE_ATUAL\r\n",
        "tuition_current = numeric values\r\n",
        "NAs = 0\r\n"
      ]
    },
    {
      "cell_type": "code",
      "metadata": {
        "colab": {
          "base_uri": "https://localhost:8080/"
        },
        "id": "HYHt7lFB2fXb",
        "outputId": "f5e3ff66-49e9-4946-a994-72dada956632"
      },
      "source": [
        "base_df['VL_SEMESTRE_ATUAL'].value_counts()"
      ],
      "execution_count": null,
      "outputs": [
        {
          "output_type": "execute_result",
          "data": {
            "text/plain": [
              "10590.06    12739\n",
              "7172.45     11415\n",
              "7521.75     11237\n",
              "6918.00      4479\n",
              "9337.56      4256\n",
              "            ...  \n",
              "4960.32         1\n",
              "5159.22         1\n",
              "4829.00         1\n",
              "5022.18         1\n",
              "8192.00         1\n",
              "Name: VL_SEMESTRE_SEM_DESCONTO, Length: 80878, dtype: int64"
            ]
          },
          "metadata": {
            "tags": []
          },
          "execution_count": 64
        }
      ]
    },
    {
      "cell_type": "code",
      "metadata": {
        "colab": {
          "base_uri": "https://localhost:8080/"
        },
        "id": "9XJOOgkN2fXe",
        "outputId": "51ff09af-3031-4d8f-a8d8-9ad43c36b9bb"
      },
      "source": [
        "sum(pd.isnull(base_df['VL_SEMESTRE_ATUAL']))"
      ],
      "execution_count": 67,
      "outputs": [
        {
          "output_type": "execute_result",
          "data": {
            "text/plain": [
              "0"
            ]
          },
          "metadata": {
            "tags": []
          },
          "execution_count": 67
        }
      ]
    },
    {
      "cell_type": "markdown",
      "metadata": {
        "id": "_-LOBsMJ22o-"
      },
      "source": [
        "### VL_FINANCIADO_SEMESTRE\r\n",
        "loan_value_sem = numeric values\r\n",
        "NAs = 0\r\n"
      ]
    },
    {
      "cell_type": "code",
      "metadata": {
        "colab": {
          "base_uri": "https://localhost:8080/"
        },
        "id": "H0AVo64e22pk",
        "outputId": "f5e3ff66-49e9-4946-a994-72dada956632"
      },
      "source": [
        "base_df['VL_FINANCIADO_SEMESTRE'].value_counts()"
      ],
      "execution_count": null,
      "outputs": [
        {
          "output_type": "execute_result",
          "data": {
            "text/plain": [
              "10590.06    12739\n",
              "7172.45     11415\n",
              "7521.75     11237\n",
              "6918.00      4479\n",
              "9337.56      4256\n",
              "            ...  \n",
              "4960.32         1\n",
              "5159.22         1\n",
              "4829.00         1\n",
              "5022.18         1\n",
              "8192.00         1\n",
              "Name: VL_SEMESTRE_SEM_DESCONTO, Length: 80878, dtype: int64"
            ]
          },
          "metadata": {
            "tags": []
          },
          "execution_count": 64
        }
      ]
    },
    {
      "cell_type": "code",
      "metadata": {
        "colab": {
          "base_uri": "https://localhost:8080/"
        },
        "id": "LA8fKldc22pq",
        "outputId": "f6ca7774-315d-464a-c7b2-751be8cf5a9b"
      },
      "source": [
        "sum(pd.isnull(base_df['VL_FINANCIADO_SEMESTRE']))"
      ],
      "execution_count": 68,
      "outputs": [
        {
          "output_type": "execute_result",
          "data": {
            "text/plain": [
              "0"
            ]
          },
          "metadata": {
            "tags": []
          },
          "execution_count": 68
        }
      ]
    },
    {
      "cell_type": "code",
      "metadata": {
        "id": "nmV122zQ3JYJ"
      },
      "source": [
        ""
      ],
      "execution_count": null,
      "outputs": []
    },
    {
      "cell_type": "markdown",
      "metadata": {
        "id": "Vl2r9NBr3LqL"
      },
      "source": [
        "### fase_contrato\r\n",
        "phase = amortization, utilization, grace period, liquidation\r\n",
        "NAs = 0\r\n"
      ]
    },
    {
      "cell_type": "code",
      "metadata": {
        "colab": {
          "base_uri": "https://localhost:8080/"
        },
        "id": "c2z9wvaP3LqN",
        "outputId": "ce8b02b8-2f67-4460-fa87-674d8ad2455b"
      },
      "source": [
        "base_df['fase_contrato'].value_counts()"
      ],
      "execution_count": 69,
      "outputs": [
        {
          "output_type": "execute_result",
          "data": {
            "text/plain": [
              "Amortizacao    452885\n",
              "Utilizacao     103915\n",
              "Carencia        79654\n",
              "Liquidacao       1368\n",
              "Name: fase_contrato, dtype: int64"
            ]
          },
          "metadata": {
            "tags": []
          },
          "execution_count": 69
        }
      ]
    },
    {
      "cell_type": "code",
      "metadata": {
        "colab": {
          "base_uri": "https://localhost:8080/"
        },
        "id": "XEUm7ldc3LqR",
        "outputId": "948230b0-a911-4ad0-85d6-374dabb133a9"
      },
      "source": [
        "sum(pd.isnull(base_df['fase_contrato']))"
      ],
      "execution_count": 70,
      "outputs": [
        {
          "output_type": "execute_result",
          "data": {
            "text/plain": [
              "0"
            ]
          },
          "metadata": {
            "tags": []
          },
          "execution_count": 70
        }
      ]
    },
    {
      "cell_type": "code",
      "metadata": {
        "id": "wW8BtAue3LqT"
      },
      "source": [
        ""
      ],
      "execution_count": null,
      "outputs": []
    },
    {
      "cell_type": "markdown",
      "metadata": {
        "id": "96nSr7M_3opZ"
      },
      "source": [
        "### vl_divida\r\n",
        "total_debt = numeric values\r\n",
        "NAs = 0\r\n"
      ]
    },
    {
      "cell_type": "code",
      "metadata": {
        "colab": {
          "base_uri": "https://localhost:8080/"
        },
        "id": "wOkq8VAy3op8",
        "outputId": "ef83dddf-f15b-40ae-a95e-a954942d9215"
      },
      "source": [
        "base_df['vl_divida'].value_counts()"
      ],
      "execution_count": 71,
      "outputs": [
        {
          "output_type": "execute_result",
          "data": {
            "text/plain": [
              "0.00         1358\n",
              "66557.24       47\n",
              "2963.77        45\n",
              "532079.37      32\n",
              "2853.57        32\n",
              "             ... \n",
              "21533.75        1\n",
              "20759.97        1\n",
              "46528.55        1\n",
              "25459.74        1\n",
              "80963.89        1\n",
              "Name: vl_divida, Length: 605984, dtype: int64"
            ]
          },
          "metadata": {
            "tags": []
          },
          "execution_count": 71
        }
      ]
    },
    {
      "cell_type": "code",
      "metadata": {
        "colab": {
          "base_uri": "https://localhost:8080/"
        },
        "id": "8JcxHt9H3oqA",
        "outputId": "244f2077-c008-4f3b-8645-597890478fc3"
      },
      "source": [
        "sum(pd.isnull(base_df['vl_divida']))"
      ],
      "execution_count": 72,
      "outputs": [
        {
          "output_type": "execute_result",
          "data": {
            "text/plain": [
              "0"
            ]
          },
          "metadata": {
            "tags": []
          },
          "execution_count": 72
        }
      ]
    },
    {
      "cell_type": "markdown",
      "metadata": {
        "id": "whqnRni3t8u2"
      },
      "source": [
        "## Bruno\r\n",
        "\r\n",
        "DS_OCUPACAO\r\n",
        "VL_RENDA_FAMILIAR_BRUTA_MENSAL\r\n",
        "NO_MUNICIPIO\r\n",
        "DS_RACA_COR\r\n",
        "NU_ANO_CONCLUSAO_ENSINO_MEDIO\r\n",
        "SG_UF_CURSO\r\n",
        "QT_SEMESTRES_CURSO\r\n",
        "QT_SEMESTRE_FINANCIAMENTO\r\n",
        "VL_SEMESTRE_COM_DESCONTO\r\n",
        "NU_PERCENT_SOLICITADO_FINANC\r\n",
        "VL_FINANC_RECURSO_ALUNO\r\n",
        "nu_dias_atraso\r\n",
        "ANO_NASC"
      ]
    }
  ]
}