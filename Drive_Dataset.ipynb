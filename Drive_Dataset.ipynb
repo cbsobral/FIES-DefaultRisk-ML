{
 "cells": [
  {
   "cell_type": "markdown",
   "metadata": {
    "colab_type": "text",
    "id": "view-in-github"
   },
   "source": [
    "<a href=\"https://colab.research.google.com/github/cbsobral/ml-fies/blob/main/Drive_Dataset.ipynb\" target=\"_parent\"><img src=\"https://colab.research.google.com/assets/colab-badge.svg\" alt=\"Open In Colab\"/></a>"
   ]
  },
  {
   "cell_type": "markdown",
   "metadata": {
    "id": "wi70_1LLs8Nf"
   },
   "source": [
    "# Import Dataset"
   ]
  },
  {
   "cell_type": "code",
   "execution_count": 2,
   "metadata": {
    "colab": {
     "base_uri": "https://localhost:8080/"
    },
    "id": "k_w87CmktUQm",
    "outputId": "7c15e188-4741-418e-8af9-fa6d6a38d342"
   },
   "outputs": [
    {
     "data": {
      "text/plain": [
       "(309999, 37)"
      ]
     },
     "execution_count": 2,
     "metadata": {},
     "output_type": "execute_result"
    }
   ],
   "source": [
    "import pandas as pd\r\n",
    "\r\n",
    "url_a = 'https://drive.google.com/file/d/1prPbFSiXFTHmTHzXTGxy4HrtRxXUHhce/view?usp=sharing'\r\n",
    "path_a = 'https://drive.google.com/uc?export=download&id='+url_a.split('/')[-2]\r\n",
    "base_df_a = pd.read_excel(path_a)\r\n",
    "base_df_a.shape"
   ]
  },
  {
   "cell_type": "code",
   "execution_count": 3,
   "metadata": {
    "colab": {
     "base_uri": "https://localhost:8080/"
    },
    "id": "3H4pRSktp2cm",
    "outputId": "03126d6c-54c0-4a2c-c8f5-9452ad52306d"
   },
   "outputs": [
    {
     "data": {
      "text/plain": [
       "(327823, 37)"
      ]
     },
     "execution_count": 3,
     "metadata": {},
     "output_type": "execute_result"
    }
   ],
   "source": [
    "url_b = 'https://drive.google.com/file/d/1nGckSszPPifPvR3o5FeYaKArUYbfjHGn/view?usp=sharing'\r\n",
    "path_b = 'https://drive.google.com/uc?export=download&id='+url_b.split('/')[-2]\r\n",
    "base_df_b = pd.read_excel(path_b)\r\n",
    "base_df_b.shape"
   ]
  },
  {
   "cell_type": "code",
   "execution_count": 4,
   "metadata": {
    "colab": {
     "base_uri": "https://localhost:8080/"
    },
    "id": "LZMd2o2ArGXf",
    "outputId": "1cd06c76-52cb-42ed-9845-70368cd27f8d"
   },
   "outputs": [
    {
     "data": {
      "text/plain": [
       "(637822, 37)"
      ]
     },
     "execution_count": 4,
     "metadata": {},
     "output_type": "execute_result"
    }
   ],
   "source": [
    "base_df = base_df_a.append(base_df_b)\r\n",
    "base_df.shape"
   ]
  },
  {
   "cell_type": "code",
   "execution_count": 5,
   "metadata": {
    "colab": {
     "base_uri": "https://localhost:8080/",
     "height": 317
    },
    "id": "gKKX4MkfwClc",
    "outputId": "be5bc597-11a7-4cc6-e1ec-7219959c2303"
   },
   "outputs": [
    {
     "data": {
      "text/html": [
       "<div>\n",
       "<style scoped>\n",
       "    .dataframe tbody tr th:only-of-type {\n",
       "        vertical-align: middle;\n",
       "    }\n",
       "\n",
       "    .dataframe tbody tr th {\n",
       "        vertical-align: top;\n",
       "    }\n",
       "\n",
       "    .dataframe thead th {\n",
       "        text-align: right;\n",
       "    }\n",
       "</style>\n",
       "<table border=\"1\" class=\"dataframe\">\n",
       "  <thead>\n",
       "    <tr style=\"text-align: right;\">\n",
       "      <th></th>\n",
       "      <th>NU_ANO_SEMESTRE_INSCRICAO</th>\n",
       "      <th>SG_SEXO</th>\n",
       "      <th>DS_OCUPACAO</th>\n",
       "      <th>DS_ESTADO_CIVIL</th>\n",
       "      <th>VL_RENDA_FAMILIAR_BRUTA_MENSAL</th>\n",
       "      <th>VL_RENDA_PESSOAL_BRUTA_MENSAL</th>\n",
       "      <th>NO_MUNICIPIO</th>\n",
       "      <th>SG_UF</th>\n",
       "      <th>DS_RACA_COR</th>\n",
       "      <th>ST_ENSINO_MEDIO_ESCOLA_PUBLICA</th>\n",
       "      <th>...</th>\n",
       "      <th>NU_PERCENT_SOLICITADO_FINANC</th>\n",
       "      <th>VL_FINANCIADO_SEMESTRE</th>\n",
       "      <th>VL_FINANC_RECURSO_ALUNO</th>\n",
       "      <th>VL_TOTAL_FINANCIAMENTO</th>\n",
       "      <th>VL_LIMITE_GLOBAL</th>\n",
       "      <th>dt_inicio_cont</th>\n",
       "      <th>fase_contrato</th>\n",
       "      <th>nu_dias_atraso</th>\n",
       "      <th>vl_divida</th>\n",
       "      <th>ANO_NASC</th>\n",
       "    </tr>\n",
       "  </thead>\n",
       "  <tbody>\n",
       "    <tr>\n",
       "      <th>0</th>\n",
       "      <td>12014</td>\n",
       "      <td>F</td>\n",
       "      <td>Vendedor e prestador de serviÃ§os do comÃ©rcio...</td>\n",
       "      <td>Solteiro</td>\n",
       "      <td>728.74</td>\n",
       "      <td>728.74</td>\n",
       "      <td>NaN</td>\n",
       "      <td>NaN</td>\n",
       "      <td>P</td>\n",
       "      <td>S</td>\n",
       "      <td>...</td>\n",
       "      <td>100</td>\n",
       "      <td>1.683180e+03</td>\n",
       "      <td>0.00</td>\n",
       "      <td>13465.44</td>\n",
       "      <td>15730.80</td>\n",
       "      <td>2014-05-02</td>\n",
       "      <td>Amortizacao</td>\n",
       "      <td>0</td>\n",
       "      <td>14549.68</td>\n",
       "      <td>1991</td>\n",
       "    </tr>\n",
       "    <tr>\n",
       "      <th>1</th>\n",
       "      <td>12013</td>\n",
       "      <td>F</td>\n",
       "      <td>Outros trabalhadores de serviÃ§os diversos</td>\n",
       "      <td>Solteiro</td>\n",
       "      <td>553.35</td>\n",
       "      <td>553.35</td>\n",
       "      <td>NaN</td>\n",
       "      <td>NaN</td>\n",
       "      <td>P</td>\n",
       "      <td>S</td>\n",
       "      <td>...</td>\n",
       "      <td>100</td>\n",
       "      <td>2.650500e+03</td>\n",
       "      <td>0.00</td>\n",
       "      <td>15903.00</td>\n",
       "      <td>16800.75</td>\n",
       "      <td>2013-02-13</td>\n",
       "      <td>Amortizacao</td>\n",
       "      <td>0</td>\n",
       "      <td>12139.80</td>\n",
       "      <td>1990</td>\n",
       "    </tr>\n",
       "    <tr>\n",
       "      <th>2</th>\n",
       "      <td>22014</td>\n",
       "      <td>F</td>\n",
       "      <td>Estudante</td>\n",
       "      <td>Solteiro</td>\n",
       "      <td>5962.49</td>\n",
       "      <td>0.00</td>\n",
       "      <td>NaN</td>\n",
       "      <td>NaN</td>\n",
       "      <td>P</td>\n",
       "      <td>N</td>\n",
       "      <td>...</td>\n",
       "      <td>100</td>\n",
       "      <td>2.681085e+04</td>\n",
       "      <td>0.00</td>\n",
       "      <td>321730.20</td>\n",
       "      <td>377937.00</td>\n",
       "      <td>2014-08-12</td>\n",
       "      <td>Utilizacao</td>\n",
       "      <td>0</td>\n",
       "      <td>397349.62</td>\n",
       "      <td>1996</td>\n",
       "    </tr>\n",
       "    <tr>\n",
       "      <th>3</th>\n",
       "      <td>12012</td>\n",
       "      <td>F</td>\n",
       "      <td>Estudante</td>\n",
       "      <td>Solteiro</td>\n",
       "      <td>21671.74</td>\n",
       "      <td>0.00</td>\n",
       "      <td>NaN</td>\n",
       "      <td>NaN</td>\n",
       "      <td>B</td>\n",
       "      <td>N</td>\n",
       "      <td>...</td>\n",
       "      <td>100</td>\n",
       "      <td>3.206532e+04</td>\n",
       "      <td>0.00</td>\n",
       "      <td>384783.84</td>\n",
       "      <td>368181.00</td>\n",
       "      <td>2012-03-20</td>\n",
       "      <td>Utilizacao</td>\n",
       "      <td>0</td>\n",
       "      <td>434901.80</td>\n",
       "      <td>1991</td>\n",
       "    </tr>\n",
       "    <tr>\n",
       "      <th>4</th>\n",
       "      <td>22011</td>\n",
       "      <td>F</td>\n",
       "      <td>Estudante</td>\n",
       "      <td>Solteiro</td>\n",
       "      <td>1000.00</td>\n",
       "      <td>0.00</td>\n",
       "      <td>NaN</td>\n",
       "      <td>NaN</td>\n",
       "      <td>B</td>\n",
       "      <td>S</td>\n",
       "      <td>...</td>\n",
       "      <td>100</td>\n",
       "      <td>2.595000e+03</td>\n",
       "      <td>2595.00</td>\n",
       "      <td>51900.00</td>\n",
       "      <td>25612.50</td>\n",
       "      <td>2011-09-23</td>\n",
       "      <td>Amortizacao</td>\n",
       "      <td>682</td>\n",
       "      <td>27518.91</td>\n",
       "      <td>1992</td>\n",
       "    </tr>\n",
       "    <tr>\n",
       "      <th>5</th>\n",
       "      <td>22011</td>\n",
       "      <td>M</td>\n",
       "      <td>Outras ocupaÃ§Ãµes nÃ£o especificadas anterior...</td>\n",
       "      <td>Solteiro</td>\n",
       "      <td>879.00</td>\n",
       "      <td>879.00</td>\n",
       "      <td>NaN</td>\n",
       "      <td>NaN</td>\n",
       "      <td>P</td>\n",
       "      <td>S</td>\n",
       "      <td>...</td>\n",
       "      <td>100</td>\n",
       "      <td>9.195300e+15</td>\n",
       "      <td>0.00</td>\n",
       "      <td>91953.00</td>\n",
       "      <td>57915.00</td>\n",
       "      <td>2011-09-19</td>\n",
       "      <td>Amortizacao</td>\n",
       "      <td>47</td>\n",
       "      <td>101362.03</td>\n",
       "      <td>1990</td>\n",
       "    </tr>\n",
       "    <tr>\n",
       "      <th>6</th>\n",
       "      <td>12014</td>\n",
       "      <td>M</td>\n",
       "      <td>TÃ©cnico em metalmecÃ¢nica</td>\n",
       "      <td>Solteiro</td>\n",
       "      <td>2376.74</td>\n",
       "      <td>0.00</td>\n",
       "      <td>NaN</td>\n",
       "      <td>NaN</td>\n",
       "      <td>B</td>\n",
       "      <td>S</td>\n",
       "      <td>...</td>\n",
       "      <td>100</td>\n",
       "      <td>6.629990e+03</td>\n",
       "      <td>0.00</td>\n",
       "      <td>66299.90</td>\n",
       "      <td>82500.00</td>\n",
       "      <td>2014-02-26</td>\n",
       "      <td>Carencia</td>\n",
       "      <td>0</td>\n",
       "      <td>98476.98</td>\n",
       "      <td>1991</td>\n",
       "    </tr>\n",
       "    <tr>\n",
       "      <th>7</th>\n",
       "      <td>12014</td>\n",
       "      <td>F</td>\n",
       "      <td>Estudante</td>\n",
       "      <td>Solteiro</td>\n",
       "      <td>3781.57</td>\n",
       "      <td>0.00</td>\n",
       "      <td>NaN</td>\n",
       "      <td>NaN</td>\n",
       "      <td>B</td>\n",
       "      <td>S</td>\n",
       "      <td>...</td>\n",
       "      <td>50</td>\n",
       "      <td>1.398100e+03</td>\n",
       "      <td>1398.09</td>\n",
       "      <td>22369.52</td>\n",
       "      <td>13140.00</td>\n",
       "      <td>2014-01-30</td>\n",
       "      <td>Amortizacao</td>\n",
       "      <td>21</td>\n",
       "      <td>9175.88</td>\n",
       "      <td>1996</td>\n",
       "    </tr>\n",
       "    <tr>\n",
       "      <th>8</th>\n",
       "      <td>22012</td>\n",
       "      <td>F</td>\n",
       "      <td>Estudante</td>\n",
       "      <td>Solteiro</td>\n",
       "      <td>1050.00</td>\n",
       "      <td>0.00</td>\n",
       "      <td>NaN</td>\n",
       "      <td>NaN</td>\n",
       "      <td>P</td>\n",
       "      <td>S</td>\n",
       "      <td>...</td>\n",
       "      <td>100</td>\n",
       "      <td>5.054820e+03</td>\n",
       "      <td>0.00</td>\n",
       "      <td>40438.56</td>\n",
       "      <td>41279.40</td>\n",
       "      <td>2012-10-15</td>\n",
       "      <td>Amortizacao</td>\n",
       "      <td>600</td>\n",
       "      <td>52153.52</td>\n",
       "      <td>1991</td>\n",
       "    </tr>\n",
       "    <tr>\n",
       "      <th>9</th>\n",
       "      <td>12014</td>\n",
       "      <td>F</td>\n",
       "      <td>Estudante</td>\n",
       "      <td>Solteiro</td>\n",
       "      <td>2285.31</td>\n",
       "      <td>0.00</td>\n",
       "      <td>NaN</td>\n",
       "      <td>NaN</td>\n",
       "      <td>P</td>\n",
       "      <td>S</td>\n",
       "      <td>...</td>\n",
       "      <td>100</td>\n",
       "      <td>1.527017e+04</td>\n",
       "      <td>0.00</td>\n",
       "      <td>167971.87</td>\n",
       "      <td>199294.25</td>\n",
       "      <td>2014-01-24</td>\n",
       "      <td>Carencia</td>\n",
       "      <td>0</td>\n",
       "      <td>195865.61</td>\n",
       "      <td>1993</td>\n",
       "    </tr>\n",
       "    <tr>\n",
       "      <th>10</th>\n",
       "      <td>12013</td>\n",
       "      <td>F</td>\n",
       "      <td>Estudante</td>\n",
       "      <td>Solteiro</td>\n",
       "      <td>433.00</td>\n",
       "      <td>0.00</td>\n",
       "      <td>NaN</td>\n",
       "      <td>NaN</td>\n",
       "      <td>N</td>\n",
       "      <td>N</td>\n",
       "      <td>...</td>\n",
       "      <td>50</td>\n",
       "      <td>2.318610e+03</td>\n",
       "      <td>2318.61</td>\n",
       "      <td>46372.20</td>\n",
       "      <td>23587.50</td>\n",
       "      <td>2013-02-28</td>\n",
       "      <td>Amortizacao</td>\n",
       "      <td>787</td>\n",
       "      <td>24731.85</td>\n",
       "      <td>1996</td>\n",
       "    </tr>\n",
       "    <tr>\n",
       "      <th>11</th>\n",
       "      <td>12011</td>\n",
       "      <td>F</td>\n",
       "      <td>Estudante</td>\n",
       "      <td>Solteiro</td>\n",
       "      <td>20241.33</td>\n",
       "      <td>0.00</td>\n",
       "      <td>NaN</td>\n",
       "      <td>NaN</td>\n",
       "      <td>B</td>\n",
       "      <td>N</td>\n",
       "      <td>...</td>\n",
       "      <td>70</td>\n",
       "      <td>1.665300e+04</td>\n",
       "      <td>7137.00</td>\n",
       "      <td>285480.00</td>\n",
       "      <td>205695.00</td>\n",
       "      <td>2011-03-04</td>\n",
       "      <td>Amortizacao</td>\n",
       "      <td>0</td>\n",
       "      <td>201605.80</td>\n",
       "      <td>1990</td>\n",
       "    </tr>\n",
       "    <tr>\n",
       "      <th>12</th>\n",
       "      <td>12014</td>\n",
       "      <td>F</td>\n",
       "      <td>Estudante</td>\n",
       "      <td>Solteiro</td>\n",
       "      <td>5578.12</td>\n",
       "      <td>0.00</td>\n",
       "      <td>NaN</td>\n",
       "      <td>NaN</td>\n",
       "      <td>B</td>\n",
       "      <td>N</td>\n",
       "      <td>...</td>\n",
       "      <td>100</td>\n",
       "      <td>3.128400e+04</td>\n",
       "      <td>0.00</td>\n",
       "      <td>218988.00</td>\n",
       "      <td>257250.00</td>\n",
       "      <td>2014-02-19</td>\n",
       "      <td>Amortizacao</td>\n",
       "      <td>0</td>\n",
       "      <td>251503.10</td>\n",
       "      <td>1992</td>\n",
       "    </tr>\n",
       "    <tr>\n",
       "      <th>13</th>\n",
       "      <td>22014</td>\n",
       "      <td>F</td>\n",
       "      <td>Estudante</td>\n",
       "      <td>Solteiro</td>\n",
       "      <td>1920.40</td>\n",
       "      <td>0.00</td>\n",
       "      <td>NaN</td>\n",
       "      <td>NaN</td>\n",
       "      <td>P</td>\n",
       "      <td>S</td>\n",
       "      <td>...</td>\n",
       "      <td>100</td>\n",
       "      <td>3.595110e+03</td>\n",
       "      <td>3595.11</td>\n",
       "      <td>64711.98</td>\n",
       "      <td>38012.29</td>\n",
       "      <td>2014-09-17</td>\n",
       "      <td>Utilizacao</td>\n",
       "      <td>0</td>\n",
       "      <td>40645.92</td>\n",
       "      <td>1995</td>\n",
       "    </tr>\n",
       "    <tr>\n",
       "      <th>14</th>\n",
       "      <td>12014</td>\n",
       "      <td>F</td>\n",
       "      <td>Trabalhador dos serviÃ§os de administraÃ§Ã£o, ...</td>\n",
       "      <td>Solteiro</td>\n",
       "      <td>974.94</td>\n",
       "      <td>974.94</td>\n",
       "      <td>NaN</td>\n",
       "      <td>NaN</td>\n",
       "      <td>P</td>\n",
       "      <td>N</td>\n",
       "      <td>...</td>\n",
       "      <td>100</td>\n",
       "      <td>6.995800e+03</td>\n",
       "      <td>0.00</td>\n",
       "      <td>69958.00</td>\n",
       "      <td>82196.25</td>\n",
       "      <td>2014-02-17</td>\n",
       "      <td>Utilizacao</td>\n",
       "      <td>57</td>\n",
       "      <td>119518.29</td>\n",
       "      <td>1995</td>\n",
       "    </tr>\n",
       "    <tr>\n",
       "      <th>15</th>\n",
       "      <td>22013</td>\n",
       "      <td>M</td>\n",
       "      <td>Estudante</td>\n",
       "      <td>Solteiro</td>\n",
       "      <td>678.00</td>\n",
       "      <td>0.00</td>\n",
       "      <td>NaN</td>\n",
       "      <td>NaN</td>\n",
       "      <td>B</td>\n",
       "      <td>S</td>\n",
       "      <td>...</td>\n",
       "      <td>50</td>\n",
       "      <td>3.080820e+03</td>\n",
       "      <td>3080.83</td>\n",
       "      <td>55454.85</td>\n",
       "      <td>31043.25</td>\n",
       "      <td>2013-07-26</td>\n",
       "      <td>Amortizacao</td>\n",
       "      <td>0</td>\n",
       "      <td>21822.17</td>\n",
       "      <td>1993</td>\n",
       "    </tr>\n",
       "    <tr>\n",
       "      <th>16</th>\n",
       "      <td>22014</td>\n",
       "      <td>F</td>\n",
       "      <td>Estudante</td>\n",
       "      <td>Solteiro</td>\n",
       "      <td>755.00</td>\n",
       "      <td>755.00</td>\n",
       "      <td>NaN</td>\n",
       "      <td>NaN</td>\n",
       "      <td>B</td>\n",
       "      <td>N</td>\n",
       "      <td>...</td>\n",
       "      <td>100</td>\n",
       "      <td>3.619160e+03</td>\n",
       "      <td>0.00</td>\n",
       "      <td>25334.12</td>\n",
       "      <td>29763.12</td>\n",
       "      <td>2014-09-01</td>\n",
       "      <td>Amortizacao</td>\n",
       "      <td>82</td>\n",
       "      <td>27961.70</td>\n",
       "      <td>1992</td>\n",
       "    </tr>\n",
       "    <tr>\n",
       "      <th>17</th>\n",
       "      <td>22014</td>\n",
       "      <td>M</td>\n",
       "      <td>Vendedor e prestador de serviÃ§os do comÃ©rcio...</td>\n",
       "      <td>Casado</td>\n",
       "      <td>1177.00</td>\n",
       "      <td>1177.00</td>\n",
       "      <td>NaN</td>\n",
       "      <td>NaN</td>\n",
       "      <td>N</td>\n",
       "      <td>S</td>\n",
       "      <td>...</td>\n",
       "      <td>50</td>\n",
       "      <td>2.039850e+03</td>\n",
       "      <td>2039.85</td>\n",
       "      <td>40797.00</td>\n",
       "      <td>25498.12</td>\n",
       "      <td>2014-12-15</td>\n",
       "      <td>Carencia</td>\n",
       "      <td>0</td>\n",
       "      <td>31910.90</td>\n",
       "      <td>1989</td>\n",
       "    </tr>\n",
       "    <tr>\n",
       "      <th>18</th>\n",
       "      <td>12012</td>\n",
       "      <td>M</td>\n",
       "      <td>Outras ocupaÃ§Ãµes nÃ£o especificadas anterior...</td>\n",
       "      <td>Solteiro</td>\n",
       "      <td>1025.00</td>\n",
       "      <td>1025.00</td>\n",
       "      <td>NaN</td>\n",
       "      <td>NaN</td>\n",
       "      <td>P</td>\n",
       "      <td>S</td>\n",
       "      <td>...</td>\n",
       "      <td>100</td>\n",
       "      <td>6.423900e+03</td>\n",
       "      <td>0.00</td>\n",
       "      <td>51391.20</td>\n",
       "      <td>50616.00</td>\n",
       "      <td>2012-03-22</td>\n",
       "      <td>Amortizacao</td>\n",
       "      <td>0</td>\n",
       "      <td>57629.62</td>\n",
       "      <td>1990</td>\n",
       "    </tr>\n",
       "    <tr>\n",
       "      <th>19</th>\n",
       "      <td>12014</td>\n",
       "      <td>M</td>\n",
       "      <td>Outras ocupaÃ§Ãµes nÃ£o especificadas anterior...</td>\n",
       "      <td>Solteiro</td>\n",
       "      <td>2394.22</td>\n",
       "      <td>1476.14</td>\n",
       "      <td>NaN</td>\n",
       "      <td>NaN</td>\n",
       "      <td>P</td>\n",
       "      <td>N</td>\n",
       "      <td>...</td>\n",
       "      <td>100</td>\n",
       "      <td>3.626110e+03</td>\n",
       "      <td>0.00</td>\n",
       "      <td>29008.88</td>\n",
       "      <td>34080.00</td>\n",
       "      <td>2014-01-31</td>\n",
       "      <td>Amortizacao</td>\n",
       "      <td>970</td>\n",
       "      <td>20067.39</td>\n",
       "      <td>1989</td>\n",
       "    </tr>\n",
       "  </tbody>\n",
       "</table>\n",
       "<p>20 rows × 37 columns</p>\n",
       "</div>"
      ],
      "text/plain": [
       "    NU_ANO_SEMESTRE_INSCRICAO SG_SEXO  \\\n",
       "0                       12014       F   \n",
       "1                       12013       F   \n",
       "2                       22014       F   \n",
       "3                       12012       F   \n",
       "4                       22011       F   \n",
       "5                       22011       M   \n",
       "6                       12014       M   \n",
       "7                       12014       F   \n",
       "8                       22012       F   \n",
       "9                       12014       F   \n",
       "10                      12013       F   \n",
       "11                      12011       F   \n",
       "12                      12014       F   \n",
       "13                      22014       F   \n",
       "14                      12014       F   \n",
       "15                      22013       M   \n",
       "16                      22014       F   \n",
       "17                      22014       M   \n",
       "18                      12012       M   \n",
       "19                      12014       M   \n",
       "\n",
       "                                          DS_OCUPACAO DS_ESTADO_CIVIL  \\\n",
       "0   Vendedor e prestador de serviÃ§os do comÃ©rcio...        Solteiro   \n",
       "1          Outros trabalhadores de serviÃ§os diversos        Solteiro   \n",
       "2                                           Estudante        Solteiro   \n",
       "3                                           Estudante        Solteiro   \n",
       "4                                           Estudante        Solteiro   \n",
       "5   Outras ocupaÃ§Ãµes nÃ£o especificadas anterior...        Solteiro   \n",
       "6                          TÃ©cnico em metalmecÃ¢nica        Solteiro   \n",
       "7                                           Estudante        Solteiro   \n",
       "8                                           Estudante        Solteiro   \n",
       "9                                           Estudante        Solteiro   \n",
       "10                                          Estudante        Solteiro   \n",
       "11                                          Estudante        Solteiro   \n",
       "12                                          Estudante        Solteiro   \n",
       "13                                          Estudante        Solteiro   \n",
       "14  Trabalhador dos serviÃ§os de administraÃ§Ã£o, ...        Solteiro   \n",
       "15                                          Estudante        Solteiro   \n",
       "16                                          Estudante        Solteiro   \n",
       "17  Vendedor e prestador de serviÃ§os do comÃ©rcio...          Casado   \n",
       "18  Outras ocupaÃ§Ãµes nÃ£o especificadas anterior...        Solteiro   \n",
       "19  Outras ocupaÃ§Ãµes nÃ£o especificadas anterior...        Solteiro   \n",
       "\n",
       "    VL_RENDA_FAMILIAR_BRUTA_MENSAL  VL_RENDA_PESSOAL_BRUTA_MENSAL  \\\n",
       "0                           728.74                         728.74   \n",
       "1                           553.35                         553.35   \n",
       "2                          5962.49                           0.00   \n",
       "3                         21671.74                           0.00   \n",
       "4                          1000.00                           0.00   \n",
       "5                           879.00                         879.00   \n",
       "6                          2376.74                           0.00   \n",
       "7                          3781.57                           0.00   \n",
       "8                          1050.00                           0.00   \n",
       "9                          2285.31                           0.00   \n",
       "10                          433.00                           0.00   \n",
       "11                        20241.33                           0.00   \n",
       "12                         5578.12                           0.00   \n",
       "13                         1920.40                           0.00   \n",
       "14                          974.94                         974.94   \n",
       "15                          678.00                           0.00   \n",
       "16                          755.00                         755.00   \n",
       "17                         1177.00                        1177.00   \n",
       "18                         1025.00                        1025.00   \n",
       "19                         2394.22                        1476.14   \n",
       "\n",
       "   NO_MUNICIPIO SG_UF DS_RACA_COR ST_ENSINO_MEDIO_ESCOLA_PUBLICA  ...  \\\n",
       "0           NaN   NaN           P                              S  ...   \n",
       "1           NaN   NaN           P                              S  ...   \n",
       "2           NaN   NaN           P                              N  ...   \n",
       "3           NaN   NaN           B                              N  ...   \n",
       "4           NaN   NaN           B                              S  ...   \n",
       "5           NaN   NaN           P                              S  ...   \n",
       "6           NaN   NaN           B                              S  ...   \n",
       "7           NaN   NaN           B                              S  ...   \n",
       "8           NaN   NaN           P                              S  ...   \n",
       "9           NaN   NaN           P                              S  ...   \n",
       "10          NaN   NaN           N                              N  ...   \n",
       "11          NaN   NaN           B                              N  ...   \n",
       "12          NaN   NaN           B                              N  ...   \n",
       "13          NaN   NaN           P                              S  ...   \n",
       "14          NaN   NaN           P                              N  ...   \n",
       "15          NaN   NaN           B                              S  ...   \n",
       "16          NaN   NaN           B                              N  ...   \n",
       "17          NaN   NaN           N                              S  ...   \n",
       "18          NaN   NaN           P                              S  ...   \n",
       "19          NaN   NaN           P                              N  ...   \n",
       "\n",
       "    NU_PERCENT_SOLICITADO_FINANC  VL_FINANCIADO_SEMESTRE  \\\n",
       "0                            100            1.683180e+03   \n",
       "1                            100            2.650500e+03   \n",
       "2                            100            2.681085e+04   \n",
       "3                            100            3.206532e+04   \n",
       "4                            100            2.595000e+03   \n",
       "5                            100            9.195300e+15   \n",
       "6                            100            6.629990e+03   \n",
       "7                             50            1.398100e+03   \n",
       "8                            100            5.054820e+03   \n",
       "9                            100            1.527017e+04   \n",
       "10                            50            2.318610e+03   \n",
       "11                            70            1.665300e+04   \n",
       "12                           100            3.128400e+04   \n",
       "13                           100            3.595110e+03   \n",
       "14                           100            6.995800e+03   \n",
       "15                            50            3.080820e+03   \n",
       "16                           100            3.619160e+03   \n",
       "17                            50            2.039850e+03   \n",
       "18                           100            6.423900e+03   \n",
       "19                           100            3.626110e+03   \n",
       "\n",
       "   VL_FINANC_RECURSO_ALUNO VL_TOTAL_FINANCIAMENTO  VL_LIMITE_GLOBAL  \\\n",
       "0                     0.00               13465.44          15730.80   \n",
       "1                     0.00               15903.00          16800.75   \n",
       "2                     0.00              321730.20         377937.00   \n",
       "3                     0.00              384783.84         368181.00   \n",
       "4                  2595.00               51900.00          25612.50   \n",
       "5                     0.00               91953.00          57915.00   \n",
       "6                     0.00               66299.90          82500.00   \n",
       "7                  1398.09               22369.52          13140.00   \n",
       "8                     0.00               40438.56          41279.40   \n",
       "9                     0.00              167971.87         199294.25   \n",
       "10                 2318.61               46372.20          23587.50   \n",
       "11                 7137.00              285480.00         205695.00   \n",
       "12                    0.00              218988.00         257250.00   \n",
       "13                 3595.11               64711.98          38012.29   \n",
       "14                    0.00               69958.00          82196.25   \n",
       "15                 3080.83               55454.85          31043.25   \n",
       "16                    0.00               25334.12          29763.12   \n",
       "17                 2039.85               40797.00          25498.12   \n",
       "18                    0.00               51391.20          50616.00   \n",
       "19                    0.00               29008.88          34080.00   \n",
       "\n",
       "    dt_inicio_cont  fase_contrato  nu_dias_atraso  vl_divida  ANO_NASC  \n",
       "0       2014-05-02    Amortizacao               0   14549.68      1991  \n",
       "1       2013-02-13    Amortizacao               0   12139.80      1990  \n",
       "2       2014-08-12     Utilizacao               0  397349.62      1996  \n",
       "3       2012-03-20     Utilizacao               0  434901.80      1991  \n",
       "4       2011-09-23    Amortizacao             682   27518.91      1992  \n",
       "5       2011-09-19    Amortizacao              47  101362.03      1990  \n",
       "6       2014-02-26       Carencia               0   98476.98      1991  \n",
       "7       2014-01-30    Amortizacao              21    9175.88      1996  \n",
       "8       2012-10-15    Amortizacao             600   52153.52      1991  \n",
       "9       2014-01-24       Carencia               0  195865.61      1993  \n",
       "10      2013-02-28    Amortizacao             787   24731.85      1996  \n",
       "11      2011-03-04    Amortizacao               0  201605.80      1990  \n",
       "12      2014-02-19    Amortizacao               0  251503.10      1992  \n",
       "13      2014-09-17     Utilizacao               0   40645.92      1995  \n",
       "14      2014-02-17     Utilizacao              57  119518.29      1995  \n",
       "15      2013-07-26    Amortizacao               0   21822.17      1993  \n",
       "16      2014-09-01    Amortizacao              82   27961.70      1992  \n",
       "17      2014-12-15       Carencia               0   31910.90      1989  \n",
       "18      2012-03-22    Amortizacao               0   57629.62      1990  \n",
       "19      2014-01-31    Amortizacao             970   20067.39      1989  \n",
       "\n",
       "[20 rows x 37 columns]"
      ]
     },
     "execution_count": 5,
     "metadata": {},
     "output_type": "execute_result"
    }
   ],
   "source": [
    "base_df.head(20)"
   ]
  },
  {
   "cell_type": "code",
   "execution_count": 6,
   "metadata": {
    "colab": {
     "base_uri": "https://localhost:8080/"
    },
    "id": "bO2BElG1wXup",
    "outputId": "37887cfe-bee2-427e-dccd-fc99f63fb4fe"
   },
   "outputs": [
    {
     "data": {
      "text/plain": [
       "NU_ANO_SEMESTRE_INSCRICAO                  int64\n",
       "SG_SEXO                                   object\n",
       "DS_OCUPACAO                               object\n",
       "DS_ESTADO_CIVIL                           object\n",
       "VL_RENDA_FAMILIAR_BRUTA_MENSAL           float64\n",
       "VL_RENDA_PESSOAL_BRUTA_MENSAL            float64\n",
       "NO_MUNICIPIO                              object\n",
       "SG_UF                                     object\n",
       "DS_RACA_COR                               object\n",
       "ST_ENSINO_MEDIO_ESCOLA_PUBLICA            object\n",
       "NU_ANO_CONCLUSAO_ENSINO_MEDIO            float64\n",
       "NU_SEMESTRE_REFERENCIA                     int64\n",
       "SG_UF_CURSO                               object\n",
       "NO_CURSO                                  object\n",
       "VL_AVALIACAO_IGC                         float64\n",
       "VL_FAIXA_CPC                             float64\n",
       "VL_FAIXA_CC                              float64\n",
       "QT_SEMESTRES_CURSO                         int64\n",
       "QT_SEMESTRE_CONCLUIDO                      int64\n",
       "QT_SEMESTRE_FINANCIAMENTO                  int64\n",
       "QT_MESES_FINANC_SEMESTRE_ATUAL             int64\n",
       "QT_MEMBRO                                float64\n",
       "VL_RENDA_PER_CAPITA                      float64\n",
       "VL_SEMESTRE_SEM_DESCONTO                 float64\n",
       "VL_SEMESTRE_COM_DESCONTO                 float64\n",
       "VL_SEMESTRE_ATUAL                        float64\n",
       "NU_PERCENTUAL_COMPROMETIMENTO            float64\n",
       "NU_PERCENT_SOLICITADO_FINANC               int64\n",
       "VL_FINANCIADO_SEMESTRE                   float64\n",
       "VL_FINANC_RECURSO_ALUNO                  float64\n",
       "VL_TOTAL_FINANCIAMENTO                   float64\n",
       "VL_LIMITE_GLOBAL                         float64\n",
       "dt_inicio_cont                    datetime64[ns]\n",
       "fase_contrato                             object\n",
       "nu_dias_atraso                             int64\n",
       "vl_divida                                float64\n",
       "ANO_NASC                                  object\n",
       "dtype: object"
      ]
     },
     "execution_count": 6,
     "metadata": {},
     "output_type": "execute_result"
    }
   ],
   "source": [
    "base_df.dtypes"
   ]
  },
  {
   "cell_type": "markdown",
   "metadata": {
    "id": "8ulPt-vQtLbA"
   },
   "source": [
    "# Feature Analysis"
   ]
  },
  {
   "cell_type": "markdown",
   "metadata": {
    "id": "GusSMdq3tgFZ"
   },
   "source": [
    "## Carol \r\n",
    "\r\n",
    "SG_SEXO\r\n",
    "DS_ESTADO_CIVIL\r\n",
    "VL_RENDA_PESSOAL_BRUTA_MENSAL\r\n",
    "SG_UF\r\n",
    "ST_ENSINO_MEDIO_ESCOLA_PUBLICA\r\n",
    "NU_SEMESTRE_REFERENCIA\r\n",
    "NO_CURSO\r\n",
    "QT_SEMESTRE_CONCLUIDO\r\n",
    "VL_SEMESTRE_SEM_DESCONTO\r\n",
    "VL_SEMESTRE_ATUAL\r\n",
    "VL_FINANCIADO_SEMESTRE\r\n",
    "fase_contrato\r\n",
    "vl_divida"
   ]
  },
  {
   "cell_type": "markdown",
   "metadata": {
    "id": "wYbmwg7vwojn"
   },
   "source": [
    "### SG_SEXO\r\n",
    "gender =  male, female\r\n",
    "NAs = 6 --> remove "
   ]
  },
  {
   "cell_type": "code",
   "execution_count": 7,
   "metadata": {
    "colab": {
     "base_uri": "https://localhost:8080/"
    },
    "id": "F7ZnmBWCuxim",
    "outputId": "7239214c-1b56-4809-aa53-839bfe3198b7"
   },
   "outputs": [
    {
     "data": {
      "text/plain": [
       "F    381211\n",
       "M    256605\n",
       "Name: SG_SEXO, dtype: int64"
      ]
     },
     "execution_count": 7,
     "metadata": {},
     "output_type": "execute_result"
    }
   ],
   "source": [
    "base_df['SG_SEXO'].value_counts()"
   ]
  },
  {
   "cell_type": "code",
   "execution_count": 8,
   "metadata": {
    "colab": {
     "base_uri": "https://localhost:8080/"
    },
    "id": "oybuu2nixsjQ",
    "outputId": "58d00b11-6684-44e0-84ff-69ccedbb3a6c"
   },
   "outputs": [
    {
     "data": {
      "text/plain": [
       "6"
      ]
     },
     "execution_count": 8,
     "metadata": {},
     "output_type": "execute_result"
    }
   ],
   "source": [
    "sum(pd.isnull(base_df['SG_SEXO']))"
   ]
  },
  {
   "cell_type": "markdown",
   "metadata": {
    "id": "PXLW7KgeyO4a"
   },
   "source": [
    "### DS_ESTADO_CIVIL\r\n",
    "marital_status =  single, married, divorced, civil union, separated, widowed\r\n",
    "NAs = 75 --> remove "
   ]
  },
  {
   "cell_type": "code",
   "execution_count": 9,
   "metadata": {
    "colab": {
     "base_uri": "https://localhost:8080/"
    },
    "id": "ZE7QbE-FyO43",
    "outputId": "b9574cda-83dd-430f-f142-065e099e87e3"
   },
   "outputs": [
    {
     "data": {
      "text/plain": [
       "Solteiro           490754\n",
       "Casado             103754\n",
       "Divorciado          18549\n",
       "UniÃ£o estÃ¡vel     17163\n",
       "Separado             6133\n",
       "ViÃºvo               1394\n",
       "Name: DS_ESTADO_CIVIL, dtype: int64"
      ]
     },
     "execution_count": 9,
     "metadata": {},
     "output_type": "execute_result"
    }
   ],
   "source": [
    "base_df['DS_ESTADO_CIVIL'].value_counts()"
   ]
  },
  {
   "cell_type": "code",
   "execution_count": 10,
   "metadata": {
    "colab": {
     "base_uri": "https://localhost:8080/"
    },
    "id": "QoneH1TayO45",
    "outputId": "1107ca85-a553-486c-e0fb-ba337739c023"
   },
   "outputs": [
    {
     "data": {
      "text/plain": [
       "75"
      ]
     },
     "execution_count": 10,
     "metadata": {},
     "output_type": "execute_result"
    }
   ],
   "source": [
    "sum(pd.isnull(base_df['DS_ESTADO_CIVIL']))"
   ]
  },
  {
   "cell_type": "markdown",
   "metadata": {
    "id": "TuVaJRgBy1M1"
   },
   "source": [
    "### VL_RENDA_PESSOAL_BRUTA_MENSAL\r\n",
    "personal_income =  numeric values\r\n",
    "NAs = 0"
   ]
  },
  {
   "cell_type": "code",
   "execution_count": 11,
   "metadata": {
    "id": "yuBWWJFPy1Ne"
   },
   "outputs": [
    {
     "data": {
      "text/plain": [
       "0.00       240926\n",
       "1000.00     14837\n",
       "800.00      13631\n",
       "724.00      12112\n",
       "700.00       9154\n",
       "            ...  \n",
       "632.98          1\n",
       "1001.87         1\n",
       "1967.14         1\n",
       "2531.17         1\n",
       "778.74          1\n",
       "Name: VL_RENDA_PESSOAL_BRUTA_MENSAL, Length: 93748, dtype: int64"
      ]
     },
     "execution_count": 11,
     "metadata": {},
     "output_type": "execute_result"
    }
   ],
   "source": [
    "base_df['VL_RENDA_PESSOAL_BRUTA_MENSAL'].value_counts()"
   ]
  },
  {
   "cell_type": "code",
   "execution_count": 12,
   "metadata": {
    "colab": {
     "base_uri": "https://localhost:8080/"
    },
    "id": "Pli73EHmy1No",
    "outputId": "a83d4297-518d-4778-bf52-902f05dda844"
   },
   "outputs": [
    {
     "data": {
      "text/plain": [
       "0"
      ]
     },
     "execution_count": 12,
     "metadata": {},
     "output_type": "execute_result"
    }
   ],
   "source": [
    "sum(pd.isnull(base_df['VL_RENDA_PESSOAL_BRUTA_MENSAL']))"
   ]
  },
  {
   "cell_type": "markdown",
   "metadata": {
    "id": "rsepUwj-zMUP"
   },
   "source": [
    "### ST_ENSINO_MEDIO_ESCOLA_PUBLICA\r\n",
    "public_hs = yes, no, partial\r\n",
    "NAs = 0"
   ]
  },
  {
   "cell_type": "code",
   "execution_count": 13,
   "metadata": {
    "colab": {
     "base_uri": "https://localhost:8080/"
    },
    "id": "QJBTpy6MzMUQ",
    "outputId": "5f9f6d27-3ecd-426a-f4fb-8b4f1a2ddc6b"
   },
   "outputs": [
    {
     "data": {
      "text/plain": [
       "S    502686\n",
       "N     97217\n",
       "P     37919\n",
       "Name: ST_ENSINO_MEDIO_ESCOLA_PUBLICA, dtype: int64"
      ]
     },
     "execution_count": 13,
     "metadata": {},
     "output_type": "execute_result"
    }
   ],
   "source": [
    "base_df['ST_ENSINO_MEDIO_ESCOLA_PUBLICA'].value_counts()"
   ]
  },
  {
   "cell_type": "code",
   "execution_count": 14,
   "metadata": {
    "colab": {
     "base_uri": "https://localhost:8080/"
    },
    "id": "fCaaD-UfzMUR",
    "outputId": "62c3af2f-11bf-4791-df3e-c920bd340579"
   },
   "outputs": [
    {
     "data": {
      "text/plain": [
       "0"
      ]
     },
     "execution_count": 14,
     "metadata": {},
     "output_type": "execute_result"
    }
   ],
   "source": [
    "sum(pd.isnull(base_df['ST_ENSINO_MEDIO_ESCOLA_PUBLICA']))"
   ]
  },
  {
   "cell_type": "markdown",
   "metadata": {
    "id": "HBec8LlM0jXZ"
   },
   "source": [
    "### NU_SEMESTRE_REFERENCIA\r\n",
    "n_semester = all equal to 1.2015\r\n",
    "NAs = 0\r\n",
    "DELETE"
   ]
  },
  {
   "cell_type": "code",
   "execution_count": 15,
   "metadata": {
    "colab": {
     "base_uri": "https://localhost:8080/"
    },
    "id": "9Yg8JSPn0jXr",
    "outputId": "79df7a1b-7e8c-4e45-9827-24b41d267c00"
   },
   "outputs": [
    {
     "data": {
      "text/plain": [
       "12015    637822\n",
       "Name: NU_SEMESTRE_REFERENCIA, dtype: int64"
      ]
     },
     "execution_count": 15,
     "metadata": {},
     "output_type": "execute_result"
    }
   ],
   "source": [
    "base_df['NU_SEMESTRE_REFERENCIA'].value_counts()"
   ]
  },
  {
   "cell_type": "code",
   "execution_count": 16,
   "metadata": {
    "colab": {
     "base_uri": "https://localhost:8080/"
    },
    "id": "ziJbgcMD0jX0",
    "outputId": "62c3af2f-11bf-4791-df3e-c920bd340579"
   },
   "outputs": [
    {
     "data": {
      "text/plain": [
       "0"
      ]
     },
     "execution_count": 16,
     "metadata": {},
     "output_type": "execute_result"
    }
   ],
   "source": [
    "sum(pd.isnull(base_df['NU_SEMESTRE_REFERENCIA']))"
   ]
  },
  {
   "cell_type": "markdown",
   "metadata": {
    "id": "3hWuEsqp00qM"
   },
   "source": [
    "### NO_CURSO\r\n",
    "degree = 377 different objects\r\n",
    "NAs = 0"
   ]
  },
  {
   "cell_type": "code",
   "execution_count": 17,
   "metadata": {
    "id": "IGHweGiz00qy"
   },
   "outputs": [
    {
     "data": {
      "text/plain": [
       "DIREITO                                    98327\n",
       "ADMINISTRAÇÃO                              53047\n",
       "ENGENHARIA CIVIL                           51871\n",
       "ENFERMAGEM                                 40305\n",
       "PEDAGOGIA                                  37172\n",
       "                                           ...  \n",
       "COMUNICAÃ‡ÃƒO SOCIAL - JORNALISMO              1\n",
       "MÙSICA - REGÊNCIA CORAL                        1\n",
       "GESTÃƒO DA TECNOLOGIA DA INFORMAÃ‡ÃƒO          1\n",
       "MÚSICA - CANTO                                 1\n",
       "DESENHO INDUSTRIAL - PROGRAMAÇÃO VISUAL        1\n",
       "Name: NO_CURSO, Length: 377, dtype: int64"
      ]
     },
     "execution_count": 17,
     "metadata": {},
     "output_type": "execute_result"
    }
   ],
   "source": [
    "base_df['NO_CURSO'].value_counts()"
   ]
  },
  {
   "cell_type": "code",
   "execution_count": 18,
   "metadata": {
    "colab": {
     "base_uri": "https://localhost:8080/"
    },
    "id": "-NwQNuNE00q2",
    "outputId": "62c3af2f-11bf-4791-df3e-c920bd340579"
   },
   "outputs": [
    {
     "data": {
      "text/plain": [
       "0"
      ]
     },
     "execution_count": 18,
     "metadata": {},
     "output_type": "execute_result"
    }
   ],
   "source": [
    "sum(pd.isnull(base_df['NO_CURSO']))"
   ]
  },
  {
   "cell_type": "markdown",
   "metadata": {
    "id": "nXSa65zw1gt3"
   },
   "source": [
    "### QT_SEMESTRE_CONCLUIDO\r\n",
    "qt_semester = interger, from 2 to 14 semesters\r\n",
    "NAs = 0"
   ]
  },
  {
   "cell_type": "code",
   "execution_count": 19,
   "metadata": {
    "colab": {
     "base_uri": "https://localhost:8080/"
    },
    "id": "qpiYp3sX1gui",
    "outputId": "356e149a-a706-4653-cf13-e6a0d38d0556"
   },
   "outputs": [
    {
     "data": {
      "text/plain": [
       "2     177986\n",
       "4     118559\n",
       "1      82191\n",
       "6      78561\n",
       "3      63226\n",
       "5      43330\n",
       "8      28264\n",
       "7      23459\n",
       "0       8624\n",
       "9       8241\n",
       "10      4283\n",
       "11       946\n",
       "12       117\n",
       "13        34\n",
       "14         1\n",
       "Name: QT_SEMESTRE_CONCLUIDO, dtype: int64"
      ]
     },
     "execution_count": 19,
     "metadata": {},
     "output_type": "execute_result"
    }
   ],
   "source": [
    "base_df['QT_SEMESTRE_CONCLUIDO'].value_counts()"
   ]
  },
  {
   "cell_type": "code",
   "execution_count": 20,
   "metadata": {
    "colab": {
     "base_uri": "https://localhost:8080/"
    },
    "id": "dD-8wZUo1gun",
    "outputId": "653e5efd-6848-45e5-8a8d-4fdfdc3103a1"
   },
   "outputs": [
    {
     "data": {
      "text/plain": [
       "0"
      ]
     },
     "execution_count": 20,
     "metadata": {},
     "output_type": "execute_result"
    }
   ],
   "source": [
    "sum(pd.isnull(base_df['QT_SEMESTRE_CONCLUIDO']))"
   ]
  },
  {
   "cell_type": "code",
   "execution_count": 21,
   "metadata": {
    "colab": {
     "base_uri": "https://localhost:8080/"
    },
    "id": "8aFpPxmD4bBk",
    "outputId": "f7ccbf66-b551-41eb-e361-047942896269"
   },
   "outputs": [
    {
     "data": {
      "text/plain": [
       "count    637822.000000\n",
       "mean          3.621203\n",
       "std           2.168466\n",
       "min           0.000000\n",
       "25%           2.000000\n",
       "50%           3.000000\n",
       "75%           5.000000\n",
       "max          14.000000\n",
       "Name: QT_SEMESTRE_CONCLUIDO, dtype: float64"
      ]
     },
     "execution_count": 21,
     "metadata": {},
     "output_type": "execute_result"
    }
   ],
   "source": [
    "base_df['QT_SEMESTRE_CONCLUIDO'].describe()"
   ]
  },
  {
   "cell_type": "code",
   "execution_count": 22,
   "metadata": {
    "colab": {
     "base_uri": "https://localhost:8080/",
     "height": 282
    },
    "id": "Izavcy104s0s",
    "outputId": "84fcf31e-2614-407e-b50b-c9c26da8fbd7"
   },
   "outputs": [
    {
     "data": {
      "text/plain": [
       "<AxesSubplot:ylabel='Frequency'>"
      ]
     },
     "execution_count": 22,
     "metadata": {},
     "output_type": "execute_result"
    },
    {
     "data": {
      "image/png": "[encoded data removed]",
      "text/plain": [
       "<Figure size 432x288 with 1 Axes>"
      ]
     },
     "metadata": {
      "needs_background": "light"
     },
     "output_type": "display_data"
    }
   ],
   "source": [
    "base_df['QT_SEMESTRE_CONCLUIDO'].plot.hist()"
   ]
  },
  {
   "cell_type": "markdown",
   "metadata": {
    "id": "ZjohN2b71l2k"
   },
   "source": [
    "### VL_SEMESTRE_SEM_DESCONTO *\r\n",
    "tuition_full = numeric values\r\n",
    "NAs = 0\r\n",
    "\r\n",
    "Aparentemente alguns outliers (valores próximos de 100.000 por semestre, provavelmente dá para usar o valor com desconto para substituir)"
   ]
  },
  {
   "cell_type": "code",
   "execution_count": 23,
   "metadata": {
    "colab": {
     "base_uri": "https://localhost:8080/"
    },
    "id": "vdRS-mhe1l2l",
    "outputId": "f5e3ff66-49e9-4946-a994-72dada956632"
   },
   "outputs": [
    {
     "data": {
      "text/plain": [
       "10590.06    12739\n",
       "7172.45     11415\n",
       "7521.75     11237\n",
       "6918.00      4479\n",
       "9337.56      4256\n",
       "            ...  \n",
       "4960.32         1\n",
       "5159.22         1\n",
       "4829.00         1\n",
       "5022.18         1\n",
       "8192.00         1\n",
       "Name: VL_SEMESTRE_SEM_DESCONTO, Length: 80878, dtype: int64"
      ]
     },
     "execution_count": 23,
     "metadata": {},
     "output_type": "execute_result"
    }
   ],
   "source": [
    "base_df['VL_SEMESTRE_SEM_DESCONTO'].value_counts()"
   ]
  },
  {
   "cell_type": "code",
   "execution_count": 24,
   "metadata": {
    "colab": {
     "base_uri": "https://localhost:8080/"
    },
    "id": "Ut3U-brH1l2n",
    "outputId": "5c12b55a-3145-46b1-ef3c-65a96dc7b764"
   },
   "outputs": [
    {
     "data": {
      "text/plain": [
       "0"
      ]
     },
     "execution_count": 24,
     "metadata": {},
     "output_type": "execute_result"
    }
   ],
   "source": [
    "sum(pd.isnull(base_df['VL_SEMESTRE_SEM_DESCONTO']))"
   ]
  },
  {
   "cell_type": "code",
   "execution_count": 25,
   "metadata": {
    "colab": {
     "base_uri": "https://localhost:8080/"
    },
    "id": "NcMNSz9j4_Pn",
    "outputId": "228e65f0-f727-435f-e32b-d3174d759e5b"
   },
   "outputs": [
    {
     "data": {
      "text/plain": [
       "count    637822.000000\n",
       "mean       7136.078465\n",
       "std        4627.849925\n",
       "min         600.000000\n",
       "25%        4890.000000\n",
       "50%        6324.360000\n",
       "75%        7800.000000\n",
       "max       99999.240000\n",
       "Name: VL_SEMESTRE_SEM_DESCONTO, dtype: float64"
      ]
     },
     "execution_count": 25,
     "metadata": {},
     "output_type": "execute_result"
    }
   ],
   "source": [
    "base_df['VL_SEMESTRE_SEM_DESCONTO'].describe()"
   ]
  },
  {
   "cell_type": "code",
   "execution_count": 26,
   "metadata": {
    "id": "ZiLgMC4756xL"
   },
   "outputs": [
    {
     "data": {
      "text/html": [
       "<div>\n",
       "<style scoped>\n",
       "    .dataframe tbody tr th:only-of-type {\n",
       "        vertical-align: middle;\n",
       "    }\n",
       "\n",
       "    .dataframe tbody tr th {\n",
       "        vertical-align: top;\n",
       "    }\n",
       "\n",
       "    .dataframe thead th {\n",
       "        text-align: right;\n",
       "    }\n",
       "</style>\n",
       "<table border=\"1\" class=\"dataframe\">\n",
       "  <thead>\n",
       "    <tr style=\"text-align: right;\">\n",
       "      <th></th>\n",
       "      <th>NU_ANO_SEMESTRE_INSCRICAO</th>\n",
       "      <th>SG_SEXO</th>\n",
       "      <th>DS_OCUPACAO</th>\n",
       "      <th>DS_ESTADO_CIVIL</th>\n",
       "      <th>VL_RENDA_FAMILIAR_BRUTA_MENSAL</th>\n",
       "      <th>VL_RENDA_PESSOAL_BRUTA_MENSAL</th>\n",
       "      <th>NO_MUNICIPIO</th>\n",
       "      <th>SG_UF</th>\n",
       "      <th>DS_RACA_COR</th>\n",
       "      <th>ST_ENSINO_MEDIO_ESCOLA_PUBLICA</th>\n",
       "      <th>...</th>\n",
       "      <th>NU_PERCENT_SOLICITADO_FINANC</th>\n",
       "      <th>VL_FINANCIADO_SEMESTRE</th>\n",
       "      <th>VL_FINANC_RECURSO_ALUNO</th>\n",
       "      <th>VL_TOTAL_FINANCIAMENTO</th>\n",
       "      <th>VL_LIMITE_GLOBAL</th>\n",
       "      <th>dt_inicio_cont</th>\n",
       "      <th>fase_contrato</th>\n",
       "      <th>nu_dias_atraso</th>\n",
       "      <th>vl_divida</th>\n",
       "      <th>ANO_NASC</th>\n",
       "    </tr>\n",
       "  </thead>\n",
       "  <tbody>\n",
       "    <tr>\n",
       "      <th>106763</th>\n",
       "      <td>12014</td>\n",
       "      <td>F</td>\n",
       "      <td>Outras ocupaÃ§Ãµes nÃ£o especificadas anterior...</td>\n",
       "      <td>Solteiro</td>\n",
       "      <td>920.00</td>\n",
       "      <td>920.00</td>\n",
       "      <td>NaN</td>\n",
       "      <td>NaN</td>\n",
       "      <td>B</td>\n",
       "      <td>S</td>\n",
       "      <td>...</td>\n",
       "      <td>100</td>\n",
       "      <td>4137.80</td>\n",
       "      <td>0.00</td>\n",
       "      <td>28964.60</td>\n",
       "      <td>27965.88</td>\n",
       "      <td>2014-03-24</td>\n",
       "      <td>Amortizacao</td>\n",
       "      <td>0</td>\n",
       "      <td>46500.21</td>\n",
       "      <td>1971</td>\n",
       "    </tr>\n",
       "    <tr>\n",
       "      <th>171129</th>\n",
       "      <td>12013</td>\n",
       "      <td>M</td>\n",
       "      <td>Estudante</td>\n",
       "      <td>Casado</td>\n",
       "      <td>2550.09</td>\n",
       "      <td>2550.09</td>\n",
       "      <td>NaN</td>\n",
       "      <td>NaN</td>\n",
       "      <td>A</td>\n",
       "      <td>P</td>\n",
       "      <td>...</td>\n",
       "      <td>100</td>\n",
       "      <td>6295.72</td>\n",
       "      <td>0.00</td>\n",
       "      <td>37774.32</td>\n",
       "      <td>37392.30</td>\n",
       "      <td>2013-04-11</td>\n",
       "      <td>Amortizacao</td>\n",
       "      <td>935</td>\n",
       "      <td>39010.70</td>\n",
       "      <td>1975</td>\n",
       "    </tr>\n",
       "    <tr>\n",
       "      <th>204801</th>\n",
       "      <td>22014</td>\n",
       "      <td>F</td>\n",
       "      <td>Estudante</td>\n",
       "      <td>Separado</td>\n",
       "      <td>1379.18</td>\n",
       "      <td>1379.18</td>\n",
       "      <td>NaN</td>\n",
       "      <td>NaN</td>\n",
       "      <td>B</td>\n",
       "      <td>S</td>\n",
       "      <td>...</td>\n",
       "      <td>100</td>\n",
       "      <td>4174.24</td>\n",
       "      <td>0.00</td>\n",
       "      <td>29219.68</td>\n",
       "      <td>34327.65</td>\n",
       "      <td>2014-12-05</td>\n",
       "      <td>Amortizacao</td>\n",
       "      <td>787</td>\n",
       "      <td>41910.47</td>\n",
       "      <td>1980</td>\n",
       "    </tr>\n",
       "    <tr>\n",
       "      <th>210549</th>\n",
       "      <td>12013</td>\n",
       "      <td>M</td>\n",
       "      <td>Trabalhador dos serviÃ§os de proteÃ§Ã£o e segu...</td>\n",
       "      <td>Casado</td>\n",
       "      <td>2059.22</td>\n",
       "      <td>0.00</td>\n",
       "      <td>NaN</td>\n",
       "      <td>NaN</td>\n",
       "      <td>P</td>\n",
       "      <td>S</td>\n",
       "      <td>...</td>\n",
       "      <td>100</td>\n",
       "      <td>4990.35</td>\n",
       "      <td>0.00</td>\n",
       "      <td>39922.80</td>\n",
       "      <td>37926.40</td>\n",
       "      <td>2013-05-17</td>\n",
       "      <td>Amortizacao</td>\n",
       "      <td>26</td>\n",
       "      <td>36934.97</td>\n",
       "      <td>1981</td>\n",
       "    </tr>\n",
       "    <tr>\n",
       "      <th>215509</th>\n",
       "      <td>12014</td>\n",
       "      <td>F</td>\n",
       "      <td>Estudante</td>\n",
       "      <td>Solteiro</td>\n",
       "      <td>2017.00</td>\n",
       "      <td>0.00</td>\n",
       "      <td>NaN</td>\n",
       "      <td>NaN</td>\n",
       "      <td>B</td>\n",
       "      <td>S</td>\n",
       "      <td>...</td>\n",
       "      <td>100</td>\n",
       "      <td>4458.00</td>\n",
       "      <td>0.00</td>\n",
       "      <td>13374.00</td>\n",
       "      <td>13567.50</td>\n",
       "      <td>2014-04-25</td>\n",
       "      <td>Amortizacao</td>\n",
       "      <td>26</td>\n",
       "      <td>7379.70</td>\n",
       "      <td>1985</td>\n",
       "    </tr>\n",
       "    <tr>\n",
       "      <th>218078</th>\n",
       "      <td>12014</td>\n",
       "      <td>F</td>\n",
       "      <td>Estudante</td>\n",
       "      <td>Solteiro</td>\n",
       "      <td>724.00</td>\n",
       "      <td>0.00</td>\n",
       "      <td>NaN</td>\n",
       "      <td>NaN</td>\n",
       "      <td>B</td>\n",
       "      <td>S</td>\n",
       "      <td>...</td>\n",
       "      <td>100</td>\n",
       "      <td>4547.50</td>\n",
       "      <td>0.00</td>\n",
       "      <td>45475.00</td>\n",
       "      <td>43832.50</td>\n",
       "      <td>2014-03-06</td>\n",
       "      <td>Carencia</td>\n",
       "      <td>0</td>\n",
       "      <td>28718.36</td>\n",
       "      <td>1996</td>\n",
       "    </tr>\n",
       "    <tr>\n",
       "      <th>241152</th>\n",
       "      <td>12012</td>\n",
       "      <td>M</td>\n",
       "      <td>Outros trabalhadores de serviÃ§os diversos</td>\n",
       "      <td>Casado</td>\n",
       "      <td>829.00</td>\n",
       "      <td>0.00</td>\n",
       "      <td>NaN</td>\n",
       "      <td>NaN</td>\n",
       "      <td>B</td>\n",
       "      <td>S</td>\n",
       "      <td>...</td>\n",
       "      <td>100</td>\n",
       "      <td>4585.24</td>\n",
       "      <td>0.00</td>\n",
       "      <td>45852.40</td>\n",
       "      <td>36150.00</td>\n",
       "      <td>2012-04-16</td>\n",
       "      <td>Amortizacao</td>\n",
       "      <td>447</td>\n",
       "      <td>47777.20</td>\n",
       "      <td>1981</td>\n",
       "    </tr>\n",
       "    <tr>\n",
       "      <th>241207</th>\n",
       "      <td>22012</td>\n",
       "      <td>M</td>\n",
       "      <td>Outras ocupaÃ§Ãµes nÃ£o especificadas anterior...</td>\n",
       "      <td>Casado</td>\n",
       "      <td>2000.00</td>\n",
       "      <td>2000.00</td>\n",
       "      <td>NaN</td>\n",
       "      <td>NaN</td>\n",
       "      <td>B</td>\n",
       "      <td>S</td>\n",
       "      <td>...</td>\n",
       "      <td>100</td>\n",
       "      <td>6422.57</td>\n",
       "      <td>0.00</td>\n",
       "      <td>57803.13</td>\n",
       "      <td>70717.96</td>\n",
       "      <td>2012-08-21</td>\n",
       "      <td>Amortizacao</td>\n",
       "      <td>148</td>\n",
       "      <td>89166.60</td>\n",
       "      <td>1980</td>\n",
       "    </tr>\n",
       "    <tr>\n",
       "      <th>260600</th>\n",
       "      <td>22011</td>\n",
       "      <td>M</td>\n",
       "      <td>Outros trabalhadores de serviÃ§os diversos</td>\n",
       "      <td>Casado</td>\n",
       "      <td>1859.94</td>\n",
       "      <td>964.07</td>\n",
       "      <td>NaN</td>\n",
       "      <td>NaN</td>\n",
       "      <td>B</td>\n",
       "      <td>S</td>\n",
       "      <td>...</td>\n",
       "      <td>100</td>\n",
       "      <td>6711.59</td>\n",
       "      <td>0.00</td>\n",
       "      <td>67115.90</td>\n",
       "      <td>75247.50</td>\n",
       "      <td>2011-11-23</td>\n",
       "      <td>Amortizacao</td>\n",
       "      <td>782</td>\n",
       "      <td>74878.19</td>\n",
       "      <td>1983</td>\n",
       "    </tr>\n",
       "    <tr>\n",
       "      <th>267698</th>\n",
       "      <td>12012</td>\n",
       "      <td>M</td>\n",
       "      <td>Estudante</td>\n",
       "      <td>Solteiro</td>\n",
       "      <td>15000.00</td>\n",
       "      <td>0.00</td>\n",
       "      <td>NaN</td>\n",
       "      <td>NaN</td>\n",
       "      <td>A</td>\n",
       "      <td>N</td>\n",
       "      <td>...</td>\n",
       "      <td>50</td>\n",
       "      <td>4629.00</td>\n",
       "      <td>4629.00</td>\n",
       "      <td>64806.00</td>\n",
       "      <td>31500.00</td>\n",
       "      <td>2012-01-27</td>\n",
       "      <td>Amortizacao</td>\n",
       "      <td>0</td>\n",
       "      <td>26761.16</td>\n",
       "      <td>1992</td>\n",
       "    </tr>\n",
       "    <tr>\n",
       "      <th>272188</th>\n",
       "      <td>12012</td>\n",
       "      <td>F</td>\n",
       "      <td>Estudante</td>\n",
       "      <td>Divorciado</td>\n",
       "      <td>625.00</td>\n",
       "      <td>625.00</td>\n",
       "      <td>NaN</td>\n",
       "      <td>NaN</td>\n",
       "      <td>B</td>\n",
       "      <td>S</td>\n",
       "      <td>...</td>\n",
       "      <td>100</td>\n",
       "      <td>5020.72</td>\n",
       "      <td>0.00</td>\n",
       "      <td>40165.76</td>\n",
       "      <td>57658.31</td>\n",
       "      <td>2012-06-22</td>\n",
       "      <td>Amortizacao</td>\n",
       "      <td>751</td>\n",
       "      <td>58927.75</td>\n",
       "      <td>1984</td>\n",
       "    </tr>\n",
       "    <tr>\n",
       "      <th>273185</th>\n",
       "      <td>12013</td>\n",
       "      <td>F</td>\n",
       "      <td>Trabalhador de atendimento ao pÃºblico, caixa,...</td>\n",
       "      <td>Solteiro</td>\n",
       "      <td>2440.14</td>\n",
       "      <td>862.14</td>\n",
       "      <td>NaN</td>\n",
       "      <td>NaN</td>\n",
       "      <td>B</td>\n",
       "      <td>S</td>\n",
       "      <td>...</td>\n",
       "      <td>50</td>\n",
       "      <td>2534.37</td>\n",
       "      <td>2534.37</td>\n",
       "      <td>40549.92</td>\n",
       "      <td>17025.00</td>\n",
       "      <td>2013-04-02</td>\n",
       "      <td>Amortizacao</td>\n",
       "      <td>600</td>\n",
       "      <td>22546.11</td>\n",
       "      <td>1992</td>\n",
       "    </tr>\n",
       "    <tr>\n",
       "      <th>284553</th>\n",
       "      <td>22013</td>\n",
       "      <td>F</td>\n",
       "      <td>Outras ocupaÃ§Ãµes nÃ£o especificadas anterior...</td>\n",
       "      <td>Solteiro</td>\n",
       "      <td>996.36</td>\n",
       "      <td>996.36</td>\n",
       "      <td>NaN</td>\n",
       "      <td>NaN</td>\n",
       "      <td>B</td>\n",
       "      <td>S</td>\n",
       "      <td>...</td>\n",
       "      <td>100</td>\n",
       "      <td>3253.24</td>\n",
       "      <td>0.00</td>\n",
       "      <td>29279.16</td>\n",
       "      <td>43994.05</td>\n",
       "      <td>2013-10-21</td>\n",
       "      <td>Amortizacao</td>\n",
       "      <td>605</td>\n",
       "      <td>38115.52</td>\n",
       "      <td>1987</td>\n",
       "    </tr>\n",
       "    <tr>\n",
       "      <th>290261</th>\n",
       "      <td>12014</td>\n",
       "      <td>M</td>\n",
       "      <td>Trabalhador dos serviÃ§os de saÃºde</td>\n",
       "      <td>Casado</td>\n",
       "      <td>2527.43</td>\n",
       "      <td>1277.43</td>\n",
       "      <td>NaN</td>\n",
       "      <td>NaN</td>\n",
       "      <td>P</td>\n",
       "      <td>S</td>\n",
       "      <td>...</td>\n",
       "      <td>100</td>\n",
       "      <td>5064.90</td>\n",
       "      <td>0.00</td>\n",
       "      <td>50649.00</td>\n",
       "      <td>62743.50</td>\n",
       "      <td>2014-02-04</td>\n",
       "      <td>Carencia</td>\n",
       "      <td>417</td>\n",
       "      <td>63192.24</td>\n",
       "      <td>1987</td>\n",
       "    </tr>\n",
       "    <tr>\n",
       "      <th>4522</th>\n",
       "      <td>22013</td>\n",
       "      <td>F</td>\n",
       "      <td>Estudante</td>\n",
       "      <td>Divorciado</td>\n",
       "      <td>3524.33</td>\n",
       "      <td>0.00</td>\n",
       "      <td>NaN</td>\n",
       "      <td>NaN</td>\n",
       "      <td>B</td>\n",
       "      <td>S</td>\n",
       "      <td>...</td>\n",
       "      <td>100</td>\n",
       "      <td>7508.52</td>\n",
       "      <td>0.00</td>\n",
       "      <td>75085.20</td>\n",
       "      <td>69103.50</td>\n",
       "      <td>2013-11-01</td>\n",
       "      <td>Amortizacao</td>\n",
       "      <td>148</td>\n",
       "      <td>83742.07</td>\n",
       "      <td>1988</td>\n",
       "    </tr>\n",
       "    <tr>\n",
       "      <th>8014</th>\n",
       "      <td>12014</td>\n",
       "      <td>F</td>\n",
       "      <td>Outros tÃ©cnicos de nÃ­vel mÃ©dio</td>\n",
       "      <td>Solteiro</td>\n",
       "      <td>2412.70</td>\n",
       "      <td>0.00</td>\n",
       "      <td>NaN</td>\n",
       "      <td>NaN</td>\n",
       "      <td>P</td>\n",
       "      <td>S</td>\n",
       "      <td>...</td>\n",
       "      <td>100</td>\n",
       "      <td>6391.38</td>\n",
       "      <td>0.00</td>\n",
       "      <td>63913.80</td>\n",
       "      <td>54179.38</td>\n",
       "      <td>2014-07-10</td>\n",
       "      <td>Utilizacao</td>\n",
       "      <td>0</td>\n",
       "      <td>76465.33</td>\n",
       "      <td>1988</td>\n",
       "    </tr>\n",
       "    <tr>\n",
       "      <th>26933</th>\n",
       "      <td>22013</td>\n",
       "      <td>F</td>\n",
       "      <td>Outras ocupaÃ§Ãµes nÃ£o especificadas anterior...</td>\n",
       "      <td>Solteiro</td>\n",
       "      <td>2597.25</td>\n",
       "      <td>1297.25</td>\n",
       "      <td>NaN</td>\n",
       "      <td>NaN</td>\n",
       "      <td>N</td>\n",
       "      <td>S</td>\n",
       "      <td>...</td>\n",
       "      <td>100</td>\n",
       "      <td>6078.46</td>\n",
       "      <td>0.00</td>\n",
       "      <td>42549.22</td>\n",
       "      <td>47901.88</td>\n",
       "      <td>2013-08-15</td>\n",
       "      <td>Amortizacao</td>\n",
       "      <td>332</td>\n",
       "      <td>47273.59</td>\n",
       "      <td>1989</td>\n",
       "    </tr>\n",
       "    <tr>\n",
       "      <th>32986</th>\n",
       "      <td>22013</td>\n",
       "      <td>F</td>\n",
       "      <td>Estudante</td>\n",
       "      <td>Casado</td>\n",
       "      <td>946.95</td>\n",
       "      <td>0.00</td>\n",
       "      <td>NaN</td>\n",
       "      <td>NaN</td>\n",
       "      <td>B</td>\n",
       "      <td>S</td>\n",
       "      <td>...</td>\n",
       "      <td>100</td>\n",
       "      <td>5153.70</td>\n",
       "      <td>0.00</td>\n",
       "      <td>41229.60</td>\n",
       "      <td>32221.00</td>\n",
       "      <td>2013-07-12</td>\n",
       "      <td>Amortizacao</td>\n",
       "      <td>697</td>\n",
       "      <td>44333.17</td>\n",
       "      <td>1990</td>\n",
       "    </tr>\n",
       "    <tr>\n",
       "      <th>49320</th>\n",
       "      <td>12013</td>\n",
       "      <td>M</td>\n",
       "      <td>Desenhista tÃ©cnico e modelista</td>\n",
       "      <td>Solteiro</td>\n",
       "      <td>6827.23</td>\n",
       "      <td>0.00</td>\n",
       "      <td>NaN</td>\n",
       "      <td>NaN</td>\n",
       "      <td>P</td>\n",
       "      <td>S</td>\n",
       "      <td>...</td>\n",
       "      <td>50</td>\n",
       "      <td>2292.68</td>\n",
       "      <td>2292.67</td>\n",
       "      <td>45853.50</td>\n",
       "      <td>22462.50</td>\n",
       "      <td>2013-04-19</td>\n",
       "      <td>Amortizacao</td>\n",
       "      <td>0</td>\n",
       "      <td>23740.09</td>\n",
       "      <td>1994</td>\n",
       "    </tr>\n",
       "    <tr>\n",
       "      <th>72684</th>\n",
       "      <td>12014</td>\n",
       "      <td>F</td>\n",
       "      <td>TÃ©cnico de laboratÃ³rio, Raios-X e outros equ...</td>\n",
       "      <td>Solteiro</td>\n",
       "      <td>3977.04</td>\n",
       "      <td>913.00</td>\n",
       "      <td>NaN</td>\n",
       "      <td>NaN</td>\n",
       "      <td>B</td>\n",
       "      <td>S</td>\n",
       "      <td>...</td>\n",
       "      <td>50</td>\n",
       "      <td>1853.72</td>\n",
       "      <td>1853.72</td>\n",
       "      <td>22244.64</td>\n",
       "      <td>10762.69</td>\n",
       "      <td>2014-07-08</td>\n",
       "      <td>Amortizacao</td>\n",
       "      <td>0</td>\n",
       "      <td>10061.28</td>\n",
       "      <td>1992</td>\n",
       "    </tr>\n",
       "    <tr>\n",
       "      <th>84475</th>\n",
       "      <td>12013</td>\n",
       "      <td>F</td>\n",
       "      <td>Vendedor e prestador de serviÃ§os do comÃ©rcio...</td>\n",
       "      <td>Solteiro</td>\n",
       "      <td>3246.67</td>\n",
       "      <td>0.00</td>\n",
       "      <td>NaN</td>\n",
       "      <td>NaN</td>\n",
       "      <td>B</td>\n",
       "      <td>S</td>\n",
       "      <td>...</td>\n",
       "      <td>100</td>\n",
       "      <td>6410.94</td>\n",
       "      <td>0.00</td>\n",
       "      <td>51287.52</td>\n",
       "      <td>37929.50</td>\n",
       "      <td>2013-05-27</td>\n",
       "      <td>Amortizacao</td>\n",
       "      <td>692</td>\n",
       "      <td>52672.96</td>\n",
       "      <td>1994</td>\n",
       "    </tr>\n",
       "    <tr>\n",
       "      <th>95002</th>\n",
       "      <td>12014</td>\n",
       "      <td>F</td>\n",
       "      <td>Estudante</td>\n",
       "      <td>UniÃ£o estÃ¡vel</td>\n",
       "      <td>1120.00</td>\n",
       "      <td>0.00</td>\n",
       "      <td>NaN</td>\n",
       "      <td>NaN</td>\n",
       "      <td>B</td>\n",
       "      <td>S</td>\n",
       "      <td>...</td>\n",
       "      <td>100</td>\n",
       "      <td>3856.20</td>\n",
       "      <td>0.00</td>\n",
       "      <td>30849.60</td>\n",
       "      <td>35073.00</td>\n",
       "      <td>2014-05-29</td>\n",
       "      <td>Amortizacao</td>\n",
       "      <td>787</td>\n",
       "      <td>23484.21</td>\n",
       "      <td>1994</td>\n",
       "    </tr>\n",
       "    <tr>\n",
       "      <th>101518</th>\n",
       "      <td>12014</td>\n",
       "      <td>F</td>\n",
       "      <td>PsicÃ³logo e psicanalista</td>\n",
       "      <td>Solteiro</td>\n",
       "      <td>1146.77</td>\n",
       "      <td>0.00</td>\n",
       "      <td>NaN</td>\n",
       "      <td>NaN</td>\n",
       "      <td>P</td>\n",
       "      <td>S</td>\n",
       "      <td>...</td>\n",
       "      <td>100</td>\n",
       "      <td>4625.54</td>\n",
       "      <td>0.00</td>\n",
       "      <td>46255.40</td>\n",
       "      <td>42883.75</td>\n",
       "      <td>2014-05-21</td>\n",
       "      <td>Utilizacao</td>\n",
       "      <td>1427</td>\n",
       "      <td>19091.35</td>\n",
       "      <td>1994</td>\n",
       "    </tr>\n",
       "    <tr>\n",
       "      <th>114908</th>\n",
       "      <td>12014</td>\n",
       "      <td>F</td>\n",
       "      <td>Vendedor e prestador de serviÃ§os do comÃ©rcio...</td>\n",
       "      <td>Solteiro</td>\n",
       "      <td>1000.00</td>\n",
       "      <td>1000.00</td>\n",
       "      <td>NaN</td>\n",
       "      <td>NaN</td>\n",
       "      <td>A</td>\n",
       "      <td>S</td>\n",
       "      <td>...</td>\n",
       "      <td>100</td>\n",
       "      <td>3512.08</td>\n",
       "      <td>0.00</td>\n",
       "      <td>14048.32</td>\n",
       "      <td>14741.20</td>\n",
       "      <td>2014-07-11</td>\n",
       "      <td>Amortizacao</td>\n",
       "      <td>1062</td>\n",
       "      <td>14239.32</td>\n",
       "      <td>1993</td>\n",
       "    </tr>\n",
       "    <tr>\n",
       "      <th>115706</th>\n",
       "      <td>12012</td>\n",
       "      <td>M</td>\n",
       "      <td>Outras ocupaÃ§Ãµes nÃ£o especificadas anterior...</td>\n",
       "      <td>Solteiro</td>\n",
       "      <td>1024.03</td>\n",
       "      <td>1024.03</td>\n",
       "      <td>NaN</td>\n",
       "      <td>NaN</td>\n",
       "      <td>P</td>\n",
       "      <td>S</td>\n",
       "      <td>...</td>\n",
       "      <td>100</td>\n",
       "      <td>6711.59</td>\n",
       "      <td>0.00</td>\n",
       "      <td>67115.90</td>\n",
       "      <td>75247.50</td>\n",
       "      <td>2012-03-29</td>\n",
       "      <td>Amortizacao</td>\n",
       "      <td>235</td>\n",
       "      <td>80013.50</td>\n",
       "      <td>1966</td>\n",
       "    </tr>\n",
       "    <tr>\n",
       "      <th>135432</th>\n",
       "      <td>12014</td>\n",
       "      <td>F</td>\n",
       "      <td>Estudante</td>\n",
       "      <td>UniÃ£o estÃ¡vel</td>\n",
       "      <td>1124.14</td>\n",
       "      <td>0.00</td>\n",
       "      <td>NaN</td>\n",
       "      <td>NaN</td>\n",
       "      <td>P</td>\n",
       "      <td>S</td>\n",
       "      <td>...</td>\n",
       "      <td>100</td>\n",
       "      <td>4850.50</td>\n",
       "      <td>0.00</td>\n",
       "      <td>38804.00</td>\n",
       "      <td>35066.50</td>\n",
       "      <td>2014-02-17</td>\n",
       "      <td>Amortizacao</td>\n",
       "      <td>205</td>\n",
       "      <td>45810.43</td>\n",
       "      <td>1994</td>\n",
       "    </tr>\n",
       "    <tr>\n",
       "      <th>139165</th>\n",
       "      <td>12013</td>\n",
       "      <td>M</td>\n",
       "      <td>TÃ©cnico em informÃ¡tica</td>\n",
       "      <td>Solteiro</td>\n",
       "      <td>2461.20</td>\n",
       "      <td>961.00</td>\n",
       "      <td>NaN</td>\n",
       "      <td>NaN</td>\n",
       "      <td>P</td>\n",
       "      <td>S</td>\n",
       "      <td>...</td>\n",
       "      <td>100</td>\n",
       "      <td>4771.98</td>\n",
       "      <td>0.00</td>\n",
       "      <td>38175.84</td>\n",
       "      <td>32101.00</td>\n",
       "      <td>2013-04-18</td>\n",
       "      <td>Amortizacao</td>\n",
       "      <td>0</td>\n",
       "      <td>33807.63</td>\n",
       "      <td>1994</td>\n",
       "    </tr>\n",
       "    <tr>\n",
       "      <th>140955</th>\n",
       "      <td>12014</td>\n",
       "      <td>F</td>\n",
       "      <td>Estudante</td>\n",
       "      <td>Solteiro</td>\n",
       "      <td>2125.50</td>\n",
       "      <td>1060.00</td>\n",
       "      <td>NaN</td>\n",
       "      <td>NaN</td>\n",
       "      <td>P</td>\n",
       "      <td>S</td>\n",
       "      <td>...</td>\n",
       "      <td>100</td>\n",
       "      <td>4547.50</td>\n",
       "      <td>0.00</td>\n",
       "      <td>45475.00</td>\n",
       "      <td>47807.50</td>\n",
       "      <td>2014-04-23</td>\n",
       "      <td>Carencia</td>\n",
       "      <td>0</td>\n",
       "      <td>58459.50</td>\n",
       "      <td>1996</td>\n",
       "    </tr>\n",
       "    <tr>\n",
       "      <th>142363</th>\n",
       "      <td>12014</td>\n",
       "      <td>M</td>\n",
       "      <td>Estudante</td>\n",
       "      <td>Solteiro</td>\n",
       "      <td>2354.15</td>\n",
       "      <td>671.74</td>\n",
       "      <td>NaN</td>\n",
       "      <td>NaN</td>\n",
       "      <td>A</td>\n",
       "      <td>S</td>\n",
       "      <td>...</td>\n",
       "      <td>100</td>\n",
       "      <td>5193.70</td>\n",
       "      <td>0.00</td>\n",
       "      <td>41549.60</td>\n",
       "      <td>39965.00</td>\n",
       "      <td>2014-07-10</td>\n",
       "      <td>Amortizacao</td>\n",
       "      <td>174</td>\n",
       "      <td>38022.36</td>\n",
       "      <td>1993</td>\n",
       "    </tr>\n",
       "    <tr>\n",
       "      <th>148493</th>\n",
       "      <td>12014</td>\n",
       "      <td>F</td>\n",
       "      <td>Outros trabalhadores de serviÃ§os diversos</td>\n",
       "      <td>Solteiro</td>\n",
       "      <td>3095.45</td>\n",
       "      <td>958.08</td>\n",
       "      <td>NaN</td>\n",
       "      <td>NaN</td>\n",
       "      <td>N</td>\n",
       "      <td>S</td>\n",
       "      <td>...</td>\n",
       "      <td>100</td>\n",
       "      <td>4628.46</td>\n",
       "      <td>0.00</td>\n",
       "      <td>46284.60</td>\n",
       "      <td>38693.12</td>\n",
       "      <td>2014-06-05</td>\n",
       "      <td>Carencia</td>\n",
       "      <td>782</td>\n",
       "      <td>42840.77</td>\n",
       "      <td>1995</td>\n",
       "    </tr>\n",
       "    <tr>\n",
       "      <th>160270</th>\n",
       "      <td>12014</td>\n",
       "      <td>F</td>\n",
       "      <td>Estudante</td>\n",
       "      <td>Solteiro</td>\n",
       "      <td>1955.00</td>\n",
       "      <td>0.00</td>\n",
       "      <td>NaN</td>\n",
       "      <td>NaN</td>\n",
       "      <td>B</td>\n",
       "      <td>S</td>\n",
       "      <td>...</td>\n",
       "      <td>100</td>\n",
       "      <td>6756.00</td>\n",
       "      <td>0.00</td>\n",
       "      <td>67560.00</td>\n",
       "      <td>62769.38</td>\n",
       "      <td>2014-02-17</td>\n",
       "      <td>Carencia</td>\n",
       "      <td>143</td>\n",
       "      <td>89264.07</td>\n",
       "      <td>1996</td>\n",
       "    </tr>\n",
       "    <tr>\n",
       "      <th>171514</th>\n",
       "      <td>22014</td>\n",
       "      <td>M</td>\n",
       "      <td>Estudante</td>\n",
       "      <td>Solteiro</td>\n",
       "      <td>3101.71</td>\n",
       "      <td>0.00</td>\n",
       "      <td>NaN</td>\n",
       "      <td>NaN</td>\n",
       "      <td>P</td>\n",
       "      <td>S</td>\n",
       "      <td>...</td>\n",
       "      <td>100</td>\n",
       "      <td>4970.64</td>\n",
       "      <td>0.00</td>\n",
       "      <td>34794.48</td>\n",
       "      <td>40877.02</td>\n",
       "      <td>2014-12-10</td>\n",
       "      <td>Amortizacao</td>\n",
       "      <td>327</td>\n",
       "      <td>43037.29</td>\n",
       "      <td>1996</td>\n",
       "    </tr>\n",
       "    <tr>\n",
       "      <th>174239</th>\n",
       "      <td>12014</td>\n",
       "      <td>F</td>\n",
       "      <td>Estudante</td>\n",
       "      <td>Solteiro</td>\n",
       "      <td>2500.00</td>\n",
       "      <td>0.00</td>\n",
       "      <td>NaN</td>\n",
       "      <td>NaN</td>\n",
       "      <td>B</td>\n",
       "      <td>S</td>\n",
       "      <td>...</td>\n",
       "      <td>100</td>\n",
       "      <td>5642.46</td>\n",
       "      <td>0.00</td>\n",
       "      <td>62067.06</td>\n",
       "      <td>68039.10</td>\n",
       "      <td>2014-06-09</td>\n",
       "      <td>Utilizacao</td>\n",
       "      <td>0</td>\n",
       "      <td>91123.17</td>\n",
       "      <td>1996</td>\n",
       "    </tr>\n",
       "    <tr>\n",
       "      <th>252626</th>\n",
       "      <td>22014</td>\n",
       "      <td>F</td>\n",
       "      <td>Estudante</td>\n",
       "      <td>Solteiro</td>\n",
       "      <td>1857.04</td>\n",
       "      <td>0.00</td>\n",
       "      <td>NaN</td>\n",
       "      <td>NaN</td>\n",
       "      <td>P</td>\n",
       "      <td>P</td>\n",
       "      <td>...</td>\n",
       "      <td>100</td>\n",
       "      <td>4072.99</td>\n",
       "      <td>0.00</td>\n",
       "      <td>32583.92</td>\n",
       "      <td>38280.00</td>\n",
       "      <td>2014-08-13</td>\n",
       "      <td>Utilizacao</td>\n",
       "      <td>0</td>\n",
       "      <td>89940.56</td>\n",
       "      <td>1977</td>\n",
       "    </tr>\n",
       "    <tr>\n",
       "      <th>295319</th>\n",
       "      <td>22014</td>\n",
       "      <td>M</td>\n",
       "      <td>Gerente ou supervisor de empresa industrial, c...</td>\n",
       "      <td>Casado</td>\n",
       "      <td>1704.08</td>\n",
       "      <td>1704.08</td>\n",
       "      <td>NaN</td>\n",
       "      <td>NaN</td>\n",
       "      <td>B</td>\n",
       "      <td>N</td>\n",
       "      <td>...</td>\n",
       "      <td>50</td>\n",
       "      <td>4693.48</td>\n",
       "      <td>4693.49</td>\n",
       "      <td>93869.70</td>\n",
       "      <td>54556.50</td>\n",
       "      <td>2014-09-30</td>\n",
       "      <td>Utilizacao</td>\n",
       "      <td>0</td>\n",
       "      <td>46640.45</td>\n",
       "      <td>1979</td>\n",
       "    </tr>\n",
       "  </tbody>\n",
       "</table>\n",
       "<p>35 rows × 37 columns</p>\n",
       "</div>"
      ],
      "text/plain": [
       "        NU_ANO_SEMESTRE_INSCRICAO SG_SEXO  \\\n",
       "106763                      12014       F   \n",
       "171129                      12013       M   \n",
       "204801                      22014       F   \n",
       "210549                      12013       M   \n",
       "215509                      12014       F   \n",
       "218078                      12014       F   \n",
       "241152                      12012       M   \n",
       "241207                      22012       M   \n",
       "260600                      22011       M   \n",
       "267698                      12012       M   \n",
       "272188                      12012       F   \n",
       "273185                      12013       F   \n",
       "284553                      22013       F   \n",
       "290261                      12014       M   \n",
       "4522                        22013       F   \n",
       "8014                        12014       F   \n",
       "26933                       22013       F   \n",
       "32986                       22013       F   \n",
       "49320                       12013       M   \n",
       "72684                       12014       F   \n",
       "84475                       12013       F   \n",
       "95002                       12014       F   \n",
       "101518                      12014       F   \n",
       "114908                      12014       F   \n",
       "115706                      12012       M   \n",
       "135432                      12014       F   \n",
       "139165                      12013       M   \n",
       "140955                      12014       F   \n",
       "142363                      12014       M   \n",
       "148493                      12014       F   \n",
       "160270                      12014       F   \n",
       "171514                      22014       M   \n",
       "174239                      12014       F   \n",
       "252626                      22014       F   \n",
       "295319                      22014       M   \n",
       "\n",
       "                                              DS_OCUPACAO  DS_ESTADO_CIVIL  \\\n",
       "106763  Outras ocupaÃ§Ãµes nÃ£o especificadas anterior...         Solteiro   \n",
       "171129                                          Estudante           Casado   \n",
       "204801                                          Estudante         Separado   \n",
       "210549  Trabalhador dos serviÃ§os de proteÃ§Ã£o e segu...           Casado   \n",
       "215509                                          Estudante         Solteiro   \n",
       "218078                                          Estudante         Solteiro   \n",
       "241152         Outros trabalhadores de serviÃ§os diversos           Casado   \n",
       "241207  Outras ocupaÃ§Ãµes nÃ£o especificadas anterior...           Casado   \n",
       "260600         Outros trabalhadores de serviÃ§os diversos           Casado   \n",
       "267698                                          Estudante         Solteiro   \n",
       "272188                                          Estudante       Divorciado   \n",
       "273185  Trabalhador de atendimento ao pÃºblico, caixa,...         Solteiro   \n",
       "284553  Outras ocupaÃ§Ãµes nÃ£o especificadas anterior...         Solteiro   \n",
       "290261                Trabalhador dos serviÃ§os de saÃºde           Casado   \n",
       "4522                                            Estudante       Divorciado   \n",
       "8014                    Outros tÃ©cnicos de nÃ­vel mÃ©dio         Solteiro   \n",
       "26933   Outras ocupaÃ§Ãµes nÃ£o especificadas anterior...         Solteiro   \n",
       "32986                                           Estudante           Casado   \n",
       "49320                     Desenhista tÃ©cnico e modelista         Solteiro   \n",
       "72684   TÃ©cnico de laboratÃ³rio, Raios-X e outros equ...         Solteiro   \n",
       "84475   Vendedor e prestador de serviÃ§os do comÃ©rcio...         Solteiro   \n",
       "95002                                           Estudante  UniÃ£o estÃ¡vel   \n",
       "101518                          PsicÃ³logo e psicanalista         Solteiro   \n",
       "114908  Vendedor e prestador de serviÃ§os do comÃ©rcio...         Solteiro   \n",
       "115706  Outras ocupaÃ§Ãµes nÃ£o especificadas anterior...         Solteiro   \n",
       "135432                                          Estudante  UniÃ£o estÃ¡vel   \n",
       "139165                           TÃ©cnico em informÃ¡tica         Solteiro   \n",
       "140955                                          Estudante         Solteiro   \n",
       "142363                                          Estudante         Solteiro   \n",
       "148493         Outros trabalhadores de serviÃ§os diversos         Solteiro   \n",
       "160270                                          Estudante         Solteiro   \n",
       "171514                                          Estudante         Solteiro   \n",
       "174239                                          Estudante         Solteiro   \n",
       "252626                                          Estudante         Solteiro   \n",
       "295319  Gerente ou supervisor de empresa industrial, c...           Casado   \n",
       "\n",
       "        VL_RENDA_FAMILIAR_BRUTA_MENSAL  VL_RENDA_PESSOAL_BRUTA_MENSAL  \\\n",
       "106763                          920.00                         920.00   \n",
       "171129                         2550.09                        2550.09   \n",
       "204801                         1379.18                        1379.18   \n",
       "210549                         2059.22                           0.00   \n",
       "215509                         2017.00                           0.00   \n",
       "218078                          724.00                           0.00   \n",
       "241152                          829.00                           0.00   \n",
       "241207                         2000.00                        2000.00   \n",
       "260600                         1859.94                         964.07   \n",
       "267698                        15000.00                           0.00   \n",
       "272188                          625.00                         625.00   \n",
       "273185                         2440.14                         862.14   \n",
       "284553                          996.36                         996.36   \n",
       "290261                         2527.43                        1277.43   \n",
       "4522                           3524.33                           0.00   \n",
       "8014                           2412.70                           0.00   \n",
       "26933                          2597.25                        1297.25   \n",
       "32986                           946.95                           0.00   \n",
       "49320                          6827.23                           0.00   \n",
       "72684                          3977.04                         913.00   \n",
       "84475                          3246.67                           0.00   \n",
       "95002                          1120.00                           0.00   \n",
       "101518                         1146.77                           0.00   \n",
       "114908                         1000.00                        1000.00   \n",
       "115706                         1024.03                        1024.03   \n",
       "135432                         1124.14                           0.00   \n",
       "139165                         2461.20                         961.00   \n",
       "140955                         2125.50                        1060.00   \n",
       "142363                         2354.15                         671.74   \n",
       "148493                         3095.45                         958.08   \n",
       "160270                         1955.00                           0.00   \n",
       "171514                         3101.71                           0.00   \n",
       "174239                         2500.00                           0.00   \n",
       "252626                         1857.04                           0.00   \n",
       "295319                         1704.08                        1704.08   \n",
       "\n",
       "       NO_MUNICIPIO SG_UF DS_RACA_COR ST_ENSINO_MEDIO_ESCOLA_PUBLICA  ...  \\\n",
       "106763          NaN   NaN           B                              S  ...   \n",
       "171129          NaN   NaN           A                              P  ...   \n",
       "204801          NaN   NaN           B                              S  ...   \n",
       "210549          NaN   NaN           P                              S  ...   \n",
       "215509          NaN   NaN           B                              S  ...   \n",
       "218078          NaN   NaN           B                              S  ...   \n",
       "241152          NaN   NaN           B                              S  ...   \n",
       "241207          NaN   NaN           B                              S  ...   \n",
       "260600          NaN   NaN           B                              S  ...   \n",
       "267698          NaN   NaN           A                              N  ...   \n",
       "272188          NaN   NaN           B                              S  ...   \n",
       "273185          NaN   NaN           B                              S  ...   \n",
       "284553          NaN   NaN           B                              S  ...   \n",
       "290261          NaN   NaN           P                              S  ...   \n",
       "4522            NaN   NaN           B                              S  ...   \n",
       "8014            NaN   NaN           P                              S  ...   \n",
       "26933           NaN   NaN           N                              S  ...   \n",
       "32986           NaN   NaN           B                              S  ...   \n",
       "49320           NaN   NaN           P                              S  ...   \n",
       "72684           NaN   NaN           B                              S  ...   \n",
       "84475           NaN   NaN           B                              S  ...   \n",
       "95002           NaN   NaN           B                              S  ...   \n",
       "101518          NaN   NaN           P                              S  ...   \n",
       "114908          NaN   NaN           A                              S  ...   \n",
       "115706          NaN   NaN           P                              S  ...   \n",
       "135432          NaN   NaN           P                              S  ...   \n",
       "139165          NaN   NaN           P                              S  ...   \n",
       "140955          NaN   NaN           P                              S  ...   \n",
       "142363          NaN   NaN           A                              S  ...   \n",
       "148493          NaN   NaN           N                              S  ...   \n",
       "160270          NaN   NaN           B                              S  ...   \n",
       "171514          NaN   NaN           P                              S  ...   \n",
       "174239          NaN   NaN           B                              S  ...   \n",
       "252626          NaN   NaN           P                              P  ...   \n",
       "295319          NaN   NaN           B                              N  ...   \n",
       "\n",
       "        NU_PERCENT_SOLICITADO_FINANC  VL_FINANCIADO_SEMESTRE  \\\n",
       "106763                           100                 4137.80   \n",
       "171129                           100                 6295.72   \n",
       "204801                           100                 4174.24   \n",
       "210549                           100                 4990.35   \n",
       "215509                           100                 4458.00   \n",
       "218078                           100                 4547.50   \n",
       "241152                           100                 4585.24   \n",
       "241207                           100                 6422.57   \n",
       "260600                           100                 6711.59   \n",
       "267698                            50                 4629.00   \n",
       "272188                           100                 5020.72   \n",
       "273185                            50                 2534.37   \n",
       "284553                           100                 3253.24   \n",
       "290261                           100                 5064.90   \n",
       "4522                             100                 7508.52   \n",
       "8014                             100                 6391.38   \n",
       "26933                            100                 6078.46   \n",
       "32986                            100                 5153.70   \n",
       "49320                             50                 2292.68   \n",
       "72684                             50                 1853.72   \n",
       "84475                            100                 6410.94   \n",
       "95002                            100                 3856.20   \n",
       "101518                           100                 4625.54   \n",
       "114908                           100                 3512.08   \n",
       "115706                           100                 6711.59   \n",
       "135432                           100                 4850.50   \n",
       "139165                           100                 4771.98   \n",
       "140955                           100                 4547.50   \n",
       "142363                           100                 5193.70   \n",
       "148493                           100                 4628.46   \n",
       "160270                           100                 6756.00   \n",
       "171514                           100                 4970.64   \n",
       "174239                           100                 5642.46   \n",
       "252626                           100                 4072.99   \n",
       "295319                            50                 4693.48   \n",
       "\n",
       "       VL_FINANC_RECURSO_ALUNO VL_TOTAL_FINANCIAMENTO  VL_LIMITE_GLOBAL  \\\n",
       "106763                    0.00               28964.60          27965.88   \n",
       "171129                    0.00               37774.32          37392.30   \n",
       "204801                    0.00               29219.68          34327.65   \n",
       "210549                    0.00               39922.80          37926.40   \n",
       "215509                    0.00               13374.00          13567.50   \n",
       "218078                    0.00               45475.00          43832.50   \n",
       "241152                    0.00               45852.40          36150.00   \n",
       "241207                    0.00               57803.13          70717.96   \n",
       "260600                    0.00               67115.90          75247.50   \n",
       "267698                 4629.00               64806.00          31500.00   \n",
       "272188                    0.00               40165.76          57658.31   \n",
       "273185                 2534.37               40549.92          17025.00   \n",
       "284553                    0.00               29279.16          43994.05   \n",
       "290261                    0.00               50649.00          62743.50   \n",
       "4522                      0.00               75085.20          69103.50   \n",
       "8014                      0.00               63913.80          54179.38   \n",
       "26933                     0.00               42549.22          47901.88   \n",
       "32986                     0.00               41229.60          32221.00   \n",
       "49320                  2292.67               45853.50          22462.50   \n",
       "72684                  1853.72               22244.64          10762.69   \n",
       "84475                     0.00               51287.52          37929.50   \n",
       "95002                     0.00               30849.60          35073.00   \n",
       "101518                    0.00               46255.40          42883.75   \n",
       "114908                    0.00               14048.32          14741.20   \n",
       "115706                    0.00               67115.90          75247.50   \n",
       "135432                    0.00               38804.00          35066.50   \n",
       "139165                    0.00               38175.84          32101.00   \n",
       "140955                    0.00               45475.00          47807.50   \n",
       "142363                    0.00               41549.60          39965.00   \n",
       "148493                    0.00               46284.60          38693.12   \n",
       "160270                    0.00               67560.00          62769.38   \n",
       "171514                    0.00               34794.48          40877.02   \n",
       "174239                    0.00               62067.06          68039.10   \n",
       "252626                    0.00               32583.92          38280.00   \n",
       "295319                 4693.49               93869.70          54556.50   \n",
       "\n",
       "        dt_inicio_cont  fase_contrato  nu_dias_atraso  vl_divida  ANO_NASC  \n",
       "106763      2014-03-24    Amortizacao               0   46500.21      1971  \n",
       "171129      2013-04-11    Amortizacao             935   39010.70      1975  \n",
       "204801      2014-12-05    Amortizacao             787   41910.47      1980  \n",
       "210549      2013-05-17    Amortizacao              26   36934.97      1981  \n",
       "215509      2014-04-25    Amortizacao              26    7379.70      1985  \n",
       "218078      2014-03-06       Carencia               0   28718.36      1996  \n",
       "241152      2012-04-16    Amortizacao             447   47777.20      1981  \n",
       "241207      2012-08-21    Amortizacao             148   89166.60      1980  \n",
       "260600      2011-11-23    Amortizacao             782   74878.19      1983  \n",
       "267698      2012-01-27    Amortizacao               0   26761.16      1992  \n",
       "272188      2012-06-22    Amortizacao             751   58927.75      1984  \n",
       "273185      2013-04-02    Amortizacao             600   22546.11      1992  \n",
       "284553      2013-10-21    Amortizacao             605   38115.52      1987  \n",
       "290261      2014-02-04       Carencia             417   63192.24      1987  \n",
       "4522        2013-11-01    Amortizacao             148   83742.07      1988  \n",
       "8014        2014-07-10     Utilizacao               0   76465.33      1988  \n",
       "26933       2013-08-15    Amortizacao             332   47273.59      1989  \n",
       "32986       2013-07-12    Amortizacao             697   44333.17      1990  \n",
       "49320       2013-04-19    Amortizacao               0   23740.09      1994  \n",
       "72684       2014-07-08    Amortizacao               0   10061.28      1992  \n",
       "84475       2013-05-27    Amortizacao             692   52672.96      1994  \n",
       "95002       2014-05-29    Amortizacao             787   23484.21      1994  \n",
       "101518      2014-05-21     Utilizacao            1427   19091.35      1994  \n",
       "114908      2014-07-11    Amortizacao            1062   14239.32      1993  \n",
       "115706      2012-03-29    Amortizacao             235   80013.50      1966  \n",
       "135432      2014-02-17    Amortizacao             205   45810.43      1994  \n",
       "139165      2013-04-18    Amortizacao               0   33807.63      1994  \n",
       "140955      2014-04-23       Carencia               0   58459.50      1996  \n",
       "142363      2014-07-10    Amortizacao             174   38022.36      1993  \n",
       "148493      2014-06-05       Carencia             782   42840.77      1995  \n",
       "160270      2014-02-17       Carencia             143   89264.07      1996  \n",
       "171514      2014-12-10    Amortizacao             327   43037.29      1996  \n",
       "174239      2014-06-09     Utilizacao               0   91123.17      1996  \n",
       "252626      2014-08-13     Utilizacao               0   89940.56      1977  \n",
       "295319      2014-09-30     Utilizacao               0   46640.45      1979  \n",
       "\n",
       "[35 rows x 37 columns]"
      ]
     },
     "execution_count": 26,
     "metadata": {},
     "output_type": "execute_result"
    }
   ],
   "source": [
    "base_df.query('VL_SEMESTRE_SEM_DESCONTO > 90000')"
   ]
  },
  {
   "cell_type": "code",
   "execution_count": 27,
   "metadata": {
    "colab": {
     "base_uri": "https://localhost:8080/",
     "height": 286
    },
    "id": "qqYV965s-uoB",
    "outputId": "e9527c2e-e4d5-46d7-a92c-cb087e1fcc46"
   },
   "outputs": [
    {
     "data": {
      "text/plain": [
       "<AxesSubplot:ylabel='Frequency'>"
      ]
     },
     "execution_count": 27,
     "metadata": {},
     "output_type": "execute_result"
    },
    {
     "data": {
      "image/png": "[encoded data removed]",
      "text/plain": [
       "<Figure size 432x288 with 1 Axes>"
      ]
     },
     "metadata": {
      "needs_background": "light"
     },
     "output_type": "display_data"
    }
   ],
   "source": [
    "base_df['VL_SEMESTRE_SEM_DESCONTO'].plot.hist()"
   ]
  },
  {
   "cell_type": "markdown",
   "metadata": {
    "id": "Mbs4brqy2fW4"
   },
   "source": [
    "### VL_SEMESTRE_ATUAL\r\n",
    "tuition_current = numeric values\r\n",
    "NAs = 0\r\n",
    "\r\n",
    "Valores altos, acima de 25k por semestre. Aparentemente os valores estão corretos (comparando valor semestre, valor do semestre com desconto, valor valor financiado, etc.)"
   ]
  },
  {
   "cell_type": "code",
   "execution_count": 28,
   "metadata": {
    "colab": {
     "base_uri": "https://localhost:8080/"
    },
    "id": "HYHt7lFB2fXb",
    "outputId": "f5e3ff66-49e9-4946-a994-72dada956632"
   },
   "outputs": [
    {
     "data": {
      "text/plain": [
       "5265.23     7031\n",
       "5020.72     6644\n",
       "6422.57     2596\n",
       "7396.80     1398\n",
       "9268.80     1096\n",
       "            ... \n",
       "2807.38        1\n",
       "3416.04        1\n",
       "11808.60       1\n",
       "5157.72        1\n",
       "4932.11        1\n",
       "Name: VL_SEMESTRE_ATUAL, Length: 140627, dtype: int64"
      ]
     },
     "execution_count": 28,
     "metadata": {},
     "output_type": "execute_result"
    }
   ],
   "source": [
    "base_df['VL_SEMESTRE_ATUAL'].value_counts()"
   ]
  },
  {
   "cell_type": "code",
   "execution_count": 29,
   "metadata": {
    "colab": {
     "base_uri": "https://localhost:8080/"
    },
    "id": "9XJOOgkN2fXe",
    "outputId": "51ff09af-3031-4d8f-a8d8-9ad43c36b9bb"
   },
   "outputs": [
    {
     "data": {
      "text/plain": [
       "0"
      ]
     },
     "execution_count": 29,
     "metadata": {},
     "output_type": "execute_result"
    }
   ],
   "source": [
    "sum(pd.isnull(base_df['VL_SEMESTRE_ATUAL']))"
   ]
  },
  {
   "cell_type": "code",
   "execution_count": 30,
   "metadata": {
    "id": "6dxg29oI6_h0"
   },
   "outputs": [
    {
     "data": {
      "text/plain": [
       "count    637822.000000\n",
       "mean       5699.291537\n",
       "std        4163.466858\n",
       "min         600.000000\n",
       "25%        3769.605000\n",
       "50%        4987.515000\n",
       "75%        6288.130000\n",
       "max       41499.900000\n",
       "Name: VL_SEMESTRE_ATUAL, dtype: float64"
      ]
     },
     "execution_count": 30,
     "metadata": {},
     "output_type": "execute_result"
    }
   ],
   "source": [
    "base_df['VL_SEMESTRE_ATUAL'].describe()"
   ]
  },
  {
   "cell_type": "code",
   "execution_count": 31,
   "metadata": {
    "id": "zo4AitYd7VcT"
   },
   "outputs": [
    {
     "data": {
      "text/html": [
       "<div>\n",
       "<style scoped>\n",
       "    .dataframe tbody tr th:only-of-type {\n",
       "        vertical-align: middle;\n",
       "    }\n",
       "\n",
       "    .dataframe tbody tr th {\n",
       "        vertical-align: top;\n",
       "    }\n",
       "\n",
       "    .dataframe thead th {\n",
       "        text-align: right;\n",
       "    }\n",
       "</style>\n",
       "<table border=\"1\" class=\"dataframe\">\n",
       "  <thead>\n",
       "    <tr style=\"text-align: right;\">\n",
       "      <th></th>\n",
       "      <th>NU_ANO_SEMESTRE_INSCRICAO</th>\n",
       "      <th>SG_SEXO</th>\n",
       "      <th>DS_OCUPACAO</th>\n",
       "      <th>DS_ESTADO_CIVIL</th>\n",
       "      <th>VL_RENDA_FAMILIAR_BRUTA_MENSAL</th>\n",
       "      <th>VL_RENDA_PESSOAL_BRUTA_MENSAL</th>\n",
       "      <th>NO_MUNICIPIO</th>\n",
       "      <th>SG_UF</th>\n",
       "      <th>DS_RACA_COR</th>\n",
       "      <th>ST_ENSINO_MEDIO_ESCOLA_PUBLICA</th>\n",
       "      <th>...</th>\n",
       "      <th>NU_PERCENT_SOLICITADO_FINANC</th>\n",
       "      <th>VL_FINANCIADO_SEMESTRE</th>\n",
       "      <th>VL_FINANC_RECURSO_ALUNO</th>\n",
       "      <th>VL_TOTAL_FINANCIAMENTO</th>\n",
       "      <th>VL_LIMITE_GLOBAL</th>\n",
       "      <th>dt_inicio_cont</th>\n",
       "      <th>fase_contrato</th>\n",
       "      <th>nu_dias_atraso</th>\n",
       "      <th>vl_divida</th>\n",
       "      <th>ANO_NASC</th>\n",
       "    </tr>\n",
       "  </thead>\n",
       "  <tbody>\n",
       "    <tr>\n",
       "      <th>3</th>\n",
       "      <td>12012</td>\n",
       "      <td>F</td>\n",
       "      <td>Estudante</td>\n",
       "      <td>Solteiro</td>\n",
       "      <td>21671.74</td>\n",
       "      <td>0.0</td>\n",
       "      <td>NaN</td>\n",
       "      <td>NaN</td>\n",
       "      <td>B</td>\n",
       "      <td>N</td>\n",
       "      <td>...</td>\n",
       "      <td>100</td>\n",
       "      <td>32065.32</td>\n",
       "      <td>0.00</td>\n",
       "      <td>384783.84</td>\n",
       "      <td>368181.0</td>\n",
       "      <td>2012-03-20</td>\n",
       "      <td>Utilizacao</td>\n",
       "      <td>0</td>\n",
       "      <td>434901.80</td>\n",
       "      <td>1991</td>\n",
       "    </tr>\n",
       "    <tr>\n",
       "      <th>12</th>\n",
       "      <td>12014</td>\n",
       "      <td>F</td>\n",
       "      <td>Estudante</td>\n",
       "      <td>Solteiro</td>\n",
       "      <td>5578.12</td>\n",
       "      <td>0.0</td>\n",
       "      <td>NaN</td>\n",
       "      <td>NaN</td>\n",
       "      <td>B</td>\n",
       "      <td>N</td>\n",
       "      <td>...</td>\n",
       "      <td>100</td>\n",
       "      <td>31284.00</td>\n",
       "      <td>0.00</td>\n",
       "      <td>218988.00</td>\n",
       "      <td>257250.0</td>\n",
       "      <td>2014-02-19</td>\n",
       "      <td>Amortizacao</td>\n",
       "      <td>0</td>\n",
       "      <td>251503.10</td>\n",
       "      <td>1992</td>\n",
       "    </tr>\n",
       "    <tr>\n",
       "      <th>83</th>\n",
       "      <td>12010</td>\n",
       "      <td>M</td>\n",
       "      <td>Estudante</td>\n",
       "      <td>Solteiro</td>\n",
       "      <td>8500.00</td>\n",
       "      <td>0.0</td>\n",
       "      <td>NaN</td>\n",
       "      <td>NaN</td>\n",
       "      <td>B</td>\n",
       "      <td>N</td>\n",
       "      <td>...</td>\n",
       "      <td>80</td>\n",
       "      <td>28528.70</td>\n",
       "      <td>7132.18</td>\n",
       "      <td>427930.56</td>\n",
       "      <td>278208.0</td>\n",
       "      <td>2010-05-11</td>\n",
       "      <td>Amortizacao</td>\n",
       "      <td>11</td>\n",
       "      <td>312977.34</td>\n",
       "      <td>1991</td>\n",
       "    </tr>\n",
       "    <tr>\n",
       "      <th>92</th>\n",
       "      <td>22013</td>\n",
       "      <td>M</td>\n",
       "      <td>Outros trabalhadores de serviÃ§os diversos</td>\n",
       "      <td>Solteiro</td>\n",
       "      <td>745.60</td>\n",
       "      <td>745.6</td>\n",
       "      <td>NaN</td>\n",
       "      <td>NaN</td>\n",
       "      <td>P</td>\n",
       "      <td>N</td>\n",
       "      <td>...</td>\n",
       "      <td>100</td>\n",
       "      <td>35624.00</td>\n",
       "      <td>0.00</td>\n",
       "      <td>427488.00</td>\n",
       "      <td>451500.0</td>\n",
       "      <td>2013-07-29</td>\n",
       "      <td>Carencia</td>\n",
       "      <td>0</td>\n",
       "      <td>572715.49</td>\n",
       "      <td>1991</td>\n",
       "    </tr>\n",
       "    <tr>\n",
       "      <th>130</th>\n",
       "      <td>12010</td>\n",
       "      <td>M</td>\n",
       "      <td>Estudante</td>\n",
       "      <td>Solteiro</td>\n",
       "      <td>987.89</td>\n",
       "      <td>0.0</td>\n",
       "      <td>NaN</td>\n",
       "      <td>NaN</td>\n",
       "      <td>B</td>\n",
       "      <td>N</td>\n",
       "      <td>...</td>\n",
       "      <td>100</td>\n",
       "      <td>30005.69</td>\n",
       "      <td>0.00</td>\n",
       "      <td>360068.28</td>\n",
       "      <td>331758.9</td>\n",
       "      <td>2010-05-18</td>\n",
       "      <td>Amortizacao</td>\n",
       "      <td>0</td>\n",
       "      <td>329667.14</td>\n",
       "      <td>1990</td>\n",
       "    </tr>\n",
       "    <tr>\n",
       "      <th>...</th>\n",
       "      <td>...</td>\n",
       "      <td>...</td>\n",
       "      <td>...</td>\n",
       "      <td>...</td>\n",
       "      <td>...</td>\n",
       "      <td>...</td>\n",
       "      <td>...</td>\n",
       "      <td>...</td>\n",
       "      <td>...</td>\n",
       "      <td>...</td>\n",
       "      <td>...</td>\n",
       "      <td>...</td>\n",
       "      <td>...</td>\n",
       "      <td>...</td>\n",
       "      <td>...</td>\n",
       "      <td>...</td>\n",
       "      <td>...</td>\n",
       "      <td>...</td>\n",
       "      <td>...</td>\n",
       "      <td>...</td>\n",
       "      <td>...</td>\n",
       "    </tr>\n",
       "    <tr>\n",
       "      <th>327412</th>\n",
       "      <td>22013</td>\n",
       "      <td>M</td>\n",
       "      <td>Estudante</td>\n",
       "      <td>Solteiro</td>\n",
       "      <td>2242.15</td>\n",
       "      <td>0.0</td>\n",
       "      <td>NaN</td>\n",
       "      <td>NaN</td>\n",
       "      <td>P</td>\n",
       "      <td>N</td>\n",
       "      <td>...</td>\n",
       "      <td>100</td>\n",
       "      <td>31843.19</td>\n",
       "      <td>0.00</td>\n",
       "      <td>382118.28</td>\n",
       "      <td>448875.0</td>\n",
       "      <td>2013-08-27</td>\n",
       "      <td>Carencia</td>\n",
       "      <td>0</td>\n",
       "      <td>486544.06</td>\n",
       "      <td>1992</td>\n",
       "    </tr>\n",
       "    <tr>\n",
       "      <th>327642</th>\n",
       "      <td>22012</td>\n",
       "      <td>F</td>\n",
       "      <td>Estudante</td>\n",
       "      <td>Solteiro</td>\n",
       "      <td>1154.11</td>\n",
       "      <td>0.0</td>\n",
       "      <td>NaN</td>\n",
       "      <td>NaN</td>\n",
       "      <td>P</td>\n",
       "      <td>N</td>\n",
       "      <td>...</td>\n",
       "      <td>100</td>\n",
       "      <td>33600.00</td>\n",
       "      <td>0.00</td>\n",
       "      <td>403200.00</td>\n",
       "      <td>384750.0</td>\n",
       "      <td>2000-07-11</td>\n",
       "      <td>Amortizacao</td>\n",
       "      <td>0</td>\n",
       "      <td>10634.46</td>\n",
       "      <td>1980</td>\n",
       "    </tr>\n",
       "    <tr>\n",
       "      <th>327813</th>\n",
       "      <td>12014</td>\n",
       "      <td>F</td>\n",
       "      <td>Estudante</td>\n",
       "      <td>Casado</td>\n",
       "      <td>12259.77</td>\n",
       "      <td>0.0</td>\n",
       "      <td>NaN</td>\n",
       "      <td>NaN</td>\n",
       "      <td>P</td>\n",
       "      <td>P</td>\n",
       "      <td>...</td>\n",
       "      <td>75</td>\n",
       "      <td>24691.50</td>\n",
       "      <td>8230.50</td>\n",
       "      <td>395064.00</td>\n",
       "      <td>183177.0</td>\n",
       "      <td>2014-06-16</td>\n",
       "      <td>Liquidacao</td>\n",
       "      <td>0</td>\n",
       "      <td>301948.91</td>\n",
       "      <td>1982</td>\n",
       "    </tr>\n",
       "    <tr>\n",
       "      <th>327816</th>\n",
       "      <td>12012</td>\n",
       "      <td>F</td>\n",
       "      <td>Estudante</td>\n",
       "      <td>UniÃ£o estÃ¡vel</td>\n",
       "      <td>3200.00</td>\n",
       "      <td>0.0</td>\n",
       "      <td>NaN</td>\n",
       "      <td>NaN</td>\n",
       "      <td>P</td>\n",
       "      <td>S</td>\n",
       "      <td>...</td>\n",
       "      <td>100</td>\n",
       "      <td>32700.00</td>\n",
       "      <td>0.00</td>\n",
       "      <td>392400.00</td>\n",
       "      <td>336960.0</td>\n",
       "      <td>2001-05-09</td>\n",
       "      <td>Amortizacao</td>\n",
       "      <td>5060</td>\n",
       "      <td>12956.81</td>\n",
       "      <td>1979</td>\n",
       "    </tr>\n",
       "    <tr>\n",
       "      <th>327822</th>\n",
       "      <td>22012</td>\n",
       "      <td>F</td>\n",
       "      <td>Estudante</td>\n",
       "      <td>Solteiro</td>\n",
       "      <td>1154.11</td>\n",
       "      <td>0.0</td>\n",
       "      <td>NaN</td>\n",
       "      <td>NaN</td>\n",
       "      <td>P</td>\n",
       "      <td>N</td>\n",
       "      <td>...</td>\n",
       "      <td>100</td>\n",
       "      <td>33600.00</td>\n",
       "      <td>0.00</td>\n",
       "      <td>403200.00</td>\n",
       "      <td>384750.0</td>\n",
       "      <td>2012-11-22</td>\n",
       "      <td>Amortizacao</td>\n",
       "      <td>0</td>\n",
       "      <td>485865.58</td>\n",
       "      <td>1980</td>\n",
       "    </tr>\n",
       "  </tbody>\n",
       "</table>\n",
       "<p>6808 rows × 37 columns</p>\n",
       "</div>"
      ],
      "text/plain": [
       "        NU_ANO_SEMESTRE_INSCRICAO SG_SEXO  \\\n",
       "3                           12012       F   \n",
       "12                          12014       F   \n",
       "83                          12010       M   \n",
       "92                          22013       M   \n",
       "130                         12010       M   \n",
       "...                           ...     ...   \n",
       "327412                      22013       M   \n",
       "327642                      22012       F   \n",
       "327813                      12014       F   \n",
       "327816                      12012       F   \n",
       "327822                      22012       F   \n",
       "\n",
       "                                       DS_OCUPACAO  DS_ESTADO_CIVIL  \\\n",
       "3                                        Estudante         Solteiro   \n",
       "12                                       Estudante         Solteiro   \n",
       "83                                       Estudante         Solteiro   \n",
       "92      Outros trabalhadores de serviÃ§os diversos         Solteiro   \n",
       "130                                      Estudante         Solteiro   \n",
       "...                                            ...              ...   \n",
       "327412                                   Estudante         Solteiro   \n",
       "327642                                   Estudante         Solteiro   \n",
       "327813                                   Estudante           Casado   \n",
       "327816                                   Estudante  UniÃ£o estÃ¡vel   \n",
       "327822                                   Estudante         Solteiro   \n",
       "\n",
       "        VL_RENDA_FAMILIAR_BRUTA_MENSAL  VL_RENDA_PESSOAL_BRUTA_MENSAL  \\\n",
       "3                             21671.74                            0.0   \n",
       "12                             5578.12                            0.0   \n",
       "83                             8500.00                            0.0   \n",
       "92                              745.60                          745.6   \n",
       "130                             987.89                            0.0   \n",
       "...                                ...                            ...   \n",
       "327412                         2242.15                            0.0   \n",
       "327642                         1154.11                            0.0   \n",
       "327813                        12259.77                            0.0   \n",
       "327816                         3200.00                            0.0   \n",
       "327822                         1154.11                            0.0   \n",
       "\n",
       "       NO_MUNICIPIO SG_UF DS_RACA_COR ST_ENSINO_MEDIO_ESCOLA_PUBLICA  ...  \\\n",
       "3               NaN   NaN           B                              N  ...   \n",
       "12              NaN   NaN           B                              N  ...   \n",
       "83              NaN   NaN           B                              N  ...   \n",
       "92              NaN   NaN           P                              N  ...   \n",
       "130             NaN   NaN           B                              N  ...   \n",
       "...             ...   ...         ...                            ...  ...   \n",
       "327412          NaN   NaN           P                              N  ...   \n",
       "327642          NaN   NaN           P                              N  ...   \n",
       "327813          NaN   NaN           P                              P  ...   \n",
       "327816          NaN   NaN           P                              S  ...   \n",
       "327822          NaN   NaN           P                              N  ...   \n",
       "\n",
       "        NU_PERCENT_SOLICITADO_FINANC  VL_FINANCIADO_SEMESTRE  \\\n",
       "3                                100                32065.32   \n",
       "12                               100                31284.00   \n",
       "83                                80                28528.70   \n",
       "92                               100                35624.00   \n",
       "130                              100                30005.69   \n",
       "...                              ...                     ...   \n",
       "327412                           100                31843.19   \n",
       "327642                           100                33600.00   \n",
       "327813                            75                24691.50   \n",
       "327816                           100                32700.00   \n",
       "327822                           100                33600.00   \n",
       "\n",
       "       VL_FINANC_RECURSO_ALUNO VL_TOTAL_FINANCIAMENTO  VL_LIMITE_GLOBAL  \\\n",
       "3                         0.00              384783.84          368181.0   \n",
       "12                        0.00              218988.00          257250.0   \n",
       "83                     7132.18              427930.56          278208.0   \n",
       "92                        0.00              427488.00          451500.0   \n",
       "130                       0.00              360068.28          331758.9   \n",
       "...                        ...                    ...               ...   \n",
       "327412                    0.00              382118.28          448875.0   \n",
       "327642                    0.00              403200.00          384750.0   \n",
       "327813                 8230.50              395064.00          183177.0   \n",
       "327816                    0.00              392400.00          336960.0   \n",
       "327822                    0.00              403200.00          384750.0   \n",
       "\n",
       "        dt_inicio_cont  fase_contrato  nu_dias_atraso  vl_divida  ANO_NASC  \n",
       "3           2012-03-20     Utilizacao               0  434901.80      1991  \n",
       "12          2014-02-19    Amortizacao               0  251503.10      1992  \n",
       "83          2010-05-11    Amortizacao              11  312977.34      1991  \n",
       "92          2013-07-29       Carencia               0  572715.49      1991  \n",
       "130         2010-05-18    Amortizacao               0  329667.14      1990  \n",
       "...                ...            ...             ...        ...       ...  \n",
       "327412      2013-08-27       Carencia               0  486544.06      1992  \n",
       "327642      2000-07-11    Amortizacao               0   10634.46      1980  \n",
       "327813      2014-06-16     Liquidacao               0  301948.91      1982  \n",
       "327816      2001-05-09    Amortizacao            5060   12956.81      1979  \n",
       "327822      2012-11-22    Amortizacao               0  485865.58      1980  \n",
       "\n",
       "[6808 rows x 37 columns]"
      ]
     },
     "execution_count": 31,
     "metadata": {},
     "output_type": "execute_result"
    }
   ],
   "source": [
    "base_df.query('VL_SEMESTRE_ATUAL > 30000')"
   ]
  },
  {
   "cell_type": "code",
   "execution_count": 32,
   "metadata": {
    "colab": {
     "base_uri": "https://localhost:8080/",
     "height": 282
    },
    "id": "fqIWrFE0-oHk",
    "outputId": "3c00de3b-b3da-4f22-ab88-c1d7d5cf410a"
   },
   "outputs": [
    {
     "data": {
      "text/plain": [
       "<AxesSubplot:ylabel='Frequency'>"
      ]
     },
     "execution_count": 32,
     "metadata": {},
     "output_type": "execute_result"
    },
    {
     "data": {
      "image/png": "[encoded data removed]",
      "text/plain": [
       "<Figure size 432x288 with 1 Axes>"
      ]
     },
     "metadata": {
      "needs_background": "light"
     },
     "output_type": "display_data"
    }
   ],
   "source": [
    "base_df['VL_SEMESTRE_ATUAL'].plot.hist()"
   ]
  },
  {
   "cell_type": "markdown",
   "metadata": {
    "id": "_-LOBsMJ22o-"
   },
   "source": [
    "### VL_FINANCIADO_SEMESTRE **\r\n",
    "loan_value_sem = numeric values\r\n",
    "NAs = 0\r\n",
    "\r\n",
    "Revisar valores pelo Excel. "
   ]
  },
  {
   "cell_type": "code",
   "execution_count": 33,
   "metadata": {
    "id": "H0AVo64e22pk"
   },
   "outputs": [
    {
     "data": {
      "text/plain": [
       "5265.23    6990\n",
       "5020.72    6632\n",
       "6422.57    2585\n",
       "7396.80    1380\n",
       "8803.48     970\n",
       "           ... \n",
       "4868.00       1\n",
       "5601.78       1\n",
       "5630.22       1\n",
       "3137.56       1\n",
       "2048.00       1\n",
       "Name: VL_FINANCIADO_SEMESTRE, Length: 162892, dtype: int64"
      ]
     },
     "execution_count": 33,
     "metadata": {},
     "output_type": "execute_result"
    }
   ],
   "source": [
    "base_df['VL_FINANCIADO_SEMESTRE'].value_counts()"
   ]
  },
  {
   "cell_type": "code",
   "execution_count": 34,
   "metadata": {
    "id": "LA8fKldc22pq"
   },
   "outputs": [
    {
     "data": {
      "text/plain": [
       "0"
      ]
     },
     "execution_count": 34,
     "metadata": {},
     "output_type": "execute_result"
    }
   ],
   "source": [
    "sum(pd.isnull(base_df['VL_FINANCIADO_SEMESTRE']))"
   ]
  },
  {
   "cell_type": "code",
   "execution_count": 35,
   "metadata": {
    "id": "nmV122zQ3JYJ"
   },
   "outputs": [
    {
     "data": {
      "text/plain": [
       "count    6.378220e+05\n",
       "mean     9.973662e+13\n",
       "std      9.392539e+14\n",
       "min      3.000000e+02\n",
       "25%      3.361500e+03\n",
       "50%      4.608070e+03\n",
       "75%      5.899020e+03\n",
       "max      9.999940e+15\n",
       "Name: VL_FINANCIADO_SEMESTRE, dtype: float64"
      ]
     },
     "execution_count": 35,
     "metadata": {},
     "output_type": "execute_result"
    }
   ],
   "source": [
    "base_df['VL_FINANCIADO_SEMESTRE'].describe()"
   ]
  },
  {
   "cell_type": "code",
   "execution_count": 36,
   "metadata": {
    "id": "-tlZcHNJ_HJa"
   },
   "outputs": [
    {
     "data": {
      "text/plain": [
       "<AxesSubplot:ylabel='Frequency'>"
      ]
     },
     "execution_count": 36,
     "metadata": {},
     "output_type": "execute_result"
    },
    {
     "data": {
      "image/png": "[encoded data removed]",
      "text/plain": [
       "<Figure size 432x288 with 1 Axes>"
      ]
     },
     "metadata": {
      "needs_background": "light"
     },
     "output_type": "display_data"
    }
   ],
   "source": [
    "base_df['VL_FINANCIADO_SEMESTRE'].plot.hist()"
   ]
  },
  {
   "cell_type": "markdown",
   "metadata": {
    "id": "Vl2r9NBr3LqL"
   },
   "source": [
    "### fase_contrato\r\n",
    "phase = amortization, utilization, grace period, liquidation\r\n",
    "NAs = 0\r\n"
   ]
  },
  {
   "cell_type": "code",
   "execution_count": 37,
   "metadata": {
    "colab": {
     "base_uri": "https://localhost:8080/"
    },
    "id": "c2z9wvaP3LqN",
    "outputId": "ce8b02b8-2f67-4460-fa87-674d8ad2455b"
   },
   "outputs": [
    {
     "data": {
      "text/plain": [
       "Amortizacao    452885\n",
       "Utilizacao     103915\n",
       "Carencia        79654\n",
       "Liquidacao       1368\n",
       "Name: fase_contrato, dtype: int64"
      ]
     },
     "execution_count": 37,
     "metadata": {},
     "output_type": "execute_result"
    }
   ],
   "source": [
    "base_df['fase_contrato'].value_counts()"
   ]
  },
  {
   "cell_type": "code",
   "execution_count": 38,
   "metadata": {
    "colab": {
     "base_uri": "https://localhost:8080/"
    },
    "id": "XEUm7ldc3LqR",
    "outputId": "948230b0-a911-4ad0-85d6-374dabb133a9"
   },
   "outputs": [
    {
     "data": {
      "text/plain": [
       "0"
      ]
     },
     "execution_count": 38,
     "metadata": {},
     "output_type": "execute_result"
    }
   ],
   "source": [
    "sum(pd.isnull(base_df['fase_contrato']))"
   ]
  },
  {
   "cell_type": "markdown",
   "metadata": {
    "id": "96nSr7M_3opZ"
   },
   "source": [
    "### vl_divida\r\n",
    "total_debt = numeric values\r\n",
    "NAs = 0\r\n"
   ]
  },
  {
   "cell_type": "code",
   "execution_count": 39,
   "metadata": {
    "colab": {
     "base_uri": "https://localhost:8080/"
    },
    "id": "wOkq8VAy3op8",
    "outputId": "ef83dddf-f15b-40ae-a95e-a954942d9215"
   },
   "outputs": [
    {
     "data": {
      "text/plain": [
       "0.00         1358\n",
       "66557.24       47\n",
       "2963.77        45\n",
       "532079.37      32\n",
       "2853.57        32\n",
       "             ... \n",
       "21533.75        1\n",
       "20759.97        1\n",
       "46528.55        1\n",
       "25459.74        1\n",
       "80963.89        1\n",
       "Name: vl_divida, Length: 605984, dtype: int64"
      ]
     },
     "execution_count": 39,
     "metadata": {},
     "output_type": "execute_result"
    }
   ],
   "source": [
    "base_df['vl_divida'].value_counts()"
   ]
  },
  {
   "cell_type": "code",
   "execution_count": 40,
   "metadata": {
    "colab": {
     "base_uri": "https://localhost:8080/"
    },
    "id": "8JcxHt9H3oqA",
    "outputId": "eb042d2e-1f6d-4d4c-a487-6a752d98b02c"
   },
   "outputs": [
    {
     "data": {
      "text/plain": [
       "0"
      ]
     },
     "execution_count": 40,
     "metadata": {},
     "output_type": "execute_result"
    }
   ],
   "source": [
    "sum(pd.isnull(base_df['vl_divida']))"
   ]
  },
  {
   "cell_type": "code",
   "execution_count": 41,
   "metadata": {
    "colab": {
     "base_uri": "https://localhost:8080/"
    },
    "id": "fR_iQOMmAB_u",
    "outputId": "ce318e85-d67a-4f28-f43b-933191a594b1"
   },
   "outputs": [
    {
     "data": {
      "text/plain": [
       "count    637822.000000\n",
       "mean      50219.897849\n",
       "std       51960.990018\n",
       "min           0.000000\n",
       "25%       22453.375000\n",
       "50%       39904.855000\n",
       "75%       62050.492500\n",
       "max      635552.520000\n",
       "Name: vl_divida, dtype: float64"
      ]
     },
     "execution_count": 41,
     "metadata": {},
     "output_type": "execute_result"
    }
   ],
   "source": [
    "base_df['vl_divida'].describe()"
   ]
  },
  {
   "cell_type": "code",
   "execution_count": 42,
   "metadata": {
    "colab": {
     "base_uri": "https://localhost:8080/",
     "height": 282
    },
    "id": "7UOy4GyWAJHL",
    "outputId": "3aee06d9-352e-4ebb-ebab-635d724359e3"
   },
   "outputs": [
    {
     "data": {
      "text/plain": [
       "<AxesSubplot:ylabel='Frequency'>"
      ]
     },
     "execution_count": 42,
     "metadata": {},
     "output_type": "execute_result"
    },
    {
     "data": {
      "image/png": "[encoded data removed]",
      "text/plain": [
       "<Figure size 432x288 with 1 Axes>"
      ]
     },
     "metadata": {
      "needs_background": "light"
     },
     "output_type": "display_data"
    }
   ],
   "source": [
    "base_df['vl_divida'].plot.hist()"
   ]
  },
  {
   "cell_type": "code",
   "execution_count": null,
   "metadata": {},
   "outputs": [],
   "source": []
  },
  {
   "cell_type": "markdown",
   "metadata": {
    "id": "whqnRni3t8u2"
   },
   "source": [
    "## Bruno\r\n",
    "\r\n",
    "DS_OCUPACAO\r\n",
    "VL_RENDA_FAMILIAR_BRUTA_MENSAL\r\n",
    "NO_MUNICIPIO\r\n",
    "DS_RACA_COR\r\n",
    "NU_ANO_CONCLUSAO_ENSINO_MEDIO\r\n",
    "SG_UF_CURSO\r\n",
    "QT_SEMESTRES_CURSO\r\n",
    "QT_SEMESTRE_FINANCIAMENTO\r\n",
    "VL_SEMESTRE_COM_DESCONTO\r\n",
    "NU_PERCENT_SOLICITADO_FINANC\r\n",
    "VL_FINANC_RECURSO_ALUNO\r\n",
    "nu_dias_atraso\r\n",
    "ANO_NASC"
   ]
  },
  {
   "cell_type": "markdown",
   "metadata": {},
   "source": [
    "### Occupation"
   ]
  },
  {
   "cell_type": "markdown",
   "metadata": {},
   "source": [
    "Type: String"
   ]
  },
  {
   "cell_type": "markdown",
   "metadata": {},
   "source": [
    "Levels and number of observations:"
   ]
  },
  {
   "cell_type": "code",
   "execution_count": 43,
   "metadata": {},
   "outputs": [
    {
     "data": {
      "text/plain": [
       "Estudante                                                                                                        302509\n",
       "Outras ocupaÃ§Ãµes nÃ£o especificadas anteriormente                                                              103657\n",
       "Outros trabalhadores de serviÃ§os diversos                                                                        51387\n",
       "Vendedor e prestador de serviÃ§os do comÃ©rcio, ambulante, caixeiro-viajante e camelÃ´                            29998\n",
       "Outros tÃ©cnicos de nÃ­vel mÃ©dio                                                                                 20823\n",
       "                                                                                                                  ...  \n",
       "Membro do Poder JudiciÃ¡rio (Ministro, Juiz e Desembargador) e de Tribunal de Contas (Ministro e Conselheiro)         5\n",
       "Membro do MinistÃ©rio PÃºblico (Procurador e Promotor)                                                                3\n",
       "Servidor das demais carreiras da administração pública direta, autárquica e fundacional                               2\n",
       "Outras ocupações não especificadas anteriormente                                                                      2\n",
       "Profissional de marketing, de publicidade e de comercialização                                                        1\n",
       "Name: DS_OCUPACAO, Length: 136, dtype: int64"
      ]
     },
     "execution_count": 43,
     "metadata": {},
     "output_type": "execute_result"
    }
   ],
   "source": [
    "base_df['DS_OCUPACAO'].value_counts()"
   ]
  },
  {
   "cell_type": "markdown",
   "metadata": {},
   "source": [
    "Levels and proportions:"
   ]
  },
  {
   "cell_type": "code",
   "execution_count": 44,
   "metadata": {},
   "outputs": [
    {
     "data": {
      "text/plain": [
       "Estudante                                                                                                        0.474284\n",
       "Outras ocupaÃ§Ãµes nÃ£o especificadas anteriormente                                                              0.162517\n",
       "Outros trabalhadores de serviÃ§os diversos                                                                       0.080566\n",
       "Vendedor e prestador de serviÃ§os do comÃ©rcio, ambulante, caixeiro-viajante e camelÃ´                           0.047032\n",
       "Outros tÃ©cnicos de nÃ­vel mÃ©dio                                                                                0.032647\n",
       "                                                                                                                   ...   \n",
       "Membro do Poder JudiciÃ¡rio (Ministro, Juiz e Desembargador) e de Tribunal de Contas (Ministro e Conselheiro)    0.000008\n",
       "Membro do MinistÃ©rio PÃºblico (Procurador e Promotor)                                                           0.000005\n",
       "Servidor das demais carreiras da administração pública direta, autárquica e fundacional                          0.000003\n",
       "Outras ocupações não especificadas anteriormente                                                                 0.000003\n",
       "Profissional de marketing, de publicidade e de comercialização                                                   0.000002\n",
       "Name: DS_OCUPACAO, Length: 136, dtype: float64"
      ]
     },
     "execution_count": 44,
     "metadata": {},
     "output_type": "execute_result"
    }
   ],
   "source": [
    "base_df['DS_OCUPACAO'].value_counts(normalize = True)"
   ]
  },
  {
   "cell_type": "markdown",
   "metadata": {},
   "source": [
    "NAs:"
   ]
  },
  {
   "cell_type": "code",
   "execution_count": 45,
   "metadata": {},
   "outputs": [
    {
     "data": {
      "text/plain": [
       "0"
      ]
     },
     "execution_count": 45,
     "metadata": {},
     "output_type": "execute_result"
    }
   ],
   "source": [
    "sum(pd.isnull(base_df['DS_OCUPACAO']))"
   ]
  },
  {
   "cell_type": "code",
   "execution_count": 46,
   "metadata": {},
   "outputs": [],
   "source": [
    "### Monthly Family Income (Gross)"
   ]
  },
  {
   "cell_type": "code",
   "execution_count": 47,
   "metadata": {},
   "outputs": [
    {
     "ename": "NameError",
     "evalue": "name 'numerical' is not defined",
     "output_type": "error",
     "traceback": [
      "\u001b[0;31m---------------------------------------------------------------------------\u001b[0m",
      "\u001b[0;31mNameError\u001b[0m                                 Traceback (most recent call last)",
      "\u001b[0;32m<ipython-input-47-18ce48f152ff>\u001b[0m in \u001b[0;36m<module>\u001b[0;34m\u001b[0m\n\u001b[0;32m----> 1\u001b[0;31m \u001b[0mType\u001b[0m\u001b[0;34m:\u001b[0m \u001b[0mnumerical\u001b[0m\u001b[0;34m\u001b[0m\u001b[0;34m\u001b[0m\u001b[0m\n\u001b[0m",
      "\u001b[0;31mNameError\u001b[0m: name 'numerical' is not defined"
     ]
    }
   ],
   "source": [
    "Type: numerical "
   ]
  },
  {
   "cell_type": "code",
   "execution_count": null,
   "metadata": {},
   "outputs": [],
   "source": [
    "base_df['VL_RENDA_FAMILIAR_BRUTA_MENSAL'].describe()"
   ]
  },
  {
   "cell_type": "code",
   "execution_count": null,
   "metadata": {},
   "outputs": [],
   "source": [
    "base_df['VL_RENDA_FAMILIAR_BRUTA_MENSAL'].plot.hist()"
   ]
  },
  {
   "cell_type": "code",
   "execution_count": 48,
   "metadata": {},
   "outputs": [
    {
     "data": {
      "text/plain": [
       "1000.00    0.025369\n",
       "724.00     0.023090\n",
       "800.00     0.019305\n",
       "1500.00    0.018065\n",
       "1200.00    0.016561\n",
       "             ...   \n",
       "2131.06    0.000002\n",
       "1696.60    0.000002\n",
       "2960.37    0.000002\n",
       "896.87     0.000002\n",
       "4508.02    0.000002\n",
       "Name: VL_RENDA_FAMILIAR_BRUTA_MENSAL, Length: 198713, dtype: float64"
      ]
     },
     "execution_count": 48,
     "metadata": {},
     "output_type": "execute_result"
    }
   ],
   "source": [
    "base_df['VL_RENDA_FAMILIAR_BRUTA_MENSAL'].value_counts(normalize = True)"
   ]
  },
  {
   "cell_type": "markdown",
   "metadata": {},
   "source": [
    "NAs"
   ]
  },
  {
   "cell_type": "code",
   "execution_count": null,
   "metadata": {},
   "outputs": [],
   "source": [
    "sum(pd.isnull(base_df['VL_RENDA_FAMILIAR_BRUTA_MENSAL']))"
   ]
  },
  {
   "cell_type": "markdown",
   "metadata": {},
   "source": [
    "### Municipality"
   ]
  },
  {
   "cell_type": "markdown",
   "metadata": {},
   "source": [
    "NAs"
   ]
  },
  {
   "cell_type": "code",
   "execution_count": null,
   "metadata": {},
   "outputs": [],
   "source": [
    "sum(pd.isnull(base_df['NO_MUNICIPIO']))\n",
    "(base_df['NO_MUNICIPIO'].isnull().sum() * 100) / len(base_df)"
   ]
  },
  {
   "cell_type": "code",
   "execution_count": null,
   "metadata": {},
   "outputs": [],
   "source": [
    "base_df['NO_MUNICIPIO'].value_counts(normalize = True)"
   ]
  },
  {
   "cell_type": "markdown",
   "metadata": {},
   "source": [
    "### Ethnicity"
   ]
  },
  {
   "cell_type": "markdown",
   "metadata": {},
   "source": [
    "NAs"
   ]
  },
  {
   "cell_type": "code",
   "execution_count": null,
   "metadata": {},
   "outputs": [],
   "source": [
    "sum(pd.isnull(base_df['DS_RACA_COR']))"
   ]
  },
  {
   "cell_type": "code",
   "execution_count": null,
   "metadata": {},
   "outputs": [],
   "source": [
    "base_df['DS_RACA_COR'].value_counts(normalize = True)"
   ]
  },
  {
   "cell_type": "markdown",
   "metadata": {},
   "source": [
    "### Year of Conclusion High School"
   ]
  },
  {
   "cell_type": "markdown",
   "metadata": {},
   "source": [
    "NAs"
   ]
  },
  {
   "cell_type": "code",
   "execution_count": null,
   "metadata": {},
   "outputs": [],
   "source": [
    "sum(pd.isnull(base_df['NU_ANO_CONCLUSAO_ENSINO_MEDIO']))\n",
    "(base_df['NU_ANO_CONCLUSAO_ENSINO_MEDIO'].isnull().sum() * 100) / len(base_df)"
   ]
  },
  {
   "cell_type": "code",
   "execution_count": null,
   "metadata": {},
   "outputs": [],
   "source": [
    "base_df['NU_ANO_CONCLUSAO_ENSINO_MEDIO'].value_counts(normalize = True)"
   ]
  },
  {
   "cell_type": "markdown",
   "metadata": {},
   "source": [
    "### State of the course (abbr.)"
   ]
  },
  {
   "cell_type": "markdown",
   "metadata": {},
   "source": [
    "NUs"
   ]
  },
  {
   "cell_type": "code",
   "execution_count": null,
   "metadata": {},
   "outputs": [],
   "source": [
    "(base_df['SG_UF_CURSO'].isnull().sum() * 100) / len(base_df)"
   ]
  },
  {
   "cell_type": "code",
   "execution_count": null,
   "metadata": {},
   "outputs": [],
   "source": [
    "base_df['SG_UF_CURSO'].value_counts(normalize = True)"
   ]
  },
  {
   "cell_type": "markdown",
   "metadata": {},
   "source": [
    "### Number of semesters to complete the course"
   ]
  },
  {
   "cell_type": "markdown",
   "metadata": {},
   "source": [
    "NAs"
   ]
  },
  {
   "cell_type": "code",
   "execution_count": null,
   "metadata": {},
   "outputs": [],
   "source": [
    "(base_df['QT_SEMESTRES_CURSO'].isnull().sum() * 100) / len(base_df)"
   ]
  },
  {
   "cell_type": "code",
   "execution_count": null,
   "metadata": {},
   "outputs": [],
   "source": [
    "base_df['QT_SEMESTRES_CURSO'].value_counts(normalize = True)"
   ]
  },
  {
   "cell_type": "code",
   "execution_count": null,
   "metadata": {},
   "outputs": [],
   "source": [
    "base_df01 = base_df.loc[:,[\"QT_SEMESTRES_CURSO\",\"QT_SEMESTRE_FINANCIAMENTO\",\"NU_PERCENT_SOLICITADO_FINANC\"]]"
   ]
  },
  {
   "cell_type": "code",
   "execution_count": null,
   "metadata": {},
   "outputs": [],
   "source": [
    "base_df01.head(20)"
   ]
  },
  {
   "cell_type": "markdown",
   "metadata": {},
   "source": [
    "### Number of semesters included in the loan"
   ]
  },
  {
   "cell_type": "markdown",
   "metadata": {},
   "source": [
    "NAs"
   ]
  },
  {
   "cell_type": "code",
   "execution_count": null,
   "metadata": {},
   "outputs": [],
   "source": [
    "(base_df01.isnull().sum() * 100) / len(base_df)"
   ]
  },
  {
   "cell_type": "code",
   "execution_count": null,
   "metadata": {},
   "outputs": [],
   "source": [
    "base_df['QT_SEMESTRE_FINANCIAMENTO'].value_counts(normalize = True)"
   ]
  },
  {
   "cell_type": "markdown",
   "metadata": {},
   "source": [
    "### Tuition Fee with discount"
   ]
  },
  {
   "cell_type": "markdown",
   "metadata": {},
   "source": [
    "NAs"
   ]
  },
  {
   "cell_type": "code",
   "execution_count": null,
   "metadata": {},
   "outputs": [],
   "source": [
    "(base_df['VL_SEMESTRE_COM_DESCONTO'].isnull().sum() * 100) / len(base_df)"
   ]
  },
  {
   "cell_type": "code",
   "execution_count": null,
   "metadata": {},
   "outputs": [],
   "source": [
    "base_df['VL_SEMESTRE_COM_DESCONTO'].value_counts(normalize = True)"
   ]
  },
  {
   "cell_type": "markdown",
   "metadata": {},
   "source": [
    "### Days of Delay"
   ]
  },
  {
   "cell_type": "markdown",
   "metadata": {},
   "source": [
    "NAs"
   ]
  },
  {
   "cell_type": "code",
   "execution_count": null,
   "metadata": {},
   "outputs": [],
   "source": [
    "(base_df['nu_dias_atraso'].isnull().sum() * 100) / len(base_df)"
   ]
  },
  {
   "cell_type": "code",
   "execution_count": null,
   "metadata": {},
   "outputs": [],
   "source": [
    "base_df['nu_dias_atraso'].value_counts(normalize = True)"
   ]
  },
  {
   "cell_type": "code",
   "execution_count": null,
   "metadata": {},
   "outputs": [],
   "source": [
    "base_df['nu_dias_atraso'].plot.hist()"
   ]
  },
  {
   "cell_type": "markdown",
   "metadata": {},
   "source": [
    "### Year of Birth"
   ]
  },
  {
   "cell_type": "markdown",
   "metadata": {},
   "source": [
    "NAs"
   ]
  },
  {
   "cell_type": "code",
   "execution_count": null,
   "metadata": {},
   "outputs": [],
   "source": [
    "(base_df['ANO_NASC'].isnull().sum() * 100) / len(base_df)"
   ]
  },
  {
   "cell_type": "code",
   "execution_count": null,
   "metadata": {},
   "outputs": [],
   "source": [
    "base_df['ANO_NASC'].isnull().sum()"
   ]
  },
  {
   "cell_type": "code",
   "execution_count": null,
   "metadata": {},
   "outputs": [],
   "source": [
    "base_df['ANO_NASC'].value_counts(normalize = True)"
   ]
  },
  {
   "cell_type": "markdown",
   "metadata": {},
   "source": [
    "### Value financed with resources from student"
   ]
  },
  {
   "cell_type": "markdown",
   "metadata": {},
   "source": [
    "NAs"
   ]
  },
  {
   "cell_type": "code",
   "execution_count": null,
   "metadata": {},
   "outputs": [],
   "source": [
    "(base_df['VL_FINANC_RECURSO_ALUNO'].isnull().sum() * 100) / len(base_df)"
   ]
  },
  {
   "cell_type": "markdown",
   "metadata": {},
   "source": [
    "base_df['VL_FINANC_RECURSO_ALUNO'].value_counts(normalize = True)"
   ]
  },
  {
   "cell_type": "markdown",
   "metadata": {},
   "source": [
    "## Diego\n",
    "\n",
    "### Semester in which  the student started the course\n",
    "\n",
    "`NU_ANO_SEMESTRE_INSCRICAO`\n",
    "\n",
    "The format is SYYYY. Where S is the semester and can be 1 or 2, and YYYY is the year with four digits.\n"
   ]
  },
  {
   "cell_type": "code",
   "execution_count": 5,
   "metadata": {},
   "outputs": [
    {
     "data": {
      "text/plain": [
       "12014    206755\n",
       "12013    117744\n",
       "22014    114742\n",
       "22013     76468\n",
       "12012     56098\n",
       "22012     40732\n",
       "22011     13017\n",
       "12011      8475\n",
       "22010      2532\n",
       "12010      1166\n",
       "12009        55\n",
       "22009        38\n",
       "Name: NU_ANO_SEMESTRE_INSCRICAO, dtype: int64"
      ]
     },
     "execution_count": 5,
     "metadata": {},
     "output_type": "execute_result"
    }
   ],
   "source": [
    "base_df = base_df.astype({'NU_ANO_SEMESTRE_INSCRICAO':str})\n",
    "base_df['NU_ANO_SEMESTRE_INSCRICAO'].value_counts()"
   ]
  },
  {
   "cell_type": "code",
   "execution_count": 6,
   "metadata": {},
   "outputs": [
    {
     "data": {
      "text/plain": [
       "0.0"
      ]
     },
     "execution_count": 6,
     "metadata": {},
     "output_type": "execute_result"
    }
   ],
   "source": [
    "(base_df['NU_ANO_SEMESTRE_INSCRICAO'].isnull().sum() * 100) / len(base_df)"
   ]
  },
  {
   "cell_type": "code",
   "execution_count": 7,
   "metadata": {},
   "outputs": [
    {
     "data": {
      "text/plain": [
       "<AxesSubplot:>"
      ]
     },
     "execution_count": 7,
     "metadata": {},
     "output_type": "execute_result"
    },
    {
     "data": {
      "image/png": "[encoded data removed]",
      "text/plain": [
       "<Figure size 432x288 with 1 Axes>"
      ]
     },
     "metadata": {
      "needs_background": "light"
     },
     "output_type": "display_data"
    }
   ],
   "source": [
    "base_df['NU_ANO_SEMESTRE_INSCRICAO'].value_counts().plot(kind='barh')\n"
   ]
  },
  {
   "cell_type": "markdown",
   "metadata": {},
   "source": [
    "### Evaluation of the University Quality by the Ministry of Education\n",
    "\n",
    "`VL_AVALIACAO_IGC`\n",
    "The IGC is a rating that measures some aspects like qualification of the professors, the installations like laboratories and also the leaning outcomes of the students. This rating aggregates information about undergraduate and graduate courses offered by the univeristy. The rate ranges froma minimum of 0"
   ]
  },
  {
   "cell_type": "code",
   "execution_count": 8,
   "metadata": {},
   "outputs": [
    {
     "data": {
      "text/plain": [
       "<AxesSubplot:ylabel='Frequency'>"
      ]
     },
     "execution_count": 8,
     "metadata": {},
     "output_type": "execute_result"
    },
    {
     "data": {
      "image/png": "[encoded data removed]",
      "text/plain": [
       "<Figure size 432x288 with 1 Axes>"
      ]
     },
     "metadata": {
      "needs_background": "light"
     },
     "output_type": "display_data"
    }
   ],
   "source": [
    "#base_df['VL_AVALIACAO_IGC'].value_counts().plot(kind='barh')\n",
    "base_df['VL_AVALIACAO_IGC'].plot.hist()"
   ]
  },
  {
   "cell_type": "code",
   "execution_count": 10,
   "metadata": {},
   "outputs": [
    {
     "data": {
      "text/plain": [
       "0.366403165773523"
      ]
     },
     "execution_count": 10,
     "metadata": {},
     "output_type": "execute_result"
    }
   ],
   "source": [
    "(base_df['VL_AVALIACAO_IGC'].isnull().sum() * 100) / len(base_df)"
   ]
  },
  {
   "cell_type": "code",
   "execution_count": 9,
   "metadata": {},
   "outputs": [
    {
     "data": {
      "text/plain": [
       "2337"
      ]
     },
     "execution_count": 9,
     "metadata": {},
     "output_type": "execute_result"
    }
   ],
   "source": [
    "base_df['VL_AVALIACAO_IGC'].isnull().sum()"
   ]
  },
  {
   "cell_type": "markdown",
   "metadata": {},
   "source": [
    "### Evaluation by the Ministry of Education\n",
    "`VL_FAIXA_CPC` \n",
    "`VL_FAIXA_CC`\n",
    "\n",
    "The CPC (Preliminary Course Grade) is an evaluation of the specific course quality. It comprehends the results students take to measure their knowledge in the field of study, the qualification od the instructors, the students' perception towards their formation period. The CPC is a preliminary grade, the definite grade is the CC nad has the same meaning.  "
   ]
  },
  {
   "cell_type": "code",
   "execution_count": 65,
   "metadata": {},
   "outputs": [
    {
     "data": {
      "text/plain": [
       "3.0    0.535433\n",
       "4.0    0.234072\n",
       "0.0    0.121976\n",
       "2.0    0.090323\n",
       "5.0    0.017061\n",
       "1.0    0.001136\n",
       "Name: VL_FAIXA_CPC, dtype: float64"
      ]
     },
     "execution_count": 65,
     "metadata": {},
     "output_type": "execute_result"
    }
   ],
   "source": [
    "base_df['VL_FAIXA_CPC'].value_counts(normalize=True)\n"
   ]
  },
  {
   "cell_type": "code",
   "execution_count": 11,
   "metadata": {},
   "outputs": [
    {
     "data": {
      "text/plain": [
       "22.4126793995817"
      ]
     },
     "execution_count": 11,
     "metadata": {},
     "output_type": "execute_result"
    }
   ],
   "source": [
    "(base_df['VL_FAIXA_CPC'].isnull().sum() * 100) / len(base_df)"
   ]
  },
  {
   "cell_type": "code",
   "execution_count": 66,
   "metadata": {},
   "outputs": [
    {
     "data": {
      "text/plain": [
       "<AxesSubplot:ylabel='Frequency'>"
      ]
     },
     "execution_count": 66,
     "metadata": {},
     "output_type": "execute_result"
    },
    {
     "data": {
      "image/png": "[encoded data removed]",
      "text/plain": [
       "<Figure size 432x288 with 1 Axes>"
      ]
     },
     "metadata": {
      "needs_background": "light"
     },
     "output_type": "display_data"
    }
   ],
   "source": [
    "base_df['VL_FAIXA_CPC'].plot.hist()"
   ]
  },
  {
   "cell_type": "code",
   "execution_count": 87,
   "metadata": {},
   "outputs": [
    {
     "data": {
      "text/plain": [
       "4.0    0.474226\n",
       "3.0    0.411487\n",
       "5.0    0.107567\n",
       "2.0    0.004363\n",
       "0.0    0.002349\n",
       "1.0    0.000009\n",
       "Name: VL_FAIXA_CC, dtype: float64"
      ]
     },
     "execution_count": 87,
     "metadata": {},
     "output_type": "execute_result"
    }
   ],
   "source": [
    "base_df['VL_FAIXA_CC'].value_counts(normalize=True)"
   ]
  },
  {
   "cell_type": "code",
   "execution_count": 12,
   "metadata": {},
   "outputs": [
    {
     "data": {
      "text/plain": [
       "31.11056062663251"
      ]
     },
     "execution_count": 12,
     "metadata": {},
     "output_type": "execute_result"
    }
   ],
   "source": [
    "(base_df['VL_FAIXA_CC'].isnull().sum() * 100) / len(base_df)"
   ]
  },
  {
   "cell_type": "code",
   "execution_count": 88,
   "metadata": {},
   "outputs": [
    {
     "data": {
      "text/plain": [
       "<AxesSubplot:ylabel='Frequency'>"
      ]
     },
     "execution_count": 88,
     "metadata": {},
     "output_type": "execute_result"
    },
    {
     "data": {
      "image/png": "[encoded data removed]",
      "text/plain": [
       "<Figure size 432x288 with 1 Axes>"
      ]
     },
     "metadata": {
      "needs_background": "light"
     },
     "output_type": "display_data"
    }
   ],
   "source": [
    "base_df['VL_FAIXA_CC'].plot.hist()"
   ]
  },
  {
   "cell_type": "markdown",
   "metadata": {},
   "source": [
    "### Amount of semesters paid with the loan\n",
    "\n",
    "`QT_SEMESTRE_FINANCIAMENTO` refers to the total amount of semester tuition payed with the loan"
   ]
  },
  {
   "cell_type": "code",
   "execution_count": 68,
   "metadata": {},
   "outputs": [
    {
     "data": {
      "text/plain": [
       "<AxesSubplot:>"
      ]
     },
     "execution_count": 68,
     "metadata": {},
     "output_type": "execute_result"
    },
    {
     "data": {
      "image/png": "[encoded data removed]",
      "text/plain": [
       "<Figure size 432x288 with 1 Axes>"
      ]
     },
     "metadata": {
      "needs_background": "light"
     },
     "output_type": "display_data"
    }
   ],
   "source": [
    "base_df['QT_SEMESTRE_FINANCIAMENTO'].value_counts().plot(kind='barh')"
   ]
  },
  {
   "cell_type": "code",
   "execution_count": 13,
   "metadata": {},
   "outputs": [
    {
     "data": {
      "text/plain": [
       "0.0"
      ]
     },
     "execution_count": 13,
     "metadata": {},
     "output_type": "execute_result"
    }
   ],
   "source": [
    "(base_df['QT_SEMESTRE_FINANCIAMENTO'].isnull().sum() * 100) / len(base_df)"
   ]
  },
  {
   "cell_type": "markdown",
   "metadata": {},
   "source": [
    "### Family Size\n",
    "\n",
    "`QT_MEMBRO` refers to the number of members in the family.\n"
   ]
  },
  {
   "cell_type": "code",
   "execution_count": 72,
   "metadata": {},
   "outputs": [
    {
     "data": {
      "text/plain": [
       "<AxesSubplot:>"
      ]
     },
     "execution_count": 72,
     "metadata": {},
     "output_type": "execute_result"
    },
    {
     "data": {
      "image/png": "[encoded data removed]",
      "text/plain": [
       "<Figure size 432x288 with 1 Axes>"
      ]
     },
     "metadata": {
      "needs_background": "light"
     },
     "output_type": "display_data"
    }
   ],
   "source": [
    "base_df['QT_MEMBRO'].value_counts().plot(kind='barh')"
   ]
  },
  {
   "cell_type": "code",
   "execution_count": 14,
   "metadata": {},
   "outputs": [
    {
     "data": {
      "text/plain": [
       "0.021792914010491955"
      ]
     },
     "execution_count": 14,
     "metadata": {},
     "output_type": "execute_result"
    }
   ],
   "source": [
    "(base_df['QT_MEMBRO'].isnull().sum() * 100) / len(base_df)"
   ]
  },
  {
   "cell_type": "markdown",
   "metadata": {},
   "source": [
    "### Family Per Capita Income\n",
    "`VL_RENDA_PER_CAPITA is family the per capita income. (Normalizar - Por 100)"
   ]
  },
  {
   "cell_type": "code",
   "execution_count": 79,
   "metadata": {},
   "outputs": [
    {
     "data": {
      "text/plain": [
       "count    6.371730e+05\n",
       "mean     7.905209e+02\n",
       "std      1.683584e+04\n",
       "min      3.670000e+00\n",
       "25%      4.337400e+02\n",
       "50%      6.665600e+02\n",
       "75%      9.060000e+02\n",
       "max      1.331453e+07\n",
       "Name: VL_RENDA_PER_CAPITA, dtype: float64"
      ]
     },
     "execution_count": 79,
     "metadata": {},
     "output_type": "execute_result"
    }
   ],
   "source": [
    "base_df['VL_RENDA_PER_CAPITA'].describe()"
   ]
  },
  {
   "cell_type": "code",
   "execution_count": 15,
   "metadata": {},
   "outputs": [
    {
     "data": {
      "text/plain": [
       "0.10175252656697323"
      ]
     },
     "execution_count": 15,
     "metadata": {},
     "output_type": "execute_result"
    }
   ],
   "source": [
    "(base_df['VL_RENDA_PER_CAPITA'].isnull().sum() * 100) / len(base_df)"
   ]
  },
  {
   "cell_type": "markdown",
   "metadata": {},
   "source": [
    "### Percentage of the Income\n",
    "`NU_PERCENTUAL_COMPROMETIMENTO` is the her own resources the student uses to complement the loan to pay the tuition. Not all the loans cover the total value of the tuition."
   ]
  },
  {
   "cell_type": "code",
   "execution_count": 78,
   "metadata": {},
   "outputs": [
    {
     "data": {
      "text/plain": [
       "count    637822.000000\n",
       "mean        145.762809\n",
       "std         134.063725\n",
       "min           0.000000\n",
       "25%          75.590000\n",
       "50%         110.350000\n",
       "75%         171.600000\n",
       "max        9695.500000\n",
       "Name: NU_PERCENTUAL_COMPROMETIMENTO, dtype: float64"
      ]
     },
     "execution_count": 78,
     "metadata": {},
     "output_type": "execute_result"
    }
   ],
   "source": [
    "base_df['NU_PERCENTUAL_COMPROMETIMENTO'].describe()"
   ]
  },
  {
   "cell_type": "code",
   "execution_count": 17,
   "metadata": {},
   "outputs": [
    {
     "data": {
      "text/plain": [
       "0.0"
      ]
     },
     "execution_count": 17,
     "metadata": {},
     "output_type": "execute_result"
    }
   ],
   "source": [
    "(base_df['NU_PERCENTUAL_COMPROMETIMENTO'].isnull().sum() * 100) / len(base_df)"
   ]
  },
  {
   "cell_type": "markdown",
   "metadata": {},
   "source": [
    "### Loan Value\n",
    "\n",
    "`VL_TOTAL_FINANCIAMENTO`\n",
    "\n",
    "Total amount of the loan. (normalizar por 100)"
   ]
  },
  {
   "cell_type": "code",
   "execution_count": 77,
   "metadata": {},
   "outputs": [
    {
     "data": {
      "text/plain": [
       "count    637822.000000\n",
       "mean      50137.744192\n",
       "std       47961.285900\n",
       "min         600.000000\n",
       "25%       27704.400000\n",
       "50%       42121.840000\n",
       "75%       57825.000000\n",
       "max      580998.600000\n",
       "Name: VL_TOTAL_FINANCIAMENTO, dtype: float64"
      ]
     },
     "execution_count": 77,
     "metadata": {},
     "output_type": "execute_result"
    }
   ],
   "source": [
    "base_df['VL_TOTAL_FINANCIAMENTO'].describe()"
   ]
  },
  {
   "cell_type": "code",
   "execution_count": 18,
   "metadata": {},
   "outputs": [
    {
     "data": {
      "text/plain": [
       "0.0"
      ]
     },
     "execution_count": 18,
     "metadata": {},
     "output_type": "execute_result"
    }
   ],
   "source": [
    "(base_df['VL_TOTAL_FINANCIAMENTO'].isnull().sum() * 100) / len(base_df)"
   ]
  },
  {
   "cell_type": "markdown",
   "metadata": {},
   "source": [
    "### Loan Limit\n",
    "\n",
    "`VL_LIMITE_GLOBAL` (normalizar por 100)\n",
    "\n",
    "Loan limit, in case the student fail some course and has to take it again in another semester."
   ]
  },
  {
   "cell_type": "code",
   "execution_count": 76,
   "metadata": {},
   "outputs": [
    {
     "data": {
      "text/plain": [
       "count    637822.000000\n",
       "mean      50795.837882\n",
       "std       46979.102714\n",
       "min        1121.100000\n",
       "25%       27377.500000\n",
       "50%       43060.145000\n",
       "75%       59999.620000\n",
       "max      673441.990000\n",
       "Name: VL_LIMITE_GLOBAL, dtype: float64"
      ]
     },
     "execution_count": 76,
     "metadata": {},
     "output_type": "execute_result"
    }
   ],
   "source": [
    "#Colinear com valor total do financiamento\n",
    "base_df['VL_LIMITE_GLOBAL'].describe()"
   ]
  },
  {
   "cell_type": "code",
   "execution_count": 19,
   "metadata": {},
   "outputs": [
    {
     "data": {
      "text/plain": [
       "0.0"
      ]
     },
     "execution_count": 19,
     "metadata": {},
     "output_type": "execute_result"
    }
   ],
   "source": [
    "(base_df['VL_LIMITE_GLOBAL'].isnull().sum() * 100) / len(base_df)"
   ]
  },
  {
   "cell_type": "markdown",
   "metadata": {},
   "source": [
    "### Contract Date \n",
    "\n",
    "`dt_inicio_cont`\n",
    "\n",
    "The date when the contract was signed by the parts.\n"
   ]
  },
  {
   "cell_type": "code",
   "execution_count": 86,
   "metadata": {},
   "outputs": [
    {
     "data": {
      "text/plain": [
       "<AxesSubplot:xlabel='dt_inicio_cont'>"
      ]
     },
     "execution_count": 86,
     "metadata": {},
     "output_type": "execute_result"
    },
    {
     "data": {
      "image/png": "[encoded data removed]",
      "text/plain": [
       "<Figure size 432x288 with 1 Axes>"
      ]
     },
     "metadata": {
      "needs_background": "light"
     },
     "output_type": "display_data"
    }
   ],
   "source": [
    "#base_df['dt_inicio_cont'].plot.hist()\n",
    "base_df.groupby(base_df[\"dt_inicio_cont\"].dt.year).count().plot(kind=\"bar\")\n"
   ]
  },
  {
   "cell_type": "code",
   "execution_count": 20,
   "metadata": {},
   "outputs": [
    {
     "data": {
      "text/plain": [
       "0.0"
      ]
     },
     "execution_count": 20,
     "metadata": {},
     "output_type": "execute_result"
    }
   ],
   "source": [
    "(base_df['dt_inicio_cont'].isnull().sum() * 100) / len(base_df)"
   ]
  },
  {
   "cell_type": "code",
   "execution_count": null,
   "metadata": {},
   "outputs": [],
   "source": []
  }
 ],
 "metadata": {
  "colab": {
   "collapsed_sections": [
    "wYbmwg7vwojn",
    "PXLW7KgeyO4a",
    "TuVaJRgBy1M1",
    "rsepUwj-zMUP",
    "HBec8LlM0jXZ",
    "3hWuEsqp00qM",
    "nXSa65zw1gt3",
    "Mbs4brqy2fW4",
    "_-LOBsMJ22o-",
    "96nSr7M_3opZ"
   ],
   "include_colab_link": true,
   "name": "Drive Dataset.ipynb",
   "provenance": []
  },
  "kernelspec": {
   "display_name": "Python 3",
   "language": "python",
   "name": "python3"
  },
  "language_info": {
   "codemirror_mode": {
    "name": "ipython",
    "version": 3
   },
   "file_extension": ".py",
   "mimetype": "text/x-python",
   "name": "python",
   "nbconvert_exporter": "python",
   "pygments_lexer": "ipython3",
   "version": "3.8.3"
  }
 },
 "nbformat": 4,
 "nbformat_minor": 4
}
