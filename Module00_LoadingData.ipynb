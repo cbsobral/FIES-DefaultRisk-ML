{
  "nbformat": 4,
  "nbformat_minor": 0,
  "metadata": {
    "accelerator": "GPU",
    "colab": {
      "name": "Module00_LoadingData.ipynb",
      "provenance": [],
      "collapsed_sections": [],
      "toc_visible": true
    },
    "kernelspec": {
      "display_name": "Python 3",
      "language": "python",
      "name": "python3"
    },
    "language_info": {
      "codemirror_mode": {
        "name": "ipython",
        "version": 3
      },
      "file_extension": ".py",
      "mimetype": "text/x-python",
      "name": "python",
      "nbconvert_exporter": "python",
      "pygments_lexer": "ipython3",
      "version": "3.8.3"
    }
  },
  "cells": [
    {
      "cell_type": "markdown",
      "metadata": {
        "id": "view-in-github"
      },
      "source": [
        "<a href=\"https://colab.research.google.com/github/cbsobral/ml-fies/blob/main/Module00_LoadingData.ipynb\" target=\"_parent\"><img src=\"https://colab.research.google.com/assets/colab-badge.svg\" alt=\"Open In Colab\"/></a>"
      ]
    },
    {
      "cell_type": "markdown",
      "metadata": {
        "id": "qSSIbHD3ogH6"
      },
      "source": [
        "## Module 00 - Create Train and Test Sets\n",
        "\n",
        "In this first module, we perform the following steps:\n",
        "\n",
        "1. Load the data from Google Drive in two parts (the file is too big to load at once);\n",
        "2. Exclude irrelevant variables or variables with too many missing values;\n",
        "3. Rename variables in English and whenever possible with shorter names;\n",
        "4. Perform correlation analysis on groups of variables. "
      ]
    },
    {
      "cell_type": "markdown",
      "metadata": {
        "id": "D15x3tAyogIC"
      },
      "source": [
        "### 1 - Load Data\n",
        "\n"
      ]
    },
    {
      "cell_type": "code",
      "metadata": {
        "colab": {
          "base_uri": "https://localhost:8080/"
        },
        "id": "5AkGS1VgogID",
        "outputId": "b1492793-4583-4e65-f724-4a40a4b7c28d"
      },
      "source": [
        "import pandas as pd\n",
        "\n",
        "url_a = \"https://drive.google.com/file/d/1prPbFSiXFTHmTHzXTGxy4HrtRxXUHhce/view?usp=sharing\"\n",
        "path_a = \"https://drive.google.com/uc?export=download&id=\"+url_a.split(\"/\")[-2]\n",
        "base_df_a = pd.read_excel(path_a)\n",
        "base_df_a.shape"
      ],
      "execution_count": 34,
      "outputs": [
        {
          "output_type": "execute_result",
          "data": {
            "text/plain": [
              "(309999, 37)"
            ]
          },
          "metadata": {
            "tags": []
          },
          "execution_count": 34
        }
      ]
    },
    {
      "cell_type": "code",
      "metadata": {
        "colab": {
          "base_uri": "https://localhost:8080/"
        },
        "id": "hyJ2yJuqogIG",
        "outputId": "6fdfb761-56b4-47dc-ee6e-ee5ccf233c11"
      },
      "source": [
        "url_b = \"https://drive.google.com/file/d/1nGckSszPPifPvR3o5FeYaKArUYbfjHGn/view?usp=sharing\"\n",
        "path_b = \"https://drive.google.com/uc?export=download&id=\"+url_b.split(\"/\")[-2]\n",
        "base_df_b = pd.read_excel(path_b)\n",
        "base_df_b.shape"
      ],
      "execution_count": 35,
      "outputs": [
        {
          "output_type": "execute_result",
          "data": {
            "text/plain": [
              "(327823, 37)"
            ]
          },
          "metadata": {
            "tags": []
          },
          "execution_count": 35
        }
      ]
    },
    {
      "cell_type": "code",
      "metadata": {
        "colab": {
          "base_uri": "https://localhost:8080/"
        },
        "id": "1nhq9lgWogII",
        "outputId": "e75b880f-9f27-4cd4-e69b-f76de7890c36"
      },
      "source": [
        "complete_set = base_df_a.append(base_df_b)\n",
        "complete_set.shape"
      ],
      "execution_count": 93,
      "outputs": [
        {
          "output_type": "execute_result",
          "data": {
            "text/plain": [
              "(637822, 37)"
            ]
          },
          "metadata": {
            "tags": []
          },
          "execution_count": 93
        }
      ]
    },
    {
      "cell_type": "markdown",
      "metadata": {
        "id": "SjnAzKW4ogIJ"
      },
      "source": [
        "### 2 - Adjust Variables"
      ]
    },
    {
      "cell_type": "markdown",
      "metadata": {
        "id": "INvPSP-TguA-"
      },
      "source": [
        "In this section, we rename the variables in the dataset and then create three new ones: \n",
        "\n",
        "*   `student`: binary variable to indicate whether the borrower has other occupation outside of being a student;\n",
        "*   `default`: binary varible -- 1 if deliquency period of the loan is superior to 360 days and 0 otherwise;\n",
        "* `age`: age calculate from the birth year. \n",
        "\n",
        "---\n",
        "\n",
        "\n",
        "\n"
      ]
    },
    {
      "cell_type": "code",
      "metadata": {
        "id": "Ky27V0YJogIK",
        "colab": {
          "base_uri": "https://localhost:8080/"
        },
        "outputId": "ba344099-924e-4a9c-bcaf-20061b656c89"
      },
      "source": [
        "# Student\n",
        "complete_set = complete_set.assign(student = 1*(complete_set[\"DS_OCUPACAO\"]==\"Estudante\"))\n",
        "\n",
        "# Default\n",
        "complete_set = complete_set.assign(default = 1*(complete_set[\"nu_dias_atraso\"]>=360))\n",
        "\n",
        "# Age\n",
        "complete_set = complete_set[pd.to_numeric(complete_set[\"ANO_NASC\"],errors='coerce').notna()]\n",
        "complete_set = complete_set.assign(age = 2015 - (complete_set[\"ANO_NASC\"]))\n",
        "\n",
        "# Limiting the phases of the contract to include only individuals for which there is variation in defalut:\n",
        "complete_set = complete_set.loc[complete_set[\"fase_contrato\"] != \"Carencia\"] \n",
        "complete_set = complete_set.loc[complete_set[\"fase_contrato\"] != \"Utilizacao\"] \n",
        "complete_set.shape\n",
        "\n"
      ],
      "execution_count": 94,
      "outputs": [
        {
          "output_type": "execute_result",
          "data": {
            "text/plain": [
              "(454152, 40)"
            ]
          },
          "metadata": {
            "tags": []
          },
          "execution_count": 94
        }
      ]
    },
    {
      "cell_type": "code",
      "metadata": {
        "colab": {
          "base_uri": "https://localhost:8080/"
        },
        "id": "9vkpYPuP98eb",
        "outputId": "4e8925c8-46df-4e85-d189-120a8cc35614"
      },
      "source": [
        "# Limiting the levels of NO_CURSO\n",
        "complete_set[\"NO_CURSO\"].value_counts(normalize=True).head(20)\n",
        "\n",
        "top_20_degrees = ['DIREITO', 'ADMINISTRAÇÃO','PEDAGOGIA','ENGENHARIA CIVIL',\n",
        "                  'ENFERMAGEM', 'CIÊNCIAS CONTÁBEIS', 'EDUCAÇÃO FÍSICA',\n",
        "                  'PSICOLOGIA', 'FISIOTERAPIA', 'ENGENHARIA DE PRODUÇÃO',\n",
        "                  'ODONTOLOGIA', 'ENGENHARIA MECÂNICA', 'ARQUITETURA E URBANISMO',\n",
        "                  'NUTRIÇÃO', 'SERVIÇO SOCIAL', 'GESTÃO DE RECURSOS HUMANOS',\n",
        "                  'FARMÁCIA', 'BIOMEDICINA', 'ENGENHARIA ELÉTRICA', 'MEDICINA']\n",
        "\n",
        "complete_set.NO_CURSO[~(complete_set[\"NO_CURSO\"].isin(top_20_degrees))] = \"OUTROS\"\n",
        "\n",
        "complete_set[\"NO_CURSO\"].value_counts(normalize = True).head(22)\n",
        "\n",
        "            \n",
        "\n"
      ],
      "execution_count": 95,
      "outputs": [
        {
          "output_type": "execute_result",
          "data": {
            "text/plain": [
              "OUTROS                        0.213860\n",
              "DIREITO                       0.126290\n",
              "ADMINISTRAÇÃO                 0.107099\n",
              "PEDAGOGIA                     0.079614\n",
              "ENGENHARIA CIVIL              0.063170\n",
              "ENFERMAGEM                    0.057959\n",
              "CIÊNCIAS CONTÁBEIS            0.045863\n",
              "EDUCAÇÃO FÍSICA               0.042567\n",
              "PSICOLOGIA                    0.036043\n",
              "FISIOTERAPIA                  0.026035\n",
              "ENGENHARIA DE PRODUÇÃO        0.025044\n",
              "ODONTOLOGIA                   0.021682\n",
              "ENGENHARIA MECÂNICA           0.020605\n",
              "ARQUITETURA E URBANISMO       0.020476\n",
              "NUTRIÇÃO                      0.020242\n",
              "SERVIÇO SOCIAL                0.019773\n",
              "GESTÃO DE RECURSOS HUMANOS    0.017223\n",
              "FARMÁCIA                      0.016268\n",
              "BIOMEDICINA                   0.014414\n",
              "ENGENHARIA ELÉTRICA           0.013242\n",
              "MEDICINA                      0.012529\n",
              "Name: NO_CURSO, dtype: float64"
            ]
          },
          "metadata": {
            "tags": []
          },
          "execution_count": 95
        }
      ]
    },
    {
      "cell_type": "markdown",
      "metadata": {
        "id": "Vz0wYse9NxJr"
      },
      "source": [
        ""
      ]
    },
    {
      "cell_type": "code",
      "metadata": {
        "colab": {
          "base_uri": "https://localhost:8080/"
        },
        "id": "XOczIl6WI9nu",
        "outputId": "2f415b53-3107-42cd-98d7-7d64e30c7e10"
      },
      "source": [
        "# Limiting the levels of occupation\n",
        "\n",
        "complete_set[\"DS_OCUPACAO\"].value_counts(normalize=True).head(20)\n",
        "complete_set.DS_OCUPACAO[complete_set[\"DS_OCUPACAO\"]!= \"Estudante\"] = \"OUTRAS\"\n",
        "complete_set[\"DS_OCUPACAO\"].value_counts(normalize=True).head(20)\n",
        "\n"
      ],
      "execution_count": 96,
      "outputs": [
        {
          "output_type": "execute_result",
          "data": {
            "text/plain": [
              "OUTRAS       0.54083\n",
              "Estudante    0.45917\n",
              "Name: DS_OCUPACAO, dtype: float64"
            ]
          },
          "metadata": {
            "tags": []
          },
          "execution_count": 96
        }
      ]
    },
    {
      "cell_type": "code",
      "metadata": {
        "colab": {
          "base_uri": "https://localhost:8080/"
        },
        "id": "LeXF5CHMJ6EU",
        "outputId": "4657f729-177a-421f-9262-6f6e28b6ee5a"
      },
      "source": [
        "# Limiting the levels of semester_enroll\n",
        "\n",
        "\n",
        "top_semesters = ['12014', '12013', '22014', '22013', '12012', '22012']\n",
        "\n",
        "complete_set.NU_ANO_SEMESTRE_INSCRICAO.loc[~(complete_set[\"NU_ANO_SEMESTRE_INSCRICAO\"].isin(top_semesters))] = \"before 2012\"\n",
        "\n",
        "complete_set[\"NU_ANO_SEMESTRE_INSCRICAO\"].value_counts(normalize=True).head(20)\n",
        "\n"
      ],
      "execution_count": 97,
      "outputs": [
        {
          "output_type": "execute_result",
          "data": {
            "text/plain": [
              "12014          0.234159\n",
              "12013          0.232528\n",
              "22013          0.140453\n",
              "22014          0.128682\n",
              "12012          0.122186\n",
              "22012          0.087462\n",
              "before 2012    0.054530\n",
              "Name: NU_ANO_SEMESTRE_INSCRICAO, dtype: float64"
            ]
          },
          "metadata": {
            "tags": []
          },
          "execution_count": 97
        }
      ]
    },
    {
      "cell_type": "code",
      "metadata": {
        "colab": {
          "base_uri": "https://localhost:8080/"
        },
        "id": "gz8vy6TVogIK",
        "outputId": "438c3ad7-0e9a-4744-c605-d4ac543a3369"
      },
      "source": [
        "new_names ={\"NU_ANO_SEMESTRE_INSCRICAO\":\"semester_enroll\",\n",
        "            \"SG_SEXO\":\"gender\",\n",
        "            \"DS_OCUPACAO\":\"occupation\",\n",
        "            \"DS_RACA_COR\" : \"ethnicity\",\n",
        "            \"NU_ANO_CONCLUSAO_ENSINO_MEDIO\":\"high_school_endyear\",\n",
        "            \"SG_UF_CURSO\": \"state_course\",\n",
        "            \"QT_SEMESTRES_CURSO\": \"n_sem_course\",\n",
        "            \"VL_SEMESTRE_COM_DESCONTO\": \"tuition_discounted\",\n",
        "            \"NU_PERCENT_SOLICITADO_FINANC\":\"perc_requested\",\n",
        "            \"VL_FINANC_RECURSO_ALUNO\":\"student_resource\",\n",
        "            \"ANO_NASC\":\"birth_year\",\n",
        "            \"DS_ESTADO_CIVIL\":\"marital_status\", \n",
        "            \"VL_RENDA_PESSOAL_BRUTA_MENSAL\": \"personal_income\",\n",
        "            \"VL_RENDA_FAMILIAR_BRUTA_MENSAL\": \"family_income\",\n",
        "            \"ST_ENSINO_MEDIO_ESCOLA_PUBLICA\": \"public_hs\",\n",
        "            \"NO_CURSO\": \"degree\",\n",
        "            \"QT_SEMESTRE_CONCLUIDO\": \"n_completed_sem\",\n",
        "            \"VL_SEMESTRE_ATUAL\": \"tuition_current\",\n",
        "            \"VL_FINANCIADO_SEMESTRE\": \"loan_value_sem\",\n",
        "            \"fase_contrato\": \"contract_phase\",\n",
        "            \"vl_divida\": \"total_debt\",            \n",
        "            \"VL_AVALIACAO_IGC\": \"igc\",\n",
        "            \"VL_FAIXA_CPC\": \"cpc\",\n",
        "            \"VL_FAIXA_CC\": \"cc\",\n",
        "            \"QT_SEMESTRE_FINANCIAMENTO\": \"sem_funded\",\n",
        "            \"QT_MEMBRO\": \"fam_size\",\n",
        "            \"VL_RENDA_PER_CAPITA\":\"income_pc\",\n",
        "            \"NU_PERCENTUAL_COMPROMETIMENTO\":\"inc_prop\",\n",
        "            \"VL_TOTAL_FINANCIAMENTO\":\"loan_value\",\n",
        "            \"VL_LIMITE_GLOBAL\":\"loan_limit\",\n",
        "            \"dt_inicio_cont\":\"date_contract\"\n",
        "}\n",
        "\n",
        "complete_set = complete_set.rename(index=str, columns=new_names)\n",
        "print(complete_set.columns)"
      ],
      "execution_count": 98,
      "outputs": [
        {
          "output_type": "stream",
          "text": [
            "Index(['semester_enroll', 'gender', 'occupation', 'marital_status',\n",
            "       'family_income', 'personal_income', 'NO_MUNICIPIO', 'SG_UF',\n",
            "       'ethnicity', 'public_hs', 'high_school_endyear',\n",
            "       'NU_SEMESTRE_REFERENCIA', 'state_course', 'degree', 'igc', 'cpc', 'cc',\n",
            "       'n_sem_course', 'n_completed_sem', 'sem_funded',\n",
            "       'QT_MESES_FINANC_SEMESTRE_ATUAL', 'fam_size', 'income_pc',\n",
            "       'VL_SEMESTRE_SEM_DESCONTO', 'tuition_discounted', 'tuition_current',\n",
            "       'inc_prop', 'perc_requested', 'loan_value_sem', 'student_resource',\n",
            "       'loan_value', 'loan_limit', 'date_contract', 'contract_phase',\n",
            "       'nu_dias_atraso', 'total_debt', 'birth_year', 'student', 'default',\n",
            "       'age'],\n",
            "      dtype='object')\n"
          ],
          "name": "stdout"
        }
      ]
    },
    {
      "cell_type": "markdown",
      "metadata": {
        "id": "rfn09CydogIL"
      },
      "source": [
        "### 3 - Clean Dataset"
      ]
    },
    {
      "cell_type": "markdown",
      "metadata": {
        "id": "ed9JBddKBneb"
      },
      "source": [
        "In this section we drop unecessary variables, deal with wrong entries and outliers, drop NA's and adjust variable types.\n",
        "\n",
        "Most of the variables were dropped due to inconsistencies and missing data. `nu_dias_atraso` was dropped as it was used to create the binary target variable `default`."
      ]
    },
    {
      "cell_type": "code",
      "metadata": {
        "id": "O-5uSQx3tGHY"
      },
      "source": [
        "variables_to_drop = [\"NO_MUNICIPIO\", # municipality\n",
        "                     \"SG_UF\", # state\n",
        "                     \"VL_SEMESTRE_SEM_DESCONTO\", # value of semester without discount\n",
        "                     \"NU_SEMESTRE_REFERENCIA\", # semester of reference\n",
        "                     \"nu_dias_atraso\", # period of deliquency\n",
        "                     \"QT_MESES_FINANC_SEMESTRE_ATUAL\", # number of months for loans\n",
        "                     \"cpc\", # university evaluation\n",
        "                     \"cc\"] # university evaluation\n",
        "\n",
        "complete_set_clean = complete_set.drop(variables_to_drop, axis = 1)                "
      ],
      "execution_count": 99,
      "outputs": []
    },
    {
      "cell_type": "markdown",
      "metadata": {
        "id": "oh4p74NKHWJj"
      },
      "source": [
        "The variable `loan_value_sem` (value of loan in the semester) has over 7,000 entries that are over 99 milion reais. We assume they are coding errors and recalculate them to be the equal to the value of the tuition (`tuition_current`) times the percentage of tuition requested as a loan (`perc_requested`). We also eliminate 4 outliers from `family_income`. Finally we filter `age` to include values ranging between 10 and 100 years old. \n",
        "\n"
      ]
    },
    {
      "cell_type": "code",
      "metadata": {
        "id": "HgSq5ISLvfBt"
      },
      "source": [
        "import numpy as np\n",
        "\n",
        "complete_set_clean['loan_value_sem'] = np.where((complete_set_clean.loan_value_sem > 300000), \n",
        "                                          (complete_set_clean[\"perc_requested\"]/100 * complete_set_clean[\"tuition_current\"]), \n",
        "                                          complete_set_clean.loan_value_sem)"
      ],
      "execution_count": 100,
      "outputs": []
    },
    {
      "cell_type": "code",
      "metadata": {
        "id": "eGRz0Il9guBC"
      },
      "source": [
        "complete_set_clean = complete_set_clean.loc[(complete_set_clean['family_income'] < 100000)] "
      ],
      "execution_count": 101,
      "outputs": []
    },
    {
      "cell_type": "code",
      "metadata": {
        "id": "xgNYTGjBguBD"
      },
      "source": [
        "complete_set_clean = complete_set_clean.loc[(complete_set_clean['age'] < 100) & (complete_set_clean['age'] > 10)] "
      ],
      "execution_count": 102,
      "outputs": []
    },
    {
      "cell_type": "markdown",
      "metadata": {
        "id": "y4bkcOB6Ifdk"
      },
      "source": [
        "For the variables in the list below, we drop NAs, as they do not comprise a large share of observations. After this step, we end up with 620,919 instances. "
      ]
    },
    {
      "cell_type": "code",
      "metadata": {
        "id": "X3smpA04ogIN"
      },
      "source": [
        "complete_set_clean = complete_set_clean.dropna(subset=[\"semester_enroll\",\n",
        "                                                      \"gender\",\n",
        "                                                       \"occupation\",\n",
        "                                                       \"marital_status\",\n",
        "                                                       \"ethnicity\",\n",
        "                                                       \"public_hs\",\n",
        "                                                       \"state_course\",\n",
        "                                                       \"degree\",\n",
        "                                                       \"igc\",\n",
        "                                                       \"contract_phase\",\n",
        "                                                       \"high_school_endyear\"])"
      ],
      "execution_count": 103,
      "outputs": []
    },
    {
      "cell_type": "markdown",
      "metadata": {
        "id": "zsHAKTuFIvov"
      },
      "source": [
        "The last step is adjusting some variable types. "
      ]
    },
    {
      "cell_type": "code",
      "metadata": {
        "id": "itTdp928ogIL"
      },
      "source": [
        "import datetime as dt\n",
        "              \n",
        "complete_set_clean[\"date_contract\"]= complete_set_clean[\"date_contract\"].map(dt.datetime.toordinal)\n",
        "complete_set_clean = complete_set_clean.astype({\"semester_enroll\":str, \"igc\":'int64'})"
      ],
      "execution_count": 104,
      "outputs": []
    },
    {
      "cell_type": "markdown",
      "metadata": {
        "id": "yNI9-n1TsaD4"
      },
      "source": [
        " ### 4 - Correlation Matrix\n",
        "\n",
        "In this section, we perform a quick correlation analysis. The only variable to be dropped is `tuition_discounted`, since it has perfect correlation with another variable (`tuition_current`). The remainder will be subject to further analysis in the future. "
      ]
    },
    {
      "cell_type": "code",
      "metadata": {
        "colab": {
          "base_uri": "https://localhost:8080/"
        },
        "id": "16Dpj4i4sv9K",
        "outputId": "a9f2f767-734d-4c22-b677-a646e01321a6"
      },
      "source": [
        "corr_matrix = complete_set_clean.corr()\n",
        "corr_matrix['default'].sort_values(ascending=False, key=pd.Series.abs)"
      ],
      "execution_count": 105,
      "outputs": [
        {
          "output_type": "execute_result",
          "data": {
            "text/plain": [
              "default                1.000000\n",
              "family_income         -0.245497\n",
              "income_pc             -0.223941\n",
              "n_sem_course          -0.180687\n",
              "perc_requested         0.180169\n",
              "student_resource      -0.175306\n",
              "loan_value            -0.143912\n",
              "tuition_discounted    -0.132852\n",
              "tuition_current       -0.131339\n",
              "sem_funded            -0.122057\n",
              "fam_size              -0.109477\n",
              "igc                   -0.094080\n",
              "inc_prop               0.089520\n",
              "loan_limit            -0.088000\n",
              "student               -0.074627\n",
              "loan_value_sem        -0.073557\n",
              "total_debt            -0.069333\n",
              "n_completed_sem       -0.044509\n",
              "personal_income       -0.028472\n",
              "date_contract          0.010705\n",
              "high_school_endyear    0.010702\n",
              "Name: default, dtype: float64"
            ]
          },
          "metadata": {
            "tags": []
          },
          "execution_count": 105
        }
      ]
    },
    {
      "cell_type": "markdown",
      "metadata": {
        "id": "wsLY_zVXNXb3"
      },
      "source": [
        "For the analysis, two subsets were created: \n",
        "\n",
        "* `corr_income`: containing variables related to family income;\n",
        "* `corr_tuition`: containing variables related to tuition value."
      ]
    },
    {
      "cell_type": "code",
      "metadata": {
        "id": "h96KEl0TtG7p"
      },
      "source": [
        "corr_income = complete_set_clean[['family_income', 'income_pc', 'fam_size', 'default']].copy()\n",
        "corr_tuition = complete_set_clean[['tuition_discounted', 'tuition_current', 'loan_limit', 'loan_value_sem', 'loan_value', 'perc_requested', 'default']].copy()"
      ],
      "execution_count": 106,
      "outputs": []
    },
    {
      "cell_type": "code",
      "metadata": {
        "colab": {
          "base_uri": "https://localhost:8080/",
          "height": 270
        },
        "id": "y0AI0SbrsZh2",
        "outputId": "082c8e41-f26d-4f3b-95e9-203197f991e5"
      },
      "source": [
        "import seaborn as sn\n",
        "import matplotlib.pyplot as plt\n",
        "\n",
        "corrMatrix = corr_income.corr()\n",
        "sn.heatmap(corrMatrix, annot=True)\n",
        "plt.show()"
      ],
      "execution_count": 107,
      "outputs": [
        {
          "output_type": "display_data",
          "data": {
            "image/png": "[encoded data removed]",
            "text/plain": [
              "<Figure size 432x288 with 2 Axes>"
            ]
          },
          "metadata": {
            "tags": [],
            "needs_background": "light"
          }
        }
      ]
    },
    {
      "cell_type": "code",
      "metadata": {
        "colab": {
          "base_uri": "https://localhost:8080/",
          "height": 352
        },
        "id": "dSXk2Pnnz0rz",
        "outputId": "d340fb3a-7d38-44d1-f2d3-9f8f0c67b5f8"
      },
      "source": [
        "corrMatrix = corr_tuition.corr()\n",
        "sn.heatmap(corrMatrix, annot=True)\n",
        "plt.show()"
      ],
      "execution_count": 108,
      "outputs": [
        {
          "output_type": "display_data",
          "data": {
            "image/png": "[encoded data removed]",
            "text/plain": [
              "<Figure size 432x288 with 2 Axes>"
            ]
          },
          "metadata": {
            "tags": [],
            "needs_background": "light"
          }
        }
      ]
    },
    {
      "cell_type": "code",
      "metadata": {
        "id": "dR29SVo06Dak"
      },
      "source": [
        "complete_set_clean = complete_set_clean.drop(\"tuition_discounted\", axis=1)"
      ],
      "execution_count": 109,
      "outputs": []
    },
    {
      "cell_type": "markdown",
      "metadata": {
        "id": "fVwJfudJogIS"
      },
      "source": [
        "### 5 - Creat Train and Test Sets\n",
        "\n",
        "In this section we will create the training and test set using the function *train_test_split* from Scikit-Learn. Two important considerations about our choice:\n",
        "\n",
        "* Our dataset is a sample provided by the Brazilian Governent and will not be updated. Therefore, we chose not to be concerned about future splits with updated data;\n",
        "\n",
        "* Our original data includes 637,822 instances. After cleaning the dataset, we still have 620,919 instances. Thus, we assume it is big enough and do not employ stratified sampling."
      ]
    },
    {
      "cell_type": "code",
      "metadata": {
        "id": "hJuseFTaogIS"
      },
      "source": [
        "from sklearn.model_selection import train_test_split\n",
        "train, test = train_test_split(complete_set_clean, test_size=0.2, random_state=42)"
      ],
      "execution_count": 110,
      "outputs": []
    },
    {
      "cell_type": "markdown",
      "metadata": {
        "id": "Qsaeu5izo8zp"
      },
      "source": [
        "### 6 - Download Sets"
      ]
    },
    {
      "cell_type": "code",
      "metadata": {
        "id": "x5D3kvuso7_R",
        "colab": {
          "base_uri": "https://localhost:8080/",
          "height": 51
        },
        "outputId": "fd10b71f-7ad7-4c23-de0c-bf841ac5d98d"
      },
      "source": [
        "from google.colab import files\n",
        "\n",
        "# Training dataset\n",
        "train.to_csv('train.csv', index=False)\n",
        "files.download('train.csv')\n",
        "\n",
        "# Test dataset\n",
        "test.to_csv('test.csv', index=False)\n",
        "files.download('test.csv')"
      ],
      "execution_count": 111,
      "outputs": [
        {
          "output_type": "display_data",
          "data": {
            "application/javascript": [
              "\n",
              "    async function download(id, filename, size) {\n",
              "      if (!google.colab.kernel.accessAllowed) {\n",
              "        return;\n",
              "      }\n",
              "      const div = document.createElement('div');\n",
              "      const label = document.createElement('label');\n",
              "      label.textContent = `Downloading \"${filename}\": `;\n",
              "      div.appendChild(label);\n",
              "      const progress = document.createElement('progress');\n",
              "      progress.max = size;\n",
              "      div.appendChild(progress);\n",
              "      document.body.appendChild(div);\n",
              "\n",
              "      const buffers = [];\n",
              "      let downloaded = 0;\n",
              "\n",
              "      const channel = await google.colab.kernel.comms.open(id);\n",
              "      // Send a message to notify the kernel that we're ready.\n",
              "      channel.send({})\n",
              "\n",
              "      for await (const message of channel.messages) {\n",
              "        // Send a message to notify the kernel that we're ready.\n",
              "        channel.send({})\n",
              "        if (message.buffers) {\n",
              "          for (const buffer of message.buffers) {\n",
              "            buffers.push(buffer);\n",
              "            downloaded += buffer.byteLength;\n",
              "            progress.value = downloaded;\n",
              "          }\n",
              "        }\n",
              "      }\n",
              "      const blob = new Blob(buffers, {type: 'application/binary'});\n",
              "      const a = document.createElement('a');\n",
              "      a.href = window.URL.createObjectURL(blob);\n",
              "      a.download = filename;\n",
              "      div.appendChild(a);\n",
              "      a.click();\n",
              "      div.remove();\n",
              "    }\n",
              "  "
            ],
            "text/plain": [
              "<IPython.core.display.Javascript object>"
            ]
          },
          "metadata": {
            "tags": []
          }
        },
        {
          "output_type": "display_data",
          "data": {
            "application/javascript": [
              "download(\"download_43c9e551-ac0f-40a7-b2f2-ac6650d519a1\", \"train.csv\", 59363191)"
            ],
            "text/plain": [
              "<IPython.core.display.Javascript object>"
            ]
          },
          "metadata": {
            "tags": []
          }
        },
        {
          "output_type": "display_data",
          "data": {
            "application/javascript": [
              "\n",
              "    async function download(id, filename, size) {\n",
              "      if (!google.colab.kernel.accessAllowed) {\n",
              "        return;\n",
              "      }\n",
              "      const div = document.createElement('div');\n",
              "      const label = document.createElement('label');\n",
              "      label.textContent = `Downloading \"${filename}\": `;\n",
              "      div.appendChild(label);\n",
              "      const progress = document.createElement('progress');\n",
              "      progress.max = size;\n",
              "      div.appendChild(progress);\n",
              "      document.body.appendChild(div);\n",
              "\n",
              "      const buffers = [];\n",
              "      let downloaded = 0;\n",
              "\n",
              "      const channel = await google.colab.kernel.comms.open(id);\n",
              "      // Send a message to notify the kernel that we're ready.\n",
              "      channel.send({})\n",
              "\n",
              "      for await (const message of channel.messages) {\n",
              "        // Send a message to notify the kernel that we're ready.\n",
              "        channel.send({})\n",
              "        if (message.buffers) {\n",
              "          for (const buffer of message.buffers) {\n",
              "            buffers.push(buffer);\n",
              "            downloaded += buffer.byteLength;\n",
              "            progress.value = downloaded;\n",
              "          }\n",
              "        }\n",
              "      }\n",
              "      const blob = new Blob(buffers, {type: 'application/binary'});\n",
              "      const a = document.createElement('a');\n",
              "      a.href = window.URL.createObjectURL(blob);\n",
              "      a.download = filename;\n",
              "      div.appendChild(a);\n",
              "      a.click();\n",
              "      div.remove();\n",
              "    }\n",
              "  "
            ],
            "text/plain": [
              "<IPython.core.display.Javascript object>"
            ]
          },
          "metadata": {
            "tags": []
          }
        },
        {
          "output_type": "display_data",
          "data": {
            "application/javascript": [
              "download(\"download_366fe334-def1-4590-a6e6-f9291ef8ec4f\", \"test.csv\", 14839661)"
            ],
            "text/plain": [
              "<IPython.core.display.Javascript object>"
            ]
          },
          "metadata": {
            "tags": []
          }
        }
      ]
    }
  ]
}