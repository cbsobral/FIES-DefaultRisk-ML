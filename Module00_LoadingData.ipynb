{
  "nbformat": 4,
  "nbformat_minor": 0,
  "metadata": {
    "kernelspec": {
      "display_name": "Python 3",
      "language": "python",
      "name": "python3"
    },
    "language_info": {
      "codemirror_mode": {
        "name": "ipython",
        "version": 3
      },
      "file_extension": ".py",
      "mimetype": "text/x-python",
      "name": "python",
      "nbconvert_exporter": "python",
      "pygments_lexer": "ipython3",
      "version": "3.8.3"
    },
    "colab": {
      "name": "Module00_LoadingData.ipynb",
      "provenance": [],
      "include_colab_link": true
    }
  },
  "cells": [
    {
      "cell_type": "markdown",
      "metadata": {
        "id": "view-in-github",
        "colab_type": "text"
      },
      "source": [
        "<a href=\"https://colab.research.google.com/github/cbsobral/ml-fies/blob/Diego/Module00_LoadingData.ipynb\" target=\"_parent\"><img src=\"https://colab.research.google.com/assets/colab-badge.svg\" alt=\"Open In Colab\"/></a>"
      ]
    },
    {
      "cell_type": "markdown",
      "metadata": {
        "id": "qSSIbHD3ogH6"
      },
      "source": [
        "## Module 00 - Loading data and creating training and test sets\n",
        "\n",
        "In this first module, we perform the following steps:\n",
        "\n",
        "1. Load the data from Google Drive in two parts (the file is too big to load at once);\n",
        "2. Exclude irrelevant variables or variables with too many missing values;\n",
        "3. Rename variables in English and possibly with shorter names;\n",
        "4. Divide training and test set."
      ]
    },
    {
      "cell_type": "markdown",
      "metadata": {
        "id": "D15x3tAyogIC"
      },
      "source": [
        "### 1 - Load the data in two parts:"
      ]
    },
    {
      "cell_type": "code",
      "metadata": {
        "colab": {
          "base_uri": "https://localhost:8080/"
        },
        "id": "5AkGS1VgogID",
        "outputId": "549aa797-e4b8-46d9-9ec0-7654b48a666b"
      },
      "source": [
        "import pandas as pd\n",
        "\n",
        "url_a = 'https://drive.google.com/file/d/1prPbFSiXFTHmTHzXTGxy4HrtRxXUHhce/view?usp=sharing'\n",
        "path_a = 'https://drive.google.com/uc?export=download&id='+url_a.split('/')[-2]\n",
        "base_df_a = pd.read_excel(path_a)\n",
        "base_df_a.shape"
      ],
      "execution_count": null,
      "outputs": [
        {
          "output_type": "execute_result",
          "data": {
            "text/plain": [
              "(309999, 37)"
            ]
          },
          "metadata": {
            "tags": []
          },
          "execution_count": 1
        }
      ]
    },
    {
      "cell_type": "code",
      "metadata": {
        "id": "hyJ2yJuqogIG",
        "colab": {
          "base_uri": "https://localhost:8080/"
        },
        "outputId": "a0f23bee-4211-4fd1-d0fe-516261cb8910"
      },
      "source": [
        "url_b = 'https://drive.google.com/file/d/1nGckSszPPifPvR3o5FeYaKArUYbfjHGn/view?usp=sharing'\n",
        "path_b = 'https://drive.google.com/uc?export=download&id='+url_b.split('/')[-2]\n",
        "base_df_b = pd.read_excel(path_b)\n",
        "base_df_b.shape"
      ],
      "execution_count": 2,
      "outputs": [
        {
          "output_type": "execute_result",
          "data": {
            "text/plain": [
              "(327823, 37)"
            ]
          },
          "metadata": {
            "tags": []
          },
          "execution_count": 2
        }
      ]
    },
    {
      "cell_type": "code",
      "metadata": {
        "id": "1nhq9lgWogII",
        "colab": {
          "base_uri": "https://localhost:8080/"
        },
        "outputId": "4d29f799-462e-47c4-a6a4-29c937e7c74a"
      },
      "source": [
        "complete_set = base_df_a.append(base_df_b)\n",
        "complete_set.shape"
      ],
      "execution_count": 3,
      "outputs": [
        {
          "output_type": "execute_result",
          "data": {
            "text/plain": [
              "(637822, 37)"
            ]
          },
          "metadata": {
            "tags": []
          },
          "execution_count": 3
        }
      ]
    },
    {
      "cell_type": "markdown",
      "metadata": {
        "id": "SjnAzKW4ogIJ"
      },
      "source": [
        "### 2 - Renaming variables"
      ]
    },
    {
      "cell_type": "code",
      "metadata": {
        "id": "Ky27V0YJogIK"
      },
      "source": [
        "#Let's use 365 days as the initial limit for default categories\n",
        "#To be added in the pipeline\n",
        "complete_set=complete_set.assign(default=1*(complete_set[\"nu_dias_atraso\"]>365))"
      ],
      "execution_count": 11,
      "outputs": []
    },
    {
      "cell_type": "code",
      "metadata": {
        "id": "gz8vy6TVogIK",
        "colab": {
          "base_uri": "https://localhost:8080/"
        },
        "outputId": "c443de99-5945-4a38-c1f6-7e13115dcd26"
      },
      "source": [
        "new_names ={\"NU_ANO_SEMESTRE_INSCRICAO\":\"semester_enroll\",\n",
        "            \"SG_SEXO\":\"gender\",\n",
        "            \"DS_OCUPACAO\":\"occupation\",\n",
        "            \"DS_ESTADO_CIVIL\":\"marital_status\", \n",
        "            \"VL_RENDA_PESSOAL_BRUTA_MENSAL\": \"personal_income\", \n",
        "            \"ST_ENSINO_MEDIO_ESCOLA_PUBLICA\": \"public_hs\",\n",
        "            \"NO_CURSO\": \"degree\",\n",
        "            \"QT_SEMESTRE_CONCLUIDO\": \"completed_semesters\",\n",
        "            \"VL_SEMESTRE_ATUAL\": \"tuition_current\",\n",
        "            \"VL_FINANCIADO_SEMESTRE\": \"loan_value_sem\",\n",
        "            \"fase_contrato\": \"contract_phase\",\n",
        "            \"vl_divida\": \"total_debt\",            \n",
        "            \"VL_AVALIACAO_IGC\": \"igc\",\n",
        "            \"VL_FAIXA_CPC\": \"cpc\",\n",
        "            \"VL_FAIXA_CC\": \"cc\",\n",
        "            \"QT_SEMESTRE_FINANCIAMENTO\": \"sem_funded\",\n",
        "            \"QT_MEMBRO\": \"fam_size\",\n",
        "            \"VL_RENDA_PER_CAPITA\":\"income_pc\",\n",
        "            \"NU_PERCENTUAL_COMPROMETIMENTO\":\"inc_prop\",\n",
        "            \"VL_TOTAL_FINANCIAMENTO\":\"loan_value\",\n",
        "            \"VL_LIMITE_GLOBAL\":\"loan_limit\",\n",
        "            \"dt_inicio_cont\":\"date_contract\"\n",
        "}\n",
        "\n",
        "complete_set = complete_set.rename(index=str, columns=new_names)\n",
        "complete_set.dtypes"
      ],
      "execution_count": 12,
      "outputs": [
        {
          "output_type": "execute_result",
          "data": {
            "text/plain": [
              "semester_enroll                            int64\n",
              "gender                                    object\n",
              "occupation                                object\n",
              "marital_status                            object\n",
              "VL_RENDA_FAMILIAR_BRUTA_MENSAL           float64\n",
              "personal_income                          float64\n",
              "NO_MUNICIPIO                              object\n",
              "SG_UF                                     object\n",
              "DS_RACA_COR                               object\n",
              "public_hs                                 object\n",
              "NU_ANO_CONCLUSAO_ENSINO_MEDIO            float64\n",
              "NU_SEMESTRE_REFERENCIA                     int64\n",
              "SG_UF_CURSO                               object\n",
              "degree                                    object\n",
              "igc                                      float64\n",
              "cpc                                      float64\n",
              "cc                                       float64\n",
              "QT_SEMESTRES_CURSO                         int64\n",
              "qt_semester                                int64\n",
              "sem_funded                                 int64\n",
              "QT_MESES_FINANC_SEMESTRE_ATUAL             int64\n",
              "fam_size                                 float64\n",
              "income_pc                                float64\n",
              "VL_SEMESTRE_SEM_DESCONTO                 float64\n",
              "VL_SEMESTRE_COM_DESCONTO                 float64\n",
              "tuition_current                          float64\n",
              "inc_prop                                 float64\n",
              "NU_PERCENT_SOLICITADO_FINANC               int64\n",
              "loan_value_sem                           float64\n",
              "VL_FINANC_RECURSO_ALUNO                  float64\n",
              "loan_value                               float64\n",
              "loan_limit                               float64\n",
              "date_contract                     datetime64[ns]\n",
              "contract_phase                            object\n",
              "nu_dias_atraso                             int64\n",
              "total_debt                               float64\n",
              "ANO_NASC                                  object\n",
              "default                                    int64\n",
              "dtype: object"
            ]
          },
          "metadata": {
            "tags": []
          },
          "execution_count": 12
        }
      ]
    },
    {
      "cell_type": "code",
      "metadata": {
        "id": "esfIhYMqogIK",
        "colab": {
          "base_uri": "https://localhost:8080/"
        },
        "outputId": "4c878c68-6713-4646-9d53-ed4e869a43b5"
      },
      "source": [
        "#Analysis of this feature necessary\n",
        "complete_set[\"degree\"].describe()"
      ],
      "execution_count": 13,
      "outputs": [
        {
          "output_type": "execute_result",
          "data": {
            "text/plain": [
              "count      637822\n",
              "unique        377\n",
              "top       DIREITO\n",
              "freq        98327\n",
              "Name: degree, dtype: object"
            ]
          },
          "metadata": {
            "tags": []
          },
          "execution_count": 13
        }
      ]
    },
    {
      "cell_type": "markdown",
      "metadata": {
        "id": "rfn09CydogIL"
      },
      "source": [
        "### 3 - Cleaning Dataset"
      ]
    },
    {
      "cell_type": "code",
      "metadata": {
        "id": "itTdp928ogIL"
      },
      "source": [
        "import datetime as dt\n",
        "\n",
        "complete_set_clean = complete_set.drop(['NO_MUNICIPIO',\"SG_UF\",\"VL_SEMESTRE_SEM_DESCONTO\"], axis = 1)\n",
        "complete_set_clean[\"date_contract\"]= complete_set_clean[\"date_contract\"].map(dt.datetime.toordinal)"
      ],
      "execution_count": 14,
      "outputs": []
    },
    {
      "cell_type": "markdown",
      "metadata": {
        "id": "7Kcob9Y0ogIM"
      },
      "source": [
        "Some variables are better interprerted as categories."
      ]
    },
    {
      "cell_type": "code",
      "metadata": {
        "id": "_Zf3ApfLogIM"
      },
      "source": [
        "complete_set_clean = complete_set_clean.astype({'semester_enroll':str,'igc':str,'cpc':str,'cpc':str,'cc':str,'ANO_NASC':str})"
      ],
      "execution_count": 15,
      "outputs": []
    },
    {
      "cell_type": "markdown",
      "metadata": {
        "id": "l3sKb1nWogIM"
      },
      "source": [
        "### Add atributes"
      ]
    },
    {
      "cell_type": "code",
      "metadata": {
        "id": "-0wC7L7dogIM",
        "colab": {
          "base_uri": "https://localhost:8080/",
          "height": 203
        },
        "outputId": "ea722a3e-2c2c-4a9f-ab0e-cb0879429257"
      },
      "source": [
        "#Will be included in the pipeline\n",
        "#Recode ocupacao\n",
        "complete_set_clean=complete_set_clean.assign(student=1*(complete_set[\"occupation\"]==\"Estudante\"))\n",
        "complete_set_clean=complete_set_clean.assign(default=int(delay>=365))"
      ],
      "execution_count": 16,
      "outputs": [
        {
          "output_type": "error",
          "ename": "NameError",
          "evalue": "ignored",
          "traceback": [
            "\u001b[0;31m---------------------------------------------------------------------------\u001b[0m",
            "\u001b[0;31mNameError\u001b[0m                                 Traceback (most recent call last)",
            "\u001b[0;32m<ipython-input-16-8b1f484ec4db>\u001b[0m in \u001b[0;36m<module>\u001b[0;34m()\u001b[0m\n\u001b[1;32m      2\u001b[0m \u001b[0;31m#Recode ocupacao\u001b[0m\u001b[0;34m\u001b[0m\u001b[0;34m\u001b[0m\u001b[0;34m\u001b[0m\u001b[0m\n\u001b[1;32m      3\u001b[0m \u001b[0mcomplete_set_clean\u001b[0m\u001b[0;34m=\u001b[0m\u001b[0mcomplete_set_clean\u001b[0m\u001b[0;34m.\u001b[0m\u001b[0massign\u001b[0m\u001b[0;34m(\u001b[0m\u001b[0mstudent\u001b[0m\u001b[0;34m=\u001b[0m\u001b[0;36m1\u001b[0m\u001b[0;34m*\u001b[0m\u001b[0;34m(\u001b[0m\u001b[0mcomplete_set\u001b[0m\u001b[0;34m[\u001b[0m\u001b[0;34m\"occupation\"\u001b[0m\u001b[0;34m]\u001b[0m\u001b[0;34m==\u001b[0m\u001b[0;34m\"Estudante\"\u001b[0m\u001b[0;34m)\u001b[0m\u001b[0;34m)\u001b[0m\u001b[0;34m\u001b[0m\u001b[0;34m\u001b[0m\u001b[0m\n\u001b[0;32m----> 4\u001b[0;31m \u001b[0mcomplete_set_clean\u001b[0m\u001b[0;34m=\u001b[0m\u001b[0mcomplete_set_clean\u001b[0m\u001b[0;34m.\u001b[0m\u001b[0massign\u001b[0m\u001b[0;34m(\u001b[0m\u001b[0mdefault\u001b[0m\u001b[0;34m=\u001b[0m\u001b[0mint\u001b[0m\u001b[0;34m(\u001b[0m\u001b[0mdelay\u001b[0m\u001b[0;34m>=\u001b[0m\u001b[0;36m365\u001b[0m\u001b[0;34m)\u001b[0m\u001b[0;34m)\u001b[0m\u001b[0;34m\u001b[0m\u001b[0;34m\u001b[0m\u001b[0m\n\u001b[0m",
            "\u001b[0;31mNameError\u001b[0m: name 'delay' is not defined"
          ]
        }
      ]
    },
    {
      "cell_type": "code",
      "metadata": {
        "id": "kHfCVYuwogIN",
        "colab": {
          "base_uri": "https://localhost:8080/"
        },
        "outputId": "99614996-4d95-4102-db97-7c017f606ec5"
      },
      "source": [
        "complete_set_clean.dtypes"
      ],
      "execution_count": 17,
      "outputs": [
        {
          "output_type": "execute_result",
          "data": {
            "text/plain": [
              "semester_enroll                    object\n",
              "gender                             object\n",
              "occupation                         object\n",
              "marital_status                     object\n",
              "VL_RENDA_FAMILIAR_BRUTA_MENSAL    float64\n",
              "personal_income                   float64\n",
              "DS_RACA_COR                        object\n",
              "public_hs                          object\n",
              "NU_ANO_CONCLUSAO_ENSINO_MEDIO     float64\n",
              "NU_SEMESTRE_REFERENCIA              int64\n",
              "SG_UF_CURSO                        object\n",
              "degree                             object\n",
              "igc                                object\n",
              "cpc                                object\n",
              "cc                                 object\n",
              "QT_SEMESTRES_CURSO                  int64\n",
              "qt_semester                         int64\n",
              "sem_funded                          int64\n",
              "QT_MESES_FINANC_SEMESTRE_ATUAL      int64\n",
              "fam_size                          float64\n",
              "income_pc                         float64\n",
              "VL_SEMESTRE_COM_DESCONTO          float64\n",
              "tuition_current                   float64\n",
              "inc_prop                          float64\n",
              "NU_PERCENT_SOLICITADO_FINANC        int64\n",
              "loan_value_sem                    float64\n",
              "VL_FINANC_RECURSO_ALUNO           float64\n",
              "loan_value                        float64\n",
              "loan_limit                        float64\n",
              "date_contract                       int64\n",
              "contract_phase                     object\n",
              "nu_dias_atraso                      int64\n",
              "total_debt                        float64\n",
              "ANO_NASC                           object\n",
              "default                             int64\n",
              "student                             int64\n",
              "dtype: object"
            ]
          },
          "metadata": {
            "tags": []
          },
          "execution_count": 17
        }
      ]
    },
    {
      "cell_type": "code",
      "metadata": {
        "id": "X3smpA04ogIN"
      },
      "source": [
        "complete_set_clean = complete_set_clean.dropna(subset=['semester_enroll','gender',\n",
        "                                                 \"occupation\",\n",
        "                                                 'marital_status',\n",
        "                                                 'DS_RACA_COR',\n",
        "                                                 'public_hs',\n",
        "                                                 'SG_UF_CURSO',\n",
        "                                                 'degree',\n",
        "                                                 'igc','cpc','cc',\n",
        "                                                 'contract_phase','ANO_NASC'])"
      ],
      "execution_count": 18,
      "outputs": []
    },
    {
      "cell_type": "code",
      "metadata": {
        "id": "eYu7rJjDogIN"
      },
      "source": [
        "# One hot encode with get_dummies\n",
        "import pandas as pd\n",
        "#complete_set = pd.concat((complete_set,pd.get_dummies(complete_set.semester_enroll),\n",
        " #                        pd.get_dummies(complete_set.gender),\n",
        "  #                       pd.get_dummies(complete_set.marriage_status),\n",
        "   #                      pd.get_dummies(complete_set.SG_UF),\n",
        "    #                     pd.get_dummies(complete_set.DS_RACA_COR),\n",
        "     #                    pd.get_dummies(complete_set.ST_ENSINO_MEDIO_ESCOLA_PUBLICA),\n",
        "      #                   pd.get_dummies(complete_set.NO_CURSO),\n",
        "       #                  pd.get_dummies(complete_set.fase_contrato)),1)"
      ],
      "execution_count": 19,
      "outputs": []
    },
    {
      "cell_type": "code",
      "metadata": {
        "id": "Eyohg-mRogIO"
      },
      "source": [
        "#Remove objects that are not numeric or categorical\n",
        "\n",
        "\n",
        "complete_set_cat = complete_set_clean.select_dtypes(include=['object'])\n",
        "complete_set_num = complete_set_clean.select_dtypes(exclude=['object'])\n"
      ],
      "execution_count": 20,
      "outputs": []
    },
    {
      "cell_type": "markdown",
      "metadata": {
        "id": "VIJ6MzxrogIO"
      },
      "source": [
        "### Pipeline\n",
        "\n",
        "Functions that will be used to tranform our dataset"
      ]
    },
    {
      "cell_type": "code",
      "metadata": {
        "id": "qFf5jyiRogIO"
      },
      "source": [
        "from sklearn.preprocessing import OrdinalEncoder\n",
        "\n",
        "ordinal_encoder = OrdinalEncoder()\n",
        "complete_set_cat_encoded = ordinal_encoder.fit_transform(complete_set_cat)"
      ],
      "execution_count": 21,
      "outputs": []
    },
    {
      "cell_type": "code",
      "metadata": {
        "id": "ppLdrEUzogIO"
      },
      "source": [
        "#One hot enconder\n",
        "from sklearn.preprocessing import OneHotEncoder\n",
        "cat_encoder = OneHotEncoder()\n",
        "complete_set_cat_transformed = cat_encoder.fit_transform(complete_set_cat)"
      ],
      "execution_count": 22,
      "outputs": []
    },
    {
      "cell_type": "code",
      "metadata": {
        "id": "lhp6LXTYogIP"
      },
      "source": [
        "from sklearn.impute import SimpleImputer\n",
        "imputer = SimpleImputer(strategy=\"median\")"
      ],
      "execution_count": 23,
      "outputs": []
    },
    {
      "cell_type": "code",
      "metadata": {
        "id": "jf904yNXogIP",
        "colab": {
          "base_uri": "https://localhost:8080/"
        },
        "outputId": "1b91e1de-ad32-47e2-96be-9e2a654f587d"
      },
      "source": [
        "#Add atributes. For now, just occupation\n",
        "# column index to add atributes\n",
        "col_names = \"occupation\", \"nu_dias_atraso\"\n",
        "occupation, delay = [ complete_set_clean.columns.get_loc(c) for c in col_names] # get the column indices\n",
        "occupation,delay\n",
        "complete_set.values[:,2][:10]==\"Estudante\""
      ],
      "execution_count": 24,
      "outputs": [
        {
          "output_type": "execute_result",
          "data": {
            "text/plain": [
              "array([False, False,  True,  True,  True, False, False,  True,  True,\n",
              "        True])"
            ]
          },
          "metadata": {
            "tags": []
          },
          "execution_count": 24
        }
      ]
    },
    {
      "cell_type": "code",
      "metadata": {
        "id": "zD5eytjwogIP"
      },
      "source": [
        "#Apagar\n",
        "from sklearn.base import BaseEstimator, TransformerMixin\n",
        "import numpy as np\n",
        "\n",
        "class CombinedAttributesAdder(BaseEstimator, TransformerMixin):\n",
        "    def __init__(self,cutoff =  365,status=False):# no *args or **kargs\n",
        "        self.delay_cutoff =  cutoff\n",
        "        self.status=status \n",
        "    def fit(self, X, y=None):\n",
        "        return self  # nothing else to do\n",
        "    def transform(self, X):\n",
        "        default = pd.cut(X[:, delay],bins=[-np.inf,self.delay_cutoff,np.inf],labels=[0,1])\n",
        "        if self.status:\n",
        "            is_student = 1*(X[:,occupation]=='Estudante')\n",
        "            return np.c_[X, default,is_student]\n",
        "        else:\n",
        "            return np.c_[X, default]"
      ],
      "execution_count": 25,
      "outputs": []
    },
    {
      "cell_type": "code",
      "metadata": {
        "id": "lepolCXjogIQ"
      },
      "source": [
        "#Apagar\n",
        "attribs_adder = CombinedAttributesAdder()\n",
        "transformed = attribs_adder.transform(complete_set_clean.values)"
      ],
      "execution_count": 26,
      "outputs": []
    },
    {
      "cell_type": "code",
      "metadata": {
        "id": "32bPkEOBogIR",
        "colab": {
          "base_uri": "https://localhost:8080/",
          "height": 317
        },
        "outputId": "b83c962a-8899-4ae2-9b1b-4404e8fc8fac"
      },
      "source": [
        "#apagar\n",
        "transformed= pd.DataFrame(\n",
        "    transformed,\n",
        "    columns=list(complete_set_clean.columns)+[\"default\"],\n",
        "    index=complete_set_clean.index)\n",
        "transformed.head()"
      ],
      "execution_count": 27,
      "outputs": [
        {
          "output_type": "execute_result",
          "data": {
            "text/html": [
              "<div>\n",
              "<style scoped>\n",
              "    .dataframe tbody tr th:only-of-type {\n",
              "        vertical-align: middle;\n",
              "    }\n",
              "\n",
              "    .dataframe tbody tr th {\n",
              "        vertical-align: top;\n",
              "    }\n",
              "\n",
              "    .dataframe thead th {\n",
              "        text-align: right;\n",
              "    }\n",
              "</style>\n",
              "<table border=\"1\" class=\"dataframe\">\n",
              "  <thead>\n",
              "    <tr style=\"text-align: right;\">\n",
              "      <th></th>\n",
              "      <th>semester_enroll</th>\n",
              "      <th>gender</th>\n",
              "      <th>occupation</th>\n",
              "      <th>marital_status</th>\n",
              "      <th>VL_RENDA_FAMILIAR_BRUTA_MENSAL</th>\n",
              "      <th>personal_income</th>\n",
              "      <th>DS_RACA_COR</th>\n",
              "      <th>public_hs</th>\n",
              "      <th>NU_ANO_CONCLUSAO_ENSINO_MEDIO</th>\n",
              "      <th>NU_SEMESTRE_REFERENCIA</th>\n",
              "      <th>SG_UF_CURSO</th>\n",
              "      <th>degree</th>\n",
              "      <th>igc</th>\n",
              "      <th>cpc</th>\n",
              "      <th>cc</th>\n",
              "      <th>QT_SEMESTRES_CURSO</th>\n",
              "      <th>qt_semester</th>\n",
              "      <th>sem_funded</th>\n",
              "      <th>QT_MESES_FINANC_SEMESTRE_ATUAL</th>\n",
              "      <th>fam_size</th>\n",
              "      <th>income_pc</th>\n",
              "      <th>VL_SEMESTRE_COM_DESCONTO</th>\n",
              "      <th>tuition_current</th>\n",
              "      <th>inc_prop</th>\n",
              "      <th>NU_PERCENT_SOLICITADO_FINANC</th>\n",
              "      <th>loan_value_sem</th>\n",
              "      <th>VL_FINANC_RECURSO_ALUNO</th>\n",
              "      <th>loan_value</th>\n",
              "      <th>loan_limit</th>\n",
              "      <th>date_contract</th>\n",
              "      <th>contract_phase</th>\n",
              "      <th>nu_dias_atraso</th>\n",
              "      <th>total_debt</th>\n",
              "      <th>ANO_NASC</th>\n",
              "      <th>default</th>\n",
              "      <th>student</th>\n",
              "      <th>default</th>\n",
              "    </tr>\n",
              "  </thead>\n",
              "  <tbody>\n",
              "    <tr>\n",
              "      <th>0</th>\n",
              "      <td>12014</td>\n",
              "      <td>F</td>\n",
              "      <td>Vendedor e prestador de serviÃ§os do comÃ©rcio...</td>\n",
              "      <td>Solteiro</td>\n",
              "      <td>728.74</td>\n",
              "      <td>728.74</td>\n",
              "      <td>P</td>\n",
              "      <td>S</td>\n",
              "      <td>10</td>\n",
              "      <td>12015</td>\n",
              "      <td>AL</td>\n",
              "      <td>PEDAGOGIA</td>\n",
              "      <td>3.0</td>\n",
              "      <td>nan</td>\n",
              "      <td>nan</td>\n",
              "      <td>8</td>\n",
              "      <td>2</td>\n",
              "      <td>8</td>\n",
              "      <td>6</td>\n",
              "      <td>2</td>\n",
              "      <td>364.37</td>\n",
              "      <td>1683.18</td>\n",
              "      <td>1683.18</td>\n",
              "      <td>71.95</td>\n",
              "      <td>100</td>\n",
              "      <td>1683.18</td>\n",
              "      <td>0</td>\n",
              "      <td>13465.4</td>\n",
              "      <td>15730.8</td>\n",
              "      <td>735355</td>\n",
              "      <td>Amortizacao</td>\n",
              "      <td>0</td>\n",
              "      <td>14549.7</td>\n",
              "      <td>1991</td>\n",
              "      <td>0</td>\n",
              "      <td>0</td>\n",
              "      <td>0</td>\n",
              "    </tr>\n",
              "    <tr>\n",
              "      <th>1</th>\n",
              "      <td>12013</td>\n",
              "      <td>F</td>\n",
              "      <td>Outros trabalhadores de serviÃ§os diversos</td>\n",
              "      <td>Solteiro</td>\n",
              "      <td>553.35</td>\n",
              "      <td>553.35</td>\n",
              "      <td>P</td>\n",
              "      <td>S</td>\n",
              "      <td>7</td>\n",
              "      <td>12015</td>\n",
              "      <td>MG</td>\n",
              "      <td>LETRAS - INGLÊS</td>\n",
              "      <td>3.0</td>\n",
              "      <td>2.0</td>\n",
              "      <td>3.0</td>\n",
              "      <td>6</td>\n",
              "      <td>4</td>\n",
              "      <td>6</td>\n",
              "      <td>6</td>\n",
              "      <td>1</td>\n",
              "      <td>553.35</td>\n",
              "      <td>2650.5</td>\n",
              "      <td>2650.5</td>\n",
              "      <td>67.47</td>\n",
              "      <td>100</td>\n",
              "      <td>2650.5</td>\n",
              "      <td>0</td>\n",
              "      <td>15903</td>\n",
              "      <td>16800.8</td>\n",
              "      <td>734912</td>\n",
              "      <td>Amortizacao</td>\n",
              "      <td>0</td>\n",
              "      <td>12139.8</td>\n",
              "      <td>1990</td>\n",
              "      <td>0</td>\n",
              "      <td>0</td>\n",
              "      <td>0</td>\n",
              "    </tr>\n",
              "    <tr>\n",
              "      <th>2</th>\n",
              "      <td>22014</td>\n",
              "      <td>F</td>\n",
              "      <td>Estudante</td>\n",
              "      <td>Solteiro</td>\n",
              "      <td>5962.49</td>\n",
              "      <td>0</td>\n",
              "      <td>P</td>\n",
              "      <td>N</td>\n",
              "      <td>13</td>\n",
              "      <td>12015</td>\n",
              "      <td>MG</td>\n",
              "      <td>MEDICINA</td>\n",
              "      <td>3.0</td>\n",
              "      <td>3.0</td>\n",
              "      <td>4.0</td>\n",
              "      <td>12</td>\n",
              "      <td>1</td>\n",
              "      <td>12</td>\n",
              "      <td>6</td>\n",
              "      <td>5</td>\n",
              "      <td>1192.5</td>\n",
              "      <td>26810.8</td>\n",
              "      <td>26810.8</td>\n",
              "      <td>352.14</td>\n",
              "      <td>100</td>\n",
              "      <td>26810.8</td>\n",
              "      <td>0</td>\n",
              "      <td>321730</td>\n",
              "      <td>377937</td>\n",
              "      <td>735457</td>\n",
              "      <td>Utilizacao</td>\n",
              "      <td>0</td>\n",
              "      <td>397350</td>\n",
              "      <td>1996</td>\n",
              "      <td>0</td>\n",
              "      <td>1</td>\n",
              "      <td>0</td>\n",
              "    </tr>\n",
              "    <tr>\n",
              "      <th>3</th>\n",
              "      <td>12012</td>\n",
              "      <td>F</td>\n",
              "      <td>Estudante</td>\n",
              "      <td>Solteiro</td>\n",
              "      <td>21671.7</td>\n",
              "      <td>0</td>\n",
              "      <td>B</td>\n",
              "      <td>N</td>\n",
              "      <td>8</td>\n",
              "      <td>12015</td>\n",
              "      <td>MG</td>\n",
              "      <td>MEDICINA</td>\n",
              "      <td>3.0</td>\n",
              "      <td>3.0</td>\n",
              "      <td>4.0</td>\n",
              "      <td>12</td>\n",
              "      <td>6</td>\n",
              "      <td>12</td>\n",
              "      <td>6</td>\n",
              "      <td>4</td>\n",
              "      <td>5417.94</td>\n",
              "      <td>32065.3</td>\n",
              "      <td>32065.3</td>\n",
              "      <td>75.51</td>\n",
              "      <td>100</td>\n",
              "      <td>32065.3</td>\n",
              "      <td>0</td>\n",
              "      <td>384784</td>\n",
              "      <td>368181</td>\n",
              "      <td>734582</td>\n",
              "      <td>Utilizacao</td>\n",
              "      <td>0</td>\n",
              "      <td>434902</td>\n",
              "      <td>1991</td>\n",
              "      <td>0</td>\n",
              "      <td>1</td>\n",
              "      <td>0</td>\n",
              "    </tr>\n",
              "    <tr>\n",
              "      <th>4</th>\n",
              "      <td>22011</td>\n",
              "      <td>F</td>\n",
              "      <td>Estudante</td>\n",
              "      <td>Solteiro</td>\n",
              "      <td>1000</td>\n",
              "      <td>0</td>\n",
              "      <td>B</td>\n",
              "      <td>S</td>\n",
              "      <td>9</td>\n",
              "      <td>12015</td>\n",
              "      <td>RN</td>\n",
              "      <td>PSICOLOGIA</td>\n",
              "      <td>3.0</td>\n",
              "      <td>4.0</td>\n",
              "      <td>4.0</td>\n",
              "      <td>10</td>\n",
              "      <td>7</td>\n",
              "      <td>10</td>\n",
              "      <td>6</td>\n",
              "      <td>3</td>\n",
              "      <td>333.33</td>\n",
              "      <td>5190</td>\n",
              "      <td>5190</td>\n",
              "      <td>204.9</td>\n",
              "      <td>100</td>\n",
              "      <td>2595</td>\n",
              "      <td>2595</td>\n",
              "      <td>51900</td>\n",
              "      <td>25612.5</td>\n",
              "      <td>734403</td>\n",
              "      <td>Amortizacao</td>\n",
              "      <td>682</td>\n",
              "      <td>27518.9</td>\n",
              "      <td>1992</td>\n",
              "      <td>1</td>\n",
              "      <td>1</td>\n",
              "      <td>1</td>\n",
              "    </tr>\n",
              "  </tbody>\n",
              "</table>\n",
              "</div>"
            ],
            "text/plain": [
              "  semester_enroll gender  ... student default\n",
              "0           12014      F  ...       0       0\n",
              "1           12013      F  ...       0       0\n",
              "2           22014      F  ...       1       0\n",
              "3           12012      F  ...       1       0\n",
              "4           22011      F  ...       1       1\n",
              "\n",
              "[5 rows x 37 columns]"
            ]
          },
          "metadata": {
            "tags": []
          },
          "execution_count": 27
        }
      ]
    },
    {
      "cell_type": "code",
      "metadata": {
        "id": "FxyfFm-XogIR",
        "colab": {
          "base_uri": "https://localhost:8080/",
          "height": 217
        },
        "outputId": "da7f97bf-03ec-4e16-85e2-c9634ed40663"
      },
      "source": [
        "complete_set_num.head()"
      ],
      "execution_count": 28,
      "outputs": [
        {
          "output_type": "execute_result",
          "data": {
            "text/html": [
              "<div>\n",
              "<style scoped>\n",
              "    .dataframe tbody tr th:only-of-type {\n",
              "        vertical-align: middle;\n",
              "    }\n",
              "\n",
              "    .dataframe tbody tr th {\n",
              "        vertical-align: top;\n",
              "    }\n",
              "\n",
              "    .dataframe thead th {\n",
              "        text-align: right;\n",
              "    }\n",
              "</style>\n",
              "<table border=\"1\" class=\"dataframe\">\n",
              "  <thead>\n",
              "    <tr style=\"text-align: right;\">\n",
              "      <th></th>\n",
              "      <th>VL_RENDA_FAMILIAR_BRUTA_MENSAL</th>\n",
              "      <th>personal_income</th>\n",
              "      <th>NU_ANO_CONCLUSAO_ENSINO_MEDIO</th>\n",
              "      <th>NU_SEMESTRE_REFERENCIA</th>\n",
              "      <th>QT_SEMESTRES_CURSO</th>\n",
              "      <th>qt_semester</th>\n",
              "      <th>sem_funded</th>\n",
              "      <th>QT_MESES_FINANC_SEMESTRE_ATUAL</th>\n",
              "      <th>fam_size</th>\n",
              "      <th>income_pc</th>\n",
              "      <th>VL_SEMESTRE_COM_DESCONTO</th>\n",
              "      <th>tuition_current</th>\n",
              "      <th>inc_prop</th>\n",
              "      <th>NU_PERCENT_SOLICITADO_FINANC</th>\n",
              "      <th>loan_value_sem</th>\n",
              "      <th>VL_FINANC_RECURSO_ALUNO</th>\n",
              "      <th>loan_value</th>\n",
              "      <th>loan_limit</th>\n",
              "      <th>date_contract</th>\n",
              "      <th>nu_dias_atraso</th>\n",
              "      <th>total_debt</th>\n",
              "      <th>default</th>\n",
              "      <th>student</th>\n",
              "    </tr>\n",
              "  </thead>\n",
              "  <tbody>\n",
              "    <tr>\n",
              "      <th>0</th>\n",
              "      <td>728.74</td>\n",
              "      <td>728.74</td>\n",
              "      <td>10.0</td>\n",
              "      <td>12015</td>\n",
              "      <td>8</td>\n",
              "      <td>2</td>\n",
              "      <td>8</td>\n",
              "      <td>6</td>\n",
              "      <td>2.0</td>\n",
              "      <td>364.37</td>\n",
              "      <td>1683.18</td>\n",
              "      <td>1683.18</td>\n",
              "      <td>71.95</td>\n",
              "      <td>100</td>\n",
              "      <td>1683.18</td>\n",
              "      <td>0.0</td>\n",
              "      <td>13465.44</td>\n",
              "      <td>15730.80</td>\n",
              "      <td>735355</td>\n",
              "      <td>0</td>\n",
              "      <td>14549.68</td>\n",
              "      <td>0</td>\n",
              "      <td>0</td>\n",
              "    </tr>\n",
              "    <tr>\n",
              "      <th>1</th>\n",
              "      <td>553.35</td>\n",
              "      <td>553.35</td>\n",
              "      <td>7.0</td>\n",
              "      <td>12015</td>\n",
              "      <td>6</td>\n",
              "      <td>4</td>\n",
              "      <td>6</td>\n",
              "      <td>6</td>\n",
              "      <td>1.0</td>\n",
              "      <td>553.35</td>\n",
              "      <td>2650.50</td>\n",
              "      <td>2650.50</td>\n",
              "      <td>67.47</td>\n",
              "      <td>100</td>\n",
              "      <td>2650.50</td>\n",
              "      <td>0.0</td>\n",
              "      <td>15903.00</td>\n",
              "      <td>16800.75</td>\n",
              "      <td>734912</td>\n",
              "      <td>0</td>\n",
              "      <td>12139.80</td>\n",
              "      <td>0</td>\n",
              "      <td>0</td>\n",
              "    </tr>\n",
              "    <tr>\n",
              "      <th>2</th>\n",
              "      <td>5962.49</td>\n",
              "      <td>0.00</td>\n",
              "      <td>13.0</td>\n",
              "      <td>12015</td>\n",
              "      <td>12</td>\n",
              "      <td>1</td>\n",
              "      <td>12</td>\n",
              "      <td>6</td>\n",
              "      <td>5.0</td>\n",
              "      <td>1192.50</td>\n",
              "      <td>26810.85</td>\n",
              "      <td>26810.85</td>\n",
              "      <td>352.14</td>\n",
              "      <td>100</td>\n",
              "      <td>26810.85</td>\n",
              "      <td>0.0</td>\n",
              "      <td>321730.20</td>\n",
              "      <td>377937.00</td>\n",
              "      <td>735457</td>\n",
              "      <td>0</td>\n",
              "      <td>397349.62</td>\n",
              "      <td>0</td>\n",
              "      <td>1</td>\n",
              "    </tr>\n",
              "    <tr>\n",
              "      <th>3</th>\n",
              "      <td>21671.74</td>\n",
              "      <td>0.00</td>\n",
              "      <td>8.0</td>\n",
              "      <td>12015</td>\n",
              "      <td>12</td>\n",
              "      <td>6</td>\n",
              "      <td>12</td>\n",
              "      <td>6</td>\n",
              "      <td>4.0</td>\n",
              "      <td>5417.94</td>\n",
              "      <td>32065.32</td>\n",
              "      <td>32065.32</td>\n",
              "      <td>75.51</td>\n",
              "      <td>100</td>\n",
              "      <td>32065.32</td>\n",
              "      <td>0.0</td>\n",
              "      <td>384783.84</td>\n",
              "      <td>368181.00</td>\n",
              "      <td>734582</td>\n",
              "      <td>0</td>\n",
              "      <td>434901.80</td>\n",
              "      <td>0</td>\n",
              "      <td>1</td>\n",
              "    </tr>\n",
              "    <tr>\n",
              "      <th>4</th>\n",
              "      <td>1000.00</td>\n",
              "      <td>0.00</td>\n",
              "      <td>9.0</td>\n",
              "      <td>12015</td>\n",
              "      <td>10</td>\n",
              "      <td>7</td>\n",
              "      <td>10</td>\n",
              "      <td>6</td>\n",
              "      <td>3.0</td>\n",
              "      <td>333.33</td>\n",
              "      <td>5190.00</td>\n",
              "      <td>5190.00</td>\n",
              "      <td>204.90</td>\n",
              "      <td>100</td>\n",
              "      <td>2595.00</td>\n",
              "      <td>2595.0</td>\n",
              "      <td>51900.00</td>\n",
              "      <td>25612.50</td>\n",
              "      <td>734403</td>\n",
              "      <td>682</td>\n",
              "      <td>27518.91</td>\n",
              "      <td>1</td>\n",
              "      <td>1</td>\n",
              "    </tr>\n",
              "  </tbody>\n",
              "</table>\n",
              "</div>"
            ],
            "text/plain": [
              "   VL_RENDA_FAMILIAR_BRUTA_MENSAL  personal_income  ...  default  student\n",
              "0                          728.74           728.74  ...        0        0\n",
              "1                          553.35           553.35  ...        0        0\n",
              "2                         5962.49             0.00  ...        0        1\n",
              "3                        21671.74             0.00  ...        0        1\n",
              "4                         1000.00             0.00  ...        1        1\n",
              "\n",
              "[5 rows x 23 columns]"
            ]
          },
          "metadata": {
            "tags": []
          },
          "execution_count": 28
        }
      ]
    },
    {
      "cell_type": "code",
      "metadata": {
        "id": "NjKb_CdHogIR"
      },
      "source": [
        "from sklearn.pipeline import Pipeline\n",
        "from sklearn.preprocessing import StandardScaler\n",
        "\n",
        "\n",
        "num_pipeline = Pipeline([\n",
        "        ('imputer', SimpleImputer(strategy=\"median\")),\n",
        "        ('std_scaler', StandardScaler()),\n",
        "    ])\n",
        "complete_num_tr = num_pipeline.fit_transform(complete_set_num)\n"
      ],
      "execution_count": 29,
      "outputs": []
    },
    {
      "cell_type": "code",
      "metadata": {
        "id": "3gaCsGRFogIR"
      },
      "source": [
        "#Full pipeline\n",
        "from sklearn.compose import ColumnTransformer\n",
        "\n",
        "num_attribs = list(complete_set_num)\n",
        "cat_attribs = list(complete_set_cat)\n",
        "\n",
        "full_pipeline = ColumnTransformer([\n",
        "        (\"num\", num_pipeline, num_attribs),\n",
        "        (\"cat\", OneHotEncoder(), cat_attribs),\n",
        "    ])\n",
        "complete_set_prepared = full_pipeline.fit_transform(complete_set_clean)"
      ],
      "execution_count": 30,
      "outputs": []
    },
    {
      "cell_type": "code",
      "metadata": {
        "id": "TyxLL2C_ogIS",
        "colab": {
          "base_uri": "https://localhost:8080/"
        },
        "outputId": "0c02877d-a47a-4225-b9a4-0bbb787226b3"
      },
      "source": [
        "complete_set_prepared[:1]"
      ],
      "execution_count": 31,
      "outputs": [
        {
          "output_type": "execute_result",
          "data": {
            "text/plain": [
              "<1x741 sparse matrix of type '<class 'numpy.float64'>'\n",
              "\twith 34 stored elements in Compressed Sparse Row format>"
            ]
          },
          "metadata": {
            "tags": []
          },
          "execution_count": 31
        }
      ]
    },
    {
      "cell_type": "markdown",
      "metadata": {
        "id": "fVwJfudJogIS"
      },
      "source": [
        "### 4 - Creating a training and a test set\n",
        "\n",
        "In this section we will create the training and test set using the function *train_test_split* from Scikit-Learn. Two important considerations about our choice:\n",
        "\n",
        "* Our dataset is a sample provided by the Brazilian Governent and will not be updated. Therefore, we chose not to be concerned about future splits with updated data;\n",
        "\n",
        "* Our data includes 637,822 instances. We assume it is big enough and do not employ stratified sampling."
      ]
    },
    {
      "cell_type": "code",
      "metadata": {
        "id": "hJuseFTaogIS"
      },
      "source": [
        "from sklearn.model_selection import train_test_split\n",
        "\n",
        "train_set, test_set = train_test_split(complete_set_prepared, test_size=0.2, random_state=42)"
      ],
      "execution_count": 32,
      "outputs": []
    },
    {
      "cell_type": "markdown",
      "metadata": {
        "id": "bJVOljkGogIT"
      },
      "source": [
        "### 5 - Cleaning Data "
      ]
    },
    {
      "cell_type": "markdown",
      "metadata": {
        "id": "fQoSfCgPogIT"
      },
      "source": [
        "### 6 - Visualisation"
      ]
    },
    {
      "cell_type": "code",
      "metadata": {
        "id": "z0QSUtV0ogIT",
        "colab": {
          "base_uri": "https://localhost:8080/",
          "height": 282
        },
        "outputId": "47dcda8b-17ab-4d96-845f-c1f9acede345"
      },
      "source": [
        "complete_set[\"contract_phase\"].hist()"
      ],
      "execution_count": 33,
      "outputs": [
        {
          "output_type": "execute_result",
          "data": {
            "text/plain": [
              "<matplotlib.axes._subplots.AxesSubplot at 0x7efc0aa024d0>"
            ]
          },
          "metadata": {
            "tags": []
          },
          "execution_count": 33
        },
        {
          "output_type": "display_data",
          "data": {
            "image/png": "[encoded data removed]",
            "text/plain": [
              "<Figure size 432x288 with 1 Axes>"
            ]
          },
          "metadata": {
            "tags": [],
            "needs_background": "light"
          }
        }
      ]
    },
    {
      "cell_type": "code",
      "metadata": {
        "id": "xZLMqhkLogIV",
        "colab": {
          "base_uri": "https://localhost:8080/",
          "height": 278
        },
        "outputId": "aa11256e-bff7-43fc-e440-e9ed3f2edcd8"
      },
      "source": [
        "%matplotlib inline\n",
        "import matplotlib as mpl\n",
        "import matplotlib.pyplot as plt\n",
        "\n",
        "complete_set.plot(kind=\"scatter\", x=\"default\", y=\"income_pc\",\n",
        "             alpha=0.2)\n",
        "plt.axis([0, 5, 0, 520000])\n",
        "plt.show()"
      ],
      "execution_count": 34,
      "outputs": [
        {
          "output_type": "display_data",
          "data": {
            "image/png": "[encoded data removed]",
            "text/plain": [
              "<Figure size 432x288 with 1 Axes>"
            ]
          },
          "metadata": {
            "tags": [],
            "needs_background": "light"
          }
        }
      ]
    },
    {
      "cell_type": "markdown",
      "metadata": {
        "id": "clcoU1IyogIW"
      },
      "source": [
        ""
      ]
    }
  ]
}