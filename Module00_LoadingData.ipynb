{
 "cells": [
  {
   "cell_type": "markdown",
   "metadata": {},
   "source": [
    "## Module 00 - Loading Data and creating Training and Test Sets\n",
    "\n",
    "In this first module, we perform the following steps:\n",
    "\n",
    "1. load the data from Google Drive in two parts (the file is too big to load at once);\n",
    "2. exclude irrelevant variables or variables with too many missing values;\n",
    "3. rename variables in English and possibly with shorter names;\n",
    "4. divide training and test set."
   ]
  },
  {
   "cell_type": "markdown",
   "metadata": {},
   "source": [
    "### 1 - Load the data in two parts:"
   ]
  },
  {
   "cell_type": "code",
   "execution_count": 1,
   "metadata": {},
   "outputs": [
    {
     "data": {
      "text/plain": [
       "(309999, 37)"
      ]
     },
     "execution_count": 1,
     "metadata": {},
     "output_type": "execute_result"
    }
   ],
   "source": [
    "import pandas as pd\n",
    "\n",
    "url_a = 'https://drive.google.com/file/d/1prPbFSiXFTHmTHzXTGxy4HrtRxXUHhce/view?usp=sharing'\n",
    "path_a = 'https://drive.google.com/uc?export=download&id='+url_a.split('/')[-2]\n",
    "base_df_a = pd.read_excel(path_a)\n",
    "base_df_a.shape"
   ]
  },
  {
   "cell_type": "code",
   "execution_count": 2,
   "metadata": {},
   "outputs": [
    {
     "data": {
      "text/plain": [
       "(327823, 37)"
      ]
     },
     "execution_count": 2,
     "metadata": {},
     "output_type": "execute_result"
    }
   ],
   "source": [
    "url_b = 'https://drive.google.com/file/d/1nGckSszPPifPvR3o5FeYaKArUYbfjHGn/view?usp=sharing'\n",
    "path_b = 'https://drive.google.com/uc?export=download&id='+url_b.split('/')[-2]\n",
    "base_df_b = pd.read_excel(path_b)\n",
    "base_df_b.shape"
   ]
  },
  {
   "cell_type": "code",
   "execution_count": 10,
   "metadata": {},
   "outputs": [
    {
     "data": {
      "text/plain": [
       "(637822, 37)"
      ]
     },
     "execution_count": 10,
     "metadata": {},
     "output_type": "execute_result"
    }
   ],
   "source": [
    "complete_set = base_df_a.append(base_df_b)\n",
    "complete_set.shape"
   ]
  },
  {
   "cell_type": "markdown",
   "metadata": {},
   "source": [
    "### 2 - Excluding variables"
   ]
  },
  {
   "cell_type": "code",
   "execution_count": 11,
   "metadata": {},
   "outputs": [
    {
     "data": {
      "text/plain": [
       "(637822, 36)"
      ]
     },
     "execution_count": 11,
     "metadata": {},
     "output_type": "execute_result"
    }
   ],
   "source": [
    "complete_set = complete_set.drop(['NO_MUNICIPIO'], axis = 1)\n",
    "complete_set.shape"
   ]
  },
  {
   "cell_type": "markdown",
   "metadata": {},
   "source": [
    "### 3 - Renaming variables"
   ]
  },
  {
   "cell_type": "code",
   "execution_count": 12,
   "metadata": {},
   "outputs": [
    {
     "data": {
      "text/plain": [
       "NU_ANO_SEMESTRE_INSCRICAO                  int64\n",
       "SG_SEXO                                   object\n",
       "DS_OCUPACAO                               object\n",
       "DS_ESTADO_CIVIL                           object\n",
       "VL_RENDA_FAMILIAR_BRUTA_MENSAL           float64\n",
       "VL_RENDA_PESSOAL_BRUTA_MENSAL            float64\n",
       "SG_UF                                     object\n",
       "DS_RACA_COR                               object\n",
       "ST_ENSINO_MEDIO_ESCOLA_PUBLICA            object\n",
       "NU_ANO_CONCLUSAO_ENSINO_MEDIO            float64\n",
       "NU_SEMESTRE_REFERENCIA                     int64\n",
       "SG_UF_CURSO                               object\n",
       "NO_CURSO                                  object\n",
       "VL_AVALIACAO_IGC                         float64\n",
       "VL_FAIXA_CPC                             float64\n",
       "VL_FAIXA_CC                              float64\n",
       "QT_SEMESTRES_CURSO                         int64\n",
       "QT_SEMESTRE_CONCLUIDO                      int64\n",
       "QT_SEMESTRE_FINANCIAMENTO                  int64\n",
       "QT_MESES_FINANC_SEMESTRE_ATUAL             int64\n",
       "QT_MEMBRO                                float64\n",
       "VL_RENDA_PER_CAPITA                      float64\n",
       "VL_SEMESTRE_SEM_DESCONTO                 float64\n",
       "VL_SEMESTRE_COM_DESCONTO                 float64\n",
       "VL_SEMESTRE_ATUAL                        float64\n",
       "NU_PERCENTUAL_COMPROMETIMENTO            float64\n",
       "NU_PERCENT_SOLICITADO_FINANC               int64\n",
       "VL_FINANCIADO_SEMESTRE                   float64\n",
       "VL_FINANC_RECURSO_ALUNO                  float64\n",
       "VL_TOTAL_FINANCIAMENTO                   float64\n",
       "VL_LIMITE_GLOBAL                         float64\n",
       "dt_inicio_cont                    datetime64[ns]\n",
       "fase_contrato                             object\n",
       "nu_dias_atraso                             int64\n",
       "vl_divida                                float64\n",
       "ANO_NASC                                  object\n",
       "dtype: object"
      ]
     },
     "execution_count": 12,
     "metadata": {},
     "output_type": "execute_result"
    }
   ],
   "source": [
    "complete_set.dtypes"
   ]
  },
  {
   "cell_type": "code",
   "execution_count": 14,
   "metadata": {},
   "outputs": [
    {
     "data": {
      "text/plain": [
       "year_enroll                                int64\n",
       "gender                                    object\n",
       "occupation                                object\n",
       "DS_ESTADO_CIVIL                           object\n",
       "VL_RENDA_FAMILIAR_BRUTA_MENSAL           float64\n",
       "VL_RENDA_PESSOAL_BRUTA_MENSAL            float64\n",
       "SG_UF                                     object\n",
       "DS_RACA_COR                               object\n",
       "ST_ENSINO_MEDIO_ESCOLA_PUBLICA            object\n",
       "NU_ANO_CONCLUSAO_ENSINO_MEDIO            float64\n",
       "NU_SEMESTRE_REFERENCIA                     int64\n",
       "SG_UF_CURSO                               object\n",
       "NO_CURSO                                  object\n",
       "VL_AVALIACAO_IGC                         float64\n",
       "VL_FAIXA_CPC                             float64\n",
       "VL_FAIXA_CC                              float64\n",
       "QT_SEMESTRES_CURSO                         int64\n",
       "QT_SEMESTRE_CONCLUIDO                      int64\n",
       "QT_SEMESTRE_FINANCIAMENTO                  int64\n",
       "QT_MESES_FINANC_SEMESTRE_ATUAL             int64\n",
       "QT_MEMBRO                                float64\n",
       "VL_RENDA_PER_CAPITA                      float64\n",
       "VL_SEMESTRE_SEM_DESCONTO                 float64\n",
       "VL_SEMESTRE_COM_DESCONTO                 float64\n",
       "VL_SEMESTRE_ATUAL                        float64\n",
       "NU_PERCENTUAL_COMPROMETIMENTO            float64\n",
       "NU_PERCENT_SOLICITADO_FINANC               int64\n",
       "VL_FINANCIADO_SEMESTRE                   float64\n",
       "VL_FINANC_RECURSO_ALUNO                  float64\n",
       "VL_TOTAL_FINANCIAMENTO                   float64\n",
       "VL_LIMITE_GLOBAL                         float64\n",
       "dt_inicio_cont                    datetime64[ns]\n",
       "fase_contrato                             object\n",
       "nu_dias_atraso                             int64\n",
       "vl_divida                                float64\n",
       "ANO_NASC                                  object\n",
       "dtype: object"
      ]
     },
     "execution_count": 14,
     "metadata": {},
     "output_type": "execute_result"
    }
   ],
   "source": [
    "new_names ={'NU_ANO_SEMESTRE_INSCRICAO':'year_enroll',\n",
    "           'SG_SEXO':'gender',\n",
    "           'DS_OCUPACAO':'occupation'}\n",
    "\n",
    "complete_set = complete_set.rename(index=str, columns=new_names)\n",
    "complete_set.dtypes"
   ]
  },
  {
   "cell_type": "markdown",
   "metadata": {},
   "source": [
    "### 4 - Creating a training and a test set\n",
    "\n",
    "In this section we will create the training and test set using the function *train_test_split* from Scikit-Learn. Two important considerations about our choice:\n",
    "\n",
    "* Our dataset is a sample provided by the Brazilian Governent and will not be updated. Therefore, we chose not to be concerned about future splits with updated data;\n",
    "\n",
    "* Our data includes 637,822 instances. We assume it is big enough and do not employ stratified sampling."
   ]
  },
  {
   "cell_type": "code",
   "execution_count": 15,
   "metadata": {},
   "outputs": [],
   "source": [
    "from sklearn.model_selection import train_test_split\n",
    "\n",
    "train_set, test_set = train_test_split(complete_set, test_size=0.2, random_state=42)"
   ]
  },
  {
   "cell_type": "code",
   "execution_count": 16,
   "metadata": {},
   "outputs": [
    {
     "data": {
      "text/plain": [
       "(510257, 36)"
      ]
     },
     "execution_count": 16,
     "metadata": {},
     "output_type": "execute_result"
    }
   ],
   "source": [
    "train_set.shape"
   ]
  },
  {
   "cell_type": "code",
   "execution_count": 17,
   "metadata": {},
   "outputs": [
    {
     "data": {
      "text/plain": [
       "(127565, 36)"
      ]
     },
     "execution_count": 17,
     "metadata": {},
     "output_type": "execute_result"
    }
   ],
   "source": [
    "test_set.shape"
   ]
  },
  {
   "cell_type": "code",
   "execution_count": null,
   "metadata": {},
   "outputs": [],
   "source": []
  }
 ],
 "metadata": {
  "kernelspec": {
   "display_name": "Python 3",
   "language": "python",
   "name": "python3"
  },
  "language_info": {
   "codemirror_mode": {
    "name": "ipython",
    "version": 3
   },
   "file_extension": ".py",
   "mimetype": "text/x-python",
   "name": "python",
   "nbconvert_exporter": "python",
   "pygments_lexer": "ipython3",
   "version": "3.8.3"
  }
 },
 "nbformat": 4,
 "nbformat_minor": 4
}
