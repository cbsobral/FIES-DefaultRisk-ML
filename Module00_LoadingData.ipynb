{
 "cells": [
  {
   "cell_type": "markdown",
   "metadata": {
    "colab_type": "text",
    "id": "view-in-github"
   },
   "source": [
    "<a href=\"https://colab.research.google.com/github/cbsobral/ml-fies/blob/main/Module00_LoadingData.ipynb\" target=\"_parent\"><img src=\"https://colab.research.google.com/assets/colab-badge.svg\" alt=\"Open In Colab\"/></a>"
   ]
  },
  {
   "cell_type": "markdown",
   "metadata": {
    "id": "qSSIbHD3ogH6"
   },
   "source": [
    "## Module 00 - Loading data and creating training and test sets\n",
    "\n",
    "In this first module, we perform the following steps:\n",
    "\n",
    "1. Load the data from Google Drive in two parts (the file is too big to load at once);\n",
    "2. Exclude irrelevant variables or variables with too many missing values;\n",
    "3. Rename variables in English and possibly with shorter names;\n",
    "4. Divide training and test set."
   ]
  },
  {
   "cell_type": "markdown",
   "metadata": {
    "id": "D15x3tAyogIC"
   },
   "source": [
    "### 1 - Load the data in two parts:"
   ]
  },
  {
   "cell_type": "code",
   "execution_count": 4,
   "metadata": {
    "colab": {
     "base_uri": "https://localhost:8080/"
    },
    "id": "5AkGS1VgogID",
    "outputId": "3da82a0e-44ab-4f78-8163-1f931b822d12"
   },
   "outputs": [
    {
     "data": {
      "text/plain": [
       "(309999, 37)"
      ]
     },
     "execution_count": 4,
     "metadata": {},
     "output_type": "execute_result"
    }
   ],
   "source": [
    "import pandas as pd\n",
    "\n",
    "url_a = \"https://drive.google.com/file/d/1prPbFSiXFTHmTHzXTGxy4HrtRxXUHhce/view?usp=sharing\"\n",
    "path_a = \"https://drive.google.com/uc?export=download&id=\"+url_a.split(\"/\")[-2]\n",
    "base_df_a = pd.read_excel(path_a)\n",
    "base_df_a.shape"
   ]
  },
  {
   "cell_type": "code",
   "execution_count": 5,
   "metadata": {
    "colab": {
     "base_uri": "https://localhost:8080/"
    },
    "id": "hyJ2yJuqogIG",
    "outputId": "f408f506-1053-4fc3-a31a-df629468691a"
   },
   "outputs": [
    {
     "data": {
      "text/plain": [
       "(327823, 37)"
      ]
     },
     "execution_count": 5,
     "metadata": {},
     "output_type": "execute_result"
    }
   ],
   "source": [
    "url_b = \"https://drive.google.com/file/d/1nGckSszPPifPvR3o5FeYaKArUYbfjHGn/view?usp=sharing\"\n",
    "path_b = \"https://drive.google.com/uc?export=download&id=\"+url_b.split(\"/\")[-2]\n",
    "base_df_b = pd.read_excel(path_b)\n",
    "base_df_b.shape"
   ]
  },
  {
   "cell_type": "code",
   "execution_count": 62,
   "metadata": {
    "colab": {
     "base_uri": "https://localhost:8080/"
    },
    "id": "1nhq9lgWogII",
    "outputId": "2ed71817-0bb2-4d38-e3d7-0837b51fabd0"
   },
   "outputs": [
    {
     "data": {
      "text/plain": [
       "(637822, 37)"
      ]
     },
     "execution_count": 62,
     "metadata": {},
     "output_type": "execute_result"
    }
   ],
   "source": [
    "complete_set = base_df_a.append(base_df_b)\n",
    "complete_set.shape"
   ]
  },
  {
   "cell_type": "markdown",
   "metadata": {
    "id": "SjnAzKW4ogIJ"
   },
   "source": [
    "### 2 - Renaming variables"
   ]
  },
  {
   "cell_type": "code",
   "execution_count": 63,
   "metadata": {
    "id": "Ky27V0YJogIK",
    "jupyter": {
     "source_hidden": true
    }
   },
   "outputs": [],
   "source": [
    "#Let\"s use 365 days as the initial limit for default categories\n",
    "#To be added in the pipeline\n",
    "complete_set=complete_set.assign(default=1*(complete_set[\"nu_dias_atraso\"]>365))"
   ]
  },
  {
   "cell_type": "code",
   "execution_count": 64,
   "metadata": {
    "colab": {
     "base_uri": "https://localhost:8080/"
    },
    "id": "gz8vy6TVogIK",
    "outputId": "fcaa4d43-8bd8-4710-a0ef-8a3dc5813b64"
   },
   "outputs": [
    {
     "name": "stdout",
     "output_type": "stream",
     "text": [
      "Index(['semester_enroll', 'gender', 'occupation', 'marital_status',\n",
      "       'family_income', 'personal_income', 'NO_MUNICIPIO', 'SG_UF',\n",
      "       'ethnicity', 'public_hs', 'high_school_endyear',\n",
      "       'NU_SEMESTRE_REFERENCIA', 'state_course', 'degree', 'igc', 'cpc', 'cc',\n",
      "       'n_sem_course', 'n_completed_sem', 'sem_funded',\n",
      "       'QT_MESES_FINANC_SEMESTRE_ATUAL', 'fam_size', 'income_pc',\n",
      "       'VL_SEMESTRE_SEM_DESCONTO', 'tuition_discounted', 'tuition_current',\n",
      "       'inc_prop', 'perc_requested', 'loan_value_sem', 'student_resource',\n",
      "       'loan_value', 'loan_limit', 'date_contract', 'contract_phase',\n",
      "       'nu_dias_atraso', 'total_debt', 'birth_year', 'default'],\n",
      "      dtype='object')\n"
     ]
    }
   ],
   "source": [
    "new_names ={\"NU_ANO_SEMESTRE_INSCRICAO\":\"semester_enroll\",\n",
    "            \"SG_SEXO\":\"gender\",\n",
    "            \"DS_OCUPACAO\":\"occupation\",\n",
    "            \"DS_RACA_COR\" : \"ethnicity\",\n",
    "            \"NU_ANO_CONCLUSAO_ENSINO_MEDIO\":\"high_school_endyear\",\n",
    "            \"SG_UF_CURSO\": \"state_course\",\n",
    "            \"QT_SEMESTRES_CURSO\": \"n_sem_course\",\n",
    "            \"VL_SEMESTRE_COM_DESCONTO\": \"tuition_discounted\",\n",
    "            \"NU_PERCENT_SOLICITADO_FINANC\":\"perc_requested\",\n",
    "            \"VL_FINANC_RECURSO_ALUNO\":\"student_resource\",\n",
    "            #\"nu_dias_atraso\":\"days_delay\",\n",
    "            \"ANO_NASC\":\"birth_year\",\n",
    "            \"DS_ESTADO_CIVIL\":\"marital_status\", \n",
    "            \"VL_RENDA_PESSOAL_BRUTA_MENSAL\": \"personal_income\",\n",
    "            \"VL_RENDA_FAMILIAR_BRUTA_MENSAL\": \"family_income\",\n",
    "            \"ST_ENSINO_MEDIO_ESCOLA_PUBLICA\": \"public_hs\",\n",
    "            \"NO_CURSO\": \"degree\",\n",
    "            \"QT_SEMESTRE_CONCLUIDO\": \"n_completed_sem\",\n",
    "            \"VL_SEMESTRE_ATUAL\": \"tuition_current\",\n",
    "            \"VL_FINANCIADO_SEMESTRE\": \"loan_value_sem\",\n",
    "            \"fase_contrato\": \"contract_phase\",\n",
    "            \"vl_divida\": \"total_debt\",            \n",
    "            \"VL_AVALIACAO_IGC\": \"igc\",\n",
    "            \"VL_FAIXA_CPC\": \"cpc\",\n",
    "            \"VL_FAIXA_CC\": \"cc\",\n",
    "            \"QT_SEMESTRE_FINANCIAMENTO\": \"sem_funded\",\n",
    "            \"QT_MEMBRO\": \"fam_size\",\n",
    "            \"VL_RENDA_PER_CAPITA\":\"income_pc\",\n",
    "            \"NU_PERCENTUAL_COMPROMETIMENTO\":\"inc_prop\",\n",
    "            \"VL_TOTAL_FINANCIAMENTO\":\"loan_value\",\n",
    "            \"VL_LIMITE_GLOBAL\":\"loan_limit\",\n",
    "            \"dt_inicio_cont\":\"date_contract\"\n",
    "}\n",
    "\n",
    "complete_set = complete_set.rename(index=str, columns=new_names)\n",
    "#complete_set.dtypes\n",
    "print(complete_set.columns)"
   ]
  },
  {
   "cell_type": "code",
   "execution_count": 65,
   "metadata": {
    "id": "HgSq5ISLvfBt"
   },
   "outputs": [],
   "source": [
    "import numpy as np\n",
    "\n",
    "# Calculate values for wrong entries (larger than 300,000 reais)\n",
    "complete_set['loan_value_sem'] = np.where((complete_set.loan_value_sem > 300000), (complete_set[\"perc_requested\"]/100 * complete_set[\"tuition_current\"]), \n",
    "                                          complete_set.loan_value_sem)"
   ]
  },
  {
   "cell_type": "markdown",
   "metadata": {
    "id": "rfn09CydogIL"
   },
   "source": [
    "### 3 - Cleaning Dataset"
   ]
  },
  {
   "cell_type": "code",
   "execution_count": 66,
   "metadata": {
    "id": "O-5uSQx3tGHY"
   },
   "outputs": [],
   "source": [
    "# Drop variables\n",
    "variables_to_drop = [\"NO_MUNICIPIO\",\n",
    "                     \"SG_UF\",\n",
    "                     \"VL_SEMESTRE_SEM_DESCONTO\",\n",
    "                     \"NU_SEMESTRE_REFERENCIA\", \n",
    "                     \"nu_dias_atraso\", \n",
    "                     \"QT_MESES_FINANC_SEMESTRE_ATUAL\"] # adicionei aqui pq não estava sendo usada -- carol \n",
    "\n",
    "complete_set_clean = complete_set.drop(variables_to_drop, axis = 1)                "
   ]
  },
  {
   "cell_type": "code",
   "execution_count": 42,
   "metadata": {
    "id": "itTdp928ogIL"
   },
   "outputs": [],
   "source": [
    "import datetime as dt\n",
    "                    \n",
    "complete_set_clean[\"date_contract\"]= complete_set_clean[\"date_contract\"].map(dt.datetime.toordinal)"
   ]
  },
  {
   "cell_type": "markdown",
   "metadata": {
    "id": "mXlAR2V7AuXa"
   },
   "source": [
    "Eliminating outliers for *family income* (4 obs.):"
   ]
  },
  {
   "cell_type": "code",
   "execution_count": 43,
   "metadata": {},
   "outputs": [],
   "source": [
    "complete_set = complete_set.loc[(complete_set['family_income'] < 100000)] "
   ]
  },
  {
   "cell_type": "code",
   "execution_count": 44,
   "metadata": {},
   "outputs": [
    {
     "data": {
      "text/plain": [
       "(637818, 37)"
      ]
     },
     "execution_count": 44,
     "metadata": {},
     "output_type": "execute_result"
    }
   ],
   "source": [
    "complete_set.shape"
   ]
  },
  {
   "cell_type": "markdown",
   "metadata": {},
   "source": [
    "Correcting variable *birth_year*:"
   ]
  },
  {
   "cell_type": "code",
   "execution_count": 45,
   "metadata": {},
   "outputs": [
    {
     "data": {
      "text/plain": [
       "(637713, 37)"
      ]
     },
     "execution_count": 45,
     "metadata": {},
     "output_type": "execute_result"
    }
   ],
   "source": [
    "# Coerces birth_year to be numeric, otherwise converts to NA\n",
    "# Filters NAs out\n",
    "complete_set = complete_set[pd.to_numeric(complete_set[\"birth_year\"],errors='coerce').notna()]\n",
    "\n",
    "# Considers only period between 1915 and 2015\n",
    "complete_set = complete_set.loc[(complete_set[\"birth_year\"] < 2015) & (complete_set[\"birth_year\"] > 1915)] \n",
    "complete_set.shape"
   ]
  },
  {
   "cell_type": "code",
   "execution_count": 61,
   "metadata": {},
   "outputs": [
    {
     "data": {
      "text/plain": [
       "count     637713\n",
       "unique        72\n",
       "top         1994\n",
       "freq       63278\n",
       "Name: birth_year, dtype: int64"
      ]
     },
     "execution_count": 61,
     "metadata": {},
     "output_type": "execute_result"
    },
    {
     "data": {
      "image/png": "[encoded data removed]",
      "text/plain": [
       "<Figure size 432x288 with 1 Axes>"
      ]
     },
     "metadata": {
      "needs_background": "light"
     },
     "output_type": "display_data"
    }
   ],
   "source": [
    "complete_set[\"birth_year\"].hist()"
   ]
  },
  {
   "cell_type": "markdown",
   "metadata": {
    "id": "7Kcob9Y0ogIM"
   },
   "source": [
    "Some variables are better interprerted as categories."
   ]
  },
  {
   "cell_type": "code",
   "execution_count": 68,
   "metadata": {
    "colab": {
     "base_uri": "https://localhost:8080/"
    },
    "id": "OQVfPSZnftsR",
    "outputId": "2fa30007-f910-4f43-861d-c01c167f5a52"
   },
   "outputs": [
    {
     "data": {
      "text/plain": [
       "default                1.000000\n",
       "n_sem_course          -0.225113\n",
       "sem_funded            -0.191564\n",
       "total_debt            -0.169234\n",
       "loan_value            -0.166768\n",
       "tuition_discounted    -0.150590\n",
       "perc_requested         0.149988\n",
       "tuition_current       -0.149169\n",
       "student_resource      -0.144959\n",
       "family_income         -0.144437\n",
       "loan_limit            -0.139739\n",
       "loan_value_sem        -0.112094\n",
       "fam_size              -0.102813\n",
       "igc                   -0.080053\n",
       "cc                    -0.054764\n",
       "cpc                   -0.050762\n",
       "inc_prop               0.046437\n",
       "n_completed_sem        0.042785\n",
       "date_contract         -0.041436\n",
       "personal_income       -0.015609\n",
       "high_school_endyear    0.013586\n",
       "income_pc             -0.007431\n",
       "semester_enroll        0.006789\n",
       "Name: default, dtype: float64"
      ]
     },
     "execution_count": 68,
     "metadata": {
      "tags": []
     },
     "output_type": "execute_result"
    }
   ],
   "source": [
    "# Calculate correlations with target (default)\n",
    "corr_matrix = complete_set_clean.corr()\n",
    "corr_matrix[\"default\"].sort_values(ascending=False, key=pd.Series.abs)"
   ]
  },
  {
   "cell_type": "markdown",
   "metadata": {
    "id": "l3sKb1nWogIM"
   },
   "source": [
    "### 4 - Add atributes"
   ]
  },
  {
   "cell_type": "markdown",
   "metadata": {
    "id": "yv-XDRCDAuXb"
   },
   "source": [
    "Adds a columns for a dummy that defines if the main occupation is student. An another one to define if the delay in repayment is more than one year (365 days)"
   ]
  },
  {
   "cell_type": "code",
   "execution_count": 38,
   "metadata": {
    "id": "-0wC7L7dogIM"
   },
   "outputs": [],
   "source": [
    "#Recode ocupacao\n",
    "complete_set_clean=complete_set_clean.assign(student=1*(complete_set[\"occupation\"]==\"Estudante\"))\n",
    "complete_set_clean=complete_set_clean.assign(default=1*(complete_set[\"days_delay\"]>=365))"
   ]
  },
  {
   "cell_type": "markdown",
   "metadata": {
    "id": "bJVOljkGogIT"
   },
   "source": [
    "### 5 - Cleaning Data "
   ]
  },
  {
   "cell_type": "code",
   "execution_count": 39,
   "metadata": {
    "id": "X3smpA04ogIN"
   },
   "outputs": [],
   "source": [
    "#Here are the columns we want to drop NA's and not treat like using median, or something else\n",
    "complete_set_clean = complete_set_clean.dropna(subset=[\"semester_enroll\",\n",
    "                                                       \"gender\",\n",
    "                                                       \"occupation\",\n",
    "                                                       \"marital_status\",\n",
    "                                                       \"ethnicity\",\n",
    "                                                       \"public_hs\",\n",
    "                                                       \"state_course\",\n",
    "                                                       \"degree\",\n",
    "                                                       \"igc\",\"cpc\",\"cc\",\n",
    "                                                       \"contract_phase\",\n",
    "                                                       \"birth_year\",\n",
    "                                                       \"high_school_endyear\"])"
   ]
  },
  {
   "cell_type": "code",
   "execution_count": 40,
   "metadata": {
    "id": "_Zf3ApfLogIM"
   },
   "outputs": [],
   "source": [
    "#Birth year has to be corrected in the excel file\n",
    "complete_set_clean = complete_set_clean.astype({\"semester_enroll\":str,\n",
    "                                                \"igc\":'int64',\"cpc\":'int64',\"cc\":'int64',\n",
    "                                               \"birth_year\":str\n",
    "                                               })"
   ]
  },
  {
   "cell_type": "code",
   "execution_count": 41,
   "metadata": {
    "id": "Eyohg-mRogIO"
   },
   "outputs": [],
   "source": [
    "#Get only categorical\n",
    "complete_set_cat = complete_set_clean.select_dtypes(include=[\"object\"])"
   ]
  },
  {
   "cell_type": "markdown",
   "metadata": {
    "id": "fVwJfudJogIS"
   },
   "source": [
    "### 6 - Creating a training and a test set\n",
    "\n",
    "In this section we will create the training and test set using the function *train_test_split* from Scikit-Learn. Two important considerations about our choice:\n",
    "\n",
    "* Our dataset is a sample provided by the Brazilian Governent and will not be updated. Therefore, we chose not to be concerned about future splits with updated data;\n",
    "\n",
    "* Our data includes 637,822 instances. We assume it is big enough and do not employ stratified sampling."
   ]
  },
  {
   "cell_type": "code",
   "execution_count": 42,
   "metadata": {
    "id": "hJuseFTaogIS"
   },
   "outputs": [],
   "source": [
    "from sklearn.model_selection import train_test_split\n",
    "train_set, test_set = train_test_split(complete_set_clean, test_size=0.2, random_state=42)"
   ]
  },
  {
   "cell_type": "code",
   "execution_count": 43,
   "metadata": {
    "id": "00B7-iH4Z_ZW"
   },
   "outputs": [],
   "source": [
    "fies = train_set.drop(\"default\", axis=1) # drop labels for training set\n",
    "fies_labels = train_set[\"default\"].copy()"
   ]
  },
  {
   "cell_type": "code",
   "execution_count": null,
   "metadata": {
    "id": "Vrr4L_uoZ_ZW"
   },
   "outputs": [],
   "source": [
    "sample_incomplete_rows = fies[fies.isnull().any(axis=1)].head()\n",
    "sample_incomplete_rows"
   ]
  },
  {
   "cell_type": "markdown",
   "metadata": {
    "id": "VIJ6MzxrogIO"
   },
   "source": [
    "### 7 - Pipeline\n",
    "\n",
    "Functions that will be used to tranform our dataset"
   ]
  },
  {
   "cell_type": "code",
   "execution_count": 45,
   "metadata": {
    "id": "NjKb_CdHogIR"
   },
   "outputs": [],
   "source": [
    "from sklearn.pipeline import Pipeline\n",
    "from sklearn.preprocessing import StandardScaler\n",
    "from sklearn.impute import SimpleImputer\n",
    "\n",
    "\n",
    "num_pipeline = Pipeline([\n",
    "        (\"num_imputer\", SimpleImputer(strategy=\"median\")),\n",
    "        (\"std_scaler\", StandardScaler()),\n",
    "    ])"
   ]
  },
  {
   "cell_type": "code",
   "execution_count": 46,
   "metadata": {
    "id": "IGJn2aCfAuXj"
   },
   "outputs": [],
   "source": [
    "from sklearn.pipeline import Pipeline\n",
    "from sklearn.preprocessing import OrdinalEncoder\n",
    "\n",
    "ord_pipeline = Pipeline([\n",
    "        (\"ord_imputer\", SimpleImputer(strategy=\"most_frequent\")),\n",
    "        (\"ord_encoder\", OrdinalEncoder()),\n",
    "    ])"
   ]
  },
  {
   "cell_type": "code",
   "execution_count": 47,
   "metadata": {
    "id": "3gaCsGRFogIR"
   },
   "outputs": [],
   "source": [
    "ord_attribs = ['igc','cpc','cc','date_contract']\n",
    "\n",
    "num_attribs = ['family_income',\n",
    "               'personal_income',\n",
    "               'high_school_endyear',\n",
    "               'n_sem_course',\n",
    "               'n_completed_sem',\n",
    "               'sem_funded',\n",
    "               'QT_MESES_FINANC_SEMESTRE_ATUAL',\n",
    "               'fam_size',\n",
    "               'income_pc',\n",
    "               'tuition_discounted',\n",
    "               'tuition_current',\n",
    "               'inc_prop',\n",
    "               'perc_requested',\n",
    "               'loan_value_sem',\n",
    "               'student_resource',\n",
    "               'loan_value',\n",
    "               'loan_limit',\n",
    "              #'days_delay',\n",
    "               'total_debt']    \n",
    "\n",
    "cat_attribs = ['semester_enroll',\n",
    "               'gender',\n",
    "               'occupation', \n",
    "               'marital_status',\n",
    "               'ethnicity', 'public_hs', 'state_course', 'degree', 'contract_phase',\n",
    "               'birth_year'\n",
    "              ]"
   ]
  },
  {
   "cell_type": "code",
   "execution_count": 48,
   "metadata": {
    "id": "jgFC9XOHAuXk"
   },
   "outputs": [],
   "source": [
    "# Full pipeline\n",
    "from sklearn.compose import ColumnTransformer\n",
    "from sklearn.preprocessing import OneHotEncoder\n",
    "\n",
    "full_pipeline = ColumnTransformer([\n",
    "        (\"num\", num_pipeline, num_attribs),\n",
    "        (\"cat\", OneHotEncoder(), cat_attribs),\n",
    "        (\"ord\", ord_pipeline,ord_attribs)\n",
    "        ])"
   ]
  },
  {
   "cell_type": "code",
   "execution_count": 49,
   "metadata": {
    "id": "BGEokMJdAuXl"
   },
   "outputs": [],
   "source": [
    "fies_prepared = full_pipeline.fit_transform(fies)"
   ]
  },
  {
   "cell_type": "code",
   "execution_count": 50,
   "metadata": {
    "colab": {
     "base_uri": "https://localhost:8080/"
    },
    "id": "TyxLL2C_ogIS",
    "outputId": "959553b7-edce-4689-ced7-6334c9714c97"
   },
   "outputs": [
    {
     "data": {
      "text/plain": [
       "<1x482 sparse matrix of type '<class 'numpy.float64'>'\n",
       "\twith 31 stored elements in Compressed Sparse Row format>"
      ]
     },
     "execution_count": 50,
     "metadata": {
      "tags": []
     },
     "output_type": "execute_result"
    }
   ],
   "source": [
    "fies_prepared[:1]"
   ]
  },
  {
   "cell_type": "markdown",
   "metadata": {
    "id": "3CASdeLRZ_ZZ"
   },
   "source": [
    "### 8 - Classifiers\n",
    "\n"
   ]
  },
  {
   "cell_type": "code",
   "execution_count": 51,
   "metadata": {
    "colab": {
     "base_uri": "https://localhost:8080/"
    },
    "id": "BPh4oqOhZ_ZZ",
    "outputId": "0c3f586c-356d-46ca-d5d3-562ccf943d5b"
   },
   "outputs": [
    {
     "name": "stderr",
     "output_type": "stream",
     "text": [
      "/usr/local/lib/python3.7/dist-packages/sklearn/linear_model/_stochastic_gradient.py:557: ConvergenceWarning: Maximum number of iteration reached before convergence. Consider increasing max_iter to improve the fit.\n",
      "  ConvergenceWarning)\n",
      "/usr/local/lib/python3.7/dist-packages/sklearn/linear_model/_stochastic_gradient.py:557: ConvergenceWarning: Maximum number of iteration reached before convergence. Consider increasing max_iter to improve the fit.\n",
      "  ConvergenceWarning)\n",
      "/usr/local/lib/python3.7/dist-packages/sklearn/linear_model/_stochastic_gradient.py:557: ConvergenceWarning: Maximum number of iteration reached before convergence. Consider increasing max_iter to improve the fit.\n",
      "  ConvergenceWarning)\n",
      "/usr/local/lib/python3.7/dist-packages/sklearn/linear_model/_stochastic_gradient.py:557: ConvergenceWarning: Maximum number of iteration reached before convergence. Consider increasing max_iter to improve the fit.\n",
      "  ConvergenceWarning)\n"
     ]
    },
    {
     "data": {
      "text/plain": [
       "0.7215963069670138"
      ]
     },
     "execution_count": 51,
     "metadata": {
      "tags": []
     },
     "output_type": "execute_result"
    }
   ],
   "source": [
    "from sklearn.linear_model import SGDClassifier\n",
    "from sklearn.model_selection import cross_val_score\n",
    "\n",
    "sgd_clf = SGDClassifier(max_iter=1000, random_state=42)\n",
    "sgd_clf.fit(fies_prepared, fies_labels)\n",
    "(cross_val_score(sgd_clf, fies_prepared, fies_labels, cv=3, scoring=\"roc_auc\")).mean()"
   ]
  },
  {
   "cell_type": "code",
   "execution_count": 52,
   "metadata": {
    "colab": {
     "base_uri": "https://localhost:8080/"
    },
    "id": "kIeJWYMpHFQ1",
    "outputId": "289b9de3-1b3c-496e-ce11-681f4126ca2a"
   },
   "outputs": [
    {
     "name": "stderr",
     "output_type": "stream",
     "text": [
      "/usr/local/lib/python3.7/dist-packages/sklearn/linear_model/_logistic.py:940: ConvergenceWarning: lbfgs failed to converge (status=1):\n",
      "STOP: TOTAL NO. of ITERATIONS REACHED LIMIT.\n",
      "\n",
      "Increase the number of iterations (max_iter) or scale the data as shown in:\n",
      "    https://scikit-learn.org/stable/modules/preprocessing.html\n",
      "Please also refer to the documentation for alternative solver options:\n",
      "    https://scikit-learn.org/stable/modules/linear_model.html#logistic-regression\n",
      "  extra_warning_msg=_LOGISTIC_SOLVER_CONVERGENCE_MSG)\n",
      "/usr/local/lib/python3.7/dist-packages/sklearn/linear_model/_logistic.py:940: ConvergenceWarning: lbfgs failed to converge (status=1):\n",
      "STOP: TOTAL NO. of ITERATIONS REACHED LIMIT.\n",
      "\n",
      "Increase the number of iterations (max_iter) or scale the data as shown in:\n",
      "    https://scikit-learn.org/stable/modules/preprocessing.html\n",
      "Please also refer to the documentation for alternative solver options:\n",
      "    https://scikit-learn.org/stable/modules/linear_model.html#logistic-regression\n",
      "  extra_warning_msg=_LOGISTIC_SOLVER_CONVERGENCE_MSG)\n",
      "/usr/local/lib/python3.7/dist-packages/sklearn/linear_model/_logistic.py:940: ConvergenceWarning: lbfgs failed to converge (status=1):\n",
      "STOP: TOTAL NO. of ITERATIONS REACHED LIMIT.\n",
      "\n",
      "Increase the number of iterations (max_iter) or scale the data as shown in:\n",
      "    https://scikit-learn.org/stable/modules/preprocessing.html\n",
      "Please also refer to the documentation for alternative solver options:\n",
      "    https://scikit-learn.org/stable/modules/linear_model.html#logistic-regression\n",
      "  extra_warning_msg=_LOGISTIC_SOLVER_CONVERGENCE_MSG)\n",
      "/usr/local/lib/python3.7/dist-packages/sklearn/linear_model/_logistic.py:940: ConvergenceWarning: lbfgs failed to converge (status=1):\n",
      "STOP: TOTAL NO. of ITERATIONS REACHED LIMIT.\n",
      "\n",
      "Increase the number of iterations (max_iter) or scale the data as shown in:\n",
      "    https://scikit-learn.org/stable/modules/preprocessing.html\n",
      "Please also refer to the documentation for alternative solver options:\n",
      "    https://scikit-learn.org/stable/modules/linear_model.html#logistic-regression\n",
      "  extra_warning_msg=_LOGISTIC_SOLVER_CONVERGENCE_MSG)\n"
     ]
    },
    {
     "data": {
      "text/plain": [
       "0.7527700284875865"
      ]
     },
     "execution_count": 52,
     "metadata": {
      "tags": []
     },
     "output_type": "execute_result"
    }
   ],
   "source": [
    "from sklearn.linear_model import LogisticRegression\n",
    "\n",
    "logr = LogisticRegression(max_iter=1000, random_state=42, solver='lbfgs')\n",
    "logr.fit(fies_prepared, fies_labels)\n",
    "(cross_val_score(logr, fies_prepared, fies_labels, cv=3, scoring=\"roc_auc\")).mean()"
   ]
  },
  {
   "cell_type": "code",
   "execution_count": 56,
   "metadata": {
    "colab": {
     "base_uri": "https://localhost:8080/"
    },
    "id": "-99RFgmhHsem",
    "outputId": "0a87aa76-2667-4732-9f3c-2fb8c1df3b9e"
   },
   "outputs": [
    {
     "data": {
      "text/plain": [
       "0.797843514468243"
      ]
     },
     "execution_count": 56,
     "metadata": {
      "tags": []
     },
     "output_type": "execute_result"
    }
   ],
   "source": [
    "from sklearn.ensemble import RandomForestClassifier\n",
    "\n",
    "rf = RandomForestClassifier()\n",
    "rf.fit(fies_prepared, fies_labels)\n",
    "(cross_val_score(rf, fies_prepared, fies_labels, cv=3, scoring=\"roc_auc\")).mean()"
   ]
  },
  {
   "cell_type": "code",
   "execution_count": 54,
   "metadata": {
    "colab": {
     "base_uri": "https://localhost:8080/"
    },
    "id": "qNNXi5csiyOc",
    "outputId": "64b2b8cc-b269-406b-9633-6d0f3787816a"
   },
   "outputs": [
    {
     "data": {
      "text/plain": [
       "MLPClassifier(activation='relu', alpha=0.0001, batch_size='auto', beta_1=0.9,\n",
       "              beta_2=0.999, early_stopping=False, epsilon=1e-08,\n",
       "              hidden_layer_sizes=(10, 10, 10), learning_rate='constant',\n",
       "              learning_rate_init=0.001, max_fun=15000, max_iter=500,\n",
       "              momentum=0.9, n_iter_no_change=10, nesterovs_momentum=True,\n",
       "              power_t=0.5, random_state=None, shuffle=True, solver='adam',\n",
       "              tol=0.0001, validation_fraction=0.1, verbose=False,\n",
       "              warm_start=False)"
      ]
     },
     "execution_count": 54,
     "metadata": {
      "tags": []
     },
     "output_type": "execute_result"
    }
   ],
   "source": [
    "from sklearn.neural_network import MLPClassifier\n",
    "\n",
    "mlp = MLPClassifier(hidden_layer_sizes=(10, 10, 10), max_iter=500)\n",
    "mlp.fit(fies_prepared, fies_labels.values.ravel())"
   ]
  },
  {
   "cell_type": "code",
   "execution_count": 55,
   "metadata": {
    "colab": {
     "base_uri": "https://localhost:8080/"
    },
    "id": "LoidnOBqjpxG",
    "outputId": "9c6e7541-5710-430e-e9d7-408db9d014e7"
   },
   "outputs": [
    {
     "data": {
      "text/plain": [
       "0.8324472103276103"
      ]
     },
     "execution_count": 55,
     "metadata": {
      "tags": []
     },
     "output_type": "execute_result"
    }
   ],
   "source": [
    "(cross_val_score(mlp, fies_prepared, fies_labels, cv=3, scoring=\"roc_auc\")).mean()"
   ]
  }
 ],
 "metadata": {
  "accelerator": "GPU",
  "colab": {
   "collapsed_sections": [],
   "include_colab_link": true,
   "name": "Module00_LoadingData.ipynb",
   "provenance": []
  },
  "kernelspec": {
   "display_name": "Python 3",
   "language": "python",
   "name": "python3"
  },
  "language_info": {
   "codemirror_mode": {
    "name": "ipython",
    "version": 3
   },
   "file_extension": ".py",
   "mimetype": "text/x-python",
   "name": "python",
   "nbconvert_exporter": "python",
   "pygments_lexer": "ipython3",
   "version": "3.8.3"
  }
 },
 "nbformat": 4,
 "nbformat_minor": 4
}
