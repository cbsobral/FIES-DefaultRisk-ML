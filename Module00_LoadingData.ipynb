{
 "cells": [
  {
   "cell_type": "markdown",
   "metadata": {
    "colab_type": "text",
    "id": "view-in-github"
   },
   "source": [
    "<a href=\"https://colab.research.google.com/github/cbsobral/ml-fies/blob/main/Module00_LoadingData.ipynb\" target=\"_parent\"><img src=\"https://colab.research.google.com/assets/colab-badge.svg\" alt=\"Open In Colab\"/></a>"
   ]
  },
  {
   "cell_type": "markdown",
   "metadata": {
    "id": "qSSIbHD3ogH6"
   },
   "source": [
    "## Module 00 - Loading data and creating training and test sets\n",
    "\n",
    "In this first module, we perform the following steps:\n",
    "\n",
    "1. Load the data from Google Drive in two parts (the file is too big to load at once);\n",
    "2. Exclude irrelevant variables or variables with too many missing values;\n",
    "3. Rename variables in English and possibly with shorter names;\n",
    "4. Divide training and test set."
   ]
  },
  {
   "cell_type": "markdown",
   "metadata": {
    "id": "D15x3tAyogIC"
   },
   "source": [
    "### 1 - Load the data in two parts:"
   ]
  },
  {
   "cell_type": "code",
   "execution_count": 1,
   "metadata": {
    "colab": {
     "base_uri": "https://localhost:8080/"
    },
    "id": "5AkGS1VgogID",
    "outputId": "3da82a0e-44ab-4f78-8163-1f931b822d12"
   },
   "outputs": [
    {
     "data": {
      "text/plain": [
       "(309999, 37)"
      ]
     },
     "execution_count": 1,
     "metadata": {},
     "output_type": "execute_result"
    }
   ],
   "source": [
    "import pandas as pd\n",
    "\n",
    "url_a = \"https://drive.google.com/file/d/1prPbFSiXFTHmTHzXTGxy4HrtRxXUHhce/view?usp=sharing\"\n",
    "path_a = \"https://drive.google.com/uc?export=download&id=\"+url_a.split(\"/\")[-2]\n",
    "base_df_a = pd.read_excel(path_a)\n",
    "base_df_a.shape"
   ]
  },
  {
   "cell_type": "code",
   "execution_count": 2,
   "metadata": {
    "colab": {
     "base_uri": "https://localhost:8080/"
    },
    "id": "hyJ2yJuqogIG",
    "outputId": "f408f506-1053-4fc3-a31a-df629468691a"
   },
   "outputs": [
    {
     "data": {
      "text/plain": [
       "(327823, 37)"
      ]
     },
     "execution_count": 2,
     "metadata": {},
     "output_type": "execute_result"
    }
   ],
   "source": [
    "url_b = \"https://drive.google.com/file/d/1nGckSszPPifPvR3o5FeYaKArUYbfjHGn/view?usp=sharing\"\n",
    "path_b = \"https://drive.google.com/uc?export=download&id=\"+url_b.split(\"/\")[-2]\n",
    "base_df_b = pd.read_excel(path_b)\n",
    "base_df_b.shape"
   ]
  },
  {
   "cell_type": "code",
   "execution_count": 83,
   "metadata": {
    "colab": {
     "base_uri": "https://localhost:8080/"
    },
    "id": "1nhq9lgWogII",
    "outputId": "2ed71817-0bb2-4d38-e3d7-0837b51fabd0"
   },
   "outputs": [
    {
     "data": {
      "text/plain": [
       "(637822, 37)"
      ]
     },
     "execution_count": 83,
     "metadata": {},
     "output_type": "execute_result"
    }
   ],
   "source": [
    "complete_set = base_df_a.append(base_df_b)\n",
    "complete_set.shape"
   ]
  },
  {
   "cell_type": "markdown",
   "metadata": {
    "id": "SjnAzKW4ogIJ"
   },
   "source": [
    "### 2 - Renaming variables"
   ]
  },
  {
   "cell_type": "markdown",
   "metadata": {},
   "source": [
    "New variables:"
   ]
  },
  {
   "cell_type": "code",
   "execution_count": 84,
   "metadata": {
    "id": "Ky27V0YJogIK"
   },
   "outputs": [],
   "source": [
    "complete_set = complete_set[pd.to_numeric(complete_set[\"ANO_NASC\"],errors='coerce').notna()]\n",
    "\n",
    "# student\n",
    "complete_set = complete_set.assign(student = 1*(complete_set[\"DS_OCUPACAO\"]==\"Estudante\"))\n",
    "\n",
    "# default\n",
    "complete_set = complete_set.assign(default = 1*(complete_set[\"nu_dias_atraso\"]>=365))\n",
    "\n",
    "# age\n",
    "complete_set = complete_set.assign(age     = 2015 - (complete_set[\"ANO_NASC\"]))"
   ]
  },
  {
   "cell_type": "code",
   "execution_count": null,
   "metadata": {},
   "outputs": [],
   "source": [
    "\n"
   ]
  },
  {
   "cell_type": "code",
   "execution_count": 85,
   "metadata": {
    "colab": {
     "base_uri": "https://localhost:8080/"
    },
    "id": "gz8vy6TVogIK",
    "outputId": "fcaa4d43-8bd8-4710-a0ef-8a3dc5813b64"
   },
   "outputs": [
    {
     "name": "stdout",
     "output_type": "stream",
     "text": [
      "Index(['semester_enroll', 'gender', 'occupation', 'marital_status',\n",
      "       'family_income', 'personal_income', 'NO_MUNICIPIO', 'SG_UF',\n",
      "       'ethnicity', 'public_hs', 'high_school_endyear',\n",
      "       'NU_SEMESTRE_REFERENCIA', 'state_course', 'degree', 'igc', 'cpc', 'cc',\n",
      "       'n_sem_course', 'n_completed_sem', 'sem_funded',\n",
      "       'QT_MESES_FINANC_SEMESTRE_ATUAL', 'fam_size', 'income_pc',\n",
      "       'VL_SEMESTRE_SEM_DESCONTO', 'tuition_discounted', 'tuition_current',\n",
      "       'inc_prop', 'perc_requested', 'loan_value_sem', 'student_resource',\n",
      "       'loan_value', 'loan_limit', 'date_contract', 'contract_phase',\n",
      "       'nu_dias_atraso', 'total_debt', 'birth_year', 'student', 'default',\n",
      "       'age'],\n",
      "      dtype='object')\n"
     ]
    }
   ],
   "source": [
    "new_names ={\"NU_ANO_SEMESTRE_INSCRICAO\":\"semester_enroll\",\n",
    "            \"SG_SEXO\":\"gender\",\n",
    "            \"DS_OCUPACAO\":\"occupation\",\n",
    "            \"DS_RACA_COR\" : \"ethnicity\",\n",
    "            \"NU_ANO_CONCLUSAO_ENSINO_MEDIO\":\"high_school_endyear\",\n",
    "            \"SG_UF_CURSO\": \"state_course\",\n",
    "            \"QT_SEMESTRES_CURSO\": \"n_sem_course\",\n",
    "            \"VL_SEMESTRE_COM_DESCONTO\": \"tuition_discounted\",\n",
    "            \"NU_PERCENT_SOLICITADO_FINANC\":\"perc_requested\",\n",
    "            \"VL_FINANC_RECURSO_ALUNO\":\"student_resource\",\n",
    "            #\"nu_dias_atraso\":\"days_delay\",\n",
    "            \"ANO_NASC\":\"birth_year\",\n",
    "            \"DS_ESTADO_CIVIL\":\"marital_status\", \n",
    "            \"VL_RENDA_PESSOAL_BRUTA_MENSAL\": \"personal_income\",\n",
    "            \"VL_RENDA_FAMILIAR_BRUTA_MENSAL\": \"family_income\",\n",
    "            \"ST_ENSINO_MEDIO_ESCOLA_PUBLICA\": \"public_hs\",\n",
    "            \"NO_CURSO\": \"degree\",\n",
    "            \"QT_SEMESTRE_CONCLUIDO\": \"n_completed_sem\",\n",
    "            \"VL_SEMESTRE_ATUAL\": \"tuition_current\",\n",
    "            \"VL_FINANCIADO_SEMESTRE\": \"loan_value_sem\",\n",
    "            \"fase_contrato\": \"contract_phase\",\n",
    "            \"vl_divida\": \"total_debt\",            \n",
    "            \"VL_AVALIACAO_IGC\": \"igc\",\n",
    "            \"VL_FAIXA_CPC\": \"cpc\",\n",
    "            \"VL_FAIXA_CC\": \"cc\",\n",
    "            \"QT_SEMESTRE_FINANCIAMENTO\": \"sem_funded\",\n",
    "            \"QT_MEMBRO\": \"fam_size\",\n",
    "            \"VL_RENDA_PER_CAPITA\":\"income_pc\",\n",
    "            \"NU_PERCENTUAL_COMPROMETIMENTO\":\"inc_prop\",\n",
    "            \"VL_TOTAL_FINANCIAMENTO\":\"loan_value\",\n",
    "            \"VL_LIMITE_GLOBAL\":\"loan_limit\",\n",
    "            \"dt_inicio_cont\":\"date_contract\"\n",
    "}\n",
    "\n",
    "complete_set = complete_set.rename(index=str, columns=new_names)\n",
    "#complete_set.dtypes\n",
    "print(complete_set.columns)"
   ]
  },
  {
   "cell_type": "code",
   "execution_count": 86,
   "metadata": {
    "id": "HgSq5ISLvfBt"
   },
   "outputs": [],
   "source": [
    "import numpy as np\n",
    "\n",
    "# Calculate values for wrong entries (larger than 300,000 reais)\n",
    "complete_set['loan_value_sem'] = np.where((complete_set.loan_value_sem > 300000), (complete_set[\"perc_requested\"]/100 * complete_set[\"tuition_current\"]), \n",
    "                                          complete_set.loan_value_sem)"
   ]
  },
  {
   "cell_type": "markdown",
   "metadata": {
    "id": "rfn09CydogIL"
   },
   "source": [
    "### 3 - Cleaning Dataset"
   ]
  },
  {
   "cell_type": "code",
   "execution_count": 87,
   "metadata": {
    "id": "O-5uSQx3tGHY"
   },
   "outputs": [],
   "source": [
    "# Drop variables\n",
    "variables_to_drop = [\"NO_MUNICIPIO\",\n",
    "                     \"SG_UF\",\n",
    "                     \"VL_SEMESTRE_SEM_DESCONTO\",\n",
    "                     \"NU_SEMESTRE_REFERENCIA\", \n",
    "                     \"nu_dias_atraso\", \n",
    "                     \"QT_MESES_FINANC_SEMESTRE_ATUAL\"] # adicionei aqui pq não estava sendo usada -- carol \n",
    "\n",
    "complete_set_clean = complete_set.drop(variables_to_drop, axis = 1)                "
   ]
  },
  {
   "cell_type": "code",
   "execution_count": 88,
   "metadata": {
    "id": "itTdp928ogIL"
   },
   "outputs": [],
   "source": [
    "import datetime as dt\n",
    "                    \n",
    "complete_set_clean[\"date_contract\"]= complete_set_clean[\"date_contract\"].map(dt.datetime.toordinal)"
   ]
  },
  {
   "cell_type": "markdown",
   "metadata": {
    "id": "mXlAR2V7AuXa"
   },
   "source": [
    "Eliminating outliers for *family income* (4 obs.):"
   ]
  },
  {
   "cell_type": "code",
   "execution_count": 89,
   "metadata": {},
   "outputs": [],
   "source": [
    "complete_set_clean = complete_set_clean.loc[(complete_set_clean['family_income'] < 100000)] "
   ]
  },
  {
   "cell_type": "code",
   "execution_count": 90,
   "metadata": {},
   "outputs": [
    {
     "data": {
      "text/plain": [
       "(637715, 34)"
      ]
     },
     "execution_count": 90,
     "metadata": {},
     "output_type": "execute_result"
    }
   ],
   "source": [
    "complete_set_clean.shape"
   ]
  },
  {
   "cell_type": "markdown",
   "metadata": {},
   "source": [
    "Limiting the variable *age* to interval (10,100):"
   ]
  },
  {
   "cell_type": "code",
   "execution_count": 91,
   "metadata": {},
   "outputs": [
    {
     "data": {
      "text/plain": [
       "array([24, 25, 19, 23, 22, 20, 26, 27, 32, 18, 21, 62, 46, 30, 31, 33, 34,\n",
       "       48, 52, 35, 36, 50, 45, 60, 28, 44, 47, 37, 56, 39, 43, 29, 49, 59,\n",
       "       51, 55, 57, 63, 38, 65, 58, 42, 61, 40, 54, 41, 53, 64, 68, 66, 70,\n",
       "       72, 7, 17, 71, 75, 67, 69, 74, 16, 8, 76, 115, 10, 77, 78, 79, 73,\n",
       "       87, 15, 13, 12, 11, 118], dtype=object)"
      ]
     },
     "execution_count": 91,
     "metadata": {},
     "output_type": "execute_result"
    }
   ],
   "source": [
    "complete_set_clean[\"age\"].unique()"
   ]
  },
  {
   "cell_type": "code",
   "execution_count": 92,
   "metadata": {},
   "outputs": [],
   "source": [
    "complete_set_clean = complete_set_clean.loc[(complete_set_clean['age'] < 100) & (complete_set_clean['age'] > 10)] "
   ]
  },
  {
   "cell_type": "code",
   "execution_count": 98,
   "metadata": {},
   "outputs": [
    {
     "data": {
      "text/plain": [
       "21    63278\n",
       "20    58433\n",
       "22    54722\n",
       "23    45584\n",
       "24    38360\n",
       "      ...  \n",
       "79        1\n",
       "15        1\n",
       "13        1\n",
       "12        1\n",
       "11        1\n",
       "Name: age, Length: 69, dtype: int64"
      ]
     },
     "execution_count": 98,
     "metadata": {},
     "output_type": "execute_result"
    }
   ],
   "source": [
    "complete_set_clean[\"age\"].value_counts()"
   ]
  },
  {
   "cell_type": "markdown",
   "metadata": {
    "id": "7Kcob9Y0ogIM"
   },
   "source": [
    "Some variables are better interprerted as categories."
   ]
  },
  {
   "cell_type": "code",
   "execution_count": 94,
   "metadata": {
    "colab": {
     "base_uri": "https://localhost:8080/"
    },
    "id": "OQVfPSZnftsR",
    "outputId": "2fa30007-f910-4f43-861d-c01c167f5a52"
   },
   "outputs": [
    {
     "data": {
      "text/plain": [
       "default                1.000000\n",
       "n_sem_course          -0.225095\n",
       "family_income         -0.224988\n",
       "income_pc             -0.206732\n",
       "sem_funded            -0.191537\n",
       "total_debt            -0.169225\n",
       "loan_value            -0.166834\n",
       "tuition_discounted    -0.150613\n",
       "perc_requested         0.149974\n",
       "tuition_current       -0.149190\n",
       "student_resource      -0.144995\n",
       "loan_limit            -0.139687\n",
       "loan_value_sem        -0.112047\n",
       "fam_size              -0.102780\n",
       "igc                   -0.080037\n",
       "student               -0.079215\n",
       "cc                    -0.054754\n",
       "cpc                   -0.050746\n",
       "inc_prop               0.046422\n",
       "n_completed_sem        0.043032\n",
       "date_contract         -0.041759\n",
       "personal_income       -0.017000\n",
       "high_school_endyear    0.013630\n",
       "semester_enroll        0.006785\n",
       "Name: default, dtype: float64"
      ]
     },
     "execution_count": 94,
     "metadata": {},
     "output_type": "execute_result"
    }
   ],
   "source": [
    "# Calculate correlations with target (default)\n",
    "corr_matrix = complete_set_clean.corr()\n",
    "corr_matrix[\"default\"].sort_values(ascending=False, key=pd.Series.abs)"
   ]
  },
  {
   "cell_type": "markdown",
   "metadata": {
    "id": "l3sKb1nWogIM"
   },
   "source": [
    "### 4 - Add atributes"
   ]
  },
  {
   "cell_type": "markdown",
   "metadata": {
    "id": "yv-XDRCDAuXb"
   },
   "source": [
    "Adds a columns for a dummy that defines if the main occupation is student. An another one to define if the delay in repayment is more than one year (365 days)"
   ]
  },
  {
   "cell_type": "code",
   "execution_count": 95,
   "metadata": {
    "id": "-0wC7L7dogIM"
   },
   "outputs": [],
   "source": [
    "#Recode ocupacao  - included in the beginning\n",
    "#complete_set_clean=complete_set_clean.assign(student=1*(complete_set_clean[\"occupation\"]==\"Estudante\"))\n",
    "#complete_set_clean=complete_set_clean.assign(default=1*(complete_set_clean[\"days_delay\"]>=365))"
   ]
  },
  {
   "cell_type": "markdown",
   "metadata": {
    "id": "bJVOljkGogIT"
   },
   "source": [
    "### 5 - Cleaning Data "
   ]
  },
  {
   "cell_type": "code",
   "execution_count": 99,
   "metadata": {
    "id": "X3smpA04ogIN"
   },
   "outputs": [],
   "source": [
    "#Here are the columns we want to drop NA's and not treat like using median, or something else\n",
    "complete_set_clean = complete_set_clean.dropna(subset=[\"semester_enroll\",\n",
    "                                                       \"gender\",\n",
    "                                                       \"occupation\",\n",
    "                                                       \"marital_status\",\n",
    "                                                       \"ethnicity\",\n",
    "                                                       \"public_hs\",\n",
    "                                                       \"state_course\",\n",
    "                                                       \"degree\",\n",
    "                                                       \"igc\",\"cpc\",\"cc\",\n",
    "                                                       \"contract_phase\",\n",
    "                                                       \"high_school_endyear\"])"
   ]
  },
  {
   "cell_type": "code",
   "execution_count": 100,
   "metadata": {
    "id": "_Zf3ApfLogIM"
   },
   "outputs": [],
   "source": [
    "#Birth year has to be corrected in the excel file\n",
    "complete_set_clean = complete_set_clean.astype({\"semester_enroll\":str,\n",
    "                                                \"igc\":'int64',\"cpc\":'int64',\"cc\":'int64'\n",
    "                                               })"
   ]
  },
  {
   "cell_type": "code",
   "execution_count": 101,
   "metadata": {
    "id": "Eyohg-mRogIO"
   },
   "outputs": [],
   "source": [
    "#Get only categorical\n",
    "complete_set_cat = complete_set_clean.select_dtypes(include=[\"object\"])"
   ]
  },
  {
   "cell_type": "markdown",
   "metadata": {
    "id": "fVwJfudJogIS"
   },
   "source": [
    "### 6 - Creating a training and a test set\n",
    "\n",
    "In this section we will create the training and test set using the function *train_test_split* from Scikit-Learn. Two important considerations about our choice:\n",
    "\n",
    "* Our dataset is a sample provided by the Brazilian Governent and will not be updated. Therefore, we chose not to be concerned about future splits with updated data;\n",
    "\n",
    "* Our data includes 637,822 instances. We assume it is big enough and do not employ stratified sampling."
   ]
  },
  {
   "cell_type": "code",
   "execution_count": 116,
   "metadata": {
    "id": "hJuseFTaogIS"
   },
   "outputs": [],
   "source": [
    "from sklearn.model_selection import train_test_split\n",
    "train_set, test_set = train_test_split(complete_set_clean, test_size=0.2, random_state=42)"
   ]
  },
  {
   "cell_type": "code",
   "execution_count": 117,
   "metadata": {
    "id": "00B7-iH4Z_ZW"
   },
   "outputs": [],
   "source": [
    "fies = train_set.drop(\"default\", axis=1) # drop labels for training set\n",
    "fies_labels = train_set[\"default\"].copy()"
   ]
  },
  {
   "cell_type": "code",
   "execution_count": 118,
   "metadata": {
    "id": "Vrr4L_uoZ_ZW"
   },
   "outputs": [
    {
     "data": {
      "text/html": [
       "<div>\n",
       "<style scoped>\n",
       "    .dataframe tbody tr th:only-of-type {\n",
       "        vertical-align: middle;\n",
       "    }\n",
       "\n",
       "    .dataframe tbody tr th {\n",
       "        vertical-align: top;\n",
       "    }\n",
       "\n",
       "    .dataframe thead th {\n",
       "        text-align: right;\n",
       "    }\n",
       "</style>\n",
       "<table border=\"1\" class=\"dataframe\">\n",
       "  <thead>\n",
       "    <tr style=\"text-align: right;\">\n",
       "      <th></th>\n",
       "      <th>family_income</th>\n",
       "      <th>personal_income</th>\n",
       "      <th>high_school_endyear</th>\n",
       "      <th>igc</th>\n",
       "      <th>cpc</th>\n",
       "      <th>cc</th>\n",
       "      <th>n_sem_course</th>\n",
       "      <th>n_completed_sem</th>\n",
       "      <th>sem_funded</th>\n",
       "      <th>fam_size</th>\n",
       "      <th>...</th>\n",
       "      <th>tuition_current</th>\n",
       "      <th>inc_prop</th>\n",
       "      <th>perc_requested</th>\n",
       "      <th>loan_value_sem</th>\n",
       "      <th>student_resource</th>\n",
       "      <th>loan_value</th>\n",
       "      <th>loan_limit</th>\n",
       "      <th>date_contract</th>\n",
       "      <th>total_debt</th>\n",
       "      <th>student</th>\n",
       "    </tr>\n",
       "  </thead>\n",
       "  <tbody>\n",
       "    <tr>\n",
       "      <th>count</th>\n",
       "      <td>5.00000</td>\n",
       "      <td>5.000000</td>\n",
       "      <td>5.000000</td>\n",
       "      <td>5.000000</td>\n",
       "      <td>5.000000</td>\n",
       "      <td>5.000000</td>\n",
       "      <td>5.000000</td>\n",
       "      <td>5.000000</td>\n",
       "      <td>5.00000</td>\n",
       "      <td>4.000000</td>\n",
       "      <td>...</td>\n",
       "      <td>5.000000</td>\n",
       "      <td>5.000000</td>\n",
       "      <td>5.0</td>\n",
       "      <td>5.000000</td>\n",
       "      <td>5.0</td>\n",
       "      <td>5.000000</td>\n",
       "      <td>5.000000</td>\n",
       "      <td>5.000000</td>\n",
       "      <td>5.000000</td>\n",
       "      <td>5.000000</td>\n",
       "    </tr>\n",
       "    <tr>\n",
       "      <th>mean</th>\n",
       "      <td>2560.30000</td>\n",
       "      <td>1420.300000</td>\n",
       "      <td>204.200000</td>\n",
       "      <td>3.400000</td>\n",
       "      <td>3.000000</td>\n",
       "      <td>4.200000</td>\n",
       "      <td>8.400000</td>\n",
       "      <td>2.600000</td>\n",
       "      <td>8.20000</td>\n",
       "      <td>3.250000</td>\n",
       "      <td>...</td>\n",
       "      <td>4682.366000</td>\n",
       "      <td>195.374000</td>\n",
       "      <td>100.0</td>\n",
       "      <td>4682.366000</td>\n",
       "      <td>0.0</td>\n",
       "      <td>37816.160000</td>\n",
       "      <td>46957.900000</td>\n",
       "      <td>735221.200000</td>\n",
       "      <td>26449.566000</td>\n",
       "      <td>0.200000</td>\n",
       "    </tr>\n",
       "    <tr>\n",
       "      <th>std</th>\n",
       "      <td>1803.03985</td>\n",
       "      <td>1597.124823</td>\n",
       "      <td>438.751296</td>\n",
       "      <td>0.547723</td>\n",
       "      <td>0.707107</td>\n",
       "      <td>0.447214</td>\n",
       "      <td>2.607681</td>\n",
       "      <td>1.949359</td>\n",
       "      <td>2.48998</td>\n",
       "      <td>0.957427</td>\n",
       "      <td>...</td>\n",
       "      <td>2094.114767</td>\n",
       "      <td>159.839277</td>\n",
       "      <td>0.0</td>\n",
       "      <td>2094.114767</td>\n",
       "      <td>0.0</td>\n",
       "      <td>11197.141124</td>\n",
       "      <td>14497.239533</td>\n",
       "      <td>238.084439</td>\n",
       "      <td>12335.191915</td>\n",
       "      <td>0.447214</td>\n",
       "    </tr>\n",
       "    <tr>\n",
       "      <th>min</th>\n",
       "      <td>700.00000</td>\n",
       "      <td>0.000000</td>\n",
       "      <td>2.000000</td>\n",
       "      <td>3.000000</td>\n",
       "      <td>2.000000</td>\n",
       "      <td>4.000000</td>\n",
       "      <td>4.000000</td>\n",
       "      <td>0.000000</td>\n",
       "      <td>5.00000</td>\n",
       "      <td>2.000000</td>\n",
       "      <td>...</td>\n",
       "      <td>2181.000000</td>\n",
       "      <td>63.420000</td>\n",
       "      <td>100.0</td>\n",
       "      <td>2181.000000</td>\n",
       "      <td>0.0</td>\n",
       "      <td>23694.000000</td>\n",
       "      <td>28056.000000</td>\n",
       "      <td>734955.000000</td>\n",
       "      <td>9250.760000</td>\n",
       "      <td>0.000000</td>\n",
       "    </tr>\n",
       "    <tr>\n",
       "      <th>25%</th>\n",
       "      <td>1141.00000</td>\n",
       "      <td>0.000000</td>\n",
       "      <td>3.000000</td>\n",
       "      <td>3.000000</td>\n",
       "      <td>3.000000</td>\n",
       "      <td>4.000000</td>\n",
       "      <td>8.000000</td>\n",
       "      <td>1.000000</td>\n",
       "      <td>6.00000</td>\n",
       "      <td>2.750000</td>\n",
       "      <td>...</td>\n",
       "      <td>3188.150000</td>\n",
       "      <td>102.670000</td>\n",
       "      <td>100.0</td>\n",
       "      <td>3188.150000</td>\n",
       "      <td>0.0</td>\n",
       "      <td>30596.400000</td>\n",
       "      <td>38245.500000</td>\n",
       "      <td>734981.000000</td>\n",
       "      <td>18226.220000</td>\n",
       "      <td>0.000000</td>\n",
       "    </tr>\n",
       "    <tr>\n",
       "      <th>50%</th>\n",
       "      <td>2198.00000</td>\n",
       "      <td>1141.000000</td>\n",
       "      <td>13.000000</td>\n",
       "      <td>3.000000</td>\n",
       "      <td>3.000000</td>\n",
       "      <td>4.000000</td>\n",
       "      <td>10.000000</td>\n",
       "      <td>4.000000</td>\n",
       "      <td>10.00000</td>\n",
       "      <td>3.500000</td>\n",
       "      <td>...</td>\n",
       "      <td>4628.000000</td>\n",
       "      <td>116.000000</td>\n",
       "      <td>100.0</td>\n",
       "      <td>4628.000000</td>\n",
       "      <td>0.0</td>\n",
       "      <td>36960.000000</td>\n",
       "      <td>46200.000000</td>\n",
       "      <td>735298.000000</td>\n",
       "      <td>32331.590000</td>\n",
       "      <td>0.000000</td>\n",
       "    </tr>\n",
       "    <tr>\n",
       "      <th>75%</th>\n",
       "      <td>3762.50000</td>\n",
       "      <td>2198.000000</td>\n",
       "      <td>14.000000</td>\n",
       "      <td>4.000000</td>\n",
       "      <td>3.000000</td>\n",
       "      <td>4.000000</td>\n",
       "      <td>10.000000</td>\n",
       "      <td>4.000000</td>\n",
       "      <td>10.00000</td>\n",
       "      <td>4.000000</td>\n",
       "      <td>...</td>\n",
       "      <td>6056.280000</td>\n",
       "      <td>238.600000</td>\n",
       "      <td>100.0</td>\n",
       "      <td>6056.280000</td>\n",
       "      <td>0.0</td>\n",
       "      <td>47725.000000</td>\n",
       "      <td>59656.250000</td>\n",
       "      <td>735435.000000</td>\n",
       "      <td>33081.240000</td>\n",
       "      <td>0.000000</td>\n",
       "    </tr>\n",
       "    <tr>\n",
       "      <th>max</th>\n",
       "      <td>5000.00000</td>\n",
       "      <td>3762.500000</td>\n",
       "      <td>989.000000</td>\n",
       "      <td>4.000000</td>\n",
       "      <td>4.000000</td>\n",
       "      <td>5.000000</td>\n",
       "      <td>10.000000</td>\n",
       "      <td>4.000000</td>\n",
       "      <td>10.00000</td>\n",
       "      <td>4.000000</td>\n",
       "      <td>...</td>\n",
       "      <td>7358.400000</td>\n",
       "      <td>456.180000</td>\n",
       "      <td>100.0</td>\n",
       "      <td>7358.400000</td>\n",
       "      <td>0.0</td>\n",
       "      <td>50105.400000</td>\n",
       "      <td>62631.750000</td>\n",
       "      <td>735437.000000</td>\n",
       "      <td>39358.020000</td>\n",
       "      <td>1.000000</td>\n",
       "    </tr>\n",
       "  </tbody>\n",
       "</table>\n",
       "<p>8 rows × 22 columns</p>\n",
       "</div>"
      ],
      "text/plain": [
       "       family_income  personal_income  high_school_endyear       igc  \\\n",
       "count        5.00000         5.000000             5.000000  5.000000   \n",
       "mean      2560.30000      1420.300000           204.200000  3.400000   \n",
       "std       1803.03985      1597.124823           438.751296  0.547723   \n",
       "min        700.00000         0.000000             2.000000  3.000000   \n",
       "25%       1141.00000         0.000000             3.000000  3.000000   \n",
       "50%       2198.00000      1141.000000            13.000000  3.000000   \n",
       "75%       3762.50000      2198.000000            14.000000  4.000000   \n",
       "max       5000.00000      3762.500000           989.000000  4.000000   \n",
       "\n",
       "            cpc        cc  n_sem_course  n_completed_sem  sem_funded  \\\n",
       "count  5.000000  5.000000      5.000000         5.000000     5.00000   \n",
       "mean   3.000000  4.200000      8.400000         2.600000     8.20000   \n",
       "std    0.707107  0.447214      2.607681         1.949359     2.48998   \n",
       "min    2.000000  4.000000      4.000000         0.000000     5.00000   \n",
       "25%    3.000000  4.000000      8.000000         1.000000     6.00000   \n",
       "50%    3.000000  4.000000     10.000000         4.000000    10.00000   \n",
       "75%    3.000000  4.000000     10.000000         4.000000    10.00000   \n",
       "max    4.000000  5.000000     10.000000         4.000000    10.00000   \n",
       "\n",
       "       fam_size  ...  tuition_current    inc_prop  perc_requested  \\\n",
       "count  4.000000  ...         5.000000    5.000000             5.0   \n",
       "mean   3.250000  ...      4682.366000  195.374000           100.0   \n",
       "std    0.957427  ...      2094.114767  159.839277             0.0   \n",
       "min    2.000000  ...      2181.000000   63.420000           100.0   \n",
       "25%    2.750000  ...      3188.150000  102.670000           100.0   \n",
       "50%    3.500000  ...      4628.000000  116.000000           100.0   \n",
       "75%    4.000000  ...      6056.280000  238.600000           100.0   \n",
       "max    4.000000  ...      7358.400000  456.180000           100.0   \n",
       "\n",
       "       loan_value_sem  student_resource    loan_value    loan_limit  \\\n",
       "count        5.000000               5.0      5.000000      5.000000   \n",
       "mean      4682.366000               0.0  37816.160000  46957.900000   \n",
       "std       2094.114767               0.0  11197.141124  14497.239533   \n",
       "min       2181.000000               0.0  23694.000000  28056.000000   \n",
       "25%       3188.150000               0.0  30596.400000  38245.500000   \n",
       "50%       4628.000000               0.0  36960.000000  46200.000000   \n",
       "75%       6056.280000               0.0  47725.000000  59656.250000   \n",
       "max       7358.400000               0.0  50105.400000  62631.750000   \n",
       "\n",
       "       date_contract    total_debt   student  \n",
       "count       5.000000      5.000000  5.000000  \n",
       "mean   735221.200000  26449.566000  0.200000  \n",
       "std       238.084439  12335.191915  0.447214  \n",
       "min    734955.000000   9250.760000  0.000000  \n",
       "25%    734981.000000  18226.220000  0.000000  \n",
       "50%    735298.000000  32331.590000  0.000000  \n",
       "75%    735435.000000  33081.240000  0.000000  \n",
       "max    735437.000000  39358.020000  1.000000  \n",
       "\n",
       "[8 rows x 22 columns]"
      ]
     },
     "execution_count": 118,
     "metadata": {},
     "output_type": "execute_result"
    }
   ],
   "source": [
    "sample_incomplete_rows = fies[fies.isnull().any(axis=1)].head()\n",
    "sample_incomplete_rows.describe()"
   ]
  },
  {
   "cell_type": "markdown",
   "metadata": {
    "id": "VIJ6MzxrogIO"
   },
   "source": [
    "### 7 - Pipeline\n",
    "\n",
    "Functions that will be used to tranform our dataset"
   ]
  },
  {
   "cell_type": "code",
   "execution_count": 130,
   "metadata": {
    "id": "NjKb_CdHogIR"
   },
   "outputs": [],
   "source": [
    "from sklearn.pipeline import Pipeline\n",
    "from sklearn.preprocessing import StandardScaler\n",
    "from sklearn.impute import SimpleImputer\n",
    "\n",
    "\n",
    "num_pipeline = Pipeline([\n",
    "        (\"num_imputer\", SimpleImputer(strategy=\"median\")),\n",
    "        (\"std_scaler\", StandardScaler()),\n",
    "    ])"
   ]
  },
  {
   "cell_type": "code",
   "execution_count": 131,
   "metadata": {
    "id": "IGJn2aCfAuXj"
   },
   "outputs": [],
   "source": [
    "from sklearn.pipeline import Pipeline\n",
    "from sklearn.preprocessing import OrdinalEncoder\n",
    "\n",
    "ord_pipeline = Pipeline([\n",
    "        (\"ord_imputer\", SimpleImputer(strategy=\"most_frequent\")),\n",
    "        (\"ord_encoder\", OrdinalEncoder()),\n",
    "    ])"
   ]
  },
  {
   "cell_type": "code",
   "execution_count": 132,
   "metadata": {
    "id": "3gaCsGRFogIR"
   },
   "outputs": [],
   "source": [
    "ord_attribs = ['igc','cpc','cc','date_contract'] # 4 attributes\n",
    "\n",
    "num_attribs = ['family_income',   #17\n",
    "               'personal_income',\n",
    "               'high_school_endyear',\n",
    "               'n_sem_course',\n",
    "               'n_completed_sem',\n",
    "               'sem_funded',\n",
    "               'fam_size',\n",
    "               'income_pc',\n",
    "               'tuition_discounted',\n",
    "               'tuition_current',\n",
    "               'inc_prop',\n",
    "               'perc_requested',\n",
    "               'loan_value_sem',\n",
    "               'student_resource',\n",
    "               'loan_value',\n",
    "               'loan_limit',\n",
    "               'total_debt',\n",
    "               'age']\n",
    "  \n",
    "\n",
    "cat_attribs = ['semester_enroll',  #9\n",
    "               'gender',\n",
    "               'occupation', \n",
    "               'marital_status',\n",
    "               'ethnicity', \n",
    "               'public_hs', \n",
    "               'state_course', \n",
    "               'degree', \n",
    "               'contract_phase']"
   ]
  },
  {
   "cell_type": "code",
   "execution_count": 133,
   "metadata": {
    "id": "jgFC9XOHAuXk"
   },
   "outputs": [],
   "source": [
    "# Full pipeline\n",
    "from sklearn.compose import ColumnTransformer\n",
    "from sklearn.preprocessing import OneHotEncoder\n",
    "\n",
    "full_pipeline = ColumnTransformer([\n",
    "        (\"num\", num_pipeline, num_attribs),\n",
    "        (\"cat\", OneHotEncoder(), cat_attribs),\n",
    "        (\"ord\", ord_pipeline,ord_attribs)\n",
    "        ])"
   ]
  },
  {
   "cell_type": "code",
   "execution_count": 134,
   "metadata": {
    "id": "BGEokMJdAuXl"
   },
   "outputs": [],
   "source": [
    "fies_prepared = full_pipeline.fit_transform(fies)"
   ]
  },
  {
   "cell_type": "code",
   "execution_count": 135,
   "metadata": {
    "colab": {
     "base_uri": "https://localhost:8080/"
    },
    "id": "TyxLL2C_ogIS",
    "outputId": "959553b7-edce-4689-ced7-6334c9714c97"
   },
   "outputs": [
    {
     "data": {
      "text/plain": [
       "<1x403 sparse matrix of type '<class 'numpy.float64'>'\n",
       "\twith 31 stored elements in Compressed Sparse Row format>"
      ]
     },
     "execution_count": 135,
     "metadata": {},
     "output_type": "execute_result"
    }
   ],
   "source": [
    "fies_prepared[:1]"
   ]
  },
  {
   "cell_type": "markdown",
   "metadata": {
    "id": "3CASdeLRZ_ZZ"
   },
   "source": [
    "### 8 - Classifiers\n",
    "\n"
   ]
  },
  {
   "cell_type": "code",
   "execution_count": 128,
   "metadata": {
    "colab": {
     "base_uri": "https://localhost:8080/"
    },
    "id": "BPh4oqOhZ_ZZ",
    "outputId": "0c3f586c-356d-46ca-d5d3-562ccf943d5b"
   },
   "outputs": [
    {
     "data": {
      "text/plain": [
       "0.7386817068514108"
      ]
     },
     "execution_count": 128,
     "metadata": {},
     "output_type": "execute_result"
    }
   ],
   "source": [
    "from sklearn.linear_model import SGDClassifier\n",
    "from sklearn.model_selection import cross_val_score\n",
    "\n",
    "sgd_clf = SGDClassifier(max_iter=1000, random_state=42)\n",
    "sgd_clf.fit(fies_prepared, fies_labels)\n",
    "(cross_val_score(sgd_clf, fies_prepared, fies_labels, cv=3, scoring=\"roc_auc\")).mean()"
   ]
  },
  {
   "cell_type": "code",
   "execution_count": 136,
   "metadata": {
    "colab": {
     "base_uri": "https://localhost:8080/"
    },
    "id": "kIeJWYMpHFQ1",
    "outputId": "289b9de3-1b3c-496e-ce11-681f4126ca2a"
   },
   "outputs": [
    {
     "name": "stderr",
     "output_type": "stream",
     "text": [
      "/Users/Bruno/opt/anaconda3/lib/python3.8/site-packages/sklearn/linear_model/_logistic.py:763: ConvergenceWarning: lbfgs failed to converge (status=1):\n",
      "STOP: TOTAL NO. of ITERATIONS REACHED LIMIT.\n",
      "\n",
      "Increase the number of iterations (max_iter) or scale the data as shown in:\n",
      "    https://scikit-learn.org/stable/modules/preprocessing.html\n",
      "Please also refer to the documentation for alternative solver options:\n",
      "    https://scikit-learn.org/stable/modules/linear_model.html#logistic-regression\n",
      "  n_iter_i = _check_optimize_result(\n",
      "/Users/Bruno/opt/anaconda3/lib/python3.8/site-packages/sklearn/linear_model/_logistic.py:763: ConvergenceWarning: lbfgs failed to converge (status=1):\n",
      "STOP: TOTAL NO. of ITERATIONS REACHED LIMIT.\n",
      "\n",
      "Increase the number of iterations (max_iter) or scale the data as shown in:\n",
      "    https://scikit-learn.org/stable/modules/preprocessing.html\n",
      "Please also refer to the documentation for alternative solver options:\n",
      "    https://scikit-learn.org/stable/modules/linear_model.html#logistic-regression\n",
      "  n_iter_i = _check_optimize_result(\n",
      "/Users/Bruno/opt/anaconda3/lib/python3.8/site-packages/sklearn/linear_model/_logistic.py:763: ConvergenceWarning: lbfgs failed to converge (status=1):\n",
      "STOP: TOTAL NO. of ITERATIONS REACHED LIMIT.\n",
      "\n",
      "Increase the number of iterations (max_iter) or scale the data as shown in:\n",
      "    https://scikit-learn.org/stable/modules/preprocessing.html\n",
      "Please also refer to the documentation for alternative solver options:\n",
      "    https://scikit-learn.org/stable/modules/linear_model.html#logistic-regression\n",
      "  n_iter_i = _check_optimize_result(\n"
     ]
    },
    {
     "data": {
      "text/plain": [
       "0.7547940144606627"
      ]
     },
     "execution_count": 136,
     "metadata": {},
     "output_type": "execute_result"
    }
   ],
   "source": [
    "from sklearn.linear_model import LogisticRegression\n",
    "\n",
    "logr = LogisticRegression(max_iter=1000, random_state=42, solver='lbfgs')\n",
    "logr.fit(fies_prepared, fies_labels)\n",
    "(cross_val_score(logr, fies_prepared, fies_labels, cv=3, scoring=\"roc_auc\")).mean()"
   ]
  },
  {
   "cell_type": "code",
   "execution_count": 56,
   "metadata": {
    "colab": {
     "base_uri": "https://localhost:8080/"
    },
    "id": "-99RFgmhHsem",
    "outputId": "0a87aa76-2667-4732-9f3c-2fb8c1df3b9e"
   },
   "outputs": [
    {
     "data": {
      "text/plain": [
       "0.797843514468243"
      ]
     },
     "execution_count": 56,
     "metadata": {
      "tags": []
     },
     "output_type": "execute_result"
    }
   ],
   "source": [
    "from sklearn.ensemble import RandomForestClassifier\n",
    "\n",
    "rf = RandomForestClassifier()\n",
    "rf.fit(fies_prepared, fies_labels)\n",
    "(cross_val_score(rf, fies_prepared, fies_labels, cv=3, scoring=\"roc_auc\")).mean()"
   ]
  },
  {
   "cell_type": "code",
   "execution_count": 54,
   "metadata": {
    "colab": {
     "base_uri": "https://localhost:8080/"
    },
    "id": "qNNXi5csiyOc",
    "outputId": "64b2b8cc-b269-406b-9633-6d0f3787816a"
   },
   "outputs": [
    {
     "data": {
      "text/plain": [
       "MLPClassifier(activation='relu', alpha=0.0001, batch_size='auto', beta_1=0.9,\n",
       "              beta_2=0.999, early_stopping=False, epsilon=1e-08,\n",
       "              hidden_layer_sizes=(10, 10, 10), learning_rate='constant',\n",
       "              learning_rate_init=0.001, max_fun=15000, max_iter=500,\n",
       "              momentum=0.9, n_iter_no_change=10, nesterovs_momentum=True,\n",
       "              power_t=0.5, random_state=None, shuffle=True, solver='adam',\n",
       "              tol=0.0001, validation_fraction=0.1, verbose=False,\n",
       "              warm_start=False)"
      ]
     },
     "execution_count": 54,
     "metadata": {
      "tags": []
     },
     "output_type": "execute_result"
    }
   ],
   "source": [
    "from sklearn.neural_network import MLPClassifier\n",
    "\n",
    "mlp = MLPClassifier(hidden_layer_sizes=(10, 10, 10), max_iter=500)\n",
    "mlp.fit(fies_prepared, fies_labels.values.ravel())"
   ]
  },
  {
   "cell_type": "code",
   "execution_count": 55,
   "metadata": {
    "colab": {
     "base_uri": "https://localhost:8080/"
    },
    "id": "LoidnOBqjpxG",
    "outputId": "9c6e7541-5710-430e-e9d7-408db9d014e7"
   },
   "outputs": [
    {
     "data": {
      "text/plain": [
       "0.8324472103276103"
      ]
     },
     "execution_count": 55,
     "metadata": {
      "tags": []
     },
     "output_type": "execute_result"
    }
   ],
   "source": [
    "(cross_val_score(mlp, fies_prepared, fies_labels, cv=3, scoring=\"roc_auc\")).mean()"
   ]
  },
  {
   "cell_type": "code",
   "execution_count": 138,
   "metadata": {},
   "outputs": [
    {
     "name": "stderr",
     "output_type": "stream",
     "text": [
      "/Users/Bruno/opt/anaconda3/lib/python3.8/site-packages/sklearn/svm/_base.py:985: ConvergenceWarning: Liblinear failed to converge, increase the number of iterations.\n",
      "  warnings.warn(\"Liblinear failed to converge, increase \"\n"
     ]
    },
    {
     "data": {
      "text/plain": [
       "LinearSVC(C=1, loss='hinge')"
      ]
     },
     "execution_count": 138,
     "metadata": {},
     "output_type": "execute_result"
    }
   ],
   "source": [
    "from sklearn.svm import LinearSVC\n",
    "\n",
    "svm_clf = LinearSVC(C=1, loss=\"hinge\")\n",
    "\n",
    "svm_clf.fit(fies_prepared, fies_labels)"
   ]
  },
  {
   "cell_type": "code",
   "execution_count": 139,
   "metadata": {},
   "outputs": [
    {
     "name": "stderr",
     "output_type": "stream",
     "text": [
      "/Users/Bruno/opt/anaconda3/lib/python3.8/site-packages/sklearn/svm/_base.py:985: ConvergenceWarning: Liblinear failed to converge, increase the number of iterations.\n",
      "  warnings.warn(\"Liblinear failed to converge, increase \"\n",
      "/Users/Bruno/opt/anaconda3/lib/python3.8/site-packages/sklearn/svm/_base.py:985: ConvergenceWarning: Liblinear failed to converge, increase the number of iterations.\n",
      "  warnings.warn(\"Liblinear failed to converge, increase \"\n",
      "/Users/Bruno/opt/anaconda3/lib/python3.8/site-packages/sklearn/svm/_base.py:985: ConvergenceWarning: Liblinear failed to converge, increase the number of iterations.\n",
      "  warnings.warn(\"Liblinear failed to converge, increase \"\n"
     ]
    },
    {
     "data": {
      "text/plain": [
       "0.6390250782163186"
      ]
     },
     "execution_count": 139,
     "metadata": {},
     "output_type": "execute_result"
    }
   ],
   "source": [
    "(cross_val_score(svm_clf, fies_prepared, fies_labels, cv=3, scoring=\"roc_auc\")).mean()"
   ]
  },
  {
   "cell_type": "code",
   "execution_count": null,
   "metadata": {},
   "outputs": [],
   "source": []
  }
 ],
 "metadata": {
  "accelerator": "GPU",
  "colab": {
   "collapsed_sections": [],
   "include_colab_link": true,
   "name": "Module00_LoadingData.ipynb",
   "provenance": []
  },
  "kernelspec": {
   "display_name": "Python 3",
   "language": "python",
   "name": "python3"
  },
  "language_info": {
   "codemirror_mode": {
    "name": "ipython",
    "version": 3
   },
   "file_extension": ".py",
   "mimetype": "text/x-python",
   "name": "python",
   "nbconvert_exporter": "python",
   "pygments_lexer": "ipython3",
   "version": "3.8.3"
  }
 },
 "nbformat": 4,
 "nbformat_minor": 4
}
