{
  "nbformat": 4,
  "nbformat_minor": 0,
  "metadata": {
    "accelerator": "GPU",
    "colab": {
      "name": "Module00_LoadingData.ipynb",
      "provenance": [],
      "collapsed_sections": [],
      "include_colab_link": true
    },
    "kernelspec": {
      "display_name": "Python 3",
      "language": "python",
      "name": "python3"
    },
    "language_info": {
      "codemirror_mode": {
        "name": "ipython",
        "version": 3
      },
      "file_extension": ".py",
      "mimetype": "text/x-python",
      "name": "python",
      "nbconvert_exporter": "python",
      "pygments_lexer": "ipython3",
      "version": "3.8.3"
    }
  },
  "cells": [
    {
      "cell_type": "markdown",
      "metadata": {
        "id": "view-in-github",
        "colab_type": "text"
      },
      "source": [
        "<a href=\"https://colab.research.google.com/github/cbsobral/ml-fies/blob/main/Module00_LoadingData.ipynb\" target=\"_parent\"><img src=\"https://colab.research.google.com/assets/colab-badge.svg\" alt=\"Open In Colab\"/></a>"
      ]
    },
    {
      "cell_type": "markdown",
      "metadata": {
        "id": "qSSIbHD3ogH6"
      },
      "source": [
        "## Module 00 - Create Train and Test Sets\n",
        "\n",
        "In this first module, we perform the following steps:\n",
        "\n",
        "1. Load the data from Google Drive in two parts (the file is too big to load at once);\n",
        "2. Exclude irrelevant variables or variables with too many missing values;\n",
        "3. Rename variables in English and possibly with shorter names;\n",
        "4. Divide training and test set."
      ]
    },
    {
      "cell_type": "markdown",
      "metadata": {
        "id": "D15x3tAyogIC"
      },
      "source": [
        "### 1 - Load Data\n",
        "\n"
      ]
    },
    {
      "cell_type": "code",
      "metadata": {
        "colab": {
          "base_uri": "https://localhost:8080/"
        },
        "id": "5AkGS1VgogID",
        "outputId": "a28b02d9-2ff7-412d-89ad-e505cf6cec5b"
      },
      "source": [
        "import pandas as pd\n",
        "\n",
        "url_a = \"https://drive.google.com/file/d/1prPbFSiXFTHmTHzXTGxy4HrtRxXUHhce/view?usp=sharing\"\n",
        "path_a = \"https://drive.google.com/uc?export=download&id=\"+url_a.split(\"/\")[-2]\n",
        "base_df_a = pd.read_excel(path_a)\n",
        "base_df_a.shape"
      ],
      "execution_count": 73,
      "outputs": [
        {
          "output_type": "execute_result",
          "data": {
            "text/plain": [
              "(309999, 37)"
            ]
          },
          "metadata": {
            "tags": []
          },
          "execution_count": 73
        }
      ]
    },
    {
      "cell_type": "code",
      "metadata": {
        "colab": {
          "base_uri": "https://localhost:8080/"
        },
        "id": "hyJ2yJuqogIG",
        "outputId": "ab8e7cb5-da90-4ebc-87df-8e23ce3dfc13"
      },
      "source": [
        "url_b = \"https://drive.google.com/file/d/1nGckSszPPifPvR3o5FeYaKArUYbfjHGn/view?usp=sharing\"\n",
        "path_b = \"https://drive.google.com/uc?export=download&id=\"+url_b.split(\"/\")[-2]\n",
        "base_df_b = pd.read_excel(path_b)\n",
        "base_df_b.shape"
      ],
      "execution_count": 74,
      "outputs": [
        {
          "output_type": "execute_result",
          "data": {
            "text/plain": [
              "(327823, 37)"
            ]
          },
          "metadata": {
            "tags": []
          },
          "execution_count": 74
        }
      ]
    },
    {
      "cell_type": "code",
      "metadata": {
        "colab": {
          "base_uri": "https://localhost:8080/"
        },
        "id": "1nhq9lgWogII",
        "outputId": "f59a0cba-688b-4a89-c496-636bc5723f45"
      },
      "source": [
        "complete_set = base_df_a.append(base_df_b)\n",
        "complete_set.shape"
      ],
      "execution_count": 75,
      "outputs": [
        {
          "output_type": "execute_result",
          "data": {
            "text/plain": [
              "(637822, 37)"
            ]
          },
          "metadata": {
            "tags": []
          },
          "execution_count": 75
        }
      ]
    },
    {
      "cell_type": "markdown",
      "metadata": {
        "id": "SjnAzKW4ogIJ"
      },
      "source": [
        "### 2 - Adjust Variables"
      ]
    },
    {
      "cell_type": "markdown",
      "metadata": {
        "id": "INvPSP-TguA-"
      },
      "source": [
        "New variables:"
      ]
    },
    {
      "cell_type": "code",
      "metadata": {
        "id": "Ky27V0YJogIK"
      },
      "source": [
        "# student\n",
        "complete_set = complete_set.assign(student = 1*(complete_set[\"DS_OCUPACAO\"]==\"Estudante\"))\n",
        "\n",
        "# default\n",
        "complete_set = complete_set.assign(default = 1*(complete_set[\"nu_dias_atraso\"]>=365))\n",
        "\n",
        "# age\n",
        "complete_set = complete_set[pd.to_numeric(complete_set[\"ANO_NASC\"],errors='coerce').notna()]\n",
        "complete_set = complete_set.assign(age = 2015 - (complete_set[\"ANO_NASC\"]))"
      ],
      "execution_count": 76,
      "outputs": []
    },
    {
      "cell_type": "code",
      "metadata": {
        "colab": {
          "base_uri": "https://localhost:8080/"
        },
        "id": "gz8vy6TVogIK",
        "outputId": "da1de796-cda9-4ce6-bb18-c8d3dde50c35"
      },
      "source": [
        "new_names ={\"NU_ANO_SEMESTRE_INSCRICAO\":\"semester_enroll\",\n",
        "            \"SG_SEXO\":\"gender\",\n",
        "            \"DS_OCUPACAO\":\"occupation\",\n",
        "            \"DS_RACA_COR\" : \"ethnicity\",\n",
        "            \"NU_ANO_CONCLUSAO_ENSINO_MEDIO\":\"high_school_endyear\",\n",
        "            \"SG_UF_CURSO\": \"state_course\",\n",
        "            \"QT_SEMESTRES_CURSO\": \"n_sem_course\",\n",
        "            \"VL_SEMESTRE_COM_DESCONTO\": \"tuition_discounted\",\n",
        "            \"NU_PERCENT_SOLICITADO_FINANC\":\"perc_requested\",\n",
        "            \"VL_FINANC_RECURSO_ALUNO\":\"student_resource\",\n",
        "            \"ANO_NASC\":\"birth_year\",\n",
        "            \"DS_ESTADO_CIVIL\":\"marital_status\", \n",
        "            \"VL_RENDA_PESSOAL_BRUTA_MENSAL\": \"personal_income\",\n",
        "            \"VL_RENDA_FAMILIAR_BRUTA_MENSAL\": \"family_income\",\n",
        "            \"ST_ENSINO_MEDIO_ESCOLA_PUBLICA\": \"public_hs\",\n",
        "            \"NO_CURSO\": \"degree\",\n",
        "            \"QT_SEMESTRE_CONCLUIDO\": \"n_completed_sem\",\n",
        "            \"VL_SEMESTRE_ATUAL\": \"tuition_current\",\n",
        "            \"VL_FINANCIADO_SEMESTRE\": \"loan_value_sem\",\n",
        "            \"fase_contrato\": \"contract_phase\",\n",
        "            \"vl_divida\": \"total_debt\",            \n",
        "            \"VL_AVALIACAO_IGC\": \"igc\",\n",
        "            \"VL_FAIXA_CPC\": \"cpc\",\n",
        "            \"VL_FAIXA_CC\": \"cc\",\n",
        "            \"QT_SEMESTRE_FINANCIAMENTO\": \"sem_funded\",\n",
        "            \"QT_MEMBRO\": \"fam_size\",\n",
        "            \"VL_RENDA_PER_CAPITA\":\"income_pc\",\n",
        "            \"NU_PERCENTUAL_COMPROMETIMENTO\":\"inc_prop\",\n",
        "            \"VL_TOTAL_FINANCIAMENTO\":\"loan_value\",\n",
        "            \"VL_LIMITE_GLOBAL\":\"loan_limit\",\n",
        "            \"dt_inicio_cont\":\"date_contract\"\n",
        "}\n",
        "\n",
        "complete_set = complete_set.rename(index=str, columns=new_names)\n",
        "print(complete_set.columns)"
      ],
      "execution_count": 77,
      "outputs": [
        {
          "output_type": "stream",
          "text": [
            "Index(['semester_enroll', 'gender', 'occupation', 'marital_status',\n",
            "       'family_income', 'personal_income', 'NO_MUNICIPIO', 'SG_UF',\n",
            "       'ethnicity', 'public_hs', 'high_school_endyear',\n",
            "       'NU_SEMESTRE_REFERENCIA', 'state_course', 'degree', 'igc', 'cpc', 'cc',\n",
            "       'n_sem_course', 'n_completed_sem', 'sem_funded',\n",
            "       'QT_MESES_FINANC_SEMESTRE_ATUAL', 'fam_size', 'income_pc',\n",
            "       'VL_SEMESTRE_SEM_DESCONTO', 'tuition_discounted', 'tuition_current',\n",
            "       'inc_prop', 'perc_requested', 'loan_value_sem', 'student_resource',\n",
            "       'loan_value', 'loan_limit', 'date_contract', 'contract_phase',\n",
            "       'nu_dias_atraso', 'total_debt', 'birth_year', 'student', 'default',\n",
            "       'age'],\n",
            "      dtype='object')\n"
          ],
          "name": "stdout"
        }
      ]
    },
    {
      "cell_type": "markdown",
      "metadata": {
        "id": "rfn09CydogIL"
      },
      "source": [
        "### 3 - Clean Dataset"
      ]
    },
    {
      "cell_type": "code",
      "metadata": {
        "id": "HgSq5ISLvfBt"
      },
      "source": [
        "import numpy as np\n",
        "\n",
        "# Calculate values for wrong entries (larger than 300,000 reais)\n",
        "complete_set['loan_value_sem'] = np.where((complete_set.loan_value_sem > 300000), (complete_set[\"perc_requested\"]/100 * complete_set[\"tuition_current\"]), \n",
        "                                          complete_set.loan_value_sem)"
      ],
      "execution_count": 78,
      "outputs": []
    },
    {
      "cell_type": "code",
      "metadata": {
        "id": "O-5uSQx3tGHY"
      },
      "source": [
        "# Drop variables\n",
        "variables_to_drop = [\"NO_MUNICIPIO\",\n",
        "                     \"SG_UF\",\n",
        "                     \"VL_SEMESTRE_SEM_DESCONTO\",\n",
        "                     \"NU_SEMESTRE_REFERENCIA\", \n",
        "                     \"nu_dias_atraso\", \n",
        "                     \"QT_MESES_FINANC_SEMESTRE_ATUAL\"]\n",
        "\n",
        "complete_set_clean = complete_set.drop(variables_to_drop, axis = 1)                "
      ],
      "execution_count": 79,
      "outputs": []
    },
    {
      "cell_type": "code",
      "metadata": {
        "id": "itTdp928ogIL"
      },
      "source": [
        "import datetime as dt\n",
        "                    \n",
        "complete_set_clean[\"date_contract\"]= complete_set_clean[\"date_contract\"].map(dt.datetime.toordinal)"
      ],
      "execution_count": 80,
      "outputs": []
    },
    {
      "cell_type": "markdown",
      "metadata": {
        "id": "mXlAR2V7AuXa"
      },
      "source": [
        "Eliminating outliers for *family income* (4 obs.):"
      ]
    },
    {
      "cell_type": "code",
      "metadata": {
        "id": "eGRz0Il9guBC"
      },
      "source": [
        "complete_set_clean = complete_set_clean.loc[(complete_set_clean['family_income'] < 100000)] "
      ],
      "execution_count": 81,
      "outputs": []
    },
    {
      "cell_type": "code",
      "metadata": {
        "colab": {
          "base_uri": "https://localhost:8080/"
        },
        "id": "iIbWJ3PwguBC",
        "outputId": "4260857d-2ae2-4de8-f376-4165baa4708b"
      },
      "source": [
        "complete_set_clean.shape"
      ],
      "execution_count": 82,
      "outputs": [
        {
          "output_type": "execute_result",
          "data": {
            "text/plain": [
              "(637715, 34)"
            ]
          },
          "metadata": {
            "tags": []
          },
          "execution_count": 82
        }
      ]
    },
    {
      "cell_type": "markdown",
      "metadata": {
        "id": "Bor-aWYeguBD"
      },
      "source": [
        "Limiting the variable *age* to interval (10,100):"
      ]
    },
    {
      "cell_type": "code",
      "metadata": {
        "colab": {
          "base_uri": "https://localhost:8080/"
        },
        "id": "fdgCxy-rguBD",
        "outputId": "6c1f23bc-8bac-427b-d47a-09238e889b24"
      },
      "source": [
        "complete_set_clean[\"age\"].unique()"
      ],
      "execution_count": 83,
      "outputs": [
        {
          "output_type": "execute_result",
          "data": {
            "text/plain": [
              "array([24, 25, 19, 23, 22, 20, 26, 27, 32, 18, 21, 62, 46, 30, 31, 33, 34,\n",
              "       48, 52, 35, 36, 50, 45, 60, 28, 44, 47, 37, 56, 39, 43, 29, 49, 59,\n",
              "       51, 55, 57, 63, 38, 65, 58, 42, 61, 40, 54, 41, 53, 64, 68, 66, 70,\n",
              "       72, 7, 17, 71, 75, 67, 69, 74, 16, 8, 76, 115, 10, 77, 78, 79, 73,\n",
              "       87, 15, 13, 12, 11, 118], dtype=object)"
            ]
          },
          "metadata": {
            "tags": []
          },
          "execution_count": 83
        }
      ]
    },
    {
      "cell_type": "code",
      "metadata": {
        "id": "xgNYTGjBguBD"
      },
      "source": [
        "complete_set_clean = complete_set_clean.loc[(complete_set_clean['age'] < 100) & (complete_set_clean['age'] > 10)] "
      ],
      "execution_count": 84,
      "outputs": []
    },
    {
      "cell_type": "code",
      "metadata": {
        "colab": {
          "base_uri": "https://localhost:8080/"
        },
        "id": "fElmsWvPguBE",
        "outputId": "a365265c-c1de-475e-de56-a82540482180"
      },
      "source": [
        "complete_set_clean[\"age\"].value_counts()"
      ],
      "execution_count": 85,
      "outputs": [
        {
          "output_type": "execute_result",
          "data": {
            "text/plain": [
              "21    63278\n",
              "20    58433\n",
              "22    54722\n",
              "23    45584\n",
              "24    38360\n",
              "      ...  \n",
              "79        1\n",
              "15        1\n",
              "13        1\n",
              "12        1\n",
              "11        1\n",
              "Name: age, Length: 69, dtype: int64"
            ]
          },
          "metadata": {
            "tags": []
          },
          "execution_count": 85
        }
      ]
    },
    {
      "cell_type": "code",
      "metadata": {
        "id": "X3smpA04ogIN"
      },
      "source": [
        "#Here are the columns we want to drop NA's and not treat like using median, or something else\n",
        "complete_set_clean = complete_set_clean.dropna(subset=[\"semester_enroll\",\n",
        "                                                       \"gender\",\n",
        "                                                       \"occupation\",\n",
        "                                                       \"marital_status\",\n",
        "                                                       \"ethnicity\",\n",
        "                                                       \"public_hs\",\n",
        "                                                       \"state_course\",\n",
        "                                                       \"degree\",\n",
        "                                                       \"igc\",\"cpc\",\"cc\",\n",
        "                                                       \"contract_phase\",\n",
        "                                                       \"high_school_endyear\"])"
      ],
      "execution_count": 86,
      "outputs": []
    },
    {
      "cell_type": "code",
      "metadata": {
        "id": "_Zf3ApfLogIM"
      },
      "source": [
        "#Birth year has to be corrected in the excel file\n",
        "complete_set_clean = complete_set_clean.astype({\"semester_enroll\":str,\n",
        "                                                \"igc\":'int64',\"cpc\":'int64',\"cc\":'int64'\n",
        "                                               })"
      ],
      "execution_count": 87,
      "outputs": []
    },
    {
      "cell_type": "code",
      "metadata": {
        "id": "Eyohg-mRogIO",
        "colab": {
          "base_uri": "https://localhost:8080/"
        },
        "outputId": "a1751e83-b89c-4184-d62b-ebd545ca27fd"
      },
      "source": [
        "#Get only categorical\n",
        "cat_names = list(complete_set_cat)\n",
        "cat_names"
      ],
      "execution_count": 94,
      "outputs": [
        {
          "output_type": "execute_result",
          "data": {
            "text/plain": [
              "['semester_enroll',\n",
              " 'gender',\n",
              " 'occupation',\n",
              " 'marital_status',\n",
              " 'ethnicity',\n",
              " 'public_hs',\n",
              " 'state_course',\n",
              " 'degree',\n",
              " 'contract_phase',\n",
              " 'birth_year',\n",
              " 'age']"
            ]
          },
          "metadata": {
            "tags": []
          },
          "execution_count": 94
        }
      ]
    },
    {
      "cell_type": "markdown",
      "metadata": {
        "id": "yNI9-n1TsaD4"
      },
      "source": [
        " ### 4 - Correlation Matrix\n",
        "\n",
        " Define variables to be dropped"
      ]
    },
    {
      "cell_type": "code",
      "metadata": {
        "colab": {
          "base_uri": "https://localhost:8080/"
        },
        "id": "16Dpj4i4sv9K",
        "outputId": "ce9242d4-f69b-4ed0-f71e-9dced91001b6"
      },
      "source": [
        "# Calculate correlations with target (default)\n",
        "corr_matrix = complete_set_clean.corr()\n",
        "corr_matrix['default'].sort_values(ascending=False, key=pd.Series.abs)"
      ],
      "execution_count": 89,
      "outputs": [
        {
          "output_type": "execute_result",
          "data": {
            "text/plain": [
              "default                1.000000\n",
              "family_income         -0.226217\n",
              "n_sem_course          -0.223291\n",
              "income_pc             -0.207358\n",
              "sem_funded            -0.196516\n",
              "total_debt            -0.179184\n",
              "loan_value            -0.176332\n",
              "tuition_discounted    -0.160652\n",
              "tuition_current       -0.159575\n",
              "loan_limit            -0.153371\n",
              "perc_requested         0.142104\n",
              "student_resource      -0.141676\n",
              "loan_value_sem        -0.127679\n",
              "fam_size              -0.097060\n",
              "student               -0.083132\n",
              "igc                   -0.074704\n",
              "n_completed_sem        0.070191\n",
              "date_contract         -0.068845\n",
              "cc                    -0.062358\n",
              "cpc                   -0.047460\n",
              "inc_prop               0.035391\n",
              "personal_income       -0.015710\n",
              "high_school_endyear    0.005846\n",
              "Name: default, dtype: float64"
            ]
          },
          "metadata": {
            "tags": []
          },
          "execution_count": 89
        }
      ]
    },
    {
      "cell_type": "code",
      "metadata": {
        "id": "h96KEl0TtG7p"
      },
      "source": [
        "# variables that need to be inspected\n",
        "corr_income = complete_set_clean[['family_income', 'income_pc', 'fam_size', 'default']].copy()\n",
        "corr_tuition = complete_set_clean[['tuition_discounted', 'tuition_current', 'loan_limit', 'loan_value_sem', 'loan_value', 'perc_requested', 'default']].copy()\n",
        "corr_eval = complete_set_clean[['igc', 'cc', 'cpc','default']].copy()"
      ],
      "execution_count": 90,
      "outputs": []
    },
    {
      "cell_type": "code",
      "metadata": {
        "colab": {
          "base_uri": "https://localhost:8080/",
          "height": 270
        },
        "id": "y0AI0SbrsZh2",
        "outputId": "f0656e69-4d0f-432c-eb10-7c94d453d4dd"
      },
      "source": [
        "import seaborn as sn\n",
        "import matplotlib.pyplot as plt\n",
        "\n",
        "corrMatrix = corr_income.corr()\n",
        "sn.heatmap(corrMatrix, annot=True)\n",
        "plt.show()"
      ],
      "execution_count": 91,
      "outputs": [
        {
          "output_type": "display_data",
          "data": {
            "image/png": "[encoded data removed]",
            "text/plain": [
              "<Figure size 432x288 with 2 Axes>"
            ]
          },
          "metadata": {
            "tags": [],
            "needs_background": "light"
          }
        }
      ]
    },
    {
      "cell_type": "code",
      "metadata": {
        "colab": {
          "base_uri": "https://localhost:8080/",
          "height": 352
        },
        "id": "dSXk2Pnnz0rz",
        "outputId": "6be728c1-a482-440d-b0b9-4f937cdba3d8"
      },
      "source": [
        "corrMatrix = corr_tuition.corr()\n",
        "sn.heatmap(corrMatrix, annot=True)\n",
        "plt.show()"
      ],
      "execution_count": 92,
      "outputs": [
        {
          "output_type": "display_data",
          "data": {
            "image/png": "[encoded data removed]",
            "text/plain": [
              "<Figure size 432x288 with 2 Axes>"
            ]
          },
          "metadata": {
            "tags": [],
            "needs_background": "light"
          }
        }
      ]
    },
    {
      "cell_type": "code",
      "metadata": {
        "id": "VRyl_Nkl0dQG"
      },
      "source": [
        "corrMatrix = corr_eval.corr()\n",
        "sn.heatmap(corrMatrix, annot=True)\n",
        "plt.show()"
      ],
      "execution_count": null,
      "outputs": []
    },
    {
      "cell_type": "markdown",
      "metadata": {
        "id": "5EgMtgz66WcW"
      },
      "source": [
        "Drop variable \"tuition_discounted\""
      ]
    },
    {
      "cell_type": "code",
      "metadata": {
        "id": "dR29SVo06Dak"
      },
      "source": [
        "complete_set_clean = complete_set_clean.drop(\"tuition_discounted\", axis=1)"
      ],
      "execution_count": 95,
      "outputs": []
    },
    {
      "cell_type": "markdown",
      "metadata": {
        "id": "fVwJfudJogIS"
      },
      "source": [
        "### 5 - Creat Train and Test Sets\n",
        "\n",
        "In this section we will create the training and test set using the function *train_test_split* from Scikit-Learn. Two important considerations about our choice:\n",
        "\n",
        "* Our dataset is a sample provided by the Brazilian Governent and will not be updated. Therefore, we chose not to be concerned about future splits with updated data;\n",
        "\n",
        "* Our data includes 637,822 instances. We assume it is big enough and do not employ stratified sampling."
      ]
    },
    {
      "cell_type": "code",
      "metadata": {
        "id": "hJuseFTaogIS"
      },
      "source": [
        "from sklearn.model_selection import train_test_split\n",
        "train, test = train_test_split(complete_set_clean, test_size=0.2, random_state=42)"
      ],
      "execution_count": 96,
      "outputs": []
    },
    {
      "cell_type": "markdown",
      "metadata": {
        "id": "Qsaeu5izo8zp"
      },
      "source": [
        "### 6 - Download Sets"
      ]
    },
    {
      "cell_type": "code",
      "metadata": {
        "colab": {
          "base_uri": "https://localhost:8080/",
          "height": 50
        },
        "id": "x5D3kvuso7_R",
        "outputId": "be601066-a026-4478-8762-e1cfb0b4d98c"
      },
      "source": [
        "from google.colab import files\n",
        "\n",
        "# Training dataset\n",
        "train.to_csv('train.csv')\n",
        "files.download('train.csv')\n",
        "\n",
        "# Test dataset\n",
        "test.to_csv('test.csv')\n",
        "files.download('test.csv')"
      ],
      "execution_count": 97,
      "outputs": [
        {
          "output_type": "display_data",
          "data": {
            "application/javascript": [
              "\n",
              "    async function download(id, filename, size) {\n",
              "      if (!google.colab.kernel.accessAllowed) {\n",
              "        return;\n",
              "      }\n",
              "      const div = document.createElement('div');\n",
              "      const label = document.createElement('label');\n",
              "      label.textContent = `Downloading \"${filename}\": `;\n",
              "      div.appendChild(label);\n",
              "      const progress = document.createElement('progress');\n",
              "      progress.max = size;\n",
              "      div.appendChild(progress);\n",
              "      document.body.appendChild(div);\n",
              "\n",
              "      const buffers = [];\n",
              "      let downloaded = 0;\n",
              "\n",
              "      const channel = await google.colab.kernel.comms.open(id);\n",
              "      // Send a message to notify the kernel that we're ready.\n",
              "      channel.send({})\n",
              "\n",
              "      for await (const message of channel.messages) {\n",
              "        // Send a message to notify the kernel that we're ready.\n",
              "        channel.send({})\n",
              "        if (message.buffers) {\n",
              "          for (const buffer of message.buffers) {\n",
              "            buffers.push(buffer);\n",
              "            downloaded += buffer.byteLength;\n",
              "            progress.value = downloaded;\n",
              "          }\n",
              "        }\n",
              "      }\n",
              "      const blob = new Blob(buffers, {type: 'application/binary'});\n",
              "      const a = document.createElement('a');\n",
              "      a.href = window.URL.createObjectURL(blob);\n",
              "      a.download = filename;\n",
              "      div.appendChild(a);\n",
              "      a.click();\n",
              "      div.remove();\n",
              "    }\n",
              "  "
            ],
            "text/plain": [
              "<IPython.core.display.Javascript object>"
            ]
          },
          "metadata": {
            "tags": []
          }
        },
        {
          "output_type": "display_data",
          "data": {
            "application/javascript": [
              "download(\"download_1b3b9dd1-8a15-4cde-9249-ef84f11e906f\", \"train.csv\", 58178735)"
            ],
            "text/plain": [
              "<IPython.core.display.Javascript object>"
            ]
          },
          "metadata": {
            "tags": []
          }
        },
        {
          "output_type": "display_data",
          "data": {
            "application/javascript": [
              "\n",
              "    async function download(id, filename, size) {\n",
              "      if (!google.colab.kernel.accessAllowed) {\n",
              "        return;\n",
              "      }\n",
              "      const div = document.createElement('div');\n",
              "      const label = document.createElement('label');\n",
              "      label.textContent = `Downloading \"${filename}\": `;\n",
              "      div.appendChild(label);\n",
              "      const progress = document.createElement('progress');\n",
              "      progress.max = size;\n",
              "      div.appendChild(progress);\n",
              "      document.body.appendChild(div);\n",
              "\n",
              "      const buffers = [];\n",
              "      let downloaded = 0;\n",
              "\n",
              "      const channel = await google.colab.kernel.comms.open(id);\n",
              "      // Send a message to notify the kernel that we're ready.\n",
              "      channel.send({})\n",
              "\n",
              "      for await (const message of channel.messages) {\n",
              "        // Send a message to notify the kernel that we're ready.\n",
              "        channel.send({})\n",
              "        if (message.buffers) {\n",
              "          for (const buffer of message.buffers) {\n",
              "            buffers.push(buffer);\n",
              "            downloaded += buffer.byteLength;\n",
              "            progress.value = downloaded;\n",
              "          }\n",
              "        }\n",
              "      }\n",
              "      const blob = new Blob(buffers, {type: 'application/binary'});\n",
              "      const a = document.createElement('a');\n",
              "      a.href = window.URL.createObjectURL(blob);\n",
              "      a.download = filename;\n",
              "      div.appendChild(a);\n",
              "      a.click();\n",
              "      div.remove();\n",
              "    }\n",
              "  "
            ],
            "text/plain": [
              "<IPython.core.display.Javascript object>"
            ]
          },
          "metadata": {
            "tags": []
          }
        },
        {
          "output_type": "display_data",
          "data": {
            "application/javascript": [
              "download(\"download_454677dc-5d89-48d6-a364-1db443cf1395\", \"test.csv\", 14552671)"
            ],
            "text/plain": [
              "<IPython.core.display.Javascript object>"
            ]
          },
          "metadata": {
            "tags": []
          }
        }
      ]
    }
  ]
}