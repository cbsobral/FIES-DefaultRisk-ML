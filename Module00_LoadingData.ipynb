{
  "nbformat": 4,
  "nbformat_minor": 0,
  "metadata": {
    "accelerator": "GPU",
    "colab": {
      "name": "Module00_LoadingData.ipynb",
      "provenance": [],
      "collapsed_sections": [],
      "include_colab_link": true
    },
    "kernelspec": {
      "display_name": "Python 3",
      "language": "python",
      "name": "python3"
    },
    "language_info": {
      "codemirror_mode": {
        "name": "ipython",
        "version": 3
      },
      "file_extension": ".py",
      "mimetype": "text/x-python",
      "name": "python",
      "nbconvert_exporter": "python",
      "pygments_lexer": "ipython3",
      "version": "3.8.3"
    }
  },
  "cells": [
    {
      "cell_type": "markdown",
      "metadata": {
        "id": "view-in-github",
        "colab_type": "text"
      },
      "source": [
        "<a href=\"https://colab.research.google.com/github/cbsobral/ml-fies/blob/main/Module00_LoadingData.ipynb\" target=\"_parent\"><img src=\"https://colab.research.google.com/assets/colab-badge.svg\" alt=\"Open In Colab\"/></a>"
      ]
    },
    {
      "cell_type": "markdown",
      "metadata": {
        "id": "qSSIbHD3ogH6"
      },
      "source": [
        "## Module 00 - Create Train and Test Sets\n",
        "\n",
        "In this first module, we perform the following steps:\n",
        "\n",
        "1. Load the data from Google Drive in two parts (the file is too big to load at once);\n",
        "2. Recode categoriacal variables; \n",
        "3. Exclude irrelevant variables or variables with too many missing values;\n",
        "4. Rename variables in English and whenever possible with shorter names;\n",
        "5. Perform correlation analysis on groups of variables; \n",
        "6. Visualize important predictors in the dataset. \n",
        "\n",
        "The datasets created here (`train` and `test`) will be used for the analysis in Module01_Models. "
      ]
    },
    {
      "cell_type": "markdown",
      "metadata": {
        "id": "D15x3tAyogIC"
      },
      "source": [
        "### 1 - Load Data\n",
        "\n"
      ]
    },
    {
      "cell_type": "code",
      "metadata": {
        "colab": {
          "base_uri": "https://localhost:8080/"
        },
        "id": "5AkGS1VgogID",
        "outputId": "fc706ede-6928-46f2-cfcb-60f4ce977273"
      },
      "source": [
        "import pandas as pd\n",
        "\n",
        "url_a = \"https://drive.google.com/file/d/1prPbFSiXFTHmTHzXTGxy4HrtRxXUHhce/view?usp=sharing\"\n",
        "path_a = \"https://drive.google.com/uc?export=download&id=\"+url_a.split(\"/\")[-2]\n",
        "base_df_a = pd.read_excel(path_a)\n",
        "base_df_a.shape"
      ],
      "execution_count": null,
      "outputs": [
        {
          "output_type": "execute_result",
          "data": {
            "text/plain": [
              "(309999, 37)"
            ]
          },
          "metadata": {
            "tags": []
          },
          "execution_count": 56
        }
      ]
    },
    {
      "cell_type": "code",
      "metadata": {
        "colab": {
          "base_uri": "https://localhost:8080/"
        },
        "id": "hyJ2yJuqogIG",
        "outputId": "f5b268e0-690b-4a26-d8f1-334f5ad9a563"
      },
      "source": [
        "url_b = \"https://drive.google.com/file/d/1nGckSszPPifPvR3o5FeYaKArUYbfjHGn/view?usp=sharing\"\n",
        "path_b = \"https://drive.google.com/uc?export=download&id=\"+url_b.split(\"/\")[-2]\n",
        "base_df_b = pd.read_excel(path_b)\n",
        "base_df_b.shape"
      ],
      "execution_count": null,
      "outputs": [
        {
          "output_type": "execute_result",
          "data": {
            "text/plain": [
              "(327823, 37)"
            ]
          },
          "metadata": {
            "tags": []
          },
          "execution_count": 57
        }
      ]
    },
    {
      "cell_type": "code",
      "metadata": {
        "colab": {
          "base_uri": "https://localhost:8080/"
        },
        "id": "1nhq9lgWogII",
        "outputId": "307bfbcc-5e0a-48e9-cc47-e74b9a0adb61"
      },
      "source": [
        "complete_set = base_df_a.append(base_df_b)\n",
        "complete_set.shape"
      ],
      "execution_count": null,
      "outputs": [
        {
          "output_type": "execute_result",
          "data": {
            "text/plain": [
              "(637822, 37)"
            ]
          },
          "metadata": {
            "tags": []
          },
          "execution_count": 133
        }
      ]
    },
    {
      "cell_type": "markdown",
      "metadata": {
        "id": "SjnAzKW4ogIJ"
      },
      "source": [
        "### 2 - Adjust Variables"
      ]
    },
    {
      "cell_type": "markdown",
      "metadata": {
        "id": "INvPSP-TguA-"
      },
      "source": [
        "In this section, we rename the variables in the dataset and then create two new ones: \n",
        "\n",
        "* `age`: age calculate from the birth year;\n",
        "*   `default`: binary varible that takes 1 if the loan is in the repayment phase and the deliquency period is superior to 360 days."
      ]
    },
    {
      "cell_type": "code",
      "metadata": {
        "id": "Ky27V0YJogIK",
        "colab": {
          "base_uri": "https://localhost:8080/"
        },
        "outputId": "7d98a9ad-7307-4ca3-9034-96e8b6ac79a2"
      },
      "source": [
        "# Age\n",
        "complete_set = complete_set[pd.to_numeric(complete_set[\"ANO_NASC\"],errors='coerce').notna()]\n",
        "complete_set = complete_set.assign(age = 2015 - (complete_set[\"ANO_NASC\"]))\n",
        "\n",
        "# Default\n",
        "complete_set = complete_set.assign(default = 1*(complete_set[\"nu_dias_atraso\"]>=360))\n",
        "\n",
        "# Limiting the phases of the contract to include only individuals for which there is variation in `default`\n",
        "complete_set = complete_set.loc[complete_set[\"fase_contrato\"] != \"Carencia\"] \n",
        "complete_set = complete_set.loc[complete_set[\"fase_contrato\"] != \"Utilizacao\"] \n",
        "\n",
        "complete_set.shape"
      ],
      "execution_count": null,
      "outputs": [
        {
          "output_type": "execute_result",
          "data": {
            "text/plain": [
              "(454152, 39)"
            ]
          },
          "metadata": {
            "tags": []
          },
          "execution_count": 134
        }
      ]
    },
    {
      "cell_type": "markdown",
      "metadata": {
        "id": "6RtRNxBeH16M"
      },
      "source": [
        "In order to avoid encoding problems, we then limit the number of possible levels of some categorical variables: `NO_CURSO` = degree; `DS_OCUPACAO` = occupation; and `NU_ANO_SEMESTRE_INSCRICAO` = semester of enrollment. \n",
        "\n"
      ]
    },
    {
      "cell_type": "markdown",
      "metadata": {
        "id": "0wjbXuNPYJMY"
      },
      "source": [
        "For `NO_CURSO`, we keep the top 20 leves and convert all the remaining to only one level (OUTROS). "
      ]
    },
    {
      "cell_type": "code",
      "metadata": {
        "colab": {
          "base_uri": "https://localhost:8080/"
        },
        "id": "9vkpYPuP98eb",
        "outputId": "c70db9a3-f494-41cc-aaa1-12d20f89d774"
      },
      "source": [
        "# Limiting the levels of NO_CURSO\n",
        "complete_set[\"NO_CURSO\"].value_counts(normalize=True).head(20)\n",
        "\n",
        "# Variable top 20 NO_CURSO\n",
        "top_20_degrees = ['DIREITO', 'ADMINISTRAÇÃO','PEDAGOGIA','ENGENHARIA CIVIL',\n",
        "                  'ENFERMAGEM', 'CIÊNCIAS CONTÁBEIS', 'EDUCAÇÃO FÍSICA',\n",
        "                  'PSICOLOGIA', 'FISIOTERAPIA', 'ENGENHARIA DE PRODUÇÃO',\n",
        "                  'ODONTOLOGIA', 'ENGENHARIA MECÂNICA', 'ARQUITETURA E URBANISMO',\n",
        "                  'NUTRIÇÃO', 'SERVIÇO SOCIAL', 'GESTÃO DE RECURSOS HUMANOS',\n",
        "                  'FARMÁCIA', 'BIOMEDICINA', 'ENGENHARIA ELÉTRICA', 'MEDICINA']\n",
        "\n",
        "complete_set.NO_CURSO[~(complete_set[\"NO_CURSO\"].isin(top_20_degrees))] = \"OUTROS\"\n",
        "\n",
        "complete_set[\"NO_CURSO\"].value_counts(normalize = True).head(22)"
      ],
      "execution_count": null,
      "outputs": [
        {
          "output_type": "execute_result",
          "data": {
            "text/plain": [
              "OUTROS                        0.213860\n",
              "DIREITO                       0.126290\n",
              "ADMINISTRAÇÃO                 0.107099\n",
              "PEDAGOGIA                     0.079614\n",
              "ENGENHARIA CIVIL              0.063170\n",
              "ENFERMAGEM                    0.057959\n",
              "CIÊNCIAS CONTÁBEIS            0.045863\n",
              "EDUCAÇÃO FÍSICA               0.042567\n",
              "PSICOLOGIA                    0.036043\n",
              "FISIOTERAPIA                  0.026035\n",
              "ENGENHARIA DE PRODUÇÃO        0.025044\n",
              "ODONTOLOGIA                   0.021682\n",
              "ENGENHARIA MECÂNICA           0.020605\n",
              "ARQUITETURA E URBANISMO       0.020476\n",
              "NUTRIÇÃO                      0.020242\n",
              "SERVIÇO SOCIAL                0.019773\n",
              "GESTÃO DE RECURSOS HUMANOS    0.017223\n",
              "FARMÁCIA                      0.016268\n",
              "BIOMEDICINA                   0.014414\n",
              "ENGENHARIA ELÉTRICA           0.013242\n",
              "MEDICINA                      0.012529\n",
              "Name: NO_CURSO, dtype: float64"
            ]
          },
          "metadata": {
            "tags": []
          },
          "execution_count": 135
        }
      ]
    },
    {
      "cell_type": "markdown",
      "metadata": {
        "id": "Rrfo_oHWYaVK"
      },
      "source": [
        "For `DS_OCUPACAO`, we create a binary variable where 1 equals being a student, and 0 everything else. "
      ]
    },
    {
      "cell_type": "code",
      "metadata": {
        "colab": {
          "base_uri": "https://localhost:8080/"
        },
        "id": "XOczIl6WI9nu",
        "outputId": "0c10bda8-3410-4ee3-aa28-e22204ffe4d7"
      },
      "source": [
        "# Limiting the levels of DS_OCUPACAO\n",
        "complete_set.DS_OCUPACAO[complete_set[\"DS_OCUPACAO\"]!= \"Estudante\"] = \"OUTRAS\"\n",
        "complete_set[\"DS_OCUPACAO\"].value_counts(normalize=True).head(20)"
      ],
      "execution_count": null,
      "outputs": [
        {
          "output_type": "execute_result",
          "data": {
            "text/plain": [
              "OUTRAS       0.54083\n",
              "Estudante    0.45917\n",
              "Name: DS_OCUPACAO, dtype: float64"
            ]
          },
          "metadata": {
            "tags": []
          },
          "execution_count": 136
        }
      ]
    },
    {
      "cell_type": "markdown",
      "metadata": {
        "id": "zXnsSmf8Y88d"
      },
      "source": [
        "For `NU_ANO_SEMESTRE_INSCRICAO`, we keep the 6 most current levels, and convert all others to \"before_2012\". "
      ]
    },
    {
      "cell_type": "code",
      "metadata": {
        "colab": {
          "base_uri": "https://localhost:8080/"
        },
        "id": "LeXF5CHMJ6EU",
        "outputId": "47e41d27-c3b1-441e-bae8-62826f3ef7c0"
      },
      "source": [
        "# Limiting the levels of semester_enroll\n",
        "\n",
        "top_semesters = ['12014', '12013', '22014', '22013', '12012', '22012']\n",
        "complete_set.NU_ANO_SEMESTRE_INSCRICAO.loc[~(complete_set[\"NU_ANO_SEMESTRE_INSCRICAO\"].isin(top_semesters))] = \"before_2012\"\n",
        "complete_set[\"NU_ANO_SEMESTRE_INSCRICAO\"].value_counts(normalize=True).head(20)"
      ],
      "execution_count": null,
      "outputs": [
        {
          "output_type": "execute_result",
          "data": {
            "text/plain": [
              "12014          0.234159\n",
              "12013          0.232528\n",
              "22013          0.140453\n",
              "22014          0.128682\n",
              "12012          0.122186\n",
              "22012          0.087462\n",
              "before_2012    0.054530\n",
              "Name: NU_ANO_SEMESTRE_INSCRICAO, dtype: float64"
            ]
          },
          "metadata": {
            "tags": []
          },
          "execution_count": 137
        }
      ]
    },
    {
      "cell_type": "code",
      "metadata": {
        "colab": {
          "base_uri": "https://localhost:8080/"
        },
        "id": "gz8vy6TVogIK",
        "outputId": "c0aac946-d7d5-47b5-9989-12e79a86609a"
      },
      "source": [
        "# Rename variables\n",
        "new_names ={\"NU_ANO_SEMESTRE_INSCRICAO\":\"semester_enroll\",\n",
        "            \"SG_SEXO\":\"gender\",\n",
        "            \"DS_OCUPACAO\":\"occupation\",\n",
        "            \"DS_RACA_COR\" : \"ethnicity\",\n",
        "            \"NU_ANO_CONCLUSAO_ENSINO_MEDIO\":\"high_school_endyear\",\n",
        "            \"SG_UF_CURSO\": \"state_course\",\n",
        "            \"QT_SEMESTRES_CURSO\": \"n_sem_course\",\n",
        "            \"VL_SEMESTRE_COM_DESCONTO\": \"tuition_discounted\",\n",
        "            \"NU_PERCENT_SOLICITADO_FINANC\":\"perc_requested\",\n",
        "            \"VL_FINANC_RECURSO_ALUNO\":\"student_resource\",\n",
        "            \"ANO_NASC\":\"birth_year\",\n",
        "            \"DS_ESTADO_CIVIL\":\"marital_status\", \n",
        "            \"VL_RENDA_PESSOAL_BRUTA_MENSAL\": \"personal_income\",\n",
        "            \"VL_RENDA_FAMILIAR_BRUTA_MENSAL\": \"family_income\",\n",
        "            \"ST_ENSINO_MEDIO_ESCOLA_PUBLICA\": \"public_hs\",\n",
        "            \"NO_CURSO\": \"degree\",\n",
        "            \"QT_SEMESTRE_CONCLUIDO\": \"n_completed_sem\",\n",
        "            \"VL_SEMESTRE_ATUAL\": \"tuition_current\",\n",
        "            \"VL_FINANCIADO_SEMESTRE\": \"loan_value_sem\",\n",
        "            \"fase_contrato\": \"contract_phase\",\n",
        "            \"vl_divida\": \"total_debt\",            \n",
        "            \"VL_AVALIACAO_IGC\": \"igc\",\n",
        "            \"VL_FAIXA_CPC\": \"cpc\",\n",
        "            \"VL_FAIXA_CC\": \"cc\",\n",
        "            \"QT_SEMESTRE_FINANCIAMENTO\": \"sem_funded\",\n",
        "            \"QT_MEMBRO\": \"fam_size\",\n",
        "            \"VL_RENDA_PER_CAPITA\":\"income_pc\",\n",
        "            \"NU_PERCENTUAL_COMPROMETIMENTO\":\"inc_prop\",\n",
        "            \"VL_TOTAL_FINANCIAMENTO\":\"loan_value\",\n",
        "            \"VL_LIMITE_GLOBAL\":\"loan_limit\",\n",
        "            \"dt_inicio_cont\":\"date_contract\"\n",
        "}\n",
        "\n",
        "complete_set = complete_set.rename(index=str, columns=new_names)\n",
        "print(complete_set.columns)"
      ],
      "execution_count": null,
      "outputs": [
        {
          "output_type": "stream",
          "text": [
            "Index(['semester_enroll', 'gender', 'occupation', 'marital_status',\n",
            "       'family_income', 'personal_income', 'NO_MUNICIPIO', 'SG_UF',\n",
            "       'ethnicity', 'public_hs', 'high_school_endyear',\n",
            "       'NU_SEMESTRE_REFERENCIA', 'state_course', 'degree', 'igc', 'cpc', 'cc',\n",
            "       'n_sem_course', 'n_completed_sem', 'sem_funded',\n",
            "       'QT_MESES_FINANC_SEMESTRE_ATUAL', 'fam_size', 'income_pc',\n",
            "       'VL_SEMESTRE_SEM_DESCONTO', 'tuition_discounted', 'tuition_current',\n",
            "       'inc_prop', 'perc_requested', 'loan_value_sem', 'student_resource',\n",
            "       'loan_value', 'loan_limit', 'date_contract', 'contract_phase',\n",
            "       'nu_dias_atraso', 'total_debt', 'birth_year', 'age', 'default'],\n",
            "      dtype='object')\n"
          ],
          "name": "stdout"
        }
      ]
    },
    {
      "cell_type": "markdown",
      "metadata": {
        "id": "rfn09CydogIL"
      },
      "source": [
        "### 3 - Clean Dataset"
      ]
    },
    {
      "cell_type": "markdown",
      "metadata": {
        "id": "ed9JBddKBneb"
      },
      "source": [
        "In this section we drop unecessary variables, deal with wrong entries and outliers, drop NA's and adjust variable types.\n",
        "\n",
        "Most of the variables were dropped due to inconsistencies and missing data. `nu_dias_atraso` was dropped as it was used to create the binary target variable `default`."
      ]
    },
    {
      "cell_type": "code",
      "metadata": {
        "id": "O-5uSQx3tGHY"
      },
      "source": [
        "variables_to_drop = [\"NO_MUNICIPIO\", # municipality\n",
        "                     \"SG_UF\", # state\n",
        "                     \"VL_SEMESTRE_SEM_DESCONTO\", # value of semester without discount\n",
        "                     \"NU_SEMESTRE_REFERENCIA\", # semester of reference\n",
        "                     \"nu_dias_atraso\", # period of deliquency\n",
        "                     \"QT_MESES_FINANC_SEMESTRE_ATUAL\", # number of months for loans\n",
        "                     \"cpc\", # university evaluation\n",
        "                     \"cc\"] # university evaluation\n",
        "\n",
        "complete_set_clean = complete_set.drop(variables_to_drop, axis = 1)                "
      ],
      "execution_count": null,
      "outputs": []
    },
    {
      "cell_type": "markdown",
      "metadata": {
        "id": "oh4p74NKHWJj"
      },
      "source": [
        "The variable `loan_value_sem` (value of loan in the semester) has over 7,000 entries that are above 99 milion reais. We assume they are coding errors and recalculate them to be the equal to the value of the tuition (`tuition_current`) times the percentage of tuition requested as a loan (`perc_requested`). We also eliminate 4 outliers from `family_income`. Finally we filter `age` to include values ranging between 10 and 100 years old only. \n",
        "\n"
      ]
    },
    {
      "cell_type": "code",
      "metadata": {
        "id": "HgSq5ISLvfBt"
      },
      "source": [
        "import numpy as np\n",
        "\n",
        "complete_set_clean['loan_value_sem'] = np.where((complete_set_clean.loan_value_sem > 300000), \n",
        "                                          (complete_set_clean[\"perc_requested\"]/100 * complete_set_clean[\"tuition_current\"]), \n",
        "                                          complete_set_clean.loan_value_sem)"
      ],
      "execution_count": null,
      "outputs": []
    },
    {
      "cell_type": "code",
      "metadata": {
        "id": "eGRz0Il9guBC"
      },
      "source": [
        "complete_set_clean = complete_set_clean.loc[(complete_set_clean['family_income'] < 100000)] "
      ],
      "execution_count": null,
      "outputs": []
    },
    {
      "cell_type": "code",
      "metadata": {
        "id": "xgNYTGjBguBD"
      },
      "source": [
        "complete_set_clean = complete_set_clean.loc[(complete_set_clean['age'] < 100) & (complete_set_clean['age'] > 10)] "
      ],
      "execution_count": null,
      "outputs": []
    },
    {
      "cell_type": "markdown",
      "metadata": {
        "id": "y4bkcOB6Ifdk"
      },
      "source": [
        "For the variables in the list below, we drop NAs, as they do not make up a large share of observations. "
      ]
    },
    {
      "cell_type": "code",
      "metadata": {
        "id": "X3smpA04ogIN"
      },
      "source": [
        "complete_set_clean = complete_set_clean.dropna(subset=[\"semester_enroll\",\n",
        "                                                      \"gender\",\n",
        "                                                       \"occupation\",\n",
        "                                                       \"marital_status\",\n",
        "                                                       \"ethnicity\",\n",
        "                                                       \"public_hs\",\n",
        "                                                       \"state_course\",\n",
        "                                                       \"degree\",\n",
        "                                                       \"igc\",\n",
        "                                                       \"contract_phase\",\n",
        "                                                       \"high_school_endyear\"])"
      ],
      "execution_count": null,
      "outputs": []
    },
    {
      "cell_type": "markdown",
      "metadata": {
        "id": "zsHAKTuFIvov"
      },
      "source": [
        "The last step is adjusting some variable types. "
      ]
    },
    {
      "cell_type": "code",
      "metadata": {
        "id": "itTdp928ogIL"
      },
      "source": [
        "import datetime as dt\n",
        "              \n",
        "complete_set_clean[\"date_contract\"]= complete_set_clean[\"date_contract\"].map(dt.datetime.toordinal)\n",
        "complete_set_clean = complete_set_clean.astype({\"semester_enroll\":str, \"igc\":int})"
      ],
      "execution_count": null,
      "outputs": []
    },
    {
      "cell_type": "markdown",
      "metadata": {
        "id": "yNI9-n1TsaD4"
      },
      "source": [
        " ### 4 - Correlation Matrix\n",
        "\n",
        "In this section, we perform a quick correlation analysis. The only variable to be dropped is `tuition_discounted`, since it has perfect correlation with another variable (`tuition_current`). The remainder will be subject to further analysis in the future. "
      ]
    },
    {
      "cell_type": "code",
      "metadata": {
        "colab": {
          "base_uri": "https://localhost:8080/"
        },
        "id": "16Dpj4i4sv9K",
        "outputId": "386b5bf9-797a-458d-fc7d-cebdc3812271"
      },
      "source": [
        "corr_matrix = complete_set_clean.corr()\n",
        "corr_matrix['default'].sort_values(ascending=False, key=pd.Series.abs)"
      ],
      "execution_count": null,
      "outputs": [
        {
          "output_type": "execute_result",
          "data": {
            "text/plain": [
              "default                1.000000\n",
              "family_income         -0.245497\n",
              "income_pc             -0.223941\n",
              "n_sem_course          -0.180687\n",
              "perc_requested         0.180169\n",
              "student_resource      -0.175306\n",
              "loan_value            -0.143912\n",
              "tuition_discounted    -0.132852\n",
              "tuition_current       -0.131339\n",
              "sem_funded            -0.122057\n",
              "fam_size              -0.109477\n",
              "igc                   -0.094080\n",
              "inc_prop               0.089520\n",
              "loan_limit            -0.088000\n",
              "loan_value_sem        -0.073557\n",
              "total_debt            -0.069333\n",
              "n_completed_sem       -0.044509\n",
              "personal_income       -0.028472\n",
              "date_contract          0.010705\n",
              "high_school_endyear    0.010702\n",
              "Name: default, dtype: float64"
            ]
          },
          "metadata": {
            "tags": []
          },
          "execution_count": 145
        }
      ]
    },
    {
      "cell_type": "markdown",
      "metadata": {
        "id": "wsLY_zVXNXb3"
      },
      "source": [
        "For the analysis, two subsets were created: \n",
        "\n",
        "* `corr_income`: containing variables related to family income;\n",
        "* `corr_tuition`: containing variables related to tuition value."
      ]
    },
    {
      "cell_type": "code",
      "metadata": {
        "id": "h96KEl0TtG7p"
      },
      "source": [
        "corr_income = complete_set_clean[['family_income', 'income_pc', 'fam_size', 'default']].copy()\n",
        "corr_tuition = complete_set_clean[['tuition_discounted', 'tuition_current', 'loan_limit', 'loan_value_sem', 'loan_value', 'perc_requested', 'default']].copy()"
      ],
      "execution_count": null,
      "outputs": []
    },
    {
      "cell_type": "code",
      "metadata": {
        "colab": {
          "base_uri": "https://localhost:8080/",
          "height": 270
        },
        "id": "y0AI0SbrsZh2",
        "outputId": "a9e97305-c3ae-40f4-de48-cd996bfee0ad"
      },
      "source": [
        "import seaborn as sn\n",
        "import matplotlib.pyplot as plt\n",
        "\n",
        "corrMatrix = corr_income.corr()\n",
        "sn.heatmap(corrMatrix, annot=True)\n",
        "plt.show()"
      ],
      "execution_count": null,
      "outputs": [
        {
          "output_type": "display_data",
          "data": {
            "image/png": "[encoded data removed]",
            "text/plain": [
              "<Figure size 432x288 with 2 Axes>"
            ]
          },
          "metadata": {
            "tags": [],
            "needs_background": "light"
          }
        }
      ]
    },
    {
      "cell_type": "code",
      "metadata": {
        "colab": {
          "base_uri": "https://localhost:8080/",
          "height": 352
        },
        "id": "dSXk2Pnnz0rz",
        "outputId": "abae4ea1-8a52-4a8a-9289-87e246c4c200"
      },
      "source": [
        "corrMatrix = corr_tuition.corr()\n",
        "sn.heatmap(corrMatrix, annot=True)\n",
        "plt.show()"
      ],
      "execution_count": null,
      "outputs": [
        {
          "output_type": "display_data",
          "data": {
            "image/png": "[encoded data removed]",
            "text/plain": [
              "<Figure size 432x288 with 2 Axes>"
            ]
          },
          "metadata": {
            "tags": [],
            "needs_background": "light"
          }
        }
      ]
    },
    {
      "cell_type": "code",
      "metadata": {
        "id": "dR29SVo06Dak"
      },
      "source": [
        "complete_set_clean = complete_set_clean.drop(\"tuition_discounted\", axis=1)"
      ],
      "execution_count": null,
      "outputs": []
    },
    {
      "cell_type": "markdown",
      "metadata": {
        "id": "fVwJfudJogIS"
      },
      "source": [
        "### 5 - Creat Train and Test Sets\n",
        "\n",
        "In this section we create the training and test sets using the function *train_test_split* from Scikit-Learn. Two important considerations about our choice:\n",
        "\n",
        "* Our dataset is a sample provided by the Brazilian Governent and will not be updated. Therefore, we chose not to be concerned about future splits with updated data;\n",
        "\n",
        "* Our original data includes 637,822 instances. After cleaning the dataset, we still have 438,752 instances. Thus, we assume it is big enough and do not employ stratified sampling."
      ]
    },
    {
      "cell_type": "code",
      "metadata": {
        "id": "hJuseFTaogIS"
      },
      "source": [
        "from sklearn.model_selection import train_test_split\n",
        "train, test = train_test_split(complete_set_clean, test_size=0.2, random_state=42)"
      ],
      "execution_count": null,
      "outputs": []
    },
    {
      "cell_type": "code",
      "metadata": {
        "colab": {
          "base_uri": "https://localhost:8080/"
        },
        "id": "o01ykWDTT0Hi",
        "outputId": "0c2e5c9d-1dce-4c3f-99a3-39a690006ecf"
      },
      "source": [
        "train.shape"
      ],
      "execution_count": null,
      "outputs": [
        {
          "output_type": "execute_result",
          "data": {
            "text/plain": [
              "(351001, 30)"
            ]
          },
          "metadata": {
            "tags": []
          },
          "execution_count": 151
        }
      ]
    },
    {
      "cell_type": "code",
      "metadata": {
        "colab": {
          "base_uri": "https://localhost:8080/"
        },
        "id": "-4AngI-LaIbV",
        "outputId": "53860edd-64da-433a-e81a-abc1486e97d6"
      },
      "source": [
        "test.shape"
      ],
      "execution_count": null,
      "outputs": [
        {
          "output_type": "execute_result",
          "data": {
            "text/plain": [
              "(87751, 30)"
            ]
          },
          "metadata": {
            "tags": []
          },
          "execution_count": 157
        }
      ]
    },
    {
      "cell_type": "markdown",
      "metadata": {
        "id": "lBvjBxNiKkDo"
      },
      "source": [
        "### 6 - Visualization\n",
        "Here we present some graphs of important variables in the training set."
      ]
    },
    {
      "cell_type": "markdown",
      "metadata": {
        "id": "BUoM9ZG54IRr"
      },
      "source": [
        "The first graph shows that we have an unbalanced training set. Around 60% of the instances are labeled as 0 (good borrowers) while around 40% are labeled as 1 (bad borrrowers.)"
      ]
    },
    {
      "cell_type": "code",
      "metadata": {
        "id": "FzIp0rPO4ORm",
        "colab": {
          "base_uri": "https://localhost:8080/",
          "height": 416
        },
        "outputId": "c3aeb43e-0a9c-483d-da07-86669eeaea8d"
      },
      "source": [
        "import matplotlib.pyplot as plt\n",
        "import seaborn as sns \n",
        "\n",
        "default_0 = \"{:.0%}\".format(sum(train[\"default\"]==0)/len(train))\n",
        "default_1 = \"{:.0%}\".format(sum(train[\"default\"]==1)/len(train))\n",
        "\n",
        "sns.catplot(x=\"default\", kind=\"count\", palette=\"Set2\", data=train)\n",
        "plt.annotate(default_0, xy=(0,214000))\n",
        "plt.annotate(default_1, xy=(1,141000))\n",
        "plt.title(\"Proportion of good (green) and bad borrowers in the training set\")\n",
        "plt.xlabel(\"Default Status\")\n",
        "plt.ylabel(\"Counts\")"
      ],
      "execution_count": null,
      "outputs": [
        {
          "output_type": "execute_result",
          "data": {
            "text/plain": [
              "Text(-15.200000000000003, 0.5, 'Counts')"
            ]
          },
          "metadata": {
            "tags": []
          },
          "execution_count": 152
        },
        {
          "output_type": "display_data",
          "data": {
            "image/png": "[encoded data removed]",
            "text/plain": [
              "<Figure size 360x360 with 1 Axes>"
            ]
          },
          "metadata": {
            "tags": [],
            "needs_background": "light"
          }
        }
      ]
    },
    {
      "cell_type": "markdown",
      "metadata": {
        "id": "RrsAvO_T4gAP"
      },
      "source": [
        "We assumed we would have more distinct distributions of age for the two default status because some previous work found that age is a good predictor of default. Here, however, the distributions seem pretty similar."
      ]
    },
    {
      "cell_type": "code",
      "metadata": {
        "id": "zWqJRA1CVtHK"
      },
      "source": [
        "train = train.astype({\"age\":float})"
      ],
      "execution_count": null,
      "outputs": []
    },
    {
      "cell_type": "code",
      "metadata": {
        "id": "AB-NHBzs4Yct",
        "colab": {
          "base_uri": "https://localhost:8080/",
          "height": 384
        },
        "outputId": "62e9eb1e-d6c3-45e7-d843-75a81148ef05"
      },
      "source": [
        "plot_age = sns.displot(train, x=\"age\", kind=\"kde\", hue = \"default\", palette=\"Set2\", fill = \"true\")\n",
        "plt.title(\"Density plot of age by default status\")\n",
        "plot_age.set(xlim=(10, 70))\n",
        "plt.show()"
      ],
      "execution_count": null,
      "outputs": [
        {
          "output_type": "display_data",
          "data": {
            "image/png": "[encoded data removed]",
            "text/plain": [
              "<Figure size 403.375x360 with 1 Axes>"
            ]
          },
          "metadata": {
            "tags": [],
            "needs_background": "light"
          }
        }
      ]
    },
    {
      "cell_type": "markdown",
      "metadata": {
        "id": "0PCdIEst4kAR"
      },
      "source": [
        "As we saw previously, income per capita is a good predictor of default status. Above we can see that for values higher than 1000, the probability of being a good borrower (green) is a lot higher than the default probability."
      ]
    },
    {
      "cell_type": "code",
      "metadata": {
        "id": "26FhhRzq4hJB",
        "colab": {
          "base_uri": "https://localhost:8080/",
          "height": 402
        },
        "outputId": "0611fec0-009b-4802-e5a0-8e589fcb7a96"
      },
      "source": [
        "plot_income = sns.displot(train, x=\"income_pc\", kind=\"kde\", hue =\"default\",palette=\"Set2\", fill = \"true\" )\n",
        "plt.title(\"Density plot of income by default status\")\n",
        "plot_income.set(xlim=(0, 5000))"
      ],
      "execution_count": null,
      "outputs": [
        {
          "output_type": "execute_result",
          "data": {
            "text/plain": [
              "<seaborn.axisgrid.FacetGrid at 0x7fcb59009910>"
            ]
          },
          "metadata": {
            "tags": []
          },
          "execution_count": 155
        },
        {
          "output_type": "display_data",
          "data": {
            "image/png": "[encoded data removed]",
            "text/plain": [
              "<Figure size 403.375x360 with 1 Axes>"
            ]
          },
          "metadata": {
            "tags": [],
            "needs_background": "light"
          }
        }
      ]
    },
    {
      "cell_type": "markdown",
      "metadata": {
        "id": "Qsaeu5izo8zp"
      },
      "source": [
        "### 7 - Save Sets"
      ]
    },
    {
      "cell_type": "code",
      "metadata": {
        "id": "x5D3kvuso7_R"
      },
      "source": [
        "#from google.colab import files\n",
        "\n",
        "# Training dataset\n",
        "train.to_csv('train.csv', index=False)\n",
        "#files.download('train.csv')\n",
        "\n",
        "# Test dataset\n",
        "test.to_csv('test.csv', index=False)\n",
        "#files.download('test.csv')"
      ],
      "execution_count": null,
      "outputs": []
    }
  ]
}