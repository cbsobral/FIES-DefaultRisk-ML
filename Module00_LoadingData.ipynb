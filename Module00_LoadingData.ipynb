{
<<<<<<< Updated upstream
  "nbformat": 4,
  "nbformat_minor": 0,
  "metadata": {
=======
<<<<<<< HEAD
 "cells": [
  {
   "cell_type": "markdown",
   "metadata": {
    "colab_type": "text",
    "id": "view-in-github"
   },
   "source": [
    "<a href=\"https://colab.research.google.com/github/cbsobral/ml-fies/blob/main/Module00_LoadingData.ipynb\" target=\"_parent\"><img src=\"https://colab.research.google.com/assets/colab-badge.svg\" alt=\"Open In Colab\"/></a>"
   ]
  },
  {
   "cell_type": "markdown",
   "metadata": {
    "id": "qSSIbHD3ogH6"
   },
   "source": [
    "## Module 00 - Loading data and creating training and test sets\n",
    "\n",
    "In this first module, we perform the following steps:\n",
    "\n",
    "1. Load the data from Google Drive in two parts (the file is too big to load at once);\n",
    "2. Exclude irrelevant variables or variables with too many missing values;\n",
    "3. Rename variables in English and possibly with shorter names;\n",
    "4. Divide training and test set."
   ]
  },
  {
   "cell_type": "markdown",
   "metadata": {
    "id": "D15x3tAyogIC"
   },
   "source": [
    "### 1 - Load the data in two parts:"
   ]
  },
  {
   "cell_type": "code",
   "execution_count": 3,
   "metadata": {
=======
  "nbformat": 4,
  "nbformat_minor": 0,
  "metadata": {
>>>>>>> 24615d14f3200a7f770bb5cbd95070abd66b4ecf
>>>>>>> Stashed changes
    "colab": {
      "name": "Module00_LoadingData.ipynb",
      "provenance": [],
      "collapsed_sections": [],
      "include_colab_link": true
    },
<<<<<<< Updated upstream
=======
<<<<<<< HEAD
    "id": "5AkGS1VgogID",
    "outputId": "2aca804d-fcff-495e-8547-8e7a5fc6cd67"
   },
   "outputs": [
    {
     "data": {
      "text/plain": [
       "(309999, 37)"
      ]
     },
     "execution_count": 3,
     "metadata": {},
     "output_type": "execute_result"
=======
>>>>>>> Stashed changes
    "kernelspec": {
      "display_name": "Python 3",
      "language": "python",
      "name": "python3"
    },
    "language_info": {
      "codemirror_mode": {
        "name": "ipython",
        "version": 3
      },
      "file_extension": ".py",
      "mimetype": "text/x-python",
      "name": "python",
      "nbconvert_exporter": "python",
      "pygments_lexer": "ipython3",
      "version": "3.8.5"
<<<<<<< Updated upstream
    }
  },
=======
>>>>>>> 24615d14f3200a7f770bb5cbd95070abd66b4ecf
    }
  },
<<<<<<< HEAD
  {
   "cell_type": "code",
   "execution_count": 4,
   "metadata": {
    "colab": {
     "base_uri": "https://localhost:8080/"
=======
>>>>>>> Stashed changes
  "cells": [
    {
      "cell_type": "markdown",
      "metadata": {
        "id": "view-in-github",
        "colab_type": "text"
      },
      "source": [
        "<a href=\"https://colab.research.google.com/github/cbsobral/ml-fies/blob/main/Module00_LoadingData.ipynb\" target=\"_parent\"><img src=\"https://colab.research.google.com/assets/colab-badge.svg\" alt=\"Open In Colab\"/></a>"
      ]
<<<<<<< Updated upstream
=======
>>>>>>> 24615d14f3200a7f770bb5cbd95070abd66b4ecf
>>>>>>> Stashed changes
    },
    {
      "cell_type": "markdown",
      "metadata": {
        "id": "qSSIbHD3ogH6"
      },
      "source": [
        "## Module 00 - Loading data and creating training and test sets\n",
        "\n",
        "In this first module, we perform the following steps:\n",
        "\n",
        "1. Load the data from Google Drive in two parts (the file is too big to load at once);\n",
        "2. Exclude irrelevant variables or variables with too many missing values;\n",
        "3. Rename variables in English and possibly with shorter names;\n",
        "4. Divide training and test set."
      ]
<<<<<<< Updated upstream
=======
<<<<<<< HEAD
     },
     "execution_count": 4,
     "metadata": {},
     "output_type": "execute_result"
    }
   ],
   "source": [
    "url_b = \"https://drive.google.com/file/d/1nGckSszPPifPvR3o5FeYaKArUYbfjHGn/view?usp=sharing\"\n",
    "path_b = \"https://drive.google.com/uc?export=download&id=\"+url_b.split(\"/\")[-2]\n",
    "base_df_b = pd.read_excel(path_b)\n",
    "base_df_b.shape"
   ]
  },
  {
   "cell_type": "code",
   "execution_count": 11,
   "metadata": {
    "colab": {
     "base_uri": "https://localhost:8080/"
=======
>>>>>>> 24615d14f3200a7f770bb5cbd95070abd66b4ecf
>>>>>>> Stashed changes
    },
    {
      "cell_type": "markdown",
      "metadata": {
        "id": "D15x3tAyogIC"
      },
      "source": [
        "### 1 - Load the data in two parts:"
      ]
<<<<<<< Updated upstream
    },
    {
      "cell_type": "code",
      "metadata": {
        "colab": {
          "base_uri": "https://localhost:8080/"
        },
        "id": "5AkGS1VgogID",
        "outputId": "2aca804d-fcff-495e-8547-8e7a5fc6cd67"
      },
      "source": [
        "import pandas as pd\n",
        "\n",
        "url_a = \"https://drive.google.com/file/d/1prPbFSiXFTHmTHzXTGxy4HrtRxXUHhce/view?usp=sharing\"\n",
        "path_a = \"https://drive.google.com/uc?export=download&id=\"+url_a.split(\"/\")[-2]\n",
        "base_df_a = pd.read_excel(path_a)\n",
        "base_df_a.shape"
      ],
      "execution_count": null,
      "outputs": [
        {
          "output_type": "execute_result",
          "data": {
            "text/plain": [
              "(309999, 37)"
            ]
          },
          "metadata": {
            "tags": []
          },
          "execution_count": 2
        }
      ]
=======
<<<<<<< HEAD
     },
     "execution_count": 11,
     "metadata": {},
     "output_type": "execute_result"
    }
   ],
   "source": [
    "complete_set = base_df_a.append(base_df_b)\n",
    "complete_set.shape"
   ]
  },
  {
   "cell_type": "markdown",
   "metadata": {
    "id": "SjnAzKW4ogIJ"
   },
   "source": [
    "### 2 - Renaming variables"
   ]
  },
  {
   "cell_type": "code",
   "execution_count": 12,
   "metadata": {
    "id": "Ky27V0YJogIK"
   },
   "outputs": [],
   "source": [
    "#Let\"s use 365 days as the initial limit for default categories\n",
    "#To be added in the pipeline\n",
    "complete_set=complete_set.assign(default=1*(complete_set[\"nu_dias_atraso\"]>365))"
   ]
  },
  {
   "cell_type": "code",
   "execution_count": 14,
   "metadata": {
    "colab": {
     "base_uri": "https://localhost:8080/"
=======
>>>>>>> 24615d14f3200a7f770bb5cbd95070abd66b4ecf
    },
    {
<<<<<<< HEAD
     "data": {
      "text/plain": [
       "semester_enroll                      int64\n",
       "gender                              object\n",
       "occupation                          object\n",
       "marital_status                      object\n",
       "family_income                      float64\n",
       "personal_income                    float64\n",
       "NO_MUNICIPIO                        object\n",
       "SG_UF                               object\n",
       "ethnicity                           object\n",
       "public_hs                           object\n",
       "high_school_endyear                float64\n",
       "NU_SEMESTRE_REFERENCIA               int64\n",
       "state_course                        object\n",
       "degree                              object\n",
       "igc                                float64\n",
       "cpc                                float64\n",
       "cc                                 float64\n",
       "n_sem_course                         int64\n",
       "n_completed_sem                      int64\n",
       "sem_funded                           int64\n",
       "past_sem_funded                      int64\n",
       "fam_size                           float64\n",
       "income_pc                          float64\n",
       "VL_SEMESTRE_SEM_DESCONTO           float64\n",
       "tuition_discounted                 float64\n",
       "tuition_current                    float64\n",
       "inc_prop                           float64\n",
       "perc_requested                       int64\n",
       "loan_value_sem                     float64\n",
       "student_resource                   float64\n",
       "loan_value                         float64\n",
       "loan_limit                         float64\n",
       "date_contract               datetime64[ns]\n",
       "contract_phase                      object\n",
       "days_delay                           int64\n",
       "total_debt                         float64\n",
       "birth_year                          object\n",
       "default                              int64\n",
       "dtype: object"
      ]
     },
     "execution_count": 14,
     "metadata": {},
     "output_type": "execute_result"
    }
   ],
   "source": [
    "new_names ={\"NU_ANO_SEMESTRE_INSCRICAO\":\"semester_enroll\",\n",
    "            \"SG_SEXO\":\"gender\",\n",
    "            \"DS_OCUPACAO\":\"occupation\",\n",
    "            \"DS_RACA_COR\" : \"ethnicity\",\n",
    "            \"NU_ANO_CONCLUSAO_ENSINO_MEDIO\":\"high_school_endyear\",\n",
    "            \"SG_UF_CURSO\": \"state_course\",\n",
    "            \"QT_SEMESTRES_CURSO\": \"n_sem_course\",\n",
    "            \"VL_SEMESTRE_COM_DESCONTO\": \"tuition_discounted\",\n",
    "            \"NU_PERCENT_SOLICITADO_FINANC\":\"perc_requested\",\n",
    "            \"VL_FINANC_RECURSO_ALUNO\":\"student_resource\",\n",
    "            \"nu_dias_atraso\":\"days_delay\",\n",
    "            \"ANO_NASC\":\"birth_year\",\n",
    "            \"DS_ESTADO_CIVIL\":\"marital_status\", \n",
    "            \"VL_RENDA_PESSOAL_BRUTA_MENSAL\": \"personal_income\",\n",
    "            \"VL_RENDA_FAMILIAR_BRUTA_MENSAL\": \"family_income\",\n",
    "            \"ST_ENSINO_MEDIO_ESCOLA_PUBLICA\": \"public_hs\",\n",
    "            \"NO_CURSO\": \"degree\",\n",
    "            \"QT_SEMESTRE_CONCLUIDO\": \"n_completed_sem\",\n",
    "            \"VL_SEMESTRE_ATUAL\": \"tuition_current\",\n",
    "            \"VL_FINANCIADO_SEMESTRE\": \"loan_value_sem\",\n",
    "            \"fase_contrato\": \"contract_phase\",\n",
    "            \"vl_divida\": \"total_debt\",            \n",
    "            \"VL_AVALIACAO_IGC\": \"igc\",\n",
    "            \"VL_FAIXA_CPC\": \"cpc\",\n",
    "            \"VL_FAIXA_CC\": \"cc\",\n",
    "            \"QT_SEMESTRE_FINANCIAMENTO\": \"sem_funded\",\n",
    "            \"QT_MEMBRO\": \"fam_size\",\n",
    "            \"VL_RENDA_PER_CAPITA\":\"income_pc\",\n",
    "            \"NU_PERCENTUAL_COMPROMETIMENTO\":\"inc_prop\",\n",
    "            \"VL_TOTAL_FINANCIAMENTO\":\"loan_value\",\n",
    "            \"VL_LIMITE_GLOBAL\":\"loan_limit\",\n",
    "            \"dt_inicio_cont\":\"date_contract\",\n",
    "            'QT_MESES_FINANC_SEMESTRE_ATUAL': 'past_sem_funded'\n",
    "\n",
    "\n",
    "}\n",
    "\n",
    "complete_set = complete_set.rename(index=str, columns=new_names)\n",
    "complete_set.dtypes"
   ]
  },
  {
   "cell_type": "code",
   "execution_count": 15,
   "metadata": {
    "colab": {
     "base_uri": "https://localhost:8080/"
=======
      "cell_type": "code",
      "metadata": {
        "colab": {
          "base_uri": "https://localhost:8080/"
        },
        "id": "5AkGS1VgogID",
        "outputId": "2aca804d-fcff-495e-8547-8e7a5fc6cd67"
      },
      "source": [
        "import pandas as pd\n",
        "\n",
        "url_a = \"https://drive.google.com/file/d/1prPbFSiXFTHmTHzXTGxy4HrtRxXUHhce/view?usp=sharing\"\n",
        "path_a = \"https://drive.google.com/uc?export=download&id=\"+url_a.split(\"/\")[-2]\n",
        "base_df_a = pd.read_excel(path_a)\n",
        "base_df_a.shape"
      ],
      "execution_count": null,
      "outputs": [
        {
          "output_type": "execute_result",
          "data": {
            "text/plain": [
              "(309999, 37)"
            ]
          },
          "metadata": {
            "tags": []
          },
          "execution_count": 2
        }
      ]
>>>>>>> 24615d14f3200a7f770bb5cbd95070abd66b4ecf
>>>>>>> Stashed changes
    },
    {
      "cell_type": "code",
      "metadata": {
        "colab": {
          "base_uri": "https://localhost:8080/"
        },
        "id": "hyJ2yJuqogIG",
        "outputId": "2093a715-1090-4062-dede-fef7a30afeea"
      },
      "source": [
        "url_b = \"https://drive.google.com/file/d/1nGckSszPPifPvR3o5FeYaKArUYbfjHGn/view?usp=sharing\"\n",
        "path_b = \"https://drive.google.com/uc?export=download&id=\"+url_b.split(\"/\")[-2]\n",
        "base_df_b = pd.read_excel(path_b)\n",
        "base_df_b.shape"
      ],
      "execution_count": null,
      "outputs": [
        {
          "output_type": "execute_result",
          "data": {
            "text/plain": [
              "(327823, 37)"
            ]
          },
          "metadata": {
            "tags": []
          },
          "execution_count": 3
        }
      ]
<<<<<<< Updated upstream
    },
=======
<<<<<<< HEAD
     },
     "execution_count": 15,
     "metadata": {},
     "output_type": "execute_result"
    }
   ],
   "source": [
    "import numpy as np\n",
    "# Calculate values for wrong entries (larger than 300,000 reais)\n",
    "complete_set['loan_value_sem'] = np.where((complete_set.loan_value_sem > 300000), (complete_set[\"perc_requested\"]/100 * complete_set[\"tuition_current\"]), complete_set.loan_value_sem)\n",
    "complete_set['tuition_discounted'].describe() "
   ]
  },
  {
   "cell_type": "markdown",
   "metadata": {
    "id": "rfn09CydogIL"
   },
   "source": [
    "### 3 - Cleaning Dataset"
   ]
  },
  {
   "cell_type": "code",
   "execution_count": 21,
   "metadata": {
    "id": "itTdp928ogIL"
   },
   "outputs": [],
   "source": [
    "import datetime as dt\n",
    "\n",
    "variables_to_drop = [\"NO_MUNICIPIO\",\n",
    "                     \"SG_UF\",\n",
    "                     \"VL_SEMESTRE_SEM_DESCONTO\",\n",
    "                     \"NU_SEMESTRE_REFERENCIA\"]\n",
    "\n",
    "complete_set_clean = complete_set.drop(variables_to_drop, axis = 1)\n",
    "\n",
    "complete_set_clean[\"date_contract\"]= complete_set_clean[\"date_contract\"].map(dt.datetime.toordinal)"
   ]
  },
  {
   "cell_type": "markdown",
   "metadata": {
    "id": "V66zCTtnAuXZ"
   },
   "source": [
    "\n",
    "# Bruno's variables which need special treatment"
   ]
  },
  {
   "cell_type": "code",
   "execution_count": 33,
   "metadata": {
    "id": "mXlAR2V7AuXa"
   },
   "outputs": [
=======
    },
>>>>>>> 24615d14f3200a7f770bb5cbd95070abd66b4ecf
>>>>>>> Stashed changes
    {
      "cell_type": "code",
      "metadata": {
        "colab": {
          "base_uri": "https://localhost:8080/"
        },
        "id": "1nhq9lgWogII",
        "outputId": "7c9c62c7-a15b-4db7-e3ce-52180d3b9b6a"
      },
      "source": [
        "complete_set = base_df_a.append(base_df_b)\n",
        "complete_set.shape"
      ],
      "execution_count": null,
      "outputs": [
        {
          "output_type": "execute_result",
          "data": {
            "text/plain": [
              "(637822, 37)"
            ]
          },
          "metadata": {
            "tags": []
          },
          "execution_count": 28
        }
      ]
<<<<<<< Updated upstream
    },
    {
      "cell_type": "markdown",
      "metadata": {
        "id": "SjnAzKW4ogIJ"
      },
      "source": [
        "### 2 - Renaming variables"
      ]
    },
    {
      "cell_type": "code",
      "metadata": {
        "id": "Ky27V0YJogIK",
        "jupyter": {
          "source_hidden": true
        }
      },
      "source": [
        "#Let\"s use 365 days as the initial limit for default categories\n",
        "#To be added in the pipeline\n",
        "complete_set=complete_set.assign(default=1*(complete_set[\"nu_dias_atraso\"]>365))"
      ],
      "execution_count": null,
      "outputs": []
    },
    {
      "cell_type": "code",
      "metadata": {
        "colab": {
          "base_uri": "https://localhost:8080/"
        },
        "id": "gz8vy6TVogIK",
        "outputId": "60aeef9b-4ee3-4cfb-b01c-83033d3f371d"
      },
      "source": [
        "new_names ={\"NU_ANO_SEMESTRE_INSCRICAO\":\"semester_enroll\",\n",
        "            \"SG_SEXO\":\"gender\",\n",
        "            \"DS_OCUPACAO\":\"occupation\",\n",
        "            \"DS_RACA_COR\" : \"ethnicity\",\n",
        "            \"NU_ANO_CONCLUSAO_ENSINO_MEDIO\":\"high_school_endyear\",\n",
        "            \"SG_UF_CURSO\": \"state_course\",\n",
        "            \"QT_SEMESTRES_CURSO\": \"n_sem_course\",\n",
        "            \"VL_SEMESTRE_COM_DESCONTO\": \"tuition_discounted\",\n",
        "            \"NU_PERCENT_SOLICITADO_FINANC\":\"perc_requested\",\n",
        "            \"VL_FINANC_RECURSO_ALUNO\":\"student_resource\",\n",
        "            \"nu_dias_atraso\":\"days_delay\",\n",
        "            \"ANO_NASC\":\"birth_year\",\n",
        "            \"DS_ESTADO_CIVIL\":\"marital_status\", \n",
        "            \"VL_RENDA_PESSOAL_BRUTA_MENSAL\": \"personal_income\",\n",
        "            \"VL_RENDA_FAMILIAR_BRUTA_MENSAL\": \"family_income\",\n",
        "            \"ST_ENSINO_MEDIO_ESCOLA_PUBLICA\": \"public_hs\",\n",
        "            \"NO_CURSO\": \"degree\",\n",
        "            \"QT_SEMESTRE_CONCLUIDO\": \"n_completed_sem\",\n",
        "            \"VL_SEMESTRE_ATUAL\": \"tuition_current\",\n",
        "            \"VL_FINANCIADO_SEMESTRE\": \"loan_value_sem\",\n",
        "            \"fase_contrato\": \"contract_phase\",\n",
        "            \"vl_divida\": \"total_debt\",            \n",
        "            \"VL_AVALIACAO_IGC\": \"igc\",\n",
        "            \"VL_FAIXA_CPC\": \"cpc\",\n",
        "            \"VL_FAIXA_CC\": \"cc\",\n",
        "            \"QT_SEMESTRE_FINANCIAMENTO\": \"sem_funded\",\n",
        "            \"QT_MEMBRO\": \"fam_size\",\n",
        "            \"VL_RENDA_PER_CAPITA\":\"income_pc\",\n",
        "            \"NU_PERCENTUAL_COMPROMETIMENTO\":\"inc_prop\",\n",
        "            \"VL_TOTAL_FINANCIAMENTO\":\"loan_value\",\n",
        "            \"VL_LIMITE_GLOBAL\":\"loan_limit\",\n",
        "            \"dt_inicio_cont\":\"date_contract\"\n",
        "}\n",
        "\n",
        "complete_set = complete_set.rename(index=str, columns=new_names)\n",
        "complete_set.dtypes"
      ],
      "execution_count": null,
      "outputs": [
        {
          "output_type": "execute_result",
          "data": {
            "text/plain": [
              "semester_enroll                            int64\n",
              "gender                                    object\n",
              "occupation                                object\n",
              "marital_status                            object\n",
              "family_income                            float64\n",
              "personal_income                          float64\n",
              "NO_MUNICIPIO                              object\n",
              "SG_UF                                     object\n",
              "ethnicity                                 object\n",
              "public_hs                                 object\n",
              "high_school_endyear                      float64\n",
              "NU_SEMESTRE_REFERENCIA                     int64\n",
              "state_course                              object\n",
              "degree                                    object\n",
              "igc                                      float64\n",
              "cpc                                      float64\n",
              "cc                                       float64\n",
              "n_sem_course                               int64\n",
              "n_completed_sem                            int64\n",
              "sem_funded                                 int64\n",
              "QT_MESES_FINANC_SEMESTRE_ATUAL             int64\n",
              "fam_size                                 float64\n",
              "income_pc                                float64\n",
              "VL_SEMESTRE_SEM_DESCONTO                 float64\n",
              "tuition_discounted                       float64\n",
              "tuition_current                          float64\n",
              "inc_prop                                 float64\n",
              "perc_requested                             int64\n",
              "loan_value_sem                           float64\n",
              "student_resource                         float64\n",
              "loan_value                               float64\n",
              "loan_limit                               float64\n",
              "date_contract                     datetime64[ns]\n",
              "contract_phase                            object\n",
              "days_delay                                 int64\n",
              "total_debt                               float64\n",
              "birth_year                                object\n",
              "default                                    int64\n",
              "dtype: object"
            ]
          },
          "metadata": {
            "tags": []
          },
          "execution_count": 30
        }
      ]
    },
    {
=======
<<<<<<< HEAD
     },
     "execution_count": 33,
     "metadata": {},
     "output_type": "execute_result"
    }
   ],
   "source": [
    "complete_set.nlargest(20, ['family_income'])\n",
    "# na tabela abaixo, eu relaciono as 20 maiores rendas familiares do banco de dados\n",
    "# os 6 primeiros valores são outliers e os 3 primeiros parecem ser erros\n",
    "# se isso for renda familiar mensal, eu sugiro excluir valores maiores que 100,000.00, o que acham?\n",
    "\n",
    "# Diego: além desse problema em family income, temos que imputar NAs para high_school_endyear e birth_year"
   ]
  },
  {
   "cell_type": "markdown",
   "metadata": {
    "id": "7Kcob9Y0ogIM"
   },
   "source": [
    "Some variables are better interprerted as categories."
   ]
  },
  {
   "cell_type": "markdown",
   "metadata": {
    "id": "l3sKb1nWogIM"
   },
   "source": [
    "### 4 - Add atributes"
   ]
  },
  {
   "cell_type": "markdown",
   "metadata": {
    "id": "yv-XDRCDAuXb"
   },
   "source": [
    "Adds a columns for a dummy that defines if the main occupation is student. An another one to define if the delay in repayment is more than one year (365 days)"
   ]
  },
  {
   "cell_type": "code",
   "execution_count": 22,
   "metadata": {
    "id": "-0wC7L7dogIM"
   },
   "outputs": [],
   "source": [
    "#Recode ocupacao\n",
    "complete_set_clean=complete_set_clean.assign(student=1*(complete_set[\"occupation\"]==\"Estudante\"))\n",
    "\n",
    "complete_set_clean=complete_set_clean.assign(default=1*(complete_set[\"days_delay\"]>=365))"
   ]
  },
  {
   "cell_type": "markdown",
   "metadata": {
    "id": "bJVOljkGogIT"
   },
   "source": [
    "### 5 - Cleaning Data "
   ]
  },
  {
   "cell_type": "code",
   "execution_count": 23,
   "metadata": {
    "id": "X3smpA04ogIN"
   },
   "outputs": [],
   "source": [
    "#Here are the columns we want to drop NA's and not treat like using median, or something else\n",
    "complete_set_clean = complete_set_clean.dropna(subset=[\"semester_enroll\",\n",
    "                                                       \"gender\",\n",
    "                                                       \"occupation\",\n",
    "                                                       \"marital_status\",\n",
    "                                                       \"ethnicity\",\n",
    "                                                       \"public_hs\",\n",
    "                                                       \"state_course\",\n",
    "                                                       \"degree\",\n",
    "                                                       \"igc\",\"cpc\",\"cc\",\n",
    "                                                       \"contract_phase\",\n",
    "                                                       \"birth_year\"])"
   ]
  },
  {
   "cell_type": "code",
   "execution_count": 24,
   "metadata": {
    "id": "_Zf3ApfLogIM"
   },
   "outputs": [],
   "source": [
    "#Birth year has to be corrected in the excel file\n",
    "\n",
    "complete_set_clean = complete_set_clean.astype({\"semester_enroll\":str,\n",
    "                                                \"igc\":'int64',\"cpc\":'int64',\"cc\":'int64',\n",
    "                                               \"birth_year\":str\n",
    "                                               })"
   ]
  },
  {
   "cell_type": "code",
   "execution_count": null,
   "metadata": {
    "id": "WDXn4nQyAuXd"
   },
   "outputs": [],
   "source": []
  },
  {
   "cell_type": "code",
   "execution_count": 25,
   "metadata": {
    "id": "Eyohg-mRogIO"
   },
   "outputs": [],
   "source": [
    "#Get only categorical\n",
    "\n",
    "\n",
    "complete_set_cat = complete_set_clean.select_dtypes(include=[\"object\"])"
   ]
  },
  {
   "cell_type": "markdown",
   "metadata": {
    "id": "fVwJfudJogIS"
   },
   "source": [
    "### 4 - Creating a training and a test set\n",
    "\n",
    "In this section we will create the training and test set using the function *train_test_split* from Scikit-Learn. Two important considerations about our choice:\n",
    "\n",
    "* Our dataset is a sample provided by the Brazilian Governent and will not be updated. Therefore, we chose not to be concerned about future splits with updated data;\n",
    "\n",
    "* Our data includes 637,822 instances. We assume it is big enough and do not employ stratified sampling."
   ]
  },
  {
   "cell_type": "code",
   "execution_count": 26,
   "metadata": {
    "id": "hJuseFTaogIS"
   },
   "outputs": [],
   "source": [
    "from sklearn.model_selection import train_test_split\n",
    "\n",
    "train_set, test_set = train_test_split(complete_set_clean, test_size=0.2, random_state=42)"
   ]
  },
  {
   "cell_type": "code",
   "execution_count": 36,
   "metadata": {},
   "outputs": [],
   "source": [
    "fies  = train_set.drop([\"default\",'days_delay'], axis=1)\n",
    "# drop labels for training set\n",
    "fies_labels = train_set[\"default\"].copy()"
   ]
  },
  {
   "cell_type": "code",
   "execution_count": 37,
   "metadata": {},
   "outputs": [
    {
     "data": {
      "text/html": [
       "<div>\n",
       "<style scoped>\n",
       "    .dataframe tbody tr th:only-of-type {\n",
       "        vertical-align: middle;\n",
       "    }\n",
       "\n",
       "    .dataframe tbody tr th {\n",
       "        vertical-align: top;\n",
       "    }\n",
       "\n",
       "    .dataframe thead th {\n",
       "        text-align: right;\n",
       "    }\n",
       "</style>\n",
       "<table border=\"1\" class=\"dataframe\">\n",
       "  <thead>\n",
       "    <tr style=\"text-align: right;\">\n",
       "      <th></th>\n",
       "      <th>semester_enroll</th>\n",
       "      <th>gender</th>\n",
       "      <th>occupation</th>\n",
       "      <th>marital_status</th>\n",
       "      <th>family_income</th>\n",
       "      <th>personal_income</th>\n",
       "      <th>ethnicity</th>\n",
       "      <th>public_hs</th>\n",
       "      <th>high_school_endyear</th>\n",
       "      <th>state_course</th>\n",
       "      <th>...</th>\n",
       "      <th>perc_requested</th>\n",
       "      <th>loan_value_sem</th>\n",
       "      <th>student_resource</th>\n",
       "      <th>loan_value</th>\n",
       "      <th>loan_limit</th>\n",
       "      <th>date_contract</th>\n",
       "      <th>contract_phase</th>\n",
       "      <th>total_debt</th>\n",
       "      <th>birth_year</th>\n",
       "      <th>student</th>\n",
       "    </tr>\n",
       "  </thead>\n",
       "  <tbody>\n",
       "    <tr>\n",
       "      <th>308469</th>\n",
       "      <td>12011</td>\n",
       "      <td>M</td>\n",
       "      <td>Outras ocupaÃ§Ãµes nÃ£o especificadas anterior...</td>\n",
       "      <td>Solteiro</td>\n",
       "      <td>1580.00</td>\n",
       "      <td>680.0</td>\n",
       "      <td>P</td>\n",
       "      <td>S</td>\n",
       "      <td>NaN</td>\n",
       "      <td>PA</td>\n",
       "      <td>...</td>\n",
       "      <td>100</td>\n",
       "      <td>4246.68</td>\n",
       "      <td>4246.67</td>\n",
       "      <td>84933.5</td>\n",
       "      <td>35135.56</td>\n",
       "      <td>734277</td>\n",
       "      <td>Amortizacao</td>\n",
       "      <td>38451.95</td>\n",
       "      <td>1986</td>\n",
       "      <td>0</td>\n",
       "    </tr>\n",
       "    <tr>\n",
       "      <th>254040</th>\n",
       "      <td>12010</td>\n",
       "      <td>F</td>\n",
       "      <td>Estudante</td>\n",
       "      <td>Casado</td>\n",
       "      <td>10000.00</td>\n",
       "      <td>0.0</td>\n",
       "      <td>B</td>\n",
       "      <td>N</td>\n",
       "      <td>NaN</td>\n",
       "      <td>SP</td>\n",
       "      <td>...</td>\n",
       "      <td>50</td>\n",
       "      <td>17020.23</td>\n",
       "      <td>17020.23</td>\n",
       "      <td>340404.6</td>\n",
       "      <td>158602.13</td>\n",
       "      <td>733934</td>\n",
       "      <td>Amortizacao</td>\n",
       "      <td>150708.88</td>\n",
       "      <td>1982</td>\n",
       "      <td>1</td>\n",
       "    </tr>\n",
       "    <tr>\n",
       "      <th>44147</th>\n",
       "      <td>12011</td>\n",
       "      <td>F</td>\n",
       "      <td>Engenheiro, arquiteto e afins</td>\n",
       "      <td>Solteiro</td>\n",
       "      <td>2055.36</td>\n",
       "      <td>0.0</td>\n",
       "      <td>A</td>\n",
       "      <td>P</td>\n",
       "      <td>NaN</td>\n",
       "      <td>MG</td>\n",
       "      <td>...</td>\n",
       "      <td>100</td>\n",
       "      <td>5949.95</td>\n",
       "      <td>0.00</td>\n",
       "      <td>60750.0</td>\n",
       "      <td>56700.00</td>\n",
       "      <td>734324</td>\n",
       "      <td>Amortizacao</td>\n",
       "      <td>67218.25</td>\n",
       "      <td>1990</td>\n",
       "      <td>0</td>\n",
       "    </tr>\n",
       "    <tr>\n",
       "      <th>136538</th>\n",
       "      <td>12011</td>\n",
       "      <td>F</td>\n",
       "      <td>Estudante</td>\n",
       "      <td>Solteiro</td>\n",
       "      <td>3900.00</td>\n",
       "      <td>0.0</td>\n",
       "      <td>B</td>\n",
       "      <td>S</td>\n",
       "      <td>NaN</td>\n",
       "      <td>RJ</td>\n",
       "      <td>...</td>\n",
       "      <td>75</td>\n",
       "      <td>3951.64</td>\n",
       "      <td>1317.21</td>\n",
       "      <td>52688.5</td>\n",
       "      <td>32896.98</td>\n",
       "      <td>734206</td>\n",
       "      <td>Amortizacao</td>\n",
       "      <td>47776.76</td>\n",
       "      <td>1988</td>\n",
       "      <td>1</td>\n",
       "    </tr>\n",
       "    <tr>\n",
       "      <th>8683</th>\n",
       "      <td>12010</td>\n",
       "      <td>F</td>\n",
       "      <td>Estudante</td>\n",
       "      <td>Solteiro</td>\n",
       "      <td>2500.00</td>\n",
       "      <td>0.0</td>\n",
       "      <td>B</td>\n",
       "      <td>N</td>\n",
       "      <td>NaN</td>\n",
       "      <td>SP</td>\n",
       "      <td>...</td>\n",
       "      <td>50</td>\n",
       "      <td>18767.78</td>\n",
       "      <td>18767.77</td>\n",
       "      <td>450426.6</td>\n",
       "      <td>190608.75</td>\n",
       "      <td>733916</td>\n",
       "      <td>Amortizacao</td>\n",
       "      <td>198765.79</td>\n",
       "      <td>1987</td>\n",
       "      <td>1</td>\n",
       "    </tr>\n",
       "  </tbody>\n",
       "</table>\n",
       "<p>5 rows × 33 columns</p>\n",
       "</div>"
      ],
      "text/plain": [
       "       semester_enroll gender  \\\n",
       "308469           12011      M   \n",
       "254040           12010      F   \n",
       "44147            12011      F   \n",
       "136538           12011      F   \n",
       "8683             12010      F   \n",
       "\n",
       "                                               occupation marital_status  \\\n",
       "308469  Outras ocupaÃ§Ãµes nÃ£o especificadas anterior...       Solteiro   \n",
       "254040                                          Estudante         Casado   \n",
       "44147                       Engenheiro, arquiteto e afins       Solteiro   \n",
       "136538                                          Estudante       Solteiro   \n",
       "8683                                            Estudante       Solteiro   \n",
       "\n",
       "        family_income  personal_income ethnicity public_hs  \\\n",
       "308469        1580.00            680.0         P         S   \n",
       "254040       10000.00              0.0         B         N   \n",
       "44147         2055.36              0.0         A         P   \n",
       "136538        3900.00              0.0         B         S   \n",
       "8683          2500.00              0.0         B         N   \n",
       "\n",
       "        high_school_endyear state_course  ... perc_requested  loan_value_sem  \\\n",
       "308469                  NaN           PA  ...            100         4246.68   \n",
       "254040                  NaN           SP  ...             50        17020.23   \n",
       "44147                   NaN           MG  ...            100         5949.95   \n",
       "136538                  NaN           RJ  ...             75         3951.64   \n",
       "8683                    NaN           SP  ...             50        18767.78   \n",
       "\n",
       "        student_resource  loan_value  loan_limit  date_contract  \\\n",
       "308469           4246.67     84933.5    35135.56         734277   \n",
       "254040          17020.23    340404.6   158602.13         733934   \n",
       "44147               0.00     60750.0    56700.00         734324   \n",
       "136538           1317.21     52688.5    32896.98         734206   \n",
       "8683            18767.77    450426.6   190608.75         733916   \n",
       "\n",
       "        contract_phase  total_debt  birth_year  student  \n",
       "308469     Amortizacao    38451.95        1986        0  \n",
       "254040     Amortizacao   150708.88        1982        1  \n",
       "44147      Amortizacao    67218.25        1990        0  \n",
       "136538     Amortizacao    47776.76        1988        1  \n",
       "8683       Amortizacao   198765.79        1987        1  \n",
       "\n",
       "[5 rows x 33 columns]"
      ]
     },
     "execution_count": 37,
     "metadata": {},
     "output_type": "execute_result"
    }
   ],
   "source": [
    "sample_incomplete_rows = fies[fies.isnull().any(axis=1)].head()\n",
    "sample_incomplete_rows"
   ]
  },
  {
   "cell_type": "markdown",
   "metadata": {
    "id": "VIJ6MzxrogIO"
   },
   "source": [
    "### Pipeline\n",
    "\n",
    "Functions that will be used to tranform our dataset"
   ]
  },
  {
   "cell_type": "code",
   "execution_count": 50,
   "metadata": {
    "id": "lhp6LXTYogIP"
   },
   "outputs": [],
   "source": [
    "#Imputes the medians to NA's for numeric values \n",
    "#from sklearn.impute import SimpleImputer\n",
    "\n",
    "#num_imputer = SimpleImputer(strategy=\"median\")\n",
    "#ord_imputer = SimpleImputer(strategy=\"most_frequent\")"
   ]
  },
  {
   "cell_type": "code",
   "execution_count": 38,
   "metadata": {
    "id": "NjKb_CdHogIR"
   },
   "outputs": [],
   "source": [
    "from sklearn.pipeline import Pipeline\n",
    "from sklearn.preprocessing import StandardScaler\n",
    "from sklearn.impute import SimpleImputer\n",
    "\n",
    "\n",
    "num_pipeline = Pipeline([\n",
    "        (\"num_imputer\", SimpleImputer(strategy=\"median\")),\n",
    "        (\"std_scaler\", StandardScaler()),\n",
    "    ])\n",
    "\n",
    "#complete_num_tr = num_pipeline.fit_transform(complete_set_num)\n"
   ]
  },
  {
   "cell_type": "code",
   "execution_count": 39,
   "metadata": {
    "id": "IGJn2aCfAuXj"
   },
   "outputs": [],
   "source": [
    "from sklearn.pipeline import Pipeline\n",
    "from sklearn.preprocessing import OrdinalEncoder\n",
    "\n",
    "ord_pipeline = Pipeline([\n",
    "        (\"ord_imputer\", SimpleImputer(strategy=\"most_frequent\")),\n",
    "        (\"ord_encoder\", OrdinalEncoder()),\n",
    "    ])\n",
    "\n",
    "#complete_num_tr = num_pipeline.fit_transform(complete_set_num)"
   ]
  },
  {
   "cell_type": "code",
   "execution_count": 42,
   "metadata": {
    "id": "3gaCsGRFogIR"
   },
   "outputs": [],
   "source": [
    "ord_attribs = ['igc','cpc','cc','date_contract']\n",
    "\n",
    "num_attribs = ['family_income',\n",
    "               'personal_income',\n",
    "               'high_school_endyear',\n",
    "               'n_sem_course',\n",
    "               'n_completed_sem',\n",
    "               'sem_funded',\n",
    "               'past_sem_funded',\n",
    "               'fam_size',\n",
    "               'income_pc',\n",
    "               'tuition_discounted',\n",
    "               'tuition_current',\n",
    "               'inc_prop',\n",
    "               'perc_requested',\n",
    "               'loan_value_sem',\n",
    "               'student_resource',\n",
    "               'loan_value',\n",
    "               'loan_limit',\n",
    "               'total_debt']    \n",
    "\n",
    "cat_attribs = ['semester_enroll',\n",
    "               'gender',\n",
    "               'occupation', \n",
    "               'marital_status',\n",
    "               'ethnicity', 'public_hs', 'state_course', 'degree', 'contract_phase',\n",
    "               'birth_year'\n",
    "              ]"
   ]
  },
  {
   "cell_type": "code",
   "execution_count": 43,
   "metadata": {
    "id": "jgFC9XOHAuXk"
   },
   "outputs": [],
   "source": [
    "#Full pipeline\n",
    "from sklearn.compose import ColumnTransformer\n",
    "from sklearn.preprocessing import OneHotEncoder\n",
    "\n",
    "\n",
    "\n",
    "\n",
    "#num_attribs = list(complete_set_num)\n",
    "#cat_attribs = list(complete_set_cat)\n",
    "\n",
    "full_pipeline = ColumnTransformer([\n",
    "       (\"num\", num_pipeline, num_attribs),\n",
    "        (\"cat\", OneHotEncoder(), cat_attribs),\n",
    "        (\"ord\", ord_pipeline,ord_attribs)\n",
    "])"
   ]
  },
  {
   "cell_type": "code",
   "execution_count": 44,
   "metadata": {
    "id": "BGEokMJdAuXl"
   },
   "outputs": [],
   "source": [
    "fies_prepared = full_pipeline.fit_transform(fies)"
   ]
  },
  {
   "cell_type": "code",
   "execution_count": 45,
   "metadata": {
    "colab": {
     "base_uri": "https://localhost:8080/"
=======
    },
    {
      "cell_type": "markdown",
      "metadata": {
        "id": "SjnAzKW4ogIJ"
      },
      "source": [
        "### 2 - Renaming variables"
      ]
    },
    {
      "cell_type": "code",
      "metadata": {
        "id": "Ky27V0YJogIK",
        "jupyter": {
          "source_hidden": true
        }
      },
      "source": [
        "#Let\"s use 365 days as the initial limit for default categories\n",
        "#To be added in the pipeline\n",
        "complete_set=complete_set.assign(default=1*(complete_set[\"nu_dias_atraso\"]>365))"
      ],
      "execution_count": null,
      "outputs": []
    },
    {
>>>>>>> Stashed changes
      "cell_type": "code",
      "metadata": {
        "colab": {
          "base_uri": "https://localhost:8080/"
        },
<<<<<<< Updated upstream
        "id": "HgSq5ISLvfBt",
        "outputId": "39e6736a-cc14-4122-a863-904272caf135"
      },
      "source": [
        "import numpy as np\n",
        "# Calculate values for wrong entries (larger than 300,000 reais)\n",
        "complete_set['loan_value_sem'] = np.where((complete_set.loan_value_sem > 300000), (complete_set[\"perc_requested\"]/100 * complete_set[\"tuition_current\"]), complete_set.loan_value_sem)\n",
        "complete_set['tuition_discounted'].describe() "
=======
        "id": "gz8vy6TVogIK",
        "outputId": "60aeef9b-4ee3-4cfb-b01c-83033d3f371d"
      },
      "source": [
        "new_names ={\"NU_ANO_SEMESTRE_INSCRICAO\":\"semester_enroll\",\n",
        "            \"SG_SEXO\":\"gender\",\n",
        "            \"DS_OCUPACAO\":\"occupation\",\n",
        "            \"DS_RACA_COR\" : \"ethnicity\",\n",
        "            \"NU_ANO_CONCLUSAO_ENSINO_MEDIO\":\"high_school_endyear\",\n",
        "            \"SG_UF_CURSO\": \"state_course\",\n",
        "            \"QT_SEMESTRES_CURSO\": \"n_sem_course\",\n",
        "            \"VL_SEMESTRE_COM_DESCONTO\": \"tuition_discounted\",\n",
        "            \"NU_PERCENT_SOLICITADO_FINANC\":\"perc_requested\",\n",
        "            \"VL_FINANC_RECURSO_ALUNO\":\"student_resource\",\n",
        "            \"nu_dias_atraso\":\"days_delay\",\n",
        "            \"ANO_NASC\":\"birth_year\",\n",
        "            \"DS_ESTADO_CIVIL\":\"marital_status\", \n",
        "            \"VL_RENDA_PESSOAL_BRUTA_MENSAL\": \"personal_income\",\n",
        "            \"VL_RENDA_FAMILIAR_BRUTA_MENSAL\": \"family_income\",\n",
        "            \"ST_ENSINO_MEDIO_ESCOLA_PUBLICA\": \"public_hs\",\n",
        "            \"NO_CURSO\": \"degree\",\n",
        "            \"QT_SEMESTRE_CONCLUIDO\": \"n_completed_sem\",\n",
        "            \"VL_SEMESTRE_ATUAL\": \"tuition_current\",\n",
        "            \"VL_FINANCIADO_SEMESTRE\": \"loan_value_sem\",\n",
        "            \"fase_contrato\": \"contract_phase\",\n",
        "            \"vl_divida\": \"total_debt\",            \n",
        "            \"VL_AVALIACAO_IGC\": \"igc\",\n",
        "            \"VL_FAIXA_CPC\": \"cpc\",\n",
        "            \"VL_FAIXA_CC\": \"cc\",\n",
        "            \"QT_SEMESTRE_FINANCIAMENTO\": \"sem_funded\",\n",
        "            \"QT_MEMBRO\": \"fam_size\",\n",
        "            \"VL_RENDA_PER_CAPITA\":\"income_pc\",\n",
        "            \"NU_PERCENTUAL_COMPROMETIMENTO\":\"inc_prop\",\n",
        "            \"VL_TOTAL_FINANCIAMENTO\":\"loan_value\",\n",
        "            \"VL_LIMITE_GLOBAL\":\"loan_limit\",\n",
        "            \"dt_inicio_cont\":\"date_contract\"\n",
        "}\n",
        "\n",
        "complete_set = complete_set.rename(index=str, columns=new_names)\n",
        "complete_set.dtypes"
>>>>>>> Stashed changes
      ],
      "execution_count": null,
      "outputs": [
        {
          "output_type": "execute_result",
          "data": {
            "text/plain": [
<<<<<<< Updated upstream
              "count    637822.000000\n",
              "mean       5746.100631\n",
              "std        4177.270342\n",
              "min         600.000000\n",
              "25%        3803.160000\n",
              "50%        5020.720000\n",
              "75%        6342.180000\n",
              "max       41499.900000\n",
              "Name: tuition_discounted, dtype: float64"
=======
              "semester_enroll                            int64\n",
              "gender                                    object\n",
              "occupation                                object\n",
              "marital_status                            object\n",
              "family_income                            float64\n",
              "personal_income                          float64\n",
              "NO_MUNICIPIO                              object\n",
              "SG_UF                                     object\n",
              "ethnicity                                 object\n",
              "public_hs                                 object\n",
              "high_school_endyear                      float64\n",
              "NU_SEMESTRE_REFERENCIA                     int64\n",
              "state_course                              object\n",
              "degree                                    object\n",
              "igc                                      float64\n",
              "cpc                                      float64\n",
              "cc                                       float64\n",
              "n_sem_course                               int64\n",
              "n_completed_sem                            int64\n",
              "sem_funded                                 int64\n",
              "QT_MESES_FINANC_SEMESTRE_ATUAL             int64\n",
              "fam_size                                 float64\n",
              "income_pc                                float64\n",
              "VL_SEMESTRE_SEM_DESCONTO                 float64\n",
              "tuition_discounted                       float64\n",
              "tuition_current                          float64\n",
              "inc_prop                                 float64\n",
              "perc_requested                             int64\n",
              "loan_value_sem                           float64\n",
              "student_resource                         float64\n",
              "loan_value                               float64\n",
              "loan_limit                               float64\n",
              "date_contract                     datetime64[ns]\n",
              "contract_phase                            object\n",
              "days_delay                                 int64\n",
              "total_debt                               float64\n",
              "birth_year                                object\n",
              "default                                    int64\n",
              "dtype: object"
>>>>>>> Stashed changes
            ]
          },
          "metadata": {
            "tags": []
          },
<<<<<<< Updated upstream
          "execution_count": 31
        }
      ]
    },
=======
          "execution_count": 30
        }
      ]
>>>>>>> 24615d14f3200a7f770bb5cbd95070abd66b4ecf
    },
    {
<<<<<<< HEAD
     "data": {
      "text/plain": [
       "<1x520 sparse matrix of type '<class 'numpy.float64'>'\n",
       "\twith 31 stored elements in Compressed Sparse Row format>"
      ]
     },
     "execution_count": 45,
     "metadata": {},
     "output_type": "execute_result"
    }
   ],
   "source": [
    "fies_prepared[:1]"
   ]
  },
  {
   "cell_type": "markdown",
   "metadata": {},
   "source": [
    "### Binary Classifier"
   ]
  },
  {
   "cell_type": "code",
   "execution_count": 46,
   "metadata": {},
   "outputs": [
=======
      "cell_type": "code",
      "metadata": {
        "colab": {
          "base_uri": "https://localhost:8080/"
        },
        "id": "HgSq5ISLvfBt",
        "outputId": "39e6736a-cc14-4122-a863-904272caf135"
      },
      "source": [
        "import numpy as np\n",
        "# Calculate values for wrong entries (larger than 300,000 reais)\n",
        "complete_set['loan_value_sem'] = np.where((complete_set.loan_value_sem > 300000), (complete_set[\"perc_requested\"]/100 * complete_set[\"tuition_current\"]), complete_set.loan_value_sem)\n",
        "complete_set['tuition_discounted'].describe() "
      ],
      "execution_count": null,
      "outputs": [
        {
          "output_type": "execute_result",
          "data": {
            "text/plain": [
              "count    637822.000000\n",
              "mean       5746.100631\n",
              "std        4177.270342\n",
              "min         600.000000\n",
              "25%        3803.160000\n",
              "50%        5020.720000\n",
              "75%        6342.180000\n",
              "max       41499.900000\n",
              "Name: tuition_discounted, dtype: float64"
            ]
          },
          "metadata": {
            "tags": []
          },
          "execution_count": 31
        }
      ]
    },
>>>>>>> 24615d14f3200a7f770bb5cbd95070abd66b4ecf
>>>>>>> Stashed changes
    {
      "cell_type": "markdown",
      "metadata": {
        "id": "rfn09CydogIL"
      },
      "source": [
        "### 3 - Cleaning Dataset"
      ]
<<<<<<< Updated upstream
    },
    {
      "cell_type": "code",
      "metadata": {
        "id": "itTdp928ogIL"
      },
      "source": [
        "import datetime as dt\n",
        "\n",
        "variables_to_drop = [\"NO_MUNICIPIO\",\n",
        "                     \"SG_UF\",\n",
        "                     \"VL_SEMESTRE_SEM_DESCONTO\",\n",
        "                     \"NU_SEMESTRE_REFERENCIA\"]\n",
        "\n",
        "complete_set_clean = complete_set.drop(variables_to_drop, axis = 1)\n",
        "\n",
        "complete_set_clean[\"date_contract\"]= complete_set_clean[\"date_contract\"].map(dt.datetime.toordinal)"
      ],
      "execution_count": null,
      "outputs": []
    },
    {
      "cell_type": "markdown",
      "metadata": {
        "id": "V66zCTtnAuXZ"
      },
      "source": [
        "\n",
        "# Bruno's variables which need special treatment"
      ]
=======
<<<<<<< HEAD
     },
     "execution_count": 46,
     "metadata": {},
     "output_type": "execute_result"
    }
   ],
   "source": [
    "from sklearn.linear_model import SGDClassifier\n",
    "\n",
    "sgd_clf = SGDClassifier(max_iter=1000, tol=1e-3, random_state=42)\n",
    "sgd_clf.fit(fies_prepared, fies_labels)"
   ]
  },
  {
   "cell_type": "code",
   "execution_count": 47,
   "metadata": {},
   "outputs": [
    {
     "data": {
      "text/plain": [
       "array([0.67526775, 0.66540891, 0.51830403])"
      ]
     },
     "execution_count": 47,
     "metadata": {},
     "output_type": "execute_result"
    }
   ],
   "source": [
    "from sklearn.model_selection import cross_val_score\n",
    "cross_val_score(sgd_clf, fies_prepared, fies_labels, cv=3, scoring=\"accuracy\")"
   ]
  },
  {
   "cell_type": "code",
   "execution_count": null,
   "metadata": {},
   "outputs": [],
   "source": []
  },
  {
   "cell_type": "code",
   "execution_count": 58,
   "metadata": {
    "id": "fQoSfCgPogIT"
   },
   "outputs": [],
   "source": [
    "### 6 - Visualisation"
   ]
  },
  {
   "cell_type": "code",
   "execution_count": null,
   "metadata": {
    "colab": {
     "base_uri": "https://localhost:8080/",
     "height": 878
=======
>>>>>>> Stashed changes
    },
    {
      "cell_type": "code",
      "metadata": {
<<<<<<< Updated upstream
        "id": "mXlAR2V7AuXa",
        "outputId": "0d62aa6a-9524-45c5-e1b8-6f0d2e802303"
      },
      "source": [
        "complete_set.nlargest(20, ['family_income'])\n",
        "# na tabela abaixo, eu relaciono as 20 maiores rendas familiares do banco de dados\n",
        "# os 6 primeiros valores são outliers e os 3 primeiros parecem ser erros\n",
        "# se isso for renda familiar mensal, eu sugiro excluir valores maiores que 100,000.00, o que acham?\n",
        "\n",
        "# Diego: além desse problema em family income, temos que imputar NAs para high_school_endyear e birth_year"
      ],
      "execution_count": null,
      "outputs": [
        {
          "output_type": "execute_result",
          "data": {
            "text/html": [
              "<div>\n",
              "<style scoped>\n",
              "    .dataframe tbody tr th:only-of-type {\n",
              "        vertical-align: middle;\n",
              "    }\n",
              "\n",
              "    .dataframe tbody tr th {\n",
              "        vertical-align: top;\n",
              "    }\n",
              "\n",
              "    .dataframe thead th {\n",
              "        text-align: right;\n",
              "    }\n",
              "</style>\n",
              "<table border=\"1\" class=\"dataframe\">\n",
              "  <thead>\n",
              "    <tr style=\"text-align: right;\">\n",
              "      <th></th>\n",
              "      <th>semester_enroll</th>\n",
              "      <th>gender</th>\n",
              "      <th>occupation</th>\n",
              "      <th>marital_status</th>\n",
              "      <th>family_income</th>\n",
              "      <th>personal_income</th>\n",
              "      <th>NO_MUNICIPIO</th>\n",
              "      <th>SG_UF</th>\n",
              "      <th>ethnicity</th>\n",
              "      <th>public_hs</th>\n",
              "      <th>...</th>\n",
              "      <th>loan_value_sem</th>\n",
              "      <th>student_resource</th>\n",
              "      <th>loan_value</th>\n",
              "      <th>loan_limit</th>\n",
              "      <th>date_contract</th>\n",
              "      <th>contract_phase</th>\n",
              "      <th>days_delay</th>\n",
              "      <th>total_debt</th>\n",
              "      <th>birth_year</th>\n",
              "      <th>default</th>\n",
              "    </tr>\n",
              "  </thead>\n",
              "  <tbody>\n",
              "    <tr>\n",
              "      <th>237529</th>\n",
              "      <td>12009</td>\n",
              "      <td>F</td>\n",
              "      <td>Estudante</td>\n",
              "      <td>Solteiro</td>\n",
              "      <td>1600000.00</td>\n",
              "      <td>200000.0</td>\n",
              "      <td>Manaus</td>\n",
              "      <td>AM</td>\n",
              "      <td>Branco</td>\n",
              "      <td>N</td>\n",
              "      <td>...</td>\n",
              "      <td>18616.74</td>\n",
              "      <td>18616.74</td>\n",
              "      <td>507000.00</td>\n",
              "      <td>192093.62</td>\n",
              "      <td>2009-01-23</td>\n",
              "      <td>Amortizacao</td>\n",
              "      <td>725</td>\n",
              "      <td>231903.22</td>\n",
              "      <td>2021-01-11 00:00:00</td>\n",
              "      <td>1</td>\n",
              "    </tr>\n",
              "    <tr>\n",
              "      <th>312222</th>\n",
              "      <td>12009</td>\n",
              "      <td>M</td>\n",
              "      <td>Estudante</td>\n",
              "      <td>Solteiro</td>\n",
              "      <td>600000.00</td>\n",
              "      <td>0.0</td>\n",
              "      <td>Manaus</td>\n",
              "      <td>AM</td>\n",
              "      <td>Branco</td>\n",
              "      <td>N</td>\n",
              "      <td>...</td>\n",
              "      <td>14412.96</td>\n",
              "      <td>4804.32</td>\n",
              "      <td>230607.36</td>\n",
              "      <td>190641.85</td>\n",
              "      <td>2009-01-16</td>\n",
              "      <td>Amortizacao</td>\n",
              "      <td>858</td>\n",
              "      <td>235986.65</td>\n",
              "      <td>2021-01-04 00:00:00</td>\n",
              "      <td>1</td>\n",
              "    </tr>\n",
              "    <tr>\n",
              "      <th>268618</th>\n",
              "      <td>12009</td>\n",
              "      <td>M</td>\n",
              "      <td>Estudante</td>\n",
              "      <td>Solteiro</td>\n",
              "      <td>399436.00</td>\n",
              "      <td>0.0</td>\n",
              "      <td>Adamantina</td>\n",
              "      <td>SP</td>\n",
              "      <td>Branco</td>\n",
              "      <td>N</td>\n",
              "      <td>...</td>\n",
              "      <td>24291.00</td>\n",
              "      <td>8097.00</td>\n",
              "      <td>388656.00</td>\n",
              "      <td>266085.00</td>\n",
              "      <td>2009-01-12</td>\n",
              "      <td>Amortizacao</td>\n",
              "      <td>205</td>\n",
              "      <td>327364.89</td>\n",
              "      <td>02/0</td>\n",
              "      <td>0</td>\n",
              "    </tr>\n",
              "    <tr>\n",
              "      <th>176034</th>\n",
              "      <td>12009</td>\n",
              "      <td>F</td>\n",
              "      <td>Estudante</td>\n",
              "      <td>Solteiro</td>\n",
              "      <td>118400.00</td>\n",
              "      <td>118400.0</td>\n",
              "      <td>Santa Maria</td>\n",
              "      <td>RS</td>\n",
              "      <td>Pardo</td>\n",
              "      <td>N</td>\n",
              "      <td>...</td>\n",
              "      <td>2906.50</td>\n",
              "      <td>2906.50</td>\n",
              "      <td>71343.80</td>\n",
              "      <td>26345.01</td>\n",
              "      <td>2009-06-24</td>\n",
              "      <td>Amortizacao</td>\n",
              "      <td>0</td>\n",
              "      <td>18294.92</td>\n",
              "      <td>2021-01-30 00:00:00</td>\n",
              "      <td>0</td>\n",
              "    </tr>\n",
              "    <tr>\n",
              "      <th>177330</th>\n",
              "      <td>12009</td>\n",
              "      <td>M</td>\n",
              "      <td>Estudante</td>\n",
              "      <td>Separado</td>\n",
              "      <td>70500.00</td>\n",
              "      <td>42000.0</td>\n",
              "      <td>Contagem</td>\n",
              "      <td>MG</td>\n",
              "      <td>Pardo</td>\n",
              "      <td>N</td>\n",
              "      <td>...</td>\n",
              "      <td>359.40</td>\n",
              "      <td>359.40</td>\n",
              "      <td>11500.80</td>\n",
              "      <td>27337.20</td>\n",
              "      <td>2009-06-19</td>\n",
              "      <td>Amortizacao</td>\n",
              "      <td>1508</td>\n",
              "      <td>12087.92</td>\n",
              "      <td>15/0</td>\n",
              "      <td>1</td>\n",
              "    </tr>\n",
              "    <tr>\n",
              "      <th>324201</th>\n",
              "      <td>12009</td>\n",
              "      <td>F</td>\n",
              "      <td>Estudante</td>\n",
              "      <td>Solteiro</td>\n",
              "      <td>61000.00</td>\n",
              "      <td>46000.0</td>\n",
              "      <td>Parobé</td>\n",
              "      <td>RS</td>\n",
              "      <td>Branco</td>\n",
              "      <td>N</td>\n",
              "      <td>...</td>\n",
              "      <td>1741.39</td>\n",
              "      <td>1741.39</td>\n",
              "      <td>41793.36</td>\n",
              "      <td>24834.00</td>\n",
              "      <td>2009-01-07</td>\n",
              "      <td>Amortizacao</td>\n",
              "      <td>103</td>\n",
              "      <td>26786.97</td>\n",
              "      <td>21/0</td>\n",
              "      <td>0</td>\n",
              "    </tr>\n",
              "    <tr>\n",
              "      <th>269241</th>\n",
              "      <td>12010</td>\n",
              "      <td>F</td>\n",
              "      <td>Estudante</td>\n",
              "      <td>Solteiro</td>\n",
              "      <td>47024.31</td>\n",
              "      <td>0.0</td>\n",
              "      <td>NaN</td>\n",
              "      <td>NaN</td>\n",
              "      <td>B</td>\n",
              "      <td>N</td>\n",
              "      <td>...</td>\n",
              "      <td>22671.60</td>\n",
              "      <td>9716.40</td>\n",
              "      <td>388656.00</td>\n",
              "      <td>242865.00</td>\n",
              "      <td>2010-06-07</td>\n",
              "      <td>Amortizacao</td>\n",
              "      <td>0</td>\n",
              "      <td>235834.44</td>\n",
              "      <td>1985</td>\n",
              "      <td>0</td>\n",
              "    </tr>\n",
              "    <tr>\n",
              "      <th>277207</th>\n",
              "      <td>12012</td>\n",
              "      <td>M</td>\n",
              "      <td>Estudante</td>\n",
              "      <td>Solteiro</td>\n",
              "      <td>44621.94</td>\n",
              "      <td>0.0</td>\n",
              "      <td>NaN</td>\n",
              "      <td>NaN</td>\n",
              "      <td>P</td>\n",
              "      <td>N</td>\n",
              "      <td>...</td>\n",
              "      <td>19500.00</td>\n",
              "      <td>19500.00</td>\n",
              "      <td>312000.00</td>\n",
              "      <td>150000.00</td>\n",
              "      <td>2012-03-23</td>\n",
              "      <td>Amortizacao</td>\n",
              "      <td>21</td>\n",
              "      <td>112918.95</td>\n",
              "      <td>1986</td>\n",
              "      <td>0</td>\n",
              "    </tr>\n",
              "    <tr>\n",
              "      <th>90651</th>\n",
              "      <td>22011</td>\n",
              "      <td>F</td>\n",
              "      <td>Estudante</td>\n",
              "      <td>Solteiro</td>\n",
              "      <td>43722.41</td>\n",
              "      <td>0.0</td>\n",
              "      <td>NaN</td>\n",
              "      <td>NaN</td>\n",
              "      <td>B</td>\n",
              "      <td>N</td>\n",
              "      <td>...</td>\n",
              "      <td>37535.55</td>\n",
              "      <td>0.00</td>\n",
              "      <td>412891.05</td>\n",
              "      <td>372161.63</td>\n",
              "      <td>2011-08-19</td>\n",
              "      <td>Amortizacao</td>\n",
              "      <td>0</td>\n",
              "      <td>396477.54</td>\n",
              "      <td>1991</td>\n",
              "      <td>0</td>\n",
              "    </tr>\n",
              "    <tr>\n",
              "      <th>233453</th>\n",
              "      <td>12011</td>\n",
              "      <td>M</td>\n",
              "      <td>Estudante</td>\n",
              "      <td>Solteiro</td>\n",
              "      <td>43489.75</td>\n",
              "      <td>0.0</td>\n",
              "      <td>NaN</td>\n",
              "      <td>NaN</td>\n",
              "      <td>B</td>\n",
              "      <td>N</td>\n",
              "      <td>...</td>\n",
              "      <td>16430.82</td>\n",
              "      <td>16430.82</td>\n",
              "      <td>394339.68</td>\n",
              "      <td>184905.00</td>\n",
              "      <td>2011-03-04</td>\n",
              "      <td>Amortizacao</td>\n",
              "      <td>0</td>\n",
              "      <td>196005.41</td>\n",
              "      <td>1991</td>\n",
              "      <td>0</td>\n",
              "    </tr>\n",
              "    <tr>\n",
              "      <th>968</th>\n",
              "      <td>22011</td>\n",
              "      <td>F</td>\n",
              "      <td>Estudante</td>\n",
              "      <td>Solteiro</td>\n",
              "      <td>39783.40</td>\n",
              "      <td>0.0</td>\n",
              "      <td>NaN</td>\n",
              "      <td>NaN</td>\n",
              "      <td>B</td>\n",
              "      <td>S</td>\n",
              "      <td>...</td>\n",
              "      <td>22504.27</td>\n",
              "      <td>7501.42</td>\n",
              "      <td>360068.28</td>\n",
              "      <td>257946.53</td>\n",
              "      <td>2011-08-18</td>\n",
              "      <td>Amortizacao</td>\n",
              "      <td>11</td>\n",
              "      <td>290190.18</td>\n",
              "      <td>1991</td>\n",
              "      <td>0</td>\n",
              "    </tr>\n",
              "    <tr>\n",
              "      <th>323917</th>\n",
              "      <td>12011</td>\n",
              "      <td>F</td>\n",
              "      <td>Professor do ensino superior</td>\n",
              "      <td>Solteiro</td>\n",
              "      <td>38718.61</td>\n",
              "      <td>17439.4</td>\n",
              "      <td>NaN</td>\n",
              "      <td>NaN</td>\n",
              "      <td>A</td>\n",
              "      <td>N</td>\n",
              "      <td>...</td>\n",
              "      <td>18381.00</td>\n",
              "      <td>18381.00</td>\n",
              "      <td>441144.00</td>\n",
              "      <td>169290.00</td>\n",
              "      <td>2011-06-22</td>\n",
              "      <td>Amortizacao</td>\n",
              "      <td>0</td>\n",
              "      <td>190678.97</td>\n",
              "      <td>1953</td>\n",
              "      <td>0</td>\n",
              "    </tr>\n",
              "    <tr>\n",
              "      <th>171884</th>\n",
              "      <td>12011</td>\n",
              "      <td>F</td>\n",
              "      <td>Estudante</td>\n",
              "      <td>Solteiro</td>\n",
              "      <td>38508.84</td>\n",
              "      <td>0.0</td>\n",
              "      <td>NaN</td>\n",
              "      <td>NaN</td>\n",
              "      <td>B</td>\n",
              "      <td>N</td>\n",
              "      <td>...</td>\n",
              "      <td>14996.91</td>\n",
              "      <td>14996.91</td>\n",
              "      <td>359925.84</td>\n",
              "      <td>154777.50</td>\n",
              "      <td>2011-06-28</td>\n",
              "      <td>Amortizacao</td>\n",
              "      <td>0</td>\n",
              "      <td>164313.88</td>\n",
              "      <td>1992</td>\n",
              "      <td>0</td>\n",
              "    </tr>\n",
              "    <tr>\n",
              "      <th>308539</th>\n",
              "      <td>12011</td>\n",
              "      <td>M</td>\n",
              "      <td>Estudante</td>\n",
              "      <td>Solteiro</td>\n",
              "      <td>38437.31</td>\n",
              "      <td>0.0</td>\n",
              "      <td>NaN</td>\n",
              "      <td>NaN</td>\n",
              "      <td>P</td>\n",
              "      <td>N</td>\n",
              "      <td>...</td>\n",
              "      <td>23073.30</td>\n",
              "      <td>7691.10</td>\n",
              "      <td>369172.80</td>\n",
              "      <td>247691.93</td>\n",
              "      <td>2011-04-25</td>\n",
              "      <td>Amortizacao</td>\n",
              "      <td>0</td>\n",
              "      <td>259514.71</td>\n",
              "      <td>1988</td>\n",
              "      <td>0</td>\n",
              "    </tr>\n",
              "    <tr>\n",
              "      <th>153780</th>\n",
              "      <td>22010</td>\n",
              "      <td>F</td>\n",
              "      <td>Estudante</td>\n",
              "      <td>Solteiro</td>\n",
              "      <td>38105.18</td>\n",
              "      <td>0.0</td>\n",
              "      <td>NaN</td>\n",
              "      <td>NaN</td>\n",
              "      <td>B</td>\n",
              "      <td>N</td>\n",
              "      <td>...</td>\n",
              "      <td>13972.66</td>\n",
              "      <td>13972.66</td>\n",
              "      <td>307398.52</td>\n",
              "      <td>126592.54</td>\n",
              "      <td>2010-09-13</td>\n",
              "      <td>Amortizacao</td>\n",
              "      <td>0</td>\n",
              "      <td>127888.05</td>\n",
              "      <td>1991</td>\n",
              "      <td>0</td>\n",
              "    </tr>\n",
              "    <tr>\n",
              "      <th>81957</th>\n",
              "      <td>22011</td>\n",
              "      <td>M</td>\n",
              "      <td>Estudante</td>\n",
              "      <td>Solteiro</td>\n",
              "      <td>37833.40</td>\n",
              "      <td>0.0</td>\n",
              "      <td>NaN</td>\n",
              "      <td>NaN</td>\n",
              "      <td>B</td>\n",
              "      <td>N</td>\n",
              "      <td>...</td>\n",
              "      <td>8389.54</td>\n",
              "      <td>8389.54</td>\n",
              "      <td>390000.00</td>\n",
              "      <td>97249.88</td>\n",
              "      <td>2011-11-23</td>\n",
              "      <td>Amortizacao</td>\n",
              "      <td>0</td>\n",
              "      <td>105095.51</td>\n",
              "      <td>1991</td>\n",
              "      <td>0</td>\n",
              "    </tr>\n",
              "    <tr>\n",
              "      <th>46885</th>\n",
              "      <td>12012</td>\n",
              "      <td>M</td>\n",
              "      <td>Estudante</td>\n",
              "      <td>Solteiro</td>\n",
              "      <td>37600.00</td>\n",
              "      <td>0.0</td>\n",
              "      <td>NaN</td>\n",
              "      <td>NaN</td>\n",
              "      <td>B</td>\n",
              "      <td>N</td>\n",
              "      <td>...</td>\n",
              "      <td>37535.55</td>\n",
              "      <td>0.00</td>\n",
              "      <td>375355.50</td>\n",
              "      <td>360320.25</td>\n",
              "      <td>2012-02-03</td>\n",
              "      <td>Amortizacao</td>\n",
              "      <td>0</td>\n",
              "      <td>360534.35</td>\n",
              "      <td>1992</td>\n",
              "      <td>0</td>\n",
              "    </tr>\n",
              "    <tr>\n",
              "      <th>81261</th>\n",
              "      <td>12012</td>\n",
              "      <td>M</td>\n",
              "      <td>Estudante</td>\n",
              "      <td>Casado</td>\n",
              "      <td>37251.20</td>\n",
              "      <td>0.0</td>\n",
              "      <td>NaN</td>\n",
              "      <td>NaN</td>\n",
              "      <td>B</td>\n",
              "      <td>N</td>\n",
              "      <td>...</td>\n",
              "      <td>20902.50</td>\n",
              "      <td>6967.50</td>\n",
              "      <td>334440.00</td>\n",
              "      <td>280327.50</td>\n",
              "      <td>2012-02-15</td>\n",
              "      <td>Amortizacao</td>\n",
              "      <td>0</td>\n",
              "      <td>277732.90</td>\n",
              "      <td>1991</td>\n",
              "      <td>0</td>\n",
              "    </tr>\n",
              "    <tr>\n",
              "      <th>86385</th>\n",
              "      <td>12010</td>\n",
              "      <td>F</td>\n",
              "      <td>Estudante</td>\n",
              "      <td>Solteiro</td>\n",
              "      <td>37000.00</td>\n",
              "      <td>0.0</td>\n",
              "      <td>NaN</td>\n",
              "      <td>NaN</td>\n",
              "      <td>B</td>\n",
              "      <td>N</td>\n",
              "      <td>...</td>\n",
              "      <td>16923.90</td>\n",
              "      <td>7253.10</td>\n",
              "      <td>290124.00</td>\n",
              "      <td>217665.00</td>\n",
              "      <td>2010-06-04</td>\n",
              "      <td>Amortizacao</td>\n",
              "      <td>0</td>\n",
              "      <td>214213.41</td>\n",
              "      <td>1992</td>\n",
              "      <td>0</td>\n",
              "    </tr>\n",
              "    <tr>\n",
              "      <th>119548</th>\n",
              "      <td>12012</td>\n",
              "      <td>M</td>\n",
              "      <td>Estudante</td>\n",
              "      <td>Solteiro</td>\n",
              "      <td>36271.13</td>\n",
              "      <td>0.0</td>\n",
              "      <td>NaN</td>\n",
              "      <td>NaN</td>\n",
              "      <td>B</td>\n",
              "      <td>N</td>\n",
              "      <td>...</td>\n",
              "      <td>33013.83</td>\n",
              "      <td>0.00</td>\n",
              "      <td>363152.13</td>\n",
              "      <td>411685.42</td>\n",
              "      <td>2012-03-02</td>\n",
              "      <td>Amortizacao</td>\n",
              "      <td>21</td>\n",
              "      <td>177146.74</td>\n",
              "      <td>1993</td>\n",
              "      <td>0</td>\n",
              "    </tr>\n",
              "  </tbody>\n",
              "</table>\n",
              "<p>20 rows × 38 columns</p>\n",
              "</div>"
            ],
            "text/plain": [
              "        semester_enroll gender                    occupation marital_status  \\\n",
              "237529            12009      F                     Estudante       Solteiro   \n",
              "312222            12009      M                     Estudante       Solteiro   \n",
              "268618            12009      M                     Estudante       Solteiro   \n",
              "176034            12009      F                     Estudante       Solteiro   \n",
              "177330            12009      M                     Estudante       Separado   \n",
              "324201            12009      F                     Estudante       Solteiro   \n",
              "269241            12010      F                     Estudante       Solteiro   \n",
              "277207            12012      M                     Estudante       Solteiro   \n",
              "90651             22011      F                     Estudante       Solteiro   \n",
              "233453            12011      M                     Estudante       Solteiro   \n",
              "968               22011      F                     Estudante       Solteiro   \n",
              "323917            12011      F  Professor do ensino superior       Solteiro   \n",
              "171884            12011      F                     Estudante       Solteiro   \n",
              "308539            12011      M                     Estudante       Solteiro   \n",
              "153780            22010      F                     Estudante       Solteiro   \n",
              "81957             22011      M                     Estudante       Solteiro   \n",
              "46885             12012      M                     Estudante       Solteiro   \n",
              "81261             12012      M                     Estudante         Casado   \n",
              "86385             12010      F                     Estudante       Solteiro   \n",
              "119548            12012      M                     Estudante       Solteiro   \n",
              "\n",
              "        family_income  personal_income NO_MUNICIPIO SG_UF ethnicity public_hs  \\\n",
              "237529     1600000.00         200000.0       Manaus    AM    Branco         N   \n",
              "312222      600000.00              0.0       Manaus    AM    Branco         N   \n",
              "268618      399436.00              0.0   Adamantina    SP    Branco         N   \n",
              "176034      118400.00         118400.0  Santa Maria    RS     Pardo         N   \n",
              "177330       70500.00          42000.0     Contagem    MG     Pardo         N   \n",
              "324201       61000.00          46000.0       Parobé    RS    Branco         N   \n",
              "269241       47024.31              0.0          NaN   NaN         B         N   \n",
              "277207       44621.94              0.0          NaN   NaN         P         N   \n",
              "90651        43722.41              0.0          NaN   NaN         B         N   \n",
              "233453       43489.75              0.0          NaN   NaN         B         N   \n",
              "968          39783.40              0.0          NaN   NaN         B         S   \n",
              "323917       38718.61          17439.4          NaN   NaN         A         N   \n",
              "171884       38508.84              0.0          NaN   NaN         B         N   \n",
              "308539       38437.31              0.0          NaN   NaN         P         N   \n",
              "153780       38105.18              0.0          NaN   NaN         B         N   \n",
              "81957        37833.40              0.0          NaN   NaN         B         N   \n",
              "46885        37600.00              0.0          NaN   NaN         B         N   \n",
              "81261        37251.20              0.0          NaN   NaN         B         N   \n",
              "86385        37000.00              0.0          NaN   NaN         B         N   \n",
              "119548       36271.13              0.0          NaN   NaN         B         N   \n",
              "\n",
              "        ...  loan_value_sem  student_resource loan_value loan_limit  \\\n",
              "237529  ...        18616.74          18616.74  507000.00  192093.62   \n",
              "312222  ...        14412.96           4804.32  230607.36  190641.85   \n",
              "268618  ...        24291.00           8097.00  388656.00  266085.00   \n",
              "176034  ...         2906.50           2906.50   71343.80   26345.01   \n",
              "177330  ...          359.40            359.40   11500.80   27337.20   \n",
              "324201  ...         1741.39           1741.39   41793.36   24834.00   \n",
              "269241  ...        22671.60           9716.40  388656.00  242865.00   \n",
              "277207  ...        19500.00          19500.00  312000.00  150000.00   \n",
              "90651   ...        37535.55              0.00  412891.05  372161.63   \n",
              "233453  ...        16430.82          16430.82  394339.68  184905.00   \n",
              "968     ...        22504.27           7501.42  360068.28  257946.53   \n",
              "323917  ...        18381.00          18381.00  441144.00  169290.00   \n",
              "171884  ...        14996.91          14996.91  359925.84  154777.50   \n",
              "308539  ...        23073.30           7691.10  369172.80  247691.93   \n",
              "153780  ...        13972.66          13972.66  307398.52  126592.54   \n",
              "81957   ...         8389.54           8389.54  390000.00   97249.88   \n",
              "46885   ...        37535.55              0.00  375355.50  360320.25   \n",
              "81261   ...        20902.50           6967.50  334440.00  280327.50   \n",
              "86385   ...        16923.90           7253.10  290124.00  217665.00   \n",
              "119548  ...        33013.83              0.00  363152.13  411685.42   \n",
              "\n",
              "        date_contract  contract_phase  days_delay  total_debt  \\\n",
              "237529     2009-01-23     Amortizacao         725   231903.22   \n",
              "312222     2009-01-16     Amortizacao         858   235986.65   \n",
              "268618     2009-01-12     Amortizacao         205   327364.89   \n",
              "176034     2009-06-24     Amortizacao           0    18294.92   \n",
              "177330     2009-06-19     Amortizacao        1508    12087.92   \n",
              "324201     2009-01-07     Amortizacao         103    26786.97   \n",
              "269241     2010-06-07     Amortizacao           0   235834.44   \n",
              "277207     2012-03-23     Amortizacao          21   112918.95   \n",
              "90651      2011-08-19     Amortizacao           0   396477.54   \n",
              "233453     2011-03-04     Amortizacao           0   196005.41   \n",
              "968        2011-08-18     Amortizacao          11   290190.18   \n",
              "323917     2011-06-22     Amortizacao           0   190678.97   \n",
              "171884     2011-06-28     Amortizacao           0   164313.88   \n",
              "308539     2011-04-25     Amortizacao           0   259514.71   \n",
              "153780     2010-09-13     Amortizacao           0   127888.05   \n",
              "81957      2011-11-23     Amortizacao           0   105095.51   \n",
              "46885      2012-02-03     Amortizacao           0   360534.35   \n",
              "81261      2012-02-15     Amortizacao           0   277732.90   \n",
              "86385      2010-06-04     Amortizacao           0   214213.41   \n",
              "119548     2012-03-02     Amortizacao          21   177146.74   \n",
              "\n",
              "                 birth_year  default  \n",
              "237529  2021-01-11 00:00:00        1  \n",
              "312222  2021-01-04 00:00:00        1  \n",
              "268618                 02/0        0  \n",
              "176034  2021-01-30 00:00:00        0  \n",
              "177330                 15/0        1  \n",
              "324201                 21/0        0  \n",
              "269241                 1985        0  \n",
              "277207                 1986        0  \n",
              "90651                  1991        0  \n",
              "233453                 1991        0  \n",
              "968                    1991        0  \n",
              "323917                 1953        0  \n",
              "171884                 1992        0  \n",
              "308539                 1988        0  \n",
              "153780                 1991        0  \n",
              "81957                  1991        0  \n",
              "46885                  1992        0  \n",
              "81261                  1991        0  \n",
              "86385                  1992        0  \n",
              "119548                 1993        0  \n",
              "\n",
              "[20 rows x 38 columns]"
            ]
          },
          "metadata": {
            "tags": []
          },
          "execution_count": 33
        }
      ]
=======
        "id": "itTdp928ogIL"
      },
      "source": [
        "import datetime as dt\n",
        "\n",
        "variables_to_drop = [\"NO_MUNICIPIO\",\n",
        "                     \"SG_UF\",\n",
        "                     \"VL_SEMESTRE_SEM_DESCONTO\",\n",
        "                     \"NU_SEMESTRE_REFERENCIA\"]\n",
        "\n",
        "complete_set_clean = complete_set.drop(variables_to_drop, axis = 1)\n",
        "\n",
        "complete_set_clean[\"date_contract\"]= complete_set_clean[\"date_contract\"].map(dt.datetime.toordinal)"
      ],
      "execution_count": null,
      "outputs": []
>>>>>>> Stashed changes
    },
    {
      "cell_type": "markdown",
      "metadata": {
<<<<<<< Updated upstream
        "id": "7Kcob9Y0ogIM"
      },
      "source": [
        "Some variables are better interprerted as categories."
      ]
    },
    {
      "cell_type": "markdown",
      "metadata": {
        "id": "l3sKb1nWogIM"
      },
      "source": [
        "### 4 - Add atributes"
      ]
    },
    {
      "cell_type": "markdown",
      "metadata": {
        "id": "yv-XDRCDAuXb"
      },
      "source": [
        "Adds a columns for a dummy that defines if the main occupation is student. An another one to define if the delay in repayment is more than one year (365 days)"
      ]
    },
    {
      "cell_type": "code",
      "metadata": {
        "id": "-0wC7L7dogIM"
      },
      "source": [
        "#Recode ocupacao\n",
        "complete_set_clean=complete_set_clean.assign(student=1*(complete_set[\"occupation\"]==\"Estudante\"))\n",
        "\n",
        "complete_set_clean=complete_set_clean.assign(default=1*(complete_set[\"days_delay\"]>=365))"
      ],
      "execution_count": null,
      "outputs": []
    },
    {
      "cell_type": "markdown",
      "metadata": {
        "id": "bJVOljkGogIT"
      },
      "source": [
        "### 5 - Cleaning Data "
      ]
    },
    {
      "cell_type": "code",
      "metadata": {
        "id": "X3smpA04ogIN"
      },
      "source": [
        "#Here are the columns we want to drop NA's and not treat like using median, or something else\n",
        "complete_set_clean = complete_set_clean.dropna(subset=[\"semester_enroll\",\n",
        "                                                       \"gender\",\n",
        "                                                       \"occupation\",\n",
        "                                                       \"marital_status\",\n",
        "                                                       \"ethnicity\",\n",
        "                                                       \"public_hs\",\n",
        "                                                       \"state_course\",\n",
        "                                                       \"degree\",\n",
        "                                                       \"igc\",\"cpc\",\"cc\",\n",
        "                                                       \"contract_phase\",\n",
        "                                                       \"birth_year\"])"
      ],
      "execution_count": null,
      "outputs": []
    },
    {
      "cell_type": "code",
      "metadata": {
        "id": "_Zf3ApfLogIM"
      },
      "source": [
        "#Birth year has to be corrected in the excel file\n",
        "\n",
        "complete_set_clean = complete_set_clean.astype({\"semester_enroll\":str,\n",
        "                                                \"igc\":'int64',\"cpc\":'int64',\"cc\":'int64',\n",
        "                                               \"birth_year\":str\n",
        "                                               })"
      ],
      "execution_count": null,
      "outputs": []
    },
    {
      "cell_type": "code",
      "metadata": {
        "id": "WDXn4nQyAuXd"
      },
      "source": [
        ""
      ],
      "execution_count": null,
      "outputs": []
    },
    {
      "cell_type": "code",
      "metadata": {
        "id": "Eyohg-mRogIO"
      },
      "source": [
        "#Get only categorical\n",
        "\n",
        "\n",
        "complete_set_cat = complete_set_clean.select_dtypes(include=[\"object\"])"
      ],
      "execution_count": null,
      "outputs": []
    },
    {
      "cell_type": "markdown",
      "metadata": {
        "id": "fVwJfudJogIS"
      },
      "source": [
        "### 4 - Creating a training and a test set\n",
        "\n",
        "In this section we will create the training and test set using the function *train_test_split* from Scikit-Learn. Two important considerations about our choice:\n",
        "\n",
        "* Our dataset is a sample provided by the Brazilian Governent and will not be updated. Therefore, we chose not to be concerned about future splits with updated data;\n",
        "\n",
        "* Our data includes 637,822 instances. We assume it is big enough and do not employ stratified sampling."
      ]
    },
    {
      "cell_type": "code",
      "metadata": {
        "id": "hJuseFTaogIS"
      },
      "source": [
        "from sklearn.model_selection import train_test_split\n",
        "\n",
        "train_set, test_set = train_test_split(complete_set_clean, test_size=0.2, random_state=42)"
      ],
      "execution_count": null,
      "outputs": []
    },
    {
      "cell_type": "code",
      "metadata": {
        "id": "00B7-iH4Z_ZW"
      },
      "source": [
        "fies = train_set.drop(\"default\", axis=1) # drop labels for training set\n",
        "\n",
        "fies_labels = train_set[\"default\"].copy()"
      ],
      "execution_count": null,
      "outputs": []
    },
    {
      "cell_type": "code",
      "metadata": {
        "id": "Vrr4L_uoZ_ZW",
        "outputId": "0edbd07a-ccff-4163-8d5e-de2e265aeb8a"
      },
      "source": [
        "sample_incomplete_rows = fies[fies.isnull().any(axis=1)].head()\n",
        "sample_incomplete_rows"
      ],
      "execution_count": null,
      "outputs": [
        {
          "output_type": "execute_result",
          "data": {
            "text/html": [
              "<div>\n",
              "<style scoped>\n",
              "    .dataframe tbody tr th:only-of-type {\n",
              "        vertical-align: middle;\n",
              "    }\n",
              "\n",
              "    .dataframe tbody tr th {\n",
              "        vertical-align: top;\n",
              "    }\n",
              "\n",
              "    .dataframe thead th {\n",
              "        text-align: right;\n",
              "    }\n",
              "</style>\n",
              "<table border=\"1\" class=\"dataframe\">\n",
              "  <thead>\n",
              "    <tr style=\"text-align: right;\">\n",
              "      <th></th>\n",
              "      <th>semester_enroll</th>\n",
              "      <th>gender</th>\n",
              "      <th>occupation</th>\n",
              "      <th>marital_status</th>\n",
              "      <th>family_income</th>\n",
              "      <th>personal_income</th>\n",
              "      <th>ethnicity</th>\n",
              "      <th>public_hs</th>\n",
              "      <th>high_school_endyear</th>\n",
              "      <th>state_course</th>\n",
              "      <th>...</th>\n",
              "      <th>loan_value_sem</th>\n",
              "      <th>student_resource</th>\n",
              "      <th>loan_value</th>\n",
              "      <th>loan_limit</th>\n",
              "      <th>date_contract</th>\n",
              "      <th>contract_phase</th>\n",
              "      <th>days_delay</th>\n",
              "      <th>total_debt</th>\n",
              "      <th>birth_year</th>\n",
              "      <th>student</th>\n",
              "    </tr>\n",
              "  </thead>\n",
              "  <tbody>\n",
              "    <tr>\n",
              "      <th>308469</th>\n",
              "      <td>12011</td>\n",
              "      <td>M</td>\n",
              "      <td>Outras ocupaÃ§Ãµes nÃ£o especificadas anterior...</td>\n",
              "      <td>Solteiro</td>\n",
              "      <td>1580.00</td>\n",
              "      <td>680.0</td>\n",
              "      <td>P</td>\n",
              "      <td>S</td>\n",
              "      <td>NaN</td>\n",
              "      <td>PA</td>\n",
              "      <td>...</td>\n",
              "      <td>4246.68</td>\n",
              "      <td>4246.67</td>\n",
              "      <td>84933.5</td>\n",
              "      <td>35135.56</td>\n",
              "      <td>734277</td>\n",
              "      <td>Amortizacao</td>\n",
              "      <td>682</td>\n",
              "      <td>38451.95</td>\n",
              "      <td>1986</td>\n",
              "      <td>0</td>\n",
              "    </tr>\n",
              "    <tr>\n",
              "      <th>254040</th>\n",
              "      <td>12010</td>\n",
              "      <td>F</td>\n",
              "      <td>Estudante</td>\n",
              "      <td>Casado</td>\n",
              "      <td>10000.00</td>\n",
              "      <td>0.0</td>\n",
              "      <td>B</td>\n",
              "      <td>N</td>\n",
              "      <td>NaN</td>\n",
              "      <td>SP</td>\n",
              "      <td>...</td>\n",
              "      <td>17020.23</td>\n",
              "      <td>17020.23</td>\n",
              "      <td>340404.6</td>\n",
              "      <td>158602.13</td>\n",
              "      <td>733934</td>\n",
              "      <td>Amortizacao</td>\n",
              "      <td>0</td>\n",
              "      <td>150708.88</td>\n",
              "      <td>1982</td>\n",
              "      <td>1</td>\n",
              "    </tr>\n",
              "    <tr>\n",
              "      <th>44147</th>\n",
              "      <td>12011</td>\n",
              "      <td>F</td>\n",
              "      <td>Engenheiro, arquiteto e afins</td>\n",
              "      <td>Solteiro</td>\n",
              "      <td>2055.36</td>\n",
              "      <td>0.0</td>\n",
              "      <td>A</td>\n",
              "      <td>P</td>\n",
              "      <td>NaN</td>\n",
              "      <td>MG</td>\n",
              "      <td>...</td>\n",
              "      <td>5949.95</td>\n",
              "      <td>0.00</td>\n",
              "      <td>60750.0</td>\n",
              "      <td>56700.00</td>\n",
              "      <td>734324</td>\n",
              "      <td>Amortizacao</td>\n",
              "      <td>682</td>\n",
              "      <td>67218.25</td>\n",
              "      <td>1990</td>\n",
              "      <td>0</td>\n",
              "    </tr>\n",
              "    <tr>\n",
              "      <th>136538</th>\n",
              "      <td>12011</td>\n",
              "      <td>F</td>\n",
              "      <td>Estudante</td>\n",
              "      <td>Solteiro</td>\n",
              "      <td>3900.00</td>\n",
              "      <td>0.0</td>\n",
              "      <td>B</td>\n",
              "      <td>S</td>\n",
              "      <td>NaN</td>\n",
              "      <td>RJ</td>\n",
              "      <td>...</td>\n",
              "      <td>3951.64</td>\n",
              "      <td>1317.21</td>\n",
              "      <td>52688.5</td>\n",
              "      <td>32896.98</td>\n",
              "      <td>734206</td>\n",
              "      <td>Amortizacao</td>\n",
              "      <td>0</td>\n",
              "      <td>47776.76</td>\n",
              "      <td>1988</td>\n",
              "      <td>1</td>\n",
              "    </tr>\n",
              "    <tr>\n",
              "      <th>8683</th>\n",
              "      <td>12010</td>\n",
              "      <td>F</td>\n",
              "      <td>Estudante</td>\n",
              "      <td>Solteiro</td>\n",
              "      <td>2500.00</td>\n",
              "      <td>0.0</td>\n",
              "      <td>B</td>\n",
              "      <td>N</td>\n",
              "      <td>NaN</td>\n",
              "      <td>SP</td>\n",
              "      <td>...</td>\n",
              "      <td>18767.78</td>\n",
              "      <td>18767.77</td>\n",
              "      <td>450426.6</td>\n",
              "      <td>190608.75</td>\n",
              "      <td>733916</td>\n",
              "      <td>Amortizacao</td>\n",
              "      <td>0</td>\n",
              "      <td>198765.79</td>\n",
              "      <td>1987</td>\n",
              "      <td>1</td>\n",
              "    </tr>\n",
              "  </tbody>\n",
              "</table>\n",
              "<p>5 rows × 34 columns</p>\n",
              "</div>"
            ],
            "text/plain": [
              "       semester_enroll gender  \\\n",
              "308469           12011      M   \n",
              "254040           12010      F   \n",
              "44147            12011      F   \n",
              "136538           12011      F   \n",
              "8683             12010      F   \n",
              "\n",
              "                                               occupation marital_status  \\\n",
              "308469  Outras ocupaÃ§Ãµes nÃ£o especificadas anterior...       Solteiro   \n",
              "254040                                          Estudante         Casado   \n",
              "44147                       Engenheiro, arquiteto e afins       Solteiro   \n",
              "136538                                          Estudante       Solteiro   \n",
              "8683                                            Estudante       Solteiro   \n",
              "\n",
              "        family_income  personal_income ethnicity public_hs  \\\n",
              "308469        1580.00            680.0         P         S   \n",
              "254040       10000.00              0.0         B         N   \n",
              "44147         2055.36              0.0         A         P   \n",
              "136538        3900.00              0.0         B         S   \n",
              "8683          2500.00              0.0         B         N   \n",
              "\n",
              "        high_school_endyear state_course  ... loan_value_sem  \\\n",
              "308469                  NaN           PA  ...        4246.68   \n",
              "254040                  NaN           SP  ...       17020.23   \n",
              "44147                   NaN           MG  ...        5949.95   \n",
              "136538                  NaN           RJ  ...        3951.64   \n",
              "8683                    NaN           SP  ...       18767.78   \n",
              "\n",
              "        student_resource  loan_value  loan_limit  date_contract  \\\n",
              "308469           4246.67     84933.5    35135.56         734277   \n",
              "254040          17020.23    340404.6   158602.13         733934   \n",
              "44147               0.00     60750.0    56700.00         734324   \n",
              "136538           1317.21     52688.5    32896.98         734206   \n",
              "8683            18767.77    450426.6   190608.75         733916   \n",
              "\n",
              "        contract_phase  days_delay  total_debt  birth_year  student  \n",
              "308469     Amortizacao         682    38451.95        1986        0  \n",
              "254040     Amortizacao           0   150708.88        1982        1  \n",
              "44147      Amortizacao         682    67218.25        1990        0  \n",
              "136538     Amortizacao           0    47776.76        1988        1  \n",
              "8683       Amortizacao           0   198765.79        1987        1  \n",
              "\n",
              "[5 rows x 34 columns]"
            ]
          },
          "metadata": {
            "tags": []
          },
          "execution_count": 49
        }
      ]
    },
    {
=======
        "id": "V66zCTtnAuXZ"
      },
      "source": [
        "\n",
        "# Bruno's variables which need special treatment"
      ]
>>>>>>> 24615d14f3200a7f770bb5cbd95070abd66b4ecf
    },
    {
      "cell_type": "code",
      "metadata": {
        "id": "mXlAR2V7AuXa",
        "outputId": "0d62aa6a-9524-45c5-e1b8-6f0d2e802303"
      },
      "source": [
        "complete_set.nlargest(20, ['family_income'])\n",
        "# na tabela abaixo, eu relaciono as 20 maiores rendas familiares do banco de dados\n",
        "# os 6 primeiros valores são outliers e os 3 primeiros parecem ser erros\n",
        "# se isso for renda familiar mensal, eu sugiro excluir valores maiores que 100,000.00, o que acham?\n",
        "\n",
        "# Diego: além desse problema em family income, temos que imputar NAs para high_school_endyear e birth_year"
      ],
      "execution_count": null,
      "outputs": [
        {
          "output_type": "execute_result",
          "data": {
            "text/html": [
              "<div>\n",
              "<style scoped>\n",
              "    .dataframe tbody tr th:only-of-type {\n",
              "        vertical-align: middle;\n",
              "    }\n",
              "\n",
              "    .dataframe tbody tr th {\n",
              "        vertical-align: top;\n",
              "    }\n",
              "\n",
              "    .dataframe thead th {\n",
              "        text-align: right;\n",
              "    }\n",
              "</style>\n",
              "<table border=\"1\" class=\"dataframe\">\n",
              "  <thead>\n",
              "    <tr style=\"text-align: right;\">\n",
              "      <th></th>\n",
              "      <th>semester_enroll</th>\n",
              "      <th>gender</th>\n",
              "      <th>occupation</th>\n",
              "      <th>marital_status</th>\n",
              "      <th>family_income</th>\n",
              "      <th>personal_income</th>\n",
              "      <th>NO_MUNICIPIO</th>\n",
              "      <th>SG_UF</th>\n",
              "      <th>ethnicity</th>\n",
              "      <th>public_hs</th>\n",
              "      <th>...</th>\n",
              "      <th>loan_value_sem</th>\n",
              "      <th>student_resource</th>\n",
              "      <th>loan_value</th>\n",
              "      <th>loan_limit</th>\n",
              "      <th>date_contract</th>\n",
              "      <th>contract_phase</th>\n",
              "      <th>days_delay</th>\n",
              "      <th>total_debt</th>\n",
              "      <th>birth_year</th>\n",
              "      <th>default</th>\n",
              "    </tr>\n",
              "  </thead>\n",
              "  <tbody>\n",
              "    <tr>\n",
              "      <th>237529</th>\n",
              "      <td>12009</td>\n",
              "      <td>F</td>\n",
              "      <td>Estudante</td>\n",
              "      <td>Solteiro</td>\n",
              "      <td>1600000.00</td>\n",
              "      <td>200000.0</td>\n",
              "      <td>Manaus</td>\n",
              "      <td>AM</td>\n",
              "      <td>Branco</td>\n",
              "      <td>N</td>\n",
              "      <td>...</td>\n",
              "      <td>18616.74</td>\n",
              "      <td>18616.74</td>\n",
              "      <td>507000.00</td>\n",
              "      <td>192093.62</td>\n",
              "      <td>2009-01-23</td>\n",
              "      <td>Amortizacao</td>\n",
              "      <td>725</td>\n",
              "      <td>231903.22</td>\n",
              "      <td>2021-01-11 00:00:00</td>\n",
              "      <td>1</td>\n",
              "    </tr>\n",
              "    <tr>\n",
              "      <th>312222</th>\n",
              "      <td>12009</td>\n",
              "      <td>M</td>\n",
              "      <td>Estudante</td>\n",
              "      <td>Solteiro</td>\n",
              "      <td>600000.00</td>\n",
              "      <td>0.0</td>\n",
              "      <td>Manaus</td>\n",
              "      <td>AM</td>\n",
              "      <td>Branco</td>\n",
              "      <td>N</td>\n",
              "      <td>...</td>\n",
              "      <td>14412.96</td>\n",
              "      <td>4804.32</td>\n",
              "      <td>230607.36</td>\n",
              "      <td>190641.85</td>\n",
              "      <td>2009-01-16</td>\n",
              "      <td>Amortizacao</td>\n",
              "      <td>858</td>\n",
              "      <td>235986.65</td>\n",
              "      <td>2021-01-04 00:00:00</td>\n",
              "      <td>1</td>\n",
              "    </tr>\n",
              "    <tr>\n",
              "      <th>268618</th>\n",
              "      <td>12009</td>\n",
              "      <td>M</td>\n",
              "      <td>Estudante</td>\n",
              "      <td>Solteiro</td>\n",
              "      <td>399436.00</td>\n",
              "      <td>0.0</td>\n",
              "      <td>Adamantina</td>\n",
              "      <td>SP</td>\n",
              "      <td>Branco</td>\n",
              "      <td>N</td>\n",
              "      <td>...</td>\n",
              "      <td>24291.00</td>\n",
              "      <td>8097.00</td>\n",
              "      <td>388656.00</td>\n",
              "      <td>266085.00</td>\n",
              "      <td>2009-01-12</td>\n",
              "      <td>Amortizacao</td>\n",
              "      <td>205</td>\n",
              "      <td>327364.89</td>\n",
              "      <td>02/0</td>\n",
              "      <td>0</td>\n",
              "    </tr>\n",
              "    <tr>\n",
              "      <th>176034</th>\n",
              "      <td>12009</td>\n",
              "      <td>F</td>\n",
              "      <td>Estudante</td>\n",
              "      <td>Solteiro</td>\n",
              "      <td>118400.00</td>\n",
              "      <td>118400.0</td>\n",
              "      <td>Santa Maria</td>\n",
              "      <td>RS</td>\n",
              "      <td>Pardo</td>\n",
              "      <td>N</td>\n",
              "      <td>...</td>\n",
              "      <td>2906.50</td>\n",
              "      <td>2906.50</td>\n",
              "      <td>71343.80</td>\n",
              "      <td>26345.01</td>\n",
              "      <td>2009-06-24</td>\n",
              "      <td>Amortizacao</td>\n",
              "      <td>0</td>\n",
              "      <td>18294.92</td>\n",
              "      <td>2021-01-30 00:00:00</td>\n",
              "      <td>0</td>\n",
              "    </tr>\n",
              "    <tr>\n",
              "      <th>177330</th>\n",
              "      <td>12009</td>\n",
              "      <td>M</td>\n",
              "      <td>Estudante</td>\n",
              "      <td>Separado</td>\n",
              "      <td>70500.00</td>\n",
              "      <td>42000.0</td>\n",
              "      <td>Contagem</td>\n",
              "      <td>MG</td>\n",
              "      <td>Pardo</td>\n",
              "      <td>N</td>\n",
              "      <td>...</td>\n",
              "      <td>359.40</td>\n",
              "      <td>359.40</td>\n",
              "      <td>11500.80</td>\n",
              "      <td>27337.20</td>\n",
              "      <td>2009-06-19</td>\n",
              "      <td>Amortizacao</td>\n",
              "      <td>1508</td>\n",
              "      <td>12087.92</td>\n",
              "      <td>15/0</td>\n",
              "      <td>1</td>\n",
              "    </tr>\n",
              "    <tr>\n",
              "      <th>324201</th>\n",
              "      <td>12009</td>\n",
              "      <td>F</td>\n",
              "      <td>Estudante</td>\n",
              "      <td>Solteiro</td>\n",
              "      <td>61000.00</td>\n",
              "      <td>46000.0</td>\n",
              "      <td>Parobé</td>\n",
              "      <td>RS</td>\n",
              "      <td>Branco</td>\n",
              "      <td>N</td>\n",
              "      <td>...</td>\n",
              "      <td>1741.39</td>\n",
              "      <td>1741.39</td>\n",
              "      <td>41793.36</td>\n",
              "      <td>24834.00</td>\n",
              "      <td>2009-01-07</td>\n",
              "      <td>Amortizacao</td>\n",
              "      <td>103</td>\n",
              "      <td>26786.97</td>\n",
              "      <td>21/0</td>\n",
              "      <td>0</td>\n",
              "    </tr>\n",
              "    <tr>\n",
              "      <th>269241</th>\n",
              "      <td>12010</td>\n",
              "      <td>F</td>\n",
              "      <td>Estudante</td>\n",
              "      <td>Solteiro</td>\n",
              "      <td>47024.31</td>\n",
              "      <td>0.0</td>\n",
              "      <td>NaN</td>\n",
              "      <td>NaN</td>\n",
              "      <td>B</td>\n",
              "      <td>N</td>\n",
              "      <td>...</td>\n",
              "      <td>22671.60</td>\n",
              "      <td>9716.40</td>\n",
              "      <td>388656.00</td>\n",
              "      <td>242865.00</td>\n",
              "      <td>2010-06-07</td>\n",
              "      <td>Amortizacao</td>\n",
              "      <td>0</td>\n",
              "      <td>235834.44</td>\n",
              "      <td>1985</td>\n",
              "      <td>0</td>\n",
              "    </tr>\n",
              "    <tr>\n",
              "      <th>277207</th>\n",
              "      <td>12012</td>\n",
              "      <td>M</td>\n",
              "      <td>Estudante</td>\n",
              "      <td>Solteiro</td>\n",
              "      <td>44621.94</td>\n",
              "      <td>0.0</td>\n",
              "      <td>NaN</td>\n",
              "      <td>NaN</td>\n",
              "      <td>P</td>\n",
              "      <td>N</td>\n",
              "      <td>...</td>\n",
              "      <td>19500.00</td>\n",
              "      <td>19500.00</td>\n",
              "      <td>312000.00</td>\n",
              "      <td>150000.00</td>\n",
              "      <td>2012-03-23</td>\n",
              "      <td>Amortizacao</td>\n",
              "      <td>21</td>\n",
              "      <td>112918.95</td>\n",
              "      <td>1986</td>\n",
              "      <td>0</td>\n",
              "    </tr>\n",
              "    <tr>\n",
              "      <th>90651</th>\n",
              "      <td>22011</td>\n",
              "      <td>F</td>\n",
              "      <td>Estudante</td>\n",
              "      <td>Solteiro</td>\n",
              "      <td>43722.41</td>\n",
              "      <td>0.0</td>\n",
              "      <td>NaN</td>\n",
              "      <td>NaN</td>\n",
              "      <td>B</td>\n",
              "      <td>N</td>\n",
              "      <td>...</td>\n",
              "      <td>37535.55</td>\n",
              "      <td>0.00</td>\n",
              "      <td>412891.05</td>\n",
              "      <td>372161.63</td>\n",
              "      <td>2011-08-19</td>\n",
              "      <td>Amortizacao</td>\n",
              "      <td>0</td>\n",
              "      <td>396477.54</td>\n",
              "      <td>1991</td>\n",
              "      <td>0</td>\n",
              "    </tr>\n",
              "    <tr>\n",
              "      <th>233453</th>\n",
              "      <td>12011</td>\n",
              "      <td>M</td>\n",
              "      <td>Estudante</td>\n",
              "      <td>Solteiro</td>\n",
              "      <td>43489.75</td>\n",
              "      <td>0.0</td>\n",
              "      <td>NaN</td>\n",
              "      <td>NaN</td>\n",
              "      <td>B</td>\n",
              "      <td>N</td>\n",
              "      <td>...</td>\n",
              "      <td>16430.82</td>\n",
              "      <td>16430.82</td>\n",
              "      <td>394339.68</td>\n",
              "      <td>184905.00</td>\n",
              "      <td>2011-03-04</td>\n",
              "      <td>Amortizacao</td>\n",
              "      <td>0</td>\n",
              "      <td>196005.41</td>\n",
              "      <td>1991</td>\n",
              "      <td>0</td>\n",
              "    </tr>\n",
              "    <tr>\n",
              "      <th>968</th>\n",
              "      <td>22011</td>\n",
              "      <td>F</td>\n",
              "      <td>Estudante</td>\n",
              "      <td>Solteiro</td>\n",
              "      <td>39783.40</td>\n",
              "      <td>0.0</td>\n",
              "      <td>NaN</td>\n",
              "      <td>NaN</td>\n",
              "      <td>B</td>\n",
              "      <td>S</td>\n",
              "      <td>...</td>\n",
              "      <td>22504.27</td>\n",
              "      <td>7501.42</td>\n",
              "      <td>360068.28</td>\n",
              "      <td>257946.53</td>\n",
              "      <td>2011-08-18</td>\n",
              "      <td>Amortizacao</td>\n",
              "      <td>11</td>\n",
              "      <td>290190.18</td>\n",
              "      <td>1991</td>\n",
              "      <td>0</td>\n",
              "    </tr>\n",
              "    <tr>\n",
              "      <th>323917</th>\n",
              "      <td>12011</td>\n",
              "      <td>F</td>\n",
              "      <td>Professor do ensino superior</td>\n",
              "      <td>Solteiro</td>\n",
              "      <td>38718.61</td>\n",
              "      <td>17439.4</td>\n",
              "      <td>NaN</td>\n",
              "      <td>NaN</td>\n",
              "      <td>A</td>\n",
              "      <td>N</td>\n",
              "      <td>...</td>\n",
              "      <td>18381.00</td>\n",
              "      <td>18381.00</td>\n",
              "      <td>441144.00</td>\n",
              "      <td>169290.00</td>\n",
              "      <td>2011-06-22</td>\n",
              "      <td>Amortizacao</td>\n",
              "      <td>0</td>\n",
              "      <td>190678.97</td>\n",
              "      <td>1953</td>\n",
              "      <td>0</td>\n",
              "    </tr>\n",
              "    <tr>\n",
              "      <th>171884</th>\n",
              "      <td>12011</td>\n",
              "      <td>F</td>\n",
              "      <td>Estudante</td>\n",
              "      <td>Solteiro</td>\n",
              "      <td>38508.84</td>\n",
              "      <td>0.0</td>\n",
              "      <td>NaN</td>\n",
              "      <td>NaN</td>\n",
              "      <td>B</td>\n",
              "      <td>N</td>\n",
              "      <td>...</td>\n",
              "      <td>14996.91</td>\n",
              "      <td>14996.91</td>\n",
              "      <td>359925.84</td>\n",
              "      <td>154777.50</td>\n",
              "      <td>2011-06-28</td>\n",
              "      <td>Amortizacao</td>\n",
              "      <td>0</td>\n",
              "      <td>164313.88</td>\n",
              "      <td>1992</td>\n",
              "      <td>0</td>\n",
              "    </tr>\n",
              "    <tr>\n",
              "      <th>308539</th>\n",
              "      <td>12011</td>\n",
              "      <td>M</td>\n",
              "      <td>Estudante</td>\n",
              "      <td>Solteiro</td>\n",
              "      <td>38437.31</td>\n",
              "      <td>0.0</td>\n",
              "      <td>NaN</td>\n",
              "      <td>NaN</td>\n",
              "      <td>P</td>\n",
              "      <td>N</td>\n",
              "      <td>...</td>\n",
              "      <td>23073.30</td>\n",
              "      <td>7691.10</td>\n",
              "      <td>369172.80</td>\n",
              "      <td>247691.93</td>\n",
              "      <td>2011-04-25</td>\n",
              "      <td>Amortizacao</td>\n",
              "      <td>0</td>\n",
              "      <td>259514.71</td>\n",
              "      <td>1988</td>\n",
              "      <td>0</td>\n",
              "    </tr>\n",
              "    <tr>\n",
              "      <th>153780</th>\n",
              "      <td>22010</td>\n",
              "      <td>F</td>\n",
              "      <td>Estudante</td>\n",
              "      <td>Solteiro</td>\n",
              "      <td>38105.18</td>\n",
              "      <td>0.0</td>\n",
              "      <td>NaN</td>\n",
              "      <td>NaN</td>\n",
              "      <td>B</td>\n",
              "      <td>N</td>\n",
              "      <td>...</td>\n",
              "      <td>13972.66</td>\n",
              "      <td>13972.66</td>\n",
              "      <td>307398.52</td>\n",
              "      <td>126592.54</td>\n",
              "      <td>2010-09-13</td>\n",
              "      <td>Amortizacao</td>\n",
              "      <td>0</td>\n",
              "      <td>127888.05</td>\n",
              "      <td>1991</td>\n",
              "      <td>0</td>\n",
              "    </tr>\n",
              "    <tr>\n",
              "      <th>81957</th>\n",
              "      <td>22011</td>\n",
              "      <td>M</td>\n",
              "      <td>Estudante</td>\n",
              "      <td>Solteiro</td>\n",
              "      <td>37833.40</td>\n",
              "      <td>0.0</td>\n",
              "      <td>NaN</td>\n",
              "      <td>NaN</td>\n",
              "      <td>B</td>\n",
              "      <td>N</td>\n",
              "      <td>...</td>\n",
              "      <td>8389.54</td>\n",
              "      <td>8389.54</td>\n",
              "      <td>390000.00</td>\n",
              "      <td>97249.88</td>\n",
              "      <td>2011-11-23</td>\n",
              "      <td>Amortizacao</td>\n",
              "      <td>0</td>\n",
              "      <td>105095.51</td>\n",
              "      <td>1991</td>\n",
              "      <td>0</td>\n",
              "    </tr>\n",
              "    <tr>\n",
              "      <th>46885</th>\n",
              "      <td>12012</td>\n",
              "      <td>M</td>\n",
              "      <td>Estudante</td>\n",
              "      <td>Solteiro</td>\n",
              "      <td>37600.00</td>\n",
              "      <td>0.0</td>\n",
              "      <td>NaN</td>\n",
              "      <td>NaN</td>\n",
              "      <td>B</td>\n",
              "      <td>N</td>\n",
              "      <td>...</td>\n",
              "      <td>37535.55</td>\n",
              "      <td>0.00</td>\n",
              "      <td>375355.50</td>\n",
              "      <td>360320.25</td>\n",
              "      <td>2012-02-03</td>\n",
              "      <td>Amortizacao</td>\n",
              "      <td>0</td>\n",
              "      <td>360534.35</td>\n",
              "      <td>1992</td>\n",
              "      <td>0</td>\n",
              "    </tr>\n",
              "    <tr>\n",
              "      <th>81261</th>\n",
              "      <td>12012</td>\n",
              "      <td>M</td>\n",
              "      <td>Estudante</td>\n",
              "      <td>Casado</td>\n",
              "      <td>37251.20</td>\n",
              "      <td>0.0</td>\n",
              "      <td>NaN</td>\n",
              "      <td>NaN</td>\n",
              "      <td>B</td>\n",
              "      <td>N</td>\n",
              "      <td>...</td>\n",
              "      <td>20902.50</td>\n",
              "      <td>6967.50</td>\n",
              "      <td>334440.00</td>\n",
              "      <td>280327.50</td>\n",
              "      <td>2012-02-15</td>\n",
              "      <td>Amortizacao</td>\n",
              "      <td>0</td>\n",
              "      <td>277732.90</td>\n",
              "      <td>1991</td>\n",
              "      <td>0</td>\n",
              "    </tr>\n",
              "    <tr>\n",
              "      <th>86385</th>\n",
              "      <td>12010</td>\n",
              "      <td>F</td>\n",
              "      <td>Estudante</td>\n",
              "      <td>Solteiro</td>\n",
              "      <td>37000.00</td>\n",
              "      <td>0.0</td>\n",
              "      <td>NaN</td>\n",
              "      <td>NaN</td>\n",
              "      <td>B</td>\n",
              "      <td>N</td>\n",
              "      <td>...</td>\n",
              "      <td>16923.90</td>\n",
              "      <td>7253.10</td>\n",
              "      <td>290124.00</td>\n",
              "      <td>217665.00</td>\n",
              "      <td>2010-06-04</td>\n",
              "      <td>Amortizacao</td>\n",
              "      <td>0</td>\n",
              "      <td>214213.41</td>\n",
              "      <td>1992</td>\n",
              "      <td>0</td>\n",
              "    </tr>\n",
              "    <tr>\n",
              "      <th>119548</th>\n",
              "      <td>12012</td>\n",
              "      <td>M</td>\n",
              "      <td>Estudante</td>\n",
              "      <td>Solteiro</td>\n",
              "      <td>36271.13</td>\n",
              "      <td>0.0</td>\n",
              "      <td>NaN</td>\n",
              "      <td>NaN</td>\n",
              "      <td>B</td>\n",
              "      <td>N</td>\n",
              "      <td>...</td>\n",
              "      <td>33013.83</td>\n",
              "      <td>0.00</td>\n",
              "      <td>363152.13</td>\n",
              "      <td>411685.42</td>\n",
              "      <td>2012-03-02</td>\n",
              "      <td>Amortizacao</td>\n",
              "      <td>21</td>\n",
              "      <td>177146.74</td>\n",
              "      <td>1993</td>\n",
              "      <td>0</td>\n",
              "    </tr>\n",
              "  </tbody>\n",
              "</table>\n",
              "<p>20 rows × 38 columns</p>\n",
              "</div>"
            ],
            "text/plain": [
              "        semester_enroll gender                    occupation marital_status  \\\n",
              "237529            12009      F                     Estudante       Solteiro   \n",
              "312222            12009      M                     Estudante       Solteiro   \n",
              "268618            12009      M                     Estudante       Solteiro   \n",
              "176034            12009      F                     Estudante       Solteiro   \n",
              "177330            12009      M                     Estudante       Separado   \n",
              "324201            12009      F                     Estudante       Solteiro   \n",
              "269241            12010      F                     Estudante       Solteiro   \n",
              "277207            12012      M                     Estudante       Solteiro   \n",
              "90651             22011      F                     Estudante       Solteiro   \n",
              "233453            12011      M                     Estudante       Solteiro   \n",
              "968               22011      F                     Estudante       Solteiro   \n",
              "323917            12011      F  Professor do ensino superior       Solteiro   \n",
              "171884            12011      F                     Estudante       Solteiro   \n",
              "308539            12011      M                     Estudante       Solteiro   \n",
              "153780            22010      F                     Estudante       Solteiro   \n",
              "81957             22011      M                     Estudante       Solteiro   \n",
              "46885             12012      M                     Estudante       Solteiro   \n",
              "81261             12012      M                     Estudante         Casado   \n",
              "86385             12010      F                     Estudante       Solteiro   \n",
              "119548            12012      M                     Estudante       Solteiro   \n",
              "\n",
              "        family_income  personal_income NO_MUNICIPIO SG_UF ethnicity public_hs  \\\n",
              "237529     1600000.00         200000.0       Manaus    AM    Branco         N   \n",
              "312222      600000.00              0.0       Manaus    AM    Branco         N   \n",
              "268618      399436.00              0.0   Adamantina    SP    Branco         N   \n",
              "176034      118400.00         118400.0  Santa Maria    RS     Pardo         N   \n",
              "177330       70500.00          42000.0     Contagem    MG     Pardo         N   \n",
              "324201       61000.00          46000.0       Parobé    RS    Branco         N   \n",
              "269241       47024.31              0.0          NaN   NaN         B         N   \n",
              "277207       44621.94              0.0          NaN   NaN         P         N   \n",
              "90651        43722.41              0.0          NaN   NaN         B         N   \n",
              "233453       43489.75              0.0          NaN   NaN         B         N   \n",
              "968          39783.40              0.0          NaN   NaN         B         S   \n",
              "323917       38718.61          17439.4          NaN   NaN         A         N   \n",
              "171884       38508.84              0.0          NaN   NaN         B         N   \n",
              "308539       38437.31              0.0          NaN   NaN         P         N   \n",
              "153780       38105.18              0.0          NaN   NaN         B         N   \n",
              "81957        37833.40              0.0          NaN   NaN         B         N   \n",
              "46885        37600.00              0.0          NaN   NaN         B         N   \n",
              "81261        37251.20              0.0          NaN   NaN         B         N   \n",
              "86385        37000.00              0.0          NaN   NaN         B         N   \n",
              "119548       36271.13              0.0          NaN   NaN         B         N   \n",
              "\n",
              "        ...  loan_value_sem  student_resource loan_value loan_limit  \\\n",
              "237529  ...        18616.74          18616.74  507000.00  192093.62   \n",
              "312222  ...        14412.96           4804.32  230607.36  190641.85   \n",
              "268618  ...        24291.00           8097.00  388656.00  266085.00   \n",
              "176034  ...         2906.50           2906.50   71343.80   26345.01   \n",
              "177330  ...          359.40            359.40   11500.80   27337.20   \n",
              "324201  ...         1741.39           1741.39   41793.36   24834.00   \n",
              "269241  ...        22671.60           9716.40  388656.00  242865.00   \n",
              "277207  ...        19500.00          19500.00  312000.00  150000.00   \n",
              "90651   ...        37535.55              0.00  412891.05  372161.63   \n",
              "233453  ...        16430.82          16430.82  394339.68  184905.00   \n",
              "968     ...        22504.27           7501.42  360068.28  257946.53   \n",
              "323917  ...        18381.00          18381.00  441144.00  169290.00   \n",
              "171884  ...        14996.91          14996.91  359925.84  154777.50   \n",
              "308539  ...        23073.30           7691.10  369172.80  247691.93   \n",
              "153780  ...        13972.66          13972.66  307398.52  126592.54   \n",
              "81957   ...         8389.54           8389.54  390000.00   97249.88   \n",
              "46885   ...        37535.55              0.00  375355.50  360320.25   \n",
              "81261   ...        20902.50           6967.50  334440.00  280327.50   \n",
              "86385   ...        16923.90           7253.10  290124.00  217665.00   \n",
              "119548  ...        33013.83              0.00  363152.13  411685.42   \n",
              "\n",
              "        date_contract  contract_phase  days_delay  total_debt  \\\n",
              "237529     2009-01-23     Amortizacao         725   231903.22   \n",
              "312222     2009-01-16     Amortizacao         858   235986.65   \n",
              "268618     2009-01-12     Amortizacao         205   327364.89   \n",
              "176034     2009-06-24     Amortizacao           0    18294.92   \n",
              "177330     2009-06-19     Amortizacao        1508    12087.92   \n",
              "324201     2009-01-07     Amortizacao         103    26786.97   \n",
              "269241     2010-06-07     Amortizacao           0   235834.44   \n",
              "277207     2012-03-23     Amortizacao          21   112918.95   \n",
              "90651      2011-08-19     Amortizacao           0   396477.54   \n",
              "233453     2011-03-04     Amortizacao           0   196005.41   \n",
              "968        2011-08-18     Amortizacao          11   290190.18   \n",
              "323917     2011-06-22     Amortizacao           0   190678.97   \n",
              "171884     2011-06-28     Amortizacao           0   164313.88   \n",
              "308539     2011-04-25     Amortizacao           0   259514.71   \n",
              "153780     2010-09-13     Amortizacao           0   127888.05   \n",
              "81957      2011-11-23     Amortizacao           0   105095.51   \n",
              "46885      2012-02-03     Amortizacao           0   360534.35   \n",
              "81261      2012-02-15     Amortizacao           0   277732.90   \n",
              "86385      2010-06-04     Amortizacao           0   214213.41   \n",
              "119548     2012-03-02     Amortizacao          21   177146.74   \n",
              "\n",
              "                 birth_year  default  \n",
              "237529  2021-01-11 00:00:00        1  \n",
              "312222  2021-01-04 00:00:00        1  \n",
              "268618                 02/0        0  \n",
              "176034  2021-01-30 00:00:00        0  \n",
              "177330                 15/0        1  \n",
              "324201                 21/0        0  \n",
              "269241                 1985        0  \n",
              "277207                 1986        0  \n",
              "90651                  1991        0  \n",
              "233453                 1991        0  \n",
              "968                    1991        0  \n",
              "323917                 1953        0  \n",
              "171884                 1992        0  \n",
              "308539                 1988        0  \n",
              "153780                 1991        0  \n",
              "81957                  1991        0  \n",
              "46885                  1992        0  \n",
              "81261                  1991        0  \n",
              "86385                  1992        0  \n",
              "119548                 1993        0  \n",
              "\n",
              "[20 rows x 38 columns]"
            ]
          },
          "metadata": {
            "tags": []
          },
          "execution_count": 33
        }
      ]
    },
    {
      "cell_type": "markdown",
      "metadata": {
        "id": "7Kcob9Y0ogIM"
      },
      "source": [
        "Some variables are better interprerted as categories."
      ]
    },
    {
      "cell_type": "markdown",
      "metadata": {
        "id": "l3sKb1nWogIM"
      },
      "source": [
        "### 4 - Add atributes"
      ]
    },
    {
      "cell_type": "markdown",
      "metadata": {
        "id": "yv-XDRCDAuXb"
      },
      "source": [
        "Adds a columns for a dummy that defines if the main occupation is student. An another one to define if the delay in repayment is more than one year (365 days)"
      ]
    },
    {
      "cell_type": "code",
      "metadata": {
        "id": "-0wC7L7dogIM"
      },
      "source": [
        "#Recode ocupacao\n",
        "complete_set_clean=complete_set_clean.assign(student=1*(complete_set[\"occupation\"]==\"Estudante\"))\n",
        "\n",
        "complete_set_clean=complete_set_clean.assign(default=1*(complete_set[\"days_delay\"]>=365))"
      ],
      "execution_count": null,
      "outputs": []
    },
    {
      "cell_type": "markdown",
      "metadata": {
        "id": "bJVOljkGogIT"
      },
      "source": [
        "### 5 - Cleaning Data "
      ]
    },
    {
      "cell_type": "code",
      "metadata": {
        "id": "X3smpA04ogIN"
      },
      "source": [
        "#Here are the columns we want to drop NA's and not treat like using median, or something else\n",
        "complete_set_clean = complete_set_clean.dropna(subset=[\"semester_enroll\",\n",
        "                                                       \"gender\",\n",
        "                                                       \"occupation\",\n",
        "                                                       \"marital_status\",\n",
        "                                                       \"ethnicity\",\n",
        "                                                       \"public_hs\",\n",
        "                                                       \"state_course\",\n",
        "                                                       \"degree\",\n",
        "                                                       \"igc\",\"cpc\",\"cc\",\n",
        "                                                       \"contract_phase\",\n",
        "                                                       \"birth_year\"])"
      ],
      "execution_count": null,
      "outputs": []
    },
    {
      "cell_type": "code",
      "metadata": {
        "id": "_Zf3ApfLogIM"
      },
      "source": [
        "#Birth year has to be corrected in the excel file\n",
        "\n",
        "complete_set_clean = complete_set_clean.astype({\"semester_enroll\":str,\n",
        "                                                \"igc\":'int64',\"cpc\":'int64',\"cc\":'int64',\n",
        "                                               \"birth_year\":str\n",
        "                                               })"
      ],
      "execution_count": null,
      "outputs": []
    },
    {
      "cell_type": "code",
      "metadata": {
        "id": "WDXn4nQyAuXd"
      },
      "source": [
        ""
      ],
      "execution_count": null,
      "outputs": []
    },
    {
      "cell_type": "code",
      "metadata": {
        "id": "Eyohg-mRogIO"
      },
      "source": [
        "#Get only categorical\n",
        "\n",
        "\n",
        "complete_set_cat = complete_set_clean.select_dtypes(include=[\"object\"])"
      ],
      "execution_count": null,
      "outputs": []
    },
    {
      "cell_type": "markdown",
      "metadata": {
        "id": "fVwJfudJogIS"
      },
      "source": [
        "### 4 - Creating a training and a test set\n",
        "\n",
        "In this section we will create the training and test set using the function *train_test_split* from Scikit-Learn. Two important considerations about our choice:\n",
        "\n",
        "* Our dataset is a sample provided by the Brazilian Governent and will not be updated. Therefore, we chose not to be concerned about future splits with updated data;\n",
        "\n",
        "* Our data includes 637,822 instances. We assume it is big enough and do not employ stratified sampling."
      ]
    },
    {
      "cell_type": "code",
      "metadata": {
        "id": "hJuseFTaogIS"
      },
      "source": [
        "from sklearn.model_selection import train_test_split\n",
        "\n",
        "train_set, test_set = train_test_split(complete_set_clean, test_size=0.2, random_state=42)"
      ],
      "execution_count": null,
      "outputs": []
    },
    {
      "cell_type": "code",
      "metadata": {
        "id": "00B7-iH4Z_ZW"
      },
      "source": [
        "fies = train_set.drop(\"default\", axis=1) # drop labels for training set\n",
        "\n",
        "fies_labels = train_set[\"default\"].copy()"
      ],
      "execution_count": null,
      "outputs": []
    },
    {
      "cell_type": "code",
      "metadata": {
        "id": "Vrr4L_uoZ_ZW",
        "outputId": "0edbd07a-ccff-4163-8d5e-de2e265aeb8a"
      },
      "source": [
        "sample_incomplete_rows = fies[fies.isnull().any(axis=1)].head()\n",
        "sample_incomplete_rows"
      ],
      "execution_count": null,
      "outputs": [
        {
          "output_type": "execute_result",
          "data": {
            "text/html": [
              "<div>\n",
              "<style scoped>\n",
              "    .dataframe tbody tr th:only-of-type {\n",
              "        vertical-align: middle;\n",
              "    }\n",
              "\n",
              "    .dataframe tbody tr th {\n",
              "        vertical-align: top;\n",
              "    }\n",
              "\n",
              "    .dataframe thead th {\n",
              "        text-align: right;\n",
              "    }\n",
              "</style>\n",
              "<table border=\"1\" class=\"dataframe\">\n",
              "  <thead>\n",
              "    <tr style=\"text-align: right;\">\n",
              "      <th></th>\n",
              "      <th>semester_enroll</th>\n",
              "      <th>gender</th>\n",
              "      <th>occupation</th>\n",
              "      <th>marital_status</th>\n",
              "      <th>family_income</th>\n",
              "      <th>personal_income</th>\n",
              "      <th>ethnicity</th>\n",
              "      <th>public_hs</th>\n",
              "      <th>high_school_endyear</th>\n",
              "      <th>state_course</th>\n",
              "      <th>...</th>\n",
              "      <th>loan_value_sem</th>\n",
              "      <th>student_resource</th>\n",
              "      <th>loan_value</th>\n",
              "      <th>loan_limit</th>\n",
              "      <th>date_contract</th>\n",
              "      <th>contract_phase</th>\n",
              "      <th>days_delay</th>\n",
              "      <th>total_debt</th>\n",
              "      <th>birth_year</th>\n",
              "      <th>student</th>\n",
              "    </tr>\n",
              "  </thead>\n",
              "  <tbody>\n",
              "    <tr>\n",
              "      <th>308469</th>\n",
              "      <td>12011</td>\n",
              "      <td>M</td>\n",
              "      <td>Outras ocupaÃ§Ãµes nÃ£o especificadas anterior...</td>\n",
              "      <td>Solteiro</td>\n",
              "      <td>1580.00</td>\n",
              "      <td>680.0</td>\n",
              "      <td>P</td>\n",
              "      <td>S</td>\n",
              "      <td>NaN</td>\n",
              "      <td>PA</td>\n",
              "      <td>...</td>\n",
              "      <td>4246.68</td>\n",
              "      <td>4246.67</td>\n",
              "      <td>84933.5</td>\n",
              "      <td>35135.56</td>\n",
              "      <td>734277</td>\n",
              "      <td>Amortizacao</td>\n",
              "      <td>682</td>\n",
              "      <td>38451.95</td>\n",
              "      <td>1986</td>\n",
              "      <td>0</td>\n",
              "    </tr>\n",
              "    <tr>\n",
              "      <th>254040</th>\n",
              "      <td>12010</td>\n",
              "      <td>F</td>\n",
              "      <td>Estudante</td>\n",
              "      <td>Casado</td>\n",
              "      <td>10000.00</td>\n",
              "      <td>0.0</td>\n",
              "      <td>B</td>\n",
              "      <td>N</td>\n",
              "      <td>NaN</td>\n",
              "      <td>SP</td>\n",
              "      <td>...</td>\n",
              "      <td>17020.23</td>\n",
              "      <td>17020.23</td>\n",
              "      <td>340404.6</td>\n",
              "      <td>158602.13</td>\n",
              "      <td>733934</td>\n",
              "      <td>Amortizacao</td>\n",
              "      <td>0</td>\n",
              "      <td>150708.88</td>\n",
              "      <td>1982</td>\n",
              "      <td>1</td>\n",
              "    </tr>\n",
              "    <tr>\n",
              "      <th>44147</th>\n",
              "      <td>12011</td>\n",
              "      <td>F</td>\n",
              "      <td>Engenheiro, arquiteto e afins</td>\n",
              "      <td>Solteiro</td>\n",
              "      <td>2055.36</td>\n",
              "      <td>0.0</td>\n",
              "      <td>A</td>\n",
              "      <td>P</td>\n",
              "      <td>NaN</td>\n",
              "      <td>MG</td>\n",
              "      <td>...</td>\n",
              "      <td>5949.95</td>\n",
              "      <td>0.00</td>\n",
              "      <td>60750.0</td>\n",
              "      <td>56700.00</td>\n",
              "      <td>734324</td>\n",
              "      <td>Amortizacao</td>\n",
              "      <td>682</td>\n",
              "      <td>67218.25</td>\n",
              "      <td>1990</td>\n",
              "      <td>0</td>\n",
              "    </tr>\n",
              "    <tr>\n",
              "      <th>136538</th>\n",
              "      <td>12011</td>\n",
              "      <td>F</td>\n",
              "      <td>Estudante</td>\n",
              "      <td>Solteiro</td>\n",
              "      <td>3900.00</td>\n",
              "      <td>0.0</td>\n",
              "      <td>B</td>\n",
              "      <td>S</td>\n",
              "      <td>NaN</td>\n",
              "      <td>RJ</td>\n",
              "      <td>...</td>\n",
              "      <td>3951.64</td>\n",
              "      <td>1317.21</td>\n",
              "      <td>52688.5</td>\n",
              "      <td>32896.98</td>\n",
              "      <td>734206</td>\n",
              "      <td>Amortizacao</td>\n",
              "      <td>0</td>\n",
              "      <td>47776.76</td>\n",
              "      <td>1988</td>\n",
              "      <td>1</td>\n",
              "    </tr>\n",
              "    <tr>\n",
              "      <th>8683</th>\n",
              "      <td>12010</td>\n",
              "      <td>F</td>\n",
              "      <td>Estudante</td>\n",
              "      <td>Solteiro</td>\n",
              "      <td>2500.00</td>\n",
              "      <td>0.0</td>\n",
              "      <td>B</td>\n",
              "      <td>N</td>\n",
              "      <td>NaN</td>\n",
              "      <td>SP</td>\n",
              "      <td>...</td>\n",
              "      <td>18767.78</td>\n",
              "      <td>18767.77</td>\n",
              "      <td>450426.6</td>\n",
              "      <td>190608.75</td>\n",
              "      <td>733916</td>\n",
              "      <td>Amortizacao</td>\n",
              "      <td>0</td>\n",
              "      <td>198765.79</td>\n",
              "      <td>1987</td>\n",
              "      <td>1</td>\n",
              "    </tr>\n",
              "  </tbody>\n",
              "</table>\n",
              "<p>5 rows × 34 columns</p>\n",
              "</div>"
            ],
            "text/plain": [
              "       semester_enroll gender  \\\n",
              "308469           12011      M   \n",
              "254040           12010      F   \n",
              "44147            12011      F   \n",
              "136538           12011      F   \n",
              "8683             12010      F   \n",
              "\n",
              "                                               occupation marital_status  \\\n",
              "308469  Outras ocupaÃ§Ãµes nÃ£o especificadas anterior...       Solteiro   \n",
              "254040                                          Estudante         Casado   \n",
              "44147                       Engenheiro, arquiteto e afins       Solteiro   \n",
              "136538                                          Estudante       Solteiro   \n",
              "8683                                            Estudante       Solteiro   \n",
              "\n",
              "        family_income  personal_income ethnicity public_hs  \\\n",
              "308469        1580.00            680.0         P         S   \n",
              "254040       10000.00              0.0         B         N   \n",
              "44147         2055.36              0.0         A         P   \n",
              "136538        3900.00              0.0         B         S   \n",
              "8683          2500.00              0.0         B         N   \n",
              "\n",
              "        high_school_endyear state_course  ... loan_value_sem  \\\n",
              "308469                  NaN           PA  ...        4246.68   \n",
              "254040                  NaN           SP  ...       17020.23   \n",
              "44147                   NaN           MG  ...        5949.95   \n",
              "136538                  NaN           RJ  ...        3951.64   \n",
              "8683                    NaN           SP  ...       18767.78   \n",
              "\n",
              "        student_resource  loan_value  loan_limit  date_contract  \\\n",
              "308469           4246.67     84933.5    35135.56         734277   \n",
              "254040          17020.23    340404.6   158602.13         733934   \n",
              "44147               0.00     60750.0    56700.00         734324   \n",
              "136538           1317.21     52688.5    32896.98         734206   \n",
              "8683            18767.77    450426.6   190608.75         733916   \n",
              "\n",
              "        contract_phase  days_delay  total_debt  birth_year  student  \n",
              "308469     Amortizacao         682    38451.95        1986        0  \n",
              "254040     Amortizacao           0   150708.88        1982        1  \n",
              "44147      Amortizacao         682    67218.25        1990        0  \n",
              "136538     Amortizacao           0    47776.76        1988        1  \n",
              "8683       Amortizacao           0   198765.79        1987        1  \n",
              "\n",
              "[5 rows x 34 columns]"
            ]
          },
          "metadata": {
            "tags": []
          },
          "execution_count": 49
        }
      ]
    },
    {
>>>>>>> Stashed changes
      "cell_type": "markdown",
      "metadata": {
        "id": "VIJ6MzxrogIO"
      },
      "source": [
        "### Pipeline\n",
        "\n",
        "Functions that will be used to tranform our dataset"
      ]
    },
    {
      "cell_type": "code",
      "metadata": {
        "id": "lhp6LXTYogIP",
        "jupyter": {
          "source_hidden": true
        }
      },
      "source": [
        "#Imputes the medians to NA's for numeric values \n",
        "#from sklearn.impute import SimpleImputer\n",
        "\n",
        "#num_imputer = SimpleImputer(strategy=\"median\")\n",
        "#ord_imputer = SimpleImputer(strategy=\"most_frequent\")"
      ],
      "execution_count": null,
      "outputs": []
    },
    {
      "cell_type": "code",
      "metadata": {
        "id": "NjKb_CdHogIR"
      },
      "source": [
        "from sklearn.pipeline import Pipeline\n",
        "from sklearn.preprocessing import StandardScaler\n",
        "from sklearn.impute import SimpleImputer\n",
        "\n",
        "\n",
        "num_pipeline = Pipeline([\n",
        "        (\"num_imputer\", SimpleImputer(strategy=\"median\")),\n",
        "        (\"std_scaler\", StandardScaler()),\n",
        "    ])\n",
        "\n",
        "#complete_num_tr = num_pipeline.fit_transform(complete_set_num)\n"
      ],
      "execution_count": null,
      "outputs": []
    },
    {
      "cell_type": "code",
      "metadata": {
        "id": "IGJn2aCfAuXj"
      },
      "source": [
        "from sklearn.pipeline import Pipeline\n",
        "from sklearn.preprocessing import OrdinalEncoder\n",
        "\n",
        "ord_pipeline = Pipeline([\n",
        "        (\"ord_imputer\", SimpleImputer(strategy=\"most_frequent\")),\n",
        "        (\"ord_encoder\", OrdinalEncoder()),\n",
        "    ])\n",
        "\n",
        "#complete_num_tr = num_pipeline.fit_transform(complete_set_num)"
      ],
      "execution_count": null,
      "outputs": []
    },
    {
      "cell_type": "code",
      "metadata": {
        "id": "3gaCsGRFogIR"
      },
      "source": [
        "ord_attribs = ['igc','cpc','cc','date_contract']\n",
        "\n",
        "num_attribs = ['family_income',\n",
        "               'personal_income',\n",
        "               'high_school_endyear',\n",
        "               'n_sem_course',\n",
        "               'n_completed_sem',\n",
        "               'sem_funded',\n",
        "               'QT_MESES_FINANC_SEMESTRE_ATUAL',\n",
        "               'fam_size',\n",
        "               'income_pc',\n",
        "               'tuition_discounted',\n",
        "               'tuition_current',\n",
        "               'inc_prop',\n",
        "               'perc_requested',\n",
        "               'loan_value_sem',\n",
        "               'student_resource',\n",
        "               'loan_value',\n",
        "               'loan_limit',\n",
        "               'days_delay',\n",
        "               'total_debt']    \n",
        "\n",
        "cat_attribs = ['semester_enroll',\n",
        "               'gender',\n",
        "               'occupation', \n",
        "               'marital_status',\n",
        "               'ethnicity', 'public_hs', 'state_course', 'degree', 'contract_phase',\n",
        "               'birth_year'\n",
        "              ]"
      ],
      "execution_count": null,
      "outputs": []
    },
    {
      "cell_type": "code",
      "metadata": {
        "id": "jgFC9XOHAuXk"
      },
      "source": [
        "#Full pipeline\n",
        "from sklearn.compose import ColumnTransformer\n",
        "from sklearn.preprocessing import OneHotEncoder\n",
        "\n",
        "\n",
        "\n",
        "\n",
        "#num_attribs = list(complete_set_num)\n",
        "#cat_attribs = list(complete_set_cat)\n",
        "\n",
        "full_pipeline = ColumnTransformer([\n",
        "       (\"num\", num_pipeline, num_attribs),\n",
        "        (\"cat\", OneHotEncoder(), cat_attribs),\n",
        "        (\"ord\", ord_pipeline,ord_attribs)\n",
        "])"
      ],
      "execution_count": null,
      "outputs": []
    },
    {
      "cell_type": "code",
      "metadata": {
        "id": "BGEokMJdAuXl"
      },
      "source": [
        "fies_prepared = full_pipeline.fit_transform(fies)"
      ],
      "execution_count": null,
      "outputs": []
    },
    {
      "cell_type": "code",
      "metadata": {
        "colab": {
          "base_uri": "https://localhost:8080/"
        },
        "id": "TyxLL2C_ogIS",
        "outputId": "dcd0823d-b0f9-4f23-f884-37c54f3730df"
      },
      "source": [
        "fies_prepared[:1]"
      ],
      "execution_count": null,
      "outputs": [
        {
          "output_type": "execute_result",
          "data": {
            "text/plain": [
              "<1x521 sparse matrix of type '<class 'numpy.float64'>'\n",
              "\twith 32 stored elements in Compressed Sparse Row format>"
            ]
          },
          "metadata": {
            "tags": []
          },
          "execution_count": 56
        }
      ]
    },
    {
      "cell_type": "markdown",
      "metadata": {
        "id": "3CASdeLRZ_ZZ"
      },
      "source": [
        "### Binary Classifier"
      ]
    },
    {
      "cell_type": "code",
      "metadata": {
        "id": "BPh4oqOhZ_ZZ",
        "outputId": "deb985e7-c6ff-4749-e475-dcab4a040117"
      },
      "source": [
        "from sklearn.linear_model import SGDClassifier\n",
        "\n",
        "sgd_clf = SGDClassifier(max_iter=1000, tol=1e-3, random_state=42)\n",
        "sgd_clf.fit(fies_prepared, fies_labels)"
      ],
      "execution_count": null,
      "outputs": [
        {
          "output_type": "execute_result",
          "data": {
            "text/plain": [
              "SGDClassifier(random_state=42)"
            ]
          },
          "metadata": {
            "tags": []
          },
          "execution_count": 57
        }
      ]
    },
    {
      "cell_type": "code",
      "metadata": {
        "id": "LB0jFuDoZ_ZZ",
        "outputId": "101c79ac-f1e1-40e9-e842-6471d91a1f2a"
      },
      "source": [
        "from sklearn.model_selection import cross_val_score\n",
        "cross_val_score(sgd_clf, fies_prepared, fies_labels, cv=3, scoring=\"accuracy\")"
      ],
      "execution_count": null,
      "outputs": [
        {
          "output_type": "execute_result",
          "data": {
            "text/plain": [
              "array([0.93229139, 0.93878688, 0.9206773 ])"
            ]
          },
          "metadata": {
            "tags": []
          },
          "execution_count": 59
        }
      ]
    },
    {
      "cell_type": "code",
      "metadata": {
        "id": "odEFRqrlZ_ZZ"
      },
      "source": [
        ""
      ],
      "execution_count": null,
      "outputs": []
    },
    {
      "cell_type": "code",
      "metadata": {
        "id": "fQoSfCgPogIT"
      },
      "source": [
        "### 6 - Visualisation"
      ],
      "execution_count": null,
      "outputs": []
    },
    {
      "cell_type": "code",
      "metadata": {
        "id": "L3KqCTpMt8br"
      },
      "source": [
        "%matplotlib inline \n",
        "import matplotlib.pyplot as plt\n",
        "complete_set.hist(bins=50, figsize=(20,15))\n",
        "plt.show()"
      ],
      "execution_count": null,
      "outputs": []
    },
    {
      "cell_type": "code",
      "metadata": {
        "id": "xZLMqhkLogIV"
      },
      "source": [
        "%matplotlib inline\n",
        "import matplotlib as mpl\n",
        "import matplotlib.pyplot as plt\n",
        "\n",
        "complete_set.plot(kind=\"scatter\", x=\"default\", y=\"income_pc\",\n",
        "             alpha=0.2)\n",
        "plt.axis([0, 5, 0, 520000])\n",
        "plt.show()"
      ],
      "execution_count": null,
      "outputs": []
    },
    {
      "cell_type": "code",
      "metadata": {
        "colab": {
          "base_uri": "https://localhost:8080/"
        },
        "id": "OQVfPSZnftsR",
        "outputId": "4a4e49a6-6b1f-4813-93cb-d7b6ab0733ca"
      },
      "source": [
        "# Calculate correlations with target (default)\n",
        "#df_corr = pd.DataFrame(np.corrcoef(train_set))\n",
        "\n",
        "# Order by absolute value\n",
        "#df_corr.sort_values(by=['default'], ascending=False, key=pd.Series.abs)\n",
        "\n",
        "corr_matrix = complete_set_clean.corr()\n",
        "corr_matrix[\"default\"].sort_values(ascending=False, key=pd.Series.abs)"
      ],
      "execution_count": null,
      "outputs": [
        {
          "output_type": "execute_result",
          "data": {
            "text/plain": [
              "default                           1.00\n",
              "days_delay                        0.87\n",
              "n_sem_course                     -0.23\n",
              "sem_funded                       -0.20\n",
              "total_debt                       -0.18\n",
              "loan_value                       -0.18\n",
              "tuition_discounted               -0.17\n",
              "tuition_current                  -0.16\n",
              "loan_limit                       -0.16\n",
              "perc_requested                    0.14\n",
              "student_resource                 -0.14\n",
              "loan_value_sem                   -0.13\n",
              "family_income                    -0.12\n",
              "fam_size                         -0.10\n",
              "student                          -0.09\n",
              "igc                              -0.08\n",
              "cc                               -0.06\n",
              "cpc                              -0.05\n",
              "n_completed_sem                   0.05\n",
              "date_contract                    -0.04\n",
              "inc_prop                          0.03\n",
              "personal_income                  -0.01\n",
              "income_pc                        -0.01\n",
              "high_school_endyear               0.01\n",
              "QT_MESES_FINANC_SEMESTRE_ATUAL     nan\n",
              "Name: default, dtype: float64"
            ]
          },
          "metadata": {
            "tags": []
          },
          "execution_count": 109
        }
      ]
    }
  ]
}