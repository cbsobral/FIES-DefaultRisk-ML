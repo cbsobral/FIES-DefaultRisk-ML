{
  "nbformat": 4,
  "nbformat_minor": 0,
  "metadata": {
    "colab": {
      "name": "Module00_LoadingData.ipynb",
      "provenance": [],
      "collapsed_sections": [],
      "include_colab_link": true
    },
    "kernelspec": {
      "display_name": "Python 3",
      "language": "python",
      "name": "python3"
    },
    "language_info": {
      "codemirror_mode": {
        "name": "ipython",
        "version": 3
      },
      "file_extension": ".py",
      "mimetype": "text/x-python",
      "name": "python",
      "nbconvert_exporter": "python",
      "pygments_lexer": "ipython3",
      "version": "3.8.5"
    },
    "accelerator": "GPU"
  },
  "cells": [
    {
      "cell_type": "markdown",
      "metadata": {
        "id": "view-in-github",
        "colab_type": "text"
      },
      "source": [
        "<a href=\"https://colab.research.google.com/github/cbsobral/ml-fies/blob/main/Module00_LoadingData.ipynb\" target=\"_parent\"><img src=\"https://colab.research.google.com/assets/colab-badge.svg\" alt=\"Open In Colab\"/></a>"
      ]
    },
    {
      "cell_type": "markdown",
      "metadata": {
        "id": "qSSIbHD3ogH6"
      },
      "source": [
        "## Module 00 - Loading data and creating training and test sets\n",
        "\n",
        "In this first module, we perform the following steps:\n",
        "\n",
        "1. Load the data from Google Drive in two parts (the file is too big to load at once);\n",
        "2. Exclude irrelevant variables or variables with too many missing values;\n",
        "3. Rename variables in English and possibly with shorter names;\n",
        "4. Divide training and test set."
      ]
    },
    {
      "cell_type": "markdown",
      "metadata": {
        "id": "D15x3tAyogIC"
      },
      "source": [
        "### 1 - Load the data in two parts:"
      ]
    },
    {
      "cell_type": "code",
      "metadata": {
        "colab": {
          "base_uri": "https://localhost:8080/"
        },
        "id": "5AkGS1VgogID",
        "outputId": "513f8869-4b4b-4ea8-9099-e657d4d4dea8"
      },
      "source": [
        "import pandas as pd\n",
        "\n",
        "url_a = \"https://drive.google.com/file/d/1prPbFSiXFTHmTHzXTGxy4HrtRxXUHhce/view?usp=sharing\"\n",
        "path_a = \"https://drive.google.com/uc?export=download&id=\"+url_a.split(\"/\")[-2]\n",
        "base_df_a = pd.read_excel(path_a)\n",
        "base_df_a.shape"
      ],
      "execution_count": 18,
      "outputs": [
        {
          "output_type": "execute_result",
          "data": {
            "text/plain": [
              "(309999, 37)"
            ]
          },
          "metadata": {
            "tags": []
          },
          "execution_count": 18
        }
      ]
    },
    {
      "cell_type": "code",
      "metadata": {
        "colab": {
          "base_uri": "https://localhost:8080/"
        },
        "id": "hyJ2yJuqogIG",
        "outputId": "0e1fd33c-1fc4-47dc-f5c4-9ec25a2a4416"
      },
      "source": [
        "url_b = \"https://drive.google.com/file/d/1nGckSszPPifPvR3o5FeYaKArUYbfjHGn/view?usp=sharing\"\n",
        "path_b = \"https://drive.google.com/uc?export=download&id=\"+url_b.split(\"/\")[-2]\n",
        "base_df_b = pd.read_excel(path_b)\n",
        "base_df_b.shape"
      ],
      "execution_count": 19,
      "outputs": [
        {
          "output_type": "execute_result",
          "data": {
            "text/plain": [
              "(327823, 37)"
            ]
          },
          "metadata": {
            "tags": []
          },
          "execution_count": 19
        }
      ]
    },
    {
      "cell_type": "code",
      "metadata": {
        "colab": {
          "base_uri": "https://localhost:8080/"
        },
        "id": "1nhq9lgWogII",
        "outputId": "ab3bb170-8011-4858-f475-327c08e046d7"
      },
      "source": [
        "complete_set = base_df_a.append(base_df_b)\n",
        "complete_set.shape"
      ],
      "execution_count": 20,
      "outputs": [
        {
          "output_type": "execute_result",
          "data": {
            "text/plain": [
              "(637822, 37)"
            ]
          },
          "metadata": {
            "tags": []
          },
          "execution_count": 20
        }
      ]
    },
    {
      "cell_type": "markdown",
      "metadata": {
        "id": "SjnAzKW4ogIJ"
      },
      "source": [
        "### 2 - Renaming variables"
      ]
    },
    {
      "cell_type": "code",
      "metadata": {
        "colab": {
          "base_uri": "https://localhost:8080/"
        },
        "id": "gz8vy6TVogIK",
        "outputId": "8029f5c6-8020-4523-f3e3-ff41c2a01e2d"
      },
      "source": [
        "new_names ={\"NU_ANO_SEMESTRE_INSCRICAO\":\"semester_enroll\",\n",
        "            \"SG_SEXO\":\"gender\",\n",
        "            \"DS_OCUPACAO\":\"occupation\",\n",
        "            \"DS_RACA_COR\" : \"ethnicity\",\n",
        "            \"NU_ANO_CONCLUSAO_ENSINO_MEDIO\":\"high_school_endyear\",\n",
        "            \"SG_UF_CURSO\": \"state_course\",\n",
        "            \"QT_SEMESTRES_CURSO\": \"n_sem_course\",\n",
        "            \"VL_SEMESTRE_COM_DESCONTO\": \"tuition_discounted\",\n",
        "            \"NU_PERCENT_SOLICITADO_FINANC\":\"perc_requested\",\n",
        "            \"VL_FINANC_RECURSO_ALUNO\":\"student_resource\",\n",
        "            \"nu_dias_atraso\":\"days_delay\",\n",
        "            \"ANO_NASC\":\"birth_year\",\n",
        "            \"DS_ESTADO_CIVIL\":\"marital_status\", \n",
        "            \"VL_RENDA_PESSOAL_BRUTA_MENSAL\": \"personal_income\",\n",
        "            \"VL_RENDA_FAMILIAR_BRUTA_MENSAL\": \"family_income\",\n",
        "            \"ST_ENSINO_MEDIO_ESCOLA_PUBLICA\": \"public_hs\",\n",
        "            \"NO_CURSO\": \"degree\",\n",
        "            \"QT_SEMESTRE_CONCLUIDO\": \"n_completed_sem\",\n",
        "            \"VL_SEMESTRE_ATUAL\": \"tuition_current\",\n",
        "            \"VL_FINANCIADO_SEMESTRE\": \"loan_value_sem\",\n",
        "            \"fase_contrato\": \"contract_phase\",\n",
        "            \"vl_divida\": \"total_debt\",            \n",
        "            \"VL_AVALIACAO_IGC\": \"igc\",\n",
        "            \"VL_FAIXA_CPC\": \"cpc\",\n",
        "            \"VL_FAIXA_CC\": \"cc\",\n",
        "            \"QT_SEMESTRE_FINANCIAMENTO\": \"sem_funded\",\n",
        "            \"QT_MEMBRO\": \"fam_size\",\n",
        "            \"VL_RENDA_PER_CAPITA\":\"income_pc\",\n",
        "            \"NU_PERCENTUAL_COMPROMETIMENTO\":\"inc_prop\",\n",
        "            \"VL_TOTAL_FINANCIAMENTO\":\"loan_value\",\n",
        "            \"VL_LIMITE_GLOBAL\":\"loan_limit\",\n",
        "            \"dt_inicio_cont\":\"date_contract\"\n",
        "}\n",
        "\n",
        "complete_set = complete_set.rename(index=str, columns=new_names)\n",
        "#complete_set.dtypes\n",
        "print(complete_set.columns)"
      ],
      "execution_count": 21,
      "outputs": [
        {
          "output_type": "stream",
          "text": [
            "Index(['semester_enroll', 'gender', 'occupation', 'marital_status',\n",
            "       'family_income', 'personal_income', 'NO_MUNICIPIO', 'SG_UF',\n",
            "       'ethnicity', 'public_hs', 'high_school_endyear',\n",
            "       'NU_SEMESTRE_REFERENCIA', 'state_course', 'degree', 'igc', 'cpc', 'cc',\n",
            "       'n_sem_course', 'n_completed_sem', 'sem_funded',\n",
            "       'QT_MESES_FINANC_SEMESTRE_ATUAL', 'fam_size', 'income_pc',\n",
            "       'VL_SEMESTRE_SEM_DESCONTO', 'tuition_discounted', 'tuition_current',\n",
            "       'inc_prop', 'perc_requested', 'loan_value_sem', 'student_resource',\n",
            "       'loan_value', 'loan_limit', 'date_contract', 'contract_phase',\n",
            "       'days_delay', 'total_debt', 'birth_year'],\n",
            "      dtype='object')\n"
          ],
          "name": "stdout"
        }
      ]
    },
    {
      "cell_type": "code",
      "metadata": {
        "id": "HgSq5ISLvfBt"
      },
      "source": [
        "import numpy as np\n",
        "\n",
        "# Calculate values for wrong entries (larger than 300,000 reais)\n",
        "complete_set['loan_value_sem'] = np.where((complete_set.loan_value_sem > 300000), (complete_set[\"perc_requested\"]/100 * complete_set[\"tuition_current\"]), \n",
        "                                          complete_set.loan_value_sem)"
      ],
      "execution_count": 22,
      "outputs": []
    },
    {
      "cell_type": "markdown",
      "metadata": {
        "id": "rfn09CydogIL"
      },
      "source": [
        "### 3 - Cleaning Dataset"
      ]
    },
    {
      "cell_type": "code",
      "metadata": {
        "id": "O-5uSQx3tGHY"
      },
      "source": [
        "# Drop variables\n",
        "drop_var_1 = [\"NO_MUNICIPIO\",\n",
        "                     \"SG_UF\",\n",
        "                     \"VL_SEMESTRE_SEM_DESCONTO\",\n",
        "                     \"NU_SEMESTRE_REFERENCIA\",\n",
        "                     \"QT_MESES_FINANC_SEMESTRE_ATUAL\"] # adicionei aqui pq não estava sendo usada -- carol \n",
        "\n",
        "complete_set_clean = complete_set.drop(drop_var_1, axis = 1)                "
      ],
      "execution_count": 23,
      "outputs": []
    },
    {
      "cell_type": "code",
      "metadata": {
        "id": "itTdp928ogIL"
      },
      "source": [
        "import datetime as dt\n",
        "                    \n",
        "complete_set_clean[\"date_contract\"]= complete_set_clean[\"date_contract\"].map(dt.datetime.toordinal)"
      ],
      "execution_count": 24,
      "outputs": []
    },
    {
      "cell_type": "markdown",
      "metadata": {
        "id": "V66zCTtnAuXZ"
      },
      "source": [
        "\n",
        "### Bruno's variables which need special treatment"
      ]
    },
    {
      "cell_type": "code",
      "metadata": {
        "id": "mXlAR2V7AuXa",
        "colab": {
          "base_uri": "https://localhost:8080/",
          "height": 751
        },
        "outputId": "d2d4bcde-dc7d-4038-c89f-5b282c2e3770"
      },
      "source": [
        "complete_set.nlargest(20, ['family_income'])\n",
        "# na tabela abaixo, eu relaciono as 20 maiores rendas familiares do banco de dados\n",
        "# os 6 primeiros valores são outliers e os 3 primeiros parecem ser erros\n",
        "# se isso for renda familiar mensal, eu sugiro excluir valores maiores que 100,000.00, o que acham?\n",
        "\n",
        "# Diego: além desse problema em family income, temos que imputar NAs para high_school_endyear e birth_year"
      ],
      "execution_count": 25,
      "outputs": [
        {
          "output_type": "execute_result",
          "data": {
            "text/html": [
              "<div>\n",
              "<style scoped>\n",
              "    .dataframe tbody tr th:only-of-type {\n",
              "        vertical-align: middle;\n",
              "    }\n",
              "\n",
              "    .dataframe tbody tr th {\n",
              "        vertical-align: top;\n",
              "    }\n",
              "\n",
              "    .dataframe thead th {\n",
              "        text-align: right;\n",
              "    }\n",
              "</style>\n",
              "<table border=\"1\" class=\"dataframe\">\n",
              "  <thead>\n",
              "    <tr style=\"text-align: right;\">\n",
              "      <th></th>\n",
              "      <th>semester_enroll</th>\n",
              "      <th>gender</th>\n",
              "      <th>occupation</th>\n",
              "      <th>marital_status</th>\n",
              "      <th>family_income</th>\n",
              "      <th>personal_income</th>\n",
              "      <th>NO_MUNICIPIO</th>\n",
              "      <th>SG_UF</th>\n",
              "      <th>ethnicity</th>\n",
              "      <th>public_hs</th>\n",
              "      <th>high_school_endyear</th>\n",
              "      <th>NU_SEMESTRE_REFERENCIA</th>\n",
              "      <th>state_course</th>\n",
              "      <th>degree</th>\n",
              "      <th>igc</th>\n",
              "      <th>cpc</th>\n",
              "      <th>cc</th>\n",
              "      <th>n_sem_course</th>\n",
              "      <th>n_completed_sem</th>\n",
              "      <th>sem_funded</th>\n",
              "      <th>QT_MESES_FINANC_SEMESTRE_ATUAL</th>\n",
              "      <th>fam_size</th>\n",
              "      <th>income_pc</th>\n",
              "      <th>VL_SEMESTRE_SEM_DESCONTO</th>\n",
              "      <th>tuition_discounted</th>\n",
              "      <th>tuition_current</th>\n",
              "      <th>inc_prop</th>\n",
              "      <th>perc_requested</th>\n",
              "      <th>loan_value_sem</th>\n",
              "      <th>student_resource</th>\n",
              "      <th>loan_value</th>\n",
              "      <th>loan_limit</th>\n",
              "      <th>date_contract</th>\n",
              "      <th>contract_phase</th>\n",
              "      <th>days_delay</th>\n",
              "      <th>total_debt</th>\n",
              "      <th>birth_year</th>\n",
              "    </tr>\n",
              "  </thead>\n",
              "  <tbody>\n",
              "    <tr>\n",
              "      <th>237529</th>\n",
              "      <td>12009</td>\n",
              "      <td>F</td>\n",
              "      <td>Estudante</td>\n",
              "      <td>Solteiro</td>\n",
              "      <td>1600000.00</td>\n",
              "      <td>200000.0</td>\n",
              "      <td>Manaus</td>\n",
              "      <td>AM</td>\n",
              "      <td>Branco</td>\n",
              "      <td>N</td>\n",
              "      <td>NaN</td>\n",
              "      <td>12015</td>\n",
              "      <td>AM</td>\n",
              "      <td>MEDICINA</td>\n",
              "      <td>3.0</td>\n",
              "      <td>2.0</td>\n",
              "      <td>5.0</td>\n",
              "      <td>12</td>\n",
              "      <td>12</td>\n",
              "      <td>13</td>\n",
              "      <td>6</td>\n",
              "      <td>1.0</td>\n",
              "      <td>1600000.00</td>\n",
              "      <td>39000.00</td>\n",
              "      <td>39000.00</td>\n",
              "      <td>37233.48</td>\n",
              "      <td>0.00</td>\n",
              "      <td>50</td>\n",
              "      <td>18616.74</td>\n",
              "      <td>18616.74</td>\n",
              "      <td>507000.00</td>\n",
              "      <td>192093.62</td>\n",
              "      <td>2009-01-23</td>\n",
              "      <td>Amortizacao</td>\n",
              "      <td>725</td>\n",
              "      <td>231903.22</td>\n",
              "      <td>2021-01-11 00:00:00</td>\n",
              "    </tr>\n",
              "    <tr>\n",
              "      <th>312222</th>\n",
              "      <td>12009</td>\n",
              "      <td>M</td>\n",
              "      <td>Estudante</td>\n",
              "      <td>Solteiro</td>\n",
              "      <td>600000.00</td>\n",
              "      <td>0.0</td>\n",
              "      <td>Manaus</td>\n",
              "      <td>AM</td>\n",
              "      <td>Branco</td>\n",
              "      <td>N</td>\n",
              "      <td>NaN</td>\n",
              "      <td>12015</td>\n",
              "      <td>AM</td>\n",
              "      <td>MEDICINA</td>\n",
              "      <td>3.0</td>\n",
              "      <td>2.0</td>\n",
              "      <td>5.0</td>\n",
              "      <td>12</td>\n",
              "      <td>13</td>\n",
              "      <td>12</td>\n",
              "      <td>6</td>\n",
              "      <td>1.0</td>\n",
              "      <td>75000.00</td>\n",
              "      <td>20000.00</td>\n",
              "      <td>19217.28</td>\n",
              "      <td>19217.28</td>\n",
              "      <td>100.00</td>\n",
              "      <td>75</td>\n",
              "      <td>14412.96</td>\n",
              "      <td>4804.32</td>\n",
              "      <td>230607.36</td>\n",
              "      <td>190641.85</td>\n",
              "      <td>2009-01-16</td>\n",
              "      <td>Amortizacao</td>\n",
              "      <td>858</td>\n",
              "      <td>235986.65</td>\n",
              "      <td>2021-01-04 00:00:00</td>\n",
              "    </tr>\n",
              "    <tr>\n",
              "      <th>268618</th>\n",
              "      <td>12009</td>\n",
              "      <td>M</td>\n",
              "      <td>Estudante</td>\n",
              "      <td>Solteiro</td>\n",
              "      <td>399436.00</td>\n",
              "      <td>0.0</td>\n",
              "      <td>Adamantina</td>\n",
              "      <td>SP</td>\n",
              "      <td>Branco</td>\n",
              "      <td>N</td>\n",
              "      <td>NaN</td>\n",
              "      <td>12015</td>\n",
              "      <td>SP</td>\n",
              "      <td>MEDICINA</td>\n",
              "      <td>4.0</td>\n",
              "      <td>3.0</td>\n",
              "      <td>5.0</td>\n",
              "      <td>12</td>\n",
              "      <td>14</td>\n",
              "      <td>12</td>\n",
              "      <td>6</td>\n",
              "      <td>1.0</td>\n",
              "      <td>13314533.00</td>\n",
              "      <td>33300.00</td>\n",
              "      <td>32388.00</td>\n",
              "      <td>32388.00</td>\n",
              "      <td>100.00</td>\n",
              "      <td>75</td>\n",
              "      <td>24291.00</td>\n",
              "      <td>8097.00</td>\n",
              "      <td>388656.00</td>\n",
              "      <td>266085.00</td>\n",
              "      <td>2009-01-12</td>\n",
              "      <td>Amortizacao</td>\n",
              "      <td>205</td>\n",
              "      <td>327364.89</td>\n",
              "      <td>02/0</td>\n",
              "    </tr>\n",
              "    <tr>\n",
              "      <th>176034</th>\n",
              "      <td>12009</td>\n",
              "      <td>F</td>\n",
              "      <td>Estudante</td>\n",
              "      <td>Solteiro</td>\n",
              "      <td>118400.00</td>\n",
              "      <td>118400.0</td>\n",
              "      <td>Santa Maria</td>\n",
              "      <td>RS</td>\n",
              "      <td>Pardo</td>\n",
              "      <td>N</td>\n",
              "      <td>NaN</td>\n",
              "      <td>12015</td>\n",
              "      <td>RS</td>\n",
              "      <td>DIREITO</td>\n",
              "      <td>3.0</td>\n",
              "      <td>3.0</td>\n",
              "      <td>3.0</td>\n",
              "      <td>10</td>\n",
              "      <td>11</td>\n",
              "      <td>11</td>\n",
              "      <td>6</td>\n",
              "      <td>1.0</td>\n",
              "      <td>118400.00</td>\n",
              "      <td>6728.00</td>\n",
              "      <td>6485.80</td>\n",
              "      <td>5813.00</td>\n",
              "      <td>0.00</td>\n",
              "      <td>50</td>\n",
              "      <td>2906.50</td>\n",
              "      <td>2906.50</td>\n",
              "      <td>71343.80</td>\n",
              "      <td>26345.01</td>\n",
              "      <td>2009-06-24</td>\n",
              "      <td>Amortizacao</td>\n",
              "      <td>0</td>\n",
              "      <td>18294.92</td>\n",
              "      <td>2021-01-30 00:00:00</td>\n",
              "    </tr>\n",
              "    <tr>\n",
              "      <th>177330</th>\n",
              "      <td>12009</td>\n",
              "      <td>M</td>\n",
              "      <td>Estudante</td>\n",
              "      <td>Separado</td>\n",
              "      <td>70500.00</td>\n",
              "      <td>42000.0</td>\n",
              "      <td>Contagem</td>\n",
              "      <td>MG</td>\n",
              "      <td>Pardo</td>\n",
              "      <td>N</td>\n",
              "      <td>NaN</td>\n",
              "      <td>12015</td>\n",
              "      <td>MG</td>\n",
              "      <td>DIREITO</td>\n",
              "      <td>3.0</td>\n",
              "      <td>3.0</td>\n",
              "      <td>4.0</td>\n",
              "      <td>10</td>\n",
              "      <td>6</td>\n",
              "      <td>16</td>\n",
              "      <td>6</td>\n",
              "      <td>1.0</td>\n",
              "      <td>70500.00</td>\n",
              "      <td>4494.00</td>\n",
              "      <td>718.80</td>\n",
              "      <td>718.80</td>\n",
              "      <td>0.01</td>\n",
              "      <td>50</td>\n",
              "      <td>359.40</td>\n",
              "      <td>359.40</td>\n",
              "      <td>11500.80</td>\n",
              "      <td>27337.20</td>\n",
              "      <td>2009-06-19</td>\n",
              "      <td>Amortizacao</td>\n",
              "      <td>1508</td>\n",
              "      <td>12087.92</td>\n",
              "      <td>15/0</td>\n",
              "    </tr>\n",
              "    <tr>\n",
              "      <th>324201</th>\n",
              "      <td>12009</td>\n",
              "      <td>F</td>\n",
              "      <td>Estudante</td>\n",
              "      <td>Solteiro</td>\n",
              "      <td>61000.00</td>\n",
              "      <td>46000.0</td>\n",
              "      <td>Parobé</td>\n",
              "      <td>RS</td>\n",
              "      <td>Branco</td>\n",
              "      <td>N</td>\n",
              "      <td>NaN</td>\n",
              "      <td>12015</td>\n",
              "      <td>RS</td>\n",
              "      <td>ADMINISTRAÇÃO</td>\n",
              "      <td>4.0</td>\n",
              "      <td>4.0</td>\n",
              "      <td>4.0</td>\n",
              "      <td>10</td>\n",
              "      <td>11</td>\n",
              "      <td>12</td>\n",
              "      <td>6</td>\n",
              "      <td>1.0</td>\n",
              "      <td>61000.00</td>\n",
              "      <td>8424.00</td>\n",
              "      <td>3482.78</td>\n",
              "      <td>3482.78</td>\n",
              "      <td>0.00</td>\n",
              "      <td>50</td>\n",
              "      <td>1741.39</td>\n",
              "      <td>1741.39</td>\n",
              "      <td>41793.36</td>\n",
              "      <td>24834.00</td>\n",
              "      <td>2009-01-07</td>\n",
              "      <td>Amortizacao</td>\n",
              "      <td>103</td>\n",
              "      <td>26786.97</td>\n",
              "      <td>21/0</td>\n",
              "    </tr>\n",
              "    <tr>\n",
              "      <th>269241</th>\n",
              "      <td>12010</td>\n",
              "      <td>F</td>\n",
              "      <td>Estudante</td>\n",
              "      <td>Solteiro</td>\n",
              "      <td>47024.31</td>\n",
              "      <td>0.0</td>\n",
              "      <td>NaN</td>\n",
              "      <td>NaN</td>\n",
              "      <td>B</td>\n",
              "      <td>N</td>\n",
              "      <td>NaN</td>\n",
              "      <td>12015</td>\n",
              "      <td>SP</td>\n",
              "      <td>MEDICINA</td>\n",
              "      <td>4.0</td>\n",
              "      <td>3.0</td>\n",
              "      <td>5.0</td>\n",
              "      <td>12</td>\n",
              "      <td>10</td>\n",
              "      <td>12</td>\n",
              "      <td>6</td>\n",
              "      <td>5.0</td>\n",
              "      <td>9404.86</td>\n",
              "      <td>33300.00</td>\n",
              "      <td>32388.00</td>\n",
              "      <td>32388.00</td>\n",
              "      <td>40.99</td>\n",
              "      <td>70</td>\n",
              "      <td>22671.60</td>\n",
              "      <td>9716.40</td>\n",
              "      <td>388656.00</td>\n",
              "      <td>242865.00</td>\n",
              "      <td>2010-06-07</td>\n",
              "      <td>Amortizacao</td>\n",
              "      <td>0</td>\n",
              "      <td>235834.44</td>\n",
              "      <td>1985</td>\n",
              "    </tr>\n",
              "    <tr>\n",
              "      <th>277207</th>\n",
              "      <td>12012</td>\n",
              "      <td>M</td>\n",
              "      <td>Estudante</td>\n",
              "      <td>Solteiro</td>\n",
              "      <td>44621.94</td>\n",
              "      <td>0.0</td>\n",
              "      <td>NaN</td>\n",
              "      <td>NaN</td>\n",
              "      <td>P</td>\n",
              "      <td>N</td>\n",
              "      <td>4.0</td>\n",
              "      <td>12015</td>\n",
              "      <td>AM</td>\n",
              "      <td>MEDICINA</td>\n",
              "      <td>3.0</td>\n",
              "      <td>2.0</td>\n",
              "      <td>5.0</td>\n",
              "      <td>12</td>\n",
              "      <td>10</td>\n",
              "      <td>8</td>\n",
              "      <td>6</td>\n",
              "      <td>2.0</td>\n",
              "      <td>22310.97</td>\n",
              "      <td>39000.00</td>\n",
              "      <td>39000.00</td>\n",
              "      <td>39000.00</td>\n",
              "      <td>22.41</td>\n",
              "      <td>50</td>\n",
              "      <td>19500.00</td>\n",
              "      <td>19500.00</td>\n",
              "      <td>312000.00</td>\n",
              "      <td>150000.00</td>\n",
              "      <td>2012-03-23</td>\n",
              "      <td>Amortizacao</td>\n",
              "      <td>21</td>\n",
              "      <td>112918.95</td>\n",
              "      <td>1986</td>\n",
              "    </tr>\n",
              "    <tr>\n",
              "      <th>90651</th>\n",
              "      <td>22011</td>\n",
              "      <td>F</td>\n",
              "      <td>Estudante</td>\n",
              "      <td>Solteiro</td>\n",
              "      <td>43722.41</td>\n",
              "      <td>0.0</td>\n",
              "      <td>NaN</td>\n",
              "      <td>NaN</td>\n",
              "      <td>B</td>\n",
              "      <td>N</td>\n",
              "      <td>9.0</td>\n",
              "      <td>12015</td>\n",
              "      <td>SP</td>\n",
              "      <td>MEDICINA</td>\n",
              "      <td>3.0</td>\n",
              "      <td>3.0</td>\n",
              "      <td>5.0</td>\n",
              "      <td>12</td>\n",
              "      <td>8</td>\n",
              "      <td>11</td>\n",
              "      <td>6</td>\n",
              "      <td>7.0</td>\n",
              "      <td>6246.06</td>\n",
              "      <td>37535.55</td>\n",
              "      <td>37535.55</td>\n",
              "      <td>37535.55</td>\n",
              "      <td>72.22</td>\n",
              "      <td>100</td>\n",
              "      <td>37535.55</td>\n",
              "      <td>0.00</td>\n",
              "      <td>412891.05</td>\n",
              "      <td>372161.63</td>\n",
              "      <td>2011-08-19</td>\n",
              "      <td>Amortizacao</td>\n",
              "      <td>0</td>\n",
              "      <td>396477.54</td>\n",
              "      <td>1991</td>\n",
              "    </tr>\n",
              "    <tr>\n",
              "      <th>233453</th>\n",
              "      <td>12011</td>\n",
              "      <td>M</td>\n",
              "      <td>Estudante</td>\n",
              "      <td>Solteiro</td>\n",
              "      <td>43489.75</td>\n",
              "      <td>0.0</td>\n",
              "      <td>NaN</td>\n",
              "      <td>NaN</td>\n",
              "      <td>B</td>\n",
              "      <td>N</td>\n",
              "      <td>NaN</td>\n",
              "      <td>12015</td>\n",
              "      <td>MS</td>\n",
              "      <td>MEDICINA</td>\n",
              "      <td>3.0</td>\n",
              "      <td>4.0</td>\n",
              "      <td>NaN</td>\n",
              "      <td>12</td>\n",
              "      <td>8</td>\n",
              "      <td>12</td>\n",
              "      <td>6</td>\n",
              "      <td>4.0</td>\n",
              "      <td>10872.44</td>\n",
              "      <td>33789.30</td>\n",
              "      <td>32861.64</td>\n",
              "      <td>32861.64</td>\n",
              "      <td>37.79</td>\n",
              "      <td>50</td>\n",
              "      <td>16430.82</td>\n",
              "      <td>16430.82</td>\n",
              "      <td>394339.68</td>\n",
              "      <td>184905.00</td>\n",
              "      <td>2011-03-04</td>\n",
              "      <td>Amortizacao</td>\n",
              "      <td>0</td>\n",
              "      <td>196005.41</td>\n",
              "      <td>1991</td>\n",
              "    </tr>\n",
              "    <tr>\n",
              "      <th>968</th>\n",
              "      <td>22011</td>\n",
              "      <td>F</td>\n",
              "      <td>Estudante</td>\n",
              "      <td>Solteiro</td>\n",
              "      <td>39783.40</td>\n",
              "      <td>0.0</td>\n",
              "      <td>NaN</td>\n",
              "      <td>NaN</td>\n",
              "      <td>B</td>\n",
              "      <td>S</td>\n",
              "      <td>8.0</td>\n",
              "      <td>12015</td>\n",
              "      <td>MG</td>\n",
              "      <td>MEDICINA</td>\n",
              "      <td>3.0</td>\n",
              "      <td>2.0</td>\n",
              "      <td>NaN</td>\n",
              "      <td>12</td>\n",
              "      <td>7</td>\n",
              "      <td>12</td>\n",
              "      <td>6</td>\n",
              "      <td>5.0</td>\n",
              "      <td>7956.68</td>\n",
              "      <td>30651.44</td>\n",
              "      <td>30005.69</td>\n",
              "      <td>30005.69</td>\n",
              "      <td>48.03</td>\n",
              "      <td>75</td>\n",
              "      <td>22504.27</td>\n",
              "      <td>7501.42</td>\n",
              "      <td>360068.28</td>\n",
              "      <td>257946.53</td>\n",
              "      <td>2011-08-18</td>\n",
              "      <td>Amortizacao</td>\n",
              "      <td>11</td>\n",
              "      <td>290190.18</td>\n",
              "      <td>1991</td>\n",
              "    </tr>\n",
              "    <tr>\n",
              "      <th>323917</th>\n",
              "      <td>12011</td>\n",
              "      <td>F</td>\n",
              "      <td>Professor do ensino superior</td>\n",
              "      <td>Solteiro</td>\n",
              "      <td>38718.61</td>\n",
              "      <td>17439.4</td>\n",
              "      <td>NaN</td>\n",
              "      <td>NaN</td>\n",
              "      <td>A</td>\n",
              "      <td>N</td>\n",
              "      <td>NaN</td>\n",
              "      <td>12015</td>\n",
              "      <td>SP</td>\n",
              "      <td>MEDICINA</td>\n",
              "      <td>4.0</td>\n",
              "      <td>4.0</td>\n",
              "      <td>4.0</td>\n",
              "      <td>12</td>\n",
              "      <td>8</td>\n",
              "      <td>12</td>\n",
              "      <td>6</td>\n",
              "      <td>2.0</td>\n",
              "      <td>12906.20</td>\n",
              "      <td>41154.00</td>\n",
              "      <td>36762.00</td>\n",
              "      <td>36762.00</td>\n",
              "      <td>29.15</td>\n",
              "      <td>50</td>\n",
              "      <td>18381.00</td>\n",
              "      <td>18381.00</td>\n",
              "      <td>441144.00</td>\n",
              "      <td>169290.00</td>\n",
              "      <td>2011-06-22</td>\n",
              "      <td>Amortizacao</td>\n",
              "      <td>0</td>\n",
              "      <td>190678.97</td>\n",
              "      <td>1953</td>\n",
              "    </tr>\n",
              "    <tr>\n",
              "      <th>171884</th>\n",
              "      <td>12011</td>\n",
              "      <td>F</td>\n",
              "      <td>Estudante</td>\n",
              "      <td>Solteiro</td>\n",
              "      <td>38508.84</td>\n",
              "      <td>0.0</td>\n",
              "      <td>NaN</td>\n",
              "      <td>NaN</td>\n",
              "      <td>B</td>\n",
              "      <td>N</td>\n",
              "      <td>NaN</td>\n",
              "      <td>12015</td>\n",
              "      <td>RJ</td>\n",
              "      <td>MEDICINA</td>\n",
              "      <td>3.0</td>\n",
              "      <td>3.0</td>\n",
              "      <td>3.0</td>\n",
              "      <td>12</td>\n",
              "      <td>8</td>\n",
              "      <td>12</td>\n",
              "      <td>6</td>\n",
              "      <td>4.0</td>\n",
              "      <td>9627.21</td>\n",
              "      <td>29993.82</td>\n",
              "      <td>29993.82</td>\n",
              "      <td>29993.82</td>\n",
              "      <td>35.73</td>\n",
              "      <td>50</td>\n",
              "      <td>14996.91</td>\n",
              "      <td>14996.91</td>\n",
              "      <td>359925.84</td>\n",
              "      <td>154777.50</td>\n",
              "      <td>2011-06-28</td>\n",
              "      <td>Amortizacao</td>\n",
              "      <td>0</td>\n",
              "      <td>164313.88</td>\n",
              "      <td>1992</td>\n",
              "    </tr>\n",
              "    <tr>\n",
              "      <th>308539</th>\n",
              "      <td>12011</td>\n",
              "      <td>M</td>\n",
              "      <td>Estudante</td>\n",
              "      <td>Solteiro</td>\n",
              "      <td>38437.31</td>\n",
              "      <td>0.0</td>\n",
              "      <td>NaN</td>\n",
              "      <td>NaN</td>\n",
              "      <td>P</td>\n",
              "      <td>N</td>\n",
              "      <td>NaN</td>\n",
              "      <td>12015</td>\n",
              "      <td>SP</td>\n",
              "      <td>MEDICINA</td>\n",
              "      <td>4.0</td>\n",
              "      <td>3.0</td>\n",
              "      <td>4.0</td>\n",
              "      <td>12</td>\n",
              "      <td>8</td>\n",
              "      <td>12</td>\n",
              "      <td>6</td>\n",
              "      <td>5.0</td>\n",
              "      <td>7687.46</td>\n",
              "      <td>31715.88</td>\n",
              "      <td>30764.40</td>\n",
              "      <td>30764.40</td>\n",
              "      <td>47.73</td>\n",
              "      <td>75</td>\n",
              "      <td>23073.30</td>\n",
              "      <td>7691.10</td>\n",
              "      <td>369172.80</td>\n",
              "      <td>247691.93</td>\n",
              "      <td>2011-04-25</td>\n",
              "      <td>Amortizacao</td>\n",
              "      <td>0</td>\n",
              "      <td>259514.71</td>\n",
              "      <td>1988</td>\n",
              "    </tr>\n",
              "    <tr>\n",
              "      <th>153780</th>\n",
              "      <td>22010</td>\n",
              "      <td>F</td>\n",
              "      <td>Estudante</td>\n",
              "      <td>Solteiro</td>\n",
              "      <td>38105.18</td>\n",
              "      <td>0.0</td>\n",
              "      <td>NaN</td>\n",
              "      <td>NaN</td>\n",
              "      <td>B</td>\n",
              "      <td>N</td>\n",
              "      <td>NaN</td>\n",
              "      <td>12015</td>\n",
              "      <td>RJ</td>\n",
              "      <td>MEDICINA</td>\n",
              "      <td>3.0</td>\n",
              "      <td>3.0</td>\n",
              "      <td>3.0</td>\n",
              "      <td>12</td>\n",
              "      <td>10</td>\n",
              "      <td>11</td>\n",
              "      <td>6</td>\n",
              "      <td>4.0</td>\n",
              "      <td>9526.30</td>\n",
              "      <td>27945.32</td>\n",
              "      <td>27945.32</td>\n",
              "      <td>27945.32</td>\n",
              "      <td>32.22</td>\n",
              "      <td>50</td>\n",
              "      <td>13972.66</td>\n",
              "      <td>13972.66</td>\n",
              "      <td>307398.52</td>\n",
              "      <td>126592.54</td>\n",
              "      <td>2010-09-13</td>\n",
              "      <td>Amortizacao</td>\n",
              "      <td>0</td>\n",
              "      <td>127888.05</td>\n",
              "      <td>1991</td>\n",
              "    </tr>\n",
              "    <tr>\n",
              "      <th>81957</th>\n",
              "      <td>22011</td>\n",
              "      <td>M</td>\n",
              "      <td>Estudante</td>\n",
              "      <td>Solteiro</td>\n",
              "      <td>37833.40</td>\n",
              "      <td>0.0</td>\n",
              "      <td>NaN</td>\n",
              "      <td>NaN</td>\n",
              "      <td>B</td>\n",
              "      <td>N</td>\n",
              "      <td>9.0</td>\n",
              "      <td>12015</td>\n",
              "      <td>MG</td>\n",
              "      <td>MEDICINA</td>\n",
              "      <td>3.0</td>\n",
              "      <td>4.0</td>\n",
              "      <td>4.0</td>\n",
              "      <td>12</td>\n",
              "      <td>9</td>\n",
              "      <td>10</td>\n",
              "      <td>6</td>\n",
              "      <td>3.0</td>\n",
              "      <td>12611.13</td>\n",
              "      <td>55275.45</td>\n",
              "      <td>39000.00</td>\n",
              "      <td>16779.08</td>\n",
              "      <td>20.56</td>\n",
              "      <td>50</td>\n",
              "      <td>8389.54</td>\n",
              "      <td>8389.54</td>\n",
              "      <td>390000.00</td>\n",
              "      <td>97249.88</td>\n",
              "      <td>2011-11-23</td>\n",
              "      <td>Amortizacao</td>\n",
              "      <td>0</td>\n",
              "      <td>105095.51</td>\n",
              "      <td>1991</td>\n",
              "    </tr>\n",
              "    <tr>\n",
              "      <th>46885</th>\n",
              "      <td>12012</td>\n",
              "      <td>M</td>\n",
              "      <td>Estudante</td>\n",
              "      <td>Solteiro</td>\n",
              "      <td>37600.00</td>\n",
              "      <td>0.0</td>\n",
              "      <td>NaN</td>\n",
              "      <td>NaN</td>\n",
              "      <td>B</td>\n",
              "      <td>N</td>\n",
              "      <td>10.0</td>\n",
              "      <td>12015</td>\n",
              "      <td>SP</td>\n",
              "      <td>MEDICINA</td>\n",
              "      <td>3.0</td>\n",
              "      <td>3.0</td>\n",
              "      <td>5.0</td>\n",
              "      <td>12</td>\n",
              "      <td>8</td>\n",
              "      <td>10</td>\n",
              "      <td>6</td>\n",
              "      <td>5.0</td>\n",
              "      <td>7520.00</td>\n",
              "      <td>37535.55</td>\n",
              "      <td>37535.55</td>\n",
              "      <td>37535.55</td>\n",
              "      <td>63.89</td>\n",
              "      <td>100</td>\n",
              "      <td>37535.55</td>\n",
              "      <td>0.00</td>\n",
              "      <td>375355.50</td>\n",
              "      <td>360320.25</td>\n",
              "      <td>2012-02-03</td>\n",
              "      <td>Amortizacao</td>\n",
              "      <td>0</td>\n",
              "      <td>360534.35</td>\n",
              "      <td>1992</td>\n",
              "    </tr>\n",
              "    <tr>\n",
              "      <th>81261</th>\n",
              "      <td>12012</td>\n",
              "      <td>M</td>\n",
              "      <td>Estudante</td>\n",
              "      <td>Casado</td>\n",
              "      <td>37251.20</td>\n",
              "      <td>0.0</td>\n",
              "      <td>NaN</td>\n",
              "      <td>NaN</td>\n",
              "      <td>B</td>\n",
              "      <td>N</td>\n",
              "      <td>8.0</td>\n",
              "      <td>12015</td>\n",
              "      <td>SP</td>\n",
              "      <td>MEDICINA</td>\n",
              "      <td>4.0</td>\n",
              "      <td>4.0</td>\n",
              "      <td>4.0</td>\n",
              "      <td>12</td>\n",
              "      <td>6</td>\n",
              "      <td>12</td>\n",
              "      <td>6</td>\n",
              "      <td>6.0</td>\n",
              "      <td>6208.53</td>\n",
              "      <td>28020.00</td>\n",
              "      <td>27870.00</td>\n",
              "      <td>27870.00</td>\n",
              "      <td>66.89</td>\n",
              "      <td>75</td>\n",
              "      <td>20902.50</td>\n",
              "      <td>6967.50</td>\n",
              "      <td>334440.00</td>\n",
              "      <td>280327.50</td>\n",
              "      <td>2012-02-15</td>\n",
              "      <td>Amortizacao</td>\n",
              "      <td>0</td>\n",
              "      <td>277732.90</td>\n",
              "      <td>1991</td>\n",
              "    </tr>\n",
              "    <tr>\n",
              "      <th>86385</th>\n",
              "      <td>12010</td>\n",
              "      <td>F</td>\n",
              "      <td>Estudante</td>\n",
              "      <td>Solteiro</td>\n",
              "      <td>37000.00</td>\n",
              "      <td>0.0</td>\n",
              "      <td>NaN</td>\n",
              "      <td>NaN</td>\n",
              "      <td>B</td>\n",
              "      <td>N</td>\n",
              "      <td>NaN</td>\n",
              "      <td>12015</td>\n",
              "      <td>SP</td>\n",
              "      <td>MEDICINA</td>\n",
              "      <td>4.0</td>\n",
              "      <td>3.0</td>\n",
              "      <td>4.0</td>\n",
              "      <td>12</td>\n",
              "      <td>10</td>\n",
              "      <td>12</td>\n",
              "      <td>6</td>\n",
              "      <td>5.0</td>\n",
              "      <td>7400.00</td>\n",
              "      <td>24924.72</td>\n",
              "      <td>24177.00</td>\n",
              "      <td>24177.00</td>\n",
              "      <td>46.69</td>\n",
              "      <td>70</td>\n",
              "      <td>16923.90</td>\n",
              "      <td>7253.10</td>\n",
              "      <td>290124.00</td>\n",
              "      <td>217665.00</td>\n",
              "      <td>2010-06-04</td>\n",
              "      <td>Amortizacao</td>\n",
              "      <td>0</td>\n",
              "      <td>214213.41</td>\n",
              "      <td>1992</td>\n",
              "    </tr>\n",
              "    <tr>\n",
              "      <th>119548</th>\n",
              "      <td>12012</td>\n",
              "      <td>M</td>\n",
              "      <td>Estudante</td>\n",
              "      <td>Solteiro</td>\n",
              "      <td>36271.13</td>\n",
              "      <td>0.0</td>\n",
              "      <td>NaN</td>\n",
              "      <td>NaN</td>\n",
              "      <td>B</td>\n",
              "      <td>N</td>\n",
              "      <td>9.0</td>\n",
              "      <td>12015</td>\n",
              "      <td>SP</td>\n",
              "      <td>MEDICINA</td>\n",
              "      <td>3.0</td>\n",
              "      <td>3.0</td>\n",
              "      <td>4.0</td>\n",
              "      <td>12</td>\n",
              "      <td>7</td>\n",
              "      <td>11</td>\n",
              "      <td>6</td>\n",
              "      <td>5.0</td>\n",
              "      <td>7254.23</td>\n",
              "      <td>35660.88</td>\n",
              "      <td>33013.83</td>\n",
              "      <td>33013.83</td>\n",
              "      <td>65.24</td>\n",
              "      <td>100</td>\n",
              "      <td>33013.83</td>\n",
              "      <td>0.00</td>\n",
              "      <td>363152.13</td>\n",
              "      <td>411685.42</td>\n",
              "      <td>2012-03-02</td>\n",
              "      <td>Amortizacao</td>\n",
              "      <td>21</td>\n",
              "      <td>177146.74</td>\n",
              "      <td>1993</td>\n",
              "    </tr>\n",
              "  </tbody>\n",
              "</table>\n",
              "</div>"
            ],
            "text/plain": [
              "        semester_enroll gender  ... total_debt           birth_year\n",
              "237529            12009      F  ...  231903.22  2021-01-11 00:00:00\n",
              "312222            12009      M  ...  235986.65  2021-01-04 00:00:00\n",
              "268618            12009      M  ...  327364.89                 02/0\n",
              "176034            12009      F  ...   18294.92  2021-01-30 00:00:00\n",
              "177330            12009      M  ...   12087.92                 15/0\n",
              "324201            12009      F  ...   26786.97                 21/0\n",
              "269241            12010      F  ...  235834.44                 1985\n",
              "277207            12012      M  ...  112918.95                 1986\n",
              "90651             22011      F  ...  396477.54                 1991\n",
              "233453            12011      M  ...  196005.41                 1991\n",
              "968               22011      F  ...  290190.18                 1991\n",
              "323917            12011      F  ...  190678.97                 1953\n",
              "171884            12011      F  ...  164313.88                 1992\n",
              "308539            12011      M  ...  259514.71                 1988\n",
              "153780            22010      F  ...  127888.05                 1991\n",
              "81957             22011      M  ...  105095.51                 1991\n",
              "46885             12012      M  ...  360534.35                 1992\n",
              "81261             12012      M  ...  277732.90                 1991\n",
              "86385             12010      F  ...  214213.41                 1992\n",
              "119548            12012      M  ...  177146.74                 1993\n",
              "\n",
              "[20 rows x 37 columns]"
            ]
          },
          "metadata": {
            "tags": []
          },
          "execution_count": 25
        }
      ]
    },
    {
      "cell_type": "markdown",
      "metadata": {
        "id": "7Kcob9Y0ogIM"
      },
      "source": [
        "Some variables are better interprerted as categories."
      ]
    },
    {
      "cell_type": "code",
      "metadata": {
        "colab": {
          "base_uri": "https://localhost:8080/",
          "height": 583
        },
        "id": "OQVfPSZnftsR",
        "outputId": "6064562e-e341-4fd0-a064-d925df2ed259"
      },
      "source": [
        "# Calculate correlations with target (default)\n",
        "corr_matrix = complete_set_clean.corr()\n",
        "corr_matrix[\"default\"].sort_values(ascending=False, key=pd.Series.abs)"
      ],
      "execution_count": 26,
      "outputs": [
        {
          "output_type": "error",
          "ename": "KeyError",
          "evalue": "ignored",
          "traceback": [
            "\u001b[0;31m---------------------------------------------------------------------------\u001b[0m",
            "\u001b[0;31mKeyError\u001b[0m                                  Traceback (most recent call last)",
            "\u001b[0;32m/usr/local/lib/python3.7/dist-packages/pandas/core/indexes/base.py\u001b[0m in \u001b[0;36mget_loc\u001b[0;34m(self, key, method, tolerance)\u001b[0m\n\u001b[1;32m   2897\u001b[0m             \u001b[0;32mtry\u001b[0m\u001b[0;34m:\u001b[0m\u001b[0;34m\u001b[0m\u001b[0;34m\u001b[0m\u001b[0m\n\u001b[0;32m-> 2898\u001b[0;31m                 \u001b[0;32mreturn\u001b[0m \u001b[0mself\u001b[0m\u001b[0;34m.\u001b[0m\u001b[0m_engine\u001b[0m\u001b[0;34m.\u001b[0m\u001b[0mget_loc\u001b[0m\u001b[0;34m(\u001b[0m\u001b[0mcasted_key\u001b[0m\u001b[0;34m)\u001b[0m\u001b[0;34m\u001b[0m\u001b[0;34m\u001b[0m\u001b[0m\n\u001b[0m\u001b[1;32m   2899\u001b[0m             \u001b[0;32mexcept\u001b[0m \u001b[0mKeyError\u001b[0m \u001b[0;32mas\u001b[0m \u001b[0merr\u001b[0m\u001b[0;34m:\u001b[0m\u001b[0;34m\u001b[0m\u001b[0;34m\u001b[0m\u001b[0m\n",
            "\u001b[0;32mpandas/_libs/index.pyx\u001b[0m in \u001b[0;36mpandas._libs.index.IndexEngine.get_loc\u001b[0;34m()\u001b[0m\n",
            "\u001b[0;32mpandas/_libs/index.pyx\u001b[0m in \u001b[0;36mpandas._libs.index.IndexEngine.get_loc\u001b[0;34m()\u001b[0m\n",
            "\u001b[0;32mpandas/_libs/hashtable_class_helper.pxi\u001b[0m in \u001b[0;36mpandas._libs.hashtable.PyObjectHashTable.get_item\u001b[0;34m()\u001b[0m\n",
            "\u001b[0;32mpandas/_libs/hashtable_class_helper.pxi\u001b[0m in \u001b[0;36mpandas._libs.hashtable.PyObjectHashTable.get_item\u001b[0;34m()\u001b[0m\n",
            "\u001b[0;31mKeyError\u001b[0m: 'default'",
            "\nThe above exception was the direct cause of the following exception:\n",
            "\u001b[0;31mKeyError\u001b[0m                                  Traceback (most recent call last)",
            "\u001b[0;32m<ipython-input-26-015856e2585d>\u001b[0m in \u001b[0;36m<module>\u001b[0;34m()\u001b[0m\n\u001b[1;32m      1\u001b[0m \u001b[0;31m# Calculate correlations with target (default)\u001b[0m\u001b[0;34m\u001b[0m\u001b[0;34m\u001b[0m\u001b[0;34m\u001b[0m\u001b[0m\n\u001b[1;32m      2\u001b[0m \u001b[0mcorr_matrix\u001b[0m \u001b[0;34m=\u001b[0m \u001b[0mcomplete_set_clean\u001b[0m\u001b[0;34m.\u001b[0m\u001b[0mcorr\u001b[0m\u001b[0;34m(\u001b[0m\u001b[0;34m)\u001b[0m\u001b[0;34m\u001b[0m\u001b[0;34m\u001b[0m\u001b[0m\n\u001b[0;32m----> 3\u001b[0;31m \u001b[0mcorr_matrix\u001b[0m\u001b[0;34m[\u001b[0m\u001b[0;34m\"default\"\u001b[0m\u001b[0;34m]\u001b[0m\u001b[0;34m.\u001b[0m\u001b[0msort_values\u001b[0m\u001b[0;34m(\u001b[0m\u001b[0mascending\u001b[0m\u001b[0;34m=\u001b[0m\u001b[0;32mFalse\u001b[0m\u001b[0;34m,\u001b[0m \u001b[0mkey\u001b[0m\u001b[0;34m=\u001b[0m\u001b[0mpd\u001b[0m\u001b[0;34m.\u001b[0m\u001b[0mSeries\u001b[0m\u001b[0;34m.\u001b[0m\u001b[0mabs\u001b[0m\u001b[0;34m)\u001b[0m\u001b[0;34m\u001b[0m\u001b[0;34m\u001b[0m\u001b[0m\n\u001b[0m",
            "\u001b[0;32m/usr/local/lib/python3.7/dist-packages/pandas/core/frame.py\u001b[0m in \u001b[0;36m__getitem__\u001b[0;34m(self, key)\u001b[0m\n\u001b[1;32m   2904\u001b[0m             \u001b[0;32mif\u001b[0m \u001b[0mself\u001b[0m\u001b[0;34m.\u001b[0m\u001b[0mcolumns\u001b[0m\u001b[0;34m.\u001b[0m\u001b[0mnlevels\u001b[0m \u001b[0;34m>\u001b[0m \u001b[0;36m1\u001b[0m\u001b[0;34m:\u001b[0m\u001b[0;34m\u001b[0m\u001b[0;34m\u001b[0m\u001b[0m\n\u001b[1;32m   2905\u001b[0m                 \u001b[0;32mreturn\u001b[0m \u001b[0mself\u001b[0m\u001b[0;34m.\u001b[0m\u001b[0m_getitem_multilevel\u001b[0m\u001b[0;34m(\u001b[0m\u001b[0mkey\u001b[0m\u001b[0;34m)\u001b[0m\u001b[0;34m\u001b[0m\u001b[0;34m\u001b[0m\u001b[0m\n\u001b[0;32m-> 2906\u001b[0;31m             \u001b[0mindexer\u001b[0m \u001b[0;34m=\u001b[0m \u001b[0mself\u001b[0m\u001b[0;34m.\u001b[0m\u001b[0mcolumns\u001b[0m\u001b[0;34m.\u001b[0m\u001b[0mget_loc\u001b[0m\u001b[0;34m(\u001b[0m\u001b[0mkey\u001b[0m\u001b[0;34m)\u001b[0m\u001b[0;34m\u001b[0m\u001b[0;34m\u001b[0m\u001b[0m\n\u001b[0m\u001b[1;32m   2907\u001b[0m             \u001b[0;32mif\u001b[0m \u001b[0mis_integer\u001b[0m\u001b[0;34m(\u001b[0m\u001b[0mindexer\u001b[0m\u001b[0;34m)\u001b[0m\u001b[0;34m:\u001b[0m\u001b[0;34m\u001b[0m\u001b[0;34m\u001b[0m\u001b[0m\n\u001b[1;32m   2908\u001b[0m                 \u001b[0mindexer\u001b[0m \u001b[0;34m=\u001b[0m \u001b[0;34m[\u001b[0m\u001b[0mindexer\u001b[0m\u001b[0;34m]\u001b[0m\u001b[0;34m\u001b[0m\u001b[0;34m\u001b[0m\u001b[0m\n",
            "\u001b[0;32m/usr/local/lib/python3.7/dist-packages/pandas/core/indexes/base.py\u001b[0m in \u001b[0;36mget_loc\u001b[0;34m(self, key, method, tolerance)\u001b[0m\n\u001b[1;32m   2898\u001b[0m                 \u001b[0;32mreturn\u001b[0m \u001b[0mself\u001b[0m\u001b[0;34m.\u001b[0m\u001b[0m_engine\u001b[0m\u001b[0;34m.\u001b[0m\u001b[0mget_loc\u001b[0m\u001b[0;34m(\u001b[0m\u001b[0mcasted_key\u001b[0m\u001b[0;34m)\u001b[0m\u001b[0;34m\u001b[0m\u001b[0;34m\u001b[0m\u001b[0m\n\u001b[1;32m   2899\u001b[0m             \u001b[0;32mexcept\u001b[0m \u001b[0mKeyError\u001b[0m \u001b[0;32mas\u001b[0m \u001b[0merr\u001b[0m\u001b[0;34m:\u001b[0m\u001b[0;34m\u001b[0m\u001b[0;34m\u001b[0m\u001b[0m\n\u001b[0;32m-> 2900\u001b[0;31m                 \u001b[0;32mraise\u001b[0m \u001b[0mKeyError\u001b[0m\u001b[0;34m(\u001b[0m\u001b[0mkey\u001b[0m\u001b[0;34m)\u001b[0m \u001b[0;32mfrom\u001b[0m \u001b[0merr\u001b[0m\u001b[0;34m\u001b[0m\u001b[0;34m\u001b[0m\u001b[0m\n\u001b[0m\u001b[1;32m   2901\u001b[0m \u001b[0;34m\u001b[0m\u001b[0m\n\u001b[1;32m   2902\u001b[0m         \u001b[0;32mif\u001b[0m \u001b[0mtolerance\u001b[0m \u001b[0;32mis\u001b[0m \u001b[0;32mnot\u001b[0m \u001b[0;32mNone\u001b[0m\u001b[0;34m:\u001b[0m\u001b[0;34m\u001b[0m\u001b[0;34m\u001b[0m\u001b[0m\n",
            "\u001b[0;31mKeyError\u001b[0m: 'default'"
          ]
        }
      ]
    },
    {
      "cell_type": "markdown",
      "metadata": {
        "id": "l3sKb1nWogIM"
      },
      "source": [
        "### 4 - Add atributes"
      ]
    },
    {
      "cell_type": "markdown",
      "metadata": {
        "id": "yv-XDRCDAuXb"
      },
      "source": [
        "Adds a columns for a dummy that defines if the main occupation is student. An another one to define if the delay in repayment is more than one year (365 days)"
      ]
    },
    {
      "cell_type": "code",
      "metadata": {
        "id": "-0wC7L7dogIM"
      },
      "source": [
        "#Recode ocupacao\n",
        "complete_set_clean=complete_set_clean.assign(student=1*(complete_set[\"occupation\"]==\"Estudante\"))\n",
        "complete_set_clean=complete_set_clean.assign(default=1*(complete_set[\"days_delay\"]>=365))"
      ],
      "execution_count": 27,
      "outputs": []
    },
    {
      "cell_type": "markdown",
      "metadata": {
        "id": "bJVOljkGogIT"
      },
      "source": [
        "### 5 - Cleaning Data "
      ]
    },
    {
      "cell_type": "code",
      "metadata": {
        "id": "X3smpA04ogIN"
      },
      "source": [
        "#Here are the columns we want to drop NA's and not treat like using median, or something else\n",
        "complete_set_clean = complete_set_clean.dropna(subset=[\"semester_enroll\",\n",
        "                                                       \"gender\",\n",
        "                                                       \"occupation\",\n",
        "                                                       \"marital_status\",\n",
        "                                                       \"ethnicity\",\n",
        "                                                       \"public_hs\",\n",
        "                                                       \"state_course\",\n",
        "                                                       \"degree\",\n",
        "                                                       \"igc\",\"cpc\",\"cc\",\n",
        "                                                       \"contract_phase\",\n",
        "                                                       \"birth_year\",\n",
        "                                                       \"high_school_endyear\"])"
      ],
      "execution_count": 28,
      "outputs": []
    },
    {
      "cell_type": "code",
      "metadata": {
        "id": "_Zf3ApfLogIM"
      },
      "source": [
        "#Birth year has to be corrected in the excel file\n",
        "complete_set_clean = complete_set_clean.astype({\"semester_enroll\":str,\n",
        "                                                \"igc\":'int64',\"cpc\":'int64',\"cc\":'int64',\n",
        "                                               \"birth_year\":str\n",
        "                                               })"
      ],
      "execution_count": 29,
      "outputs": []
    },
    {
      "cell_type": "code",
      "metadata": {
        "id": "Eyohg-mRogIO"
      },
      "source": [
        "#Get only categorical\n",
        "complete_set_cat = complete_set_clean.select_dtypes(include=[\"object\"])"
      ],
      "execution_count": 30,
      "outputs": []
    },
    {
      "cell_type": "code",
      "metadata": {
        "colab": {
          "base_uri": "https://localhost:8080/",
          "height": 33
        },
        "id": "HG2glx04pZry",
        "outputId": "aaa6bc76-2a2d-465e-a827-14214f579996"
      },
      "source": [
        "# Download Clean Set\n",
        "from google.colab import files\n",
        "complete_set_clean.to_csv('complete_set_clean.csv') \n",
        "files.download('complete_set_clean.csv')"
      ],
      "execution_count": 31,
      "outputs": [
        {
          "output_type": "display_data",
          "data": {
            "application/javascript": [
              "\n",
              "    async function download(id, filename, size) {\n",
              "      if (!google.colab.kernel.accessAllowed) {\n",
              "        return;\n",
              "      }\n",
              "      const div = document.createElement('div');\n",
              "      const label = document.createElement('label');\n",
              "      label.textContent = `Downloading \"${filename}\": `;\n",
              "      div.appendChild(label);\n",
              "      const progress = document.createElement('progress');\n",
              "      progress.max = size;\n",
              "      div.appendChild(progress);\n",
              "      document.body.appendChild(div);\n",
              "\n",
              "      const buffers = [];\n",
              "      let downloaded = 0;\n",
              "\n",
              "      const channel = await google.colab.kernel.comms.open(id);\n",
              "      // Send a message to notify the kernel that we're ready.\n",
              "      channel.send({})\n",
              "\n",
              "      for await (const message of channel.messages) {\n",
              "        // Send a message to notify the kernel that we're ready.\n",
              "        channel.send({})\n",
              "        if (message.buffers) {\n",
              "          for (const buffer of message.buffers) {\n",
              "            buffers.push(buffer);\n",
              "            downloaded += buffer.byteLength;\n",
              "            progress.value = downloaded;\n",
              "          }\n",
              "        }\n",
              "      }\n",
              "      const blob = new Blob(buffers, {type: 'application/binary'});\n",
              "      const a = document.createElement('a');\n",
              "      a.href = window.URL.createObjectURL(blob);\n",
              "      a.download = filename;\n",
              "      div.appendChild(a);\n",
              "      a.click();\n",
              "      div.remove();\n",
              "    }\n",
              "  "
            ],
            "text/plain": [
              "<IPython.core.display.Javascript object>"
            ]
          },
          "metadata": {
            "tags": []
          }
        },
        {
          "output_type": "display_data",
          "data": {
            "application/javascript": [
              "download(\"download_54c42ace-f316-40fe-ae6e-81175a823a48\", \"complete_set_clean.csv\", 75486415)"
            ],
            "text/plain": [
              "<IPython.core.display.Javascript object>"
            ]
          },
          "metadata": {
            "tags": []
          }
        }
      ]
    },
    {
      "cell_type": "markdown",
      "metadata": {
        "id": "fVwJfudJogIS"
      },
      "source": [
        "### 6 - Creating a training and a test set\n",
        "\n",
        "In this section we will create the training and test set using the function *train_test_split* from Scikit-Learn. Two important considerations about our choice:\n",
        "\n",
        "* Our dataset is a sample provided by the Brazilian Governent and will not be updated. Therefore, we chose not to be concerned about future splits with updated data;\n",
        "\n",
        "* Our data includes 637,822 instances. We assume it is big enough and do not employ stratified sampling."
      ]
    },
    {
      "cell_type": "code",
      "metadata": {
        "id": "hJuseFTaogIS"
      },
      "source": [
        "from sklearn.model_selection import train_test_split\n",
        "train_set, test_set = train_test_split(complete_set_clean, test_size=0.2, random_state=42)"
      ],
      "execution_count": 32,
      "outputs": []
    },
    {
      "cell_type": "code",
      "metadata": {
        "id": "00B7-iH4Z_ZW"
      },
      "source": [
        "drop_var_2 = [\"default\", \"days_delay\"] \n",
        "fies = train_set.drop(drop_var_2, axis=1) # drop labels for training \n",
        "fies_labels = train_set[\"default\"].copy()"
      ],
      "execution_count": 33,
      "outputs": []
    },
    {
      "cell_type": "code",
      "metadata": {
        "id": "Vrr4L_uoZ_ZW"
      },
      "source": [
        "sample_incomplete_rows = fies[fies.isnull().any(axis=1)].head()\n",
        "sample_incomplete_rows"
      ],
      "execution_count": null,
      "outputs": []
    },
    {
      "cell_type": "markdown",
      "metadata": {
        "id": "VIJ6MzxrogIO"
      },
      "source": [
        "### 7 - Pipeline\n",
        "\n",
        "Functions that will be used to tranform our dataset"
      ]
    },
    {
      "cell_type": "code",
      "metadata": {
        "id": "NjKb_CdHogIR"
      },
      "source": [
        "from sklearn.pipeline import Pipeline\n",
        "from sklearn.preprocessing import StandardScaler\n",
        "from sklearn.impute import SimpleImputer\n",
        "\n",
        "\n",
        "num_pipeline = Pipeline([\n",
        "        (\"num_imputer\", SimpleImputer(strategy=\"median\")),\n",
        "        (\"std_scaler\", StandardScaler()),\n",
        "    ])"
      ],
      "execution_count": null,
      "outputs": []
    },
    {
      "cell_type": "code",
      "metadata": {
        "id": "IGJn2aCfAuXj"
      },
      "source": [
        "from sklearn.pipeline import Pipeline\n",
        "from sklearn.preprocessing import OrdinalEncoder\n",
        "\n",
        "ord_pipeline = Pipeline([\n",
        "        (\"ord_imputer\", SimpleImputer(strategy=\"most_frequent\")),\n",
        "        (\"ord_encoder\", OrdinalEncoder()),\n",
        "    ])"
      ],
      "execution_count": null,
      "outputs": []
    },
    {
      "cell_type": "code",
      "metadata": {
        "id": "3gaCsGRFogIR"
      },
      "source": [
        "ord_attribs = ['igc','cpc','cc','date_contract']\n",
        "\n",
        "num_attribs = ['family_income',\n",
        "               'personal_income',\n",
        "               'high_school_endyear',\n",
        "               'n_sem_course',\n",
        "               'n_completed_sem',\n",
        "               'sem_funded',\n",
        "               'QT_MESES_FINANC_SEMESTRE_ATUAL',\n",
        "               'fam_size',\n",
        "               'income_pc',\n",
        "               'tuition_discounted',\n",
        "               'tuition_current',\n",
        "               'inc_prop',\n",
        "               'perc_requested',\n",
        "               'loan_value_sem',\n",
        "               'student_resource',\n",
        "               'loan_value',\n",
        "               'loan_limit',\n",
        "              #'days_delay',\n",
        "               'total_debt']    \n",
        "\n",
        "cat_attribs = ['semester_enroll',\n",
        "               'gender',\n",
        "               'occupation', \n",
        "               'marital_status',\n",
        "               'ethnicity', 'public_hs', 'state_course', 'degree', 'contract_phase',\n",
        "               'birth_year'\n",
        "              ]"
      ],
      "execution_count": null,
      "outputs": []
    },
    {
      "cell_type": "code",
      "metadata": {
        "id": "jgFC9XOHAuXk"
      },
      "source": [
        "# Full pipeline\n",
        "from sklearn.compose import ColumnTransformer\n",
        "from sklearn.preprocessing import OneHotEncoder\n",
        "\n",
        "full_pipeline = ColumnTransformer([\n",
        "        (\"num\", num_pipeline, num_attribs),\n",
        "        (\"cat\", OneHotEncoder(), cat_attribs),\n",
        "        (\"ord\", ord_pipeline,ord_attribs)\n",
        "        ])"
      ],
      "execution_count": null,
      "outputs": []
    },
    {
      "cell_type": "code",
      "metadata": {
        "id": "BGEokMJdAuXl"
      },
      "source": [
        "fies_prepared = full_pipeline.fit_transform(fies)"
      ],
      "execution_count": null,
      "outputs": []
    },
    {
      "cell_type": "code",
      "metadata": {
        "id": "TyxLL2C_ogIS",
        "colab": {
          "base_uri": "https://localhost:8080/"
        },
        "outputId": "959553b7-edce-4689-ced7-6334c9714c97"
      },
      "source": [
        "fies_prepared[:1]"
      ],
      "execution_count": null,
      "outputs": [
        {
          "output_type": "execute_result",
          "data": {
            "text/plain": [
              "<1x482 sparse matrix of type '<class 'numpy.float64'>'\n",
              "\twith 31 stored elements in Compressed Sparse Row format>"
            ]
          },
          "metadata": {
            "tags": []
          },
          "execution_count": 50
        }
      ]
    },
    {
      "cell_type": "markdown",
      "metadata": {
        "id": "3CASdeLRZ_ZZ"
      },
      "source": [
        "### 8 - Classifiers\n",
        "\n"
      ]
    },
    {
      "cell_type": "code",
      "metadata": {
        "id": "BPh4oqOhZ_ZZ"
      },
      "source": [
        "from sklearn.linear_model import SGDClassifier\n",
        "from sklearn.model_selection import cross_val_score\n",
        "\n",
        "sgd_clf = SGDClassifier(max_iter=1000, random_state=42)\n",
        "sgd_clf.fit(fies_prepared, fies_labels)\n",
        "(cross_val_score(sgd_clf, fies_prepared, fies_labels, cv=3, scoring=\"roc_auc\")).mean()"
      ],
      "execution_count": null,
      "outputs": []
    },
    {
      "cell_type": "code",
      "metadata": {
        "id": "kIeJWYMpHFQ1"
      },
      "source": [
        "from sklearn.linear_model import LogisticRegression\n",
        "\n",
        "logr = LogisticRegression(max_iter=1000, random_state=42, solver='lbfgs')\n",
        "logr.fit(fies_prepared, fies_labels)\n",
        "(cross_val_score(logr, fies_prepared, fies_labels, cv=3, scoring=\"roc_auc\")).mean()"
      ],
      "execution_count": null,
      "outputs": []
    },
    {
      "cell_type": "code",
      "metadata": {
        "id": "-99RFgmhHsem",
        "colab": {
          "base_uri": "https://localhost:8080/"
        },
        "outputId": "0a87aa76-2667-4732-9f3c-2fb8c1df3b9e"
      },
      "source": [
        "from sklearn.ensemble import RandomForestClassifier\n",
        "\n",
        "rf = RandomForestClassifier()\n",
        "rf.fit(fies_prepared, fies_labels)\n",
        "(cross_val_score(rf, fies_prepared, fies_labels, cv=3, scoring=\"roc_auc\")).mean()"
      ],
      "execution_count": null,
      "outputs": [
        {
          "output_type": "execute_result",
          "data": {
            "text/plain": [
              "0.797843514468243"
            ]
          },
          "metadata": {
            "tags": []
          },
          "execution_count": 56
        }
      ]
    },
    {
      "cell_type": "code",
      "metadata": {
        "id": "qNNXi5csiyOc"
      },
      "source": [
        "from sklearn.neural_network import MLPClassifier\n",
        "\n",
        "mlp = MLPClassifier(hidden_layer_sizes=(10, 10, 10), max_iter=500)\n",
        "mlp.fit(fies_prepared, fies_labels.values.ravel())"
      ],
      "execution_count": null,
      "outputs": []
    },
    {
      "cell_type": "code",
      "metadata": {
        "colab": {
          "base_uri": "https://localhost:8080/"
        },
        "id": "LoidnOBqjpxG",
        "outputId": "9c6e7541-5710-430e-e9d7-408db9d014e7"
      },
      "source": [
        "(cross_val_score(mlp, fies_prepared, fies_labels, cv=3, scoring=\"roc_auc\")).mean()"
      ],
      "execution_count": null,
      "outputs": [
        {
          "output_type": "execute_result",
          "data": {
            "text/plain": [
              "0.8324472103276103"
            ]
          },
          "metadata": {
            "tags": []
          },
          "execution_count": 55
        }
      ]
    }
  ]
}