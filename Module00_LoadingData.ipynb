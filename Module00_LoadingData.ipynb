{
  "nbformat": 4,
  "nbformat_minor": 0,
  "metadata": {
    "colab": {
      "name": "Module00_LoadingData.ipynb",
      "provenance": [],
      "collapsed_sections": [],
      "include_colab_link": true
    },
    "kernelspec": {
      "display_name": "Python 3",
      "language": "python",
      "name": "python3"
    },
    "language_info": {
      "codemirror_mode": {
        "name": "ipython",
        "version": 3
      },
      "file_extension": ".py",
      "mimetype": "text/x-python",
      "name": "python",
      "nbconvert_exporter": "python",
      "pygments_lexer": "ipython3",
      "version": "3.8.5"
    }
  },
  "cells": [
    {
      "cell_type": "markdown",
      "metadata": {
        "id": "view-in-github",
        "colab_type": "text"
      },
      "source": [
        "<a href=\"https://colab.research.google.com/github/cbsobral/ml-fies/blob/main/Module00_LoadingData.ipynb\" target=\"_parent\"><img src=\"https://colab.research.google.com/assets/colab-badge.svg\" alt=\"Open In Colab\"/></a>"
      ]
    },
    {
      "cell_type": "markdown",
      "metadata": {
        "id": "qSSIbHD3ogH6"
      },
      "source": [
        "## Module 00 - Loading data and creating training and test sets\n",
        "\n",
        "In this first module, we perform the following steps:\n",
        "\n",
        "1. Load the data from Google Drive in two parts (the file is too big to load at once);\n",
        "2. Exclude irrelevant variables or variables with too many missing values;\n",
        "3. Rename variables in English and possibly with shorter names;\n",
        "4. Divide training and test set."
      ]
    },
    {
      "cell_type": "markdown",
      "metadata": {
        "id": "D15x3tAyogIC"
      },
      "source": [
        "### 1 - Load the data in two parts:"
      ]
    },
    {
      "cell_type": "code",
      "metadata": {
        "colab": {
          "base_uri": "https://localhost:8080/"
        },
        "id": "5AkGS1VgogID",
        "outputId": "c61b928b-1128-4133-89d7-f61d4f45d297"
      },
      "source": [
        "import pandas as pd\n",
        "\n",
        "url_a = \"https://drive.google.com/file/d/1prPbFSiXFTHmTHzXTGxy4HrtRxXUHhce/view?usp=sharing\"\n",
        "path_a = \"https://drive.google.com/uc?export=download&id=\"+url_a.split(\"/\")[-2]\n",
        "base_df_a = pd.read_excel(path_a)\n",
        "base_df_a.shape"
      ],
      "execution_count": 10,
      "outputs": [
        {
          "output_type": "execute_result",
          "data": {
            "text/plain": [
              "(309999, 37)"
            ]
          },
          "metadata": {
            "tags": []
          },
          "execution_count": 0
        }
      ]
    },
    {
      "cell_type": "code",
      "metadata": {
        "colab": {
          "base_uri": "https://localhost:8080/"
        },
        "id": "hyJ2yJuqogIG",
        "outputId": "a0f23bee-4211-4fd1-d0fe-516261cb8910"
      },
      "source": [
        "url_b = \"https://drive.google.com/file/d/1nGckSszPPifPvR3o5FeYaKArUYbfjHGn/view?usp=sharing\"\n",
        "path_b = \"https://drive.google.com/uc?export=download&id=\"+url_b.split(\"/\")[-2]\n",
        "base_df_b = pd.read_excel(path_b)\n",
        "base_df_b.shape"
      ],
      "execution_count": null,
      "outputs": [
        {
          "output_type": "execute_result",
          "data": {
            "text/plain": [
              "(327823, 37)"
            ]
          },
          "metadata": {
            "tags": []
          },
          "execution_count": 3
        }
      ]
    },
    {
      "cell_type": "code",
      "metadata": {
        "colab": {
          "base_uri": "https://localhost:8080/"
        },
        "id": "1nhq9lgWogII",
        "outputId": "4aaf97f6-c3ac-4cef-d3c1-d3cdaebc23bb"
      },
      "source": [
        "complete_set = base_df_a.append(base_df_b)\n",
        "complete_set.shape"
      ],
      "execution_count": 23,
      "outputs": [
        {
          "output_type": "execute_result",
          "data": {
            "text/plain": [
              "(637822, 37)"
            ]
          },
          "metadata": {
            "tags": []
          },
          "execution_count": 23
        }
      ]
    },
    {
      "cell_type": "markdown",
      "metadata": {
        "id": "SjnAzKW4ogIJ"
      },
      "source": [
        "### 2 - Renaming variables"
      ]
    },
    {
      "cell_type": "code",
      "metadata": {
        "id": "Ky27V0YJogIK",
        "jupyter": {
          "source_hidden": true
        }
      },
      "source": [
        "#Let\"s use 365 days as the initial limit for default categories\n",
        "#To be added in the pipeline\n",
        "#complete_set=complete_set.assign(default=1*(complete_set[\"nu_dias_atraso\"]>365))"
      ],
      "execution_count": null,
      "outputs": []
    },
    {
      "cell_type": "code",
      "metadata": {
        "colab": {
          "base_uri": "https://localhost:8080/"
        },
        "id": "gz8vy6TVogIK",
        "outputId": "cf29f407-cfaa-4202-eea1-4087ef46e260"
      },
      "source": [
        "new_names ={\"NU_ANO_SEMESTRE_INSCRICAO\":\"semester_enroll\",\n",
        "            \"SG_SEXO\":\"gender\",\n",
        "            \"DS_OCUPACAO\":\"occupation\",\n",
        "            \"DS_RACA_COR\" : \"ethnicity\",\n",
        "            \"NU_ANO_CONCLUSAO_ENSINO_MEDIO\":\"high_school_endyear\",\n",
        "            \"SG_UF_CURSO\": \"state_course\",\n",
        "            \"QT_SEMESTRES_CURSO\": \"n_sem_course\",\n",
        "            \"VL_SEMESTRE_COM_DESCONTO\": \"tuition_discounted\",\n",
        "            \"NU_PERCENT_SOLICITADO_FINANC\":\"perc_requested\",\n",
        "            \"VL_FINANC_RECURSO_ALUNO\":\"student_resource\",\n",
        "            \"nu_dias_atraso\":\"days_delay\",\n",
        "            \"ANO_NASC\":\"birth_year\",\n",
        "            \"DS_ESTADO_CIVIL\":\"marital_status\", \n",
        "            \"VL_RENDA_PESSOAL_BRUTA_MENSAL\": \"personal_income\",\n",
        "            \"VL_RENDA_FAMILIAR_BRUTA_MENSAL\": \"family_income\",\n",
        "            \"ST_ENSINO_MEDIO_ESCOLA_PUBLICA\": \"public_hs\",\n",
        "            \"NO_CURSO\": \"degree\",\n",
        "            \"QT_SEMESTRE_CONCLUIDO\": \"n_completed_sem\",\n",
        "            \"VL_SEMESTRE_ATUAL\": \"tuition_current\",\n",
        "            \"VL_FINANCIADO_SEMESTRE\": \"loan_value_sem\",\n",
        "            \"fase_contrato\": \"contract_phase\",\n",
        "            \"vl_divida\": \"total_debt\",            \n",
        "            \"VL_AVALIACAO_IGC\": \"igc\",\n",
        "            \"VL_FAIXA_CPC\": \"cpc\",\n",
        "            \"VL_FAIXA_CC\": \"cc\",\n",
        "            \"QT_SEMESTRE_FINANCIAMENTO\": \"sem_funded\",\n",
        "            \"QT_MEMBRO\": \"fam_size\",\n",
        "            \"VL_RENDA_PER_CAPITA\":\"income_pc\",\n",
        "            \"NU_PERCENTUAL_COMPROMETIMENTO\":\"inc_prop\",\n",
        "            \"VL_TOTAL_FINANCIAMENTO\":\"loan_value\",\n",
        "            \"VL_LIMITE_GLOBAL\":\"loan_limit\",\n",
        "            \"dt_inicio_cont\":\"date_contract\"\n",
        "}\n",
        "\n",
        "complete_set = complete_set.rename(index=str, columns=new_names)\n",
        "complete_set.dtypes"
      ],
      "execution_count": 24,
      "outputs": [
        {
          "output_type": "execute_result",
          "data": {
            "text/plain": [
              "semester_enroll                            int64\n",
              "gender                                    object\n",
              "occupation                                object\n",
              "marital_status                            object\n",
              "family_income                            float64\n",
              "personal_income                          float64\n",
              "NO_MUNICIPIO                              object\n",
              "SG_UF                                     object\n",
              "ethnicity                                 object\n",
              "public_hs                                 object\n",
              "high_school_endyear                      float64\n",
              "NU_SEMESTRE_REFERENCIA                     int64\n",
              "state_course                              object\n",
              "degree                                    object\n",
              "igc                                      float64\n",
              "cpc                                      float64\n",
              "cc                                       float64\n",
              "n_sem_course                               int64\n",
              "n_completed_sem                            int64\n",
              "sem_funded                                 int64\n",
              "QT_MESES_FINANC_SEMESTRE_ATUAL             int64\n",
              "fam_size                                 float64\n",
              "income_pc                                float64\n",
              "VL_SEMESTRE_SEM_DESCONTO                 float64\n",
              "tuition_discounted                       float64\n",
              "tuition_current                          float64\n",
              "inc_prop                                 float64\n",
              "perc_requested                             int64\n",
              "loan_value_sem                           float64\n",
              "student_resource                         float64\n",
              "loan_value                               float64\n",
              "loan_limit                               float64\n",
              "date_contract                     datetime64[ns]\n",
              "contract_phase                            object\n",
              "days_delay                                 int64\n",
              "total_debt                               float64\n",
              "birth_year                                object\n",
              "dtype: object"
            ]
          },
          "metadata": {
            "tags": []
          },
          "execution_count": 24
        }
      ]
    },
    {
      "cell_type": "code",
      "metadata": {
        "colab": {
          "base_uri": "https://localhost:8080/"
        },
        "id": "HgSq5ISLvfBt",
        "outputId": "9bb825ff-b189-4a4c-a911-5bebab8e2c54"
      },
      "source": [
        "import numpy as np\n",
        "# Calculate values for wrong entries (larger than 300,000 reais)\n",
        "complete_set['loan_value_sem'] = np.where((complete_set.loan_value_sem > 300000), (complete_set[\"perc_requested\"]/100 * complete_set[\"tuition_current\"]), complete_set.loan_value_sem)\n",
        "complete_set['loan_value_sem'].describe() # seems to work"
      ],
      "execution_count": 36,
      "outputs": [
        {
          "output_type": "execute_result",
          "data": {
            "text/plain": [
              "count   637822.00\n",
              "mean      5241.23\n",
              "std       3811.32\n",
              "min        300.00\n",
              "25%       3360.00\n",
              "50%       4607.88\n",
              "75%       5899.00\n",
              "max      41499.90\n",
              "Name: loan_value_sem, dtype: float64"
            ]
          },
          "metadata": {
            "tags": []
          },
          "execution_count": 36
        }
      ]
    },
    {
      "cell_type": "markdown",
      "metadata": {
        "id": "V66zCTtnAuXZ"
      },
      "source": [
        "\n",
        "# Bruno's variables which need special treatment"
      ]
    },
    {
      "cell_type": "code",
      "metadata": {
        "id": "mXlAR2V7AuXa"
      },
      "source": [
        "complete_set.nlargest(20, ['family_income'])\n",
        "# na tabela abaixo, eu relaciono as 20 maiores rendas familiares do banco de dados\n",
        "# os 6 primeiros valores são outliers e os 3 primeiros parecem ser erros\n",
        "# se isso for renda familiar mensal, eu sugiro excluir valores maiores que 100,000.00, o que acham?\n",
        "\n",
        "# Diego: além desse problema em family income, temos que imputar NAs para high_school_endyear e birth_year"
      ],
      "execution_count": null,
      "outputs": []
    },
    {
      "cell_type": "markdown",
      "metadata": {
        "id": "rfn09CydogIL"
      },
      "source": [
        "### 3 - Cleaning Dataset"
      ]
    },
    {
      "cell_type": "code",
      "metadata": {
        "id": "itTdp928ogIL"
      },
      "source": [
        "import datetime as dt\n",
        "\n",
        "variables_to_drop = [\"NO_MUNICIPIO\",\n",
        "                     \"SG_UF\",\n",
        "                     \"VL_SEMESTRE_SEM_DESCONTO\",\n",
        "                     \"NU_SEMESTRE_REFERENCIA\"]\n",
        "\n",
        "complete_set_clean = complete_set.drop(variables_to_drop, axis = 1)\n",
        "\n",
        "complete_set_clean[\"date_contract\"]= complete_set_clean[\"date_contract\"].map(dt.datetime.toordinal)"
      ],
      "execution_count": null,
      "outputs": []
    },
    {
      "cell_type": "markdown",
      "metadata": {
        "id": "7Kcob9Y0ogIM"
      },
      "source": [
        "Some variables are better interprerted as categories."
      ]
    },
    {
      "cell_type": "markdown",
      "metadata": {
        "id": "l3sKb1nWogIM"
      },
      "source": [
        "### 4 - Add atributes"
      ]
    },
    {
      "cell_type": "markdown",
      "metadata": {
        "id": "yv-XDRCDAuXb"
      },
      "source": [
        "Adds a columns for a dummy that defines if the main occupation is student. An another one to define if the delay in repayment is more than one year (365 days)"
      ]
    },
    {
      "cell_type": "code",
      "metadata": {
        "id": "-0wC7L7dogIM"
      },
      "source": [
        "#Recode ocupacao\n",
        "complete_set_clean=complete_set_clean.assign(student=1*(complete_set[\"occupation\"]==\"Estudante\"))\n",
        "\n",
        "complete_set_clean=complete_set_clean.assign(default=1*(complete_set[\"days_delay\"]>=365))"
      ],
      "execution_count": null,
      "outputs": []
    },
    {
      "cell_type": "code",
      "metadata": {
        "id": "X3smpA04ogIN"
      },
      "source": [
        "#Here are the columns we want to drop NA's and not treat like using median, or something else\n",
        "complete_set_clean = complete_set_clean.dropna(subset=[\"semester_enroll\",\n",
        "                                                       \"gender\",\n",
        "                                                       \"occupation\",\n",
        "                                                       \"marital_status\",\n",
        "                                                       \"ethnicity\",\n",
        "                                                       \"public_hs\",\n",
        "                                                       \"state_course\",\n",
        "                                                       \"degree\",\n",
        "                                                       \"igc\",\"cpc\",\"cc\",\n",
        "                                                       \"contract_phase\",\n",
        "                                                       \"birth_year\"])"
      ],
      "execution_count": null,
      "outputs": []
    },
    {
      "cell_type": "code",
      "metadata": {
        "id": "_Zf3ApfLogIM"
      },
      "source": [
        "#Birth year has to be corrected in the excel file\n",
        "\n",
        "complete_set_clean = complete_set_clean.astype({\"semester_enroll\":str,\n",
        "                                                \"igc\":'int64',\"cpc\":'int64',\"cc\":'int64',\n",
        "                                               \"birth_year\":str\n",
        "                                               })"
      ],
      "execution_count": null,
      "outputs": []
    },
    {
      "cell_type": "code",
      "metadata": {
        "id": "WDXn4nQyAuXd"
      },
      "source": [
        ""
      ],
      "execution_count": null,
      "outputs": []
    },
    {
      "cell_type": "code",
      "metadata": {
        "id": "Eyohg-mRogIO"
      },
      "source": [
        "#Get only categorical\n",
        "\n",
        "\n",
        "complete_set_cat = complete_set_clean.select_dtypes(include=[\"object\"])"
      ],
      "execution_count": null,
      "outputs": []
    },
    {
      "cell_type": "markdown",
      "metadata": {
        "id": "VIJ6MzxrogIO"
      },
      "source": [
        "### Pipeline\n",
        "\n",
        "Functions that will be used to tranform our dataset"
      ]
    },
    {
      "cell_type": "code",
      "metadata": {
        "id": "lhp6LXTYogIP",
        "jupyter": {
          "source_hidden": true
        }
      },
      "source": [
        "#Imputes the medians to NA's for numeric values \n",
        "#from sklearn.impute import SimpleImputer\n",
        "\n",
        "#num_imputer = SimpleImputer(strategy=\"median\")\n",
        "#ord_imputer = SimpleImputer(strategy=\"most_frequent\")"
      ],
      "execution_count": null,
      "outputs": []
    },
    {
      "cell_type": "code",
      "metadata": {
        "id": "NjKb_CdHogIR"
      },
      "source": [
        "from sklearn.pipeline import Pipeline\n",
        "from sklearn.preprocessing import StandardScaler\n",
        "from sklearn.impute import SimpleImputer\n",
        "\n",
        "\n",
        "num_pipeline = Pipeline([\n",
        "        (\"num_imputer\", SimpleImputer(strategy=\"median\")),\n",
        "        (\"std_scaler\", StandardScaler()),\n",
        "    ])\n",
        "\n",
        "#complete_num_tr = num_pipeline.fit_transform(complete_set_num)\n"
      ],
      "execution_count": null,
      "outputs": []
    },
    {
      "cell_type": "code",
      "metadata": {
        "id": "IGJn2aCfAuXj"
      },
      "source": [
        "from sklearn.pipeline import Pipeline\n",
        "from sklearn.preprocessing import OrdinalEncoder\n",
        "\n",
        "ord_pipeline = Pipeline([\n",
        "        (\"ord_imputer\", SimpleImputer(strategy=\"most_frequent\")),\n",
        "        (\"ord_encoder\", OrdinalEncoder()),\n",
        "    ])\n",
        "\n",
        "#complete_num_tr = num_pipeline.fit_transform(complete_set_num)"
      ],
      "execution_count": null,
      "outputs": []
    },
    {
      "cell_type": "code",
      "metadata": {
        "id": "3gaCsGRFogIR"
      },
      "source": [
        "ord_attribs = ['igc','cpc','cc','date_contract']\n",
        "\n",
        "num_attribs = ['family_income',\n",
        "               'personal_income',\n",
        "               'high_school_endyear',\n",
        "               'n_sem_course',\n",
        "               'n_completed_sem',\n",
        "               'sem_funded',\n",
        "               'QT_MESES_FINANC_SEMESTRE_ATUAL',\n",
        "               'fam_size',\n",
        "               'income_pc',\n",
        "               'tuition_discounted',\n",
        "               'tuition_current',\n",
        "               'inc_prop',\n",
        "               'perc_requested',\n",
        "               'loan_value_sem',\n",
        "               'student_resource',\n",
        "               'loan_value',\n",
        "               'loan_limit',\n",
        "               'days_delay',\n",
        "               'total_debt']    \n",
        "\n",
        "cat_attribs = ['semester_enroll',\n",
        "               'gender',\n",
        "               'occupation', \n",
        "               'marital_status',\n",
        "               'ethnicity', 'public_hs', 'state_course', 'degree', 'contract_phase',\n",
        "               'birth_year'\n",
        "              ]"
      ],
      "execution_count": null,
      "outputs": []
    },
    {
      "cell_type": "code",
      "metadata": {
        "id": "jgFC9XOHAuXk"
      },
      "source": [
        "#Full pipeline\n",
        "from sklearn.compose import ColumnTransformer\n",
        "from sklearn.preprocessing import OneHotEncoder\n",
        "\n",
        "\n",
        "\n",
        "\n",
        "#num_attribs = list(complete_set_num)\n",
        "#cat_attribs = list(complete_set_cat)\n",
        "\n",
        "full_pipeline = ColumnTransformer([\n",
        "       (\"num\", num_pipeline, num_attribs),\n",
        "        (\"cat\", OneHotEncoder(), cat_attribs),\n",
        "        (\"ord\", ord_pipeline,ord_attribs)\n",
        "])"
      ],
      "execution_count": null,
      "outputs": []
    },
    {
      "cell_type": "code",
      "metadata": {
        "id": "BGEokMJdAuXl"
      },
      "source": [
        "complete_set_prepared = full_pipeline.fit_transform(complete_set_clean)"
      ],
      "execution_count": null,
      "outputs": []
    },
    {
      "cell_type": "code",
      "metadata": {
        "colab": {
          "base_uri": "https://localhost:8080/"
        },
        "id": "TyxLL2C_ogIS",
        "outputId": "0c02877d-a47a-4225-b9a4-0bbb787226b3"
      },
      "source": [
        "complete_set_prepared[:1]"
      ],
      "execution_count": null,
      "outputs": [
        {
          "output_type": "execute_result",
          "data": {
            "text/plain": [
              "<1x536 sparse matrix of type '<class 'numpy.float64'>'\n",
              "\twith 32 stored elements in Compressed Sparse Row format>"
            ]
          },
          "metadata": {
            "tags": []
          },
          "execution_count": 174
        }
      ]
    },
    {
      "cell_type": "markdown",
      "metadata": {
        "id": "fVwJfudJogIS"
      },
      "source": [
        "### 4 - Creating a training and a test set\n",
        "\n",
        "In this section we will create the training and test set using the function *train_test_split* from Scikit-Learn. Two important considerations about our choice:\n",
        "\n",
        "* Our dataset is a sample provided by the Brazilian Governent and will not be updated. Therefore, we chose not to be concerned about future splits with updated data;\n",
        "\n",
        "* Our data includes 637,822 instances. We assume it is big enough and do not employ stratified sampling."
      ]
    },
    {
      "cell_type": "code",
      "metadata": {
        "id": "hJuseFTaogIS"
      },
      "source": [
        "from sklearn.model_selection import train_test_split\n",
        "\n",
        "train_set, test_set = train_test_split(complete_set_prepared, test_size=0.2, random_state=42)"
      ],
      "execution_count": null,
      "outputs": []
    },
    {
      "cell_type": "markdown",
      "metadata": {
        "id": "bJVOljkGogIT"
      },
      "source": [
        "### 5 - Cleaning Data "
      ]
    },
    {
      "cell_type": "markdown",
      "metadata": {
        "id": "fQoSfCgPogIT"
      },
      "source": [
        "### 6 - Visualisation"
      ]
    },
    {
      "cell_type": "code",
      "metadata": {
        "colab": {
          "base_uri": "https://localhost:8080/",
          "height": 282
        },
        "id": "z0QSUtV0ogIT",
        "outputId": "47dcda8b-17ab-4d96-845f-c1f9acede345"
      },
      "source": [
        "complete_set[\"contract_phase\"].hist()"
      ],
      "execution_count": null,
      "outputs": [
        {
          "output_type": "execute_result",
          "data": {
            "text/plain": [
              "<matplotlib.axes._subplots.AxesSubplot at 0x7efc0aa024d0>"
            ]
          },
          "metadata": {
            "tags": []
          },
          "execution_count": 33
        },
        {
          "output_type": "display_data",
          "data": {
            "image/png": "[encoded data removed]",
            "text/plain": [
              "<Figure size 432x288 with 1 Axes>"
            ]
          },
          "metadata": {
            "tags": [],
            "needs_background": "light"
          }
        }
      ]
    },
    {
      "cell_type": "code",
      "metadata": {
        "colab": {
          "base_uri": "https://localhost:8080/",
          "height": 278
        },
        "id": "xZLMqhkLogIV",
        "outputId": "aa11256e-bff7-43fc-e440-e9ed3f2edcd8"
      },
      "source": [
        "%matplotlib inline\n",
        "import matplotlib as mpl\n",
        "import matplotlib.pyplot as plt\n",
        "\n",
        "complete_set.plot(kind=\"scatter\", x=\"default\", y=\"income_pc\",\n",
        "             alpha=0.2)\n",
        "plt.axis([0, 5, 0, 520000])\n",
        "plt.show()"
      ],
      "execution_count": null,
      "outputs": [
        {
          "output_type": "display_data",
          "data": {
            "image/png": "[encoded data removed]",
            "text/plain": [
              "<Figure size 432x288 with 1 Axes>"
            ]
          },
          "metadata": {
            "tags": [],
            "needs_background": "light"
          }
        }
      ]
    },
    {
      "cell_type": "markdown",
      "metadata": {
        "id": "clcoU1IyogIW"
      },
      "source": [
        ""
      ]
    }
  ]
}