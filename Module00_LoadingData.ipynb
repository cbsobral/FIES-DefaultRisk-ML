{
  "nbformat": 4,
  "nbformat_minor": 0,
  "metadata": {
    "colab": {
      "name": "Module00_LoadingData.ipynb",
      "provenance": [],
      "collapsed_sections": [],
      "include_colab_link": true
    },
    "kernelspec": {
      "display_name": "Python 3",
      "language": "python",
      "name": "python3"
    },
    "language_info": {
      "codemirror_mode": {
        "name": "ipython",
        "version": 3
      },
      "file_extension": ".py",
      "mimetype": "text/x-python",
      "name": "python",
      "nbconvert_exporter": "python",
      "pygments_lexer": "ipython3",
      "version": "3.8.5"
    },
    "accelerator": "GPU"
  },
  "cells": [
    {
      "cell_type": "markdown",
      "metadata": {
        "id": "view-in-github",
        "colab_type": "text"
      },
      "source": [
        "<a href=\"https://colab.research.google.com/github/cbsobral/ml-fies/blob/main/Module00_LoadingData.ipynb\" target=\"_parent\"><img src=\"https://colab.research.google.com/assets/colab-badge.svg\" alt=\"Open In Colab\"/></a>"
      ]
    },
    {
      "cell_type": "markdown",
      "metadata": {
        "id": "qSSIbHD3ogH6"
      },
      "source": [
        "## Module 00 - Loading data and creating training and test sets\n",
        "\n",
        "In this first module, we perform the following steps:\n",
        "\n",
        "1. Load the data from Google Drive in two parts (the file is too big to load at once);\n",
        "2. Exclude irrelevant variables or variables with too many missing values;\n",
        "3. Rename variables in English and possibly with shorter names;\n",
        "4. Divide training and test set."
      ]
    },
    {
      "cell_type": "markdown",
      "metadata": {
        "id": "D15x3tAyogIC"
      },
      "source": [
        "### 1 - Load the data in two parts:"
      ]
    },
    {
      "cell_type": "code",
      "metadata": {
        "colab": {
          "base_uri": "https://localhost:8080/"
        },
        "id": "5AkGS1VgogID",
        "outputId": "fd24b983-7d8e-463c-ae21-983d5c086909"
      },
      "source": [
        "import pandas as pd\n",
        "\n",
        "url_a = \"https://drive.google.com/file/d/1prPbFSiXFTHmTHzXTGxy4HrtRxXUHhce/view?usp=sharing\"\n",
        "path_a = \"https://drive.google.com/uc?export=download&id=\"+url_a.split(\"/\")[-2]\n",
        "base_df_a = pd.read_excel(path_a)\n",
        "base_df_a.shape"
      ],
      "execution_count": 2,
      "outputs": [
        {
          "output_type": "execute_result",
          "data": {
            "text/plain": [
              "(309999, 37)"
            ]
          },
          "metadata": {
            "tags": []
          },
          "execution_count": 2
        }
      ]
    },
    {
      "cell_type": "code",
      "metadata": {
        "colab": {
          "base_uri": "https://localhost:8080/"
        },
        "id": "hyJ2yJuqogIG",
        "outputId": "b74c2389-1707-4a37-a481-2995aabaa72d"
      },
      "source": [
        "url_b = \"https://drive.google.com/file/d/1nGckSszPPifPvR3o5FeYaKArUYbfjHGn/view?usp=sharing\"\n",
        "path_b = \"https://drive.google.com/uc?export=download&id=\"+url_b.split(\"/\")[-2]\n",
        "base_df_b = pd.read_excel(path_b)\n",
        "base_df_b.shape"
      ],
      "execution_count": 3,
      "outputs": [
        {
          "output_type": "execute_result",
          "data": {
            "text/plain": [
              "(327823, 37)"
            ]
          },
          "metadata": {
            "tags": []
          },
          "execution_count": 3
        }
      ]
    },
    {
      "cell_type": "code",
      "metadata": {
        "colab": {
          "base_uri": "https://localhost:8080/"
        },
        "id": "1nhq9lgWogII",
        "outputId": "bb3a42cc-efcc-42bc-a5fe-1e9f30b410d9"
      },
      "source": [
        "complete_set = base_df_a.append(base_df_b)\n",
        "complete_set.shape"
      ],
      "execution_count": 4,
      "outputs": [
        {
          "output_type": "execute_result",
          "data": {
            "text/plain": [
              "(637822, 37)"
            ]
          },
          "metadata": {
            "tags": []
          },
          "execution_count": 4
        }
      ]
    },
    {
      "cell_type": "markdown",
      "metadata": {
        "id": "SjnAzKW4ogIJ"
      },
      "source": [
        "### 2 - Renaming variables"
      ]
    },
    {
      "cell_type": "code",
      "metadata": {
        "id": "Ky27V0YJogIK",
        "jupyter": {
          "source_hidden": true
        }
      },
      "source": [
        "#Let\"s use 365 days as the initial limit for default categories\n",
        "#To be added in the pipeline\n",
        "complete_set=complete_set.assign(default=1*(complete_set[\"nu_dias_atraso\"]>365))"
      ],
      "execution_count": 5,
      "outputs": []
    },
    {
      "cell_type": "code",
      "metadata": {
        "colab": {
          "base_uri": "https://localhost:8080/"
        },
        "id": "gz8vy6TVogIK",
        "outputId": "7ba8fc49-8e0a-4f5e-e8e9-19c4faec6f40"
      },
      "source": [
        "new_names ={\"NU_ANO_SEMESTRE_INSCRICAO\":\"semester_enroll\",\n",
        "            \"SG_SEXO\":\"gender\",\n",
        "            \"DS_OCUPACAO\":\"occupation\",\n",
        "            \"DS_RACA_COR\" : \"ethnicity\",\n",
        "            \"NU_ANO_CONCLUSAO_ENSINO_MEDIO\":\"high_school_endyear\",\n",
        "            \"SG_UF_CURSO\": \"state_course\",\n",
        "            \"QT_SEMESTRES_CURSO\": \"n_sem_course\",\n",
        "            \"VL_SEMESTRE_COM_DESCONTO\": \"tuition_discounted\",\n",
        "            \"NU_PERCENT_SOLICITADO_FINANC\":\"perc_requested\",\n",
        "            \"VL_FINANC_RECURSO_ALUNO\":\"student_resource\",\n",
        "            \"nu_dias_atraso\":\"days_delay\",\n",
        "            \"ANO_NASC\":\"birth_year\",\n",
        "            \"DS_ESTADO_CIVIL\":\"marital_status\", \n",
        "            \"VL_RENDA_PESSOAL_BRUTA_MENSAL\": \"personal_income\",\n",
        "            \"VL_RENDA_FAMILIAR_BRUTA_MENSAL\": \"family_income\",\n",
        "            \"ST_ENSINO_MEDIO_ESCOLA_PUBLICA\": \"public_hs\",\n",
        "            \"NO_CURSO\": \"degree\",\n",
        "            \"QT_SEMESTRE_CONCLUIDO\": \"n_completed_sem\",\n",
        "            \"VL_SEMESTRE_ATUAL\": \"tuition_current\",\n",
        "            \"VL_FINANCIADO_SEMESTRE\": \"loan_value_sem\",\n",
        "            \"fase_contrato\": \"contract_phase\",\n",
        "            \"vl_divida\": \"total_debt\",            \n",
        "            \"VL_AVALIACAO_IGC\": \"igc\",\n",
        "            \"VL_FAIXA_CPC\": \"cpc\",\n",
        "            \"VL_FAIXA_CC\": \"cc\",\n",
        "            \"QT_SEMESTRE_FINANCIAMENTO\": \"sem_funded\",\n",
        "            \"QT_MEMBRO\": \"fam_size\",\n",
        "            \"VL_RENDA_PER_CAPITA\":\"income_pc\",\n",
        "            \"NU_PERCENTUAL_COMPROMETIMENTO\":\"inc_prop\",\n",
        "            \"VL_TOTAL_FINANCIAMENTO\":\"loan_value\",\n",
        "            \"VL_LIMITE_GLOBAL\":\"loan_limit\",\n",
        "            \"dt_inicio_cont\":\"date_contract\"\n",
        "}\n",
        "\n",
        "complete_set = complete_set.rename(index=str, columns=new_names)\n",
        "#complete_set.dtypes\n",
        "print (complete_set.columns)"
      ],
      "execution_count": 6,
      "outputs": [
        {
          "output_type": "execute_result",
          "data": {
            "text/plain": [
              "semester_enroll                            int64\n",
              "gender                                    object\n",
              "occupation                                object\n",
              "marital_status                            object\n",
              "family_income                            float64\n",
              "personal_income                          float64\n",
              "NO_MUNICIPIO                              object\n",
              "SG_UF                                     object\n",
              "ethnicity                                 object\n",
              "public_hs                                 object\n",
              "high_school_endyear                      float64\n",
              "NU_SEMESTRE_REFERENCIA                     int64\n",
              "state_course                              object\n",
              "degree                                    object\n",
              "igc                                      float64\n",
              "cpc                                      float64\n",
              "cc                                       float64\n",
              "n_sem_course                               int64\n",
              "n_completed_sem                            int64\n",
              "sem_funded                                 int64\n",
              "QT_MESES_FINANC_SEMESTRE_ATUAL             int64\n",
              "fam_size                                 float64\n",
              "income_pc                                float64\n",
              "VL_SEMESTRE_SEM_DESCONTO                 float64\n",
              "tuition_discounted                       float64\n",
              "tuition_current                          float64\n",
              "inc_prop                                 float64\n",
              "perc_requested                             int64\n",
              "loan_value_sem                           float64\n",
              "student_resource                         float64\n",
              "loan_value                               float64\n",
              "loan_limit                               float64\n",
              "date_contract                     datetime64[ns]\n",
              "contract_phase                            object\n",
              "days_delay                                 int64\n",
              "total_debt                               float64\n",
              "birth_year                                object\n",
              "default                                    int64\n",
              "dtype: object"
            ]
          },
          "metadata": {
            "tags": []
          },
          "execution_count": 6
        }
      ]
    },
    {
      "cell_type": "code",
      "metadata": {
        "colab": {
          "base_uri": "https://localhost:8080/"
        },
        "id": "HgSq5ISLvfBt",
        "outputId": "69d19da8-0260-42eb-a37a-641fd0cb8248"
      },
      "source": [
        "import numpy as np\n",
        "\n",
        "# Calculate values for wrong entries (larger than 300,000 reais)\n",
        "complete_set['loan_value_sem'] = np.where((complete_set.loan_value_sem > 300000), (complete_set[\"perc_requested\"]/100 * complete_set[\"tuition_current\"]), \n",
        "                                          complete_set.loan_value_sem)"
      ],
      "execution_count": 7,
      "outputs": [
        {
          "output_type": "execute_result",
          "data": {
            "text/plain": [
              "count    637822.000000\n",
              "mean       5746.100631\n",
              "std        4177.270342\n",
              "min         600.000000\n",
              "25%        3803.160000\n",
              "50%        5020.720000\n",
              "75%        6342.180000\n",
              "max       41499.900000\n",
              "Name: tuition_discounted, dtype: float64"
            ]
          },
          "metadata": {
            "tags": []
          },
          "execution_count": 7
        }
      ]
    },
    {
      "cell_type": "markdown",
      "metadata": {
        "id": "rfn09CydogIL"
      },
      "source": [
        "### 3 - Cleaning Dataset"
      ]
    },
    {
      "cell_type": "code",
      "metadata": {
        "id": "itTdp928ogIL"
      },
      "source": [
        "import datetime as dt\n",
        "\n",
        "variables_to_drop = [\"NO_MUNICIPIO\",\n",
        "                     \"SG_UF\",\n",
        "                     \"VL_SEMESTRE_SEM_DESCONTO\",\n",
        "                     \"NU_SEMESTRE_REFERENCIA\"]\n",
        "                     \n",
        "complete_set_clean = complete_set.drop(variables_to_drop, axis = 1)\n",
        "complete_set_clean[\"date_contract\"]= complete_set_clean[\"date_contract\"].map(dt.datetime.toordinal)"
      ],
      "execution_count": 8,
      "outputs": []
    },
    {
      "cell_type": "markdown",
      "metadata": {
        "id": "V66zCTtnAuXZ"
      },
      "source": [
        "\n",
        "### Bruno's variables which need special treatment"
      ]
    },
    {
      "cell_type": "code",
      "metadata": {
        "id": "mXlAR2V7AuXa"
      },
      "source": [
        "complete_set.nlargest(20, ['family_income'])\n",
        "# na tabela abaixo, eu relaciono as 20 maiores rendas familiares do banco de dados\n",
        "# os 6 primeiros valores são outliers e os 3 primeiros parecem ser erros\n",
        "# se isso for renda familiar mensal, eu sugiro excluir valores maiores que 100,000.00, o que acham?\n",
        "\n",
        "# Diego: além desse problema em family income, temos que imputar NAs para high_school_endyear e birth_year"
      ],
      "execution_count": null,
      "outputs": []
    },
    {
      "cell_type": "markdown",
      "metadata": {
        "id": "7Kcob9Y0ogIM"
      },
      "source": [
        "Some variables are better interprerted as categories."
      ]
    },
    {
      "cell_type": "code",
      "metadata": {
        "colab": {
          "base_uri": "https://localhost:8080/"
        },
        "id": "OQVfPSZnftsR",
        "outputId": "1db8b7de-f8fa-4a2f-cf5b-881de2e005c2"
      },
      "source": [
        "# Calculate correlations with target (default)\n",
        "corr_matrix = complete_set_clean.corr()\n",
        "corr_matrix[\"default\"].sort_values(ascending=False, key=pd.Series.abs)"
      ],
      "execution_count": 27,
      "outputs": [
        {
          "output_type": "execute_result",
          "data": {
            "text/plain": [
              "default                           1.000000\n",
              "days_delay                        0.866446\n",
              "family_income                    -0.226210\n",
              "n_sem_course                     -0.223280\n",
              "income_pc                        -0.207357\n",
              "sem_funded                       -0.196517\n",
              "total_debt                       -0.179165\n",
              "loan_value                       -0.176322\n",
              "tuition_discounted               -0.160623\n",
              "tuition_current                  -0.159546\n",
              "loan_limit                       -0.153353\n",
              "perc_requested                    0.142102\n",
              "student_resource                 -0.141675\n",
              "loan_value_sem                   -0.127649\n",
              "fam_size                         -0.097051\n",
              "student                          -0.083116\n",
              "igc                              -0.074704\n",
              "n_completed_sem                   0.070203\n",
              "date_contract                    -0.068852\n",
              "cc                               -0.062375\n",
              "cpc                              -0.047471\n",
              "inc_prop                          0.035405\n",
              "personal_income                  -0.015710\n",
              "high_school_endyear               0.005808\n",
              "QT_MESES_FINANC_SEMESTRE_ATUAL         NaN\n",
              "Name: default, dtype: float64"
            ]
          },
          "metadata": {
            "tags": []
          },
          "execution_count": 27
        }
      ]
    },
    {
      "cell_type": "markdown",
      "metadata": {
        "id": "l3sKb1nWogIM"
      },
      "source": [
        "### 4 - Add atributes"
      ]
    },
    {
      "cell_type": "markdown",
      "metadata": {
        "id": "yv-XDRCDAuXb"
      },
      "source": [
        "Adds a columns for a dummy that defines if the main occupation is student. An another one to define if the delay in repayment is more than one year (365 days)"
      ]
    },
    {
      "cell_type": "code",
      "metadata": {
        "id": "-0wC7L7dogIM"
      },
      "source": [
        "#Recode ocupacao\n",
        "complete_set_clean=complete_set_clean.assign(student=1*(complete_set[\"occupation\"]==\"Estudante\"))\n",
        "complete_set_clean=complete_set_clean.assign(default=1*(complete_set[\"days_delay\"]>=365))"
      ],
      "execution_count": 10,
      "outputs": []
    },
    {
      "cell_type": "markdown",
      "metadata": {
        "id": "bJVOljkGogIT"
      },
      "source": [
        "### 5 - Cleaning Data "
      ]
    },
    {
      "cell_type": "code",
      "metadata": {
        "id": "X3smpA04ogIN"
      },
      "source": [
        "#Here are the columns we want to drop NA's and not treat like using median, or something else\n",
        "complete_set_clean = complete_set_clean.dropna(subset=[\"semester_enroll\",\n",
        "                                                       \"gender\",\n",
        "                                                       \"occupation\",\n",
        "                                                       \"marital_status\",\n",
        "                                                       \"ethnicity\",\n",
        "                                                       \"public_hs\",\n",
        "                                                       \"state_course\",\n",
        "                                                       \"degree\",\n",
        "                                                       \"igc\",\"cpc\",\"cc\",\n",
        "                                                       \"contract_phase\",\n",
        "                                                       \"birth_year\",\n",
        "                                                       \"high_school_endyear\"])"
      ],
      "execution_count": 11,
      "outputs": []
    },
    {
      "cell_type": "code",
      "metadata": {
        "id": "_Zf3ApfLogIM"
      },
      "source": [
        "#Birth year has to be corrected in the excel file\n",
        "complete_set_clean = complete_set_clean.astype({\"semester_enroll\":str,\n",
        "                                                \"igc\":'int64',\"cpc\":'int64',\"cc\":'int64',\n",
        "                                               \"birth_year\":str\n",
        "                                               })"
      ],
      "execution_count": 12,
      "outputs": []
    },
    {
      "cell_type": "code",
      "metadata": {
        "id": "Eyohg-mRogIO"
      },
      "source": [
        "#Get only categorical\n",
        "complete_set_cat = complete_set_clean.select_dtypes(include=[\"object\"])"
      ],
      "execution_count": 13,
      "outputs": []
    },
    {
      "cell_type": "markdown",
      "metadata": {
        "id": "fVwJfudJogIS"
      },
      "source": [
        "### 6 - Creating a training and a test set\n",
        "\n",
        "In this section we will create the training and test set using the function *train_test_split* from Scikit-Learn. Two important considerations about our choice:\n",
        "\n",
        "* Our dataset is a sample provided by the Brazilian Governent and will not be updated. Therefore, we chose not to be concerned about future splits with updated data;\n",
        "\n",
        "* Our data includes 637,822 instances. We assume it is big enough and do not employ stratified sampling."
      ]
    },
    {
      "cell_type": "code",
      "metadata": {
        "id": "hJuseFTaogIS"
      },
      "source": [
        "from sklearn.model_selection import train_test_split\n",
        "train_set, test_set = train_test_split(complete_set_clean, test_size=0.2, random_state=42)"
      ],
      "execution_count": 14,
      "outputs": []
    },
    {
      "cell_type": "code",
      "metadata": {
        "id": "00B7-iH4Z_ZW"
      },
      "source": [
        "fies = train_set.drop(\"default\", axis=1) # drop labels for training set\n",
        "fies_labels = train_set[\"default\"].copy()"
      ],
      "execution_count": 15,
      "outputs": []
    },
    {
      "cell_type": "code",
      "metadata": {
        "id": "Vrr4L_uoZ_ZW"
      },
      "source": [
        "sample_incomplete_rows = fies[fies.isnull().any(axis=1)].head()\n",
        "sample_incomplete_rows"
      ],
      "execution_count": null,
      "outputs": []
    },
    {
      "cell_type": "markdown",
      "metadata": {
        "id": "VIJ6MzxrogIO"
      },
      "source": [
        "### 7 - Pipeline\n",
        "\n",
        "Functions that will be used to tranform our dataset"
      ]
    },
    {
      "cell_type": "code",
      "metadata": {
        "id": "NjKb_CdHogIR"
      },
      "source": [
        "from sklearn.pipeline import Pipeline\n",
        "from sklearn.preprocessing import StandardScaler\n",
        "from sklearn.impute import SimpleImputer\n",
        "\n",
        "\n",
        "num_pipeline = Pipeline([\n",
        "        (\"num_imputer\", SimpleImputer(strategy=\"median\")),\n",
        "        (\"std_scaler\", StandardScaler()),\n",
        "    ])"
      ],
      "execution_count": 19,
      "outputs": []
    },
    {
      "cell_type": "code",
      "metadata": {
        "id": "IGJn2aCfAuXj"
      },
      "source": [
        "from sklearn.pipeline import Pipeline\n",
        "from sklearn.preprocessing import OrdinalEncoder\n",
        "\n",
        "ord_pipeline = Pipeline([\n",
        "        (\"ord_imputer\", SimpleImputer(strategy=\"most_frequent\")),\n",
        "        (\"ord_encoder\", OrdinalEncoder()),\n",
        "    ])"
      ],
      "execution_count": 20,
      "outputs": []
    },
    {
      "cell_type": "code",
      "metadata": {
        "id": "3gaCsGRFogIR"
      },
      "source": [
        "ord_attribs = ['igc','cpc','cc','date_contract']\n",
        "\n",
        "num_attribs = ['family_income',\n",
        "               'personal_income',\n",
        "               'high_school_endyear',\n",
        "               'n_sem_course',\n",
        "               'n_completed_sem',\n",
        "               'sem_funded',\n",
        "               'QT_MESES_FINANC_SEMESTRE_ATUAL',\n",
        "               'fam_size',\n",
        "               'income_pc',\n",
        "               'tuition_discounted',\n",
        "               'tuition_current',\n",
        "               'inc_prop',\n",
        "               'perc_requested',\n",
        "               'loan_value_sem',\n",
        "               'student_resource',\n",
        "               'loan_value',\n",
        "               'loan_limit',\n",
        "               #'days_delay',\n",
        "               'total_debt']    \n",
        "\n",
        "cat_attribs = ['semester_enroll',\n",
        "               'gender',\n",
        "               'occupation', \n",
        "               'marital_status',\n",
        "               'ethnicity', 'public_hs', 'state_course', 'degree', 'contract_phase',\n",
        "               'birth_year'\n",
        "              ]"
      ],
      "execution_count": 21,
      "outputs": []
    },
    {
      "cell_type": "code",
      "metadata": {
        "id": "jgFC9XOHAuXk"
      },
      "source": [
        "# Full pipeline\n",
        "from sklearn.compose import ColumnTransformer\n",
        "from sklearn.preprocessing import OneHotEncoder\n",
        "\n",
        "full_pipeline = ColumnTransformer([\n",
        "        (\"num\", num_pipeline, num_attribs),\n",
        "        (\"cat\", OneHotEncoder(), cat_attribs),\n",
        "        (\"ord\", ord_pipeline,ord_attribs)\n",
        "        ])"
      ],
      "execution_count": 22,
      "outputs": []
    },
    {
      "cell_type": "code",
      "metadata": {
        "id": "BGEokMJdAuXl"
      },
      "source": [
        "fies_prepared = full_pipeline.fit_transform(fies)"
      ],
      "execution_count": 23,
      "outputs": []
    },
    {
      "cell_type": "code",
      "metadata": {
        "id": "TyxLL2C_ogIS"
      },
      "source": [
        "fies_prepared[:1]"
      ],
      "execution_count": null,
      "outputs": []
    },
    {
      "cell_type": "markdown",
      "metadata": {
        "id": "3CASdeLRZ_ZZ"
      },
      "source": [
        "### 8 - Classifiers\n",
        "\n"
      ]
    },
    {
      "cell_type": "code",
      "metadata": {
        "id": "BPh4oqOhZ_ZZ"
      },
      "source": [
        "from sklearn.linear_model import SGDClassifier\n",
        "from sklearn.model_selection import cross_val_score\n",
        "\n",
        "sgd_clf = SGDClassifier(max_iter=500, random_state=42)\n",
        "sgd_clf.fit(fies_prepared, fies_labels)\n",
        "(cross_val_score(sgd_clf, fies_prepared, fies_labels, cv=3, scoring=\"roc_auc\")).mean()"
      ],
      "execution_count": null,
      "outputs": []
    },
    {
      "cell_type": "code",
      "metadata": {
        "id": "kIeJWYMpHFQ1",
        "outputId": "4b752181-b646-42ab-baf9-4402132e43ca",
        "colab": {
          "base_uri": "https://localhost:8080/"
        }
      },
      "source": [
        "from sklearn.linear_model import LogisticRegression\n",
        "\n",
        "logr = LogisticRegression(max_iter=500, random_state=42, solver='lbfgs')\n",
        "logr.fit(fies_prepared, fies_labels)\n",
        "(cross_val_score(logr, fies_prepared, fies_labels, cv=3, scoring=\"roc_auc\")).mean()"
      ],
      "execution_count": 41,
      "outputs": [
        {
          "output_type": "stream",
          "text": [
            "/usr/local/lib/python3.7/dist-packages/sklearn/linear_model/_logistic.py:940: ConvergenceWarning: lbfgs failed to converge (status=1):\n",
            "STOP: TOTAL NO. of ITERATIONS REACHED LIMIT.\n",
            "\n",
            "Increase the number of iterations (max_iter) or scale the data as shown in:\n",
            "    https://scikit-learn.org/stable/modules/preprocessing.html\n",
            "Please also refer to the documentation for alternative solver options:\n",
            "    https://scikit-learn.org/stable/modules/linear_model.html#logistic-regression\n",
            "  extra_warning_msg=_LOGISTIC_SOLVER_CONVERGENCE_MSG)\n",
            "/usr/local/lib/python3.7/dist-packages/sklearn/linear_model/_logistic.py:940: ConvergenceWarning: lbfgs failed to converge (status=1):\n",
            "STOP: TOTAL NO. of ITERATIONS REACHED LIMIT.\n",
            "\n",
            "Increase the number of iterations (max_iter) or scale the data as shown in:\n",
            "    https://scikit-learn.org/stable/modules/preprocessing.html\n",
            "Please also refer to the documentation for alternative solver options:\n",
            "    https://scikit-learn.org/stable/modules/linear_model.html#logistic-regression\n",
            "  extra_warning_msg=_LOGISTIC_SOLVER_CONVERGENCE_MSG)\n",
            "/usr/local/lib/python3.7/dist-packages/sklearn/linear_model/_logistic.py:940: ConvergenceWarning: lbfgs failed to converge (status=1):\n",
            "STOP: TOTAL NO. of ITERATIONS REACHED LIMIT.\n",
            "\n",
            "Increase the number of iterations (max_iter) or scale the data as shown in:\n",
            "    https://scikit-learn.org/stable/modules/preprocessing.html\n",
            "Please also refer to the documentation for alternative solver options:\n",
            "    https://scikit-learn.org/stable/modules/linear_model.html#logistic-regression\n",
            "  extra_warning_msg=_LOGISTIC_SOLVER_CONVERGENCE_MSG)\n",
            "/usr/local/lib/python3.7/dist-packages/sklearn/linear_model/_logistic.py:940: ConvergenceWarning: lbfgs failed to converge (status=1):\n",
            "STOP: TOTAL NO. of ITERATIONS REACHED LIMIT.\n",
            "\n",
            "Increase the number of iterations (max_iter) or scale the data as shown in:\n",
            "    https://scikit-learn.org/stable/modules/preprocessing.html\n",
            "Please also refer to the documentation for alternative solver options:\n",
            "    https://scikit-learn.org/stable/modules/linear_model.html#logistic-regression\n",
            "  extra_warning_msg=_LOGISTIC_SOLVER_CONVERGENCE_MSG)\n"
          ],
          "name": "stderr"
        },
        {
          "output_type": "execute_result",
          "data": {
            "text/plain": [
              "0.7491212629429652"
            ]
          },
          "metadata": {
            "tags": []
          },
          "execution_count": 41
        }
      ]
    },
    {
      "cell_type": "code",
      "metadata": {
        "id": "-99RFgmhHsem"
      },
      "source": [
        "from sklearn.ensemble import RandomForestClassifier\n",
        "\n",
        "rf = RandomForestClassifier()\n",
        "rf.fit(fies_prepared, fies_labels)\n",
        "(cross_val_score(rf, fies_prepared, fies_labels, cv=3, scoring=\"roc_auc\")).mean()"
      ],
      "execution_count": null,
      "outputs": []
    },
    {
      "cell_type": "code",
      "metadata": {
        "id": "ojr1heWAoTQt",
        "outputId": "238823f8-e209-40f2-b88d-d3d2bbebea16",
        "colab": {
          "base_uri": "https://localhost:8080/"
        }
      },
      "source": [
        "# KFold Random Forest\n",
        "#(cross_val_score(rd, fies_prepared, fies_labels, cv=kfold, scoring='roc_auc')).mean()"
      ],
      "execution_count": 31,
      "outputs": [
        {
          "output_type": "stream",
          "text": [
            "/usr/local/lib/python3.7/dist-packages/sklearn/model_selection/_split.py:296: FutureWarning: Setting a random_state has no effect since shuffle is False. This will raise an error in 0.24. You should leave random_state to its default (None), or set shuffle=True.\n",
            "  FutureWarning\n"
          ],
          "name": "stderr"
        },
        {
          "output_type": "stream",
          "text": [
            "Mean AUC Score - Random Forest:  0.7977799276139849\n"
          ],
          "name": "stdout"
        }
      ]
    }
  ]
}