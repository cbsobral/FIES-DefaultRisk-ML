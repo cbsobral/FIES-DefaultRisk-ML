{
  "nbformat": 4,
  "nbformat_minor": 0,
  "metadata": {
    "colab": {
      "name": "Module02c_RF.ipynb",
      "provenance": [],
      "collapsed_sections": [],
      "toc_visible": true,
      "include_colab_link": true
    },
    "kernelspec": {
      "display_name": "Python 3",
      "language": "python",
      "name": "python3"
    },
    "language_info": {
      "name": "python"
    }
  },
  "cells": [
    {
      "cell_type": "markdown",
      "metadata": {
        "id": "view-in-github",
        "colab_type": "text"
      },
      "source": [
        "<a href=\"https://colab.research.google.com/github/cbsobral/ml-fies/blob/main/Module02c_RF.ipynb\" target=\"_parent\"><img src=\"https://colab.research.google.com/assets/colab-badge.svg\" alt=\"Open In Colab\"/></a>"
      ]
    },
    {
      "cell_type": "markdown",
      "metadata": {
        "id": "qSSIbHD3ogH6"
      },
      "source": [
        "## Module 02c - Random Forest\n",
        "\n",
        "In this module, we perform the following steps:\n",
        "\n",
        "1. Load the data from Mod_00 and create sets and targets for train and test datasets;\n",
        "2. Create down and up samples from the original train set;\n",
        "3. Perform grid search for all of them;\n",
        "4. Calculate performance measures. \n",
        "\n",
        "\n",
        "*Note: Due to the size of our data set and the technical conditions available, the time to perform cross-validation for the random forest model was considerable long. For example, a randomized CV with 3 parameters sampled and 4 folds took up to 7h. As we know, good quality results increase with larger number of parameters sampled. Due to time limitation, we were only able to use cross-validation with a reduced set of hyperparameters candidates. Some configurations were tested individually when cross-validation was not an option. Nevertheless, the final model improved in relation to the intial one.*"
      ]
    },
    {
      "cell_type": "markdown",
      "metadata": {
        "id": "QNfxqJE4km2n"
      },
      "source": [
        "### 1 - Load Data\n",
        "\n",
        "Here, we import the training and testing sets created in Module00_Data. \n"
      ]
    },
    {
      "cell_type": "code",
      "metadata": {
        "colab": {
          "base_uri": "https://localhost:8080/"
        },
        "id": "m1T2rReQkmI5",
        "outputId": "fdbf9168-8979-493b-cef3-017ce260a2f9"
      },
      "source": [
        "import pandas as pd\n",
        "\n",
        "url_train = \"https://drive.google.com/file/d/1IP7jyXkLgD_Ouy5cL6fJk4VUA5qRB2PK/view?usp=sharing\"\n",
        "path_train = \"https://drive.google.com/uc?export=download&id=\"+url_train.split(\"/\")[-2]\n",
        "train = pd.read_csv(path_train)\n",
        "train.shape"
      ],
      "execution_count": null,
      "outputs": [
        {
          "output_type": "execute_result",
          "data": {
            "text/plain": [
              "(351001, 31)"
            ]
          },
          "metadata": {
            "tags": []
          },
          "execution_count": 1
        }
      ]
    },
    {
      "cell_type": "code",
      "metadata": {
        "colab": {
          "base_uri": "https://localhost:8080/"
        },
        "id": "XaJOQTurG_Li",
        "outputId": "37740490-46fd-41a2-8c2b-3d0ec84688d5"
      },
      "source": [
        "url_test = \"https://drive.google.com/file/d/1v4FqKwt7NzG5RM6d9f1y7CLIdKq69jSS/view?usp=sharing\"\n",
        "path_test = \"https://drive.google.com/uc?export=download&id=\"+url_test.split(\"/\")[-2]\n",
        "test = pd.read_csv(path_test)\n",
        "test.shape"
      ],
      "execution_count": null,
      "outputs": [
        {
          "output_type": "execute_result",
          "data": {
            "text/plain": [
              "(87751, 31)"
            ]
          },
          "metadata": {
            "tags": []
          },
          "execution_count": 2
        }
      ]
    },
    {
      "cell_type": "code",
      "metadata": {
        "id": "psNgDRsr2rMz"
      },
      "source": [
        "train_set = train.drop(\"default\", axis=1) # drop targets for training set\n",
        "train_target = train[\"default\"].copy()"
      ],
      "execution_count": null,
      "outputs": []
    },
    {
      "cell_type": "code",
      "metadata": {
        "id": "CJhx2yRNHRoy"
      },
      "source": [
        "test_set = test.drop(\"default\", axis=1) # drop targets for test set\n",
        "test_target = test[\"default\"].copy()"
      ],
      "execution_count": null,
      "outputs": []
    },
    {
      "cell_type": "markdown",
      "metadata": {
        "id": "VIJ6MzxrogIO"
      },
      "source": [
        "### 2 - Pipeline\n",
        "\n",
        "The pipeline contains functions that will be used to transform the dataset. For the numeric attributes, the stardardization is performed by the StandardScaler. For ordinal attributes, variables are encoded by the OrdinalEncoder, and for categorical, theOneHotEncoder. "
      ]
    },
    {
      "cell_type": "code",
      "metadata": {
        "id": "NjKb_CdHogIR"
      },
      "source": [
        "from sklearn.pipeline import Pipeline\n",
        "from sklearn.preprocessing import StandardScaler\n",
        "from sklearn.impute import SimpleImputer\n",
        "\n",
        "num_pipeline = Pipeline([(\"num_imputer\", SimpleImputer(strategy=\"median\")),\n",
        "                         (\"std_scaler\", StandardScaler()), \n",
        "                         ])"
      ],
      "execution_count": null,
      "outputs": []
    },
    {
      "cell_type": "code",
      "metadata": {
        "id": "IGJn2aCfAuXj"
      },
      "source": [
        "from sklearn.pipeline import Pipeline\n",
        "from sklearn.preprocessing import OrdinalEncoder\n",
        "\n",
        "ord_pipeline = Pipeline([(\"ord_imputer\", SimpleImputer(strategy=\"most_frequent\")),\n",
        "                         (\"ord_encoder\", OrdinalEncoder()),\n",
        "                         ])"
      ],
      "execution_count": null,
      "outputs": []
    },
    {
      "cell_type": "code",
      "metadata": {
        "id": "Fwkc-g3V2fEE"
      },
      "source": [
        "from sklearn.preprocessing import OneHotEncoder\n",
        "\n",
        "cat_pipeline = Pipeline(steps=[('one_hot', OneHotEncoder())])"
      ],
      "execution_count": null,
      "outputs": []
    },
    {
      "cell_type": "code",
      "metadata": {
        "id": "3gaCsGRFogIR"
      },
      "source": [
        "ord_attribs = [\"igc\",\"date_contract\"] # 2 attributes\n",
        "\n",
        "num_attribs = [\"family_income\",   #17\n",
        "               \"personal_income\",\n",
        "               \"high_school_endyear\",\n",
        "               \"n_sem_course\",\n",
        "               \"n_completed_sem\",\n",
        "               \"sem_funded\",\n",
        "               \"fam_size\",\n",
        "               \"income_pc\",\n",
        "               \"tuition_current\",\n",
        "               \"inc_prop\",\n",
        "               \"perc_requested\",\n",
        "               \"loan_value_sem\",\n",
        "               \"student_resource\",\n",
        "               \"loan_value\",\n",
        "               \"loan_limit\",\n",
        "               \"total_debt\",\n",
        "               \"age\"]\n",
        "  \n",
        "\n",
        "cat_attribs = [\"semester_enroll\",  #9\n",
        "               \"gender\",\n",
        "               \"occupation\", \n",
        "               \"marital_status\",\n",
        "               \"ethnicity\", \n",
        "               \"public_hs\", \n",
        "               \"state_course\", \n",
        "               \"degree\", \n",
        "               \"contract_phase\"]"
      ],
      "execution_count": null,
      "outputs": []
    },
    {
      "cell_type": "code",
      "metadata": {
        "id": "jgFC9XOHAuXk"
      },
      "source": [
        "from sklearn.compose import ColumnTransformer\n",
        "\n",
        "full_pipeline = ColumnTransformer([\n",
        "        (\"num\", num_pipeline, num_attribs),\n",
        "        (\"cat\", cat_pipeline, cat_attribs),\n",
        "        (\"ord\", ord_pipeline, ord_attribs)\n",
        "        ])"
      ],
      "execution_count": null,
      "outputs": []
    },
    {
      "cell_type": "code",
      "metadata": {
        "colab": {
          "base_uri": "https://localhost:8080/"
        },
        "id": "BGEokMJdAuXl",
        "outputId": "2c0c01f2-98c4-4a7d-a9a3-88e02fe3da8e"
      },
      "source": [
        "train_prepared = full_pipeline.fit_transform(train_set)\n",
        "train_prepared[:1]"
      ],
      "execution_count": null,
      "outputs": [
        {
          "output_type": "execute_result",
          "data": {
            "text/plain": [
              "<1x94 sparse matrix of type '<class 'numpy.float64'>'\n",
              "\twith 28 stored elements in Compressed Sparse Row format>"
            ]
          },
          "metadata": {
            "tags": []
          },
          "execution_count": 10
        }
      ]
    },
    {
      "cell_type": "code",
      "metadata": {
        "colab": {
          "base_uri": "https://localhost:8080/"
        },
        "id": "JtlBac6BXY4k",
        "outputId": "3ceb3fd1-78b8-4944-d95c-557a7c8a2ed8"
      },
      "source": [
        "test_prepared = full_pipeline.fit_transform(test_set)\n",
        "test_prepared[:1]"
      ],
      "execution_count": null,
      "outputs": [
        {
          "output_type": "execute_result",
          "data": {
            "text/plain": [
              "<1x94 sparse matrix of type '<class 'numpy.float64'>'\n",
              "\twith 28 stored elements in Compressed Sparse Row format>"
            ]
          },
          "metadata": {
            "tags": []
          },
          "execution_count": 11
        }
      ]
    },
    {
      "cell_type": "markdown",
      "metadata": {
        "id": "BwMo644RChXV"
      },
      "source": [
        "### 3 - Fine-Tuning\n"
      ]
    },
    {
      "cell_type": "markdown",
      "metadata": {
        "id": "45tFlNTkeLUL"
      },
      "source": [
        "Randomized search on hyper parameters:"
      ]
    },
    {
      "cell_type": "code",
      "metadata": {
        "id": "7MhU--w-HoBu"
      },
      "source": [
        "# Time to run: +- 7h\n",
        "\n",
        "from sklearn.model_selection import RandomizedSearchCV\n",
        "from sklearn.ensemble import RandomForestClassifier\n",
        "import numpy as np\n",
        "\n",
        "# Number of trees in random forest\n",
        "n_estimators = [int(x) for x in np.linspace(start = 200, stop = 2000, num = 10)]\n",
        "\n",
        "# Number of features to consider at every split\n",
        "max_features = ['auto', 'sqrt']\n",
        "\n",
        "# Maximum number of levels in tree\n",
        "max_depth = [int(x) for x in np.linspace(10, 110, num = 11)]\n",
        "max_depth.append(None)\n",
        "\n",
        "# Minimum number of samples required to split a node\n",
        "min_samples_split = [2, 5, 10]\n",
        "\n",
        "# Minimum number of samples required at each leaf node\n",
        "min_samples_leaf = [1, 2, 4]\n",
        "\n",
        "# Method of selecting samples for training each tree\n",
        "bootstrap = [True, False]\n",
        "\n",
        "# Criterion\n",
        "criterion = ['gini', 'entropy']\n",
        "\n",
        "random_grid = {'n_estimators': n_estimators,\n",
        "               'max_features': max_features,\n",
        "               'max_depth': max_depth,\n",
        "               'min_samples_split': min_samples_split,\n",
        "               'min_samples_leaf': min_samples_leaf,\n",
        "               'bootstrap': bootstrap,\n",
        "               'criterion': criterion}\n",
        "\n",
        "rf = RandomForestClassifier(random_state=42)\n",
        "\n",
        "rf_random = RandomizedSearchCV(estimator = rf, param_distributions = random_grid, n_iter = 3, cv = 4, verbose=2, random_state=42, n_jobs = -1)\n",
        "\n",
        "rf_random.fit(train_prepared, train_target)"
      ],
      "execution_count": null,
      "outputs": []
    },
    {
      "cell_type": "markdown",
      "metadata": {
        "id": "yg-OfcbLIzyE"
      },
      "source": [
        "Best parameters:\n",
        "{'bootstrap': False,\n",
        " 'criterion': 'entropy',\n",
        " 'max_depth': 50,\n",
        " 'max_features': 'auto',\n",
        " 'min_samples_leaf': 4,\n",
        " 'min_samples_split': 5,\n",
        " 'n_estimators': 200}"
      ]
    },
    {
      "cell_type": "code",
      "metadata": {
        "id": "goTEvHYSI5L2"
      },
      "source": [
        "from sklearn.model_selection import GridSearchCV, cross_val_score\n",
        "from sklearn.ensemble import RandomForestClassifier\n",
        "\n",
        "param_grid = {\n",
        "    'bootstrap': [False],\n",
        "    'max_depth': [40, 60],\n",
        "    'max_features': [\"auto\"],\n",
        "    'min_samples_leaf': [5],\n",
        "    'min_samples_split': [8],\n",
        "    'n_estimators': [150, 300]}\n",
        "\n",
        "\n",
        "rf = RandomForestClassifier(random_state=42)\n",
        "\n",
        "grid_search = GridSearchCV(rf,param_grid=param_grid,cv=3)\n",
        "grid_search.fit(train_prepared, train_target)\n",
        "grid_search.cv_results_['params']\n",
        "grid_search.cv_results_['mean_test_score']"
      ],
      "execution_count": null,
      "outputs": []
    },
    {
      "cell_type": "markdown",
      "metadata": {
        "id": "S1z2XnOdJU3I"
      },
      "source": [
        "Best parameters\n",
        "{'bootstrap': False,\n",
        " 'max_depth': 60,\n",
        " 'max_features': 'auto',\n",
        " 'min_samples_leaf': 5,\n",
        " 'min_samples_split': 8,\n",
        " 'n_estimators': 300}\n"
      ]
    },
    {
      "cell_type": "code",
      "metadata": {
        "id": "J4LJMTjeJZxQ"
      },
      "source": [
        "from sklearn.ensemble import RandomForestClassifier\n",
        "\n",
        "\n",
        "rf = RandomForestClassifier( bootstrap = False, criterion = 'entropy', max_depth = 50, max_features = 'auto', min_samples_leaf= 4, \n",
        "                            min_samples_split = 5, n_estimators = 200, random_state=42)\n",
        "rf.fit(train_prepared, train_target)"
      ],
      "execution_count": null,
      "outputs": []
    },
    {
      "cell_type": "markdown",
      "metadata": {
        "id": "7j9diulRKJ-k"
      },
      "source": [
        "Result 0.790198064967537 AUC"
      ]
    },
    {
      "cell_type": "code",
      "metadata": {
        "id": "3yJRbDIvJ87E"
      },
      "source": [
        " rf = RandomForestClassifier( bootstrap = False, criterion = 'entropy', max_depth = 60, max_features = 'auto', min_samples_leaf= 5, \n",
        "                              min_samples_split = 8, n_estimators = 300, random_state=42)\n",
        "rf.fit(train_prepared, train_target)"
      ],
      "execution_count": null,
      "outputs": []
    },
    {
      "cell_type": "markdown",
      "metadata": {
        "id": "lHVPLCtLMSkv"
      },
      "source": [
        "Result 0.7896261537831428 AUC"
      ]
    },
    {
      "cell_type": "code",
      "metadata": {
        "id": "QoUQA31bMSB_"
      },
      "source": [
        "rf = RandomForestClassifier( bootstrap = False, criterion = 'entropy', max_depth = 50, max_features = 'auto', min_samples_leaf= 4, \n",
        "                            min_samples_split = 5, n_estimators = 250, random_state=42)\n",
        "rf.fit(train_prepared, train_target)"
      ],
      "execution_count": null,
      "outputs": []
    },
    {
      "cell_type": "markdown",
      "metadata": {
        "id": "L8J9ZryWMne8"
      },
      "source": [
        "Result 0.7905031207466537 AUC"
      ]
    },
    {
      "cell_type": "code",
      "metadata": {
        "colab": {
          "base_uri": "https://localhost:8080/"
        },
        "id": "ldUUJ6vtKeed",
        "outputId": "5deb7301-5bbc-4451-dd46-3b5091972516"
      },
      "source": [
        "from sklearn.ensemble import RandomForestClassifier\n",
        "\n",
        "rf = RandomForestClassifier( bootstrap = False, criterion = 'entropy', max_depth = 50, max_features = 'auto', min_samples_leaf= 4, \n",
        "                      min_samples_split = 5, n_estimators = 300, random_state=42)\n",
        "rf.fit(train_prepared, train_target)"
      ],
      "execution_count": null,
      "outputs": [
        {
          "output_type": "execute_result",
          "data": {
            "text/plain": [
              "RandomForestClassifier(bootstrap=False, criterion='entropy', max_depth=50,\n",
              "                       min_samples_leaf=4, min_samples_split=5,\n",
              "                       n_estimators=300, random_state=42)"
            ]
          },
          "metadata": {
            "tags": []
          },
          "execution_count": 15
        }
      ]
    },
    {
      "cell_type": "code",
      "metadata": {
        "colab": {
          "base_uri": "https://localhost:8080/"
        },
        "id": "TJiJJeNPZJ8j",
        "outputId": "c5ce336c-4a10-4366-b536-05210ef5bc7e"
      },
      "source": [
        "from sklearn.metrics import roc_auc_score\n",
        "from sklearn.metrics import brier_score_loss\n",
        "\n",
        "pred_rf = rf.predict_proba(test_prepared)\n",
        "\n",
        "auc_rf = roc_auc_score(test_target, pred_rf[:,1])\n",
        "loss_rf = brier_score_loss(test_target, pred_rf[:,1])\n",
        "\n",
        "auc_rf"
      ],
      "execution_count": null,
      "outputs": [
        {
          "output_type": "execute_result",
          "data": {
            "text/plain": [
              "0.7905609772221769"
            ]
          },
          "metadata": {
            "tags": []
          },
          "execution_count": 16
        }
      ]
    },
    {
      "cell_type": "code",
      "metadata": {
        "colab": {
          "base_uri": "https://localhost:8080/"
        },
        "id": "f8yZRvEoZZhG",
        "outputId": "39c252fd-a10b-4cfc-c246-608ab77f3dad"
      },
      "source": [
        "loss_rf"
      ],
      "execution_count": null,
      "outputs": [
        {
          "output_type": "execute_result",
          "data": {
            "text/plain": [
              "0.18172957094162634"
            ]
          },
          "metadata": {
            "tags": []
          },
          "execution_count": 17
        }
      ]
    },
    {
      "cell_type": "markdown",
      "metadata": {
        "id": "qEu6u7zrM_73"
      },
      "source": [
        " Result 0.7905609772221769 AUC"
      ]
    },
    {
      "cell_type": "markdown",
      "metadata": {
        "id": "3i3pVLK8Onob"
      },
      "source": [
        "Testing if ExtraTreesClassifier() looks promising:"
      ]
    },
    {
      "cell_type": "code",
      "metadata": {
        "id": "tVuVvSX1NIj5"
      },
      "source": [
        "rf_extra = ExtraTreesClassifier()\n",
        "rf_extra.fit(train_prepared, train_target)"
      ],
      "execution_count": null,
      "outputs": []
    },
    {
      "cell_type": "markdown",
      "metadata": {
        "id": "BJTonv56Numh"
      },
      "source": [
        "Result: 0.7464396156070683 "
      ]
    },
    {
      "cell_type": "code",
      "metadata": {
        "colab": {
          "base_uri": "https://localhost:8080/"
        },
        "id": "WzilhgyIN9qI",
        "outputId": "5fb0007b-4db5-4675-9597-04fdef85ee2a"
      },
      "source": [
        "from sklearn.ensemble import RandomForestClassifier\n",
        "\n",
        "rf = RandomForestClassifier( bootstrap = True, criterion = 'entropy', max_depth = 50, max_features = 'auto', min_samples_leaf= 4, \n",
        "                      min_samples_split = 5, n_estimators = 300, random_state=42, class_weight='balanced')\n",
        "rf.fit(train_prepared, train_target)\n",
        "\n"
      ],
      "execution_count": null,
      "outputs": [
        {
          "output_type": "execute_result",
          "data": {
            "text/plain": [
              "RandomForestClassifier(bootstrap=True, ccp_alpha=0.0, class_weight='balanced',\n",
              "                       criterion='entropy', max_depth=50, max_features='auto',\n",
              "                       max_leaf_nodes=None, max_samples=None,\n",
              "                       min_impurity_decrease=0.0, min_impurity_split=None,\n",
              "                       min_samples_leaf=4, min_samples_split=5,\n",
              "                       min_weight_fraction_leaf=0.0, n_estimators=300,\n",
              "                       n_jobs=None, oob_score=False, random_state=42, verbose=0,\n",
              "                       warm_start=False)"
            ]
          },
          "metadata": {
            "tags": []
          },
          "execution_count": 24
        }
      ]
    },
    {
      "cell_type": "code",
      "metadata": {
        "colab": {
          "base_uri": "https://localhost:8080/"
        },
        "id": "VHwtsC68oF8a",
        "outputId": "197e57f6-8ec8-4531-a56a-8ae19cae2ee7"
      },
      "source": [
        "from sklearn.metrics import roc_auc_score\n",
        "from sklearn.metrics import brier_score_loss\n",
        "\n",
        "pred_rf = rf.predict_proba(test_prepared)\n",
        "\n",
        "auc_rf = roc_auc_score(test_target, pred_rf[:,1])\n",
        "loss_rf = brier_score_loss(test_target, pred_rf[:,1])\n",
        "\n",
        "auc_rf\n"
      ],
      "execution_count": null,
      "outputs": [
        {
          "output_type": "execute_result",
          "data": {
            "text/plain": [
              "0.7862866965536888"
            ]
          },
          "metadata": {
            "tags": []
          },
          "execution_count": 26
        }
      ]
    },
    {
      "cell_type": "code",
      "metadata": {
        "colab": {
          "base_uri": "https://localhost:8080/"
        },
        "id": "83lYsGPZosJp",
        "outputId": "1841439c-12a4-4cdc-e223-74f28acb4e22"
      },
      "source": [
        "loss_rf"
      ],
      "execution_count": null,
      "outputs": [
        {
          "output_type": "execute_result",
          "data": {
            "text/plain": [
              "0.18599798529566028"
            ]
          },
          "metadata": {
            "tags": []
          },
          "execution_count": 27
        }
      ]
    },
    {
      "cell_type": "code",
      "metadata": {
        "colab": {
          "base_uri": "https://localhost:8080/"
        },
        "id": "s7qHZDFVpfsH",
        "outputId": "def886e8-6d5b-4974-e722-d4e2db55b00f"
      },
      "source": [
        "from imblearn.ensemble import BalancedRandomForestClassifier\n",
        "brf = BalancedRandomForestClassifier(criterion = 'entropy', max_depth = 50, max_features = 'auto', min_samples_leaf= 4, \n",
        "                      min_samples_split = 5, n_estimators = 300, random_state=42)\n",
        "brf.fit(train_prepared, train_target)"
      ],
      "execution_count": null,
      "outputs": [
        {
          "output_type": "execute_result",
          "data": {
            "text/plain": [
              "BalancedRandomForestClassifier(criterion='entropy', max_depth=50,\n",
              "                               min_samples_leaf=4, min_samples_split=5,\n",
              "                               n_estimators=300, random_state=42)"
            ]
          },
          "metadata": {
            "tags": []
          },
          "execution_count": 11
        }
      ]
    },
    {
      "cell_type": "code",
      "metadata": {
        "colab": {
          "base_uri": "https://localhost:8080/"
        },
        "id": "kyxoRCrn8pet",
        "outputId": "4d14a893-155d-47df-aa19-6e869e0409fc"
      },
      "source": [
        "from sklearn.metrics import roc_auc_score\n",
        "from sklearn.metrics import brier_score_loss\n",
        "\n",
        "pred_brf = brf.predict_proba(test_prepared)\n",
        "\n",
        "auc_brf = roc_auc_score(test_target, pred_brf[:,1])\n",
        "loss_brf = brier_score_loss(test_target, pred_brf[:,1])\n",
        "\n",
        "auc_brf"
      ],
      "execution_count": null,
      "outputs": [
        {
          "output_type": "execute_result",
          "data": {
            "text/plain": [
              "0.7852046606840751"
            ]
          },
          "metadata": {
            "tags": []
          },
          "execution_count": 13
        }
      ]
    },
    {
      "cell_type": "code",
      "metadata": {
        "colab": {
          "base_uri": "https://localhost:8080/"
        },
        "id": "GvxbfqOb9BB4",
        "outputId": "e2168439-cf05-45e8-e7e1-f9d3d99b7500"
      },
      "source": [
        "loss_brf"
      ],
      "execution_count": null,
      "outputs": [
        {
          "output_type": "execute_result",
          "data": {
            "text/plain": [
              "0.1921610807966289"
            ]
          },
          "metadata": {
            "tags": []
          },
          "execution_count": 14
        }
      ]
    },
    {
      "cell_type": "code",
      "metadata": {
        "colab": {
          "base_uri": "https://localhost:8080/"
        },
        "id": "SC9I0rQ03Bgz",
        "outputId": "c68870a5-a6a6-4df5-ecf1-526d3249904d"
      },
      "source": [
        "#Best model for the original data:\n",
        "from sklearn.ensemble import RandomForestClassifier\n",
        "\n",
        "rf = RandomForestClassifier( bootstrap = False, criterion = 'entropy', max_depth = 55, max_features = 'auto', min_samples_leaf= 4, \n",
        "                      min_samples_split = 5, n_estimators = 300, random_state=42)\n",
        "rf.fit(train_prepared, train_target)"
      ],
      "execution_count": null,
      "outputs": [
        {
          "output_type": "execute_result",
          "data": {
            "text/plain": [
              "RandomForestClassifier(bootstrap=False, ccp_alpha=0.0, class_weight=None,\n",
              "                       criterion='entropy', max_depth=55, max_features='auto',\n",
              "                       max_leaf_nodes=None, max_samples=None,\n",
              "                       min_impurity_decrease=0.0, min_impurity_split=None,\n",
              "                       min_samples_leaf=4, min_samples_split=5,\n",
              "                       min_weight_fraction_leaf=0.0, n_estimators=300,\n",
              "                       n_jobs=None, oob_score=False, random_state=42, verbose=0,\n",
              "                       warm_start=False)"
            ]
          },
          "metadata": {
            "tags": []
          },
          "execution_count": 11
        }
      ]
    },
    {
      "cell_type": "code",
      "metadata": {
        "colab": {
          "base_uri": "https://localhost:8080/"
        },
        "id": "vPS3lZZmOjAP",
        "outputId": "24e99aa3-e31d-428a-9775-c6a373236f27"
      },
      "source": [
        "from sklearn.metrics import roc_auc_score\n",
        "from sklearn.metrics import brier_score_loss\n",
        "\n",
        "pred_rf = rf.predict_proba(test_prepared)\n",
        "\n",
        "auc_rf = roc_auc_score(test_target, pred_rf[:,1])\n",
        "loss_rf = brier_score_loss(test_target, pred_rf[:,1])\n",
        "\n",
        "auc_rf"
      ],
      "execution_count": null,
      "outputs": [
        {
          "output_type": "execute_result",
          "data": {
            "text/plain": [
              "0.790575936333656"
            ]
          },
          "metadata": {
            "tags": []
          },
          "execution_count": 12
        }
      ]
    },
    {
      "cell_type": "code",
      "metadata": {
        "colab": {
          "base_uri": "https://localhost:8080/"
        },
        "id": "MGAR1IbPO_Yk",
        "outputId": "d4e87593-71b4-4287-98d1-194cc444893c"
      },
      "source": [
        "loss_rf"
      ],
      "execution_count": null,
      "outputs": [
        {
          "output_type": "execute_result",
          "data": {
            "text/plain": [
              "0.1817306326853902"
            ]
          },
          "metadata": {
            "tags": []
          },
          "execution_count": 13
        }
      ]
    },
    {
      "cell_type": "markdown",
      "metadata": {
        "id": "It_w7Yy1vpPM"
      },
      "source": [
        "Saving the best model for the original data:"
      ]
    },
    {
      "cell_type": "code",
      "metadata": {
        "colab": {
          "base_uri": "https://localhost:8080/"
        },
        "id": "RFdXap_pPKj4",
        "outputId": "e32d8111-e35b-4cd5-ebab-1f675ba05c35"
      },
      "source": [
        "import joblib\n",
        "\n",
        "filename = 'BestRF.sav'\n",
        "joblib.dump(rf, filename, compress=3)\n"
      ],
      "execution_count": null,
      "outputs": [
        {
          "output_type": "execute_result",
          "data": {
            "text/plain": [
              "['BestRF.sav']"
            ]
          },
          "metadata": {
            "tags": []
          },
          "execution_count": 14
        }
      ]
    },
    {
      "cell_type": "code",
      "metadata": {
        "colab": {
          "base_uri": "https://localhost:8080/"
        },
        "id": "K35nQqZyR3pR",
        "outputId": "30da1676-45fb-4752-8702-89b1717b25cf"
      },
      "source": [
        "from sklearn.ensemble import RandomForestClassifier\n",
        "\n",
        "rf = RandomForestClassifier( bootstrap = False, criterion = 'entropy', max_depth = 60, max_features = 'auto', min_samples_leaf= 5, \n",
        "                      min_samples_split = 5, n_estimators = 300, random_state=42)\n",
        "rf.fit(train_prepared, train_target)"
      ],
      "execution_count": null,
      "outputs": [
        {
          "output_type": "execute_result",
          "data": {
            "text/plain": [
              "RandomForestClassifier(bootstrap=False, ccp_alpha=0.0, class_weight=None,\n",
              "                       criterion='entropy', max_depth=60, max_features='auto',\n",
              "                       max_leaf_nodes=None, max_samples=None,\n",
              "                       min_impurity_decrease=0.0, min_impurity_split=None,\n",
              "                       min_samples_leaf=5, min_samples_split=5,\n",
              "                       min_weight_fraction_leaf=0.0, n_estimators=300,\n",
              "                       n_jobs=None, oob_score=False, random_state=42, verbose=0,\n",
              "                       warm_start=False)"
            ]
          },
          "metadata": {
            "tags": []
          },
          "execution_count": 31
        }
      ]
    },
    {
      "cell_type": "code",
      "metadata": {
        "colab": {
          "base_uri": "https://localhost:8080/"
        },
        "id": "51fAVtd0PryO",
        "outputId": "fc547a29-2e9c-4c9d-9549-4013b0a7d798"
      },
      "source": [
        "from sklearn.metrics import roc_auc_score\n",
        "from sklearn.metrics import brier_score_loss\n",
        "\n",
        "pred_rf = rf.predict_proba(test_prepared)\n",
        "\n",
        "auc_rf = roc_auc_score(test_target, pred_rf[:,1])\n",
        "loss_rf = brier_score_loss(test_target, pred_rf[:,1])\n",
        "\n",
        "auc_rf"
      ],
      "execution_count": null,
      "outputs": [
        {
          "output_type": "execute_result",
          "data": {
            "text/plain": [
              "0.7896261537831428"
            ]
          },
          "metadata": {
            "tags": []
          },
          "execution_count": 32
        }
      ]
    },
    {
      "cell_type": "markdown",
      "metadata": {
        "id": "7-wSyJqkQTcb"
      },
      "source": [
        "0.7896261537831428"
      ]
    },
    {
      "cell_type": "code",
      "metadata": {
        "colab": {
          "base_uri": "https://localhost:8080/"
        },
        "id": "IwlAopm6P_4z",
        "outputId": "76653689-00da-4d1b-f07a-0f865a810213"
      },
      "source": [
        "#Testing Bootstrap:\n",
        "from sklearn.ensemble import RandomForestClassifier\n",
        "\n",
        "rf = RandomForestClassifier( bootstrap = True, criterion = 'entropy', max_depth = 55, max_features = 'auto', min_samples_leaf= 4, \n",
        "                      min_samples_split = 5, n_estimators = 300, random_state=42)\n",
        "rf.fit(train_prepared, train_target)"
      ],
      "execution_count": null,
      "outputs": [
        {
          "output_type": "execute_result",
          "data": {
            "text/plain": [
              "RandomForestClassifier(bootstrap=True, ccp_alpha=0.0, class_weight=None,\n",
              "                       criterion='entropy', max_depth=55, max_features='auto',\n",
              "                       max_leaf_nodes=None, max_samples=None,\n",
              "                       min_impurity_decrease=0.0, min_impurity_split=None,\n",
              "                       min_samples_leaf=4, min_samples_split=5,\n",
              "                       min_weight_fraction_leaf=0.0, n_estimators=300,\n",
              "                       n_jobs=None, oob_score=False, random_state=42, verbose=0,\n",
              "                       warm_start=False)"
            ]
          },
          "metadata": {
            "tags": []
          },
          "execution_count": 33
        }
      ]
    },
    {
      "cell_type": "code",
      "metadata": {
        "colab": {
          "base_uri": "https://localhost:8080/"
        },
        "id": "io8h383-fkvr",
        "outputId": "a9201534-7a84-41ea-83e0-d0c92fcfe3b4"
      },
      "source": [
        "from sklearn.metrics import roc_auc_score\n",
        "from sklearn.metrics import brier_score_loss\n",
        "\n",
        "pred_rf = rf.predict_proba(test_prepared)\n",
        "\n",
        "auc_rf = roc_auc_score(test_target, pred_rf[:,1])\n",
        "loss_rf = brier_score_loss(test_target, pred_rf[:,1])\n",
        "\n",
        "auc_rf"
      ],
      "execution_count": null,
      "outputs": [
        {
          "output_type": "execute_result",
          "data": {
            "text/plain": [
              "0.7867739634598249"
            ]
          },
          "metadata": {
            "tags": []
          },
          "execution_count": 34
        }
      ]
    },
    {
      "cell_type": "code",
      "metadata": {
        "colab": {
          "base_uri": "https://localhost:8080/"
        },
        "id": "eFKtpg0IkLhs",
        "outputId": "072b7796-9eda-44af-ff13-4c5730639897"
      },
      "source": [
        "#Testing min_sample_leaf = 5:\n",
        "from sklearn.ensemble import RandomForestClassifier\n",
        "\n",
        "rf = RandomForestClassifier( bootstrap = False, criterion = 'entropy', max_depth = 55, max_features = 'auto', min_samples_leaf= 5, \n",
        "                      min_samples_split = 5, n_estimators = 300, random_state=42)\n",
        "rf.fit(train_prepared, train_target)"
      ],
      "execution_count": null,
      "outputs": [
        {
          "output_type": "execute_result",
          "data": {
            "text/plain": [
              "RandomForestClassifier(bootstrap=False, ccp_alpha=0.0, class_weight=None,\n",
              "                       criterion='entropy', max_depth=55, max_features='auto',\n",
              "                       max_leaf_nodes=None, max_samples=None,\n",
              "                       min_impurity_decrease=0.0, min_impurity_split=None,\n",
              "                       min_samples_leaf=5, min_samples_split=5,\n",
              "                       min_weight_fraction_leaf=0.0, n_estimators=300,\n",
              "                       n_jobs=None, oob_score=False, random_state=42, verbose=0,\n",
              "                       warm_start=False)"
            ]
          },
          "metadata": {
            "tags": []
          },
          "execution_count": 35
        }
      ]
    },
    {
      "cell_type": "code",
      "metadata": {
        "colab": {
          "base_uri": "https://localhost:8080/"
        },
        "id": "2KqILWTMHkMa",
        "outputId": "087e311f-9e79-412e-a185-9492cff8f723"
      },
      "source": [
        "from sklearn.metrics import roc_auc_score\n",
        "from sklearn.metrics import brier_score_loss\n",
        "\n",
        "pred_rf = rf.predict_proba(test_prepared)\n",
        "\n",
        "auc_rf = roc_auc_score(test_target, pred_rf[:,1])\n",
        "loss_rf = brier_score_loss(test_target, pred_rf[:,1])\n",
        "\n",
        "auc_rf"
      ],
      "execution_count": null,
      "outputs": [
        {
          "output_type": "execute_result",
          "data": {
            "text/plain": [
              "0.7896865466877714"
            ]
          },
          "metadata": {
            "tags": []
          },
          "execution_count": 36
        }
      ]
    },
    {
      "cell_type": "code",
      "metadata": {
        "id": "cnwRCc9PW3FH"
      },
      "source": [
        "from imblearn.under_sampling import RandomUnderSampler\n",
        "from imblearn.over_sampling import RandomOverSampler\n",
        "\n",
        "rus = RandomUnderSampler(random_state=42)\n",
        "data_under, target_under = rus.fit_resample(train_prepared, train_target)\n",
        "\n",
        "ros = RandomOverSampler(random_state=42)\n",
        "data_over, target_over = ros.fit_resample(train_prepared, train_target)"
      ],
      "execution_count": null,
      "outputs": []
    },
    {
      "cell_type": "code",
      "metadata": {
        "colab": {
          "base_uri": "https://localhost:8080/"
        },
        "id": "6PN09op3XHj_",
        "outputId": "43d2ee8f-0e8e-4574-c794-843739521298"
      },
      "source": [
        "#Testing Best Model with Undersampling:\n",
        "\n",
        "from sklearn.ensemble import RandomForestClassifier\n",
        "\n",
        "rf = RandomForestClassifier( bootstrap = False, criterion = 'entropy', max_depth = 55, max_features = 'auto', min_samples_leaf= 4, \n",
        "                      min_samples_split = 5, n_estimators = 300, random_state=42)\n",
        "\n",
        "rf.fit(data_under, target_under)"
      ],
      "execution_count": null,
      "outputs": [
        {
          "output_type": "execute_result",
          "data": {
            "text/plain": [
              "RandomForestClassifier(bootstrap=False, ccp_alpha=0.0, class_weight=None,\n",
              "                       criterion='entropy', max_depth=55, max_features='auto',\n",
              "                       max_leaf_nodes=None, max_samples=None,\n",
              "                       min_impurity_decrease=0.0, min_impurity_split=None,\n",
              "                       min_samples_leaf=4, min_samples_split=5,\n",
              "                       min_weight_fraction_leaf=0.0, n_estimators=300,\n",
              "                       n_jobs=None, oob_score=False, random_state=42, verbose=0,\n",
              "                       warm_start=False)"
            ]
          },
          "metadata": {
            "tags": []
          },
          "execution_count": 16
        }
      ]
    },
    {
      "cell_type": "code",
      "metadata": {
        "colab": {
          "base_uri": "https://localhost:8080/"
        },
        "id": "REdP_fdssenN",
        "outputId": "2d163338-3ff4-4621-baa1-e48366568ffc"
      },
      "source": [
        "from sklearn.metrics import roc_auc_score\n",
        "from sklearn.metrics import brier_score_loss\n",
        "\n",
        "pred_rf = rf.predict_proba(test_prepared)\n",
        "\n",
        "auc_rf = roc_auc_score(test_target, pred_rf[:,1])\n",
        "loss_rf = brier_score_loss(test_target, pred_rf[:,1])\n",
        "\n",
        "auc_rf"
      ],
      "execution_count": null,
      "outputs": [
        {
          "output_type": "execute_result",
          "data": {
            "text/plain": [
              "0.7894275007426411"
            ]
          },
          "metadata": {
            "tags": []
          },
          "execution_count": 17
        }
      ]
    },
    {
      "cell_type": "code",
      "metadata": {
        "id": "Kfi2X7whDGdO"
      },
      "source": [
        "\n",
        "\n",
        "from sklearn.model_selection import RandomizedSearchCV\n",
        "from sklearn.ensemble import RandomForestClassifier\n",
        "import numpy as np\n",
        "\n",
        "# Number of trees in random forest\n",
        "n_estimators = [int(x) for x in np.linspace(start = 200, stop = 2000, num = 10)]\n",
        "\n",
        "# Maximum number of levels in tree\n",
        "max_depth = [int(x) for x in np.linspace(10, 110, num = 11)]\n",
        "max_depth.append(None)\n",
        "\n",
        "# Minimum number of samples required to split a node\n",
        "min_samples_split = [2, 5, 10]\n",
        "\n",
        "# Minimum number of samples required at each leaf node\n",
        "min_samples_leaf = [1, 2, 4]\n",
        "\n",
        "# Method of selecting samples for training each tree\n",
        "bootstrap = [True, False]\n",
        "\n",
        "# Criterion\n",
        "criterion = ['gini', 'entropy']\n",
        "\n",
        "random_grid = {'n_estimators': n_estimators,\n",
        "               'max_depth': max_depth,\n",
        "               'min_samples_split': min_samples_split,\n",
        "               'min_samples_leaf': min_samples_leaf,\n",
        "               'criterion': criterion}\n",
        "\n",
        "rf = RandomForestClassifier(random_state=42)\n",
        "\n",
        "rf_random = RandomizedSearchCV(estimator = rf, param_distributions = random_grid, n_iter = 3, cv = 3, verbose=2, random_state=42, n_jobs = -1)\n",
        "\n",
        "rf_random.fit(data_under, target_under)\n",
        "\n",
        "rf_random.best_params_"
      ],
      "execution_count": null,
      "outputs": []
    },
    {
      "cell_type": "code",
      "metadata": {
        "colab": {
          "base_uri": "https://localhost:8080/"
        },
        "id": "c4ubQkj6ExME",
        "outputId": "0b02d37e-c882-4e60-8473-d9a2c9490538"
      },
      "source": [
        "#Testing Best Model with Undersampling (after Random search): it took 9 hours to run because of high n_estimators\n",
        "\n",
        "from sklearn.ensemble import RandomForestClassifier\n",
        "\n",
        "rf = RandomForestClassifier( bootstrap = False, criterion = 'entropy', max_depth = 30, max_features = 'auto', min_samples_leaf= 2, \n",
        "                      min_samples_split = 2, n_estimators = 1000, random_state=42)\n",
        "\n",
        "rf.fit(data_under, target_under)\n",
        "\n",
        "from sklearn.metrics import roc_auc_score\n",
        "from sklearn.metrics import brier_score_loss\n",
        "\n",
        "pred_rf = rf.predict_proba(test_prepared)\n",
        "\n",
        "auc_rf = roc_auc_score(test_target, pred_rf[:,1])\n",
        "loss_rf = brier_score_loss(test_target, pred_rf[:,1])\n",
        "\n",
        "auc_rf"
      ],
      "execution_count": null,
      "outputs": [
        {
          "output_type": "execute_result",
          "data": {
            "text/plain": [
              "0.7916932434176123"
            ]
          },
          "metadata": {
            "tags": []
          },
          "execution_count": 14
        }
      ]
    },
    {
      "cell_type": "code",
      "metadata": {
        "id": "iQyTrzZm9uFw"
      },
      "source": [
        "#Best Model with Undersampling with reasonable n_estimators that allows it to be trained in less than 3 hours\n",
        "\n",
        "from sklearn.ensemble import RandomForestClassifier\n",
        "\n",
        "rf = RandomForestClassifier( bootstrap = False, criterion = 'entropy', max_depth = 30, max_features = 'auto', min_samples_leaf= 2, \n",
        "                      min_samples_split = 2, n_estimators = 300, random_state=42)\n",
        "\n",
        "rf.fit(data_under, target_under)\n",
        "\n",
        "from sklearn.metrics import roc_auc_score\n",
        "from sklearn.metrics import brier_score_loss\n",
        "\n",
        "pred_rf = rf.predict_proba(test_prepared)\n",
        "\n",
        "auc_rf_under = roc_auc_score(test_target, pred_rf[:,1])\n",
        "loss_rf_under = brier_score_loss(test_target, pred_rf[:,1])\n",
        "\n",
        "print(auc_rf_under, loss_rf_under)"
      ],
      "execution_count": null,
      "outputs": []
    },
    {
      "cell_type": "code",
      "metadata": {
        "id": "nbV5ZM6Lxh-a"
      },
      "source": [
        "print(auc_rf, loss_rf)"
      ],
      "execution_count": null,
      "outputs": []
    },
    {
      "cell_type": "code",
      "metadata": {
        "colab": {
          "base_uri": "https://localhost:8080/"
        },
        "id": "FnZ-MnRmslyr",
        "outputId": "874bca72-b9cc-4539-c36d-5c8e1cfbfc69"
      },
      "source": [
        "#Testing Best Model with Oversampling \n",
        "\n",
        "from sklearn.ensemble import RandomForestClassifier\n",
        "\n",
        "rf = RandomForestClassifier( bootstrap = False, criterion = 'entropy', max_depth = 55, max_features = 'auto', min_samples_leaf= 4, \n",
        "                      min_samples_split = 5, n_estimators = 300, random_state=42)\n",
        "\n",
        "rf.fit(data_over, target_over)"
      ],
      "execution_count": null,
      "outputs": [
        {
          "output_type": "execute_result",
          "data": {
            "text/plain": [
              "RandomForestClassifier(bootstrap=False, ccp_alpha=0.0, class_weight=None,\n",
              "                       criterion='entropy', max_depth=55, max_features='auto',\n",
              "                       max_leaf_nodes=None, max_samples=None,\n",
              "                       min_impurity_decrease=0.0, min_impurity_split=None,\n",
              "                       min_samples_leaf=4, min_samples_split=5,\n",
              "                       min_weight_fraction_leaf=0.0, n_estimators=300,\n",
              "                       n_jobs=None, oob_score=False, random_state=42, verbose=0,\n",
              "                       warm_start=False)"
            ]
          },
          "metadata": {
            "tags": []
          },
          "execution_count": 18
        }
      ]
    },
    {
      "cell_type": "code",
      "metadata": {
        "colab": {
          "base_uri": "https://localhost:8080/"
        },
        "id": "w0MfiFCQJvdh",
        "outputId": "c651d166-2045-4d1f-82fb-b7bf36e17cc4"
      },
      "source": [
        "from sklearn.metrics import roc_auc_score\n",
        "from sklearn.metrics import brier_score_loss\n",
        "\n",
        "pred_rf = rf.predict_proba(test_prepared)\n",
        "\n",
        "auc_rf = roc_auc_score(test_target, pred_rf[:,1])\n",
        "loss_rf = brier_score_loss(test_target, pred_rf[:,1])\n",
        "\n",
        "auc_rf"
      ],
      "execution_count": null,
      "outputs": [
        {
          "output_type": "execute_result",
          "data": {
            "text/plain": [
              "0.7911611214789033"
            ]
          },
          "metadata": {
            "tags": []
          },
          "execution_count": 19
        }
      ]
    },
    {
      "cell_type": "markdown",
      "metadata": {
        "id": "T0MQVAtuwiVj"
      },
      "source": [
        "Saving the best model for oversampling:"
      ]
    },
    {
      "cell_type": "code",
      "metadata": {
        "colab": {
          "base_uri": "https://localhost:8080/"
        },
        "id": "QB6Oti19QhSg",
        "outputId": "56b612ac-82ad-45d8-e4ef-ec13d34ea1bb"
      },
      "source": [
        "import joblib\n",
        "joblib.dump(rf, \"RF_over.joblib\", compress=3)"
      ],
      "execution_count": null,
      "outputs": [
        {
          "output_type": "execute_result",
          "data": {
            "text/plain": [
              "['RF_over.joblib']"
            ]
          },
          "metadata": {
            "tags": []
          },
          "execution_count": 20
        }
      ]
    },
    {
      "cell_type": "markdown",
      "metadata": {
        "id": "hEl6mIjYw-ED"
      },
      "source": [
        "### 4 - Performance Evaluation"
      ]
    },
    {
      "cell_type": "code",
      "metadata": {
        "id": "RRZum5v_QhlP"
      },
      "source": [
        "import joblib\n",
        "\n",
        "RF_over = joblib.load('/RF_over.joblib')\n",
        "RF = joblib.load('/BestRF.sav')"
      ],
      "execution_count": null,
      "outputs": []
    },
    {
      "cell_type": "code",
      "metadata": {
        "id": "y1iGjv54hCFL"
      },
      "source": [
        "from sklearn.metrics import roc_auc_score\n",
        "from sklearn.metrics import brier_score_loss\n",
        "\n",
        "pred_rf = RF.predict_proba(test_prepared)\n",
        "\n",
        "auc_rf = roc_auc_score(test_target, pred_rf[:,1])\n",
        "loss_rf = brier_score_loss(test_target, pred_rf[:,1])\n"
      ],
      "execution_count": null,
      "outputs": []
    },
    {
      "cell_type": "code",
      "metadata": {
        "id": "pKSSe_dxZfEz"
      },
      "source": [
        "from sklearn.metrics import roc_auc_score\n",
        "from sklearn.metrics import brier_score_loss\n",
        "\n",
        "pred_rf_over = RF_over.predict_proba(test_prepared)\n",
        "\n",
        "auc_rf_over = roc_auc_score(test_target, pred_rf_over[:,1])\n",
        "loss_rf_over = brier_score_loss(test_target, pred_rf_over[:,1])"
      ],
      "execution_count": null,
      "outputs": []
    },
    {
      "cell_type": "code",
      "metadata": {
        "colab": {
          "base_uri": "https://localhost:8080/",
          "height": 142
        },
        "id": "R4pxf1ETaEQH",
        "outputId": "9a44c7bb-f40b-4e15-a1f6-13f11153006e"
      },
      "source": [
        "auc_rf = 0.790576\n",
        "auc_rf_over = 0.791161\n",
        "auc_rf_under = 0.790106\n",
        "\n",
        "loss_rf = 0.181731\n",
        "loss_rf_over = 0.182321\n",
        "loss_rf_under = 0.189422\n",
        "\n",
        "# List with AUC scores\n",
        "auc_list = [auc_rf, auc_rf_over, auc_rf_under]\n",
        "\n",
        "# List with Brier Scores\n",
        "bs_list = [loss_rf, loss_rf_over, loss_rf_under]\n",
        "\n",
        "# List with model names\n",
        "names_list = ['Original','Oversample', 'Undersample']\n",
        "\n",
        "# Dataframe \n",
        "auc_df = pd.DataFrame({\"Sample\": names_list, \"AUC\": auc_list, \"BS\": bs_list})\n",
        "auc_df.sort_values(by = \"AUC\", ascending=False)"
      ],
      "execution_count": null,
      "outputs": [
        {
          "output_type": "execute_result",
          "data": {
            "text/html": [
              "<div>\n",
              "<style scoped>\n",
              "    .dataframe tbody tr th:only-of-type {\n",
              "        vertical-align: middle;\n",
              "    }\n",
              "\n",
              "    .dataframe tbody tr th {\n",
              "        vertical-align: top;\n",
              "    }\n",
              "\n",
              "    .dataframe thead th {\n",
              "        text-align: right;\n",
              "    }\n",
              "</style>\n",
              "<table border=\"1\" class=\"dataframe\">\n",
              "  <thead>\n",
              "    <tr style=\"text-align: right;\">\n",
              "      <th></th>\n",
              "      <th>Model</th>\n",
              "      <th>AUC</th>\n",
              "      <th>BS</th>\n",
              "    </tr>\n",
              "  </thead>\n",
              "  <tbody>\n",
              "    <tr>\n",
              "      <th>1</th>\n",
              "      <td>Oversampling</td>\n",
              "      <td>0.791161</td>\n",
              "      <td>0.182321</td>\n",
              "    </tr>\n",
              "    <tr>\n",
              "      <th>0</th>\n",
              "      <td>Original</td>\n",
              "      <td>0.790576</td>\n",
              "      <td>0.181731</td>\n",
              "    </tr>\n",
              "    <tr>\n",
              "      <th>2</th>\n",
              "      <td>Undersampling</td>\n",
              "      <td>0.790106</td>\n",
              "      <td>0.189422</td>\n",
              "    </tr>\n",
              "  </tbody>\n",
              "</table>\n",
              "</div>"
            ],
            "text/plain": [
              "           Model       AUC        BS\n",
              "1   Oversampling  0.791161  0.182321\n",
              "0       Original  0.790576  0.181731\n",
              "2  Undersampling  0.790106  0.189422"
            ]
          },
          "metadata": {
            "tags": []
          },
          "execution_count": 19
        }
      ]
    },
    {
      "cell_type": "markdown",
      "metadata": {
        "id": "rAehVhkpXbJX"
      },
      "source": [
        "Conclusion:\n",
        "\n",
        "The best Random forest model is as follows bellow trained in an oversampled data set:\n",
        "\n",
        "rf = RandomForestClassifier( bootstrap = False, criterion = 'entropy', max_depth = 55, max_features = 'auto', min_samples_leaf= 4, \n",
        "                      min_samples_split = 5, n_estimators = 300, random_state=42)"
      ]
    }
  ]
}