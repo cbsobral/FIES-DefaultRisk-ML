{
  "nbformat": 4,
  "nbformat_minor": 0,
  "metadata": {
    "colab": {
      "name": "Module00_LoadingData.ipynb",
      "provenance": [],
      "collapsed_sections": [],
      "include_colab_link": true
    },
    "kernelspec": {
      "display_name": "Python 3",
      "language": "python",
      "name": "python3"
    },
    "language_info": {
      "codemirror_mode": {
        "name": "ipython",
        "version": 3
      },
      "file_extension": ".py",
      "mimetype": "text/x-python",
      "name": "python",
      "nbconvert_exporter": "python",
      "pygments_lexer": "ipython3",
      "version": "3.8.3"
    }
  },
  "cells": [
    {
      "cell_type": "markdown",
      "metadata": {
        "id": "view-in-github",
        "colab_type": "text"
      },
      "source": [
        "<a href=\"https://colab.research.google.com/github/cbsobral/ml-fies/blob/main/Module00_Data.ipynb\" target=\"_parent\"><img src=\"https://colab.research.google.com/assets/colab-badge.svg\" alt=\"Open In Colab\"/></a>"
      ]
    },
    {
      "cell_type": "markdown",
      "metadata": {
        "id": "qSSIbHD3ogH6"
      },
      "source": [
        "## Module 00 - Create Train and Test Sets\n",
        "\n",
        "In this first module, we perform the following steps:\n",
        "\n",
        "1. Load the data from Google Drive in two parts (the file is too big to load at once);\n",
        "2. Exclude irrelevant variables or variables with too many missing values;\n",
        "3. Rename variables in English and whenever possible with shorter names;\n",
        "4. Perform correlation analysis on groups of variables. "
      ]
    },
    {
      "cell_type": "markdown",
      "metadata": {
        "id": "D15x3tAyogIC"
      },
      "source": [
        "### 1 - Load Data\n",
        "\n"
      ]
    },
    {
      "cell_type": "code",
      "metadata": {
        "colab": {
          "base_uri": "https://localhost:8080/"
        },
        "id": "5AkGS1VgogID",
        "outputId": "498880f9-32a7-4cac-d212-60fc9ee3e32f"
      },
      "source": [
        "import pandas as pd\n",
        "\n",
        "url_a = \"https://drive.google.com/file/d/1prPbFSiXFTHmTHzXTGxy4HrtRxXUHhce/view?usp=sharing\"\n",
        "path_a = \"https://drive.google.com/uc?export=download&id=\"+url_a.split(\"/\")[-2]\n",
        "base_df_a = pd.read_excel(path_a)\n",
        "base_df_a.shape"
      ],
      "execution_count": null,
      "outputs": [
        {
          "output_type": "execute_result",
          "data": {
            "text/plain": [
              "(309999, 37)"
            ]
          },
          "metadata": {
            "tags": []
          },
          "execution_count": 103
        }
      ]
    },
    {
      "cell_type": "code",
      "metadata": {
        "colab": {
          "base_uri": "https://localhost:8080/"
        },
        "id": "hyJ2yJuqogIG",
        "outputId": "a47f510c-0efb-47a9-97fc-e4c489d0edc3"
      },
      "source": [
        "url_b = \"https://drive.google.com/file/d/1nGckSszPPifPvR3o5FeYaKArUYbfjHGn/view?usp=sharing\"\n",
        "path_b = \"https://drive.google.com/uc?export=download&id=\"+url_b.split(\"/\")[-2]\n",
        "base_df_b = pd.read_excel(path_b)\n",
        "base_df_b.shape"
      ],
      "execution_count": null,
      "outputs": [
        {
          "output_type": "execute_result",
          "data": {
            "text/plain": [
              "(327823, 37)"
            ]
          },
          "metadata": {
            "tags": []
          },
          "execution_count": 104
        }
      ]
    },
    {
      "cell_type": "code",
      "metadata": {
        "colab": {
          "base_uri": "https://localhost:8080/"
        },
        "id": "1nhq9lgWogII",
        "outputId": "ca3e17cb-c019-4de2-d489-bb96adacccf1"
      },
      "source": [
        "complete_set = base_df_a.append(base_df_b)\n",
        "complete_set.shape"
      ],
      "execution_count": null,
      "outputs": [
        {
          "output_type": "execute_result",
          "data": {
            "text/plain": [
              "(637822, 37)"
            ]
          },
          "metadata": {
            "tags": []
          },
          "execution_count": 327
        }
      ]
    },
    {
      "cell_type": "markdown",
      "metadata": {
        "id": "SjnAzKW4ogIJ"
      },
      "source": [
        "### 2 - Adjust Variables"
      ]
    },
    {
      "cell_type": "markdown",
      "metadata": {
        "id": "INvPSP-TguA-"
      },
      "source": [
        "In this section, we rename the variables in the dataset and then create three new ones: \n",
        "\n",
        "*   `student`: binary variable to indicate whether the borrower has other occupation outside of being a student;\n",
        "*   `default`: binary varible -- 1 if deliquency period of the loan is superior to 360 days and 0 otherwise;\n",
        "* `age`: age calculate from the birth year. \n",
        "\n",
        "---\n",
        "\n",
        "\n",
        "\n"
      ]
    },
    {
      "cell_type": "code",
      "metadata": {
        "id": "Ky27V0YJogIK"
      },
      "source": [
        "# Student\n",
        "complete_set = complete_set.assign(student = 1*(complete_set[\"DS_OCUPACAO\"]==\"Estudante\"))\n",
        "\n",
        "# Default\n",
        "complete_set = complete_set.assign(default = 1*(complete_set[\"nu_dias_atraso\"]>=360))\n",
        "\n",
        "# Age\n",
        "complete_set = complete_set[pd.to_numeric(complete_set[\"ANO_NASC\"],errors='coerce').notna()]\n",
        "complete_set = complete_set.assign(age = 2015 - (complete_set[\"ANO_NASC\"]))"
      ],
      "execution_count": null,
      "outputs": []
    },
    {
      "cell_type": "code",
      "metadata": {
        "colab": {
          "base_uri": "https://localhost:8080/"
        },
        "id": "gz8vy6TVogIK",
        "outputId": "4c999c72-7a8f-405d-f068-5f37185710b7"
      },
      "source": [
        "new_names ={\"NU_ANO_SEMESTRE_INSCRICAO\":\"semester_enroll\",\n",
        "            \"SG_SEXO\":\"gender\",\n",
        "            \"DS_OCUPACAO\":\"occupation\",\n",
        "            \"DS_RACA_COR\" : \"ethnicity\",\n",
        "            \"NU_ANO_CONCLUSAO_ENSINO_MEDIO\":\"high_school_endyear\",\n",
        "            \"SG_UF_CURSO\": \"state_course\",\n",
        "            \"QT_SEMESTRES_CURSO\": \"n_sem_course\",\n",
        "            \"VL_SEMESTRE_COM_DESCONTO\": \"tuition_discounted\",\n",
        "            \"NU_PERCENT_SOLICITADO_FINANC\":\"perc_requested\",\n",
        "            \"VL_FINANC_RECURSO_ALUNO\":\"student_resource\",\n",
        "            \"ANO_NASC\":\"birth_year\",\n",
        "            \"DS_ESTADO_CIVIL\":\"marital_status\", \n",
        "            \"VL_RENDA_PESSOAL_BRUTA_MENSAL\": \"personal_income\",\n",
        "            \"VL_RENDA_FAMILIAR_BRUTA_MENSAL\": \"family_income\",\n",
        "            \"ST_ENSINO_MEDIO_ESCOLA_PUBLICA\": \"public_hs\",\n",
        "            \"NO_CURSO\": \"degree\",\n",
        "            \"QT_SEMESTRE_CONCLUIDO\": \"n_completed_sem\",\n",
        "            \"VL_SEMESTRE_ATUAL\": \"tuition_current\",\n",
        "            \"VL_FINANCIADO_SEMESTRE\": \"loan_value_sem\",\n",
        "            \"fase_contrato\": \"contract_phase\",\n",
        "            \"vl_divida\": \"total_debt\",            \n",
        "            \"VL_AVALIACAO_IGC\": \"igc\",\n",
        "            \"VL_FAIXA_CPC\": \"cpc\",\n",
        "            \"VL_FAIXA_CC\": \"cc\",\n",
        "            \"QT_SEMESTRE_FINANCIAMENTO\": \"sem_funded\",\n",
        "            \"QT_MEMBRO\": \"fam_size\",\n",
        "            \"VL_RENDA_PER_CAPITA\":\"income_pc\",\n",
        "            \"NU_PERCENTUAL_COMPROMETIMENTO\":\"inc_prop\",\n",
        "            \"VL_TOTAL_FINANCIAMENTO\":\"loan_value\",\n",
        "            \"VL_LIMITE_GLOBAL\":\"loan_limit\",\n",
        "            \"dt_inicio_cont\":\"date_contract\"\n",
        "}\n",
        "\n",
        "complete_set = complete_set.rename(index=str, columns=new_names)\n",
        "print(complete_set.columns)"
      ],
      "execution_count": null,
      "outputs": [
        {
          "output_type": "stream",
          "text": [
            "Index(['semester_enroll', 'gender', 'occupation', 'marital_status',\n",
            "       'family_income', 'personal_income', 'NO_MUNICIPIO', 'SG_UF',\n",
            "       'ethnicity', 'public_hs', 'high_school_endyear',\n",
            "       'NU_SEMESTRE_REFERENCIA', 'state_course', 'degree', 'igc', 'cpc', 'cc',\n",
            "       'n_sem_course', 'n_completed_sem', 'sem_funded',\n",
            "       'QT_MESES_FINANC_SEMESTRE_ATUAL', 'fam_size', 'income_pc',\n",
            "       'VL_SEMESTRE_SEM_DESCONTO', 'tuition_discounted', 'tuition_current',\n",
            "       'inc_prop', 'perc_requested', 'loan_value_sem', 'student_resource',\n",
            "       'loan_value', 'loan_limit', 'date_contract', 'contract_phase',\n",
            "       'nu_dias_atraso', 'total_debt', 'birth_year', 'student', 'default',\n",
            "       'age'],\n",
            "      dtype='object')\n"
          ],
          "name": "stdout"
        }
      ]
    },
    {
      "cell_type": "markdown",
      "metadata": {
        "id": "rfn09CydogIL"
      },
      "source": [
        "### 3 - Clean Dataset"
      ]
    },
    {
      "cell_type": "markdown",
      "metadata": {
        "id": "ed9JBddKBneb"
      },
      "source": [
        "In this section we drop unecessary variables, deal with wrong entries and outliers, drop NA's and adjust variable types.\n",
        "\n",
        "Most of the variables were dropped due to inconsistencies and missing data. `nu_dias_atraso` was dropped as it was used to create the binary target variable `default`."
      ]
    },
    {
      "cell_type": "code",
      "metadata": {
        "id": "O-5uSQx3tGHY"
      },
      "source": [
        "variables_to_drop = [\"NO_MUNICIPIO\", # municipality\n",
        "                     \"SG_UF\", # state\n",
        "                     \"VL_SEMESTRE_SEM_DESCONTO\", # value of semester without discount\n",
        "                     \"NU_SEMESTRE_REFERENCIA\", # semester of reference\n",
        "                     \"nu_dias_atraso\", # period of deliquency\n",
        "                     \"QT_MESES_FINANC_SEMESTRE_ATUAL\", # number of months for loans\n",
        "                     \"cpc\", # university evaluation\n",
        "                     \"cc\"] # university evaluation\n",
        "\n",
        "complete_set_clean = complete_set.drop(variables_to_drop, axis = 1)                "
      ],
      "execution_count": null,
      "outputs": []
    },
    {
      "cell_type": "markdown",
      "metadata": {
        "id": "oh4p74NKHWJj"
      },
      "source": [
        "The variable `loan_value_sem` (value of loan in the semester) has over 7,000 entries that are over 99 milion reais. We assume they are coding errors and recalculate them to be the equal to the value of the tuition (`tuition_current`) times the percentage of tuition requested as a loan (`perc_requested`). We also eliminate 4 outliers from `family_income`. Finally we filter `age` to include values ranging between 10 and 100 years old. \n",
        "\n"
      ]
    },
    {
      "cell_type": "code",
      "metadata": {
        "id": "HgSq5ISLvfBt"
      },
      "source": [
        "import numpy as np\n",
        "\n",
        "complete_set_clean['loan_value_sem'] = np.where((complete_set_clean.loan_value_sem > 300000), \n",
        "                                          (complete_set_clean[\"perc_requested\"]/100 * complete_set_clean[\"tuition_current\"]), \n",
        "                                          complete_set_clean.loan_value_sem)"
      ],
      "execution_count": null,
      "outputs": []
    },
    {
      "cell_type": "code",
      "metadata": {
        "id": "eGRz0Il9guBC"
      },
      "source": [
        "complete_set_clean = complete_set_clean.loc[(complete_set_clean['family_income'] < 100000)] "
      ],
      "execution_count": null,
      "outputs": []
    },
    {
      "cell_type": "code",
      "metadata": {
        "id": "xgNYTGjBguBD"
      },
      "source": [
        "complete_set_clean = complete_set_clean.loc[(complete_set_clean['age'] < 100) & (complete_set_clean['age'] > 10)] "
      ],
      "execution_count": null,
      "outputs": []
    },
    {
      "cell_type": "markdown",
      "metadata": {
        "id": "y4bkcOB6Ifdk"
      },
      "source": [
        "For the variables in the list below, we drop NAs, as they do not comprise a large share of observations. After this step, we end up with 620,919 instances. "
      ]
    },
    {
      "cell_type": "code",
      "metadata": {
        "id": "X3smpA04ogIN"
      },
      "source": [
        "complete_set_clean = complete_set_clean.dropna(subset=[\"semester_enroll\",\n",
        "                                                      \"gender\",\n",
        "                                                       \"occupation\",\n",
        "                                                       \"marital_status\",\n",
        "                                                       \"ethnicity\",\n",
        "                                                       \"public_hs\",\n",
        "                                                       \"state_course\",\n",
        "                                                       \"degree\",\n",
        "                                                       \"igc\",\n",
        "                                                       \"contract_phase\",\n",
        "                                                       \"high_school_endyear\"])"
      ],
      "execution_count": null,
      "outputs": []
    },
    {
      "cell_type": "markdown",
      "metadata": {
        "id": "zsHAKTuFIvov"
      },
      "source": [
        "The last step is adjusting some variable types. "
      ]
    },
    {
      "cell_type": "code",
      "metadata": {
        "id": "itTdp928ogIL"
      },
      "source": [
        "import datetime as dt\n",
        "              \n",
        "complete_set_clean[\"date_contract\"]= complete_set_clean[\"date_contract\"].map(dt.datetime.toordinal)\n",
        "complete_set_clean = complete_set_clean.astype({\"semester_enroll\":str, \"igc\":'int64'})"
      ],
      "execution_count": null,
      "outputs": []
    },
    {
      "cell_type": "markdown",
      "metadata": {
        "id": "yNI9-n1TsaD4"
      },
      "source": [
        " ### 4 - Correlation Matrix\n",
        "\n",
        "In this section, we perform a quick correlation analysis. The only variable to be dropped is `tuition_discounted`, since it has perfect correlation with another variable (`tuition_current`). The remainder will be subject to further analysis in the future. "
      ]
    },
    {
      "cell_type": "code",
      "metadata": {
        "colab": {
          "base_uri": "https://localhost:8080/"
        },
        "id": "16Dpj4i4sv9K",
        "outputId": "2fe973fd-8d65-46e5-be4c-e37819f599d7"
      },
      "source": [
        "corr_matrix = complete_set_clean.corr()\n",
        "corr_matrix['default'].sort_values(ascending=False, key=pd.Series.abs)"
      ],
      "execution_count": null,
      "outputs": [
        {
          "output_type": "execute_result",
          "data": {
            "text/plain": [
              "default                1.000000\n",
              "family_income         -0.226715\n",
              "n_sem_course          -0.224457\n",
              "income_pc             -0.207312\n",
              "sem_funded            -0.190911\n",
              "total_debt            -0.170652\n",
              "loan_value            -0.166323\n",
              "tuition_discounted    -0.148594\n",
              "perc_requested         0.147961\n",
              "tuition_current       -0.147188\n",
              "student_resource      -0.144194\n",
              "loan_limit            -0.138106\n",
              "loan_value_sem        -0.109301\n",
              "fam_size              -0.101595\n",
              "igc                   -0.078512\n",
              "student               -0.077310\n",
              "date_contract         -0.064888\n",
              "n_completed_sem        0.060517\n",
              "inc_prop               0.046517\n",
              "personal_income       -0.018339\n",
              "high_school_endyear    0.014004\n",
              "Name: default, dtype: float64"
            ]
          },
          "metadata": {
            "tags": []
          },
          "execution_count": 336
        }
      ]
    },
    {
      "cell_type": "markdown",
      "metadata": {
        "id": "wsLY_zVXNXb3"
      },
      "source": [
        "For the analysis, two subsets are created: \n",
        "\n",
        "* `corr_income`: containing variables related to family income;\n",
        "* `corr_tuition`: containing variables related to tuition value."
      ]
    },
    {
      "cell_type": "code",
      "metadata": {
        "id": "h96KEl0TtG7p"
      },
      "source": [
        "corr_income = complete_set_clean[['family_income', 'income_pc', 'fam_size', 'default']].copy()\n",
        "corr_tuition = complete_set_clean[['tuition_discounted', 'tuition_current', 'loan_limit', 'loan_value_sem', 'loan_value', 'perc_requested', 'default']].copy()"
      ],
      "execution_count": null,
      "outputs": []
    },
    {
      "cell_type": "code",
      "metadata": {
        "colab": {
          "base_uri": "https://localhost:8080/",
          "height": 270
        },
        "id": "y0AI0SbrsZh2",
        "outputId": "eef3a435-d5f7-4a93-ccc8-5c5f8dd91790"
      },
      "source": [
        "import seaborn as sn\n",
        "import matplotlib.pyplot as plt\n",
        "\n",
        "corrMatrix = corr_income.corr()\n",
        "sn.heatmap(corrMatrix, annot=True)\n",
        "plt.show()"
      ],
      "execution_count": null,
      "outputs": [
        {
          "output_type": "display_data",
          "data": {
            "image/png": "[encoded data removed]",
            "text/plain": [
              "<Figure size 432x288 with 2 Axes>"
            ]
          },
          "metadata": {
            "tags": [],
            "needs_background": "light"
          }
        }
      ]
    },
    {
      "cell_type": "code",
      "metadata": {
        "colab": {
          "base_uri": "https://localhost:8080/",
          "height": 352
        },
        "id": "dSXk2Pnnz0rz",
        "outputId": "0191ea7d-0124-4502-f43c-79bb6dd45b79"
      },
      "source": [
        "corrMatrix = corr_tuition.corr()\n",
        "sn.heatmap(corrMatrix, annot=True)\n",
        "plt.show()"
      ],
      "execution_count": null,
      "outputs": [
        {
          "output_type": "display_data",
          "data": {
            "image/png": "[encoded data removed]",
            "text/plain": [
              "<Figure size 432x288 with 2 Axes>"
            ]
          },
          "metadata": {
            "tags": [],
            "needs_background": "light"
          }
        }
      ]
    },
    {
      "cell_type": "code",
      "metadata": {
        "id": "dR29SVo06Dak"
      },
      "source": [
        "complete_set_clean = complete_set_clean.drop(\"tuition_discounted\", axis=1)"
      ],
      "execution_count": null,
      "outputs": []
    },
    {
      "cell_type": "markdown",
      "metadata": {
        "id": "fVwJfudJogIS"
      },
      "source": [
        "### 5 - Creat Train and Test Sets\n",
        "\n",
        "In this section we will create the training and test set using the function *train_test_split* from Scikit-Learn. Two important considerations about our choice:\n",
        "\n",
        "* Our dataset is a sample provided by the Brazilian Governent and will not be updated. Therefore, we chose not to be concerned about future splits with updated data;\n",
        "\n",
        "* Our original data includes 637,822 instances. After cleaning the dataset, we still have 620,919 instances. Thus, we assume it is big enough and do not employ stratified sampling."
      ]
    },
    {
      "cell_type": "code",
      "metadata": {
        "id": "hJuseFTaogIS"
      },
      "source": [
        "from sklearn.model_selection import train_test_split\n",
        "train, test = train_test_split(complete_set_clean, test_size=0.2, random_state=42)"
      ],
      "execution_count": null,
      "outputs": []
    },
    {
      "cell_type": "markdown",
      "metadata": {
        "id": "Qsaeu5izo8zp"
      },
      "source": [
        "### 6 - Download Sets"
      ]
    },
    {
      "cell_type": "code",
      "metadata": {
        "id": "x5D3kvuso7_R"
      },
      "source": [
        "from google.colab import files\n",
        "\n",
        "# Training dataset\n",
        "train.to_csv('train.csv', index=False)\n",
        "files.download('train.csv')\n",
        "\n",
        "# Test dataset\n",
        "test.to_csv('test.csv', index=False)\n",
        "files.download('test.csv')"
      ],
      "execution_count": null,
      "outputs": []
    }
  ]
}