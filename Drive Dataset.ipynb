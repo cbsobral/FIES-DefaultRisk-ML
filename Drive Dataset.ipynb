{
  "nbformat": 4,
  "nbformat_minor": 0,
  "metadata": {
    "kernelspec": {
      "display_name": "Python 3",
      "language": "python",
      "name": "python3"
    },
    "language_info": {
      "codemirror_mode": {
        "name": "ipython",
        "version": 3
      },
      "file_extension": ".py",
      "mimetype": "text/x-python",
      "name": "python",
      "nbconvert_exporter": "python",
      "pygments_lexer": "ipython3",
      "version": "3.8.3"
    },
    "colab": {
      "name": "GDrive.ipynb",
      "provenance": [],
      "collapsed_sections": []
    }
  },
  "cells": [
    {
      "cell_type": "markdown",
      "metadata": {
        "id": "wi70_1LLs8Nf"
      },
      "source": [
        "# Import Dataset"
      ]
    },
    {
      "cell_type": "code",
      "metadata": {
        "colab": {
          "base_uri": "https://localhost:8080/"
        },
        "id": "k_w87CmktUQm",
        "outputId": "7c15e188-4741-418e-8af9-fa6d6a38d342"
      },
      "source": [
        "import pandas as pd\r\n",
        "\r\n",
        "url_a = 'https://drive.google.com/file/d/1prPbFSiXFTHmTHzXTGxy4HrtRxXUHhce/view?usp=sharing'\r\n",
        "path_a = 'https://drive.google.com/uc?export=download&id='+url_a.split('/')[-2]\r\n",
        "base_df_a = pd.read_excel(path_a)\r\n",
        "base_df_a.shape"
      ],
      "execution_count": 38,
      "outputs": [
        {
          "output_type": "execute_result",
          "data": {
            "text/plain": [
              "(309999, 37)"
            ]
          },
          "metadata": {
            "tags": []
          },
          "execution_count": 38
        }
      ]
    },
    {
      "cell_type": "code",
      "metadata": {
        "colab": {
          "base_uri": "https://localhost:8080/"
        },
        "id": "3H4pRSktp2cm",
        "outputId": "03126d6c-54c0-4a2c-c8f5-9452ad52306d"
      },
      "source": [
        "url_b = 'https://drive.google.com/file/d/1nGckSszPPifPvR3o5FeYaKArUYbfjHGn/view?usp=sharing'\r\n",
        "path_b = 'https://drive.google.com/uc?export=download&id='+url_b.split('/')[-2]\r\n",
        "base_df_b = pd.read_excel(path_b)\r\n",
        "base_df_b.shape"
      ],
      "execution_count": 39,
      "outputs": [
        {
          "output_type": "execute_result",
          "data": {
            "text/plain": [
              "(327823, 37)"
            ]
          },
          "metadata": {
            "tags": []
          },
          "execution_count": 39
        }
      ]
    },
    {
      "cell_type": "code",
      "metadata": {
        "colab": {
          "base_uri": "https://localhost:8080/"
        },
        "id": "LZMd2o2ArGXf",
        "outputId": "1cd06c76-52cb-42ed-9845-70368cd27f8d"
      },
      "source": [
        "base_df = base_df_a.append(base_df_b)\r\n",
        "base_df.shape"
      ],
      "execution_count": 40,
      "outputs": [
        {
          "output_type": "execute_result",
          "data": {
            "text/plain": [
              "(637822, 37)"
            ]
          },
          "metadata": {
            "tags": []
          },
          "execution_count": 40
        }
      ]
    },
    {
      "cell_type": "markdown",
      "metadata": {
        "id": "8ulPt-vQtLbA"
      },
      "source": [
        "# Feature Analysis"
      ]
    },
    {
      "cell_type": "markdown",
      "metadata": {
        "id": "GusSMdq3tgFZ"
      },
      "source": [
        "## Carol \r\n",
        "\r\n",
        "SG_SEXO\r\n",
        "DS_ESTADO_CIVIL\r\n",
        "VL_RENDA_PESSOAL_BRUTA_MENSAL\r\n",
        "SG_UF\r\n",
        "ST_ENSINO_MEDIO_ESCOLA_PUBLICA\r\n",
        "NU_SEMESTRE_REFERENCIA\r\n",
        "NO_CURSO\r\n",
        "QT_SEMESTRE_CONCLUIDO\r\n",
        "VL_SEMESTRE_SEM_DESCONTO\r\n",
        "VL_SEMESTRE_ATUAL\r\n",
        "VL_FINANCIADO_SEMESTRE\r\n",
        "fase_contrato\r\n",
        "vl_divida"
      ]
    },
    {
      "cell_type": "markdown",
      "metadata": {
        "id": "whqnRni3t8u2"
      },
      "source": [
        "## Bruno\r\n",
        "\r\n",
        "DS_OCUPACAO\r\n",
        "VL_RENDA_FAMILIAR_BRUTA_MENSAL\r\n",
        "NO_MUNICIPIO\r\n",
        "DS_RACA_COR\r\n",
        "NU_ANO_CONCLUSAO_ENSINO_MEDIO\r\n",
        "SG_UF_CURSO\r\n",
        "QT_SEMESTRES_CURSO\r\n",
        "QT_SEMESTRE_FINANCIAMENTO\r\n",
        "VL_SEMESTRE_COM_DESCONTO\r\n",
        "NU_PERCENT_SOLICITADO_FINANC\r\n",
        "VL_FINANC_RECURSO_ALUNO\r\n",
        "nu_dias_atraso\r\n",
        "ANO_NASC"
      ]
    }
  ]
}