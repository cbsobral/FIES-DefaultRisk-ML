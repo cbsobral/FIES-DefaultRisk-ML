{
  "nbformat": 4,
  "nbformat_minor": 0,
  "metadata": {
    "colab": {
      "name": "Module 2b - Logistic Tuning and Sampling.ipynb",
      "provenance": [],
      "collapsed_sections": [],
      "include_colab_link": true
    },
    "kernelspec": {
      "display_name": "Python 3",
      "language": "python",
      "name": "python3"
    },
    "language_info": {
      "name": "python"
    }
  },
  "cells": [
    {
      "cell_type": "markdown",
      "metadata": {
        "id": "view-in-github",
        "colab_type": "text"
      },
      "source": [
        "<a href=\"https://colab.research.google.com/github/cbsobral/ml-fies/blob/main/Module_2b_Logistic_Tuning_and_Sampling.ipynb\" target=\"_parent\"><img src=\"https://colab.research.google.com/assets/colab-badge.svg\" alt=\"Open In Colab\"/></a>"
      ]
    },
    {
      "cell_type": "markdown",
      "metadata": {
        "id": "qSSIbHD3ogH6"
      },
      "source": [
        "## Module 01 - Models\n",
        "\n",
        "In this module, we perform the following steps:\n",
        "\n",
        "1. Load the data from Mod_00 and create sets and targets for train and test datasets;\n",
        "2. Standardize and encode observations;\n",
        "3. Run preliminary models;\n",
        "4. Provide performance measures and visualization. "
      ]
    },
    {
      "cell_type": "code",
      "metadata": {
        "id": "HgxfF_rGhGvq"
      },
      "source": [
        "pd.DataFrame(train_prepared).to_csv(\"/content/drive/MyDrive/M/Machine Learning/Data.Base/train_prepared.csv\")"
      ],
      "execution_count": null,
      "outputs": []
    },
    {
      "cell_type": "markdown",
      "metadata": {
        "id": "QNfxqJE4km2n"
      },
      "source": [
        "### 1 - Load Data\n",
        "\n",
        "Here, we import the training and testing sets created in Module00_Data. \n"
      ]
    },
    {
      "cell_type": "code",
      "metadata": {
        "colab": {
          "base_uri": "https://localhost:8080/"
        },
        "id": "m1T2rReQkmI5",
        "outputId": "436c0421-7356-4fd6-f63c-30f740a679e7"
      },
      "source": [
        "import pandas as pd\n",
        "\n",
        "url_train = \"https://drive.google.com/file/d/1IP7jyXkLgD_Ouy5cL6fJk4VUA5qRB2PK/view?usp=sharing\"\n",
        "path_train = \"https://drive.google.com/uc?export=download&id=\"+url_train.split(\"/\")[-2]\n",
        "train = pd.read_csv(path_train)\n",
        "train.shape"
      ],
      "execution_count": 3,
      "outputs": [
        {
          "output_type": "execute_result",
          "data": {
            "text/plain": [
              "(351001, 31)"
            ]
          },
          "metadata": {
            "tags": []
          },
          "execution_count": 3
        }
      ]
    },
    {
      "cell_type": "code",
      "metadata": {
        "colab": {
          "base_uri": "https://localhost:8080/"
        },
        "id": "XaJOQTurG_Li",
        "outputId": "7f45f9c1-d46f-47a9-e270-c80da898eba2"
      },
      "source": [
        "url_test = \"https://drive.google.com/file/d/1v4FqKwt7NzG5RM6d9f1y7CLIdKq69jSS/view?usp=sharing\"\n",
        "path_test = \"https://drive.google.com/uc?export=download&id=\"+url_test.split(\"/\")[-2]\n",
        "test = pd.read_csv(path_test)\n",
        "test.shape"
      ],
      "execution_count": 4,
      "outputs": [
        {
          "output_type": "execute_result",
          "data": {
            "text/plain": [
              "(87751, 31)"
            ]
          },
          "metadata": {
            "tags": []
          },
          "execution_count": 4
        }
      ]
    },
    {
      "cell_type": "markdown",
      "metadata": {
        "id": "ZFc3bG7Ih9Fj"
      },
      "source": [
        ""
      ]
    },
    {
      "cell_type": "code",
      "metadata": {
        "id": "psNgDRsr2rMz"
      },
      "source": [
        "train_set = train.drop(\"default\", axis=1) # drop targets for training set\n",
        "train_target = train[\"default\"].copy()"
      ],
      "execution_count": 5,
      "outputs": []
    },
    {
      "cell_type": "code",
      "metadata": {
        "id": "CJhx2yRNHRoy"
      },
      "source": [
        "test_set = test.drop(\"default\", axis=1) # drop targets for test set\n",
        "test_target = test[\"default\"].copy()"
      ],
      "execution_count": 6,
      "outputs": []
    },
    {
      "cell_type": "markdown",
      "metadata": {
        "id": "VIJ6MzxrogIO"
      },
      "source": [
        "### 2 - Pipeline\n",
        "\n",
        "The pipeline contains functions that will be used to transform the dataset. For the numeric attributes, the stardardization is performed by the StandardScaler. For ordinal attributes, variables are encoded by the OrdinalEncoder, and for categorical, theOneHotEncoder. "
      ]
    },
    {
      "cell_type": "code",
      "metadata": {
        "id": "NjKb_CdHogIR"
      },
      "source": [
        "from sklearn.pipeline import Pipeline\n",
        "from sklearn.preprocessing import StandardScaler\n",
        "from sklearn.impute import SimpleImputer\n",
        "\n",
        "\n",
        "num_pipeline = Pipeline([\n",
        "        (\"num_imputer\", SimpleImputer(strategy=\"median\")),\n",
        "        (\"std_scaler\", StandardScaler()),\n",
        "    ])"
      ],
      "execution_count": 7,
      "outputs": []
    },
    {
      "cell_type": "code",
      "metadata": {
        "id": "IGJn2aCfAuXj"
      },
      "source": [
        "from sklearn.pipeline import Pipeline\n",
        "from sklearn.preprocessing import OrdinalEncoder\n",
        "\n",
        "ord_pipeline = Pipeline([\n",
        "        (\"ord_imputer\", SimpleImputer(strategy=\"most_frequent\")),\n",
        "        (\"ord_encoder\", OrdinalEncoder()),\n",
        "    ])"
      ],
      "execution_count": 8,
      "outputs": []
    },
    {
      "cell_type": "code",
      "metadata": {
        "id": "J5i5dvhsXMn-"
      },
      "source": [
        "from sklearn.preprocessing import OneHotEncoder\n",
        "cat_pipeline = Pipeline(steps=[('one_hot', OneHotEncoder())])"
      ],
      "execution_count": 9,
      "outputs": []
    },
    {
      "cell_type": "code",
      "metadata": {
        "id": "3gaCsGRFogIR"
      },
      "source": [
        "ord_attribs = [\"igc\",\"date_contract\"] # 2 attributes\n",
        "\n",
        "num_attribs = [\"family_income\",   #17\n",
        "               \"personal_income\",\n",
        "               \"high_school_endyear\",\n",
        "               \"n_sem_course\",\n",
        "               \"n_completed_sem\",\n",
        "               \"sem_funded\",\n",
        "               \"fam_size\",\n",
        "               \"income_pc\",\n",
        "               \"tuition_current\",\n",
        "               \"inc_prop\",\n",
        "               \"perc_requested\",\n",
        "               \"loan_value_sem\",\n",
        "               \"student_resource\",\n",
        "               \"loan_value\",\n",
        "               \"loan_limit\",\n",
        "               \"total_debt\",\n",
        "               \"age\"]\n",
        "  \n",
        "\n",
        "cat_attribs = [\"semester_enroll\",  #9\n",
        "               \"gender\",\n",
        "               \"occupation\", \n",
        "               \"marital_status\",\n",
        "               \"ethnicity\", \n",
        "               \"public_hs\", \n",
        "               \"state_course\", \n",
        "               \"degree\", \n",
        "               \"contract_phase\"]"
      ],
      "execution_count": 10,
      "outputs": []
    },
    {
      "cell_type": "markdown",
      "metadata": {
        "id": "A91W_FCw893x"
      },
      "source": [
        ""
      ]
    },
    {
      "cell_type": "code",
      "metadata": {
        "id": "jgFC9XOHAuXk"
      },
      "source": [
        "from sklearn.compose import ColumnTransformer\n",
        "\n",
        "full_pipeline = ColumnTransformer([\n",
        "        (\"num\", num_pipeline, num_attribs),\n",
        "        (\"cat\", cat_pipeline, cat_attribs),\n",
        "        (\"ord\", ord_pipeline, ord_attribs)\n",
        "        ])"
      ],
      "execution_count": 11,
      "outputs": []
    },
    {
      "cell_type": "code",
      "metadata": {
        "colab": {
          "base_uri": "https://localhost:8080/"
        },
        "id": "BGEokMJdAuXl",
        "outputId": "ac5bca3b-c3f8-40d4-8f11-08766ce8c928"
      },
      "source": [
        "train_prepared = full_pipeline.fit_transform(train_set)\n",
        "train_prepared[:1]"
      ],
      "execution_count": 12,
      "outputs": [
        {
          "output_type": "execute_result",
          "data": {
            "text/plain": [
              "<1x94 sparse matrix of type '<class 'numpy.float64'>'\n",
              "\twith 28 stored elements in Compressed Sparse Row format>"
            ]
          },
          "metadata": {
            "tags": []
          },
          "execution_count": 12
        }
      ]
    },
    {
      "cell_type": "code",
      "metadata": {
        "colab": {
          "base_uri": "https://localhost:8080/"
        },
        "id": "JtlBac6BXY4k",
        "outputId": "87c030a2-bf81-4db3-ed01-bc8c3e6eac55"
      },
      "source": [
        "test_prepared = full_pipeline.fit_transform(test_set)\n",
        "test_prepared[:1]"
      ],
      "execution_count": 13,
      "outputs": [
        {
          "output_type": "execute_result",
          "data": {
            "text/plain": [
              "<1x94 sparse matrix of type '<class 'numpy.float64'>'\n",
              "\twith 28 stored elements in Compressed Sparse Row format>"
            ]
          },
          "metadata": {
            "tags": []
          },
          "execution_count": 13
        }
      ]
    },
    {
      "cell_type": "markdown",
      "metadata": {
        "id": "hO2peEx4yIqE"
      },
      "source": [
        "## 2 - Sampling "
      ]
    },
    {
      "cell_type": "code",
      "metadata": {
        "colab": {
          "base_uri": "https://localhost:8080/"
        },
        "id": "1uLsXHg8yQs_",
        "outputId": "f1a5c8cc-e914-4e43-9650-c5f355aaeca1"
      },
      "source": [
        "from imblearn.over_sampling import RandomOverSampler\n",
        "\n",
        "ros = RandomOverSampler(random_state=42)\n",
        "\n",
        "train_over, target_train_over_over = os.fit_resample(train_prepared, train_target)"
      ],
      "execution_count": 38,
      "outputs": [
        {
          "output_type": "stream",
          "text": [
            "/usr/local/lib/python3.7/dist-packages/sklearn/utils/deprecation.py:87: FutureWarning: Function safe_indexing is deprecated; safe_indexing is deprecated in version 0.22 and will be removed in version 0.24.\n",
            "  warnings.warn(msg, category=FutureWarning)\n"
          ],
          "name": "stderr"
        }
      ]
    },
    {
      "cell_type": "code",
      "metadata": {
        "colab": {
          "base_uri": "https://localhost:8080/"
        },
        "id": "SdVVl3CNKwSm",
        "outputId": "a3c40aee-91c2-49b7-b563-f3f723630d82"
      },
      "source": [
        "from imblearn.under_sampling import RandomUnderSampler\n",
        "\n",
        "rus = RandomUnderSampler(random_state=42)\n",
        "train_under, target_under = rus.fit_resample(train_prepared, train_target)"
      ],
      "execution_count": 39,
      "outputs": [
        {
          "output_type": "stream",
          "text": [
            "/usr/local/lib/python3.7/dist-packages/sklearn/utils/deprecation.py:87: FutureWarning: Function safe_indexing is deprecated; safe_indexing is deprecated in version 0.22 and will be removed in version 0.24.\n",
            "  warnings.warn(msg, category=FutureWarning)\n"
          ],
          "name": "stderr"
        }
      ]
    },
    {
      "cell_type": "markdown",
      "metadata": {
        "id": "3CASdeLRZ_ZZ"
      },
      "source": [
        "### 3 - Classifiers\n",
        "\n",
        "For the initial runs, we employ 5 methods: logistic regression, decision tree, random forest, linear support vector classification (SVC), and artificial neural networks (ANN). \n"
      ]
    },
    {
      "cell_type": "code",
      "metadata": {
        "id": "x96IOF-yObQ_"
      },
      "source": [
        "#Randomsearch normal_model\n",
        "from sklearn.model_selection import RandomizedSearchCV\n",
        "from sklearn.linear_model import LogisticRegression\n",
        "\n",
        "LR = LogisticRegression()\n",
        "\n",
        "LRparam_grid = {\n",
        "    'C': [0.001, 0.01, 0.1, 1, 10, 100, 1000],\n",
        "    'penalty': ['l1', 'l2'],\n",
        "    'max_iter': list(range(100,1100,100)),\n",
        "    'solver': ['newton-cg', 'lbfgs', 'liblinear', 'sag', 'saga']\n",
        "}"
      ],
      "execution_count": 16,
      "outputs": []
    },
    {
      "cell_type": "code",
      "metadata": {
        "id": "pp9P8bh01IFN",
        "colab": {
          "base_uri": "https://localhost:8080/"
        },
        "outputId": "edb5a556-30b7-4bda-af7c-2a7407e011a3"
      },
      "source": [
        "LR_search = RandomizedSearchCV(LR,param_distributions=LRparam_grid,refit = True,scoring=\"roc_auc\",verbose = 3, cv=5, random_state=42 )\n",
        "# fitting the model for grid search \n",
        "LR_search.fit(train_prepared ,train_target)\n",
        "LR_search.best_params_\n",
        "# summarize\n",
        "print('Mean Accuracy: %.3f' % LR_search.best_score_)\n",
        "print('Config: %s' % LR_search.best_params_)"
      ],
      "execution_count": null,
      "outputs": [
        {
          "output_type": "stream",
          "text": [
            "Fitting 5 folds for each of 10 candidates, totalling 50 fits\n",
            "[CV] solver=sag, penalty=l2, max_iter=600, C=0.01 ....................\n"
          ],
          "name": "stdout"
        },
        {
          "output_type": "stream",
          "text": [
            "[Parallel(n_jobs=1)]: Using backend SequentialBackend with 1 concurrent workers.\n",
            "/usr/local/lib/python3.7/dist-packages/sklearn/linear_model/_sag.py:330: ConvergenceWarning: The max_iter was reached which means the coef_ did not converge\n",
            "  \"the coef_ did not converge\", ConvergenceWarning)\n",
            "[Parallel(n_jobs=1)]: Done   1 out of   1 | elapsed:  2.6min remaining:    0.0s\n"
          ],
          "name": "stderr"
        },
        {
          "output_type": "stream",
          "text": [
            "[CV]  solver=sag, penalty=l2, max_iter=600, C=0.01, score=0.724, total= 2.6min\n",
            "[CV] solver=sag, penalty=l2, max_iter=600, C=0.01 ....................\n"
          ],
          "name": "stdout"
        },
        {
          "output_type": "stream",
          "text": [
            "/usr/local/lib/python3.7/dist-packages/sklearn/linear_model/_sag.py:330: ConvergenceWarning: The max_iter was reached which means the coef_ did not converge\n",
            "  \"the coef_ did not converge\", ConvergenceWarning)\n",
            "[Parallel(n_jobs=1)]: Done   2 out of   2 | elapsed:  5.0min remaining:    0.0s\n"
          ],
          "name": "stderr"
        },
        {
          "output_type": "stream",
          "text": [
            "[CV]  solver=sag, penalty=l2, max_iter=600, C=0.01, score=0.718, total= 2.4min\n",
            "[CV] solver=sag, penalty=l2, max_iter=600, C=0.01 ....................\n"
          ],
          "name": "stdout"
        },
        {
          "output_type": "stream",
          "text": [
            "/usr/local/lib/python3.7/dist-packages/sklearn/linear_model/_sag.py:330: ConvergenceWarning: The max_iter was reached which means the coef_ did not converge\n",
            "  \"the coef_ did not converge\", ConvergenceWarning)\n"
          ],
          "name": "stderr"
        },
        {
          "output_type": "stream",
          "text": [
            "[CV]  solver=sag, penalty=l2, max_iter=600, C=0.01, score=0.720, total= 2.3min\n",
            "[CV] solver=sag, penalty=l2, max_iter=600, C=0.01 ....................\n"
          ],
          "name": "stdout"
        },
        {
          "output_type": "stream",
          "text": [
            "/usr/local/lib/python3.7/dist-packages/sklearn/linear_model/_sag.py:330: ConvergenceWarning: The max_iter was reached which means the coef_ did not converge\n",
            "  \"the coef_ did not converge\", ConvergenceWarning)\n"
          ],
          "name": "stderr"
        },
        {
          "output_type": "stream",
          "text": [
            "[CV]  solver=sag, penalty=l2, max_iter=600, C=0.01, score=0.723, total= 2.4min\n",
            "[CV] solver=sag, penalty=l2, max_iter=600, C=0.01 ....................\n"
          ],
          "name": "stdout"
        },
        {
          "output_type": "stream",
          "text": [
            "/usr/local/lib/python3.7/dist-packages/sklearn/linear_model/_sag.py:330: ConvergenceWarning: The max_iter was reached which means the coef_ did not converge\n",
            "  \"the coef_ did not converge\", ConvergenceWarning)\n",
            "/usr/local/lib/python3.7/dist-packages/sklearn/model_selection/_validation.py:536: FitFailedWarning: Estimator fit failed. The score on this train-test partition for these parameters will be set to nan. Details: \n",
            "ValueError: Solver newton-cg supports only 'l2' or 'none' penalties, got l1 penalty.\n",
            "\n",
            "  FitFailedWarning)\n"
          ],
          "name": "stderr"
        },
        {
          "output_type": "stream",
          "text": [
            "[CV]  solver=sag, penalty=l2, max_iter=600, C=0.01, score=0.720, total= 2.4min\n",
            "[CV] solver=newton-cg, penalty=l1, max_iter=100, C=100 ...............\n",
            "[CV]  solver=newton-cg, penalty=l1, max_iter=100, C=100, score=nan, total=   0.0s\n",
            "[CV] solver=newton-cg, penalty=l1, max_iter=100, C=100 ...............\n",
            "[CV]  solver=newton-cg, penalty=l1, max_iter=100, C=100, score=nan, total=   0.0s\n",
            "[CV] solver=newton-cg, penalty=l1, max_iter=100, C=100 ...............\n",
            "[CV]  solver=newton-cg, penalty=l1, max_iter=100, C=100, score=nan, total=   0.0s\n",
            "[CV] solver=newton-cg, penalty=l1, max_iter=100, C=100 ...............\n",
            "[CV]  solver=newton-cg, penalty=l1, max_iter=100, C=100, score=nan, total=   0.0s\n",
            "[CV] solver=newton-cg, penalty=l1, max_iter=100, C=100 ...............\n",
            "[CV]  solver=newton-cg, penalty=l1, max_iter=100, C=100, score=nan, total=   0.0s\n",
            "[CV] solver=lbfgs, penalty=l2, max_iter=1000, C=1 ....................\n"
          ],
          "name": "stdout"
        },
        {
          "output_type": "stream",
          "text": [
            "/usr/local/lib/python3.7/dist-packages/sklearn/linear_model/_logistic.py:940: ConvergenceWarning: lbfgs failed to converge (status=1):\n",
            "STOP: TOTAL NO. of ITERATIONS REACHED LIMIT.\n",
            "\n",
            "Increase the number of iterations (max_iter) or scale the data as shown in:\n",
            "    https://scikit-learn.org/stable/modules/preprocessing.html\n",
            "Please also refer to the documentation for alternative solver options:\n",
            "    https://scikit-learn.org/stable/modules/linear_model.html#logistic-regression\n",
            "  extra_warning_msg=_LOGISTIC_SOLVER_CONVERGENCE_MSG)\n"
          ],
          "name": "stderr"
        },
        {
          "output_type": "stream",
          "text": [
            "[CV]  solver=lbfgs, penalty=l2, max_iter=1000, C=1, score=0.726, total= 1.0min\n",
            "[CV] solver=lbfgs, penalty=l2, max_iter=1000, C=1 ....................\n",
            "[CV]  solver=lbfgs, penalty=l2, max_iter=1000, C=1, score=0.720, total=  53.1s\n",
            "[CV] solver=lbfgs, penalty=l2, max_iter=1000, C=1 ....................\n",
            "[CV]  solver=lbfgs, penalty=l2, max_iter=1000, C=1, score=0.722, total= 1.0min\n",
            "[CV] solver=lbfgs, penalty=l2, max_iter=1000, C=1 ....................\n"
          ],
          "name": "stdout"
        },
        {
          "output_type": "stream",
          "text": [
            "/usr/local/lib/python3.7/dist-packages/sklearn/linear_model/_logistic.py:940: ConvergenceWarning: lbfgs failed to converge (status=1):\n",
            "STOP: TOTAL NO. of ITERATIONS REACHED LIMIT.\n",
            "\n",
            "Increase the number of iterations (max_iter) or scale the data as shown in:\n",
            "    https://scikit-learn.org/stable/modules/preprocessing.html\n",
            "Please also refer to the documentation for alternative solver options:\n",
            "    https://scikit-learn.org/stable/modules/linear_model.html#logistic-regression\n",
            "  extra_warning_msg=_LOGISTIC_SOLVER_CONVERGENCE_MSG)\n"
          ],
          "name": "stderr"
        },
        {
          "output_type": "stream",
          "text": [
            "[CV]  solver=lbfgs, penalty=l2, max_iter=1000, C=1, score=0.725, total= 1.0min\n",
            "[CV] solver=lbfgs, penalty=l2, max_iter=1000, C=1 ....................\n"
          ],
          "name": "stdout"
        },
        {
          "output_type": "stream",
          "text": [
            "/usr/local/lib/python3.7/dist-packages/sklearn/linear_model/_logistic.py:940: ConvergenceWarning: lbfgs failed to converge (status=1):\n",
            "STOP: TOTAL NO. of ITERATIONS REACHED LIMIT.\n",
            "\n",
            "Increase the number of iterations (max_iter) or scale the data as shown in:\n",
            "    https://scikit-learn.org/stable/modules/preprocessing.html\n",
            "Please also refer to the documentation for alternative solver options:\n",
            "    https://scikit-learn.org/stable/modules/linear_model.html#logistic-regression\n",
            "  extra_warning_msg=_LOGISTIC_SOLVER_CONVERGENCE_MSG)\n"
          ],
          "name": "stderr"
        },
        {
          "output_type": "stream",
          "text": [
            "[CV]  solver=lbfgs, penalty=l2, max_iter=1000, C=1, score=0.722, total= 1.0min\n",
            "[CV] solver=newton-cg, penalty=l2, max_iter=600, C=0.01 ..............\n",
            "[CV]  solver=newton-cg, penalty=l2, max_iter=600, C=0.01, score=0.726, total=  25.4s\n",
            "[CV] solver=newton-cg, penalty=l2, max_iter=600, C=0.01 ..............\n",
            "[CV]  solver=newton-cg, penalty=l2, max_iter=600, C=0.01, score=0.720, total=  26.0s\n",
            "[CV] solver=newton-cg, penalty=l2, max_iter=600, C=0.01 ..............\n",
            "[CV]  solver=newton-cg, penalty=l2, max_iter=600, C=0.01, score=0.722, total=  26.6s\n",
            "[CV] solver=newton-cg, penalty=l2, max_iter=600, C=0.01 ..............\n",
            "[CV]  solver=newton-cg, penalty=l2, max_iter=600, C=0.01, score=0.725, total=  26.9s\n",
            "[CV] solver=newton-cg, penalty=l2, max_iter=600, C=0.01 ..............\n",
            "[CV]  solver=newton-cg, penalty=l2, max_iter=600, C=0.01, score=0.722, total=  31.1s\n",
            "[CV] solver=lbfgs, penalty=l1, max_iter=300, C=1 .....................\n",
            "[CV]  solver=lbfgs, penalty=l1, max_iter=300, C=1, score=nan, total=   0.0s\n",
            "[CV] solver=lbfgs, penalty=l1, max_iter=300, C=1 .....................\n",
            "[CV]  solver=lbfgs, penalty=l1, max_iter=300, C=1, score=nan, total=   0.0s\n",
            "[CV] solver=lbfgs, penalty=l1, max_iter=300, C=1 .....................\n",
            "[CV]  solver=lbfgs, penalty=l1, max_iter=300, C=1, score=nan, total=   0.0s\n",
            "[CV] solver=lbfgs, penalty=l1, max_iter=300, C=1 .....................\n",
            "[CV]  solver=lbfgs, penalty=l1, max_iter=300, C=1, score=nan, total=   0.0s\n",
            "[CV] solver=lbfgs, penalty=l1, max_iter=300, C=1 .....................\n",
            "[CV]  solver=lbfgs, penalty=l1, max_iter=300, C=1, score=nan, total=   0.0s\n",
            "[CV] solver=liblinear, penalty=l1, max_iter=200, C=0.1 ...............\n"
          ],
          "name": "stdout"
        },
        {
          "output_type": "stream",
          "text": [
            "/usr/local/lib/python3.7/dist-packages/sklearn/model_selection/_validation.py:536: FitFailedWarning: Estimator fit failed. The score on this train-test partition for these parameters will be set to nan. Details: \n",
            "ValueError: Solver lbfgs supports only 'l2' or 'none' penalties, got l1 penalty.\n",
            "\n",
            "  FitFailedWarning)\n"
          ],
          "name": "stderr"
        },
        {
          "output_type": "stream",
          "text": [
            "[CV]  solver=liblinear, penalty=l1, max_iter=200, C=0.1, score=0.727, total=  48.2s\n",
            "[CV] solver=liblinear, penalty=l1, max_iter=200, C=0.1 ...............\n",
            "[CV]  solver=liblinear, penalty=l1, max_iter=200, C=0.1, score=0.722, total=  51.5s\n",
            "[CV] solver=liblinear, penalty=l1, max_iter=200, C=0.1 ...............\n",
            "[CV]  solver=liblinear, penalty=l1, max_iter=200, C=0.1, score=0.723, total=  40.1s\n",
            "[CV] solver=liblinear, penalty=l1, max_iter=200, C=0.1 ...............\n",
            "[CV]  solver=liblinear, penalty=l1, max_iter=200, C=0.1, score=0.726, total=  44.1s\n",
            "[CV] solver=liblinear, penalty=l1, max_iter=200, C=0.1 ...............\n",
            "[CV]  solver=liblinear, penalty=l1, max_iter=200, C=0.1, score=0.723, total=  40.8s\n",
            "[CV] solver=saga, penalty=l1, max_iter=400, C=0.1 ....................\n"
          ],
          "name": "stdout"
        },
        {
          "output_type": "stream",
          "text": [
            "/usr/local/lib/python3.7/dist-packages/sklearn/linear_model/_sag.py:330: ConvergenceWarning: The max_iter was reached which means the coef_ did not converge\n",
            "  \"the coef_ did not converge\", ConvergenceWarning)\n"
          ],
          "name": "stderr"
        },
        {
          "output_type": "stream",
          "text": [
            "[CV]  solver=saga, penalty=l1, max_iter=400, C=0.1, score=0.722, total= 3.0min\n",
            "[CV] solver=saga, penalty=l1, max_iter=400, C=0.1 ....................\n"
          ],
          "name": "stdout"
        },
        {
          "output_type": "stream",
          "text": [
            "/usr/local/lib/python3.7/dist-packages/sklearn/linear_model/_sag.py:330: ConvergenceWarning: The max_iter was reached which means the coef_ did not converge\n",
            "  \"the coef_ did not converge\", ConvergenceWarning)\n"
          ],
          "name": "stderr"
        },
        {
          "output_type": "stream",
          "text": [
            "[CV]  solver=saga, penalty=l1, max_iter=400, C=0.1, score=0.716, total= 3.1min\n",
            "[CV] solver=saga, penalty=l1, max_iter=400, C=0.1 ....................\n"
          ],
          "name": "stdout"
        },
        {
          "output_type": "stream",
          "text": [
            "/usr/local/lib/python3.7/dist-packages/sklearn/linear_model/_sag.py:330: ConvergenceWarning: The max_iter was reached which means the coef_ did not converge\n",
            "  \"the coef_ did not converge\", ConvergenceWarning)\n"
          ],
          "name": "stderr"
        },
        {
          "output_type": "stream",
          "text": [
            "[CV]  solver=saga, penalty=l1, max_iter=400, C=0.1, score=0.718, total= 3.1min\n",
            "[CV] solver=saga, penalty=l1, max_iter=400, C=0.1 ....................\n"
          ],
          "name": "stdout"
        }
      ]
    },
    {
      "cell_type": "code",
      "metadata": {
        "id": "FeMVvdh8OBC7"
      },
      "source": [
        "LR_search_under = RandomizedSearchCV(LR,param_distributions=LRparam_grid,refit = True,scoring=\"roc_auc\",verbose = 3, cv=5, random_state=42 )\n",
        "# fitting the model for grid search \n",
        "LR_search_under.fit(train_under ,target_under)\n",
        "LR_search_under.best_params_\n",
        "# summarize\n",
        "print('Mean Accuracy: %.3f' % LR_search_under.best_score_)\n",
        "print('Config: %s' % LR_search_under.best_params_)"
      ],
      "execution_count": null,
      "outputs": []
    },
    {
      "cell_type": "code",
      "metadata": {
        "id": "YkU30xtVOf8Q"
      },
      "source": [
        "\n",
        "LR_search_over = RandomizedSearchCV(LR,param_distributions=LRparam_grid,refit = True,scoring=\"roc_auc\",verbose = 3, cv=5, random_state=42 )\n",
        "# fitting the model for grid search \n",
        "LR_search_over.fit(train_over ,target_over)\n",
        "LR_search_over.best_params_\n",
        "# summarize\n",
        "print('Mean Accuracy: %.3f' % LR_search_over.best_score_)\n",
        "print('Config: %s' % LR_search_over.best_params_)"
      ],
      "execution_count": null,
      "outputs": []
    },
    {
      "cell_type": "code",
      "metadata": {
        "id": "kIeJWYMpHFQ1"
      },
      "source": [
        "\n",
        "logr = LogisticRegression(max_iter=200, random_state=42,solver= 'liblinear', penalty= 'l1', C =0.1)"
      ],
      "execution_count": 17,
      "outputs": []
    },
    {
      "cell_type": "markdown",
      "metadata": {
        "id": "f98zFfeyYoXe"
      },
      "source": [
        "#### Getting the Trained data with names\n",
        "\n",
        "This routine is necessary to get the feature importance and feature names"
      ]
    },
    {
      "cell_type": "code",
      "metadata": {
        "colab": {
          "base_uri": "https://localhost:8080/"
        },
        "id": "vwDdQh7oWMq6",
        "outputId": "fb87a78d-b40e-4627-c9ff-f7aeaf9e47e2"
      },
      "source": [
        "clf = Pipeline(steps=[('preprocessor', full_pipeline),\n",
        "                      ('classifier', logr)])\n",
        "clf.fit(train_set,train_target)"
      ],
      "execution_count": 21,
      "outputs": [
        {
          "output_type": "execute_result",
          "data": {
            "text/plain": [
              "Pipeline(memory=None,\n",
              "         steps=[('preprocessor',\n",
              "                 ColumnTransformer(n_jobs=None, remainder='drop',\n",
              "                                   sparse_threshold=0.3,\n",
              "                                   transformer_weights=None,\n",
              "                                   transformers=[('num',\n",
              "                                                  Pipeline(memory=None,\n",
              "                                                           steps=[('num_imputer',\n",
              "                                                                   SimpleImputer(add_indicator=False,\n",
              "                                                                                 copy=True,\n",
              "                                                                                 fill_value=None,\n",
              "                                                                                 missing_values=nan,\n",
              "                                                                                 strategy='median',\n",
              "                                                                                 verbose=0)),\n",
              "                                                                  ('std_scaler',\n",
              "                                                                   StandardScaler(copy=True,\n",
              "                                                                                  w...\n",
              "                                                                                  dtype=<class 'numpy.float64'>))],\n",
              "                                                           verbose=False),\n",
              "                                                  ['igc', 'date_contract'])],\n",
              "                                   verbose=False)),\n",
              "                ('classifier',\n",
              "                 LogisticRegression(C=0.1, class_weight=None, dual=False,\n",
              "                                    fit_intercept=True, intercept_scaling=1,\n",
              "                                    l1_ratio=None, max_iter=200,\n",
              "                                    multi_class='auto', n_jobs=None,\n",
              "                                    penalty='l1', random_state=42,\n",
              "                                    solver='liblinear', tol=0.0001, verbose=0,\n",
              "                                    warm_start=False))],\n",
              "         verbose=False)"
            ]
          },
          "metadata": {
            "tags": []
          },
          "execution_count": 21
        }
      ]
    },
    {
      "cell_type": "code",
      "metadata": {
        "id": "l9-qVeRAWrPm"
      },
      "source": [
        "onehot_columns = list(clf.named_steps['preprocessor'].named_transformers_['cat'].named_steps['one_hot'].get_feature_names(input_features=cat_attribs))\n"
      ],
      "execution_count": 27,
      "outputs": []
    },
    {
      "cell_type": "code",
      "metadata": {
        "id": "FOHFFdjtZ4I6"
      },
      "source": [
        "numeric_features_list = list(num_attribs)\n",
        "numeric_features_list.extend(onehot_columns)\n",
        "numeric_features_list.extend(ord_attribs)"
      ],
      "execution_count": 28,
      "outputs": []
    },
    {
      "cell_type": "code",
      "metadata": {
        "colab": {
          "base_uri": "https://localhost:8080/"
        },
        "id": "uqNP8pGxaRMY",
        "outputId": "2f6d775c-3caf-47fc-9155-f60d498f62a7"
      },
      "source": [
        "!pip install eli5"
      ],
      "execution_count": 29,
      "outputs": [
        {
          "output_type": "stream",
          "text": [
            "Collecting eli5\n",
            "\u001b[?25l  Downloading https://files.pythonhosted.org/packages/d1/54/04cab6e1c0ae535bec93f795d8403fdf6caf66fa5a6512263202dbb14ea6/eli5-0.11.0-py2.py3-none-any.whl (106kB)\n",
            "\r\u001b[K     |███                             | 10kB 14.5MB/s eta 0:00:01\r\u001b[K     |██████▏                         | 20kB 13.2MB/s eta 0:00:01\r\u001b[K     |█████████▎                      | 30kB 9.2MB/s eta 0:00:01\r\u001b[K     |████████████▍                   | 40kB 7.8MB/s eta 0:00:01\r\u001b[K     |███████████████▌                | 51kB 4.4MB/s eta 0:00:01\r\u001b[K     |██████████████████▌             | 61kB 5.0MB/s eta 0:00:01\r\u001b[K     |█████████████████████▋          | 71kB 5.3MB/s eta 0:00:01\r\u001b[K     |████████████████████████▊       | 81kB 5.4MB/s eta 0:00:01\r\u001b[K     |███████████████████████████▉    | 92kB 5.2MB/s eta 0:00:01\r\u001b[K     |███████████████████████████████ | 102kB 5.7MB/s eta 0:00:01\r\u001b[K     |████████████████████████████████| 112kB 5.7MB/s \n",
            "\u001b[?25hRequirement already satisfied: jinja2 in /usr/local/lib/python3.7/dist-packages (from eli5) (2.11.3)\n",
            "Requirement already satisfied: tabulate>=0.7.7 in /usr/local/lib/python3.7/dist-packages (from eli5) (0.8.9)\n",
            "Requirement already satisfied: scipy in /usr/local/lib/python3.7/dist-packages (from eli5) (1.4.1)\n",
            "Requirement already satisfied: six in /usr/local/lib/python3.7/dist-packages (from eli5) (1.15.0)\n",
            "Requirement already satisfied: attrs>16.0.0 in /usr/local/lib/python3.7/dist-packages (from eli5) (20.3.0)\n",
            "Requirement already satisfied: scikit-learn>=0.20 in /usr/local/lib/python3.7/dist-packages (from eli5) (0.22.2.post1)\n",
            "Requirement already satisfied: graphviz in /usr/local/lib/python3.7/dist-packages (from eli5) (0.10.1)\n",
            "Requirement already satisfied: numpy>=1.9.0 in /usr/local/lib/python3.7/dist-packages (from eli5) (1.19.5)\n",
            "Requirement already satisfied: MarkupSafe>=0.23 in /usr/local/lib/python3.7/dist-packages (from jinja2->eli5) (1.1.1)\n",
            "Requirement already satisfied: joblib>=0.11 in /usr/local/lib/python3.7/dist-packages (from scikit-learn>=0.20->eli5) (1.0.1)\n",
            "Installing collected packages: eli5\n",
            "Successfully installed eli5-0.11.0\n"
          ],
          "name": "stdout"
        }
      ]
    },
    {
      "cell_type": "code",
      "metadata": {
        "colab": {
          "base_uri": "https://localhost:8080/",
          "height": 973
        },
        "id": "fHyR5NqjavC3",
        "outputId": "bbda7a60-2acc-442a-cc1f-0deccfe77163"
      },
      "source": [
        "import eli5\n",
        "eli5.explain_weights(clf.named_steps['classifier'], top=50, feature_names=numeric_features_list, feature_filter=lambda x: x != '<BIAS>')"
      ],
      "execution_count": 31,
      "outputs": [
        {
          "output_type": "execute_result",
          "data": {
            "text/html": [
              "\n",
              "    <style>\n",
              "    table.eli5-weights tr:hover {\n",
              "        filter: brightness(85%);\n",
              "    }\n",
              "</style>\n",
              "\n",
              "\n",
              "\n",
              "    \n",
              "\n",
              "    \n",
              "\n",
              "    \n",
              "\n",
              "    \n",
              "\n",
              "    \n",
              "\n",
              "    \n",
              "\n",
              "\n",
              "    \n",
              "\n",
              "    \n",
              "\n",
              "    \n",
              "\n",
              "    \n",
              "        \n",
              "\n",
              "    \n",
              "\n",
              "        \n",
              "            \n",
              "                \n",
              "                \n",
              "    \n",
              "        <p style=\"margin-bottom: 0.5em; margin-top: 0em\">\n",
              "            <b>\n",
              "    \n",
              "        y=1\n",
              "    \n",
              "</b>\n",
              "\n",
              "top features\n",
              "        </p>\n",
              "    \n",
              "    <table class=\"eli5-weights\"\n",
              "           style=\"border-collapse: collapse; border: none; margin-top: 0em; table-layout: auto; margin-bottom: 2em;\">\n",
              "        <thead>\n",
              "        <tr style=\"border: none;\">\n",
              "            \n",
              "                <th style=\"padding: 0 1em 0 0.5em; text-align: right; border: none;\" title=\"Feature weights. Note that weights do not account for feature value scales, so if feature values have different scales, features with highest weights might not be the most important.\">\n",
              "                    Weight<sup>?</sup>\n",
              "                </th>\n",
              "            \n",
              "            <th style=\"padding: 0 0.5em 0 0.5em; text-align: left; border: none;\">Feature</th>\n",
              "            \n",
              "        </tr>\n",
              "        </thead>\n",
              "        <tbody>\n",
              "        \n",
              "            <tr style=\"background-color: hsl(120, 100.00%, 86.95%); border: none;\">\n",
              "    <td style=\"padding: 0 1em 0 0.5em; text-align: right; border: none;\">\n",
              "        +1.582\n",
              "    </td>\n",
              "    <td style=\"padding: 0 0.5em 0 0.5em; text-align: left; border: none;\">\n",
              "        semester_enroll_before 2012\n",
              "    </td>\n",
              "    \n",
              "</tr>\n",
              "        \n",
              "            <tr style=\"background-color: hsl(120, 100.00%, 90.24%); border: none;\">\n",
              "    <td style=\"padding: 0 1em 0 0.5em; text-align: right; border: none;\">\n",
              "        +1.045\n",
              "    </td>\n",
              "    <td style=\"padding: 0 0.5em 0 0.5em; text-align: left; border: none;\">\n",
              "        semester_enroll_12012\n",
              "    </td>\n",
              "    \n",
              "</tr>\n",
              "        \n",
              "            <tr style=\"background-color: hsl(120, 100.00%, 92.03%); border: none;\">\n",
              "    <td style=\"padding: 0 1em 0 0.5em; text-align: right; border: none;\">\n",
              "        +0.782\n",
              "    </td>\n",
              "    <td style=\"padding: 0 0.5em 0 0.5em; text-align: left; border: none;\">\n",
              "        state_course_AM\n",
              "    </td>\n",
              "    \n",
              "</tr>\n",
              "        \n",
              "            <tr style=\"background-color: hsl(120, 100.00%, 93.15%); border: none;\">\n",
              "    <td style=\"padding: 0 1em 0 0.5em; text-align: right; border: none;\">\n",
              "        +0.630\n",
              "    </td>\n",
              "    <td style=\"padding: 0 0.5em 0 0.5em; text-align: left; border: none;\">\n",
              "        state_course_AP\n",
              "    </td>\n",
              "    \n",
              "</tr>\n",
              "        \n",
              "            <tr style=\"background-color: hsl(120, 100.00%, 94.32%); border: none;\">\n",
              "    <td style=\"padding: 0 1em 0 0.5em; text-align: right; border: none;\">\n",
              "        +0.482\n",
              "    </td>\n",
              "    <td style=\"padding: 0 0.5em 0 0.5em; text-align: left; border: none;\">\n",
              "        semester_enroll_22012\n",
              "    </td>\n",
              "    \n",
              "</tr>\n",
              "        \n",
              "            <tr style=\"background-color: hsl(120, 100.00%, 96.16%); border: none;\">\n",
              "    <td style=\"padding: 0 1em 0 0.5em; text-align: right; border: none;\">\n",
              "        +0.276\n",
              "    </td>\n",
              "    <td style=\"padding: 0 0.5em 0 0.5em; text-align: left; border: none;\">\n",
              "        state_course_GO\n",
              "    </td>\n",
              "    \n",
              "</tr>\n",
              "        \n",
              "            <tr style=\"background-color: hsl(120, 100.00%, 96.68%); border: none;\">\n",
              "    <td style=\"padding: 0 1em 0 0.5em; text-align: right; border: none;\">\n",
              "        +0.224\n",
              "    </td>\n",
              "    <td style=\"padding: 0 0.5em 0 0.5em; text-align: left; border: none;\">\n",
              "        loan_value_sem\n",
              "    </td>\n",
              "    \n",
              "</tr>\n",
              "        \n",
              "            <tr style=\"background-color: hsl(120, 100.00%, 96.94%); border: none;\">\n",
              "    <td style=\"padding: 0 1em 0 0.5em; text-align: right; border: none;\">\n",
              "        +0.200\n",
              "    </td>\n",
              "    <td style=\"padding: 0 0.5em 0 0.5em; text-align: left; border: none;\">\n",
              "        degree_SERVIÇO SOCIAL\n",
              "    </td>\n",
              "    \n",
              "</tr>\n",
              "        \n",
              "            <tr style=\"background-color: hsl(120, 100.00%, 96.95%); border: none;\">\n",
              "    <td style=\"padding: 0 1em 0 0.5em; text-align: right; border: none;\">\n",
              "        +0.199\n",
              "    </td>\n",
              "    <td style=\"padding: 0 0.5em 0 0.5em; text-align: left; border: none;\">\n",
              "        state_course_RJ\n",
              "    </td>\n",
              "    \n",
              "</tr>\n",
              "        \n",
              "            <tr style=\"background-color: hsl(120, 100.00%, 96.95%); border: none;\">\n",
              "    <td style=\"padding: 0 1em 0 0.5em; text-align: right; border: none;\">\n",
              "        +0.198\n",
              "    </td>\n",
              "    <td style=\"padding: 0 0.5em 0 0.5em; text-align: left; border: none;\">\n",
              "        degree_EDUCAÇÃO FÍSICA\n",
              "    </td>\n",
              "    \n",
              "</tr>\n",
              "        \n",
              "            <tr style=\"background-color: hsl(120, 100.00%, 97.22%); border: none;\">\n",
              "    <td style=\"padding: 0 1em 0 0.5em; text-align: right; border: none;\">\n",
              "        +0.174\n",
              "    </td>\n",
              "    <td style=\"padding: 0 0.5em 0 0.5em; text-align: left; border: none;\">\n",
              "        state_course_BA\n",
              "    </td>\n",
              "    \n",
              "</tr>\n",
              "        \n",
              "            <tr style=\"background-color: hsl(120, 100.00%, 97.29%); border: none;\">\n",
              "    <td style=\"padding: 0 1em 0 0.5em; text-align: right; border: none;\">\n",
              "        +0.168\n",
              "    </td>\n",
              "    <td style=\"padding: 0 0.5em 0 0.5em; text-align: left; border: none;\">\n",
              "        degree_DIREITO\n",
              "    </td>\n",
              "    \n",
              "</tr>\n",
              "        \n",
              "            <tr style=\"background-color: hsl(120, 100.00%, 97.36%); border: none;\">\n",
              "    <td style=\"padding: 0 1em 0 0.5em; text-align: right; border: none;\">\n",
              "        +0.161\n",
              "    </td>\n",
              "    <td style=\"padding: 0 0.5em 0 0.5em; text-align: left; border: none;\">\n",
              "        loan_limit\n",
              "    </td>\n",
              "    \n",
              "</tr>\n",
              "        \n",
              "            <tr style=\"background-color: hsl(120, 100.00%, 97.38%); border: none;\">\n",
              "    <td style=\"padding: 0 1em 0 0.5em; text-align: right; border: none;\">\n",
              "        +0.159\n",
              "    </td>\n",
              "    <td style=\"padding: 0 0.5em 0 0.5em; text-align: left; border: none;\">\n",
              "        degree_ADMINISTRAÇÃO\n",
              "    </td>\n",
              "    \n",
              "</tr>\n",
              "        \n",
              "            <tr style=\"background-color: hsl(120, 100.00%, 97.43%); border: none;\">\n",
              "    <td style=\"padding: 0 1em 0 0.5em; text-align: right; border: none;\">\n",
              "        +0.156\n",
              "    </td>\n",
              "    <td style=\"padding: 0 0.5em 0 0.5em; text-align: left; border: none;\">\n",
              "        degree_PEDAGOGIA\n",
              "    </td>\n",
              "    \n",
              "</tr>\n",
              "        \n",
              "            <tr style=\"background-color: hsl(120, 100.00%, 97.50%); border: none;\">\n",
              "    <td style=\"padding: 0 1em 0 0.5em; text-align: right; border: none;\">\n",
              "        +0.149\n",
              "    </td>\n",
              "    <td style=\"padding: 0 0.5em 0 0.5em; text-align: left; border: none;\">\n",
              "        state_course_PE\n",
              "    </td>\n",
              "    \n",
              "</tr>\n",
              "        \n",
              "            <tr style=\"background-color: hsl(120, 100.00%, 97.51%); border: none;\">\n",
              "    <td style=\"padding: 0 1em 0 0.5em; text-align: right; border: none;\">\n",
              "        +0.148\n",
              "    </td>\n",
              "    <td style=\"padding: 0 0.5em 0 0.5em; text-align: left; border: none;\">\n",
              "        state_course_RR\n",
              "    </td>\n",
              "    \n",
              "</tr>\n",
              "        \n",
              "            <tr style=\"background-color: hsl(120, 100.00%, 97.68%); border: none;\">\n",
              "    <td style=\"padding: 0 1em 0 0.5em; text-align: right; border: none;\">\n",
              "        +0.134\n",
              "    </td>\n",
              "    <td style=\"padding: 0 0.5em 0 0.5em; text-align: left; border: none;\">\n",
              "        marital_status_UniÃ£o estÃ¡vel\n",
              "    </td>\n",
              "    \n",
              "</tr>\n",
              "        \n",
              "            <tr style=\"background-color: hsl(120, 100.00%, 97.75%); border: none;\">\n",
              "    <td style=\"padding: 0 1em 0 0.5em; text-align: right; border: none;\">\n",
              "        +0.128\n",
              "    </td>\n",
              "    <td style=\"padding: 0 0.5em 0 0.5em; text-align: left; border: none;\">\n",
              "        age\n",
              "    </td>\n",
              "    \n",
              "</tr>\n",
              "        \n",
              "            <tr style=\"background-color: hsl(120, 100.00%, 97.80%); border: none;\">\n",
              "    <td style=\"padding: 0 1em 0 0.5em; text-align: right; border: none;\">\n",
              "        +0.124\n",
              "    </td>\n",
              "    <td style=\"padding: 0 0.5em 0 0.5em; text-align: left; border: none;\">\n",
              "        degree_FISIOTERAPIA\n",
              "    </td>\n",
              "    \n",
              "</tr>\n",
              "        \n",
              "        \n",
              "            <tr style=\"background-color: hsl(120, 100.00%, 97.80%); border: none;\">\n",
              "                <td colspan=\"2\" style=\"padding: 0 0.5em 0 0.5em; text-align: center; border: none; white-space: nowrap;\">\n",
              "                    <i>&hellip; 16 more positive &hellip;</i>\n",
              "                </td>\n",
              "            </tr>\n",
              "        \n",
              "\n",
              "        \n",
              "            <tr style=\"background-color: hsl(0, 100.00%, 97.50%); border: none;\">\n",
              "                <td colspan=\"2\" style=\"padding: 0 0.5em 0 0.5em; text-align: center; border: none; white-space: nowrap;\">\n",
              "                    <i>&hellip; 20 more negative &hellip;</i>\n",
              "                </td>\n",
              "            </tr>\n",
              "        \n",
              "        \n",
              "            <tr style=\"background-color: hsl(0, 100.00%, 97.50%); border: none;\">\n",
              "    <td style=\"padding: 0 1em 0 0.5em; text-align: right; border: none;\">\n",
              "        -0.149\n",
              "    </td>\n",
              "    <td style=\"padding: 0 0.5em 0 0.5em; text-align: left; border: none;\">\n",
              "        state_course_AC\n",
              "    </td>\n",
              "    \n",
              "</tr>\n",
              "        \n",
              "            <tr style=\"background-color: hsl(0, 100.00%, 97.48%); border: none;\">\n",
              "    <td style=\"padding: 0 1em 0 0.5em; text-align: right; border: none;\">\n",
              "        -0.151\n",
              "    </td>\n",
              "    <td style=\"padding: 0 0.5em 0 0.5em; text-align: left; border: none;\">\n",
              "        marital_status_ViÃºvo\n",
              "    </td>\n",
              "    \n",
              "</tr>\n",
              "        \n",
              "            <tr style=\"background-color: hsl(0, 100.00%, 97.23%); border: none;\">\n",
              "    <td style=\"padding: 0 1em 0 0.5em; text-align: right; border: none;\">\n",
              "        -0.173\n",
              "    </td>\n",
              "    <td style=\"padding: 0 0.5em 0 0.5em; text-align: left; border: none;\">\n",
              "        state_course_SE\n",
              "    </td>\n",
              "    \n",
              "</tr>\n",
              "        \n",
              "            <tr style=\"background-color: hsl(0, 100.00%, 97.23%); border: none;\">\n",
              "    <td style=\"padding: 0 1em 0 0.5em; text-align: right; border: none;\">\n",
              "        -0.173\n",
              "    </td>\n",
              "    <td style=\"padding: 0 0.5em 0 0.5em; text-align: left; border: none;\">\n",
              "        igc\n",
              "    </td>\n",
              "    \n",
              "</tr>\n",
              "        \n",
              "            <tr style=\"background-color: hsl(0, 100.00%, 96.97%); border: none;\">\n",
              "    <td style=\"padding: 0 1em 0 0.5em; text-align: right; border: none;\">\n",
              "        -0.197\n",
              "    </td>\n",
              "    <td style=\"padding: 0 0.5em 0 0.5em; text-align: left; border: none;\">\n",
              "        ethnicity_P\n",
              "    </td>\n",
              "    \n",
              "</tr>\n",
              "        \n",
              "            <tr style=\"background-color: hsl(0, 100.00%, 96.29%); border: none;\">\n",
              "    <td style=\"padding: 0 1em 0 0.5em; text-align: right; border: none;\">\n",
              "        -0.262\n",
              "    </td>\n",
              "    <td style=\"padding: 0 0.5em 0 0.5em; text-align: left; border: none;\">\n",
              "        state_course_RO\n",
              "    </td>\n",
              "    \n",
              "</tr>\n",
              "        \n",
              "            <tr style=\"background-color: hsl(0, 100.00%, 95.84%); border: none;\">\n",
              "    <td style=\"padding: 0 1em 0 0.5em; text-align: right; border: none;\">\n",
              "        -0.309\n",
              "    </td>\n",
              "    <td style=\"padding: 0 0.5em 0 0.5em; text-align: left; border: none;\">\n",
              "        income_pc\n",
              "    </td>\n",
              "    \n",
              "</tr>\n",
              "        \n",
              "            <tr style=\"background-color: hsl(0, 100.00%, 95.84%); border: none;\">\n",
              "    <td style=\"padding: 0 1em 0 0.5em; text-align: right; border: none;\">\n",
              "        -0.309\n",
              "    </td>\n",
              "    <td style=\"padding: 0 0.5em 0 0.5em; text-align: left; border: none;\">\n",
              "        loan_value\n",
              "    </td>\n",
              "    \n",
              "</tr>\n",
              "        \n",
              "            <tr style=\"background-color: hsl(0, 100.00%, 95.82%); border: none;\">\n",
              "    <td style=\"padding: 0 1em 0 0.5em; text-align: right; border: none;\">\n",
              "        -0.311\n",
              "    </td>\n",
              "    <td style=\"padding: 0 0.5em 0 0.5em; text-align: left; border: none;\">\n",
              "        family_income\n",
              "    </td>\n",
              "    \n",
              "</tr>\n",
              "        \n",
              "            <tr style=\"background-color: hsl(0, 100.00%, 95.77%); border: none;\">\n",
              "    <td style=\"padding: 0 1em 0 0.5em; text-align: right; border: none;\">\n",
              "        -0.317\n",
              "    </td>\n",
              "    <td style=\"padding: 0 0.5em 0 0.5em; text-align: left; border: none;\">\n",
              "        gender_M\n",
              "    </td>\n",
              "    \n",
              "</tr>\n",
              "        \n",
              "            <tr style=\"background-color: hsl(0, 100.00%, 95.72%); border: none;\">\n",
              "    <td style=\"padding: 0 1em 0 0.5em; text-align: right; border: none;\">\n",
              "        -0.321\n",
              "    </td>\n",
              "    <td style=\"padding: 0 0.5em 0 0.5em; text-align: left; border: none;\">\n",
              "        n_completed_sem\n",
              "    </td>\n",
              "    \n",
              "</tr>\n",
              "        \n",
              "            <tr style=\"background-color: hsl(0, 100.00%, 95.72%); border: none;\">\n",
              "    <td style=\"padding: 0 1em 0 0.5em; text-align: right; border: none;\">\n",
              "        -0.322\n",
              "    </td>\n",
              "    <td style=\"padding: 0 0.5em 0 0.5em; text-align: left; border: none;\">\n",
              "        gender_F\n",
              "    </td>\n",
              "    \n",
              "</tr>\n",
              "        \n",
              "            <tr style=\"background-color: hsl(0, 100.00%, 95.67%); border: none;\">\n",
              "    <td style=\"padding: 0 1em 0 0.5em; text-align: right; border: none;\">\n",
              "        -0.327\n",
              "    </td>\n",
              "    <td style=\"padding: 0 0.5em 0 0.5em; text-align: left; border: none;\">\n",
              "        public_hs_N\n",
              "    </td>\n",
              "    \n",
              "</tr>\n",
              "        \n",
              "            <tr style=\"background-color: hsl(0, 100.00%, 95.45%); border: none;\">\n",
              "    <td style=\"padding: 0 1em 0 0.5em; text-align: right; border: none;\">\n",
              "        -0.351\n",
              "    </td>\n",
              "    <td style=\"padding: 0 0.5em 0 0.5em; text-align: left; border: none;\">\n",
              "        ethnicity_A\n",
              "    </td>\n",
              "    \n",
              "</tr>\n",
              "        \n",
              "            <tr style=\"background-color: hsl(0, 100.00%, 95.21%); border: none;\">\n",
              "    <td style=\"padding: 0 1em 0 0.5em; text-align: right; border: none;\">\n",
              "        -0.378\n",
              "    </td>\n",
              "    <td style=\"padding: 0 0.5em 0 0.5em; text-align: left; border: none;\">\n",
              "        degree_FARMÁCIA\n",
              "    </td>\n",
              "    \n",
              "</tr>\n",
              "        \n",
              "            <tr style=\"background-color: hsl(0, 100.00%, 95.17%); border: none;\">\n",
              "    <td style=\"padding: 0 1em 0 0.5em; text-align: right; border: none;\">\n",
              "        -0.382\n",
              "    </td>\n",
              "    <td style=\"padding: 0 0.5em 0 0.5em; text-align: left; border: none;\">\n",
              "        state_course_ES\n",
              "    </td>\n",
              "    \n",
              "</tr>\n",
              "        \n",
              "            <tr style=\"background-color: hsl(0, 100.00%, 94.76%); border: none;\">\n",
              "    <td style=\"padding: 0 1em 0 0.5em; text-align: right; border: none;\">\n",
              "        -0.430\n",
              "    </td>\n",
              "    <td style=\"padding: 0 0.5em 0 0.5em; text-align: left; border: none;\">\n",
              "        state_course_MG\n",
              "    </td>\n",
              "    \n",
              "</tr>\n",
              "        \n",
              "            <tr style=\"background-color: hsl(0, 100.00%, 94.69%); border: none;\">\n",
              "    <td style=\"padding: 0 1em 0 0.5em; text-align: right; border: none;\">\n",
              "        -0.438\n",
              "    </td>\n",
              "    <td style=\"padding: 0 0.5em 0 0.5em; text-align: left; border: none;\">\n",
              "        sem_funded\n",
              "    </td>\n",
              "    \n",
              "</tr>\n",
              "        \n",
              "            <tr style=\"background-color: hsl(0, 100.00%, 94.57%); border: none;\">\n",
              "    <td style=\"padding: 0 1em 0 0.5em; text-align: right; border: none;\">\n",
              "        -0.452\n",
              "    </td>\n",
              "    <td style=\"padding: 0 0.5em 0 0.5em; text-align: left; border: none;\">\n",
              "        ethnicity_B\n",
              "    </td>\n",
              "    \n",
              "</tr>\n",
              "        \n",
              "            <tr style=\"background-color: hsl(0, 100.00%, 94.27%); border: none;\">\n",
              "    <td style=\"padding: 0 1em 0 0.5em; text-align: right; border: none;\">\n",
              "        -0.488\n",
              "    </td>\n",
              "    <td style=\"padding: 0 0.5em 0 0.5em; text-align: left; border: none;\">\n",
              "        state_course_PR\n",
              "    </td>\n",
              "    \n",
              "</tr>\n",
              "        \n",
              "            <tr style=\"background-color: hsl(0, 100.00%, 94.22%); border: none;\">\n",
              "    <td style=\"padding: 0 1em 0 0.5em; text-align: right; border: none;\">\n",
              "        -0.494\n",
              "    </td>\n",
              "    <td style=\"padding: 0 0.5em 0 0.5em; text-align: left; border: none;\">\n",
              "        state_course_RS\n",
              "    </td>\n",
              "    \n",
              "</tr>\n",
              "        \n",
              "            <tr style=\"background-color: hsl(0, 100.00%, 93.50%); border: none;\">\n",
              "    <td style=\"padding: 0 1em 0 0.5em; text-align: right; border: none;\">\n",
              "        -0.585\n",
              "    </td>\n",
              "    <td style=\"padding: 0 0.5em 0 0.5em; text-align: left; border: none;\">\n",
              "        state_course_PI\n",
              "    </td>\n",
              "    \n",
              "</tr>\n",
              "        \n",
              "            <tr style=\"background-color: hsl(0, 100.00%, 93.31%); border: none;\">\n",
              "    <td style=\"padding: 0 1em 0 0.5em; text-align: right; border: none;\">\n",
              "        -0.608\n",
              "    </td>\n",
              "    <td style=\"padding: 0 0.5em 0 0.5em; text-align: left; border: none;\">\n",
              "        state_course_SC\n",
              "    </td>\n",
              "    \n",
              "</tr>\n",
              "        \n",
              "            <tr style=\"background-color: hsl(0, 100.00%, 92.96%); border: none;\">\n",
              "    <td style=\"padding: 0 1em 0 0.5em; text-align: right; border: none;\">\n",
              "        -0.655\n",
              "    </td>\n",
              "    <td style=\"padding: 0 0.5em 0 0.5em; text-align: left; border: none;\">\n",
              "        semester_enroll_22013\n",
              "    </td>\n",
              "    \n",
              "</tr>\n",
              "        \n",
              "            <tr style=\"background-color: hsl(0, 100.00%, 92.52%); border: none;\">\n",
              "    <td style=\"padding: 0 1em 0 0.5em; text-align: right; border: none;\">\n",
              "        -0.714\n",
              "    </td>\n",
              "    <td style=\"padding: 0 0.5em 0 0.5em; text-align: left; border: none;\">\n",
              "        degree_ODONTOLOGIA\n",
              "    </td>\n",
              "    \n",
              "</tr>\n",
              "        \n",
              "            <tr style=\"background-color: hsl(0, 100.00%, 92.35%); border: none;\">\n",
              "    <td style=\"padding: 0 1em 0 0.5em; text-align: right; border: none;\">\n",
              "        -0.738\n",
              "    </td>\n",
              "    <td style=\"padding: 0 0.5em 0 0.5em; text-align: left; border: none;\">\n",
              "        state_course_TO\n",
              "    </td>\n",
              "    \n",
              "</tr>\n",
              "        \n",
              "            <tr style=\"background-color: hsl(0, 100.00%, 88.83%); border: none;\">\n",
              "    <td style=\"padding: 0 1em 0 0.5em; text-align: right; border: none;\">\n",
              "        -1.267\n",
              "    </td>\n",
              "    <td style=\"padding: 0 0.5em 0 0.5em; text-align: left; border: none;\">\n",
              "        semester_enroll_12014\n",
              "    </td>\n",
              "    \n",
              "</tr>\n",
              "        \n",
              "            <tr style=\"background-color: hsl(0, 100.00%, 86.50%); border: none;\">\n",
              "    <td style=\"padding: 0 1em 0 0.5em; text-align: right; border: none;\">\n",
              "        -1.661\n",
              "    </td>\n",
              "    <td style=\"padding: 0 0.5em 0 0.5em; text-align: left; border: none;\">\n",
              "        semester_enroll_22014\n",
              "    </td>\n",
              "    \n",
              "</tr>\n",
              "        \n",
              "            <tr style=\"background-color: hsl(0, 100.00%, 82.09%); border: none;\">\n",
              "    <td style=\"padding: 0 1em 0 0.5em; text-align: right; border: none;\">\n",
              "        -2.486\n",
              "    </td>\n",
              "    <td style=\"padding: 0 0.5em 0 0.5em; text-align: left; border: none;\">\n",
              "        contract_phase_Liquidacao\n",
              "    </td>\n",
              "    \n",
              "</tr>\n",
              "        \n",
              "            <tr style=\"background-color: hsl(0, 100.00%, 80.00%); border: none;\">\n",
              "    <td style=\"padding: 0 1em 0 0.5em; text-align: right; border: none;\">\n",
              "        -2.911\n",
              "    </td>\n",
              "    <td style=\"padding: 0 0.5em 0 0.5em; text-align: left; border: none;\">\n",
              "        degree_MEDICINA\n",
              "    </td>\n",
              "    \n",
              "</tr>\n",
              "        \n",
              "\n",
              "        </tbody>\n",
              "    </table>\n",
              "\n",
              "            \n",
              "        \n",
              "\n",
              "        \n",
              "\n",
              "\n",
              "\n",
              "    \n",
              "\n",
              "    \n",
              "\n",
              "    \n",
              "\n",
              "    \n",
              "\n",
              "\n",
              "    \n",
              "\n",
              "    \n",
              "\n",
              "    \n",
              "\n",
              "    \n",
              "\n",
              "    \n",
              "\n",
              "    \n",
              "\n",
              "\n",
              "    \n",
              "\n",
              "    \n",
              "\n",
              "    \n",
              "\n",
              "    \n",
              "\n",
              "    \n",
              "\n",
              "    \n",
              "\n",
              "\n",
              "\n"
            ],
            "text/plain": [
              "Explanation(estimator=\"LogisticRegression(C=0.1, class_weight=None, dual=False, fit_intercept=True,\\n                   intercept_scaling=1, l1_ratio=None, max_iter=200,\\n                   multi_class='auto', n_jobs=None, penalty='l1',\\n                   random_state=42, solver='liblinear', tol=0.0001, verbose=0,\\n                   warm_start=False)\", description=\"\\nFeatures with largest coefficients.\\nCaveats:\\n1. Be careful with features which are not\\n   independent - weights don't show their importance.\\n2. If scale of input features is different then scale of coefficients\\n   will also be different, making direct comparison between coefficient values\\n   incorrect.\\n3. Depending on regularization, rare features sometimes may have high\\n   coefficients; this doesn't mean they contribute much to the\\n   classification result for most examples.\\n\", error=None, method='linear model', is_regression=False, targets=[TargetExplanation(target=1, feature_weights=FeatureWeights(pos=[FeatureWeight(feature='semester_enroll_before 2012', weight=1.5815801638360056, std=None, value=None), FeatureWeight(feature='semester_enroll_12012', weight=1.045201051832331, std=None, value=None), FeatureWeight(feature='state_course_AM', weight=0.7823124845728061, std=None, value=None), FeatureWeight(feature='state_course_AP', weight=0.6302556985613753, std=None, value=None), FeatureWeight(feature='semester_enroll_22012', weight=0.4823789288873425, std=None, value=None), FeatureWeight(feature='state_course_GO', weight=0.27593502785788654, std=None, value=None), FeatureWeight(feature='loan_value_sem', weight=0.2237001247495233, std=None, value=None), FeatureWeight(feature='degree_SERVIÇO SOCIAL', weight=0.1995474350447041, std=None, value=None), FeatureWeight(feature='state_course_RJ', weight=0.19855677877474895, std=None, value=None), FeatureWeight(feature='degree_EDUCAÇÃO FÍSICA', weight=0.19818535423575326, std=None, value=None), FeatureWeight(feature='state_course_BA', weight=0.17355779943611566, std=None, value=None), FeatureWeight(feature='degree_DIREITO', weight=0.16789516973354296, std=None, value=None), FeatureWeight(feature='loan_limit', weight=0.16129089618213285, std=None, value=None), FeatureWeight(feature='degree_ADMINISTRAÇÃO', weight=0.1593545787305491, std=None, value=None), FeatureWeight(feature='degree_PEDAGOGIA', weight=0.15565426077004457, std=None, value=None), FeatureWeight(feature='state_course_PE', weight=0.14892772116668118, std=None, value=None), FeatureWeight(feature='state_course_RR', weight=0.14814865165577026, std=None, value=None), FeatureWeight(feature='marital_status_UniÃ£o estÃ¡vel', weight=0.1344321814796455, std=None, value=None), FeatureWeight(feature='age', weight=0.12817980679355426, std=None, value=None), FeatureWeight(feature='degree_FISIOTERAPIA', weight=0.12428527262147777, std=None, value=None)], neg=[FeatureWeight(feature='degree_MEDICINA', weight=-2.91121555176817, std=None, value=None), FeatureWeight(feature='contract_phase_Liquidacao', weight=-2.485665966240339, std=None, value=None), FeatureWeight(feature='semester_enroll_22014', weight=-1.6606927290266555, std=None, value=None), FeatureWeight(feature='semester_enroll_12014', weight=-1.2666547788065068, std=None, value=None), FeatureWeight(feature='state_course_TO', weight=-0.7380526894876731, std=None, value=None), FeatureWeight(feature='degree_ODONTOLOGIA', weight=-0.7141418772686807, std=None, value=None), FeatureWeight(feature='semester_enroll_22013', weight=-0.6552204160576779, std=None, value=None), FeatureWeight(feature='state_course_SC', weight=-0.6084638065353903, std=None, value=None), FeatureWeight(feature='state_course_PI', weight=-0.585040559911642, std=None, value=None), FeatureWeight(feature='state_course_RS', weight=-0.4943771542596834, std=None, value=None), FeatureWeight(feature='state_course_PR', weight=-0.48843865559441163, std=None, value=None), FeatureWeight(feature='ethnicity_B', weight=-0.4523441648998803, std=None, value=None), FeatureWeight(feature='sem_funded', weight=-0.438101701121521, std=None, value=None), FeatureWeight(feature='state_course_MG', weight=-0.42979331100805973, std=None, value=None), FeatureWeight(feature='state_course_ES', weight=-0.38184442485382514, std=None, value=None), FeatureWeight(feature='degree_FARMÁCIA', weight=-0.3775090343462414, std=None, value=None), FeatureWeight(feature='ethnicity_A', weight=-0.351168097221601, std=None, value=None), FeatureWeight(feature='public_hs_N', weight=-0.32727745596267166, std=None, value=None), FeatureWeight(feature='gender_F', weight=-0.32197973086460197, std=None, value=None), FeatureWeight(feature='n_completed_sem', weight=-0.32148204829532745, std=None, value=None), FeatureWeight(feature='gender_M', weight=-0.3167044414388377, std=None, value=None), FeatureWeight(feature='family_income', weight=-0.311196637117457, std=None, value=None), FeatureWeight(feature='loan_value', weight=-0.30934730184288844, std=None, value=None), FeatureWeight(feature='income_pc', weight=-0.30889555048616646, std=None, value=None), FeatureWeight(feature='state_course_RO', weight=-0.2624435935807104, std=None, value=None), FeatureWeight(feature='ethnicity_P', weight=-0.196689160453828, std=None, value=None), FeatureWeight(feature='igc', weight=-0.17270895841182834, std=None, value=None), FeatureWeight(feature='state_course_SE', weight=-0.17252628647432536, std=None, value=None), FeatureWeight(feature='marital_status_ViÃºvo', weight=-0.15103398934191023, std=None, value=None), FeatureWeight(feature='state_course_AC', weight=-0.14900156807256532, std=None, value=None)], pos_remaining=16, neg_remaining=20), proba=None, score=None, weighted_spans=None, heatmap=None)], feature_importances=None, decision_tree=None, highlight_spaces=None, transition_features=None, image=None)"
            ]
          },
          "metadata": {
            "tags": []
          },
          "execution_count": 31
        }
      ]
    },
    {
      "cell_type": "code",
      "metadata": {
        "colab": {
          "base_uri": "https://localhost:8080/"
        },
        "id": "E483F61ONKC7",
        "outputId": "26202bcb-caf0-4f2c-9016-39794521dd18"
      },
      "source": [
        "logr_under = LogisticRegression(random_state=42)\n",
        "logr_under.fit(train_under, target_under)"
      ],
      "execution_count": 40,
      "outputs": [
        {
          "output_type": "stream",
          "text": [
            "/usr/local/lib/python3.7/dist-packages/sklearn/linear_model/_logistic.py:940: ConvergenceWarning: lbfgs failed to converge (status=1):\n",
            "STOP: TOTAL NO. of ITERATIONS REACHED LIMIT.\n",
            "\n",
            "Increase the number of iterations (max_iter) or scale the data as shown in:\n",
            "    https://scikit-learn.org/stable/modules/preprocessing.html\n",
            "Please also refer to the documentation for alternative solver options:\n",
            "    https://scikit-learn.org/stable/modules/linear_model.html#logistic-regression\n",
            "  extra_warning_msg=_LOGISTIC_SOLVER_CONVERGENCE_MSG)\n"
          ],
          "name": "stderr"
        },
        {
          "output_type": "execute_result",
          "data": {
            "text/plain": [
              "LogisticRegression(C=1.0, class_weight=None, dual=False, fit_intercept=True,\n",
              "                   intercept_scaling=1, l1_ratio=None, max_iter=100,\n",
              "                   multi_class='auto', n_jobs=None, penalty='l2',\n",
              "                   random_state=42, solver='lbfgs', tol=0.0001, verbose=0,\n",
              "                   warm_start=False)"
            ]
          },
          "metadata": {
            "tags": []
          },
          "execution_count": 40
        }
      ]
    },
    {
      "cell_type": "code",
      "metadata": {
        "colab": {
          "base_uri": "https://localhost:8080/"
        },
        "id": "RlOm1hcWN0wz",
        "outputId": "877fb682-984f-4f50-9ba7-8aaedeed06fd"
      },
      "source": [
        "logr_over = LogisticRegression(random_state=42)\n",
        "logr_over.fit(train_under, target_under)"
      ],
      "execution_count": 41,
      "outputs": [
        {
          "output_type": "stream",
          "text": [
            "/usr/local/lib/python3.7/dist-packages/sklearn/linear_model/_logistic.py:940: ConvergenceWarning: lbfgs failed to converge (status=1):\n",
            "STOP: TOTAL NO. of ITERATIONS REACHED LIMIT.\n",
            "\n",
            "Increase the number of iterations (max_iter) or scale the data as shown in:\n",
            "    https://scikit-learn.org/stable/modules/preprocessing.html\n",
            "Please also refer to the documentation for alternative solver options:\n",
            "    https://scikit-learn.org/stable/modules/linear_model.html#logistic-regression\n",
            "  extra_warning_msg=_LOGISTIC_SOLVER_CONVERGENCE_MSG)\n"
          ],
          "name": "stderr"
        },
        {
          "output_type": "execute_result",
          "data": {
            "text/plain": [
              "LogisticRegression(C=1.0, class_weight=None, dual=False, fit_intercept=True,\n",
              "                   intercept_scaling=1, l1_ratio=None, max_iter=100,\n",
              "                   multi_class='auto', n_jobs=None, penalty='l2',\n",
              "                   random_state=42, solver='lbfgs', tol=0.0001, verbose=0,\n",
              "                   warm_start=False)"
            ]
          },
          "metadata": {
            "tags": []
          },
          "execution_count": 41
        }
      ]
    },
    {
      "cell_type": "markdown",
      "metadata": {
        "id": "wYUyQBBztlSr"
      },
      "source": [
        "Smote sampled logistics model"
      ]
    },
    {
      "cell_type": "markdown",
      "metadata": {
        "id": "GCZUKMHltLh8"
      },
      "source": [
        "Score for the sampled dataset"
      ]
    },
    {
      "cell_type": "markdown",
      "metadata": {
        "id": "nH0TnEXdQGaH"
      },
      "source": [
        "#### Save the Models"
      ]
    },
    {
      "cell_type": "code",
      "metadata": {
        "id": "Rvq9W6sup4xX",
        "colab": {
          "base_uri": "https://localhost:8080/"
        },
        "outputId": "37a6d1c4-c628-45a3-cb0b-7b05c58bfcba"
      },
      "source": [
        "import joblib\n",
        "\n",
        "file_name = '/content/drive/MyDrive/M/Machine Learning/Data.Base/logistitic_model_fies.save'\n",
        "file_name_smote = '/content/drive/MyDrive/M/Machine Learning/Data.Base/logistitic_model_fies_smote.save'\n",
        "\n",
        "joblib.dump(logr_optimized, file_name)\n",
        "joblib.dump(logr_smote_optimized, file_name_smote)\n"
      ],
      "execution_count": null,
      "outputs": [
        {
          "output_type": "execute_result",
          "data": {
            "text/plain": [
              "['/content/drive/MyDrive/M/Machine Learning/Data.Base/logistitic_model_fies_smote.save']"
            ]
          },
          "metadata": {
            "tags": []
          },
          "execution_count": 66
        }
      ]
    },
    {
      "cell_type": "markdown",
      "metadata": {
        "id": "45tFlNTkeLUL"
      },
      "source": [
        "#### Training Set"
      ]
    },
    {
      "cell_type": "code",
      "metadata": {
        "colab": {
          "base_uri": "https://localhost:8080/",
          "height": 204
        },
        "id": "KlBL4Wf_4Kmn",
        "outputId": "85c2da3a-37c0-4021-ab5b-b465ad9211f3"
      },
      "source": [
        "# List with AUC scores for training set\n",
        "cross_list = [cross_logr]\n",
        "m1_list = ['Logistic Regression']\n",
        "\n",
        "# Dataframe \n",
        "cross_df = pd.DataFrame({\"Model\": m1_list, \"AUC\": cross_list})\n",
        "cross_df.sort_values(by = \"AUC\", ascending=False)"
      ],
      "execution_count": null,
      "outputs": [
        {
          "output_type": "execute_result",
          "data": {
            "text/html": [
              "<div>\n",
              "<style scoped>\n",
              "    .dataframe tbody tr th:only-of-type {\n",
              "        vertical-align: middle;\n",
              "    }\n",
              "\n",
              "    .dataframe tbody tr th {\n",
              "        vertical-align: top;\n",
              "    }\n",
              "\n",
              "    .dataframe thead th {\n",
              "        text-align: right;\n",
              "    }\n",
              "</style>\n",
              "<table border=\"1\" class=\"dataframe\">\n",
              "  <thead>\n",
              "    <tr style=\"text-align: right;\">\n",
              "      <th></th>\n",
              "      <th>Model</th>\n",
              "      <th>AUC</th>\n",
              "    </tr>\n",
              "  </thead>\n",
              "  <tbody>\n",
              "    <tr>\n",
              "      <th>4</th>\n",
              "      <td>ANN</td>\n",
              "      <td>0.816213</td>\n",
              "    </tr>\n",
              "    <tr>\n",
              "      <th>2</th>\n",
              "      <td>Random Forest</td>\n",
              "      <td>0.775061</td>\n",
              "    </tr>\n",
              "    <tr>\n",
              "      <th>0</th>\n",
              "      <td>Logistic Regression</td>\n",
              "      <td>0.722902</td>\n",
              "    </tr>\n",
              "    <tr>\n",
              "      <th>3</th>\n",
              "      <td>Linear SVC</td>\n",
              "      <td>0.672063</td>\n",
              "    </tr>\n",
              "    <tr>\n",
              "      <th>1</th>\n",
              "      <td>Decision Tree</td>\n",
              "      <td>0.634598</td>\n",
              "    </tr>\n",
              "  </tbody>\n",
              "</table>\n",
              "</div>"
            ],
            "text/plain": [
              "                 Model       AUC\n",
              "4                  ANN  0.816213\n",
              "2        Random Forest  0.775061\n",
              "0  Logistic Regression  0.722902\n",
              "3           Linear SVC  0.672063\n",
              "1        Decision Tree  0.634598"
            ]
          },
          "metadata": {
            "tags": []
          },
          "execution_count": 24
        }
      ]
    },
    {
      "cell_type": "markdown",
      "metadata": {
        "id": "1cFmYN3lePKQ"
      },
      "source": [
        "#### Test Set\n",
        "\n",
        "In this section, AUC and Brier scores were not calculated for the linear SVC model because it does not have a *predict_proba* function.\n"
      ]
    },
    {
      "cell_type": "code",
      "metadata": {
        "id": "1lUr8ie6AQW2"
      },
      "source": [
        "from sklearn.metrics import roc_auc_score\n",
        "\n",
        "# Predict probabilities for test set\n",
        "pred_logr = logr.predict_proba(test_prepared)\n",
        "pred_logr_under= logr_under.predict_proba(test_prepared)\n",
        "pred_logr_over= logr_over.predict_proba(test_prepared)\n",
        "\n"
      ],
      "execution_count": null,
      "outputs": []
    },
    {
      "cell_type": "code",
      "metadata": {
        "id": "Evhwa7QTr1U0"
      },
      "source": [
        "from sklearn.metrics import brier_score_loss\n",
        "\n",
        "loss_logr = brier_score_loss(test_target, pred_logr[:,1])\n",
        "loss_logr_smote = brier_score_loss(test_target, pred_logr_smote[:,1])\n"
      ],
      "execution_count": null,
      "outputs": []
    },
    {
      "cell_type": "code",
      "metadata": {
        "id": "MwnJNjFb3atd"
      },
      "source": [
        "from sklearn.metrics import roc_auc_score\n",
        "\n",
        "# AUC score\n",
        "auc_logr = roc_auc_score(test_target, pred_logr[:,1])\n",
        "auc_logr_under = roc_auc_score(test_target, pred_logr_under[:,1])\n",
        "auc_logr_over = roc_auc_score(test_target, pred_logr_over[:,1])"
      ],
      "execution_count": null,
      "outputs": []
    },
    {
      "cell_type": "code",
      "metadata": {
        "colab": {
          "base_uri": "https://localhost:8080/",
          "height": 111
        },
        "id": "xwcHqEvpv3F2",
        "outputId": "13b123fb-c68f-419d-b1e9-f18c1d75a38e"
      },
      "source": [
        "# List with AUC scores\n",
        "auc_list = [auc_logr, auc_logr_under,auc_logr_over]\n",
        "\n",
        "# List with Brier Scores\n",
        "loss_list = auc_logr, auc_logr_under,auc_logr_over]\n",
        "\n",
        "# List with model names\n",
        "m2_list = ['Logistic Regression', 'Undersampled','Oversampled']\n",
        "\n",
        "# Dataframe \n",
        "auc_df= pd.DataFrame({\"Model\": m2_list, \"AUC\": auc_list, \"BS\": loss_list})\n",
        "auc_df.sort_values(by = \"AUC\", ascending=False)"
      ],
      "execution_count": null,
      "outputs": [
        {
          "output_type": "execute_result",
          "data": {
            "text/html": [
              "<div>\n",
              "<style scoped>\n",
              "    .dataframe tbody tr th:only-of-type {\n",
              "        vertical-align: middle;\n",
              "    }\n",
              "\n",
              "    .dataframe tbody tr th {\n",
              "        vertical-align: top;\n",
              "    }\n",
              "\n",
              "    .dataframe thead th {\n",
              "        text-align: right;\n",
              "    }\n",
              "</style>\n",
              "<table border=\"1\" class=\"dataframe\">\n",
              "  <thead>\n",
              "    <tr style=\"text-align: right;\">\n",
              "      <th></th>\n",
              "      <th>Model</th>\n",
              "      <th>AUC</th>\n",
              "      <th>BS</th>\n",
              "    </tr>\n",
              "  </thead>\n",
              "  <tbody>\n",
              "    <tr>\n",
              "      <th>0</th>\n",
              "      <td>Logistic Regression</td>\n",
              "      <td>0.724568</td>\n",
              "      <td>0.724568</td>\n",
              "    </tr>\n",
              "    <tr>\n",
              "      <th>1</th>\n",
              "      <td>Logistic with SMOTE Sampling</td>\n",
              "      <td>0.722750</td>\n",
              "      <td>0.722750</td>\n",
              "    </tr>\n",
              "  </tbody>\n",
              "</table>\n",
              "</div>"
            ],
            "text/plain": [
              "                          Model       AUC        BS\n",
              "0           Logistic Regression  0.724568  0.724568\n",
              "1  Logistic with SMOTE Sampling  0.722750  0.722750"
            ]
          },
          "metadata": {
            "tags": []
          },
          "execution_count": 61
        }
      ]
    },
    {
      "cell_type": "markdown",
      "metadata": {
        "id": "GlF-_x40spEo"
      },
      "source": [
        "The AUC results can be plotted, as shown bellow. "
      ]
    },
    {
      "cell_type": "code",
      "metadata": {
        "id": "xlPPx7NHBJ4C"
      },
      "source": [
        "from sklearn.metrics import roc_curve\n",
        "\n",
        "# roc curve for models\n",
        "fpr_logr, tpr_logr, thresh_logr = roc_curve(test_target, pred_logr[:,1], pos_label=1)\n",
        "fpr_logr_smote, tpr_logr_smote, thresh_logr_smote = roc_curve(test_target, pred_logr_smote[:,1], pos_label=1)\n",
        "\n",
        "\n",
        "\n",
        "# roc curve for tpr = fpr \n",
        "random_probs = [0 for i in range(len(test_target))]\n",
        "p_fpr, p_tpr, _ = roc_curve(test_target, random_probs, pos_label=1)"
      ],
      "execution_count": null,
      "outputs": []
    },
    {
      "cell_type": "code",
      "metadata": {
        "colab": {
          "base_uri": "https://localhost:8080/",
          "height": 361
        },
        "id": "COwC7FNZBIyr",
        "outputId": "9c29f8ce-449d-4caf-8270-60c83bd3ab95"
      },
      "source": [
        "import matplotlib.pyplot as plt\n",
        "plt.style.use(\"seaborn\")\n",
        "\n",
        "# plot roc curves\n",
        "plt.plot(fpr_logr, tpr_logr, linestyle=\"--\",color=\"purple\", label=\"LR\")\n",
        "plt.plot(fpr_logr_smote, tpr_logr_smote, linestyle=\"--\",color=\"blue\", label=\"LR_Smote\")\n",
        "plt.plot(p_fpr, p_tpr, linestyle=\"-\", color=\"black\")\n",
        "\n",
        "# x label\n",
        "plt.xlabel(\"False Positive Rate\")\n",
        "# y label\n",
        "plt.ylabel(\"True Positive Rate\")\n",
        "\n",
        "plt.legend(loc=\"best\")\n",
        "plt.savefig(\"ROC\", dpi = 300)\n",
        "plt.show()"
      ],
      "execution_count": null,
      "outputs": [
        {
          "output_type": "display_data",
          "data": {
            "image/png": "[encoded data removed]",
            "text/plain": [
              "<Figure size 576x396 with 1 Axes>"
            ]
          },
          "metadata": {
            "tags": []
          }
        }
      ]
    },
    {
      "cell_type": "code",
      "metadata": {
        "id": "MhuuucORgIlz"
      },
      "source": [
        ""
      ],
      "execution_count": null,
      "outputs": []
    },
    {
      "cell_type": "code",
      "metadata": {
        "id": "FtQqUlQdf54k"
      },
      "source": [
        "# Save Model Using joblib\n",
        "import pandas as pd\n",
        "import numpy as np\n",
        "from sklearn import model_selection\n",
        "from sklearn.linear_model import LogisticRegression\n",
        "import joblib\n",
        "\n",
        "\n",
        "loaded_model = joblib.load('/content/drive/MyDrive/M/Machine Learning/Data.Base/logistitic_model_fies.save')\n",
        "\n"
      ],
      "execution_count": null,
      "outputs": []
    }
  ]
}