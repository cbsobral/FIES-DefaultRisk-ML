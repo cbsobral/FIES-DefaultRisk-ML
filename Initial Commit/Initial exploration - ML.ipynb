{
 "cells": [
  {
   "cell_type": "markdown",
   "metadata": {},
   "source": [
    "In this notebook we will explore our dataset that contains data on loans the Brazilian government provided to University Students in a program called \"FIES\". First, the data is loaded:"
   ]
  },
  {
   "cell_type": "code",
   "execution_count": 5,
   "metadata": {},
   "outputs": [],
   "source": [
    "import pandas as pd\n",
    "\n",
    "xl_file = pd.read_excel(\"base_df.xlsx\")\n",
    "\n"
   ]
  },
  {
   "cell_type": "markdown",
   "metadata": {},
   "source": [
    "Our sample has 37 features and 637822 observations."
   ]
  },
  {
   "cell_type": "code",
   "execution_count": 14,
   "metadata": {},
   "outputs": [
    {
     "data": {
      "text/plain": [
       "(637822, 37)"
      ]
     },
     "execution_count": 14,
     "metadata": {},
     "output_type": "execute_result"
    }
   ],
   "source": [
    "xl_file.shape"
   ]
  },
  {
   "cell_type": "code",
   "execution_count": 15,
   "metadata": {},
   "outputs": [
    {
     "data": {
      "text/html": [
       "<div>\n",
       "<style scoped>\n",
       "    .dataframe tbody tr th:only-of-type {\n",
       "        vertical-align: middle;\n",
       "    }\n",
       "\n",
       "    .dataframe tbody tr th {\n",
       "        vertical-align: top;\n",
       "    }\n",
       "\n",
       "    .dataframe thead th {\n",
       "        text-align: right;\n",
       "    }\n",
       "</style>\n",
       "<table border=\"1\" class=\"dataframe\">\n",
       "  <thead>\n",
       "    <tr style=\"text-align: right;\">\n",
       "      <th></th>\n",
       "      <th>NU_ANO_SEMESTRE_INSCRICAO</th>\n",
       "      <th>SG_SEXO</th>\n",
       "      <th>DS_OCUPACAO</th>\n",
       "      <th>DS_ESTADO_CIVIL</th>\n",
       "      <th>VL_RENDA_FAMILIAR_BRUTA_MENSAL</th>\n",
       "      <th>VL_RENDA_PESSOAL_BRUTA_MENSAL</th>\n",
       "      <th>NO_MUNICIPIO</th>\n",
       "      <th>SG_UF</th>\n",
       "      <th>DS_RACA_COR</th>\n",
       "      <th>ST_ENSINO_MEDIO_ESCOLA_PUBLICA</th>\n",
       "      <th>...</th>\n",
       "      <th>NU_PERCENT_SOLICITADO_FINANC</th>\n",
       "      <th>VL_FINANCIADO_SEMESTRE</th>\n",
       "      <th>VL_FINANC_RECURSO_ALUNO</th>\n",
       "      <th>VL_TOTAL_FINANCIAMENTO</th>\n",
       "      <th>VL_LIMITE_GLOBAL</th>\n",
       "      <th>dt_inicio_cont</th>\n",
       "      <th>fase_contrato</th>\n",
       "      <th>nu_dias_atraso</th>\n",
       "      <th>vl_divida</th>\n",
       "      <th>ANO_NASC</th>\n",
       "    </tr>\n",
       "  </thead>\n",
       "  <tbody>\n",
       "    <tr>\n",
       "      <th>0</th>\n",
       "      <td>12014</td>\n",
       "      <td>F</td>\n",
       "      <td>Vendedor e prestador de serviÃ§os do comÃ©rcio...</td>\n",
       "      <td>Solteiro</td>\n",
       "      <td>728.74</td>\n",
       "      <td>728.74</td>\n",
       "      <td>NaN</td>\n",
       "      <td>NaN</td>\n",
       "      <td>P</td>\n",
       "      <td>S</td>\n",
       "      <td>...</td>\n",
       "      <td>100</td>\n",
       "      <td>1683.18</td>\n",
       "      <td>0.0</td>\n",
       "      <td>13465.44</td>\n",
       "      <td>15730.80</td>\n",
       "      <td>2014-05-02</td>\n",
       "      <td>Amortizacao</td>\n",
       "      <td>0</td>\n",
       "      <td>14549.68</td>\n",
       "      <td>1991</td>\n",
       "    </tr>\n",
       "    <tr>\n",
       "      <th>1</th>\n",
       "      <td>12013</td>\n",
       "      <td>F</td>\n",
       "      <td>Outros trabalhadores de serviÃ§os diversos</td>\n",
       "      <td>Solteiro</td>\n",
       "      <td>553.35</td>\n",
       "      <td>553.35</td>\n",
       "      <td>NaN</td>\n",
       "      <td>NaN</td>\n",
       "      <td>P</td>\n",
       "      <td>S</td>\n",
       "      <td>...</td>\n",
       "      <td>100</td>\n",
       "      <td>2650.50</td>\n",
       "      <td>0.0</td>\n",
       "      <td>15903.00</td>\n",
       "      <td>16800.75</td>\n",
       "      <td>2013-02-13</td>\n",
       "      <td>Amortizacao</td>\n",
       "      <td>0</td>\n",
       "      <td>12139.80</td>\n",
       "      <td>1990</td>\n",
       "    </tr>\n",
       "    <tr>\n",
       "      <th>2</th>\n",
       "      <td>22014</td>\n",
       "      <td>F</td>\n",
       "      <td>Estudante</td>\n",
       "      <td>Solteiro</td>\n",
       "      <td>5962.49</td>\n",
       "      <td>0.00</td>\n",
       "      <td>NaN</td>\n",
       "      <td>NaN</td>\n",
       "      <td>P</td>\n",
       "      <td>N</td>\n",
       "      <td>...</td>\n",
       "      <td>100</td>\n",
       "      <td>26810.85</td>\n",
       "      <td>0.0</td>\n",
       "      <td>321730.20</td>\n",
       "      <td>377937.00</td>\n",
       "      <td>2014-08-12</td>\n",
       "      <td>Utilizacao</td>\n",
       "      <td>0</td>\n",
       "      <td>397349.62</td>\n",
       "      <td>1996</td>\n",
       "    </tr>\n",
       "    <tr>\n",
       "      <th>3</th>\n",
       "      <td>12012</td>\n",
       "      <td>F</td>\n",
       "      <td>Estudante</td>\n",
       "      <td>Solteiro</td>\n",
       "      <td>21671.74</td>\n",
       "      <td>0.00</td>\n",
       "      <td>NaN</td>\n",
       "      <td>NaN</td>\n",
       "      <td>B</td>\n",
       "      <td>N</td>\n",
       "      <td>...</td>\n",
       "      <td>100</td>\n",
       "      <td>32065.32</td>\n",
       "      <td>0.0</td>\n",
       "      <td>384783.84</td>\n",
       "      <td>368181.00</td>\n",
       "      <td>2012-03-20</td>\n",
       "      <td>Utilizacao</td>\n",
       "      <td>0</td>\n",
       "      <td>434901.80</td>\n",
       "      <td>1991</td>\n",
       "    </tr>\n",
       "    <tr>\n",
       "      <th>4</th>\n",
       "      <td>22011</td>\n",
       "      <td>F</td>\n",
       "      <td>Estudante</td>\n",
       "      <td>Solteiro</td>\n",
       "      <td>1000.00</td>\n",
       "      <td>0.00</td>\n",
       "      <td>NaN</td>\n",
       "      <td>NaN</td>\n",
       "      <td>B</td>\n",
       "      <td>S</td>\n",
       "      <td>...</td>\n",
       "      <td>100</td>\n",
       "      <td>2595.00</td>\n",
       "      <td>2595.0</td>\n",
       "      <td>51900.00</td>\n",
       "      <td>25612.50</td>\n",
       "      <td>2011-09-23</td>\n",
       "      <td>Amortizacao</td>\n",
       "      <td>682</td>\n",
       "      <td>27518.91</td>\n",
       "      <td>1992</td>\n",
       "    </tr>\n",
       "  </tbody>\n",
       "</table>\n",
       "<p>5 rows × 37 columns</p>\n",
       "</div>"
      ],
      "text/plain": [
       "   NU_ANO_SEMESTRE_INSCRICAO SG_SEXO  \\\n",
       "0                      12014       F   \n",
       "1                      12013       F   \n",
       "2                      22014       F   \n",
       "3                      12012       F   \n",
       "4                      22011       F   \n",
       "\n",
       "                                         DS_OCUPACAO DS_ESTADO_CIVIL  \\\n",
       "0  Vendedor e prestador de serviÃ§os do comÃ©rcio...        Solteiro   \n",
       "1         Outros trabalhadores de serviÃ§os diversos        Solteiro   \n",
       "2                                          Estudante        Solteiro   \n",
       "3                                          Estudante        Solteiro   \n",
       "4                                          Estudante        Solteiro   \n",
       "\n",
       "   VL_RENDA_FAMILIAR_BRUTA_MENSAL  VL_RENDA_PESSOAL_BRUTA_MENSAL NO_MUNICIPIO  \\\n",
       "0                          728.74                         728.74          NaN   \n",
       "1                          553.35                         553.35          NaN   \n",
       "2                         5962.49                           0.00          NaN   \n",
       "3                        21671.74                           0.00          NaN   \n",
       "4                         1000.00                           0.00          NaN   \n",
       "\n",
       "  SG_UF DS_RACA_COR ST_ENSINO_MEDIO_ESCOLA_PUBLICA  ...  \\\n",
       "0   NaN           P                              S  ...   \n",
       "1   NaN           P                              S  ...   \n",
       "2   NaN           P                              N  ...   \n",
       "3   NaN           B                              N  ...   \n",
       "4   NaN           B                              S  ...   \n",
       "\n",
       "   NU_PERCENT_SOLICITADO_FINANC  VL_FINANCIADO_SEMESTRE  \\\n",
       "0                           100                 1683.18   \n",
       "1                           100                 2650.50   \n",
       "2                           100                26810.85   \n",
       "3                           100                32065.32   \n",
       "4                           100                 2595.00   \n",
       "\n",
       "  VL_FINANC_RECURSO_ALUNO VL_TOTAL_FINANCIAMENTO  VL_LIMITE_GLOBAL  \\\n",
       "0                     0.0               13465.44          15730.80   \n",
       "1                     0.0               15903.00          16800.75   \n",
       "2                     0.0              321730.20         377937.00   \n",
       "3                     0.0              384783.84         368181.00   \n",
       "4                  2595.0               51900.00          25612.50   \n",
       "\n",
       "   dt_inicio_cont  fase_contrato  nu_dias_atraso  vl_divida  ANO_NASC  \n",
       "0      2014-05-02    Amortizacao               0   14549.68      1991  \n",
       "1      2013-02-13    Amortizacao               0   12139.80      1990  \n",
       "2      2014-08-12     Utilizacao               0  397349.62      1996  \n",
       "3      2012-03-20     Utilizacao               0  434901.80      1991  \n",
       "4      2011-09-23    Amortizacao             682   27518.91      1992  \n",
       "\n",
       "[5 rows x 37 columns]"
      ]
     },
     "execution_count": 15,
     "metadata": {},
     "output_type": "execute_result"
    }
   ],
   "source": [
    "xl_file.head()"
   ]
  },
  {
   "cell_type": "markdown",
   "metadata": {},
   "source": [
    "Now I will check which variables are available and their respective type:"
   ]
  },
  {
   "cell_type": "code",
   "execution_count": 11,
   "metadata": {},
   "outputs": [
    {
     "data": {
      "text/plain": [
       "NU_ANO_SEMESTRE_INSCRICAO                  int64\n",
       "SG_SEXO                                   object\n",
       "DS_OCUPACAO                               object\n",
       "DS_ESTADO_CIVIL                           object\n",
       "VL_RENDA_FAMILIAR_BRUTA_MENSAL           float64\n",
       "VL_RENDA_PESSOAL_BRUTA_MENSAL            float64\n",
       "NO_MUNICIPIO                              object\n",
       "SG_UF                                     object\n",
       "DS_RACA_COR                               object\n",
       "ST_ENSINO_MEDIO_ESCOLA_PUBLICA            object\n",
       "NU_ANO_CONCLUSAO_ENSINO_MEDIO            float64\n",
       "NU_SEMESTRE_REFERENCIA                     int64\n",
       "SG_UF_CURSO                               object\n",
       "NO_CURSO                                  object\n",
       "VL_AVALIACAO_IGC                         float64\n",
       "VL_FAIXA_CPC                             float64\n",
       "VL_FAIXA_CC                              float64\n",
       "QT_SEMESTRES_CURSO                         int64\n",
       "QT_SEMESTRE_CONCLUIDO                      int64\n",
       "QT_SEMESTRE_FINANCIAMENTO                  int64\n",
       "QT_MESES_FINANC_SEMESTRE_ATUAL             int64\n",
       "QT_MEMBRO                                float64\n",
       "VL_RENDA_PER_CAPITA                      float64\n",
       "VL_SEMESTRE_SEM_DESCONTO                 float64\n",
       "VL_SEMESTRE_COM_DESCONTO                 float64\n",
       "VL_SEMESTRE_ATUAL                        float64\n",
       "NU_PERCENTUAL_COMPROMETIMENTO            float64\n",
       "NU_PERCENT_SOLICITADO_FINANC               int64\n",
       "VL_FINANCIADO_SEMESTRE                   float64\n",
       "VL_FINANC_RECURSO_ALUNO                  float64\n",
       "VL_TOTAL_FINANCIAMENTO                   float64\n",
       "VL_LIMITE_GLOBAL                         float64\n",
       "dt_inicio_cont                    datetime64[ns]\n",
       "fase_contrato                             object\n",
       "nu_dias_atraso                             int64\n",
       "vl_divida                                float64\n",
       "ANO_NASC                                  object\n",
       "dtype: object"
      ]
     },
     "execution_count": 11,
     "metadata": {},
     "output_type": "execute_result"
    }
   ],
   "source": [
    "xl_file.dtypes"
   ]
  },
  {
   "cell_type": "markdown",
   "metadata": {},
   "source": [
    "Inspecting some variables:"
   ]
  },
  {
   "cell_type": "code",
   "execution_count": 16,
   "metadata": {},
   "outputs": [
    {
     "data": {
      "text/plain": [
       "DIREITO                   98327\n",
       "ADMINISTRAÇÃO             53047\n",
       "ENGENHARIA CIVIL          51871\n",
       "ENFERMAGEM                40305\n",
       "PEDAGOGIA                 37172\n",
       "PSICOLOGIA                31372\n",
       "CIÊNCIAS CONTÁBEIS        22619\n",
       "ENGENHARIA DE PRODUÇÃO    20897\n",
       "EDUCAÇÃO FÍSICA           20731\n",
       "FISIOTERAPIA              20121\n",
       "Name: NO_CURSO, dtype: int64"
      ]
     },
     "execution_count": 16,
     "metadata": {},
     "output_type": "execute_result"
    }
   ],
   "source": [
    "xl_file[\"NO_CURSO\"].value_counts().head(10)"
   ]
  },
  {
   "cell_type": "code",
   "execution_count": 17,
   "metadata": {},
   "outputs": [
    {
     "data": {
      "text/plain": [
       "1000.0    16181\n",
       "724.0     14727\n",
       "800.0     12313\n",
       "1500.0    11522\n",
       "1200.0    10563\n",
       "2000.0    10301\n",
       "678.0     10185\n",
       "700.0      8009\n",
       "900.0      7908\n",
       "600.0      7051\n",
       "Name: VL_RENDA_FAMILIAR_BRUTA_MENSAL, dtype: int64"
      ]
     },
     "execution_count": 17,
     "metadata": {},
     "output_type": "execute_result"
    }
   ],
   "source": [
    "xl_file['VL_RENDA_FAMILIAR_BRUTA_MENSAL'].value_counts().head(10)"
   ]
  },
  {
   "cell_type": "code",
   "execution_count": 18,
   "metadata": {},
   "outputs": [
    {
     "data": {
      "text/plain": [
       "array(['Amortizacao', 'Utilizacao', 'Carencia', 'Liquidacao'],\n",
       "      dtype=object)"
      ]
     },
     "execution_count": 18,
     "metadata": {},
     "output_type": "execute_result"
    }
   ],
   "source": [
    "xl_file[\"fase_contrato\"].unique()"
   ]
  },
  {
   "cell_type": "code",
   "execution_count": null,
   "metadata": {},
   "outputs": [],
   "source": [
    "Sample Statistics:"
   ]
  },
  {
   "cell_type": "code",
   "execution_count": 25,
   "metadata": {},
   "outputs": [
    {
     "data": {
      "text/html": [
       "<div>\n",
       "<style scoped>\n",
       "    .dataframe tbody tr th:only-of-type {\n",
       "        vertical-align: middle;\n",
       "    }\n",
       "\n",
       "    .dataframe tbody tr th {\n",
       "        vertical-align: top;\n",
       "    }\n",
       "\n",
       "    .dataframe thead th {\n",
       "        text-align: right;\n",
       "    }\n",
       "</style>\n",
       "<table border=\"1\" class=\"dataframe\">\n",
       "  <thead>\n",
       "    <tr style=\"text-align: right;\">\n",
       "      <th></th>\n",
       "      <th>NU_ANO_SEMESTRE_INSCRICAO</th>\n",
       "      <th>VL_RENDA_FAMILIAR_BRUTA_MENSAL</th>\n",
       "      <th>VL_RENDA_PESSOAL_BRUTA_MENSAL</th>\n",
       "      <th>NU_ANO_CONCLUSAO_ENSINO_MEDIO</th>\n",
       "      <th>NU_SEMESTRE_REFERENCIA</th>\n",
       "      <th>VL_AVALIACAO_IGC</th>\n",
       "      <th>VL_FAIXA_CPC</th>\n",
       "      <th>VL_FAIXA_CC</th>\n",
       "      <th>QT_SEMESTRES_CURSO</th>\n",
       "      <th>QT_SEMESTRE_CONCLUIDO</th>\n",
       "      <th>...</th>\n",
       "      <th>VL_SEMESTRE_COM_DESCONTO</th>\n",
       "      <th>VL_SEMESTRE_ATUAL</th>\n",
       "      <th>NU_PERCENTUAL_COMPROMETIMENTO</th>\n",
       "      <th>NU_PERCENT_SOLICITADO_FINANC</th>\n",
       "      <th>VL_FINANCIADO_SEMESTRE</th>\n",
       "      <th>VL_FINANC_RECURSO_ALUNO</th>\n",
       "      <th>VL_TOTAL_FINANCIAMENTO</th>\n",
       "      <th>VL_LIMITE_GLOBAL</th>\n",
       "      <th>nu_dias_atraso</th>\n",
       "      <th>vl_divida</th>\n",
       "    </tr>\n",
       "  </thead>\n",
       "  <tbody>\n",
       "    <tr>\n",
       "      <th>count</th>\n",
       "      <td>637822.000000</td>\n",
       "      <td>6.378220e+05</td>\n",
       "      <td>637822.000000</td>\n",
       "      <td>623344.000000</td>\n",
       "      <td>637822.0</td>\n",
       "      <td>635485.000000</td>\n",
       "      <td>494869.000000</td>\n",
       "      <td>439392.000000</td>\n",
       "      <td>637822.000000</td>\n",
       "      <td>637822.000000</td>\n",
       "      <td>...</td>\n",
       "      <td>637822.000000</td>\n",
       "      <td>637822.000000</td>\n",
       "      <td>637822.000000</td>\n",
       "      <td>637822.000000</td>\n",
       "      <td>6.378220e+05</td>\n",
       "      <td>637822.000000</td>\n",
       "      <td>637822.000000</td>\n",
       "      <td>637822.000000</td>\n",
       "      <td>637822.000000</td>\n",
       "      <td>637822.000000</td>\n",
       "    </tr>\n",
       "    <tr>\n",
       "      <th>mean</th>\n",
       "      <td>15894.114507</td>\n",
       "      <td>2.154542e+03</td>\n",
       "      <td>734.457629</td>\n",
       "      <td>153.727834</td>\n",
       "      <td>12015.0</td>\n",
       "      <td>3.161023</td>\n",
       "      <td>2.809673</td>\n",
       "      <td>3.677932</td>\n",
       "      <td>8.875370</td>\n",
       "      <td>3.621203</td>\n",
       "      <td>...</td>\n",
       "      <td>5746.100631</td>\n",
       "      <td>5699.291537</td>\n",
       "      <td>145.762809</td>\n",
       "      <td>94.094990</td>\n",
       "      <td>9.973662e+13</td>\n",
       "      <td>458.156601</td>\n",
       "      <td>50137.744192</td>\n",
       "      <td>50795.837882</td>\n",
       "      <td>332.436799</td>\n",
       "      <td>50219.897849</td>\n",
       "    </tr>\n",
       "    <tr>\n",
       "      <th>std</th>\n",
       "      <td>4873.061258</td>\n",
       "      <td>2.892324e+03</td>\n",
       "      <td>905.847817</td>\n",
       "      <td>349.570389</td>\n",
       "      <td>0.0</td>\n",
       "      <td>0.576339</td>\n",
       "      <td>1.207784</td>\n",
       "      <td>0.685886</td>\n",
       "      <td>1.646459</td>\n",
       "      <td>2.168466</td>\n",
       "      <td>...</td>\n",
       "      <td>4177.270342</td>\n",
       "      <td>4163.466858</td>\n",
       "      <td>134.063725</td>\n",
       "      <td>14.058259</td>\n",
       "      <td>9.392539e+14</td>\n",
       "      <td>1337.603175</td>\n",
       "      <td>47961.285900</td>\n",
       "      <td>46979.102714</td>\n",
       "      <td>459.818109</td>\n",
       "      <td>51960.990018</td>\n",
       "    </tr>\n",
       "    <tr>\n",
       "      <th>min</th>\n",
       "      <td>12009.000000</td>\n",
       "      <td>4.000000e+00</td>\n",
       "      <td>0.000000</td>\n",
       "      <td>0.000000</td>\n",
       "      <td>12015.0</td>\n",
       "      <td>0.000000</td>\n",
       "      <td>0.000000</td>\n",
       "      <td>0.000000</td>\n",
       "      <td>1.000000</td>\n",
       "      <td>0.000000</td>\n",
       "      <td>...</td>\n",
       "      <td>600.000000</td>\n",
       "      <td>600.000000</td>\n",
       "      <td>0.000000</td>\n",
       "      <td>50.000000</td>\n",
       "      <td>3.000000e+02</td>\n",
       "      <td>0.000000</td>\n",
       "      <td>600.000000</td>\n",
       "      <td>1121.100000</td>\n",
       "      <td>0.000000</td>\n",
       "      <td>0.000000</td>\n",
       "    </tr>\n",
       "    <tr>\n",
       "      <th>25%</th>\n",
       "      <td>12013.000000</td>\n",
       "      <td>9.414900e+02</td>\n",
       "      <td>0.000000</td>\n",
       "      <td>7.000000</td>\n",
       "      <td>12015.0</td>\n",
       "      <td>3.000000</td>\n",
       "      <td>3.000000</td>\n",
       "      <td>3.000000</td>\n",
       "      <td>8.000000</td>\n",
       "      <td>2.000000</td>\n",
       "      <td>...</td>\n",
       "      <td>3803.160000</td>\n",
       "      <td>3769.605000</td>\n",
       "      <td>75.590000</td>\n",
       "      <td>100.000000</td>\n",
       "      <td>3.361500e+03</td>\n",
       "      <td>0.000000</td>\n",
       "      <td>27704.400000</td>\n",
       "      <td>27377.500000</td>\n",
       "      <td>0.000000</td>\n",
       "      <td>22453.375000</td>\n",
       "    </tr>\n",
       "    <tr>\n",
       "      <th>50%</th>\n",
       "      <td>12014.000000</td>\n",
       "      <td>1.587000e+03</td>\n",
       "      <td>700.000000</td>\n",
       "      <td>10.000000</td>\n",
       "      <td>12015.0</td>\n",
       "      <td>3.000000</td>\n",
       "      <td>3.000000</td>\n",
       "      <td>4.000000</td>\n",
       "      <td>10.000000</td>\n",
       "      <td>3.000000</td>\n",
       "      <td>...</td>\n",
       "      <td>5020.720000</td>\n",
       "      <td>4987.515000</td>\n",
       "      <td>110.350000</td>\n",
       "      <td>100.000000</td>\n",
       "      <td>4.608070e+03</td>\n",
       "      <td>0.000000</td>\n",
       "      <td>42121.840000</td>\n",
       "      <td>43060.145000</td>\n",
       "      <td>57.000000</td>\n",
       "      <td>39904.855000</td>\n",
       "    </tr>\n",
       "    <tr>\n",
       "      <th>75%</th>\n",
       "      <td>22013.000000</td>\n",
       "      <td>2.691233e+03</td>\n",
       "      <td>1038.637500</td>\n",
       "      <td>12.000000</td>\n",
       "      <td>12015.0</td>\n",
       "      <td>3.000000</td>\n",
       "      <td>4.000000</td>\n",
       "      <td>4.000000</td>\n",
       "      <td>10.000000</td>\n",
       "      <td>5.000000</td>\n",
       "      <td>...</td>\n",
       "      <td>6342.180000</td>\n",
       "      <td>6288.130000</td>\n",
       "      <td>171.600000</td>\n",
       "      <td>100.000000</td>\n",
       "      <td>5.899020e+03</td>\n",
       "      <td>0.000000</td>\n",
       "      <td>57825.000000</td>\n",
       "      <td>59999.620000</td>\n",
       "      <td>600.000000</td>\n",
       "      <td>62050.492500</td>\n",
       "    </tr>\n",
       "    <tr>\n",
       "      <th>max</th>\n",
       "      <td>22014.000000</td>\n",
       "      <td>1.600000e+06</td>\n",
       "      <td>200000.000000</td>\n",
       "      <td>2012.000000</td>\n",
       "      <td>12015.0</td>\n",
       "      <td>5.000000</td>\n",
       "      <td>5.000000</td>\n",
       "      <td>5.000000</td>\n",
       "      <td>18.000000</td>\n",
       "      <td>14.000000</td>\n",
       "      <td>...</td>\n",
       "      <td>41499.900000</td>\n",
       "      <td>41499.900000</td>\n",
       "      <td>9695.500000</td>\n",
       "      <td>100.000000</td>\n",
       "      <td>9.999940e+15</td>\n",
       "      <td>20439.270000</td>\n",
       "      <td>580998.600000</td>\n",
       "      <td>673441.990000</td>\n",
       "      <td>5246.000000</td>\n",
       "      <td>635552.520000</td>\n",
       "    </tr>\n",
       "  </tbody>\n",
       "</table>\n",
       "<p>8 rows × 25 columns</p>\n",
       "</div>"
      ],
      "text/plain": [
       "       NU_ANO_SEMESTRE_INSCRICAO  VL_RENDA_FAMILIAR_BRUTA_MENSAL  \\\n",
       "count              637822.000000                    6.378220e+05   \n",
       "mean                15894.114507                    2.154542e+03   \n",
       "std                  4873.061258                    2.892324e+03   \n",
       "min                 12009.000000                    4.000000e+00   \n",
       "25%                 12013.000000                    9.414900e+02   \n",
       "50%                 12014.000000                    1.587000e+03   \n",
       "75%                 22013.000000                    2.691233e+03   \n",
       "max                 22014.000000                    1.600000e+06   \n",
       "\n",
       "       VL_RENDA_PESSOAL_BRUTA_MENSAL  NU_ANO_CONCLUSAO_ENSINO_MEDIO  \\\n",
       "count                  637822.000000                  623344.000000   \n",
       "mean                      734.457629                     153.727834   \n",
       "std                       905.847817                     349.570389   \n",
       "min                         0.000000                       0.000000   \n",
       "25%                         0.000000                       7.000000   \n",
       "50%                       700.000000                      10.000000   \n",
       "75%                      1038.637500                      12.000000   \n",
       "max                    200000.000000                    2012.000000   \n",
       "\n",
       "       NU_SEMESTRE_REFERENCIA  VL_AVALIACAO_IGC   VL_FAIXA_CPC    VL_FAIXA_CC  \\\n",
       "count                637822.0     635485.000000  494869.000000  439392.000000   \n",
       "mean                  12015.0          3.161023       2.809673       3.677932   \n",
       "std                       0.0          0.576339       1.207784       0.685886   \n",
       "min                   12015.0          0.000000       0.000000       0.000000   \n",
       "25%                   12015.0          3.000000       3.000000       3.000000   \n",
       "50%                   12015.0          3.000000       3.000000       4.000000   \n",
       "75%                   12015.0          3.000000       4.000000       4.000000   \n",
       "max                   12015.0          5.000000       5.000000       5.000000   \n",
       "\n",
       "       QT_SEMESTRES_CURSO  QT_SEMESTRE_CONCLUIDO  ...  \\\n",
       "count       637822.000000          637822.000000  ...   \n",
       "mean             8.875370               3.621203  ...   \n",
       "std              1.646459               2.168466  ...   \n",
       "min              1.000000               0.000000  ...   \n",
       "25%              8.000000               2.000000  ...   \n",
       "50%             10.000000               3.000000  ...   \n",
       "75%             10.000000               5.000000  ...   \n",
       "max             18.000000              14.000000  ...   \n",
       "\n",
       "       VL_SEMESTRE_COM_DESCONTO  VL_SEMESTRE_ATUAL  \\\n",
       "count             637822.000000      637822.000000   \n",
       "mean                5746.100631        5699.291537   \n",
       "std                 4177.270342        4163.466858   \n",
       "min                  600.000000         600.000000   \n",
       "25%                 3803.160000        3769.605000   \n",
       "50%                 5020.720000        4987.515000   \n",
       "75%                 6342.180000        6288.130000   \n",
       "max                41499.900000       41499.900000   \n",
       "\n",
       "       NU_PERCENTUAL_COMPROMETIMENTO  NU_PERCENT_SOLICITADO_FINANC  \\\n",
       "count                  637822.000000                 637822.000000   \n",
       "mean                      145.762809                     94.094990   \n",
       "std                       134.063725                     14.058259   \n",
       "min                         0.000000                     50.000000   \n",
       "25%                        75.590000                    100.000000   \n",
       "50%                       110.350000                    100.000000   \n",
       "75%                       171.600000                    100.000000   \n",
       "max                      9695.500000                    100.000000   \n",
       "\n",
       "       VL_FINANCIADO_SEMESTRE  VL_FINANC_RECURSO_ALUNO  \\\n",
       "count            6.378220e+05            637822.000000   \n",
       "mean             9.973662e+13               458.156601   \n",
       "std              9.392539e+14              1337.603175   \n",
       "min              3.000000e+02                 0.000000   \n",
       "25%              3.361500e+03                 0.000000   \n",
       "50%              4.608070e+03                 0.000000   \n",
       "75%              5.899020e+03                 0.000000   \n",
       "max              9.999940e+15             20439.270000   \n",
       "\n",
       "       VL_TOTAL_FINANCIAMENTO  VL_LIMITE_GLOBAL  nu_dias_atraso      vl_divida  \n",
       "count           637822.000000     637822.000000   637822.000000  637822.000000  \n",
       "mean             50137.744192      50795.837882      332.436799   50219.897849  \n",
       "std              47961.285900      46979.102714      459.818109   51960.990018  \n",
       "min                600.000000       1121.100000        0.000000       0.000000  \n",
       "25%              27704.400000      27377.500000        0.000000   22453.375000  \n",
       "50%              42121.840000      43060.145000       57.000000   39904.855000  \n",
       "75%              57825.000000      59999.620000      600.000000   62050.492500  \n",
       "max             580998.600000     673441.990000     5246.000000  635552.520000  \n",
       "\n",
       "[8 rows x 25 columns]"
      ]
     },
     "execution_count": 25,
     "metadata": {},
     "output_type": "execute_result"
    }
   ],
   "source": [
    "xl_file.describe()"
   ]
  },
  {
   "cell_type": "markdown",
   "metadata": {},
   "source": [
    "Follow some histograms of the distribution os specific variables"
   ]
  },
  {
   "cell_type": "code",
   "execution_count": 32,
   "metadata": {},
   "outputs": [
    {
     "data": {
      "image/png": "[encoded data removed]",
      "text/plain": [
       "<Figure size 432x288 with 1 Axes>"
      ]
     },
     "metadata": {},
     "output_type": "display_data"
    }
   ],
   "source": [
    "import matplotlib.pyplot as plt \n",
    "import seaborn as sns\n",
    "\n",
    "sns.set_style(\"ticks\")\n",
    "\n",
    "graph_1 = sns.distplot(xl_file[\"nu_dias_atraso\"],kde=False)\n",
    "graph_1.set(xlabel='Days of Delay', ylabel='Frequency')\n",
    "plt.title(\"Histogram - Days of Delay (Complete Sample)\")\n",
    "plt.show()\n",
    "\n"
   ]
  },
  {
   "cell_type": "code",
   "execution_count": 35,
   "metadata": {},
   "outputs": [
    {
     "data": {
      "image/png": "[encoded data removed]",
      "text/plain": [
       "<Figure size 432x288 with 1 Axes>"
      ]
     },
     "metadata": {},
     "output_type": "display_data"
    }
   ],
   "source": [
    "sns.set_style(\"ticks\")\n",
    "DATA = xl_file.loc[xl_file[\"nu_dias_atraso\"]>0]\n",
    "graph_1 = sns.distplot(DATA[\"nu_dias_atraso\"], kde=False)\n",
    "graph_1.set(xlabel='Days of Delay', ylabel='Frequency')\n",
    "plt.title(\"Histogram - Days of Delay (Only the ones who delay)\")\n",
    "plt.show()"
   ]
  },
  {
   "cell_type": "code",
   "execution_count": 41,
   "metadata": {},
   "outputs": [
    {
     "data": {
      "text/plain": [
       "<seaborn.axisgrid.FacetGrid at 0x7f84b59397f0>"
      ]
     },
     "execution_count": 41,
     "metadata": {},
     "output_type": "execute_result"
    },
    {
     "data": {
      "image/png": "[encoded data removed]",
      "text/plain": [
       "<Figure size 432x216 with 2 Axes>"
      ]
     },
     "metadata": {},
     "output_type": "display_data"
    }
   ],
   "source": [
    "sns.set_style(\"ticks\")\n",
    "graph_2 = sns.FacetGrid(DATA, col=\"SG_SEXO\")\n",
    "graph_2.map(plt.hist, \"nu_dias_atraso\")\n",
    "graph_2.set(xlabel='Days of Delay', ylabel='Frequency')\n"
   ]
  },
  {
   "cell_type": "code",
   "execution_count": 44,
   "metadata": {},
   "outputs": [
    {
     "data": {
      "text/plain": [
       "<matplotlib.axes._subplots.AxesSubplot at 0x7f84a01b6eb0>"
      ]
     },
     "execution_count": 44,
     "metadata": {},
     "output_type": "execute_result"
    },
    {
     "data": {
      "image/png": "[encoded data removed]",
      "text/plain": [
       "<Figure size 432x288 with 1 Axes>"
      ]
     },
     "metadata": {},
     "output_type": "display_data"
    }
   ],
   "source": [
    "xl_file['vl_divida'].plot.hist(bins=20, alpha=.7)"
   ]
  },
  {
   "cell_type": "code",
   "execution_count": null,
   "metadata": {},
   "outputs": [],
   "source": []
  }
 ],
 "metadata": {
  "kernelspec": {
   "display_name": "Python 3",
   "language": "python",
   "name": "python3"
  },
  "language_info": {
   "codemirror_mode": {
    "name": "ipython",
    "version": 3
   },
   "file_extension": ".py",
   "mimetype": "text/x-python",
   "name": "python",
   "nbconvert_exporter": "python",
   "pygments_lexer": "ipython3",
   "version": "3.8.5"
  }
 },
 "nbformat": 4,
 "nbformat_minor": 4
}
