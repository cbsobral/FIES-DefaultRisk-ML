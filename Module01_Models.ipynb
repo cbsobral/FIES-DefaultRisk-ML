{
  "nbformat": 4,
  "nbformat_minor": 0,
  "metadata": {
    "colab": {
      "name": "Module01_Models.ipynb",
      "provenance": [],
      "collapsed_sections": []
    },
    "kernelspec": {
      "display_name": "Python 3",
      "language": "python",
      "name": "python3"
    },
    "language_info": {
      "name": "python"
    }
  },
  "cells": [
    {
      "cell_type": "markdown",
      "metadata": {
        "id": "view-in-github"
      },
      "source": [
        "<a href=\"https://colab.research.google.com/github/cbsobral/ml-fies/blob/main/Module01_Models.ipynb\" target=\"_parent\"><img src=\"https://colab.research.google.com/assets/colab-badge.svg\" alt=\"Open In Colab\"/></a>"
      ]
    },
    {
      "cell_type": "markdown",
      "metadata": {
        "id": "QNfxqJE4km2n"
      },
      "source": [
        "\n",
        "\n",
        "```\n",
        "# This is formatted as code\n",
        "```\n",
        "\n",
        "### 1 - Load Dataset and exploring data\n",
        "\n",
        "Here, we import the train set create in Module00_Data. \n"
      ]
    },
    {
      "cell_type": "code",
      "metadata": {
        "colab": {
          "base_uri": "https://localhost:8080/"
        },
        "id": "m1T2rReQkmI5",
        "outputId": "a95534eb-6b79-4337-a27b-125be12fe15b"
      },
      "source": [
        "import pandas as pd\n",
        "\n",
        "url_train = \"https://drive.google.com/file/d/1IP7jyXkLgD_Ouy5cL6fJk4VUA5qRB2PK/view?usp=sharing\"\n",
        "path_train = \"https://drive.google.com/uc?export=download&id=\"+url_train.split(\"/\")[-2]\n",
        "train = pd.read_csv(path_train)\n",
        "train.shape"
      ],
      "execution_count": 1,
      "outputs": [
        {
          "output_type": "execute_result",
          "data": {
            "text/plain": [
              "(351001, 31)"
            ]
          },
          "metadata": {
            "tags": []
          },
          "execution_count": 1
        }
      ]
    },
    {
      "cell_type": "code",
      "metadata": {
        "colab": {
          "base_uri": "https://localhost:8080/"
        },
        "id": "XaJOQTurG_Li",
        "outputId": "f9dd9bd0-51d8-4c44-81bf-dd3ea06483a2"
      },
      "source": [
        "url_test = \"https://drive.google.com/file/d/1v4FqKwt7NzG5RM6d9f1y7CLIdKq69jSS/view?usp=sharing\"\n",
        "path_test = \"https://drive.google.com/uc?export=download&id=\"+url_test.split(\"/\")[-2]\n",
        "test = pd.read_csv(path_test)\n",
        "test.shape"
      ],
      "execution_count": 2,
      "outputs": [
        {
          "output_type": "execute_result",
          "data": {
            "text/plain": [
              "(87751, 31)"
            ]
          },
          "metadata": {
            "tags": []
          },
          "execution_count": 2
        }
      ]
    },
    {
      "cell_type": "code",
      "metadata": {
        "id": "psNgDRsr2rMz"
      },
      "source": [
        "train_set = train.drop(\"default\", axis=1) # drop targets for training set\n",
        "train_target = train[\"default\"].copy()"
      ],
      "execution_count": 3,
      "outputs": []
    },
    {
      "cell_type": "code",
      "metadata": {
        "id": "CJhx2yRNHRoy"
      },
      "source": [
        "test_set = test.drop(\"default\", axis=1) # drop targets for test set\n",
        "test_target = test[\"default\"].copy()"
      ],
      "execution_count": 4,
      "outputs": []
    },
    {
      "cell_type": "code",
      "metadata": {
        "id": "6_EMzB7uVmPD"
      },
      "source": [
        "train_set['label'] = 'train'\n",
        "test_set['label'] = 'test'"
      ],
      "execution_count": 5,
      "outputs": []
    },
    {
      "cell_type": "code",
      "metadata": {
        "colab": {
          "base_uri": "https://localhost:8080/"
        },
        "id": "v9r8zUWRVKUf",
        "outputId": "ea0158c5-4d58-4165-f9bd-ccbc56e4bb49"
      },
      "source": [
        "complete_set = train_set.append(test_set)\n",
        "complete_set.shape"
      ],
      "execution_count": 6,
      "outputs": [
        {
          "output_type": "execute_result",
          "data": {
            "text/plain": [
              "(438752, 31)"
            ]
          },
          "metadata": {
            "tags": []
          },
          "execution_count": 6
        }
      ]
    },
    {
      "cell_type": "code",
      "metadata": {
        "id": "B-8CpzxfYIRs",
        "colab": {
          "base_uri": "https://localhost:8080/",
          "height": 541
        },
        "outputId": "428e589b-2bff-46cf-f7b5-0edd101ed72d"
      },
      "source": [
        "train_set"
      ],
      "execution_count": 11,
      "outputs": [
        {
          "output_type": "execute_result",
          "data": {
            "text/html": [
              "<div>\n",
              "<style scoped>\n",
              "    .dataframe tbody tr th:only-of-type {\n",
              "        vertical-align: middle;\n",
              "    }\n",
              "\n",
              "    .dataframe tbody tr th {\n",
              "        vertical-align: top;\n",
              "    }\n",
              "\n",
              "    .dataframe thead th {\n",
              "        text-align: right;\n",
              "    }\n",
              "</style>\n",
              "<table border=\"1\" class=\"dataframe\">\n",
              "  <thead>\n",
              "    <tr style=\"text-align: right;\">\n",
              "      <th></th>\n",
              "      <th>semester_enroll</th>\n",
              "      <th>gender</th>\n",
              "      <th>occupation</th>\n",
              "      <th>marital_status</th>\n",
              "      <th>family_income</th>\n",
              "      <th>personal_income</th>\n",
              "      <th>ethnicity</th>\n",
              "      <th>public_hs</th>\n",
              "      <th>high_school_endyear</th>\n",
              "      <th>state_course</th>\n",
              "      <th>degree</th>\n",
              "      <th>igc</th>\n",
              "      <th>n_sem_course</th>\n",
              "      <th>n_completed_sem</th>\n",
              "      <th>sem_funded</th>\n",
              "      <th>fam_size</th>\n",
              "      <th>income_pc</th>\n",
              "      <th>tuition_current</th>\n",
              "      <th>inc_prop</th>\n",
              "      <th>perc_requested</th>\n",
              "      <th>loan_value_sem</th>\n",
              "      <th>student_resource</th>\n",
              "      <th>loan_value</th>\n",
              "      <th>loan_limit</th>\n",
              "      <th>date_contract</th>\n",
              "      <th>contract_phase</th>\n",
              "      <th>total_debt</th>\n",
              "      <th>birth_year</th>\n",
              "      <th>student</th>\n",
              "      <th>age</th>\n",
              "      <th>label</th>\n",
              "    </tr>\n",
              "  </thead>\n",
              "  <tbody>\n",
              "    <tr>\n",
              "      <th>0</th>\n",
              "      <td>12014</td>\n",
              "      <td>F</td>\n",
              "      <td>Estudante</td>\n",
              "      <td>Solteiro</td>\n",
              "      <td>1000.00</td>\n",
              "      <td>1000.00</td>\n",
              "      <td>B</td>\n",
              "      <td>S</td>\n",
              "      <td>12.0</td>\n",
              "      <td>SP</td>\n",
              "      <td>ENGENHARIA CIVIL</td>\n",
              "      <td>3</td>\n",
              "      <td>10</td>\n",
              "      <td>4</td>\n",
              "      <td>8</td>\n",
              "      <td>1.0</td>\n",
              "      <td>1000.00</td>\n",
              "      <td>5736.00</td>\n",
              "      <td>91.30</td>\n",
              "      <td>100</td>\n",
              "      <td>5736.00</td>\n",
              "      <td>0.00</td>\n",
              "      <td>45888.00</td>\n",
              "      <td>54780.00</td>\n",
              "      <td>735394</td>\n",
              "      <td>Amortizacao</td>\n",
              "      <td>54626.96</td>\n",
              "      <td>1994</td>\n",
              "      <td>1</td>\n",
              "      <td>21</td>\n",
              "      <td>train</td>\n",
              "    </tr>\n",
              "    <tr>\n",
              "      <th>1</th>\n",
              "      <td>12013</td>\n",
              "      <td>F</td>\n",
              "      <td>Estudante</td>\n",
              "      <td>Solteiro</td>\n",
              "      <td>1037.83</td>\n",
              "      <td>0.00</td>\n",
              "      <td>P</td>\n",
              "      <td>S</td>\n",
              "      <td>9.0</td>\n",
              "      <td>SP</td>\n",
              "      <td>ENFERMAGEM</td>\n",
              "      <td>3</td>\n",
              "      <td>10</td>\n",
              "      <td>4</td>\n",
              "      <td>10</td>\n",
              "      <td>4.0</td>\n",
              "      <td>259.46</td>\n",
              "      <td>3798.50</td>\n",
              "      <td>209.22</td>\n",
              "      <td>50</td>\n",
              "      <td>949.62</td>\n",
              "      <td>2848.88</td>\n",
              "      <td>37985.00</td>\n",
              "      <td>10178.16</td>\n",
              "      <td>735060</td>\n",
              "      <td>Amortizacao</td>\n",
              "      <td>10579.53</td>\n",
              "      <td>1992</td>\n",
              "      <td>1</td>\n",
              "      <td>23</td>\n",
              "      <td>train</td>\n",
              "    </tr>\n",
              "    <tr>\n",
              "      <th>2</th>\n",
              "      <td>12014</td>\n",
              "      <td>F</td>\n",
              "      <td>Estudante</td>\n",
              "      <td>Casado</td>\n",
              "      <td>678.00</td>\n",
              "      <td>678.00</td>\n",
              "      <td>P</td>\n",
              "      <td>S</td>\n",
              "      <td>8.0</td>\n",
              "      <td>AP</td>\n",
              "      <td>ADMINISTRAÇÃO</td>\n",
              "      <td>3</td>\n",
              "      <td>8</td>\n",
              "      <td>2</td>\n",
              "      <td>8</td>\n",
              "      <td>3.0</td>\n",
              "      <td>169.50</td>\n",
              "      <td>2532.12</td>\n",
              "      <td>223.11</td>\n",
              "      <td>100</td>\n",
              "      <td>2532.12</td>\n",
              "      <td>0.00</td>\n",
              "      <td>20256.96</td>\n",
              "      <td>22690.60</td>\n",
              "      <td>735302</td>\n",
              "      <td>Amortizacao</td>\n",
              "      <td>27577.26</td>\n",
              "      <td>1980</td>\n",
              "      <td>1</td>\n",
              "      <td>35</td>\n",
              "      <td>train</td>\n",
              "    </tr>\n",
              "    <tr>\n",
              "      <th>3</th>\n",
              "      <td>12013</td>\n",
              "      <td>F</td>\n",
              "      <td>OUTRAS</td>\n",
              "      <td>Solteiro</td>\n",
              "      <td>850.00</td>\n",
              "      <td>850.00</td>\n",
              "      <td>B</td>\n",
              "      <td>S</td>\n",
              "      <td>9.0</td>\n",
              "      <td>SP</td>\n",
              "      <td>ADMINISTRAÇÃO</td>\n",
              "      <td>3</td>\n",
              "      <td>8</td>\n",
              "      <td>4</td>\n",
              "      <td>8</td>\n",
              "      <td>3.0</td>\n",
              "      <td>283.33</td>\n",
              "      <td>3413.01</td>\n",
              "      <td>165.88</td>\n",
              "      <td>100</td>\n",
              "      <td>3413.01</td>\n",
              "      <td>0.00</td>\n",
              "      <td>27304.08</td>\n",
              "      <td>28198.80</td>\n",
              "      <td>734891</td>\n",
              "      <td>Amortizacao</td>\n",
              "      <td>26756.20</td>\n",
              "      <td>1994</td>\n",
              "      <td>0</td>\n",
              "      <td>21</td>\n",
              "      <td>train</td>\n",
              "    </tr>\n",
              "    <tr>\n",
              "      <th>4</th>\n",
              "      <td>12013</td>\n",
              "      <td>M</td>\n",
              "      <td>Estudante</td>\n",
              "      <td>Solteiro</td>\n",
              "      <td>1430.00</td>\n",
              "      <td>0.00</td>\n",
              "      <td>B</td>\n",
              "      <td>S</td>\n",
              "      <td>12.0</td>\n",
              "      <td>MG</td>\n",
              "      <td>ENGENHARIA CIVIL</td>\n",
              "      <td>3</td>\n",
              "      <td>10</td>\n",
              "      <td>3</td>\n",
              "      <td>10</td>\n",
              "      <td>2.0</td>\n",
              "      <td>715.00</td>\n",
              "      <td>4542.00</td>\n",
              "      <td>88.53</td>\n",
              "      <td>50</td>\n",
              "      <td>2271.00</td>\n",
              "      <td>2271.00</td>\n",
              "      <td>45420.00</td>\n",
              "      <td>23737.50</td>\n",
              "      <td>734900</td>\n",
              "      <td>Amortizacao</td>\n",
              "      <td>11250.96</td>\n",
              "      <td>1995</td>\n",
              "      <td>1</td>\n",
              "      <td>20</td>\n",
              "      <td>train</td>\n",
              "    </tr>\n",
              "    <tr>\n",
              "      <th>...</th>\n",
              "      <td>...</td>\n",
              "      <td>...</td>\n",
              "      <td>...</td>\n",
              "      <td>...</td>\n",
              "      <td>...</td>\n",
              "      <td>...</td>\n",
              "      <td>...</td>\n",
              "      <td>...</td>\n",
              "      <td>...</td>\n",
              "      <td>...</td>\n",
              "      <td>...</td>\n",
              "      <td>...</td>\n",
              "      <td>...</td>\n",
              "      <td>...</td>\n",
              "      <td>...</td>\n",
              "      <td>...</td>\n",
              "      <td>...</td>\n",
              "      <td>...</td>\n",
              "      <td>...</td>\n",
              "      <td>...</td>\n",
              "      <td>...</td>\n",
              "      <td>...</td>\n",
              "      <td>...</td>\n",
              "      <td>...</td>\n",
              "      <td>...</td>\n",
              "      <td>...</td>\n",
              "      <td>...</td>\n",
              "      <td>...</td>\n",
              "      <td>...</td>\n",
              "      <td>...</td>\n",
              "      <td>...</td>\n",
              "    </tr>\n",
              "    <tr>\n",
              "      <th>350996</th>\n",
              "      <td>12012</td>\n",
              "      <td>F</td>\n",
              "      <td>Estudante</td>\n",
              "      <td>Solteiro</td>\n",
              "      <td>20000.00</td>\n",
              "      <td>0.00</td>\n",
              "      <td>B</td>\n",
              "      <td>N</td>\n",
              "      <td>7.0</td>\n",
              "      <td>SP</td>\n",
              "      <td>MEDICINA</td>\n",
              "      <td>3</td>\n",
              "      <td>12</td>\n",
              "      <td>8</td>\n",
              "      <td>10</td>\n",
              "      <td>2.0</td>\n",
              "      <td>10000.00</td>\n",
              "      <td>33076.78</td>\n",
              "      <td>45.26</td>\n",
              "      <td>75</td>\n",
              "      <td>24807.58</td>\n",
              "      <td>8269.20</td>\n",
              "      <td>330767.80</td>\n",
              "      <td>254562.75</td>\n",
              "      <td>734560</td>\n",
              "      <td>Amortizacao</td>\n",
              "      <td>274711.35</td>\n",
              "      <td>1989</td>\n",
              "      <td>1</td>\n",
              "      <td>26</td>\n",
              "      <td>train</td>\n",
              "    </tr>\n",
              "    <tr>\n",
              "      <th>350997</th>\n",
              "      <td>12012</td>\n",
              "      <td>M</td>\n",
              "      <td>OUTRAS</td>\n",
              "      <td>Casado</td>\n",
              "      <td>2733.61</td>\n",
              "      <td>2393.28</td>\n",
              "      <td>P</td>\n",
              "      <td>S</td>\n",
              "      <td>996.0</td>\n",
              "      <td>BA</td>\n",
              "      <td>ENGENHARIA CIVIL</td>\n",
              "      <td>3</td>\n",
              "      <td>10</td>\n",
              "      <td>6</td>\n",
              "      <td>10</td>\n",
              "      <td>2.0</td>\n",
              "      <td>911.20</td>\n",
              "      <td>7418.46</td>\n",
              "      <td>100.94</td>\n",
              "      <td>100</td>\n",
              "      <td>7418.46</td>\n",
              "      <td>0.00</td>\n",
              "      <td>74184.60</td>\n",
              "      <td>68985.00</td>\n",
              "      <td>734519</td>\n",
              "      <td>Amortizacao</td>\n",
              "      <td>74464.65</td>\n",
              "      <td>1977</td>\n",
              "      <td>0</td>\n",
              "      <td>38</td>\n",
              "      <td>train</td>\n",
              "    </tr>\n",
              "    <tr>\n",
              "      <th>350998</th>\n",
              "      <td>22012</td>\n",
              "      <td>M</td>\n",
              "      <td>OUTRAS</td>\n",
              "      <td>Casado</td>\n",
              "      <td>2200.00</td>\n",
              "      <td>1200.00</td>\n",
              "      <td>B</td>\n",
              "      <td>S</td>\n",
              "      <td>0.0</td>\n",
              "      <td>SP</td>\n",
              "      <td>ENGENHARIA CIVIL</td>\n",
              "      <td>3</td>\n",
              "      <td>10</td>\n",
              "      <td>5</td>\n",
              "      <td>10</td>\n",
              "      <td>1.0</td>\n",
              "      <td>1100.00</td>\n",
              "      <td>7070.00</td>\n",
              "      <td>91.83</td>\n",
              "      <td>50</td>\n",
              "      <td>3535.00</td>\n",
              "      <td>3535.00</td>\n",
              "      <td>70700.00</td>\n",
              "      <td>37878.38</td>\n",
              "      <td>734751</td>\n",
              "      <td>Amortizacao</td>\n",
              "      <td>36830.29</td>\n",
              "      <td>1982</td>\n",
              "      <td>0</td>\n",
              "      <td>33</td>\n",
              "      <td>train</td>\n",
              "    </tr>\n",
              "    <tr>\n",
              "      <th>350999</th>\n",
              "      <td>12014</td>\n",
              "      <td>F</td>\n",
              "      <td>OUTRAS</td>\n",
              "      <td>Casado</td>\n",
              "      <td>1330.66</td>\n",
              "      <td>0.00</td>\n",
              "      <td>P</td>\n",
              "      <td>S</td>\n",
              "      <td>995.0</td>\n",
              "      <td>SP</td>\n",
              "      <td>GESTÃO DE RECURSOS HUMANOS</td>\n",
              "      <td>3</td>\n",
              "      <td>4</td>\n",
              "      <td>2</td>\n",
              "      <td>4</td>\n",
              "      <td>3.0</td>\n",
              "      <td>332.66</td>\n",
              "      <td>2744.99</td>\n",
              "      <td>120.84</td>\n",
              "      <td>100</td>\n",
              "      <td>2744.99</td>\n",
              "      <td>0.00</td>\n",
              "      <td>10979.96</td>\n",
              "      <td>12059.85</td>\n",
              "      <td>735242</td>\n",
              "      <td>Amortizacao</td>\n",
              "      <td>7250.74</td>\n",
              "      <td>1975</td>\n",
              "      <td>0</td>\n",
              "      <td>40</td>\n",
              "      <td>train</td>\n",
              "    </tr>\n",
              "    <tr>\n",
              "      <th>351000</th>\n",
              "      <td>12013</td>\n",
              "      <td>M</td>\n",
              "      <td>OUTRAS</td>\n",
              "      <td>Solteiro</td>\n",
              "      <td>800.00</td>\n",
              "      <td>800.00</td>\n",
              "      <td>B</td>\n",
              "      <td>S</td>\n",
              "      <td>997.0</td>\n",
              "      <td>SP</td>\n",
              "      <td>OUTROS</td>\n",
              "      <td>3</td>\n",
              "      <td>8</td>\n",
              "      <td>4</td>\n",
              "      <td>8</td>\n",
              "      <td>1.0</td>\n",
              "      <td>800.00</td>\n",
              "      <td>3940.20</td>\n",
              "      <td>68.74</td>\n",
              "      <td>100</td>\n",
              "      <td>3940.20</td>\n",
              "      <td>0.00</td>\n",
              "      <td>31521.60</td>\n",
              "      <td>32997.50</td>\n",
              "      <td>734890</td>\n",
              "      <td>Amortizacao</td>\n",
              "      <td>36162.79</td>\n",
              "      <td>1976</td>\n",
              "      <td>0</td>\n",
              "      <td>39</td>\n",
              "      <td>train</td>\n",
              "    </tr>\n",
              "  </tbody>\n",
              "</table>\n",
              "<p>351001 rows × 31 columns</p>\n",
              "</div>"
            ],
            "text/plain": [
              "       semester_enroll gender occupation  ... student  age  label\n",
              "0                12014      F  Estudante  ...       1   21  train\n",
              "1                12013      F  Estudante  ...       1   23  train\n",
              "2                12014      F  Estudante  ...       1   35  train\n",
              "3                12013      F     OUTRAS  ...       0   21  train\n",
              "4                12013      M  Estudante  ...       1   20  train\n",
              "...                ...    ...        ...  ...     ...  ...    ...\n",
              "350996           12012      F  Estudante  ...       1   26  train\n",
              "350997           12012      M     OUTRAS  ...       0   38  train\n",
              "350998           22012      M     OUTRAS  ...       0   33  train\n",
              "350999           12014      F     OUTRAS  ...       0   40  train\n",
              "351000           12013      M     OUTRAS  ...       0   39  train\n",
              "\n",
              "[351001 rows x 31 columns]"
            ]
          },
          "metadata": {
            "tags": []
          },
          "execution_count": 11
        }
      ]
    },
    {
      "cell_type": "markdown",
      "metadata": {
        "id": "BUoM9ZG54IRr"
      },
      "source": [
        "Here are some graphs of important variables in the training set:"
      ]
    },
    {
      "cell_type": "code",
      "metadata": {
        "id": "FzIp0rPO4ORm",
        "colab": {
          "base_uri": "https://localhost:8080/",
          "height": 416
        },
        "outputId": "3eb4b040-aec5-4ef7-a505-63fe6c6975d4"
      },
      "source": [
        "import matplotlib.pyplot as plt\n",
        "import seaborn as sns \n",
        "\n",
        "default_0 = \"{:.0%}\".format(sum(train[\"default\"]==0)/len(train))\n",
        "default_1 = \"{:.0%}\".format(sum(train[\"default\"]==1)/len(train))\n",
        "\n",
        "sns.catplot(x=\"default\", kind=\"count\", palette=\"Set2\", data=train)\n",
        "plt.annotate(default_0, xy=(0,214000))\n",
        "plt.annotate(default_1, xy=(1,141000))\n",
        "plt.title(\"Proportion of good (green) and bad borrowers in the training set\")\n",
        "plt.xlabel(\"Default Status\")\n",
        "plt.ylabel(\"Counts\")"
      ],
      "execution_count": 12,
      "outputs": [
        {
          "output_type": "execute_result",
          "data": {
            "text/plain": [
              "Text(-15.200000000000003, 0.5, 'Counts')"
            ]
          },
          "metadata": {
            "tags": []
          },
          "execution_count": 12
        },
        {
          "output_type": "display_data",
          "data": {
            "image/png": "[encoded data removed]",
            "text/plain": [
              "<Figure size 360x360 with 1 Axes>"
            ]
          },
          "metadata": {
            "tags": [],
            "needs_background": "light"
          }
        }
      ]
    },
    {
      "cell_type": "markdown",
      "metadata": {
        "id": "kCXI6uzx4WUE"
      },
      "source": [
        "Above, we can see that we have an unbalanced training set. Around 60% of the instances are labeled as 0 (good borrowers) while around 40% are labeled as 1 (bad borrrowers.)"
      ]
    },
    {
      "cell_type": "code",
      "metadata": {
        "id": "AB-NHBzs4Yct",
        "colab": {
          "base_uri": "https://localhost:8080/",
          "height": 385
        },
        "outputId": "23451ba4-b6a6-47bc-e8c4-407be32e573e"
      },
      "source": [
        "plot_age = sns.displot(train, x=\"age\", kind=\"kde\", hue = \"default\",palette=\"Set2\", fill = \"true\" )\n",
        "plt.title(\"Density plot of age by default status\")\n",
        "plot_age.set(xlim=(10, 70))\n",
        "plt.show()"
      ],
      "execution_count": 13,
      "outputs": [
        {
          "output_type": "display_data",
          "data": {
            "image/png": "[encoded data removed]",
            "text/plain": [
              "<Figure size 403.375x360 with 1 Axes>"
            ]
          },
          "metadata": {
            "tags": [],
            "needs_background": "light"
          }
        }
      ]
    },
    {
      "cell_type": "markdown",
      "metadata": {
        "id": "RrsAvO_T4gAP"
      },
      "source": [
        "We assumed we would have more distinct distributions of age for the two default status because some previous work found that age is a good predictor of default. Here, however, the distributions seem pretty similar."
      ]
    },
    {
      "cell_type": "code",
      "metadata": {
        "id": "26FhhRzq4hJB",
        "colab": {
          "base_uri": "https://localhost:8080/",
          "height": 402
        },
        "outputId": "22660e0e-7746-461d-f316-7b5af017d5a9"
      },
      "source": [
        "plot_income = sns.displot(train, x=\"income_pc\", kind=\"kde\", hue = \"default\",palette=\"Set2\", fill = \"true\" )\n",
        "plt.title(\"Density plot of income by default status\")\n",
        "plot_income.set(xlim=(0, 5000))"
      ],
      "execution_count": 14,
      "outputs": [
        {
          "output_type": "execute_result",
          "data": {
            "text/plain": [
              "<seaborn.axisgrid.FacetGrid at 0x7f1ecef5da10>"
            ]
          },
          "metadata": {
            "tags": []
          },
          "execution_count": 14
        },
        {
          "output_type": "display_data",
          "data": {
            "image/png": "[encoded data removed]",
            "text/plain": [
              "<Figure size 403.375x360 with 1 Axes>"
            ]
          },
          "metadata": {
            "tags": [],
            "needs_background": "light"
          }
        }
      ]
    },
    {
      "cell_type": "markdown",
      "metadata": {
        "id": "0PCdIEst4kAR"
      },
      "source": [
        "As we saw previously, income per capita is a good predictor of default status. Above we can see that for values higher than 1000, the probability of being a good borrower (green) is a lot higher than the default probability."
      ]
    },
    {
      "cell_type": "markdown",
      "metadata": {
        "id": "VIJ6MzxrogIO"
      },
      "source": [
        "### 2 - Pipeline\n",
        "\n",
        "The pipeline contains functions that will be used to transform the dataset. For the numeric attributes, we employ XXX."
      ]
    },
    {
      "cell_type": "code",
      "metadata": {
        "id": "NjKb_CdHogIR"
      },
      "source": [
        "from sklearn.pipeline import Pipeline\n",
        "from sklearn.preprocessing import StandardScaler\n",
        "from sklearn.impute import SimpleImputer\n",
        "\n",
        "\n",
        "num_pipeline = Pipeline([\n",
        "        (\"num_imputer\", SimpleImputer(strategy=\"median\")),\n",
        "        (\"std_scaler\", StandardScaler()),\n",
        "    ])"
      ],
      "execution_count": 15,
      "outputs": []
    },
    {
      "cell_type": "code",
      "metadata": {
        "id": "IGJn2aCfAuXj"
      },
      "source": [
        "from sklearn.pipeline import Pipeline\n",
        "from sklearn.preprocessing import OrdinalEncoder\n",
        "\n",
        "ord_pipeline = Pipeline([\n",
        "        (\"ord_imputer\", SimpleImputer(strategy=\"most_frequent\")),\n",
        "        (\"ord_encoder\", OrdinalEncoder()),\n",
        "    ])"
      ],
      "execution_count": 16,
      "outputs": []
    },
    {
      "cell_type": "code",
      "metadata": {
        "id": "3gaCsGRFogIR"
      },
      "source": [
        "ord_attribs = ['igc','date_contract'] # 2 attributes\n",
        "\n",
        "num_attribs = ['family_income',   #17\n",
        "               'personal_income',\n",
        "               'high_school_endyear',\n",
        "               'n_sem_course',\n",
        "               'n_completed_sem',\n",
        "               'sem_funded',\n",
        "               'fam_size',\n",
        "               'income_pc',\n",
        "               'tuition_current',\n",
        "               'inc_prop',\n",
        "               'perc_requested',\n",
        "               'loan_value_sem',\n",
        "               'student_resource',\n",
        "               'loan_value',\n",
        "               'loan_limit',\n",
        "               'total_debt',\n",
        "               'age']\n",
        "  \n",
        "\n",
        "cat_attribs = ['semester_enroll',  #9\n",
        "               'gender',\n",
        "               'occupation', \n",
        "               'marital_status',\n",
        "               'ethnicity', \n",
        "               'public_hs', \n",
        "               'state_course', \n",
        "               'degree', \n",
        "               'contract_phase']"
      ],
      "execution_count": 17,
      "outputs": []
    },
    {
      "cell_type": "code",
      "metadata": {
        "id": "jgFC9XOHAuXk"
      },
      "source": [
        "from sklearn.compose import ColumnTransformer\n",
        "from sklearn.preprocessing import OneHotEncoder\n",
        "\n",
        "full_pipeline = ColumnTransformer([\n",
        "        (\"num\", num_pipeline, num_attribs),\n",
        "        (\"cat\", OneHotEncoder(), cat_attribs),\n",
        "        (\"ord\", ord_pipeline,ord_attribs)\n",
        "        ])"
      ],
      "execution_count": 18,
      "outputs": []
    },
    {
      "cell_type": "code",
      "metadata": {
        "id": "BGEokMJdAuXl"
      },
      "source": [
        "train_prepared = full_pipeline.fit_transform(train_set)\n",
        "test_prepared = full_pipeline.fit_transform(test_set)"
      ],
      "execution_count": 19,
      "outputs": []
    },
    {
      "cell_type": "code",
      "metadata": {
        "id": "fwArsAoEV0wA"
      },
      "source": [
        "complete_prepared = full_pipeline.fit_transform(complete_set)"
      ],
      "execution_count": 20,
      "outputs": []
    },
    {
      "cell_type": "code",
      "metadata": {
        "colab": {
          "base_uri": "https://localhost:8080/"
        },
        "id": "ssecMB_sJigB",
        "outputId": "d70dd173-2223-46f3-df5b-12ba526b9f3d"
      },
      "source": [
        "train_prepared[:1]"
      ],
      "execution_count": 21,
      "outputs": [
        {
          "output_type": "execute_result",
          "data": {
            "text/plain": [
              "<1x94 sparse matrix of type '<class 'numpy.float64'>'\n",
              "\twith 28 stored elements in Compressed Sparse Row format>"
            ]
          },
          "metadata": {
            "tags": []
          },
          "execution_count": 21
        }
      ]
    },
    {
      "cell_type": "code",
      "metadata": {
        "colab": {
          "base_uri": "https://localhost:8080/"
        },
        "id": "JtlBac6BXY4k",
        "outputId": "85649321-3aad-4250-c5f8-a704286c3c15"
      },
      "source": [
        "test_prepared[:1]"
      ],
      "execution_count": 22,
      "outputs": [
        {
          "output_type": "execute_result",
          "data": {
            "text/plain": [
              "<1x94 sparse matrix of type '<class 'numpy.float64'>'\n",
              "\twith 28 stored elements in Compressed Sparse Row format>"
            ]
          },
          "metadata": {
            "tags": []
          },
          "execution_count": 22
        }
      ]
    },
    {
      "cell_type": "code",
      "metadata": {
        "colab": {
          "base_uri": "https://localhost:8080/"
        },
        "id": "YoYvciu6a1k8",
        "outputId": "1c9f0cd5-2fda-4e7c-a1ae-d7d0337911a1"
      },
      "source": [
        "complete_prepared[:1]"
      ],
      "execution_count": 23,
      "outputs": [
        {
          "output_type": "execute_result",
          "data": {
            "text/plain": [
              "<1x94 sparse matrix of type '<class 'numpy.float64'>'\n",
              "\twith 28 stored elements in Compressed Sparse Row format>"
            ]
          },
          "metadata": {
            "tags": []
          },
          "execution_count": 23
        }
      ]
    },
    {
      "cell_type": "markdown",
      "metadata": {
        "id": "3CASdeLRZ_ZZ"
      },
      "source": [
        "### 3 - Classifiers\n",
        "\n",
        "For the initial runs, we employ 5 methods: Logistic regression, decision tree, random forest, SVC and ANN. The best result so far was achieved with the ANN -- AUC of XX. \n"
      ]
    },
    {
      "cell_type": "code",
      "metadata": {
        "id": "kIeJWYMpHFQ1"
      },
      "source": [
        "from sklearn.linear_model import LogisticRegression\n",
        "from sklearn.model_selection import cross_val_score\n",
        "\n",
        "logr = LogisticRegression(max_iter=1000, random_state=42, solver='lbfgs')\n",
        "logr.fit(train_prepared, train_target)\n",
        "(cross_val_score(logr, train_prepared, train_target, cv=3, scoring=\"roc_auc\")).mean()"
      ],
      "execution_count": null,
      "outputs": []
    },
    {
      "cell_type": "code",
      "metadata": {
        "colab": {
          "base_uri": "https://localhost:8080/"
        },
        "id": "MOfEBJV5jZS6",
        "outputId": "d9b59eb2-a696-4108-a124-c8ddd532d5cc"
      },
      "source": [
        "from sklearn.tree import DecisionTreeClassifier \n",
        "\n",
        "dtc = DecisionTreeClassifier()\n",
        "dtc = dtc.fit(train_prepared, train_target)\n",
        "(cross_val_score(dtc, train_prepared, train_target, cv=3, scoring=\"roc_auc\")).mean()"
      ],
      "execution_count": null,
      "outputs": [
        {
          "output_type": "execute_result",
          "data": {
            "text/plain": [
              "0.6571229277170021"
            ]
          },
          "metadata": {
            "tags": []
          },
          "execution_count": 67
        }
      ]
    },
    {
      "cell_type": "code",
      "metadata": {
        "id": "-99RFgmhHsem"
      },
      "source": [
        "from sklearn.ensemble import RandomForestClassifier\n",
        "\n",
        "rf = RandomForestClassifier()\n",
        "rf.fit(train_prepared, train_target)\n",
        "(cross_val_score(rf, train_prepared, train_target, cv=3, scoring=\"roc_auc\")).mean()"
      ],
      "execution_count": null,
      "outputs": []
    },
    {
      "cell_type": "code",
      "metadata": {
        "id": "coOFv5bZE4yM"
      },
      "source": [
        "from sklearn.svm import LinearSVC\n",
        "\n",
        "svm_clf = LinearSVC(C=1, loss=\"hinge\")\n",
        "svm_clf.fit(train_prepared, train_target)\n",
        "(cross_val_score(svm_clf, train_prepared, train_target, cv=3, scoring=\"roc_auc\")).mean()"
      ],
      "execution_count": null,
      "outputs": []
    },
    {
      "cell_type": "code",
      "metadata": {
        "id": "SkopARcS41Oe"
      },
      "source": [
        "# Polinomial SVC\n",
        "from sklearn.svm import SVC\n",
        "\n",
        "svm_clf_poli = SVC(kernel = \"poly\", degree = 3, coef0=1, C=5)\n",
        "svm_clf_poli.fit(train_prepared, train_target)\n",
        "(cross_val_score(svm_clf_poli, train_prepared, train_target, cv=3, scoring=\"roc_auc\")).mean()"
      ],
      "execution_count": null,
      "outputs": []
    },
    {
      "cell_type": "code",
      "metadata": {
        "id": "l3SB0LW4E-2m"
      },
      "source": [
        "from sklearn.neural_network import MLPClassifier\n",
        "\n",
        "mlp = MLPClassifier(hidden_layer_sizes=(10, 10, 10), max_iter=1000)\n",
        "mlp.fit(train_prepared, train_target.values.ravel())\n",
        "(cross_val_score(mlp, train_prepared, train_target, cv=3, scoring=\"roc_auc\")).mean()"
      ],
      "execution_count": null,
      "outputs": []
    },
    {
      "cell_type": "markdown",
      "metadata": {
        "id": "BwMo644RChXV"
      },
      "source": [
        "### 4 - Visualization"
      ]
    },
    {
      "cell_type": "code",
      "metadata": {
        "colab": {
          "base_uri": "https://localhost:8080/",
          "height": 374
        },
        "id": "1lUr8ie6AQW2",
        "outputId": "a4a1dbd9-e0cf-484d-ea87-caab427404b0"
      },
      "source": [
        "from sklearn.metrics import roc_auc_score\n",
        "\n",
        "# Predict probabilities\n",
        "#pred_logr = logr.predict_proba(test_prepared)\n",
        "pred_dtc = dtc.predict_proba(test_prepared)\n",
        "#pred_rf = rf.predict_proba(test_prepared)\n",
        "\n",
        "#pred_prob1 = model1.predict_proba(X_test)\n",
        "#pred_prob2 = model2.predict_proba(X_test)\n",
        "\n",
        "# AUC score\n",
        "auc_logr = roc_auc_score(test_target, pred_logr[:,1])\n",
        "auc_dtc = roc_auc_score(test_target, pred_dtc[:,1])\n",
        "#auc_rf = roc_auc_score(test_target, pred_rf[:,1])\n",
        "\n",
        "#print(auc_logr, auc_dtc, auc_rf)"
      ],
      "execution_count": null,
      "outputs": [
        {
          "output_type": "error",
          "ename": "ValueError",
          "evalue": "ignored",
          "traceback": [
            "\u001b[0;31m---------------------------------------------------------------------------\u001b[0m",
            "\u001b[0;31mValueError\u001b[0m                                Traceback (most recent call last)",
            "\u001b[0;32m<ipython-input-150-8e8c88d72627>\u001b[0m in \u001b[0;36m<module>\u001b[0;34m()\u001b[0m\n\u001b[1;32m      3\u001b[0m \u001b[0;31m# Predict probabilities\u001b[0m\u001b[0;34m\u001b[0m\u001b[0;34m\u001b[0m\u001b[0;34m\u001b[0m\u001b[0m\n\u001b[1;32m      4\u001b[0m \u001b[0;31m#pred_logr = logr.predict_proba(test_prepared)\u001b[0m\u001b[0;34m\u001b[0m\u001b[0;34m\u001b[0m\u001b[0;34m\u001b[0m\u001b[0m\n\u001b[0;32m----> 5\u001b[0;31m \u001b[0mpred_dtc\u001b[0m \u001b[0;34m=\u001b[0m \u001b[0mdtc\u001b[0m\u001b[0;34m.\u001b[0m\u001b[0mpredict_proba\u001b[0m\u001b[0;34m(\u001b[0m\u001b[0mtest_prepared\u001b[0m\u001b[0;34m)\u001b[0m\u001b[0;34m\u001b[0m\u001b[0;34m\u001b[0m\u001b[0m\n\u001b[0m\u001b[1;32m      6\u001b[0m \u001b[0;31m#pred_rf = rf.predict_proba(test_prepared)\u001b[0m\u001b[0;34m\u001b[0m\u001b[0;34m\u001b[0m\u001b[0;34m\u001b[0m\u001b[0m\n\u001b[1;32m      7\u001b[0m \u001b[0;34m\u001b[0m\u001b[0m\n",
            "\u001b[0;32m/usr/local/lib/python3.7/dist-packages/sklearn/tree/_classes.py\u001b[0m in \u001b[0;36mpredict_proba\u001b[0;34m(self, X, check_input)\u001b[0m\n\u001b[1;32m    903\u001b[0m         \"\"\"\n\u001b[1;32m    904\u001b[0m         \u001b[0mcheck_is_fitted\u001b[0m\u001b[0;34m(\u001b[0m\u001b[0mself\u001b[0m\u001b[0;34m)\u001b[0m\u001b[0;34m\u001b[0m\u001b[0;34m\u001b[0m\u001b[0m\n\u001b[0;32m--> 905\u001b[0;31m         \u001b[0mX\u001b[0m \u001b[0;34m=\u001b[0m \u001b[0mself\u001b[0m\u001b[0;34m.\u001b[0m\u001b[0m_validate_X_predict\u001b[0m\u001b[0;34m(\u001b[0m\u001b[0mX\u001b[0m\u001b[0;34m,\u001b[0m \u001b[0mcheck_input\u001b[0m\u001b[0;34m)\u001b[0m\u001b[0;34m\u001b[0m\u001b[0;34m\u001b[0m\u001b[0m\n\u001b[0m\u001b[1;32m    906\u001b[0m         \u001b[0mproba\u001b[0m \u001b[0;34m=\u001b[0m \u001b[0mself\u001b[0m\u001b[0;34m.\u001b[0m\u001b[0mtree_\u001b[0m\u001b[0;34m.\u001b[0m\u001b[0mpredict\u001b[0m\u001b[0;34m(\u001b[0m\u001b[0mX\u001b[0m\u001b[0;34m)\u001b[0m\u001b[0;34m\u001b[0m\u001b[0;34m\u001b[0m\u001b[0m\n\u001b[1;32m    907\u001b[0m \u001b[0;34m\u001b[0m\u001b[0m\n",
            "\u001b[0;32m/usr/local/lib/python3.7/dist-packages/sklearn/tree/_classes.py\u001b[0m in \u001b[0;36m_validate_X_predict\u001b[0;34m(self, X, check_input)\u001b[0m\n\u001b[1;32m    389\u001b[0m                              \u001b[0;34m\"match the input. Model n_features is %s and \"\u001b[0m\u001b[0;34m\u001b[0m\u001b[0;34m\u001b[0m\u001b[0m\n\u001b[1;32m    390\u001b[0m                              \u001b[0;34m\"input n_features is %s \"\u001b[0m\u001b[0;34m\u001b[0m\u001b[0;34m\u001b[0m\u001b[0m\n\u001b[0;32m--> 391\u001b[0;31m                              % (self.n_features_, n_features))\n\u001b[0m\u001b[1;32m    392\u001b[0m \u001b[0;34m\u001b[0m\u001b[0m\n\u001b[1;32m    393\u001b[0m         \u001b[0;32mreturn\u001b[0m \u001b[0mX\u001b[0m\u001b[0;34m\u001b[0m\u001b[0;34m\u001b[0m\u001b[0m\n",
            "\u001b[0;31mValueError\u001b[0m: Number of features of the model must match the input. Model n_features is 568 and input n_features is 374 "
          ]
        }
      ]
    },
    {
      "cell_type": "code",
      "metadata": {
        "id": "xlPPx7NHBJ4C"
      },
      "source": [
        "from sklearn.metrics import roc_curve\n",
        "\n",
        "# roc curve for models\n",
        "fpr_logr, tpr_logr, thresh_logr = roc_curve(test_target, pred_logr[:,1], pos_label=1)\n",
        "fpr_dtc, tpr_dtc, thresh_dtc = roc_curve(test_target, pred_dtc[:,1], pos_label=1)\n",
        "#fpr_rf, tpr_rf, thresh_rf = roc_curve(test_target, pred_rf[:,1], pos_label=1)\n",
        "\n",
        "# roc curve for tpr = fpr \n",
        "random_probs = [0 for i in range(len(test_target))]\n",
        "p_fpr, p_tpr, _ = roc_curve(train_target, random_probs, pos_label=1)"
      ],
      "execution_count": null,
      "outputs": []
    },
    {
      "cell_type": "code",
      "metadata": {
        "colab": {
          "base_uri": "https://localhost:8080/",
          "height": 376
        },
        "id": "COwC7FNZBIyr",
        "outputId": "36d1362e-34bb-4df6-8f9b-9da1afa3132e"
      },
      "source": [
        "import matplotlib.pyplot as plt\n",
        "plt.style.use('seaborn')\n",
        "\n",
        "# plot roc curves\n",
        "plt.plot(fpr_logr, tpr_logr, linestyle='--',color='orange', label='Logistic Regression')\n",
        "plt.plot(fpr_dtc, tpr_dtc, linestyle='--',color='green', label='DT')\n",
        "#plt.plot(fpr_rf, tpr_rf, linestyle='--',color='pink', label='RF')\n",
        "plt.plot(p_fpr, p_tpr, linestyle='--', color='blue')\n",
        "\n",
        "# title\n",
        "plt.title('ROC Curve')\n",
        "# x label\n",
        "plt.xlabel('False Positive Rate')\n",
        "# y label\n",
        "plt.ylabel('True Positive Rate')\n",
        "\n",
        "plt.legend(loc='best')\n",
        "plt.savefig('ROC',dpi=300)\n",
        "plt.show();"
      ],
      "execution_count": null,
      "outputs": [
        {
          "output_type": "display_data",
          "data": {
            "image/png": "[encoded data removed]",
            "text/plain": [
              "<Figure size 576x396 with 1 Axes>"
            ]
          },
          "metadata": {
            "tags": []
          }
        }
      ]
    },
    {
      "cell_type": "markdown",
      "metadata": {
        "id": "o4xegkWxX77l"
      },
      "source": [
        "### SAMPLE CODE"
      ]
    },
    {
      "cell_type": "code",
      "metadata": {
        "id": "CZ3ylf85EQ-5"
      },
      "source": [
        "#from joblib import dump, load\n",
        "#dump(dtc, 'logr.joblib') "
      ],
      "execution_count": null,
      "outputs": []
    },
    {
      "cell_type": "code",
      "metadata": {
        "id": "H11AasjSN9q_"
      },
      "source": [
        "from sklearn.datasets import make_classification\n",
        "from sklearn.model_selection import train_test_split\n",
        "\n",
        "# generate two class dataset\n",
        "X, y = make_classification(n_samples=1000, n_classes=2, n_features=20, random_state=27)\n",
        "\n",
        "# split into train-test sets\n",
        "X_train, X_test, y_train, y_test = train_test_split(X, y, test_size=0.3, random_state=27)"
      ],
      "execution_count": null,
      "outputs": []
    },
    {
      "cell_type": "code",
      "metadata": {
        "id": "5nXCPB3jOBdF"
      },
      "source": [
        "# train models\n",
        "from sklearn.linear_model import LogisticRegression\n",
        "from sklearn.neighbors import KNeighborsClassifier\n",
        "\n",
        "# logistic regression\n",
        "model1 = LogisticRegression()\n",
        "# knn\n",
        "model2 = KNeighborsClassifier(n_neighbors=4)\n",
        "\n",
        "# fit model\n",
        "model1.fit(X_train, y_train)\n",
        "model2.fit(X_train, y_train)\n",
        "\n",
        "# predict probabilities\n",
        "pred_prob1 = model1.predict_proba(X_test)\n",
        "pred_prob2 = model2.predict_proba(X_test)"
      ],
      "execution_count": null,
      "outputs": []
    },
    {
      "cell_type": "code",
      "metadata": {
        "id": "Eu8hR2V3ODCb"
      },
      "source": [
        "from sklearn.metrics import roc_curve\n",
        "\n",
        "# roc curve for models\n",
        "fpr1, tpr1, thresh1 = roc_curve(y_test, pred_prob1[:,1], pos_label=1)\n",
        "fpr2, tpr2, thresh2 = roc_curve(y_test, pred_prob2[:,1], pos_label=1)\n",
        "\n",
        "# roc curve for tpr = fpr \n",
        "random_probs = [0 for i in range(len(y_test))]\n",
        "p_fpr, p_tpr, _ = roc_curve(y_test, random_probs, pos_label=1)"
      ],
      "execution_count": null,
      "outputs": []
    },
    {
      "cell_type": "code",
      "metadata": {
        "colab": {
          "base_uri": "https://localhost:8080/"
        },
        "id": "5Atvw1JaOH-1",
        "outputId": "ecad6c02-4ff8-4863-f2b0-44b6d6b7e857"
      },
      "source": [
        "from sklearn.metrics import roc_auc_score\n",
        "\n",
        "# auc scores\n",
        "auc_score1 = roc_auc_score(y_test, pred_prob1[:,1])\n",
        "auc_score2 = roc_auc_score(y_test, pred_prob2[:,1])\n",
        "\n",
        "print(auc_score1, auc_score2)"
      ],
      "execution_count": null,
      "outputs": [
        {
          "output_type": "stream",
          "text": [
            "0.9762374461979914 0.9233769727403157\n"
          ],
          "name": "stdout"
        }
      ]
    },
    {
      "cell_type": "code",
      "metadata": {
        "colab": {
          "base_uri": "https://localhost:8080/",
          "height": 376
        },
        "id": "snbNTLlIOKh-",
        "outputId": "29aa0edb-b9ef-48b2-895d-b0d035d30357"
      },
      "source": [
        "# matplotlib\n",
        "import matplotlib.pyplot as plt\n",
        "plt.style.use('seaborn')\n",
        "\n",
        "# plot roc curves\n",
        "plt.plot(fpr1, tpr1, linestyle='--',color='orange', label='Logistic Regression')\n",
        "plt.plot(fpr2, tpr2, linestyle='--',color='green', label='KNN')\n",
        "plt.plot(p_fpr, p_tpr, linestyle='--', color='blue')\n",
        "# title\n",
        "plt.title('ROC curve')\n",
        "# x label\n",
        "plt.xlabel('False Positive Rate')\n",
        "# y label\n",
        "plt.ylabel('True Positive rate')\n",
        "\n",
        "plt.legend(loc='best')\n",
        "plt.savefig('ROC',dpi=300)\n",
        "plt.show();"
      ],
      "execution_count": null,
      "outputs": [
        {
          "output_type": "display_data",
          "data": {
            "image/png": "[encoded data removed]",
            "text/plain": [
              "<Figure size 576x396 with 1 Axes>"
            ]
          },
          "metadata": {
            "tags": []
          }
        }
      ]
    }
  ]
}