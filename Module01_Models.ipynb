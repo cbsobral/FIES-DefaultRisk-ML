{
  "nbformat": 4,
  "nbformat_minor": 0,
  "metadata": {
    "colab": {
      "name": "Module01_Models.ipynb",
      "provenance": [],
      "authorship_tag": "ABX9TyODBefPytx+X1XkpctEf7eV",
      "include_colab_link": true
    },
    "kernelspec": {
      "name": "python3",
      "display_name": "Python 3"
    },
    "language_info": {
      "name": "python"
    }
  },
  "cells": [
    {
      "cell_type": "markdown",
      "metadata": {
        "id": "view-in-github",
        "colab_type": "text"
      },
      "source": [
        "<a href=\"https://colab.research.google.com/github/cbsobral/ml-fies/blob/main/Module01_Models.ipynb\" target=\"_parent\"><img src=\"https://colab.research.google.com/assets/colab-badge.svg\" alt=\"Open In Colab\"/></a>"
      ]
    },
    {
      "cell_type": "markdown",
      "metadata": {
        "id": "QNfxqJE4km2n"
      },
      "source": [
        "### 1 - Load Dataset\n",
        "\n",
        "Import train_set and train_target"
      ]
    },
    {
      "cell_type": "code",
      "metadata": {
        "colab": {
          "base_uri": "https://localhost:8080/"
        },
        "id": "m1T2rReQkmI5",
        "outputId": "6454be8e-8cac-47af-e9a9-f3f7f0e67fae"
      },
      "source": [
        "import pandas as pd\n",
        "\n",
        "url_train = \"https://drive.google.com/file/d/11s7p2dPEmumvg__DQnGYETFsZrfVgGKK/view?usp=sharing\"\n",
        "path_train = \"https://drive.google.com/uc?export=download&id=\"+url_train.split(\"/\")[-2]\n",
        "train = pd.read_csv(path_train)\n",
        "train.head()"
      ],
      "execution_count": 42,
      "outputs": [
        {
          "output_type": "execute_result",
          "data": {
            "text/plain": [
              "(69395, 33)"
            ]
          },
          "metadata": {
            "tags": []
          },
          "execution_count": 42
        }
      ]
    },
    {
      "cell_type": "code",
      "metadata": {
        "id": "psNgDRsr2rMz"
      },
      "source": [
        "train_set = train.drop(\"default\", axis=1) # drop targets for training set\n",
        "train_target = train[\"default\"].copy()"
      ],
      "execution_count": 48,
      "outputs": []
    },
    {
      "cell_type": "markdown",
      "metadata": {
        "id": "VIJ6MzxrogIO"
      },
      "source": [
        "### 2 - Pipeline\n",
        "\n",
        "The pipeline contains functions that will be used to transform the dataset. For the numeric attributes, we employ median and stdscaler. "
      ]
    },
    {
      "cell_type": "code",
      "metadata": {
        "id": "NjKb_CdHogIR"
      },
      "source": [
        "from sklearn.pipeline import Pipeline\n",
        "from sklearn.preprocessing import StandardScaler\n",
        "from sklearn.impute import SimpleImputer\n",
        "\n",
        "\n",
        "num_pipeline = Pipeline([\n",
        "        (\"num_imputer\", SimpleImputer(strategy=\"median\")),\n",
        "        (\"std_scaler\", StandardScaler()),\n",
        "    ])"
      ],
      "execution_count": 49,
      "outputs": []
    },
    {
      "cell_type": "code",
      "metadata": {
        "id": "IGJn2aCfAuXj"
      },
      "source": [
        "from sklearn.pipeline import Pipeline\n",
        "from sklearn.preprocessing import OrdinalEncoder\n",
        "\n",
        "ord_pipeline = Pipeline([\n",
        "        (\"ord_imputer\", SimpleImputer(strategy=\"most_frequent\")),\n",
        "        (\"ord_encoder\", OrdinalEncoder()),\n",
        "    ])"
      ],
      "execution_count": 50,
      "outputs": []
    },
    {
      "cell_type": "code",
      "metadata": {
        "id": "3gaCsGRFogIR"
      },
      "source": [
        "ord_attribs = ['igc','date_contract'] # 2 attributes\n",
        "\n",
        "num_attribs = ['family_income',   #17\n",
        "               'personal_income',\n",
        "               'high_school_endyear',\n",
        "               'n_sem_course',\n",
        "               'n_completed_sem',\n",
        "               'sem_funded',\n",
        "               'fam_size',\n",
        "               'income_pc',\n",
        "               'tuition_current',\n",
        "               'inc_prop',\n",
        "               'perc_requested',\n",
        "               'loan_value_sem',\n",
        "               'student_resource',\n",
        "               'loan_value',\n",
        "               'loan_limit',\n",
        "               'total_debt',\n",
        "               'age']\n",
        "  \n",
        "\n",
        "cat_attribs = ['semester_enroll',  #9\n",
        "               'gender',\n",
        "               'occupation', \n",
        "               'marital_status',\n",
        "               'ethnicity', \n",
        "               'public_hs', \n",
        "               'state_course', \n",
        "               'degree', \n",
        "               'contract_phase']"
      ],
      "execution_count": 51,
      "outputs": []
    },
    {
      "cell_type": "code",
      "metadata": {
        "id": "jgFC9XOHAuXk"
      },
      "source": [
        "from sklearn.compose import ColumnTransformer\n",
        "from sklearn.preprocessing import OneHotEncoder\n",
        "\n",
        "full_pipeline = ColumnTransformer([\n",
        "        (\"num\", num_pipeline, num_attribs),\n",
        "        (\"cat\", OneHotEncoder(), cat_attribs),\n",
        "        (\"ord\", ord_pipeline,ord_attribs)\n",
        "        ])"
      ],
      "execution_count": 52,
      "outputs": []
    },
    {
      "cell_type": "code",
      "metadata": {
        "id": "BGEokMJdAuXl"
      },
      "source": [
        "train_prepared = full_pipeline.fit_transform(train_set)"
      ],
      "execution_count": 53,
      "outputs": []
    },
    {
      "cell_type": "markdown",
      "metadata": {
        "id": "3CASdeLRZ_ZZ"
      },
      "source": [
        "### 3 - Classifiers\n",
        "\n"
      ]
    },
    {
      "cell_type": "code",
      "metadata": {
        "id": "kIeJWYMpHFQ1"
      },
      "source": [
        "from sklearn.linear_model import LogisticRegression\n",
        "from sklearn.model_selection import cross_val_score\n",
        "\n",
        "logr = LogisticRegression(max_iter=1000, random_state=42, solver='lbfgs')\n",
        "logr.fit(train_prepared, train_target)\n",
        "(cross_val_score(logr, train_prepared, train_target, cv=3, scoring=\"roc_auc\")).mean()"
      ],
      "execution_count": null,
      "outputs": []
    },
    {
      "cell_type": "code",
      "metadata": {
        "id": "MOfEBJV5jZS6"
      },
      "source": [
        "from sklearn.tree import DecisionTreeClassifier \n",
        "\n",
        "dtc = DecisionTreeClassifier()\n",
        "dtc = dtc.fit(train_prepared, train_target)\n",
        "(cross_val_score(dtc, train_prepared, train_target, cv=3, scoring=\"roc_auc\")).mean()"
      ],
      "execution_count": null,
      "outputs": []
    },
    {
      "cell_type": "code",
      "metadata": {
        "id": "-99RFgmhHsem"
      },
      "source": [
        "from sklearn.ensemble import RandomForestClassifier\n",
        "\n",
        "rf = RandomForestClassifier()\n",
        "rf.fit(fies_prepared, fies_labels)\n",
        "(cross_val_score(rf, fies_prepared, fies_labels, cv=3, scoring=\"roc_auc\")).mean()"
      ],
      "execution_count": null,
      "outputs": []
    },
    {
      "cell_type": "code",
      "metadata": {
        "id": "lmE3tGXVguBN"
      },
      "source": [
        "from sklearn.svm import LinearSVC\n",
        "\n",
        "svm_clf = LinearSVC(C=1, loss=\"hinge\")\n",
        "svm_clf.fit(fies_prepared, fies_labels)\n",
        "(cross_val_score(svm_clf, fies_prepared, fies_labels, cv=3, scoring=\"roc_auc\")).mean()"
      ],
      "execution_count": null,
      "outputs": []
    },
    {
      "cell_type": "code",
      "metadata": {
        "id": "qNNXi5csiyOc"
      },
      "source": [
        "from sklearn.neural_network import MLPClassifier\n",
        "\n",
        "mlp = MLPClassifier(hidden_layer_sizes=(10, 10, 10), max_iter=500)\n",
        "mlp.fit(fies_prepared, fies_labels.values.ravel())\n",
        "(cross_val_score(mlp, fies_prepared, fies_labels, cv=3, scoring=\"roc_auc\")).mean()"
      ],
      "execution_count": null,
      "outputs": []
    }
  ]
}