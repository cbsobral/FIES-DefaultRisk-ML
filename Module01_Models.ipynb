{
  "nbformat": 4,
  "nbformat_minor": 0,
  "metadata": {
    "colab": {
      "name": "Module01_Models.ipynb",
      "provenance": [],
      "authorship_tag": "ABX9TyPps4I1EMH8r7SzQuzLu43e",
      "include_colab_link": true
    },
    "kernelspec": {
      "name": "python3",
      "display_name": "Python 3"
    },
    "language_info": {
      "name": "python"
    }
  },
  "cells": [
    {
      "cell_type": "markdown",
      "metadata": {
        "id": "view-in-github",
        "colab_type": "text"
      },
      "source": [
        "<a href=\"https://colab.research.google.com/github/cbsobral/ml-fies/blob/main/Module01_Models.ipynb\" target=\"_parent\"><img src=\"https://colab.research.google.com/assets/colab-badge.svg\" alt=\"Open In Colab\"/></a>"
      ]
    },
    {
      "cell_type": "markdown",
      "metadata": {
        "id": "QNfxqJE4km2n"
      },
      "source": [
        "### 1 - Load Dataset\n",
        "\n",
        "Here, we import the train set create in Module00_Data. \n"
      ]
    },
    {
      "cell_type": "code",
      "metadata": {
        "colab": {
          "base_uri": "https://localhost:8080/"
        },
        "id": "m1T2rReQkmI5",
        "outputId": "b2c46d90-40de-4dc7-df38-e928b2575cfd"
      },
      "source": [
        "import pandas as pd\n",
        "\n",
        "url_train = \"https://drive.google.com/file/d/1FlptrwjNswZyAqjVth57I9cve7nDDbWt/view?usp=sharing\"\n",
        "path_train = \"https://drive.google.com/uc?export=download&id=\"+url_train.split(\"/\")[-2]\n",
        "train = pd.read_csv(path_train)\n",
        "train.shape"
      ],
      "execution_count": 88,
      "outputs": [
        {
          "output_type": "execute_result",
          "data": {
            "text/plain": [
              "(496735, 31)"
            ]
          },
          "metadata": {
            "tags": []
          },
          "execution_count": 88
        }
      ]
    },
    {
      "cell_type": "code",
      "metadata": {
        "id": "psNgDRsr2rMz"
      },
      "source": [
        "train_set = train.drop(\"default\", axis=1) # drop targets for training set\n",
        "train_target = train[\"default\"].copy()"
      ],
      "execution_count": 60,
      "outputs": []
    },
    {
      "cell_type": "code",
      "metadata": {
        "colab": {
          "base_uri": "https://localhost:8080/"
        },
        "id": "XaJOQTurG_Li",
        "outputId": "023fb425-06b9-4af0-9f68-cd93ce71cc72"
      },
      "source": [
        "url_test = \"https://drive.google.com/file/d/1i2KpLbn7c6h2wNHKLYvam68l6cLR6ICR/view?usp=sharing\"\n",
        "path_test = \"https://drive.google.com/uc?export=download&id=\"+url_test.split(\"/\")[-2]\n",
        "test = pd.read_csv(path_test)\n",
        "test.shape"
      ],
      "execution_count": 94,
      "outputs": [
        {
          "output_type": "execute_result",
          "data": {
            "text/plain": [
              "(124184, 31)"
            ]
          },
          "metadata": {
            "tags": []
          },
          "execution_count": 94
        }
      ]
    },
    {
      "cell_type": "code",
      "metadata": {
        "id": "CJhx2yRNHRoy"
      },
      "source": [
        "test_set = test.drop(\"default\", axis=1) # drop targets for test set\n",
        "test_target = test[\"default\"].copy()"
      ],
      "execution_count": 95,
      "outputs": []
    },
    {
      "cell_type": "markdown",
      "metadata": {
        "id": "VIJ6MzxrogIO"
      },
      "source": [
        "### 2 - Pipeline\n",
        "\n",
        "The pipeline contains functions that will be used to transform the dataset. For the numeric attributes, we employ XXX."
      ]
    },
    {
      "cell_type": "code",
      "metadata": {
        "id": "NjKb_CdHogIR"
      },
      "source": [
        "from sklearn.pipeline import Pipeline\n",
        "from sklearn.preprocessing import StandardScaler\n",
        "from sklearn.impute import SimpleImputer\n",
        "\n",
        "\n",
        "num_pipeline = Pipeline([\n",
        "        (\"num_imputer\", SimpleImputer(strategy=\"median\")),\n",
        "        (\"std_scaler\", StandardScaler()),\n",
        "    ])"
      ],
      "execution_count": 61,
      "outputs": []
    },
    {
      "cell_type": "code",
      "metadata": {
        "id": "IGJn2aCfAuXj"
      },
      "source": [
        "from sklearn.pipeline import Pipeline\n",
        "from sklearn.preprocessing import OrdinalEncoder\n",
        "\n",
        "ord_pipeline = Pipeline([\n",
        "        (\"ord_imputer\", SimpleImputer(strategy=\"most_frequent\")),\n",
        "        (\"ord_encoder\", OrdinalEncoder()),\n",
        "    ])"
      ],
      "execution_count": 62,
      "outputs": []
    },
    {
      "cell_type": "code",
      "metadata": {
        "id": "3gaCsGRFogIR"
      },
      "source": [
        "ord_attribs = ['igc','date_contract'] # 2 attributes\n",
        "\n",
        "num_attribs = ['family_income',   #17\n",
        "               'personal_income',\n",
        "               'high_school_endyear',\n",
        "               'n_sem_course',\n",
        "               'n_completed_sem',\n",
        "               'sem_funded',\n",
        "               'fam_size',\n",
        "               'income_pc',\n",
        "               'tuition_current',\n",
        "               'inc_prop',\n",
        "               'perc_requested',\n",
        "               'loan_value_sem',\n",
        "               'student_resource',\n",
        "               'loan_value',\n",
        "               'loan_limit',\n",
        "               'total_debt',\n",
        "               'age']\n",
        "  \n",
        "\n",
        "cat_attribs = ['semester_enroll',  #9\n",
        "               'gender',\n",
        "               'occupation', \n",
        "               'marital_status',\n",
        "               'ethnicity', \n",
        "               'public_hs', \n",
        "               'state_course', \n",
        "               'degree', \n",
        "               'contract_phase']"
      ],
      "execution_count": 63,
      "outputs": []
    },
    {
      "cell_type": "code",
      "metadata": {
        "id": "jgFC9XOHAuXk"
      },
      "source": [
        "from sklearn.compose import ColumnTransformer\n",
        "from sklearn.preprocessing import OneHotEncoder\n",
        "\n",
        "full_pipeline = ColumnTransformer([\n",
        "        (\"num\", num_pipeline, num_attribs),\n",
        "        (\"cat\", OneHotEncoder(), cat_attribs),\n",
        "        (\"ord\", ord_pipeline,ord_attribs)\n",
        "        ])"
      ],
      "execution_count": 64,
      "outputs": []
    },
    {
      "cell_type": "code",
      "metadata": {
        "id": "BGEokMJdAuXl"
      },
      "source": [
        "train_prepared = full_pipeline.fit_transform(train_set)\n",
        "test_prepared = full_pipeline.fit_transform(test_set)"
      ],
      "execution_count": 96,
      "outputs": []
    },
    {
      "cell_type": "code",
      "metadata": {
        "colab": {
          "base_uri": "https://localhost:8080/"
        },
        "id": "2njBOOGqJe2J",
        "outputId": "555634a0-0f93-4238-9a7a-06a4aba02b09"
      },
      "source": [
        "test_prepared[:1]"
      ],
      "execution_count": 97,
      "outputs": [
        {
          "output_type": "execute_result",
          "data": {
            "text/plain": [
              "<1x505 sparse matrix of type '<class 'numpy.float64'>'\n",
              "\twith 28 stored elements in Compressed Sparse Row format>"
            ]
          },
          "metadata": {
            "tags": []
          },
          "execution_count": 97
        }
      ]
    },
    {
      "cell_type": "code",
      "metadata": {
        "colab": {
          "base_uri": "https://localhost:8080/"
        },
        "id": "ssecMB_sJigB",
        "outputId": "7a7cee7d-5abf-4214-f5b3-384d8f9376f4"
      },
      "source": [
        "train_prepared[:1]"
      ],
      "execution_count": 91,
      "outputs": [
        {
          "output_type": "execute_result",
          "data": {
            "text/plain": [
              "<1x568 sparse matrix of type '<class 'numpy.float64'>'\n",
              "\twith 28 stored elements in Compressed Sparse Row format>"
            ]
          },
          "metadata": {
            "tags": []
          },
          "execution_count": 91
        }
      ]
    },
    {
      "cell_type": "markdown",
      "metadata": {
        "id": "3CASdeLRZ_ZZ"
      },
      "source": [
        "### 3 - Classifiers\n",
        "\n",
        "For the initial runs, we employ 5 methods: Logistic regression, decision tree, random forest, SVC and ANN. The best result so far was achieved with the ANN -- AUC of XX. \n"
      ]
    },
    {
      "cell_type": "code",
      "metadata": {
        "id": "kIeJWYMpHFQ1"
      },
      "source": [
        "from sklearn.linear_model import LogisticRegression\n",
        "from sklearn.model_selection import cross_val_score\n",
        "\n",
        "logr = LogisticRegression(max_iter=1000, random_state=42, solver='lbfgs')\n",
        "logr.fit(train_prepared, train_target)\n",
        "(cross_val_score(logr, train_prepared, train_target, cv=3, scoring=\"roc_auc\")).mean()"
      ],
      "execution_count": null,
      "outputs": []
    },
    {
      "cell_type": "code",
      "metadata": {
        "id": "MOfEBJV5jZS6",
        "colab": {
          "base_uri": "https://localhost:8080/"
        },
        "outputId": "d9b59eb2-a696-4108-a124-c8ddd532d5cc"
      },
      "source": [
        "from sklearn.tree import DecisionTreeClassifier \n",
        "\n",
        "dtc = DecisionTreeClassifier()\n",
        "dtc = dtc.fit(train_prepared, train_target)\n",
        "(cross_val_score(dtc, train_prepared, train_target, cv=3, scoring=\"roc_auc\")).mean()"
      ],
      "execution_count": 67,
      "outputs": [
        {
          "output_type": "execute_result",
          "data": {
            "text/plain": [
              "0.6571229277170021"
            ]
          },
          "metadata": {
            "tags": []
          },
          "execution_count": 67
        }
      ]
    },
    {
      "cell_type": "code",
      "metadata": {
        "id": "-99RFgmhHsem"
      },
      "source": [
        "from sklearn.ensemble import RandomForestClassifier\n",
        "\n",
        "rf = RandomForestClassifier()\n",
        "rf.fit(train_prepared, train_target)\n",
        "(cross_val_score(rf, train_prepared, train_target, cv=3, scoring=\"roc_auc\")).mean()"
      ],
      "execution_count": null,
      "outputs": []
    },
    {
      "cell_type": "code",
      "metadata": {
        "id": "coOFv5bZE4yM"
      },
      "source": [
        "from sklearn.svm import LinearSVC\n",
        "\n",
        "svm_clf = LinearSVC(C=1, loss=\"hinge\")\n",
        "svm_clf.fit(train_prepared, train_target)\n",
        "(cross_val_score(svm_clf, train_prepared, train_target, cv=3, scoring=\"roc_auc\")).mean()"
      ],
      "execution_count": null,
      "outputs": []
    },
    {
      "cell_type": "code",
      "metadata": {
        "id": "l3SB0LW4E-2m"
      },
      "source": [
        "from sklearn.neural_network import MLPClassifier\n",
        "\n",
        "mlp = MLPClassifier(hidden_layer_sizes=(10, 10, 10), max_iter=1000)\n",
        "mlp.fit(train_prepared, train_target.values.ravel())\n",
        "(cross_val_score(mlp, train_prepared, train_target, cv=3, scoring=\"roc_auc\")).mean()"
      ],
      "execution_count": null,
      "outputs": []
    },
    {
      "cell_type": "markdown",
      "metadata": {
        "id": "BwMo644RChXV"
      },
      "source": [
        "### 4 - Visualization"
      ]
    },
    {
      "cell_type": "code",
      "metadata": {
        "colab": {
          "base_uri": "https://localhost:8080/",
          "height": 374
        },
        "id": "1lUr8ie6AQW2",
        "outputId": "dd2b08fe-c00a-4ff6-c108-23924e9d6789"
      },
      "source": [
        "from sklearn.metrics import roc_auc_score\n",
        "\n",
        "# Predict probabilities\n",
        "pred_logr = logr.predict_proba(test_prepared)\n",
        "pred_dtc = dtc.predict_proba(test_prepared)\n",
        "#pred_rf = rf.predict_proba(test_prepared)\n",
        "\n",
        "# AUC score\n",
        "auc_logr = roc_auc_score(test_target, pred_logr[:,1])\n",
        "auc_dtc = roc_auc_score(test_target, pred_dtc[:,1])\n",
        "#auc_rf = roc_auc_score(test_target, pred_rf[:,1])\n",
        "\n",
        "#print(auc_logr, auc_dtc, auc_rf)"
      ],
      "execution_count": 98,
      "outputs": [
        {
          "output_type": "error",
          "ename": "ValueError",
          "evalue": "ignored",
          "traceback": [
            "\u001b[0;31m---------------------------------------------------------------------------\u001b[0m",
            "\u001b[0;31mValueError\u001b[0m                                Traceback (most recent call last)",
            "\u001b[0;32m<ipython-input-98-3c986b5d75aa>\u001b[0m in \u001b[0;36m<module>\u001b[0;34m()\u001b[0m\n\u001b[1;32m      2\u001b[0m \u001b[0;34m\u001b[0m\u001b[0m\n\u001b[1;32m      3\u001b[0m \u001b[0;31m# Predict probabilities\u001b[0m\u001b[0;34m\u001b[0m\u001b[0;34m\u001b[0m\u001b[0;34m\u001b[0m\u001b[0m\n\u001b[0;32m----> 4\u001b[0;31m \u001b[0mpred_logr\u001b[0m \u001b[0;34m=\u001b[0m \u001b[0mlogr\u001b[0m\u001b[0;34m.\u001b[0m\u001b[0mpredict_proba\u001b[0m\u001b[0;34m(\u001b[0m\u001b[0mtest_prepared\u001b[0m\u001b[0;34m)\u001b[0m\u001b[0;34m\u001b[0m\u001b[0;34m\u001b[0m\u001b[0m\n\u001b[0m\u001b[1;32m      5\u001b[0m \u001b[0mpred_dtc\u001b[0m \u001b[0;34m=\u001b[0m \u001b[0mdtc\u001b[0m\u001b[0;34m.\u001b[0m\u001b[0mpredict_proba\u001b[0m\u001b[0;34m(\u001b[0m\u001b[0mtest_prepared\u001b[0m\u001b[0;34m)\u001b[0m\u001b[0;34m\u001b[0m\u001b[0;34m\u001b[0m\u001b[0m\n\u001b[1;32m      6\u001b[0m \u001b[0mpred_rf\u001b[0m \u001b[0;34m=\u001b[0m \u001b[0mrf\u001b[0m\u001b[0;34m.\u001b[0m\u001b[0mpredict_proba\u001b[0m\u001b[0;34m(\u001b[0m\u001b[0mtest_prepared\u001b[0m\u001b[0;34m)\u001b[0m\u001b[0;34m\u001b[0m\u001b[0;34m\u001b[0m\u001b[0m\n",
            "\u001b[0;32m/usr/local/lib/python3.7/dist-packages/sklearn/linear_model/_logistic.py\u001b[0m in \u001b[0;36mpredict_proba\u001b[0;34m(self, X)\u001b[0m\n\u001b[1;32m   1649\u001b[0m                                                 self.solver == 'liblinear')))\n\u001b[1;32m   1650\u001b[0m         \u001b[0;32mif\u001b[0m \u001b[0movr\u001b[0m\u001b[0;34m:\u001b[0m\u001b[0;34m\u001b[0m\u001b[0;34m\u001b[0m\u001b[0m\n\u001b[0;32m-> 1651\u001b[0;31m             \u001b[0;32mreturn\u001b[0m \u001b[0msuper\u001b[0m\u001b[0;34m(\u001b[0m\u001b[0;34m)\u001b[0m\u001b[0;34m.\u001b[0m\u001b[0m_predict_proba_lr\u001b[0m\u001b[0;34m(\u001b[0m\u001b[0mX\u001b[0m\u001b[0;34m)\u001b[0m\u001b[0;34m\u001b[0m\u001b[0;34m\u001b[0m\u001b[0m\n\u001b[0m\u001b[1;32m   1652\u001b[0m         \u001b[0;32melse\u001b[0m\u001b[0;34m:\u001b[0m\u001b[0;34m\u001b[0m\u001b[0;34m\u001b[0m\u001b[0m\n\u001b[1;32m   1653\u001b[0m             \u001b[0mdecision\u001b[0m \u001b[0;34m=\u001b[0m \u001b[0mself\u001b[0m\u001b[0;34m.\u001b[0m\u001b[0mdecision_function\u001b[0m\u001b[0;34m(\u001b[0m\u001b[0mX\u001b[0m\u001b[0;34m)\u001b[0m\u001b[0;34m\u001b[0m\u001b[0;34m\u001b[0m\u001b[0m\n",
            "\u001b[0;32m/usr/local/lib/python3.7/dist-packages/sklearn/linear_model/_base.py\u001b[0m in \u001b[0;36m_predict_proba_lr\u001b[0;34m(self, X)\u001b[0m\n\u001b[1;32m    305\u001b[0m         \u001b[0mmulticlass\u001b[0m \u001b[0;32mis\u001b[0m \u001b[0mhandled\u001b[0m \u001b[0mby\u001b[0m \u001b[0mnormalizing\u001b[0m \u001b[0mthat\u001b[0m \u001b[0mover\u001b[0m \u001b[0mall\u001b[0m \u001b[0mclasses\u001b[0m\u001b[0;34m.\u001b[0m\u001b[0;34m\u001b[0m\u001b[0;34m\u001b[0m\u001b[0m\n\u001b[1;32m    306\u001b[0m         \"\"\"\n\u001b[0;32m--> 307\u001b[0;31m         \u001b[0mprob\u001b[0m \u001b[0;34m=\u001b[0m \u001b[0mself\u001b[0m\u001b[0;34m.\u001b[0m\u001b[0mdecision_function\u001b[0m\u001b[0;34m(\u001b[0m\u001b[0mX\u001b[0m\u001b[0;34m)\u001b[0m\u001b[0;34m\u001b[0m\u001b[0;34m\u001b[0m\u001b[0m\n\u001b[0m\u001b[1;32m    308\u001b[0m         \u001b[0mexpit\u001b[0m\u001b[0;34m(\u001b[0m\u001b[0mprob\u001b[0m\u001b[0;34m,\u001b[0m \u001b[0mout\u001b[0m\u001b[0;34m=\u001b[0m\u001b[0mprob\u001b[0m\u001b[0;34m)\u001b[0m\u001b[0;34m\u001b[0m\u001b[0;34m\u001b[0m\u001b[0m\n\u001b[1;32m    309\u001b[0m         \u001b[0;32mif\u001b[0m \u001b[0mprob\u001b[0m\u001b[0;34m.\u001b[0m\u001b[0mndim\u001b[0m \u001b[0;34m==\u001b[0m \u001b[0;36m1\u001b[0m\u001b[0;34m:\u001b[0m\u001b[0;34m\u001b[0m\u001b[0;34m\u001b[0m\u001b[0m\n",
            "\u001b[0;32m/usr/local/lib/python3.7/dist-packages/sklearn/linear_model/_base.py\u001b[0m in \u001b[0;36mdecision_function\u001b[0;34m(self, X)\u001b[0m\n\u001b[1;32m    271\u001b[0m         \u001b[0;32mif\u001b[0m \u001b[0mX\u001b[0m\u001b[0;34m.\u001b[0m\u001b[0mshape\u001b[0m\u001b[0;34m[\u001b[0m\u001b[0;36m1\u001b[0m\u001b[0;34m]\u001b[0m \u001b[0;34m!=\u001b[0m \u001b[0mn_features\u001b[0m\u001b[0;34m:\u001b[0m\u001b[0;34m\u001b[0m\u001b[0;34m\u001b[0m\u001b[0m\n\u001b[1;32m    272\u001b[0m             raise ValueError(\"X has %d features per sample; expecting %d\"\n\u001b[0;32m--> 273\u001b[0;31m                              % (X.shape[1], n_features))\n\u001b[0m\u001b[1;32m    274\u001b[0m \u001b[0;34m\u001b[0m\u001b[0m\n\u001b[1;32m    275\u001b[0m         scores = safe_sparse_dot(X, self.coef_.T,\n",
            "\u001b[0;31mValueError\u001b[0m: X has 505 features per sample; expecting 568"
          ]
        }
      ]
    },
    {
      "cell_type": "code",
      "metadata": {
        "id": "xlPPx7NHBJ4C"
      },
      "source": [
        "from sklearn.metrics import roc_curve\n",
        "\n",
        "# roc curve for models\n",
        "fpr_logr, tpr_logr, thresh_logr = roc_curve(test_target, pred_logr[:,1], pos_label=1)\n",
        "fpr_dtc, tpr_dtc, thresh_dtc = roc_curve(test_target, pred_dtc[:,1], pos_label=1)\n",
        "#fpr_rf, tpr_rf, thresh_rf = roc_curve(test_target, pred_rf[:,1], pos_label=1)\n",
        "\n",
        "# roc curve for tpr = fpr \n",
        "random_probs = [0 for i in range(len(test_target))]\n",
        "p_fpr, p_tpr, _ = roc_curve(train_target, random_probs, pos_label=1)"
      ],
      "execution_count": 79,
      "outputs": []
    },
    {
      "cell_type": "code",
      "metadata": {
        "colab": {
          "base_uri": "https://localhost:8080/",
          "height": 376
        },
        "id": "COwC7FNZBIyr",
        "outputId": "36d1362e-34bb-4df6-8f9b-9da1afa3132e"
      },
      "source": [
        "import matplotlib.pyplot as plt\n",
        "plt.style.use('seaborn')\n",
        "\n",
        "# plot roc curves\n",
        "plt.plot(fpr_logr, tpr_logr, linestyle='--',color='orange', label='Logistic Regression')\n",
        "plt.plot(fpr_dtc, tpr_dtc, linestyle='--',color='green', label='DT')\n",
        "#plt.plot(fpr_rf, tpr_rf, linestyle='--',color='pink', label='RF')\n",
        "plt.plot(p_fpr, p_tpr, linestyle='--', color='blue')\n",
        "\n",
        "# title\n",
        "plt.title('ROC Curve')\n",
        "# x label\n",
        "plt.xlabel('False Positive Rate')\n",
        "# y label\n",
        "plt.ylabel('True Positive Rate')\n",
        "\n",
        "plt.legend(loc='best')\n",
        "plt.savefig('ROC',dpi=300)\n",
        "plt.show();"
      ],
      "execution_count": 99,
      "outputs": [
        {
          "output_type": "display_data",
          "data": {
            "image/png": "[encoded data removed]",
            "text/plain": [
              "<Figure size 576x396 with 1 Axes>"
            ]
          },
          "metadata": {
            "tags": []
          }
        }
      ]
    },
    {
      "cell_type": "code",
      "metadata": {
        "id": "CZ3ylf85EQ-5"
      },
      "source": [
        "#from joblib import dump, load\n",
        "#dump(dtc, 'logr.joblib') "
      ],
      "execution_count": null,
      "outputs": []
    }
  ]
}