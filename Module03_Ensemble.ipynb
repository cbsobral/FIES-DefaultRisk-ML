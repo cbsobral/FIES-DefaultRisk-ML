{
  "nbformat": 4,
  "nbformat_minor": 0,
  "metadata": {
    "colab": {
      "name": "Module_03_Ensemble_WAvg.ipynb",
      "provenance": [],
      "collapsed_sections": []
    },
    "kernelspec": {
      "display_name": "Python 3",
      "language": "python",
      "name": "python3"
    },
    "language_info": {
      "name": "python"
    }
  },
  "cells": [
    {
      "cell_type": "markdown",
      "metadata": {
        "id": "view-in-github"
      },
      "source": [
        "<a href=\"https://colab.research.google.com/github/cbsobral/ml-fies/blob/main/Module01_Models.ipynb\" target=\"_parent\"><img src=\"https://colab.research.google.com/assets/colab-badge.svg\" alt=\"Open In Colab\"/></a>"
      ]
    },
    {
      "cell_type": "markdown",
      "metadata": {
        "id": "qSSIbHD3ogH6"
      },
      "source": [
        "## Module 03 - WAvg Ensemble\n",
        "\n"
      ]
    },
    {
      "cell_type": "markdown",
      "metadata": {
        "id": "QNfxqJE4km2n"
      },
      "source": [
        "### 1 - Load Data\n",
        "\n",
        "Here, we import the training and testing sets created in Module00_Data. \n"
      ]
    },
    {
      "cell_type": "code",
      "metadata": {
        "colab": {
          "base_uri": "https://localhost:8080/"
        },
        "id": "m1T2rReQkmI5",
        "outputId": "ee1387e8-1b14-4fce-946b-e92ba5b5b003"
      },
      "source": [
        "import pandas as pd\n",
        "\n",
        "url_train = \"https://drive.google.com/file/d/1IP7jyXkLgD_Ouy5cL6fJk4VUA5qRB2PK/view?usp=sharing\"\n",
        "path_train = \"https://drive.google.com/uc?export=download&id=\"+url_train.split(\"/\")[-2]\n",
        "train = pd.read_csv(path_train)\n",
        "train.shape"
      ],
      "execution_count": 1,
      "outputs": [
        {
          "output_type": "execute_result",
          "data": {
            "text/plain": [
              "(351001, 31)"
            ]
          },
          "metadata": {
            "tags": []
          },
          "execution_count": 1
        }
      ]
    },
    {
      "cell_type": "code",
      "metadata": {
        "colab": {
          "base_uri": "https://localhost:8080/"
        },
        "id": "XaJOQTurG_Li",
        "outputId": "1297384c-09c2-4c97-eac2-c98a130c12a2"
      },
      "source": [
        "url_test = \"https://drive.google.com/file/d/1v4FqKwt7NzG5RM6d9f1y7CLIdKq69jSS/view?usp=sharing\"\n",
        "path_test = \"https://drive.google.com/uc?export=download&id=\"+url_test.split(\"/\")[-2]\n",
        "test = pd.read_csv(path_test)\n",
        "test.shape"
      ],
      "execution_count": 2,
      "outputs": [
        {
          "output_type": "execute_result",
          "data": {
            "text/plain": [
              "(87751, 31)"
            ]
          },
          "metadata": {
            "tags": []
          },
          "execution_count": 2
        }
      ]
    },
    {
      "cell_type": "code",
      "metadata": {
        "id": "psNgDRsr2rMz"
      },
      "source": [
        "train_set = train.drop(\"default\", axis=1) # drop targets for training set\n",
        "train_target = train[\"default\"].copy()"
      ],
      "execution_count": 3,
      "outputs": []
    },
    {
      "cell_type": "code",
      "metadata": {
        "id": "CJhx2yRNHRoy"
      },
      "source": [
        "test_set = test.drop(\"default\", axis=1) # drop targets for test set\n",
        "test_target = test[\"default\"].copy()"
      ],
      "execution_count": 4,
      "outputs": []
    },
    {
      "cell_type": "markdown",
      "metadata": {
        "id": "VIJ6MzxrogIO"
      },
      "source": [
        "### 2 - Pipeline\n",
        "\n",
        "The pipeline contains functions that will be used to transform the dataset. For the numeric attributes, the stardardization is performed by the StandardScaler. For ordinal attributes, variables are encoded by the OrdinalEncoder, and for categorical, theOneHotEncoder. "
      ]
    },
    {
      "cell_type": "code",
      "metadata": {
        "id": "NjKb_CdHogIR"
      },
      "source": [
        "from sklearn.pipeline import Pipeline\n",
        "from sklearn.preprocessing import StandardScaler\n",
        "from sklearn.impute import SimpleImputer\n",
        "\n",
        "num_pipeline = Pipeline([(\"num_imputer\", SimpleImputer(strategy=\"median\")),\n",
        "                         (\"std_scaler\", StandardScaler()), \n",
        "                         ])"
      ],
      "execution_count": 5,
      "outputs": []
    },
    {
      "cell_type": "code",
      "metadata": {
        "id": "IGJn2aCfAuXj"
      },
      "source": [
        "from sklearn.pipeline import Pipeline\n",
        "from sklearn.preprocessing import OrdinalEncoder\n",
        "\n",
        "ord_pipeline = Pipeline([(\"ord_imputer\", SimpleImputer(strategy=\"most_frequent\")),\n",
        "                         (\"ord_encoder\", OrdinalEncoder()),\n",
        "                         ])"
      ],
      "execution_count": 6,
      "outputs": []
    },
    {
      "cell_type": "code",
      "metadata": {
        "id": "Fwkc-g3V2fEE"
      },
      "source": [
        "from sklearn.preprocessing import OneHotEncoder\n",
        "\n",
        "cat_pipeline = Pipeline(steps=[('one_hot', OneHotEncoder())])"
      ],
      "execution_count": 7,
      "outputs": []
    },
    {
      "cell_type": "code",
      "metadata": {
        "id": "3gaCsGRFogIR"
      },
      "source": [
        "ord_attribs = [\"igc\",\"date_contract\"] # 2 attributes\n",
        "\n",
        "num_attribs = [\"family_income\",   #17\n",
        "               \"personal_income\",\n",
        "               \"high_school_endyear\",\n",
        "               \"n_sem_course\",\n",
        "               \"n_completed_sem\",\n",
        "               \"sem_funded\",\n",
        "               \"fam_size\",\n",
        "               \"income_pc\",\n",
        "               \"tuition_current\",\n",
        "               \"inc_prop\",\n",
        "               \"perc_requested\",\n",
        "               \"loan_value_sem\",\n",
        "               \"student_resource\",\n",
        "               \"loan_value\",\n",
        "               \"loan_limit\",\n",
        "               \"total_debt\",\n",
        "               \"age\"]\n",
        "  \n",
        "\n",
        "cat_attribs = [\"semester_enroll\",  #9\n",
        "               \"gender\",\n",
        "               \"occupation\", \n",
        "               \"marital_status\",\n",
        "               \"ethnicity\", \n",
        "               \"public_hs\", \n",
        "               \"state_course\", \n",
        "               \"degree\", \n",
        "               \"contract_phase\"]"
      ],
      "execution_count": 8,
      "outputs": []
    },
    {
      "cell_type": "code",
      "metadata": {
        "id": "jgFC9XOHAuXk"
      },
      "source": [
        "from sklearn.compose import ColumnTransformer\n",
        "\n",
        "full_pipeline = ColumnTransformer([\n",
        "        (\"num\", num_pipeline, num_attribs),\n",
        "        (\"cat\", cat_pipeline, cat_attribs),\n",
        "        (\"ord\", ord_pipeline, ord_attribs)\n",
        "        ])"
      ],
      "execution_count": 9,
      "outputs": []
    },
    {
      "cell_type": "code",
      "metadata": {
        "colab": {
          "base_uri": "https://localhost:8080/"
        },
        "id": "BGEokMJdAuXl",
        "outputId": "d44d4f20-543b-4bad-9238-4941d153e3dd"
      },
      "source": [
        "train_prepared = full_pipeline.fit_transform(train_set)\n",
        "train_prepared[:1]"
      ],
      "execution_count": 10,
      "outputs": [
        {
          "output_type": "execute_result",
          "data": {
            "text/plain": [
              "<1x94 sparse matrix of type '<class 'numpy.float64'>'\n",
              "\twith 28 stored elements in Compressed Sparse Row format>"
            ]
          },
          "metadata": {
            "tags": []
          },
          "execution_count": 10
        }
      ]
    },
    {
      "cell_type": "code",
      "metadata": {
        "colab": {
          "base_uri": "https://localhost:8080/"
        },
        "id": "JtlBac6BXY4k",
        "outputId": "72291a2e-83b5-46db-e9e6-dda3aae50734"
      },
      "source": [
        "test_prepared = full_pipeline.fit_transform(test_set)\n",
        "test_prepared[:1]"
      ],
      "execution_count": 11,
      "outputs": [
        {
          "output_type": "execute_result",
          "data": {
            "text/plain": [
              "<1x94 sparse matrix of type '<class 'numpy.float64'>'\n",
              "\twith 28 stored elements in Compressed Sparse Row format>"
            ]
          },
          "metadata": {
            "tags": []
          },
          "execution_count": 11
        }
      ]
    },
    {
      "cell_type": "markdown",
      "metadata": {
        "id": "BwMo644RChXV"
      },
      "source": [
        "### 3 - Ensemble Model\n",
        "\n",
        "\n",
        "\n",
        "\n",
        "\n",
        "\n"
      ]
    },
    {
      "cell_type": "markdown",
      "metadata": {
        "id": "MJjUXTBc5WNH"
      },
      "source": [
        "Preparing under sampling:"
      ]
    },
    {
      "cell_type": "code",
      "metadata": {
        "colab": {
          "base_uri": "https://localhost:8080/"
        },
        "id": "0hAU6HNi4uMz",
        "outputId": "dedbeb06-8d1b-4060-85c5-ef77cc452d62"
      },
      "source": [
        "from imblearn.under_sampling import RandomUnderSampler\n",
        "from imblearn.over_sampling import RandomOverSampler\n",
        "\n",
        "rus = RandomUnderSampler(random_state=42)\n",
        "data_under, target_under = rus.fit_resample(train_prepared, train_target)\n",
        "\n"
      ],
      "execution_count": 12,
      "outputs": [
        {
          "output_type": "stream",
          "text": [
            "/usr/local/lib/python3.7/dist-packages/sklearn/externals/six.py:31: FutureWarning: The module is deprecated in version 0.21 and will be removed in version 0.23 since we've dropped support for Python 2.7. Please rely on the official version of six (https://pypi.org/project/six/).\n",
            "  \"(https://pypi.org/project/six/).\", FutureWarning)\n",
            "/usr/local/lib/python3.7/dist-packages/sklearn/utils/deprecation.py:144: FutureWarning: The sklearn.neighbors.base module is  deprecated in version 0.22 and will be removed in version 0.24. The corresponding classes / functions should instead be imported from sklearn.neighbors. Anything that cannot be imported from sklearn.neighbors is now part of the private API.\n",
            "  warnings.warn(message, FutureWarning)\n",
            "/usr/local/lib/python3.7/dist-packages/sklearn/utils/deprecation.py:87: FutureWarning: Function safe_indexing is deprecated; safe_indexing is deprecated in version 0.22 and will be removed in version 0.24.\n",
            "  warnings.warn(msg, category=FutureWarning)\n"
          ],
          "name": "stderr"
        }
      ]
    },
    {
      "cell_type": "markdown",
      "metadata": {
        "id": "PAZEJPDb5c8O"
      },
      "source": [
        "Random Forest:"
      ]
    },
    {
      "cell_type": "code",
      "metadata": {
        "id": "GvxbfqOb9BB4"
      },
      "source": [
        "from sklearn.ensemble import RandomForestClassifier\n",
        "\n",
        "RF = RandomForestClassifier(bootstrap = False, \n",
        "                            criterion = 'entropy', \n",
        "                            max_depth = 30, \n",
        "                            max_features = 'auto', \n",
        "                            min_samples_leaf= 2,\n",
        "                            min_samples_split = 2,\n",
        "                            n_estimators = 300,\n",
        "                            random_state= 42)"
      ],
      "execution_count": 13,
      "outputs": []
    },
    {
      "cell_type": "markdown",
      "metadata": {
        "id": "RvCjHq-l5gvh"
      },
      "source": [
        "ANN:"
      ]
    },
    {
      "cell_type": "code",
      "metadata": {
        "id": "UbGcoN8m5qVa"
      },
      "source": [
        "from sklearn.neural_network import MLPClassifier\n",
        "\n",
        "MLP = MLPClassifier(activation = 'relu',\n",
        "                    alpha = 0.0001,\n",
        "                    hidden_layer_sizes = (27, 16),\n",
        "                    learning_rate = 'adaptive',\n",
        "                    solver = 'adam', \n",
        "                    random_state=42)"
      ],
      "execution_count": 15,
      "outputs": []
    },
    {
      "cell_type": "markdown",
      "metadata": {
        "id": "kTdy5OkQ6hXa"
      },
      "source": [
        "Logistic Regression:"
      ]
    },
    {
      "cell_type": "code",
      "metadata": {
        "id": "WdzrtXX36moB"
      },
      "source": [
        "from sklearn.linear_model import LogisticRegression\n",
        "\n",
        "LR = LogisticRegression(solver = 'liblinear', penalty = 'l1', max_iter= 200, C = 0.1)"
      ],
      "execution_count": 16,
      "outputs": []
    },
    {
      "cell_type": "markdown",
      "metadata": {
        "id": "7oY15RA3-Ahb"
      },
      "source": [
        "### Ensemble model\n",
        "\n",
        "Our initial idea was to employ weights proportional to the AUC of each model. In this context, Logistic Regression would contribute 0.3; Random forest 0.34; and ANN, 0.36.\n"
      ]
    },
    {
      "cell_type": "code",
      "metadata": {
        "colab": {
          "base_uri": "https://localhost:8080/"
        },
        "id": "m-uWRSRS8YGY",
        "outputId": "12e85da3-782d-45db-c5b8-7eda20db0807"
      },
      "source": [
        "from sklearn.ensemble import VotingClassifier\n",
        "from sklearn.metrics import roc_auc_score\n",
        "from sklearn.metrics import brier_score_loss\n",
        "\n",
        "WAvg = VotingClassifier(estimators=[('LR', LR), ('RF', RF), ('ANN', MLP)],\n",
        "        voting='soft', weights=[0.3,0.34,0.36],\n",
        "        flatten_transform=True)\n",
        "\n",
        "WAvg.fit(data_under, target_under)\n",
        "\n",
        "pred_WAvg = WAvg.predict_proba(test_prepared)\n",
        "\n",
        "auc_WAvg = roc_auc_score(test_target, pred_WAvg[:,1])\n",
        "loss_WAvg = brier_score_loss(test_target, pred_WAvg[:,1])\n",
        "\n",
        "\n",
        "\n"
      ],
      "execution_count": 18,
      "outputs": [
        {
          "output_type": "stream",
          "text": [
            "/usr/local/lib/python3.7/dist-packages/sklearn/neural_network/_multilayer_perceptron.py:571: ConvergenceWarning: Stochastic Optimizer: Maximum iterations (200) reached and the optimization hasn't converged yet.\n",
            "  % self.max_iter, ConvergenceWarning)\n"
          ],
          "name": "stderr"
        }
      ]
    },
    {
      "cell_type": "code",
      "metadata": {
        "colab": {
          "base_uri": "https://localhost:8080/"
        },
        "id": "GTgZZcJAwg9Q",
        "outputId": "6ff9ee32-2a1c-4eeb-ad34-3521ae9f6799"
      },
      "source": [
        "print(auc_WAvg, loss_WAvg)"
      ],
      "execution_count": 41,
      "outputs": [
        {
          "output_type": "stream",
          "text": [
            "0.820519658482 0.1787519176544454\n"
          ],
          "name": "stdout"
        }
      ]
    },
    {
      "cell_type": "markdown",
      "metadata": {
        "id": "Bu_hTXWhZEiA"
      },
      "source": [
        "The weights proportional to the AUC resulted in lower performance than the ANN model alone: AUC = 0.8205 , BS = 0.1787\n",
        "\n",
        "Because of that, we decided to test alternative set of weights."
      ]
    },
    {
      "cell_type": "markdown",
      "metadata": {
        "id": "Fxs4MxPwaqR-"
      },
      "source": [
        "In the next code blocks we progressevely increased the weight of the ANN to see how the ensemble's performance would react. "
      ]
    },
    {
      "cell_type": "code",
      "metadata": {
        "colab": {
          "base_uri": "https://localhost:8080/"
        },
        "id": "KEbhM32daFcm",
        "outputId": "8b1999e1-8193-44ed-f5f8-761ff893df2c"
      },
      "source": [
        "from sklearn.ensemble import RandomForestClassifier, VotingClassifier\n",
        "from sklearn.metrics import roc_auc_score\n",
        "from sklearn.metrics import brier_score_loss\n",
        "\n",
        "WAvg = VotingClassifier(estimators=[('LR', LR), ('RF', RF), ('ANN', MLP)],\n",
        "        voting='soft', weights=[0.2,0.35,0.45],\n",
        "        flatten_transform=True)\n",
        "\n",
        "WAvg.fit(data_under, target_under)\n",
        "\n",
        "pred_WAvg = WAvg.predict_proba(test_prepared)\n",
        "\n",
        "auc_WAvg = roc_auc_score(test_target, pred_WAvg[:,1])\n",
        "loss_WAvg = brier_score_loss(test_target, pred_WAvg[:,1])\n",
        "\n",
        "print(auc_WAvg, loss_WAvg)"
      ],
      "execution_count": 16,
      "outputs": [
        {
          "output_type": "stream",
          "text": [
            "/usr/local/lib/python3.7/dist-packages/sklearn/neural_network/_multilayer_perceptron.py:571: ConvergenceWarning: Stochastic Optimizer: Maximum iterations (200) reached and the optimization hasn't converged yet.\n",
            "  % self.max_iter, ConvergenceWarning)\n"
          ],
          "name": "stderr"
        },
        {
          "output_type": "stream",
          "text": [
            "0.8284679308721057 0.17348547312758927\n"
          ],
          "name": "stdout"
        }
      ]
    },
    {
      "cell_type": "code",
      "metadata": {
        "colab": {
          "base_uri": "https://localhost:8080/"
        },
        "id": "eEejzSeg8gPQ",
        "outputId": "2da7c73b-7388-481f-9a85-3371331bb3bd"
      },
      "source": [
        "from sklearn.ensemble import RandomForestClassifier, VotingClassifier\n",
        "from sklearn.metrics import roc_auc_score\n",
        "from sklearn.metrics import brier_score_loss\n",
        "\n",
        "WAvg = VotingClassifier(estimators=[('LR', LR), ('RF', RF), ('ANN', MLP)],\n",
        "        voting='soft', weights=[0.15,0.2,0.65],\n",
        "        flatten_transform=True)\n",
        "\n",
        "WAvg.fit(data_under, target_under)\n",
        "\n",
        "pred_WAvg = WAvg.predict_proba(test_prepared)\n",
        "\n",
        "auc_WAvg = roc_auc_score(test_target, pred_WAvg[:,1])\n",
        "loss_WAvg = brier_score_loss(test_target, pred_WAvg[:,1])\n",
        "\n",
        "print(auc_WAvg, loss_WAvg)"
      ],
      "execution_count": 17,
      "outputs": [
        {
          "output_type": "stream",
          "text": [
            "/usr/local/lib/python3.7/dist-packages/sklearn/neural_network/_multilayer_perceptron.py:571: ConvergenceWarning: Stochastic Optimizer: Maximum iterations (200) reached and the optimization hasn't converged yet.\n",
            "  % self.max_iter, ConvergenceWarning)\n"
          ],
          "name": "stderr"
        },
        {
          "output_type": "stream",
          "text": [
            "0.8337407552136231 0.1688858388253113\n"
          ],
          "name": "stdout"
        }
      ]
    },
    {
      "cell_type": "markdown",
      "metadata": {
        "id": "JIFWZASTb2Rt"
      },
      "source": [
        "\n",
        "\n"
      ]
    },
    {
      "cell_type": "code",
      "metadata": {
        "colab": {
          "base_uri": "https://localhost:8080/"
        },
        "id": "HMKwD5E1EVFO",
        "outputId": "5a318215-3db6-441b-c8a5-b39d0484b6c1"
      },
      "source": [
        "# Best Model:\n",
        "from sklearn.ensemble import RandomForestClassifier, VotingClassifier\n",
        "from sklearn.metrics import roc_auc_score\n",
        "from sklearn.metrics import brier_score_loss\n",
        "\n",
        "WAvg = VotingClassifier(estimators=[('LR', LR), ('RF', RF), ('ANN', MLP)],\n",
        "        voting='soft', weights=[0.05,0.15,0.8],\n",
        "        flatten_transform=True)\n",
        "\n",
        "WAvg.fit(data_under, target_under)\n",
        "\n",
        "pred_WAvg = WAvg.predict_proba(test_prepared)\n",
        "\n",
        "auc_WAvg = roc_auc_score(test_target, pred_WAvg[:,1])\n",
        "loss_WAvg = brier_score_loss(test_target, pred_WAvg[:,1])\n",
        "\n",
        "print(auc_WAvg, loss_WAvg)"
      ],
      "execution_count": 45,
      "outputs": [
        {
          "output_type": "stream",
          "text": [
            "/usr/local/lib/python3.7/dist-packages/sklearn/neural_network/_multilayer_perceptron.py:571: ConvergenceWarning: Stochastic Optimizer: Maximum iterations (200) reached and the optimization hasn't converged yet.\n",
            "  % self.max_iter, ConvergenceWarning)\n"
          ],
          "name": "stderr"
        },
        {
          "output_type": "stream",
          "text": [
            "0.8354916321533894 0.16666746481378988\n"
          ],
          "name": "stdout"
        }
      ]
    },
    {
      "cell_type": "code",
      "metadata": {
        "colab": {
          "base_uri": "https://localhost:8080/"
        },
        "id": "JNRhBy9dSmuF",
        "outputId": "6059ecec-abc6-4eee-8dd1-fa8bb1d33093"
      },
      "source": [
        "import joblib\n",
        "\n",
        "filename = 'BestWAvg.sav'\n",
        "joblib.dump(WAvg, filename, compress=3)"
      ],
      "execution_count": 46,
      "outputs": [
        {
          "output_type": "execute_result",
          "data": {
            "text/plain": [
              "['BestWAvg.sav']"
            ]
          },
          "metadata": {
            "tags": []
          },
          "execution_count": 46
        }
      ]
    },
    {
      "cell_type": "code",
      "metadata": {
        "colab": {
          "base_uri": "https://localhost:8080/"
        },
        "id": "OaiyCMy53nrn",
        "outputId": "21eb35b7-0986-4193-ba4c-1fe0155546a3"
      },
      "source": [
        "from sklearn.ensemble import RandomForestClassifier, VotingClassifier\n",
        "from sklearn.metrics import roc_auc_score\n",
        "from sklearn.metrics import brier_score_loss\n",
        "\n",
        "WAvg = VotingClassifier(estimators=[('LR', LR), ('RF', RF), ('ANN', MLP)],\n",
        "        voting='soft', weights=[0.05,0.1,0.85],\n",
        "        flatten_transform=True)\n",
        "\n",
        "WAvg.fit(data_under, target_under)\n",
        "\n",
        "pred_WAvg = WAvg.predict_proba(test_prepared)\n",
        "\n",
        "auc_WAvg = roc_auc_score(test_target, pred_WAvg[:,1])\n",
        "loss_WAvg = brier_score_loss(test_target, pred_WAvg[:,1])\n",
        "\n",
        "print(auc_WAvg, loss_WAvg)"
      ],
      "execution_count": 19,
      "outputs": [
        {
          "output_type": "stream",
          "text": [
            "/usr/local/lib/python3.7/dist-packages/sklearn/neural_network/_multilayer_perceptron.py:571: ConvergenceWarning: Stochastic Optimizer: Maximum iterations (200) reached and the optimization hasn't converged yet.\n",
            "  % self.max_iter, ConvergenceWarning)\n"
          ],
          "name": "stderr"
        },
        {
          "output_type": "stream",
          "text": [
            "0.8352918090809327 0.1664877713156028\n"
          ],
          "name": "stdout"
        }
      ]
    },
    {
      "cell_type": "code",
      "metadata": {
        "colab": {
          "base_uri": "https://localhost:8080/"
        },
        "id": "p5d3hq9mRDND",
        "outputId": "76411e91-e3c0-4f88-ed2b-dbae7980d5ef"
      },
      "source": [
        "from sklearn.ensemble import RandomForestClassifier, VotingClassifier\n",
        "from sklearn.metrics import roc_auc_score\n",
        "from sklearn.metrics import brier_score_loss\n",
        "\n",
        "WAvg = VotingClassifier(estimators=[('LR', LR), ('RF', RF), ('ANN', MLP)],\n",
        "        voting='soft', weights=[0.02,0.03,0.95],\n",
        "        flatten_transform=True)\n",
        "\n",
        "WAvg.fit(data_under, target_under)\n",
        "\n",
        "pred_WAvg = WAvg.predict_proba(test_prepared)\n",
        "\n",
        "auc_WAvg = roc_auc_score(test_target, pred_WAvg[:,1])\n",
        "loss_WAvg = brier_score_loss(test_target, pred_WAvg[:,1])\n",
        "\n",
        "print(auc_WAvg, loss_WAvg)"
      ],
      "execution_count": 20,
      "outputs": [
        {
          "output_type": "stream",
          "text": [
            "/usr/local/lib/python3.7/dist-packages/sklearn/neural_network/_multilayer_perceptron.py:571: ConvergenceWarning: Stochastic Optimizer: Maximum iterations (200) reached and the optimization hasn't converged yet.\n",
            "  % self.max_iter, ConvergenceWarning)\n"
          ],
          "name": "stderr"
        },
        {
          "output_type": "stream",
          "text": [
            "0.8347659485266183 0.16642469743245566\n"
          ],
          "name": "stdout"
        }
      ]
    },
    {
      "cell_type": "markdown",
      "metadata": {
        "id": "A4oIRm_UPBlv"
      },
      "source": [
        "Evaluating different sets of weights:"
      ]
    },
    {
      "cell_type": "code",
      "metadata": {
        "colab": {
          "base_uri": "https://localhost:8080/",
          "height": 235
        },
        "id": "-FTNuNS0PMKH",
        "outputId": "3db2b729-0039-4f83-c3bc-7df31411be56"
      },
      "source": [
        "import pandas as pd\n",
        "\n",
        "data = {\"weight_LR\": [0.05, 0.30, 0.2, 0.15, 0.05, 0.02],\n",
        "        \"weight_RF\": [0.15, 0.34, 0.35, 0.2, 0.1, 0.03],\n",
        "        \"weight_ANN\": [0.80, 0.36, 0.45, 0.65, 0.85, 0.95],\n",
        "        \"AUC_ensemble\":[0.8354,0.8205,0.8284, 0.8337, 0.8352, 0.8347],\n",
        "        \"BS_ensemble\":[0.1666,0.1787, 0.1734, 0.1688, 0.1664, 0.1664]}\n",
        "\n",
        "OptimalWeights = pd.DataFrame(data)\n",
        "OptimalWeights.sort_values(by = \"AUC_ensemble\", ascending=False)\n"
      ],
      "execution_count": 22,
      "outputs": [
        {
          "output_type": "execute_result",
          "data": {
            "text/html": [
              "<div>\n",
              "<style scoped>\n",
              "    .dataframe tbody tr th:only-of-type {\n",
              "        vertical-align: middle;\n",
              "    }\n",
              "\n",
              "    .dataframe tbody tr th {\n",
              "        vertical-align: top;\n",
              "    }\n",
              "\n",
              "    .dataframe thead th {\n",
              "        text-align: right;\n",
              "    }\n",
              "</style>\n",
              "<table border=\"1\" class=\"dataframe\">\n",
              "  <thead>\n",
              "    <tr style=\"text-align: right;\">\n",
              "      <th></th>\n",
              "      <th>weight_LR</th>\n",
              "      <th>weight_RF</th>\n",
              "      <th>weight_ANN</th>\n",
              "      <th>AUC_ensemble</th>\n",
              "      <th>BS_ensemble</th>\n",
              "    </tr>\n",
              "  </thead>\n",
              "  <tbody>\n",
              "    <tr>\n",
              "      <th>0</th>\n",
              "      <td>0.05</td>\n",
              "      <td>0.15</td>\n",
              "      <td>0.80</td>\n",
              "      <td>0.8354</td>\n",
              "      <td>0.1666</td>\n",
              "    </tr>\n",
              "    <tr>\n",
              "      <th>4</th>\n",
              "      <td>0.05</td>\n",
              "      <td>0.10</td>\n",
              "      <td>0.85</td>\n",
              "      <td>0.8352</td>\n",
              "      <td>0.1664</td>\n",
              "    </tr>\n",
              "    <tr>\n",
              "      <th>5</th>\n",
              "      <td>0.02</td>\n",
              "      <td>0.03</td>\n",
              "      <td>0.95</td>\n",
              "      <td>0.8347</td>\n",
              "      <td>0.1664</td>\n",
              "    </tr>\n",
              "    <tr>\n",
              "      <th>3</th>\n",
              "      <td>0.15</td>\n",
              "      <td>0.20</td>\n",
              "      <td>0.65</td>\n",
              "      <td>0.8337</td>\n",
              "      <td>0.1688</td>\n",
              "    </tr>\n",
              "    <tr>\n",
              "      <th>2</th>\n",
              "      <td>0.20</td>\n",
              "      <td>0.35</td>\n",
              "      <td>0.45</td>\n",
              "      <td>0.8284</td>\n",
              "      <td>0.1734</td>\n",
              "    </tr>\n",
              "    <tr>\n",
              "      <th>1</th>\n",
              "      <td>0.30</td>\n",
              "      <td>0.34</td>\n",
              "      <td>0.36</td>\n",
              "      <td>0.8205</td>\n",
              "      <td>0.1787</td>\n",
              "    </tr>\n",
              "  </tbody>\n",
              "</table>\n",
              "</div>"
            ],
            "text/plain": [
              "   weight_LR  weight_RF  weight_ANN  AUC_ensemble  BS_ensemble\n",
              "0       0.05       0.15        0.80        0.8354       0.1666\n",
              "4       0.05       0.10        0.85        0.8352       0.1664\n",
              "5       0.02       0.03        0.95        0.8347       0.1664\n",
              "3       0.15       0.20        0.65        0.8337       0.1688\n",
              "2       0.20       0.35        0.45        0.8284       0.1734\n",
              "1       0.30       0.34        0.36        0.8205       0.1787"
            ]
          },
          "metadata": {
            "tags": []
          },
          "execution_count": 22
        }
      ]
    },
    {
      "cell_type": "code",
      "metadata": {
        "colab": {
          "base_uri": "https://localhost:8080/",
          "height": 416
        },
        "id": "vGNv1CrPr6r4",
        "outputId": "322a95e0-81de-4eb5-f7a1-e2e5ac12c322"
      },
      "source": [
        "import matplotlib.pyplot as plt \n",
        "import seaborn as sns\n",
        "sns.set_style(\"whitegrid\")\n",
        "sns.set_palette(\"husl\",3)\n",
        "ax = sns.lmplot(x= \"weight_ANN\", \n",
        "           y= \"AUC_ensemble\", \n",
        "           order = 2, \n",
        "           data = OptimalWeights,\n",
        "           scatter_kws = {\"color\": 'firebrick'},\n",
        "           line_kws = {\"color\": \"lightgray\"},\n",
        "           ci=None)\n",
        "ax.set(ylim=(0.818, 0.8375), xlim=(0.2, 1.1))\n",
        "ax.set_axis_labels(\"Weight of the ANN model - in percentage of total weights\",\"AUC of the ensemble model (WAvg)\")\n",
        "plt.title('Optimal Weights')\n",
        "plt.hlines(y=0.8354, xmin=0, xmax=0.8, color='firebrick', linestyle = \"--\", alpha =0.5)\n",
        "plt.vlines(x=0.8, ymin=0, ymax=0.8354, color='firebrick', linestyle = \"--\", alpha =0.5)"
      ],
      "execution_count": 47,
      "outputs": [
        {
          "output_type": "execute_result",
          "data": {
            "text/plain": [
              "<matplotlib.collections.LineCollection at 0x7f6fec0f6a90>"
            ]
          },
          "metadata": {
            "tags": []
          },
          "execution_count": 47
        },
        {
          "output_type": "display_data",
          "data": {
            "image/png": "[encoded data removed]",
            "text/plain": [
              "<Figure size 360x360 with 1 Axes>"
            ]
          },
          "metadata": {
            "tags": []
          }
        }
      ]
    },
    {
      "cell_type": "markdown",
      "metadata": {
        "id": "oEXBsUBVu2wi"
      },
      "source": [
        "Feature Importance"
      ]
    },
    {
      "cell_type": "code",
      "metadata": {
        "id": "7ya1A9ywtAxh"
      },
      "source": [
        "def get_feature_names(column_transformer):\n",
        "    \"\"\"Get feature names from all transformers.\n",
        "    Returns\n",
        "    -------\n",
        "    feature_names : list of strings\n",
        "        Names of the features produced by transform.\n",
        "    \"\"\"\n",
        "    # Remove the internal helper function\n",
        "    #check_is_fitted(column_transformer)\n",
        "    \n",
        "    # Turn loopkup into function for better handling with pipeline later\n",
        "    def get_names(trans):\n",
        "        # >> Original get_feature_names() method\n",
        "        if trans == 'drop' or (\n",
        "                hasattr(column, '__len__') and not len(column)):\n",
        "            return []\n",
        "        if trans == 'passthrough':\n",
        "            if hasattr(column_transformer, '_df_columns'):\n",
        "                if ((not isinstance(column, slice))\n",
        "                        and all(isinstance(col, str) for col in column)):\n",
        "                    return column\n",
        "                else:\n",
        "                    return column_transformer._df_columns[column]\n",
        "            else:\n",
        "                indices = np.arange(column_transformer._n_features)\n",
        "                return ['x%d' % i for i in indices[column]]\n",
        "        if not hasattr(trans, 'get_feature_names'):\n",
        "        # >>> Change: Return input column names if no method avaiable\n",
        "            # Turn error into a warning\n",
        "            warnings.warn(\"Transformer %s (type %s) does not \"\n",
        "                                 \"provide get_feature_names. \"\n",
        "                                 \"Will return input column names if available\"\n",
        "                                 % (str(name), type(trans).__name__))\n",
        "            # For transformers without a get_features_names method, use the input\n",
        "            # names to the column transformer\n",
        "            if column is None:\n",
        "                return []\n",
        "            else:\n",
        "                return [name + \"__\" + f for f in column]\n",
        "\n",
        "        return [name + \"__\" + f for f in trans.get_feature_names()]\n",
        "    \n",
        "    ### Start of processing\n",
        "    feature_names = []\n",
        "    \n",
        "    # Allow transformers to be pipelines. Pipeline steps are named differently, so preprocessing is needed\n",
        "    if type(column_transformer) == sklearn.pipeline.Pipeline:\n",
        "        l_transformers = [(name, trans, None, None) for step, name, trans in column_transformer._iter()]\n",
        "    else:\n",
        "        # For column transformers, follow the original method\n",
        "        l_transformers = list(column_transformer._iter(fitted=True))\n",
        "    \n",
        "    \n",
        "    for name, trans, column, _ in l_transformers: \n",
        "        if type(trans) == sklearn.pipeline.Pipeline:\n",
        "            # Recursive call on pipeline\n",
        "            _names = get_feature_names(trans)\n",
        "            # if pipeline has no transformer that returns names\n",
        "            if len(_names)==0:\n",
        "                _names = [name + \"__\" + f for f in column]\n",
        "            feature_names.extend(_names)\n",
        "        else:\n",
        "            feature_names.extend(get_names(trans))\n",
        "    \n",
        "    return feature_names"
      ],
      "execution_count": 17,
      "outputs": []
    },
    {
      "cell_type": "code",
      "metadata": {
        "colab": {
          "base_uri": "https://localhost:8080/"
        },
        "id": "zgBhuaC1u9W7",
        "outputId": "1bd4fa79-34d5-412b-c1be-a6a1ff2ed5d5"
      },
      "source": [
        "import warnings\n",
        "import sklearn\n",
        "import pandas as pd\n",
        "feature_names = get_feature_names(full_pipeline)\n",
        "feature_names"
      ],
      "execution_count": 19,
      "outputs": [
        {
          "output_type": "stream",
          "text": [
            "/usr/local/lib/python3.7/dist-packages/ipykernel_launcher.py:33: UserWarning: Transformer num_imputer (type SimpleImputer) does not provide get_feature_names. Will return input column names if available\n",
            "/usr/local/lib/python3.7/dist-packages/ipykernel_launcher.py:33: UserWarning: Transformer std_scaler (type StandardScaler) does not provide get_feature_names. Will return input column names if available\n",
            "/usr/local/lib/python3.7/dist-packages/ipykernel_launcher.py:33: UserWarning: Transformer ord_imputer (type SimpleImputer) does not provide get_feature_names. Will return input column names if available\n",
            "/usr/local/lib/python3.7/dist-packages/ipykernel_launcher.py:33: UserWarning: Transformer ord_encoder (type OrdinalEncoder) does not provide get_feature_names. Will return input column names if available\n"
          ],
          "name": "stderr"
        },
        {
          "output_type": "execute_result",
          "data": {
            "text/plain": [
              "['num__family_income',\n",
              " 'num__personal_income',\n",
              " 'num__high_school_endyear',\n",
              " 'num__n_sem_course',\n",
              " 'num__n_completed_sem',\n",
              " 'num__sem_funded',\n",
              " 'num__fam_size',\n",
              " 'num__income_pc',\n",
              " 'num__tuition_current',\n",
              " 'num__inc_prop',\n",
              " 'num__perc_requested',\n",
              " 'num__loan_value_sem',\n",
              " 'num__student_resource',\n",
              " 'num__loan_value',\n",
              " 'num__loan_limit',\n",
              " 'num__total_debt',\n",
              " 'num__age',\n",
              " 'one_hot__x0_12012',\n",
              " 'one_hot__x0_12013',\n",
              " 'one_hot__x0_12014',\n",
              " 'one_hot__x0_22012',\n",
              " 'one_hot__x0_22013',\n",
              " 'one_hot__x0_22014',\n",
              " 'one_hot__x0_before 2012',\n",
              " 'one_hot__x1_F',\n",
              " 'one_hot__x1_M',\n",
              " 'one_hot__x2_Estudante',\n",
              " 'one_hot__x2_OUTRAS',\n",
              " 'one_hot__x3_Casado',\n",
              " 'one_hot__x3_Divorciado',\n",
              " 'one_hot__x3_Separado',\n",
              " 'one_hot__x3_Solteiro',\n",
              " 'one_hot__x3_UniÃ£o estÃ¡vel',\n",
              " 'one_hot__x3_ViÃºvo',\n",
              " 'one_hot__x4_A',\n",
              " 'one_hot__x4_B',\n",
              " 'one_hot__x4_I',\n",
              " 'one_hot__x4_N',\n",
              " 'one_hot__x4_P',\n",
              " 'one_hot__x5_N',\n",
              " 'one_hot__x5_P',\n",
              " 'one_hot__x5_S',\n",
              " 'one_hot__x6_AC',\n",
              " 'one_hot__x6_AL',\n",
              " 'one_hot__x6_AM',\n",
              " 'one_hot__x6_AP',\n",
              " 'one_hot__x6_BA',\n",
              " 'one_hot__x6_CE',\n",
              " 'one_hot__x6_DF',\n",
              " 'one_hot__x6_ES',\n",
              " 'one_hot__x6_GO',\n",
              " 'one_hot__x6_MA',\n",
              " 'one_hot__x6_MG',\n",
              " 'one_hot__x6_MS',\n",
              " 'one_hot__x6_MT',\n",
              " 'one_hot__x6_PA',\n",
              " 'one_hot__x6_PB',\n",
              " 'one_hot__x6_PE',\n",
              " 'one_hot__x6_PI',\n",
              " 'one_hot__x6_PR',\n",
              " 'one_hot__x6_RJ',\n",
              " 'one_hot__x6_RN',\n",
              " 'one_hot__x6_RO',\n",
              " 'one_hot__x6_RR',\n",
              " 'one_hot__x6_RS',\n",
              " 'one_hot__x6_SC',\n",
              " 'one_hot__x6_SE',\n",
              " 'one_hot__x6_SP',\n",
              " 'one_hot__x6_TO',\n",
              " 'one_hot__x7_ADMINISTRAÇÃO',\n",
              " 'one_hot__x7_ARQUITETURA E URBANISMO',\n",
              " 'one_hot__x7_BIOMEDICINA',\n",
              " 'one_hot__x7_CIÊNCIAS CONTÁBEIS',\n",
              " 'one_hot__x7_DIREITO',\n",
              " 'one_hot__x7_EDUCAÇÃO FÍSICA',\n",
              " 'one_hot__x7_ENFERMAGEM',\n",
              " 'one_hot__x7_ENGENHARIA CIVIL',\n",
              " 'one_hot__x7_ENGENHARIA DE PRODUÇÃO',\n",
              " 'one_hot__x7_ENGENHARIA ELÉTRICA',\n",
              " 'one_hot__x7_ENGENHARIA MECÂNICA',\n",
              " 'one_hot__x7_FARMÁCIA',\n",
              " 'one_hot__x7_FISIOTERAPIA',\n",
              " 'one_hot__x7_GESTÃO DE RECURSOS HUMANOS',\n",
              " 'one_hot__x7_MEDICINA',\n",
              " 'one_hot__x7_NUTRIÇÃO',\n",
              " 'one_hot__x7_ODONTOLOGIA',\n",
              " 'one_hot__x7_OUTROS',\n",
              " 'one_hot__x7_PEDAGOGIA',\n",
              " 'one_hot__x7_PSICOLOGIA',\n",
              " 'one_hot__x7_SERVIÇO SOCIAL',\n",
              " 'one_hot__x8_Amortizacao',\n",
              " 'one_hot__x8_Liquidacao',\n",
              " 'ord__igc',\n",
              " 'ord__date_contract']"
            ]
          },
          "metadata": {
            "tags": []
          },
          "execution_count": 19
        }
      ]
    },
    {
      "cell_type": "code",
      "metadata": {
        "colab": {
          "base_uri": "https://localhost:8080/"
        },
        "id": "8q1z4vmXvQ-3",
        "outputId": "1a598b3f-a1eb-4289-a31d-e1069ac3888e"
      },
      "source": [
        "pip install eli5"
      ],
      "execution_count": 20,
      "outputs": [
        {
          "output_type": "stream",
          "text": [
            "Collecting eli5\n",
            "\u001b[?25l  Downloading https://files.pythonhosted.org/packages/d1/54/04cab6e1c0ae535bec93f795d8403fdf6caf66fa5a6512263202dbb14ea6/eli5-0.11.0-py2.py3-none-any.whl (106kB)\n",
            "\r\u001b[K     |███                             | 10kB 18.7MB/s eta 0:00:01\r\u001b[K     |██████▏                         | 20kB 23.3MB/s eta 0:00:01\r\u001b[K     |█████████▎                      | 30kB 25.8MB/s eta 0:00:01\r\u001b[K     |████████████▍                   | 40kB 19.1MB/s eta 0:00:01\r\u001b[K     |███████████████▌                | 51kB 16.5MB/s eta 0:00:01\r\u001b[K     |██████████████████▌             | 61kB 18.7MB/s eta 0:00:01\r\u001b[K     |█████████████████████▋          | 71kB 13.5MB/s eta 0:00:01\r\u001b[K     |████████████████████████▊       | 81kB 14.4MB/s eta 0:00:01\r\u001b[K     |███████████████████████████▉    | 92kB 14.8MB/s eta 0:00:01\r\u001b[K     |███████████████████████████████ | 102kB 14.1MB/s eta 0:00:01\r\u001b[K     |████████████████████████████████| 112kB 14.1MB/s \n",
            "\u001b[?25hRequirement already satisfied: numpy>=1.9.0 in /usr/local/lib/python3.7/dist-packages (from eli5) (1.19.5)\n",
            "Requirement already satisfied: six in /usr/local/lib/python3.7/dist-packages (from eli5) (1.15.0)\n",
            "Requirement already satisfied: graphviz in /usr/local/lib/python3.7/dist-packages (from eli5) (0.10.1)\n",
            "Requirement already satisfied: jinja2 in /usr/local/lib/python3.7/dist-packages (from eli5) (2.11.3)\n",
            "Requirement already satisfied: tabulate>=0.7.7 in /usr/local/lib/python3.7/dist-packages (from eli5) (0.8.9)\n",
            "Requirement already satisfied: attrs>16.0.0 in /usr/local/lib/python3.7/dist-packages (from eli5) (20.3.0)\n",
            "Requirement already satisfied: scikit-learn>=0.20 in /usr/local/lib/python3.7/dist-packages (from eli5) (0.22.2.post1)\n",
            "Requirement already satisfied: scipy in /usr/local/lib/python3.7/dist-packages (from eli5) (1.4.1)\n",
            "Requirement already satisfied: MarkupSafe>=0.23 in /usr/local/lib/python3.7/dist-packages (from jinja2->eli5) (1.1.1)\n",
            "Requirement already satisfied: joblib>=0.11 in /usr/local/lib/python3.7/dist-packages (from scikit-learn>=0.20->eli5) (1.0.1)\n",
            "Installing collected packages: eli5\n",
            "Successfully installed eli5-0.11.0\n"
          ],
          "name": "stdout"
        }
      ]
    },
    {
      "cell_type": "code",
      "metadata": {
        "id": "cs_1Og2gcfox"
      },
      "source": [
        "import joblib\n",
        "\n",
        "WAvg = joblib.load('BestWAvg.sav')"
      ],
      "execution_count": 22,
      "outputs": []
    },
    {
      "cell_type": "code",
      "metadata": {
        "colab": {
          "base_uri": "https://localhost:8080/",
          "height": 445
        },
        "id": "xHptYbGEvLlB",
        "outputId": "5896a339-b90f-44b9-ec46-8bda6e7f3b35"
      },
      "source": [
        "import eli5\n",
        "from eli5.sklearn import PermutationImportance\n",
        "\n",
        "\n",
        "# convert to dense array\n",
        "test_prep_dense = test_prepared.toarray()\n",
        "\n",
        "perm = PermutationImportance(WAvg, random_state=42).fit(test_prep_dense, test_target)\n",
        "\n",
        "eli5.show_weights(perm, feature_names = feature_names)"
      ],
      "execution_count": 23,
      "outputs": [
        {
          "output_type": "stream",
          "text": [
            "/usr/local/lib/python3.7/dist-packages/sklearn/utils/deprecation.py:144: FutureWarning: The sklearn.feature_selection.base module is  deprecated in version 0.22 and will be removed in version 0.24. The corresponding classes / functions should instead be imported from sklearn.feature_selection. Anything that cannot be imported from sklearn.feature_selection is now part of the private API.\n",
            "  warnings.warn(message, FutureWarning)\n"
          ],
          "name": "stderr"
        },
        {
          "output_type": "execute_result",
          "data": {
            "text/html": [
              "\n",
              "    <style>\n",
              "    table.eli5-weights tr:hover {\n",
              "        filter: brightness(85%);\n",
              "    }\n",
              "</style>\n",
              "\n",
              "\n",
              "\n",
              "    \n",
              "\n",
              "    \n",
              "\n",
              "    \n",
              "\n",
              "    \n",
              "\n",
              "    \n",
              "\n",
              "    \n",
              "\n",
              "\n",
              "    \n",
              "\n",
              "    \n",
              "\n",
              "    \n",
              "\n",
              "    \n",
              "\n",
              "    \n",
              "\n",
              "    \n",
              "\n",
              "\n",
              "    \n",
              "\n",
              "    \n",
              "\n",
              "    \n",
              "\n",
              "    \n",
              "\n",
              "    \n",
              "        <table class=\"eli5-weights eli5-feature-importances\" style=\"border-collapse: collapse; border: none; margin-top: 0em; table-layout: auto;\">\n",
              "    <thead>\n",
              "    <tr style=\"border: none;\">\n",
              "        <th style=\"padding: 0 1em 0 0.5em; text-align: right; border: none;\">Weight</th>\n",
              "        <th style=\"padding: 0 0.5em 0 0.5em; text-align: left; border: none;\">Feature</th>\n",
              "    </tr>\n",
              "    </thead>\n",
              "    <tbody>\n",
              "    \n",
              "        <tr style=\"background-color: hsl(120, 100.00%, 80.00%); border: none;\">\n",
              "            <td style=\"padding: 0 1em 0 0.5em; text-align: right; border: none;\">\n",
              "                0.1504\n",
              "                \n",
              "                    &plusmn; 0.0018\n",
              "                \n",
              "            </td>\n",
              "            <td style=\"padding: 0 0.5em 0 0.5em; text-align: left; border: none;\">\n",
              "                num__total_debt\n",
              "            </td>\n",
              "        </tr>\n",
              "    \n",
              "        <tr style=\"background-color: hsl(120, 100.00%, 85.87%); border: none;\">\n",
              "            <td style=\"padding: 0 1em 0 0.5em; text-align: right; border: none;\">\n",
              "                0.0916\n",
              "                \n",
              "                    &plusmn; 0.0017\n",
              "                \n",
              "            </td>\n",
              "            <td style=\"padding: 0 0.5em 0 0.5em; text-align: left; border: none;\">\n",
              "                num__n_completed_sem\n",
              "            </td>\n",
              "        </tr>\n",
              "    \n",
              "        <tr style=\"background-color: hsl(120, 100.00%, 86.00%); border: none;\">\n",
              "            <td style=\"padding: 0 1em 0 0.5em; text-align: right; border: none;\">\n",
              "                0.0904\n",
              "                \n",
              "                    &plusmn; 0.0020\n",
              "                \n",
              "            </td>\n",
              "            <td style=\"padding: 0 0.5em 0 0.5em; text-align: left; border: none;\">\n",
              "                num__loan_limit\n",
              "            </td>\n",
              "        </tr>\n",
              "    \n",
              "        <tr style=\"background-color: hsl(120, 100.00%, 86.15%); border: none;\">\n",
              "            <td style=\"padding: 0 1em 0 0.5em; text-align: right; border: none;\">\n",
              "                0.0890\n",
              "                \n",
              "                    &plusmn; 0.0017\n",
              "                \n",
              "            </td>\n",
              "            <td style=\"padding: 0 0.5em 0 0.5em; text-align: left; border: none;\">\n",
              "                num__sem_funded\n",
              "            </td>\n",
              "        </tr>\n",
              "    \n",
              "        <tr style=\"background-color: hsl(120, 100.00%, 86.30%); border: none;\">\n",
              "            <td style=\"padding: 0 1em 0 0.5em; text-align: right; border: none;\">\n",
              "                0.0876\n",
              "                \n",
              "                    &plusmn; 0.0010\n",
              "                \n",
              "            </td>\n",
              "            <td style=\"padding: 0 0.5em 0 0.5em; text-align: left; border: none;\">\n",
              "                num__loan_value\n",
              "            </td>\n",
              "        </tr>\n",
              "    \n",
              "        <tr style=\"background-color: hsl(120, 100.00%, 89.03%); border: none;\">\n",
              "            <td style=\"padding: 0 1em 0 0.5em; text-align: right; border: none;\">\n",
              "                0.0637\n",
              "                \n",
              "                    &plusmn; 0.0021\n",
              "                \n",
              "            </td>\n",
              "            <td style=\"padding: 0 0.5em 0 0.5em; text-align: left; border: none;\">\n",
              "                num__n_sem_course\n",
              "            </td>\n",
              "        </tr>\n",
              "    \n",
              "        <tr style=\"background-color: hsl(120, 100.00%, 93.61%); border: none;\">\n",
              "            <td style=\"padding: 0 1em 0 0.5em; text-align: right; border: none;\">\n",
              "                0.0295\n",
              "                \n",
              "                    &plusmn; 0.0013\n",
              "                \n",
              "            </td>\n",
              "            <td style=\"padding: 0 0.5em 0 0.5em; text-align: left; border: none;\">\n",
              "                one_hot__x0_12014\n",
              "            </td>\n",
              "        </tr>\n",
              "    \n",
              "        <tr style=\"background-color: hsl(120, 100.00%, 94.24%); border: none;\">\n",
              "            <td style=\"padding: 0 1em 0 0.5em; text-align: right; border: none;\">\n",
              "                0.0254\n",
              "                \n",
              "                    &plusmn; 0.0012\n",
              "                \n",
              "            </td>\n",
              "            <td style=\"padding: 0 0.5em 0 0.5em; text-align: left; border: none;\">\n",
              "                one_hot__x0_22014\n",
              "            </td>\n",
              "        </tr>\n",
              "    \n",
              "        <tr style=\"background-color: hsl(120, 100.00%, 94.33%); border: none;\">\n",
              "            <td style=\"padding: 0 1em 0 0.5em; text-align: right; border: none;\">\n",
              "                0.0248\n",
              "                \n",
              "                    &plusmn; 0.0016\n",
              "                \n",
              "            </td>\n",
              "            <td style=\"padding: 0 0.5em 0 0.5em; text-align: left; border: none;\">\n",
              "                num__loan_value_sem\n",
              "            </td>\n",
              "        </tr>\n",
              "    \n",
              "        <tr style=\"background-color: hsl(120, 100.00%, 94.45%); border: none;\">\n",
              "            <td style=\"padding: 0 1em 0 0.5em; text-align: right; border: none;\">\n",
              "                0.0241\n",
              "                \n",
              "                    &plusmn; 0.0011\n",
              "                \n",
              "            </td>\n",
              "            <td style=\"padding: 0 0.5em 0 0.5em; text-align: left; border: none;\">\n",
              "                one_hot__x0_12012\n",
              "            </td>\n",
              "        </tr>\n",
              "    \n",
              "        <tr style=\"background-color: hsl(120, 100.00%, 94.63%); border: none;\">\n",
              "            <td style=\"padding: 0 1em 0 0.5em; text-align: right; border: none;\">\n",
              "                0.0230\n",
              "                \n",
              "                    &plusmn; 0.0016\n",
              "                \n",
              "            </td>\n",
              "            <td style=\"padding: 0 0.5em 0 0.5em; text-align: left; border: none;\">\n",
              "                ord__date_contract\n",
              "            </td>\n",
              "        </tr>\n",
              "    \n",
              "        <tr style=\"background-color: hsl(120, 100.00%, 95.06%); border: none;\">\n",
              "            <td style=\"padding: 0 1em 0 0.5em; text-align: right; border: none;\">\n",
              "                0.0204\n",
              "                \n",
              "                    &plusmn; 0.0008\n",
              "                \n",
              "            </td>\n",
              "            <td style=\"padding: 0 0.5em 0 0.5em; text-align: left; border: none;\">\n",
              "                num__student_resource\n",
              "            </td>\n",
              "        </tr>\n",
              "    \n",
              "        <tr style=\"background-color: hsl(120, 100.00%, 95.85%); border: none;\">\n",
              "            <td style=\"padding: 0 1em 0 0.5em; text-align: right; border: none;\">\n",
              "                0.0159\n",
              "                \n",
              "                    &plusmn; 0.0005\n",
              "                \n",
              "            </td>\n",
              "            <td style=\"padding: 0 0.5em 0 0.5em; text-align: left; border: none;\">\n",
              "                num__tuition_current\n",
              "            </td>\n",
              "        </tr>\n",
              "    \n",
              "        <tr style=\"background-color: hsl(120, 100.00%, 97.17%); border: none;\">\n",
              "            <td style=\"padding: 0 1em 0 0.5em; text-align: right; border: none;\">\n",
              "                0.0092\n",
              "                \n",
              "                    &plusmn; 0.0024\n",
              "                \n",
              "            </td>\n",
              "            <td style=\"padding: 0 0.5em 0 0.5em; text-align: left; border: none;\">\n",
              "                num__family_income\n",
              "            </td>\n",
              "        </tr>\n",
              "    \n",
              "        <tr style=\"background-color: hsl(120, 100.00%, 97.26%); border: none;\">\n",
              "            <td style=\"padding: 0 1em 0 0.5em; text-align: right; border: none;\">\n",
              "                0.0088\n",
              "                \n",
              "                    &plusmn; 0.0009\n",
              "                \n",
              "            </td>\n",
              "            <td style=\"padding: 0 0.5em 0 0.5em; text-align: left; border: none;\">\n",
              "                num__income_pc\n",
              "            </td>\n",
              "        </tr>\n",
              "    \n",
              "        <tr style=\"background-color: hsl(120, 100.00%, 97.62%); border: none;\">\n",
              "            <td style=\"padding: 0 1em 0 0.5em; text-align: right; border: none;\">\n",
              "                0.0072\n",
              "                \n",
              "                    &plusmn; 0.0011\n",
              "                \n",
              "            </td>\n",
              "            <td style=\"padding: 0 0.5em 0 0.5em; text-align: left; border: none;\">\n",
              "                num__age\n",
              "            </td>\n",
              "        </tr>\n",
              "    \n",
              "        <tr style=\"background-color: hsl(120, 100.00%, 97.64%); border: none;\">\n",
              "            <td style=\"padding: 0 1em 0 0.5em; text-align: right; border: none;\">\n",
              "                0.0071\n",
              "                \n",
              "                    &plusmn; 0.0006\n",
              "                \n",
              "            </td>\n",
              "            <td style=\"padding: 0 0.5em 0 0.5em; text-align: left; border: none;\">\n",
              "                one_hot__x0_22012\n",
              "            </td>\n",
              "        </tr>\n",
              "    \n",
              "        <tr style=\"background-color: hsl(120, 100.00%, 97.90%); border: none;\">\n",
              "            <td style=\"padding: 0 1em 0 0.5em; text-align: right; border: none;\">\n",
              "                0.0060\n",
              "                \n",
              "                    &plusmn; 0.0006\n",
              "                \n",
              "            </td>\n",
              "            <td style=\"padding: 0 0.5em 0 0.5em; text-align: left; border: none;\">\n",
              "                one_hot__x0_before 2012\n",
              "            </td>\n",
              "        </tr>\n",
              "    \n",
              "        <tr style=\"background-color: hsl(120, 100.00%, 98.23%); border: none;\">\n",
              "            <td style=\"padding: 0 1em 0 0.5em; text-align: right; border: none;\">\n",
              "                0.0047\n",
              "                \n",
              "                    &plusmn; 0.0007\n",
              "                \n",
              "            </td>\n",
              "            <td style=\"padding: 0 0.5em 0 0.5em; text-align: left; border: none;\">\n",
              "                one_hot__x0_22013\n",
              "            </td>\n",
              "        </tr>\n",
              "    \n",
              "        <tr style=\"background-color: hsl(120, 100.00%, 98.48%); border: none;\">\n",
              "            <td style=\"padding: 0 1em 0 0.5em; text-align: right; border: none;\">\n",
              "                0.0038\n",
              "                \n",
              "                    &plusmn; 0.0008\n",
              "                \n",
              "            </td>\n",
              "            <td style=\"padding: 0 0.5em 0 0.5em; text-align: left; border: none;\">\n",
              "                one_hot__x2_OUTRAS\n",
              "            </td>\n",
              "        </tr>\n",
              "    \n",
              "    \n",
              "        \n",
              "            <tr style=\"background-color: hsl(120, 100.00%, 98.48%); border: none;\">\n",
              "                <td colspan=\"2\" style=\"padding: 0 0.5em 0 0.5em; text-align: center; border: none; white-space: nowrap;\">\n",
              "                    <i>&hellip; 74 more &hellip;</i>\n",
              "                </td>\n",
              "            </tr>\n",
              "        \n",
              "    \n",
              "    </tbody>\n",
              "</table>\n",
              "    \n",
              "\n",
              "    \n",
              "\n",
              "\n",
              "    \n",
              "\n",
              "    \n",
              "\n",
              "    \n",
              "\n",
              "    \n",
              "\n",
              "    \n",
              "\n",
              "    \n",
              "\n",
              "\n",
              "\n"
            ],
            "text/plain": [
              "<IPython.core.display.HTML object>"
            ]
          },
          "metadata": {
            "tags": []
          },
          "execution_count": 23
        }
      ]
    },
    {
      "cell_type": "code",
      "metadata": {
        "colab": {
          "base_uri": "https://localhost:8080/"
        },
        "id": "yfyRT1eEyOYo",
        "outputId": "498ce9b4-4912-455e-8590-b4862f33d2ac"
      },
      "source": [
        "import joblib\n",
        "\n",
        "filename = 'FeatureImportance.sav'\n",
        "joblib.dump(perm, filename, compress=3)"
      ],
      "execution_count": 24,
      "outputs": [
        {
          "output_type": "execute_result",
          "data": {
            "text/plain": [
              "['FeatureImportance.sav']"
            ]
          },
          "metadata": {
            "tags": []
          },
          "execution_count": 24
        }
      ]
    },
    {
      "cell_type": "code",
      "metadata": {
        "colab": {
          "base_uri": "https://localhost:8080/",
          "height": 318
        },
        "id": "8EckDvAOWiAQ",
        "outputId": "6c81fe2a-5aa8-4b8e-e1c8-145ccf919998"
      },
      "source": [
        "import seaborn as seaborn\n",
        "\n",
        "importance_f = eli5.explain_weights_df(perm, feature_names=feature_names).head(10)\n",
        "\n",
        "importance_f[\"New_names\"] = [\"Total Debt\", \n",
        "                             \"Number of completed semesters\",\n",
        "                             \"Loan Limit\",\n",
        "                             \"Semesters funded\",\n",
        "                             \"Loan Value\",\n",
        "                             \"Number of course semesters\",\n",
        "                             \"Semester of enrollment: 2014-01\",\n",
        "                             \"Semester of enrollment: 2014-02\",\n",
        "                             \"Loan Value per semester\",\n",
        "                             \"Semester of enrollment: 2012-02\"]\n",
        "\n",
        "sns.set_theme(style=\"whitegrid\")\n",
        "ax = sns.barplot(x=\"weight\", y=\"New_names\", data=importance_f)\n",
        "ax.set_ylabel(\"Features\")\n",
        "ax.set_xlabel(\"Permutation Importance\")\n",
        "ax.set_title('10 most important features')\n"
      ],
      "execution_count": 75,
      "outputs": [
        {
          "output_type": "execute_result",
          "data": {
            "text/plain": [
              "Text(0.5, 1.0, '10 most important features')"
            ]
          },
          "metadata": {
            "tags": []
          },
          "execution_count": 75
        },
        {
          "output_type": "display_data",
          "data": {
            "image/png": "[encoded data removed]",
            "text/plain": [
              "<Figure size 432x288 with 1 Axes>"
            ]
          },
          "metadata": {
            "tags": []
          }
        }
      ]
    }
  ]
}